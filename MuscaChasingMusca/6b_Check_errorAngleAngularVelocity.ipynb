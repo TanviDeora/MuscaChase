{
 "cells": [
  {
   "cell_type": "code",
   "execution_count": 1,
   "id": "f7d1b15d",
   "metadata": {},
   "outputs": [],
   "source": [
    "import pandas as pd\n",
    "import numpy as np\n",
    "import pandas as pd\n",
    "import glob"
   ]
  },
  {
   "cell_type": "code",
   "execution_count": 2,
   "id": "a853a8f2",
   "metadata": {},
   "outputs": [],
   "source": [
    "import plotly.graph_objects as go\n",
    "from plotly.subplots import make_subplots\n",
    "\n",
    "from scipy import signal"
   ]
  },
  {
   "cell_type": "code",
   "execution_count": 3,
   "id": "0e3a40b6",
   "metadata": {},
   "outputs": [
    {
     "data": {
      "text/plain": [
       "['./../dataFolders/MuscaChasingMusca/Outputs/Sampled_100fps/ChaseParameters\\\\2023-04-19_Trial7_Set1_5k_smoothened_interpol_COM_ChaseErrorAngle_TurningAngle.csv',\n",
       " './../dataFolders/MuscaChasingMusca/Outputs/Sampled_100fps/ChaseParameters\\\\2023-04-21_Trial6_1k_smoothened_interpol_COM_ChaseErrorAngle_TurningAngle.csv',\n",
       " './../dataFolders/MuscaChasingMusca/Outputs/Sampled_100fps/ChaseParameters\\\\2023-04-21_Trial7_1k_smoothened_interpol_COM_ChaseErrorAngle_TurningAngle.csv',\n",
       " './../dataFolders/MuscaChasingMusca/Outputs/Sampled_100fps/ChaseParameters\\\\2023-04-28_Trial4_5k_smoothened_interpol_COM_ChaseErrorAngle_TurningAngle.csv',\n",
       " './../dataFolders/MuscaChasingMusca/Outputs/Sampled_100fps/ChaseParameters\\\\2023-04-28_Trial5_5k_smoothened_interpol_COM_ChaseErrorAngle_TurningAngle.csv',\n",
       " './../dataFolders/MuscaChasingMusca/Outputs/Sampled_100fps/ChaseParameters\\\\2023-04-28_Trial8_1k_smoothened_interpol_COM_ChaseErrorAngle_TurningAngle.csv']"
      ]
     },
     "execution_count": 3,
     "metadata": {},
     "output_type": "execute_result"
    }
   ],
   "source": [
    "chase_param = glob.glob('./../dataFolders/MuscaChasingMusca/Outputs/Sampled_100fps/ChaseParameters/*ChaseError*.csv')\n",
    "chase_param"
   ]
  },
  {
   "cell_type": "code",
   "execution_count": 4,
   "id": "06763785",
   "metadata": {},
   "outputs": [
    {
     "data": {
      "text/plain": [
       "['./../dataFolders/MuscaChasingMusca/Outputs/Sampled_100fps/Speed\\\\2023-04-19_Trial7_Set1_5k_smoothened_interpol_COM_AnglularSpeedAcc.csv',\n",
       " './../dataFolders/MuscaChasingMusca/Outputs/Sampled_100fps/Speed\\\\2023-04-19_Trial7_Set1_5k_smoothened_interpol_COM_LinearSpeedAcc.csv',\n",
       " './../dataFolders/MuscaChasingMusca/Outputs/Sampled_100fps/Speed\\\\2023-04-21_Trial6_1k_smoothened_interpol_COM_AnglularSpeedAcc.csv',\n",
       " './../dataFolders/MuscaChasingMusca/Outputs/Sampled_100fps/Speed\\\\2023-04-21_Trial6_1k_smoothened_interpol_COM_LinearSpeedAcc.csv',\n",
       " './../dataFolders/MuscaChasingMusca/Outputs/Sampled_100fps/Speed\\\\2023-04-21_Trial7_1k_smoothened_interpol_COM_AnglularSpeedAcc.csv',\n",
       " './../dataFolders/MuscaChasingMusca/Outputs/Sampled_100fps/Speed\\\\2023-04-21_Trial7_1k_smoothened_interpol_COM_LinearSpeedAcc.csv',\n",
       " './../dataFolders/MuscaChasingMusca/Outputs/Sampled_100fps/Speed\\\\2023-04-28_Trial4_5k_smoothened_interpol_COM_AnglularSpeedAcc.csv',\n",
       " './../dataFolders/MuscaChasingMusca/Outputs/Sampled_100fps/Speed\\\\2023-04-28_Trial4_5k_smoothened_interpol_COM_LinearSpeedAcc.csv',\n",
       " './../dataFolders/MuscaChasingMusca/Outputs/Sampled_100fps/Speed\\\\2023-04-28_Trial5_5k_smoothened_interpol_COM_AnglularSpeedAcc.csv',\n",
       " './../dataFolders/MuscaChasingMusca/Outputs/Sampled_100fps/Speed\\\\2023-04-28_Trial5_5k_smoothened_interpol_COM_LinearSpeedAcc.csv',\n",
       " './../dataFolders/MuscaChasingMusca/Outputs/Sampled_100fps/Speed\\\\2023-04-28_Trial8_1k_smoothened_interpol_COM_AnglularSpeedAcc.csv',\n",
       " './../dataFolders/MuscaChasingMusca/Outputs/Sampled_100fps/Speed\\\\2023-04-28_Trial8_1k_smoothened_interpol_COM_LinearSpeedAcc.csv']"
      ]
     },
     "execution_count": 4,
     "metadata": {},
     "output_type": "execute_result"
    }
   ],
   "source": [
    "# speed_param = glob.glob('./../dataFolders/MuscaChasingMusca/Outputs/Sampled_1k/Speeds/*COM*.csv')\n",
    "speed_param = glob.glob('./../dataFolders/MuscaChasingMusca/Outputs/Sampled_100fps/Speed/*COM*_*Speed*.csv')\n",
    "speed_param"
   ]
  },
  {
   "cell_type": "code",
   "execution_count": 6,
   "id": "37d05b6b",
   "metadata": {},
   "outputs": [
    {
     "data": {
      "text/plain": [
       "['./../dataFolders/MuscaChasingMusca/Outputs/Sampled_100fps/COM\\\\2023-04-19_Trial7_Set1_5k_smoothened_interpol_COM.csv',\n",
       " './../dataFolders/MuscaChasingMusca/Outputs/Sampled_100fps/COM\\\\2023-04-21_Trial6_1k_smoothened_interpol_COM.csv',\n",
       " './../dataFolders/MuscaChasingMusca/Outputs/Sampled_100fps/COM\\\\2023-04-21_Trial7_1k_smoothened_interpol_COM.csv',\n",
       " './../dataFolders/MuscaChasingMusca/Outputs/Sampled_100fps/COM\\\\2023-04-28_Trial4_5k_smoothened_interpol_COM.csv',\n",
       " './../dataFolders/MuscaChasingMusca/Outputs/Sampled_100fps/COM\\\\2023-04-28_Trial5_5k_smoothened_interpol_COM.csv',\n",
       " './../dataFolders/MuscaChasingMusca/Outputs/Sampled_100fps/COM\\\\2023-04-28_Trial8_1k_smoothened_interpol_COM.csv']"
      ]
     },
     "execution_count": 6,
     "metadata": {},
     "output_type": "execute_result"
    }
   ],
   "source": [
    "raw_positions = glob.glob('./../dataFolders/MuscaChasingMusca/Outputs/Sampled_100fps/COM/*COM.csv')\n",
    "raw_positions"
   ]
  },
  {
   "cell_type": "code",
   "execution_count": 7,
   "id": "e90956ec",
   "metadata": {},
   "outputs": [],
   "source": [
    "framerate = 100 # sampled at 100fps"
   ]
  },
  {
   "cell_type": "code",
   "execution_count": 72,
   "id": "90ae3e11",
   "metadata": {},
   "outputs": [],
   "source": [
    "# for chase in chase_param:\n",
    "chase = chase_param[5]\n",
    "chase_df = pd.read_csv(chase)\n",
    "#     name = chase.split('\\\\')[1][:-53]\n",
    "name = chase.split('\\\\')[1][:-56]\n",
    "\n",
    "speed_list = [speed for speed in speed_param if name  in speed]\n",
    "angular_speed_df = pd.read_csv([s for s in speed_list if \"Anglular\" in s][0])\n",
    "linear_speed_df = pd.read_csv([s for s in speed_list if 'Linear' in s][0])\n",
    "\n",
    "com_df = pd.read_csv([com for com in raw_positions if name in com][0])\n",
    "\n",
    "time_Axis = np.arange(len(chase_df))* 1e3/framerate # in milliseconds"
   ]
  },
  {
   "cell_type": "code",
   "execution_count": 73,
   "id": "5c769da7",
   "metadata": {},
   "outputs": [
    {
     "name": "stdout",
     "output_type": "stream",
     "text": [
      "./../dataFolders/MuscaChasingMusca/Outputs/Sampled_100fps/ChaseParameters\\2023-04-28_Trial8_1k_smoothened_interpol_COM_ChaseErrorAngle_TurningAngle.csv\n",
      "2023-04-28_Trial8_1k_\n"
     ]
    }
   ],
   "source": [
    "print(chase)\n",
    "print(name)"
   ]
  },
  {
   "cell_type": "code",
   "execution_count": 74,
   "id": "b24d25f1",
   "metadata": {},
   "outputs": [
    {
     "data": {
      "application/vnd.plotly.v1+json": {
       "config": {
        "plotlyServerURL": "https://plot.ly"
       },
       "data": [
        {
         "line": {
          "color": "black"
         },
         "mode": "lines",
         "name": "Line",
         "scene": "scene",
         "type": "scatter3d",
         "x": [
          0.0923831865079365,
          0.091256746031746,
          0.0876436507936508,
          0.0808040312499999,
          0.0773440624999999,
          0.0758268749999999,
          0.0761657656249999,
          0.0775346874999999,
          0.0787169531249999,
          0.0793403593749999,
          0.0792698906249999,
          0.0785223124999999,
          0.0770551874999999,
          0.0750698906249999,
          0.0740018650793651,
          0.0717059603174603,
          0.0692608293650794
         ],
         "y": [
          0.0749078492063492,
          0.0774003611111111,
          0.0796910634920635,
          0.0806018125,
          0.0782105156249999,
          0.0734189374999998,
          0.0668851718749999,
          0.0594595312499999,
          0.0516035937499999,
          0.0432321718749999,
          0.0341382812499999,
          0.0237831718749998,
          0.0121719218749999,
          -0.0002450625,
          -0.0066595634920634,
          -0.0197049682539682,
          -0.0327902063492063
         ],
         "z": [
          -0.0326913571428571,
          -0.0292091428571428,
          -0.0244063571428571,
          -0.0151327499999999,
          -0.0078409687499999,
          5.859375000049879e-06,
          0.0082399999999999,
          0.0167772656249999,
          0.0254359531249999,
          0.0340576249999999,
          0.042619859375,
          0.0508867187499999,
          0.0588755624999999,
          0.066835609375,
          0.0708562857142857,
          0.0791595714285714,
          0.0880143928571428
         ]
        },
        {
         "line": {
          "color": "black",
          "width": 1
         },
         "mode": "lines",
         "name": "Line",
         "scene": "scene",
         "type": "scatter3d",
         "x": [
          0.0379301626984125,
          0.0433097222222222,
          0.048344484126984,
          0.0552722031249999,
          0.0595541249999999,
          0.0635950781249999,
          0.0673072031249999,
          0.0705151874999999,
          0.0729335781249999,
          0.0745617968749999,
          0.0754331093749999,
          0.0756746093749999,
          0.0754067187499999,
          0.0745708749999999,
          0.0739740317460317,
          0.0724423055555556,
          0.0704984246031746
         ],
         "y": [
          0.0759685595238095,
          0.0709300238095237,
          0.0655928095238095,
          0.0571400312499999,
          0.0512446874999999,
          0.0451740468749999,
          0.0387908906249999,
          0.0319747656249999,
          0.0247259687499999,
          0.0169981406249999,
          0.0088422187499999,
          0.0003777499999999,
          -0.0084179843749999,
          -0.0174414374999999,
          -0.0220199603174603,
          -0.0311758055555555,
          -0.0401877817460317
         ],
         "z": [
          0.0021608492063491,
          0.0100453968253968,
          0.0182329206349206,
          0.0306053124999999,
          0.0386212499999999,
          0.0463986874999999,
          0.0537888906249999,
          0.0606256718749999,
          0.0667902187499999,
          0.0722581249999999,
          0.0771446718749999,
          0.0815654218749999,
          0.0855459531249999,
          0.0891597031249999,
          0.0908214444444445,
          0.0938001706349207,
          0.0962705873015873
         ]
        },
        {
         "marker": {
          "color": "black",
          "size": 3,
          "symbol": "circle"
         },
         "mode": "markers",
         "name": "Markers_chaser",
         "scene": "scene",
         "type": "scatter3d",
         "x": [
          0.0923831865079365,
          0.0792698906249999
         ],
         "y": [
          0.0749078492063492,
          0.0341382812499999
         ],
         "z": [
          -0.0326913571428571,
          0.042619859375
         ]
        },
        {
         "marker": {
          "color": "black",
          "size": 3,
          "symbol": "circle-open"
         },
         "mode": "markers",
         "name": "Markers_chasee",
         "scene": "scene",
         "type": "scatter3d",
         "x": [
          0.0379301626984125,
          0.0754331093749999
         ],
         "y": [
          0.0759685595238095,
          0.0088422187499999
         ],
         "z": [
          0.0021608492063491,
          0.0771446718749999
         ]
        },
        {
         "mode": "text",
         "name": "Labels_chaser",
         "scene": "scene",
         "text": [
          "0"
         ],
         "textfont": {
          "color": "black",
          "size": 10
         },
         "textposition": "top center",
         "type": "scatter3d",
         "x": [
          0.0923831865079365
         ],
         "y": [
          0.0749078492063492
         ],
         "z": [
          -0.0326913571428571
         ]
        },
        {
         "mode": "text",
         "name": "Labels_chasee",
         "scene": "scene",
         "text": [
          "0"
         ],
         "textfont": {
          "color": "black",
          "size": 10
         },
         "textposition": "bottom left",
         "type": "scatter3d",
         "x": [
          0.0379301626984125
         ],
         "y": [
          0.0759685595238095
         ],
         "z": [
          0.0021608492063491
         ]
        },
        {
         "mode": "lines",
         "type": "scatter",
         "x": [
          0,
          10,
          20,
          30,
          40,
          50,
          60,
          70,
          80,
          90,
          100,
          110,
          120,
          130,
          140,
          150
         ],
         "xaxis": "x",
         "y": [
          68.70440137879953,
          45.64015245018839,
          37.67075306274941,
          14.684901494565674,
          -10.966185593701992,
          -23.4923334143812,
          -26.38905047619513,
          -21.810631313219368,
          -15.506136164246984,
          -9.047546416784115,
          -3.6860002535388254,
          1.3662002750494362,
          5.831128631959674,
          8.526021220557727,
          11.494075266282216,
          16.55666436464706
         ],
         "yaxis": "y"
        },
        {
         "marker": {
          "color": "black",
          "size": 5,
          "symbol": "circle"
         },
         "mode": "markers",
         "name": "theta",
         "type": "scatter",
         "x": [
          0,
          100
         ],
         "xaxis": "x",
         "y": [
          68.70440137879953,
          -3.6860002535388254
         ],
         "yaxis": "y"
        },
        {
         "mode": "lines",
         "type": "scatter",
         "x": [
          0,
          10,
          20,
          30,
          40,
          50,
          60,
          70,
          80,
          90,
          100,
          110,
          120,
          130,
          140,
          150
         ],
         "xaxis": "x2",
         "y": [
          28.82885549365345,
          36.78881282867362,
          36.80120523733659,
          31.050662582745794,
          21.72181472800468,
          8.290697389720851,
          -0.871804318095166,
          -5.101001936492062,
          -5.2947218831814595,
          -4.101081600412955,
          -3.296216782527753,
          -1.5314842243485023,
          -0.13378402091011576,
          0.2084403262442196,
          -1.1932546844286787
         ],
         "yaxis": "y2"
        },
        {
         "mode": "lines",
         "type": "scatter",
         "x": [
          0,
          10,
          20,
          30,
          40,
          50,
          60,
          70,
          80,
          90,
          100,
          110,
          120,
          130,
          140,
          150
         ],
         "xaxis": "x3",
         "y": [
          7.959957335020171,
          0.012392408662968535,
          -5.750542654590795,
          -9.328847854741113,
          -13.43111733828383,
          -9.162501707816016,
          -4.229197618396896,
          -0.19371994668939774,
          1.1936402827685049,
          0.8048648178852016,
          1.7647325581792508,
          1.3977002034383865,
          0.34222434715433536,
          -1.4016950106728983
         ],
         "yaxis": "y3"
        },
        {
         "marker": {
          "color": "black",
          "size": 5,
          "symbol": "circle"
         },
         "mode": "markers",
         "name": "omega_hat",
         "type": "scatter",
         "x": [
          0
         ],
         "xaxis": "x3",
         "y": [
          7.959957335020171
         ],
         "yaxis": "y3"
        }
       ],
       "layout": {
        "annotations": [
         {
          "font": {
           "color": "black",
           "size": 12
          },
          "showarrow": false,
          "text": "θ (angle between chaser and chasee)",
          "x": 0.85,
          "xanchor": "center",
          "xref": "paper",
          "y": 1,
          "yanchor": "bottom",
          "yref": "paper"
         },
         {
          "font": {
           "color": "black",
           "size": 12
          },
          "showarrow": false,
          "text": "ω (turning angle of chaser)",
          "x": 0.85,
          "xanchor": "center",
          "xref": "paper",
          "y": 0.6428571428571428,
          "yanchor": "bottom",
          "yref": "paper"
         },
         {
          "font": {
           "color": "black",
           "size": 12
          },
          "showarrow": false,
          "text": "ω̂ (rate of turning angle of chaser)",
          "x": 0.85,
          "xanchor": "center",
          "xref": "paper",
          "y": 0.2857142857142857,
          "yanchor": "bottom",
          "yref": "paper"
         }
        ],
        "height": 800,
        "scene": {
         "aspectmode": "cube",
         "camera": {
          "eye": {
           "x": 0,
           "y": 0,
           "z": 2.5
          }
         },
         "domain": {
          "x": [
           0,
           0.6444444444444445
          ],
          "y": [
           0,
           1
          ]
         }
        },
        "showlegend": false,
        "template": {
         "data": {
          "bar": [
           {
            "error_x": {
             "color": "#2a3f5f"
            },
            "error_y": {
             "color": "#2a3f5f"
            },
            "marker": {
             "line": {
              "color": "#E5ECF6",
              "width": 0.5
             },
             "pattern": {
              "fillmode": "overlay",
              "size": 10,
              "solidity": 0.2
             }
            },
            "type": "bar"
           }
          ],
          "barpolar": [
           {
            "marker": {
             "line": {
              "color": "#E5ECF6",
              "width": 0.5
             },
             "pattern": {
              "fillmode": "overlay",
              "size": 10,
              "solidity": 0.2
             }
            },
            "type": "barpolar"
           }
          ],
          "carpet": [
           {
            "aaxis": {
             "endlinecolor": "#2a3f5f",
             "gridcolor": "white",
             "linecolor": "white",
             "minorgridcolor": "white",
             "startlinecolor": "#2a3f5f"
            },
            "baxis": {
             "endlinecolor": "#2a3f5f",
             "gridcolor": "white",
             "linecolor": "white",
             "minorgridcolor": "white",
             "startlinecolor": "#2a3f5f"
            },
            "type": "carpet"
           }
          ],
          "choropleth": [
           {
            "colorbar": {
             "outlinewidth": 0,
             "ticks": ""
            },
            "type": "choropleth"
           }
          ],
          "contour": [
           {
            "colorbar": {
             "outlinewidth": 0,
             "ticks": ""
            },
            "colorscale": [
             [
              0,
              "#0d0887"
             ],
             [
              0.1111111111111111,
              "#46039f"
             ],
             [
              0.2222222222222222,
              "#7201a8"
             ],
             [
              0.3333333333333333,
              "#9c179e"
             ],
             [
              0.4444444444444444,
              "#bd3786"
             ],
             [
              0.5555555555555556,
              "#d8576b"
             ],
             [
              0.6666666666666666,
              "#ed7953"
             ],
             [
              0.7777777777777778,
              "#fb9f3a"
             ],
             [
              0.8888888888888888,
              "#fdca26"
             ],
             [
              1,
              "#f0f921"
             ]
            ],
            "type": "contour"
           }
          ],
          "contourcarpet": [
           {
            "colorbar": {
             "outlinewidth": 0,
             "ticks": ""
            },
            "type": "contourcarpet"
           }
          ],
          "heatmap": [
           {
            "colorbar": {
             "outlinewidth": 0,
             "ticks": ""
            },
            "colorscale": [
             [
              0,
              "#0d0887"
             ],
             [
              0.1111111111111111,
              "#46039f"
             ],
             [
              0.2222222222222222,
              "#7201a8"
             ],
             [
              0.3333333333333333,
              "#9c179e"
             ],
             [
              0.4444444444444444,
              "#bd3786"
             ],
             [
              0.5555555555555556,
              "#d8576b"
             ],
             [
              0.6666666666666666,
              "#ed7953"
             ],
             [
              0.7777777777777778,
              "#fb9f3a"
             ],
             [
              0.8888888888888888,
              "#fdca26"
             ],
             [
              1,
              "#f0f921"
             ]
            ],
            "type": "heatmap"
           }
          ],
          "heatmapgl": [
           {
            "colorbar": {
             "outlinewidth": 0,
             "ticks": ""
            },
            "colorscale": [
             [
              0,
              "#0d0887"
             ],
             [
              0.1111111111111111,
              "#46039f"
             ],
             [
              0.2222222222222222,
              "#7201a8"
             ],
             [
              0.3333333333333333,
              "#9c179e"
             ],
             [
              0.4444444444444444,
              "#bd3786"
             ],
             [
              0.5555555555555556,
              "#d8576b"
             ],
             [
              0.6666666666666666,
              "#ed7953"
             ],
             [
              0.7777777777777778,
              "#fb9f3a"
             ],
             [
              0.8888888888888888,
              "#fdca26"
             ],
             [
              1,
              "#f0f921"
             ]
            ],
            "type": "heatmapgl"
           }
          ],
          "histogram": [
           {
            "marker": {
             "pattern": {
              "fillmode": "overlay",
              "size": 10,
              "solidity": 0.2
             }
            },
            "type": "histogram"
           }
          ],
          "histogram2d": [
           {
            "colorbar": {
             "outlinewidth": 0,
             "ticks": ""
            },
            "colorscale": [
             [
              0,
              "#0d0887"
             ],
             [
              0.1111111111111111,
              "#46039f"
             ],
             [
              0.2222222222222222,
              "#7201a8"
             ],
             [
              0.3333333333333333,
              "#9c179e"
             ],
             [
              0.4444444444444444,
              "#bd3786"
             ],
             [
              0.5555555555555556,
              "#d8576b"
             ],
             [
              0.6666666666666666,
              "#ed7953"
             ],
             [
              0.7777777777777778,
              "#fb9f3a"
             ],
             [
              0.8888888888888888,
              "#fdca26"
             ],
             [
              1,
              "#f0f921"
             ]
            ],
            "type": "histogram2d"
           }
          ],
          "histogram2dcontour": [
           {
            "colorbar": {
             "outlinewidth": 0,
             "ticks": ""
            },
            "colorscale": [
             [
              0,
              "#0d0887"
             ],
             [
              0.1111111111111111,
              "#46039f"
             ],
             [
              0.2222222222222222,
              "#7201a8"
             ],
             [
              0.3333333333333333,
              "#9c179e"
             ],
             [
              0.4444444444444444,
              "#bd3786"
             ],
             [
              0.5555555555555556,
              "#d8576b"
             ],
             [
              0.6666666666666666,
              "#ed7953"
             ],
             [
              0.7777777777777778,
              "#fb9f3a"
             ],
             [
              0.8888888888888888,
              "#fdca26"
             ],
             [
              1,
              "#f0f921"
             ]
            ],
            "type": "histogram2dcontour"
           }
          ],
          "mesh3d": [
           {
            "colorbar": {
             "outlinewidth": 0,
             "ticks": ""
            },
            "type": "mesh3d"
           }
          ],
          "parcoords": [
           {
            "line": {
             "colorbar": {
              "outlinewidth": 0,
              "ticks": ""
             }
            },
            "type": "parcoords"
           }
          ],
          "pie": [
           {
            "automargin": true,
            "type": "pie"
           }
          ],
          "scatter": [
           {
            "fillpattern": {
             "fillmode": "overlay",
             "size": 10,
             "solidity": 0.2
            },
            "type": "scatter"
           }
          ],
          "scatter3d": [
           {
            "line": {
             "colorbar": {
              "outlinewidth": 0,
              "ticks": ""
             }
            },
            "marker": {
             "colorbar": {
              "outlinewidth": 0,
              "ticks": ""
             }
            },
            "type": "scatter3d"
           }
          ],
          "scattercarpet": [
           {
            "marker": {
             "colorbar": {
              "outlinewidth": 0,
              "ticks": ""
             }
            },
            "type": "scattercarpet"
           }
          ],
          "scattergeo": [
           {
            "marker": {
             "colorbar": {
              "outlinewidth": 0,
              "ticks": ""
             }
            },
            "type": "scattergeo"
           }
          ],
          "scattergl": [
           {
            "marker": {
             "colorbar": {
              "outlinewidth": 0,
              "ticks": ""
             }
            },
            "type": "scattergl"
           }
          ],
          "scattermapbox": [
           {
            "marker": {
             "colorbar": {
              "outlinewidth": 0,
              "ticks": ""
             }
            },
            "type": "scattermapbox"
           }
          ],
          "scatterpolar": [
           {
            "marker": {
             "colorbar": {
              "outlinewidth": 0,
              "ticks": ""
             }
            },
            "type": "scatterpolar"
           }
          ],
          "scatterpolargl": [
           {
            "marker": {
             "colorbar": {
              "outlinewidth": 0,
              "ticks": ""
             }
            },
            "type": "scatterpolargl"
           }
          ],
          "scatterternary": [
           {
            "marker": {
             "colorbar": {
              "outlinewidth": 0,
              "ticks": ""
             }
            },
            "type": "scatterternary"
           }
          ],
          "surface": [
           {
            "colorbar": {
             "outlinewidth": 0,
             "ticks": ""
            },
            "colorscale": [
             [
              0,
              "#0d0887"
             ],
             [
              0.1111111111111111,
              "#46039f"
             ],
             [
              0.2222222222222222,
              "#7201a8"
             ],
             [
              0.3333333333333333,
              "#9c179e"
             ],
             [
              0.4444444444444444,
              "#bd3786"
             ],
             [
              0.5555555555555556,
              "#d8576b"
             ],
             [
              0.6666666666666666,
              "#ed7953"
             ],
             [
              0.7777777777777778,
              "#fb9f3a"
             ],
             [
              0.8888888888888888,
              "#fdca26"
             ],
             [
              1,
              "#f0f921"
             ]
            ],
            "type": "surface"
           }
          ],
          "table": [
           {
            "cells": {
             "fill": {
              "color": "#EBF0F8"
             },
             "line": {
              "color": "white"
             }
            },
            "header": {
             "fill": {
              "color": "#C8D4E3"
             },
             "line": {
              "color": "white"
             }
            },
            "type": "table"
           }
          ]
         },
         "layout": {
          "annotationdefaults": {
           "arrowcolor": "#2a3f5f",
           "arrowhead": 0,
           "arrowwidth": 1
          },
          "autotypenumbers": "strict",
          "coloraxis": {
           "colorbar": {
            "outlinewidth": 0,
            "ticks": ""
           }
          },
          "colorscale": {
           "diverging": [
            [
             0,
             "#8e0152"
            ],
            [
             0.1,
             "#c51b7d"
            ],
            [
             0.2,
             "#de77ae"
            ],
            [
             0.3,
             "#f1b6da"
            ],
            [
             0.4,
             "#fde0ef"
            ],
            [
             0.5,
             "#f7f7f7"
            ],
            [
             0.6,
             "#e6f5d0"
            ],
            [
             0.7,
             "#b8e186"
            ],
            [
             0.8,
             "#7fbc41"
            ],
            [
             0.9,
             "#4d9221"
            ],
            [
             1,
             "#276419"
            ]
           ],
           "sequential": [
            [
             0,
             "#0d0887"
            ],
            [
             0.1111111111111111,
             "#46039f"
            ],
            [
             0.2222222222222222,
             "#7201a8"
            ],
            [
             0.3333333333333333,
             "#9c179e"
            ],
            [
             0.4444444444444444,
             "#bd3786"
            ],
            [
             0.5555555555555556,
             "#d8576b"
            ],
            [
             0.6666666666666666,
             "#ed7953"
            ],
            [
             0.7777777777777778,
             "#fb9f3a"
            ],
            [
             0.8888888888888888,
             "#fdca26"
            ],
            [
             1,
             "#f0f921"
            ]
           ],
           "sequentialminus": [
            [
             0,
             "#0d0887"
            ],
            [
             0.1111111111111111,
             "#46039f"
            ],
            [
             0.2222222222222222,
             "#7201a8"
            ],
            [
             0.3333333333333333,
             "#9c179e"
            ],
            [
             0.4444444444444444,
             "#bd3786"
            ],
            [
             0.5555555555555556,
             "#d8576b"
            ],
            [
             0.6666666666666666,
             "#ed7953"
            ],
            [
             0.7777777777777778,
             "#fb9f3a"
            ],
            [
             0.8888888888888888,
             "#fdca26"
            ],
            [
             1,
             "#f0f921"
            ]
           ]
          },
          "colorway": [
           "#636efa",
           "#EF553B",
           "#00cc96",
           "#ab63fa",
           "#FFA15A",
           "#19d3f3",
           "#FF6692",
           "#B6E880",
           "#FF97FF",
           "#FECB52"
          ],
          "font": {
           "color": "#2a3f5f"
          },
          "geo": {
           "bgcolor": "white",
           "lakecolor": "white",
           "landcolor": "#E5ECF6",
           "showlakes": true,
           "showland": true,
           "subunitcolor": "white"
          },
          "hoverlabel": {
           "align": "left"
          },
          "hovermode": "closest",
          "mapbox": {
           "style": "light"
          },
          "paper_bgcolor": "white",
          "plot_bgcolor": "#E5ECF6",
          "polar": {
           "angularaxis": {
            "gridcolor": "white",
            "linecolor": "white",
            "ticks": ""
           },
           "bgcolor": "#E5ECF6",
           "radialaxis": {
            "gridcolor": "white",
            "linecolor": "white",
            "ticks": ""
           }
          },
          "scene": {
           "xaxis": {
            "backgroundcolor": "#E5ECF6",
            "gridcolor": "white",
            "gridwidth": 2,
            "linecolor": "white",
            "showbackground": true,
            "ticks": "",
            "zerolinecolor": "white"
           },
           "yaxis": {
            "backgroundcolor": "#E5ECF6",
            "gridcolor": "white",
            "gridwidth": 2,
            "linecolor": "white",
            "showbackground": true,
            "ticks": "",
            "zerolinecolor": "white"
           },
           "zaxis": {
            "backgroundcolor": "#E5ECF6",
            "gridcolor": "white",
            "gridwidth": 2,
            "linecolor": "white",
            "showbackground": true,
            "ticks": "",
            "zerolinecolor": "white"
           }
          },
          "shapedefaults": {
           "line": {
            "color": "#2a3f5f"
           }
          },
          "ternary": {
           "aaxis": {
            "gridcolor": "white",
            "linecolor": "white",
            "ticks": ""
           },
           "baxis": {
            "gridcolor": "white",
            "linecolor": "white",
            "ticks": ""
           },
           "bgcolor": "#E5ECF6",
           "caxis": {
            "gridcolor": "white",
            "linecolor": "white",
            "ticks": ""
           }
          },
          "title": {
           "x": 0.05
          },
          "xaxis": {
           "automargin": true,
           "gridcolor": "white",
           "linecolor": "white",
           "ticks": "",
           "title": {
            "standoff": 15
           },
           "zerolinecolor": "white",
           "zerolinewidth": 2
          },
          "yaxis": {
           "automargin": true,
           "gridcolor": "white",
           "linecolor": "white",
           "ticks": "",
           "title": {
            "standoff": 15
           },
           "zerolinecolor": "white",
           "zerolinewidth": 2
          }
         }
        },
        "width": 1000,
        "xaxis": {
         "anchor": "y",
         "domain": [
          0.7111111111111111,
          1
         ]
        },
        "xaxis2": {
         "anchor": "y2",
         "domain": [
          0.7111111111111111,
          1
         ]
        },
        "xaxis3": {
         "anchor": "y3",
         "domain": [
          0.7111111111111111,
          1
         ],
         "title": {
          "text": "Time (miliseconds)"
         }
        },
        "yaxis": {
         "anchor": "x",
         "domain": [
          0.7333333333333333,
          1
         ]
        },
        "yaxis2": {
         "anchor": "x2",
         "domain": [
          0.36666666666666664,
          0.6333333333333333
         ]
        },
        "yaxis3": {
         "anchor": "x3",
         "domain": [
          0,
          0.26666666666666666
         ],
         "showgrid": true,
         "title": {
          "text": "ω̂ (degree/s² * 1e3)"
         }
        }
       }
      },
      "text/html": [
       "<div>                            <div id=\"15ad0859-8010-49cc-a51c-fc6ac862f328\" class=\"plotly-graph-div\" style=\"height:800px; width:1000px;\"></div>            <script type=\"text/javascript\">                require([\"plotly\"], function(Plotly) {                    window.PLOTLYENV=window.PLOTLYENV || {};                                    if (document.getElementById(\"15ad0859-8010-49cc-a51c-fc6ac862f328\")) {                    Plotly.newPlot(                        \"15ad0859-8010-49cc-a51c-fc6ac862f328\",                        [{\"line\":{\"color\":\"black\"},\"mode\":\"lines\",\"name\":\"Line\",\"x\":[0.0923831865079365,0.091256746031746,0.0876436507936508,0.0808040312499999,0.0773440624999999,0.0758268749999999,0.0761657656249999,0.0775346874999999,0.0787169531249999,0.0793403593749999,0.0792698906249999,0.0785223124999999,0.0770551874999999,0.0750698906249999,0.0740018650793651,0.0717059603174603,0.0692608293650794],\"y\":[0.0749078492063492,0.0774003611111111,0.0796910634920635,0.0806018125,0.0782105156249999,0.0734189374999998,0.0668851718749999,0.0594595312499999,0.0516035937499999,0.0432321718749999,0.0341382812499999,0.0237831718749998,0.0121719218749999,-0.0002450625,-0.0066595634920634,-0.0197049682539682,-0.0327902063492063],\"z\":[-0.0326913571428571,-0.0292091428571428,-0.0244063571428571,-0.0151327499999999,-0.0078409687499999,5.859375000049879e-06,0.0082399999999999,0.0167772656249999,0.0254359531249999,0.0340576249999999,0.042619859375,0.0508867187499999,0.0588755624999999,0.066835609375,0.0708562857142857,0.0791595714285714,0.0880143928571428],\"type\":\"scatter3d\",\"scene\":\"scene\"},{\"line\":{\"color\":\"black\",\"width\":1},\"mode\":\"lines\",\"name\":\"Line\",\"x\":[0.0379301626984125,0.0433097222222222,0.048344484126984,0.0552722031249999,0.0595541249999999,0.0635950781249999,0.0673072031249999,0.0705151874999999,0.0729335781249999,0.0745617968749999,0.0754331093749999,0.0756746093749999,0.0754067187499999,0.0745708749999999,0.0739740317460317,0.0724423055555556,0.0704984246031746],\"y\":[0.0759685595238095,0.0709300238095237,0.0655928095238095,0.0571400312499999,0.0512446874999999,0.0451740468749999,0.0387908906249999,0.0319747656249999,0.0247259687499999,0.0169981406249999,0.0088422187499999,0.0003777499999999,-0.0084179843749999,-0.0174414374999999,-0.0220199603174603,-0.0311758055555555,-0.0401877817460317],\"z\":[0.0021608492063491,0.0100453968253968,0.0182329206349206,0.0306053124999999,0.0386212499999999,0.0463986874999999,0.0537888906249999,0.0606256718749999,0.0667902187499999,0.0722581249999999,0.0771446718749999,0.0815654218749999,0.0855459531249999,0.0891597031249999,0.0908214444444445,0.0938001706349207,0.0962705873015873],\"type\":\"scatter3d\",\"scene\":\"scene\"},{\"marker\":{\"color\":\"black\",\"size\":3,\"symbol\":\"circle\"},\"mode\":\"markers\",\"name\":\"Markers_chaser\",\"x\":[0.0923831865079365,0.0792698906249999],\"y\":[0.0749078492063492,0.0341382812499999],\"z\":[-0.0326913571428571,0.042619859375],\"type\":\"scatter3d\",\"scene\":\"scene\"},{\"marker\":{\"color\":\"black\",\"size\":3,\"symbol\":\"circle-open\"},\"mode\":\"markers\",\"name\":\"Markers_chasee\",\"x\":[0.0379301626984125,0.0754331093749999],\"y\":[0.0759685595238095,0.0088422187499999],\"z\":[0.0021608492063491,0.0771446718749999],\"type\":\"scatter3d\",\"scene\":\"scene\"},{\"mode\":\"text\",\"name\":\"Labels_chaser\",\"text\":[\"0\"],\"textfont\":{\"color\":\"black\",\"size\":10},\"textposition\":\"top center\",\"x\":[0.0923831865079365],\"y\":[0.0749078492063492],\"z\":[-0.0326913571428571],\"type\":\"scatter3d\",\"scene\":\"scene\"},{\"mode\":\"text\",\"name\":\"Labels_chasee\",\"text\":[\"0\"],\"textfont\":{\"color\":\"black\",\"size\":10},\"textposition\":\"bottom left\",\"x\":[0.0379301626984125],\"y\":[0.0759685595238095],\"z\":[0.0021608492063491],\"type\":\"scatter3d\",\"scene\":\"scene\"},{\"mode\":\"lines\",\"x\":[0.0,10.0,20.0,30.0,40.0,50.0,60.0,70.0,80.0,90.0,100.0,110.0,120.0,130.0,140.0,150.0],\"y\":[68.70440137879953,45.64015245018839,37.67075306274941,14.684901494565674,-10.966185593701992,-23.4923334143812,-26.38905047619513,-21.810631313219368,-15.506136164246984,-9.047546416784115,-3.6860002535388254,1.3662002750494362,5.831128631959674,8.526021220557727,11.494075266282216,16.55666436464706],\"type\":\"scatter\",\"xaxis\":\"x\",\"yaxis\":\"y\"},{\"marker\":{\"color\":\"black\",\"size\":5,\"symbol\":\"circle\"},\"mode\":\"markers\",\"name\":\"theta\",\"x\":[0.0,100.0],\"y\":[68.70440137879953,-3.6860002535388254],\"type\":\"scatter\",\"xaxis\":\"x\",\"yaxis\":\"y\"},{\"mode\":\"lines\",\"x\":[0.0,10.0,20.0,30.0,40.0,50.0,60.0,70.0,80.0,90.0,100.0,110.0,120.0,130.0,140.0,150.0],\"y\":[28.82885549365345,36.78881282867362,36.80120523733659,31.050662582745794,21.72181472800468,8.290697389720851,-0.871804318095166,-5.101001936492062,-5.2947218831814595,-4.101081600412955,-3.296216782527753,-1.5314842243485023,-0.13378402091011576,0.2084403262442196,-1.1932546844286787],\"type\":\"scatter\",\"xaxis\":\"x2\",\"yaxis\":\"y2\"},{\"mode\":\"lines\",\"x\":[0.0,10.0,20.0,30.0,40.0,50.0,60.0,70.0,80.0,90.0,100.0,110.0,120.0,130.0,140.0,150.0],\"y\":[7.959957335020171,0.012392408662968535,-5.750542654590795,-9.328847854741113,-13.43111733828383,-9.162501707816016,-4.229197618396896,-0.19371994668939774,1.1936402827685049,0.8048648178852016,1.7647325581792508,1.3977002034383865,0.34222434715433536,-1.4016950106728983],\"type\":\"scatter\",\"xaxis\":\"x3\",\"yaxis\":\"y3\"},{\"marker\":{\"color\":\"black\",\"size\":5,\"symbol\":\"circle\"},\"mode\":\"markers\",\"name\":\"omega_hat\",\"x\":[0.0],\"y\":[7.959957335020171],\"type\":\"scatter\",\"xaxis\":\"x3\",\"yaxis\":\"y3\"}],                        {\"template\":{\"data\":{\"histogram2dcontour\":[{\"type\":\"histogram2dcontour\",\"colorbar\":{\"outlinewidth\":0,\"ticks\":\"\"},\"colorscale\":[[0.0,\"#0d0887\"],[0.1111111111111111,\"#46039f\"],[0.2222222222222222,\"#7201a8\"],[0.3333333333333333,\"#9c179e\"],[0.4444444444444444,\"#bd3786\"],[0.5555555555555556,\"#d8576b\"],[0.6666666666666666,\"#ed7953\"],[0.7777777777777778,\"#fb9f3a\"],[0.8888888888888888,\"#fdca26\"],[1.0,\"#f0f921\"]]}],\"choropleth\":[{\"type\":\"choropleth\",\"colorbar\":{\"outlinewidth\":0,\"ticks\":\"\"}}],\"histogram2d\":[{\"type\":\"histogram2d\",\"colorbar\":{\"outlinewidth\":0,\"ticks\":\"\"},\"colorscale\":[[0.0,\"#0d0887\"],[0.1111111111111111,\"#46039f\"],[0.2222222222222222,\"#7201a8\"],[0.3333333333333333,\"#9c179e\"],[0.4444444444444444,\"#bd3786\"],[0.5555555555555556,\"#d8576b\"],[0.6666666666666666,\"#ed7953\"],[0.7777777777777778,\"#fb9f3a\"],[0.8888888888888888,\"#fdca26\"],[1.0,\"#f0f921\"]]}],\"heatmap\":[{\"type\":\"heatmap\",\"colorbar\":{\"outlinewidth\":0,\"ticks\":\"\"},\"colorscale\":[[0.0,\"#0d0887\"],[0.1111111111111111,\"#46039f\"],[0.2222222222222222,\"#7201a8\"],[0.3333333333333333,\"#9c179e\"],[0.4444444444444444,\"#bd3786\"],[0.5555555555555556,\"#d8576b\"],[0.6666666666666666,\"#ed7953\"],[0.7777777777777778,\"#fb9f3a\"],[0.8888888888888888,\"#fdca26\"],[1.0,\"#f0f921\"]]}],\"heatmapgl\":[{\"type\":\"heatmapgl\",\"colorbar\":{\"outlinewidth\":0,\"ticks\":\"\"},\"colorscale\":[[0.0,\"#0d0887\"],[0.1111111111111111,\"#46039f\"],[0.2222222222222222,\"#7201a8\"],[0.3333333333333333,\"#9c179e\"],[0.4444444444444444,\"#bd3786\"],[0.5555555555555556,\"#d8576b\"],[0.6666666666666666,\"#ed7953\"],[0.7777777777777778,\"#fb9f3a\"],[0.8888888888888888,\"#fdca26\"],[1.0,\"#f0f921\"]]}],\"contourcarpet\":[{\"type\":\"contourcarpet\",\"colorbar\":{\"outlinewidth\":0,\"ticks\":\"\"}}],\"contour\":[{\"type\":\"contour\",\"colorbar\":{\"outlinewidth\":0,\"ticks\":\"\"},\"colorscale\":[[0.0,\"#0d0887\"],[0.1111111111111111,\"#46039f\"],[0.2222222222222222,\"#7201a8\"],[0.3333333333333333,\"#9c179e\"],[0.4444444444444444,\"#bd3786\"],[0.5555555555555556,\"#d8576b\"],[0.6666666666666666,\"#ed7953\"],[0.7777777777777778,\"#fb9f3a\"],[0.8888888888888888,\"#fdca26\"],[1.0,\"#f0f921\"]]}],\"surface\":[{\"type\":\"surface\",\"colorbar\":{\"outlinewidth\":0,\"ticks\":\"\"},\"colorscale\":[[0.0,\"#0d0887\"],[0.1111111111111111,\"#46039f\"],[0.2222222222222222,\"#7201a8\"],[0.3333333333333333,\"#9c179e\"],[0.4444444444444444,\"#bd3786\"],[0.5555555555555556,\"#d8576b\"],[0.6666666666666666,\"#ed7953\"],[0.7777777777777778,\"#fb9f3a\"],[0.8888888888888888,\"#fdca26\"],[1.0,\"#f0f921\"]]}],\"mesh3d\":[{\"type\":\"mesh3d\",\"colorbar\":{\"outlinewidth\":0,\"ticks\":\"\"}}],\"scatter\":[{\"fillpattern\":{\"fillmode\":\"overlay\",\"size\":10,\"solidity\":0.2},\"type\":\"scatter\"}],\"parcoords\":[{\"type\":\"parcoords\",\"line\":{\"colorbar\":{\"outlinewidth\":0,\"ticks\":\"\"}}}],\"scatterpolargl\":[{\"type\":\"scatterpolargl\",\"marker\":{\"colorbar\":{\"outlinewidth\":0,\"ticks\":\"\"}}}],\"bar\":[{\"error_x\":{\"color\":\"#2a3f5f\"},\"error_y\":{\"color\":\"#2a3f5f\"},\"marker\":{\"line\":{\"color\":\"#E5ECF6\",\"width\":0.5},\"pattern\":{\"fillmode\":\"overlay\",\"size\":10,\"solidity\":0.2}},\"type\":\"bar\"}],\"scattergeo\":[{\"type\":\"scattergeo\",\"marker\":{\"colorbar\":{\"outlinewidth\":0,\"ticks\":\"\"}}}],\"scatterpolar\":[{\"type\":\"scatterpolar\",\"marker\":{\"colorbar\":{\"outlinewidth\":0,\"ticks\":\"\"}}}],\"histogram\":[{\"marker\":{\"pattern\":{\"fillmode\":\"overlay\",\"size\":10,\"solidity\":0.2}},\"type\":\"histogram\"}],\"scattergl\":[{\"type\":\"scattergl\",\"marker\":{\"colorbar\":{\"outlinewidth\":0,\"ticks\":\"\"}}}],\"scatter3d\":[{\"type\":\"scatter3d\",\"line\":{\"colorbar\":{\"outlinewidth\":0,\"ticks\":\"\"}},\"marker\":{\"colorbar\":{\"outlinewidth\":0,\"ticks\":\"\"}}}],\"scattermapbox\":[{\"type\":\"scattermapbox\",\"marker\":{\"colorbar\":{\"outlinewidth\":0,\"ticks\":\"\"}}}],\"scatterternary\":[{\"type\":\"scatterternary\",\"marker\":{\"colorbar\":{\"outlinewidth\":0,\"ticks\":\"\"}}}],\"scattercarpet\":[{\"type\":\"scattercarpet\",\"marker\":{\"colorbar\":{\"outlinewidth\":0,\"ticks\":\"\"}}}],\"carpet\":[{\"aaxis\":{\"endlinecolor\":\"#2a3f5f\",\"gridcolor\":\"white\",\"linecolor\":\"white\",\"minorgridcolor\":\"white\",\"startlinecolor\":\"#2a3f5f\"},\"baxis\":{\"endlinecolor\":\"#2a3f5f\",\"gridcolor\":\"white\",\"linecolor\":\"white\",\"minorgridcolor\":\"white\",\"startlinecolor\":\"#2a3f5f\"},\"type\":\"carpet\"}],\"table\":[{\"cells\":{\"fill\":{\"color\":\"#EBF0F8\"},\"line\":{\"color\":\"white\"}},\"header\":{\"fill\":{\"color\":\"#C8D4E3\"},\"line\":{\"color\":\"white\"}},\"type\":\"table\"}],\"barpolar\":[{\"marker\":{\"line\":{\"color\":\"#E5ECF6\",\"width\":0.5},\"pattern\":{\"fillmode\":\"overlay\",\"size\":10,\"solidity\":0.2}},\"type\":\"barpolar\"}],\"pie\":[{\"automargin\":true,\"type\":\"pie\"}]},\"layout\":{\"autotypenumbers\":\"strict\",\"colorway\":[\"#636efa\",\"#EF553B\",\"#00cc96\",\"#ab63fa\",\"#FFA15A\",\"#19d3f3\",\"#FF6692\",\"#B6E880\",\"#FF97FF\",\"#FECB52\"],\"font\":{\"color\":\"#2a3f5f\"},\"hovermode\":\"closest\",\"hoverlabel\":{\"align\":\"left\"},\"paper_bgcolor\":\"white\",\"plot_bgcolor\":\"#E5ECF6\",\"polar\":{\"bgcolor\":\"#E5ECF6\",\"angularaxis\":{\"gridcolor\":\"white\",\"linecolor\":\"white\",\"ticks\":\"\"},\"radialaxis\":{\"gridcolor\":\"white\",\"linecolor\":\"white\",\"ticks\":\"\"}},\"ternary\":{\"bgcolor\":\"#E5ECF6\",\"aaxis\":{\"gridcolor\":\"white\",\"linecolor\":\"white\",\"ticks\":\"\"},\"baxis\":{\"gridcolor\":\"white\",\"linecolor\":\"white\",\"ticks\":\"\"},\"caxis\":{\"gridcolor\":\"white\",\"linecolor\":\"white\",\"ticks\":\"\"}},\"coloraxis\":{\"colorbar\":{\"outlinewidth\":0,\"ticks\":\"\"}},\"colorscale\":{\"sequential\":[[0.0,\"#0d0887\"],[0.1111111111111111,\"#46039f\"],[0.2222222222222222,\"#7201a8\"],[0.3333333333333333,\"#9c179e\"],[0.4444444444444444,\"#bd3786\"],[0.5555555555555556,\"#d8576b\"],[0.6666666666666666,\"#ed7953\"],[0.7777777777777778,\"#fb9f3a\"],[0.8888888888888888,\"#fdca26\"],[1.0,\"#f0f921\"]],\"sequentialminus\":[[0.0,\"#0d0887\"],[0.1111111111111111,\"#46039f\"],[0.2222222222222222,\"#7201a8\"],[0.3333333333333333,\"#9c179e\"],[0.4444444444444444,\"#bd3786\"],[0.5555555555555556,\"#d8576b\"],[0.6666666666666666,\"#ed7953\"],[0.7777777777777778,\"#fb9f3a\"],[0.8888888888888888,\"#fdca26\"],[1.0,\"#f0f921\"]],\"diverging\":[[0,\"#8e0152\"],[0.1,\"#c51b7d\"],[0.2,\"#de77ae\"],[0.3,\"#f1b6da\"],[0.4,\"#fde0ef\"],[0.5,\"#f7f7f7\"],[0.6,\"#e6f5d0\"],[0.7,\"#b8e186\"],[0.8,\"#7fbc41\"],[0.9,\"#4d9221\"],[1,\"#276419\"]]},\"xaxis\":{\"gridcolor\":\"white\",\"linecolor\":\"white\",\"ticks\":\"\",\"title\":{\"standoff\":15},\"zerolinecolor\":\"white\",\"automargin\":true,\"zerolinewidth\":2},\"yaxis\":{\"gridcolor\":\"white\",\"linecolor\":\"white\",\"ticks\":\"\",\"title\":{\"standoff\":15},\"zerolinecolor\":\"white\",\"automargin\":true,\"zerolinewidth\":2},\"scene\":{\"xaxis\":{\"backgroundcolor\":\"#E5ECF6\",\"gridcolor\":\"white\",\"linecolor\":\"white\",\"showbackground\":true,\"ticks\":\"\",\"zerolinecolor\":\"white\",\"gridwidth\":2},\"yaxis\":{\"backgroundcolor\":\"#E5ECF6\",\"gridcolor\":\"white\",\"linecolor\":\"white\",\"showbackground\":true,\"ticks\":\"\",\"zerolinecolor\":\"white\",\"gridwidth\":2},\"zaxis\":{\"backgroundcolor\":\"#E5ECF6\",\"gridcolor\":\"white\",\"linecolor\":\"white\",\"showbackground\":true,\"ticks\":\"\",\"zerolinecolor\":\"white\",\"gridwidth\":2}},\"shapedefaults\":{\"line\":{\"color\":\"#2a3f5f\"}},\"annotationdefaults\":{\"arrowcolor\":\"#2a3f5f\",\"arrowhead\":0,\"arrowwidth\":1},\"geo\":{\"bgcolor\":\"white\",\"landcolor\":\"#E5ECF6\",\"subunitcolor\":\"white\",\"showland\":true,\"showlakes\":true,\"lakecolor\":\"white\"},\"title\":{\"x\":0.05},\"mapbox\":{\"style\":\"light\"}}},\"scene\":{\"domain\":{\"x\":[0.0,0.6444444444444445],\"y\":[0.0,1.0]},\"camera\":{\"eye\":{\"x\":0.0,\"y\":0.0,\"z\":2.5}},\"aspectmode\":\"cube\"},\"xaxis\":{\"anchor\":\"y\",\"domain\":[0.7111111111111111,1.0]},\"yaxis\":{\"anchor\":\"x\",\"domain\":[0.7333333333333333,1.0]},\"xaxis2\":{\"anchor\":\"y2\",\"domain\":[0.7111111111111111,1.0]},\"yaxis2\":{\"anchor\":\"x2\",\"domain\":[0.36666666666666664,0.6333333333333333]},\"xaxis3\":{\"anchor\":\"y3\",\"domain\":[0.7111111111111111,1.0],\"title\":{\"text\":\"Time (miliseconds)\"}},\"yaxis3\":{\"anchor\":\"x3\",\"domain\":[0.0,0.26666666666666666],\"title\":{\"text\":\"\\u03c9\\u0302 (degree/s\\u00b2 * 1e3)\"},\"showgrid\":true},\"annotations\":[{\"font\":{\"color\":\"black\",\"size\":12},\"showarrow\":false,\"text\":\"\\u03b8 (angle between chaser and chasee)\",\"x\":0.85,\"xanchor\":\"center\",\"xref\":\"paper\",\"y\":1.0,\"yanchor\":\"bottom\",\"yref\":\"paper\"},{\"font\":{\"color\":\"black\",\"size\":12},\"showarrow\":false,\"text\":\"\\u03c9 (turning angle of chaser)\",\"x\":0.85,\"xanchor\":\"center\",\"xref\":\"paper\",\"y\":0.6428571428571428,\"yanchor\":\"bottom\",\"yref\":\"paper\"},{\"font\":{\"color\":\"black\",\"size\":12},\"showarrow\":false,\"text\":\"\\u03c9\\u0302 (rate of turning angle of chaser)\",\"x\":0.85,\"xanchor\":\"center\",\"xref\":\"paper\",\"y\":0.2857142857142857,\"yanchor\":\"bottom\",\"yref\":\"paper\"}],\"height\":800,\"width\":1000,\"showlegend\":false},                        {\"responsive\": true}                    ).then(function(){\n",
       "                            \n",
       "var gd = document.getElementById('15ad0859-8010-49cc-a51c-fc6ac862f328');\n",
       "var x = new MutationObserver(function (mutations, observer) {{\n",
       "        var display = window.getComputedStyle(gd).display;\n",
       "        if (!display || display === 'none') {{\n",
       "            console.log([gd, 'removed!']);\n",
       "            Plotly.purge(gd);\n",
       "            observer.disconnect();\n",
       "        }}\n",
       "}});\n",
       "\n",
       "// Listen for the removal of the full notebook cells\n",
       "var notebookContainer = gd.closest('#notebook-container');\n",
       "if (notebookContainer) {{\n",
       "    x.observe(notebookContainer, {childList: true});\n",
       "}}\n",
       "\n",
       "// Listen for the clearing of the current output cell\n",
       "var outputEl = gd.closest('.output');\n",
       "if (outputEl) {{\n",
       "    x.observe(outputEl, {childList: true});\n",
       "}}\n",
       "\n",
       "                        })                };                });            </script>        </div>"
      ]
     },
     "metadata": {},
     "output_type": "display_data"
    }
   ],
   "source": [
    "# titles = titles = [\n",
    "#     \"\", \"\", \"θ (angle between chaser and chasee)\",\n",
    "#     \"\", \"\", \"ω (turning angle of chaser)\",\n",
    "#     \"\", \"\", \"ω̂ (rate of turning angle of chaser)\"\n",
    "# ]\n",
    "\n",
    "\n",
    "fig = make_subplots(\n",
    "    rows=3, cols=3,\n",
    "#     subplot_titles=titles,\n",
    "    specs=[\n",
    "        [{\"type\": \"scene\", \"rowspan\": 3, \"colspan\": 2}, None, {\"type\": \"xy\"}],\n",
    "        [None,                        None,              {\"type\": \"xy\"}],\n",
    "        [None,                        None,              {\"type\": \"xy\"}]\n",
    "          ])\n",
    "\n",
    "\n",
    "################### the 3D chase plot #######################################################################\n",
    "# 3D line plot to recreate the chase\n",
    "line_trace_1 = go.Scatter3d(\n",
    "    x = com_df.chaser_com_x, y = com_df.chaser_com_y, z = com_df.chaser_com_z,\n",
    "    mode='lines',\n",
    "    line=dict(color='black'),\n",
    "    name='Line'\n",
    ")\n",
    "\n",
    "line_trace_2 = go.Scatter3d(\n",
    "    x = com_df.chasee_com_x, y = com_df.chasee_com_y, z = com_df.chasee_com_z,\n",
    "    mode='lines',\n",
    "    line=dict(color='black', width=1),\n",
    "    name='Line'\n",
    ")\n",
    "\n",
    "N = len(com_df)\n",
    "# Markers every 10th point\n",
    "\n",
    "marker_indices = np.arange(0, N, 10)\n",
    "\n",
    "marker_trace_1 = go.Scatter3d(\n",
    "    x=com_df.chaser_com_x[marker_indices],\n",
    "    y=com_df.chaser_com_y[marker_indices],\n",
    "    z=com_df.chaser_com_z[marker_indices],\n",
    "    mode='markers',\n",
    "    marker=dict(\n",
    "        size=3,\n",
    "        color='black',\n",
    "        symbol='circle'\n",
    "#         ['circle' if i % 2 == 0 else 'circle-open' for i in range(len(marker_indices))],\n",
    "#         line=dict(width=1, color='black')\n",
    "    ),\n",
    "    name='Markers_chaser'\n",
    ")\n",
    "\n",
    "marker_trace_2 = go.Scatter3d(\n",
    "    x=com_df.chasee_com_x[marker_indices],\n",
    "    y=com_df.chasee_com_y[marker_indices],\n",
    "    z=com_df.chasee_com_z[marker_indices],\n",
    "    mode='markers',\n",
    "    marker=dict(\n",
    "        size=3,\n",
    "        color='black',\n",
    "        symbol='circle-open'\n",
    "#         ['circle' if i % 2 == 0 else 'circle-open' for i in range(len(marker_indices))],\n",
    "#         line=dict(width=1, color='black')\n",
    "    ),\n",
    "    name='Markers_chasee'\n",
    ")\n",
    "\n",
    "\n",
    "# Text labels every 50th point\n",
    "text_indices = np.arange(0, N, 50)\n",
    "\n",
    "text_trace_1 = go.Scatter3d(\n",
    "    x=com_df.chaser_com_x[text_indices],\n",
    "    y=com_df.chaser_com_y[text_indices],\n",
    "    z=com_df.chaser_com_z[text_indices],\n",
    "    mode='text',\n",
    "    text=[str(i) for i in text_indices],\n",
    "    textposition='top center',\n",
    "    textfont=dict(size=10, color='black'),\n",
    "    name='Labels_chaser'\n",
    ")\n",
    "\n",
    "text_trace_2 = go.Scatter3d(\n",
    "    x=com_df.chasee_com_x[text_indices],\n",
    "    y=com_df.chasee_com_y[text_indices],\n",
    "    z=com_df.chasee_com_z[text_indices],\n",
    "    mode='text',\n",
    "    text=[str(i) for i in text_indices],\n",
    "    textposition='bottom left',\n",
    "    textfont=dict(size=10, color='black'),\n",
    "    name='Labels_chasee'\n",
    ")\n",
    "\n",
    "# Create the figure\n",
    "\n",
    "# Add all traces to the subplot\n",
    "fig.add_trace(line_trace_1, row=1, col=1)\n",
    "fig.add_trace(line_trace_2, row=1, col=1)\n",
    "fig.add_trace(marker_trace_1, row=1, col=1)\n",
    "fig.add_trace(marker_trace_2, row=1, col=1)\n",
    "fig.add_trace(text_trace_1, row=1, col=1)\n",
    "fig.add_trace(text_trace_2, row=1, col=1)\n",
    "\n",
    "# Set the camera to view along the z-axis (xy plane)\n",
    "fig.update_layout(\n",
    "    scene_camera=dict(\n",
    "        eye=dict(x=0., y=0., z=2.5)  # Adjust z to control the distance\n",
    "    ),\n",
    "    scene=dict(\n",
    "        aspectmode='cube'  # Keeps the aspect ratio uniform\n",
    "    )\n",
    ")\n",
    "\n",
    "############## add all the chase variables as line plots in second column ###############################\n",
    "###### angle between the chasee and chaser ##############################################################\n",
    "marker_trace_theta = go.Scatter(\n",
    "    x=time_Axis[marker_indices],\n",
    "    y=chase_df.loc[:,'error_theta'][marker_indices],\n",
    "    mode='markers',\n",
    "    marker=dict(\n",
    "        size=5,\n",
    "        color='black',\n",
    "        symbol='circle'\n",
    "    ),\n",
    "    name='theta'\n",
    ")\n",
    "\n",
    "fig.add_trace(go.Scatter(\n",
    "    x = time_Axis, y = chase_df.loc[:,'error_theta'],\n",
    "    mode = 'lines'),\n",
    "              row = 1, col = 3)\n",
    "fig.add_trace(marker_trace_theta, row = 1, col = 3)\n",
    "\n",
    "\n",
    "####### turning angle for the chaser ####################################################################\n",
    "omega = angular_speed_df.loc[:,'chaser_theta']\n",
    "omega_smoothed = signal.savgol_filter(omega, 10, 3)\n",
    "\n",
    "\n",
    "fig.add_trace(go.Scatter(\n",
    "        x = time_Axis, y = omega_smoothed\n",
    "        , mode = 'lines'\n",
    "        ),\n",
    "             row = 2, col = 3)\n",
    "\n",
    "######## rate of turning angle for the chaser ############################################################\n",
    "omega_hat = np.diff(omega_smoothed)\n",
    "\n",
    "marker_indices = np.arange(0, len(omega_hat), 20)\n",
    "marker_trace_omega_hat = go.Scatter(\n",
    "    x=time_Axis[marker_indices], \n",
    "    y=omega_hat[marker_indices],\n",
    "    mode='markers',\n",
    "    marker=dict(\n",
    "        size=5,\n",
    "        color='black',\n",
    "        symbol='circle'\n",
    "    ),\n",
    "    name='omega_hat'\n",
    ")\n",
    "\n",
    "fig.add_trace(go.Scatter(\n",
    "    x = time_Axis, y = omega_hat,\n",
    "    mode = 'lines'),\n",
    "              row = 3, col = 3)\n",
    "fig.add_trace(marker_trace_omega_hat, row = 3, col = 3)\n",
    "\n",
    "# Add manual annotations for column 3 titles\n",
    "titles = [\n",
    "    \"θ (angle between chaser and chasee)\",\n",
    "    \"ω (turning angle of chaser)\",\n",
    "    \"ω̂ (rate of turning angle of chaser)\"\n",
    "]\n",
    "\n",
    "for i, title in enumerate(titles):\n",
    "    fig.add_annotation(\n",
    "        text=title,\n",
    "        xref=\"paper\",\n",
    "        yref=\"paper\",\n",
    "        x=0.85,  # far right (col 3)\n",
    "        y=1.0 - (i * 1 / 2.8),  # top, middle, bottom\n",
    "        xanchor=\"center\",\n",
    "        yanchor=\"bottom\",\n",
    "        showarrow=False,\n",
    "        font=dict(size=12, color=\"black\")\n",
    "    )\n",
    "\n",
    "# Final layout tweaks\n",
    "fig.update_layout(\n",
    "    height=800,\n",
    "    width=1000,\n",
    "#     title_text=\"Custom Titles for Column 3 Subplots\",\n",
    "    showlegend=False\n",
    ")\n",
    "\n",
    "fig.update_layout({\n",
    "    'xaxis3': dict(title='Time (miliseconds)'),\n",
    "    \"yaxis3\": dict(title=\"ω̂ (degree/s² * 1e3)\", showgrid=True)\n",
    "    })\n",
    "\n",
    "\n",
    "fig.show()\n",
    "fig.write_html(\"../dataFolders/MuscaChasingMusca/Sampled100fps_Figures/Chase_relationships/\" + name + \"theta_visualization.html\")\n",
    "# fig.write_html(\"../dataFolders/MuscaChasingMusca/Outputs/\" + name + \"theta_visualization.html\")"
   ]
  },
  {
   "cell_type": "code",
   "execution_count": 75,
   "id": "c47491d8",
   "metadata": {},
   "outputs": [
    {
     "data": {
      "application/vnd.plotly.v1+json": {
       "config": {
        "plotlyServerURL": "https://plot.ly"
       },
       "data": [
        {
         "type": "scatter",
         "x": [
          -14,
          -13,
          -12,
          -11,
          -10,
          -9,
          -8,
          -7,
          -6,
          -5,
          -4,
          -3,
          -2,
          -1,
          0,
          1,
          2,
          3,
          4,
          5,
          6,
          7,
          8,
          9,
          10,
          11,
          12,
          13
         ],
         "y": [
          131.79034195283944,
          91.69752567601937,
          -27.200600215627524,
          -174.03057986899142,
          -367.68307227555044,
          -448.4723220516033,
          -424.16774786969927,
          -323.3452047578691,
          -177.68889693720578,
          0.9681810039860608,
          279.7827233290417,
          631.3727690398316,
          1015.123989396355,
          1203.4962859056395,
          1017.7810708210052,
          631.8541512287904,
          -672.6588207083179,
          -1502.6792884395877,
          -1766.4439882909196,
          -1604.793519376968,
          -885.1917245158058,
          -273.2679561077796,
          111.02561117612493,
          234.92257913712098,
          208.88961617206184,
          177.34424008452615,
          58.84442054420406,
          -40.46125506729042,
          -96.3026166239315
         ]
        }
       ],
       "layout": {
        "template": {
         "data": {
          "bar": [
           {
            "error_x": {
             "color": "#2a3f5f"
            },
            "error_y": {
             "color": "#2a3f5f"
            },
            "marker": {
             "line": {
              "color": "#E5ECF6",
              "width": 0.5
             },
             "pattern": {
              "fillmode": "overlay",
              "size": 10,
              "solidity": 0.2
             }
            },
            "type": "bar"
           }
          ],
          "barpolar": [
           {
            "marker": {
             "line": {
              "color": "#E5ECF6",
              "width": 0.5
             },
             "pattern": {
              "fillmode": "overlay",
              "size": 10,
              "solidity": 0.2
             }
            },
            "type": "barpolar"
           }
          ],
          "carpet": [
           {
            "aaxis": {
             "endlinecolor": "#2a3f5f",
             "gridcolor": "white",
             "linecolor": "white",
             "minorgridcolor": "white",
             "startlinecolor": "#2a3f5f"
            },
            "baxis": {
             "endlinecolor": "#2a3f5f",
             "gridcolor": "white",
             "linecolor": "white",
             "minorgridcolor": "white",
             "startlinecolor": "#2a3f5f"
            },
            "type": "carpet"
           }
          ],
          "choropleth": [
           {
            "colorbar": {
             "outlinewidth": 0,
             "ticks": ""
            },
            "type": "choropleth"
           }
          ],
          "contour": [
           {
            "colorbar": {
             "outlinewidth": 0,
             "ticks": ""
            },
            "colorscale": [
             [
              0,
              "#0d0887"
             ],
             [
              0.1111111111111111,
              "#46039f"
             ],
             [
              0.2222222222222222,
              "#7201a8"
             ],
             [
              0.3333333333333333,
              "#9c179e"
             ],
             [
              0.4444444444444444,
              "#bd3786"
             ],
             [
              0.5555555555555556,
              "#d8576b"
             ],
             [
              0.6666666666666666,
              "#ed7953"
             ],
             [
              0.7777777777777778,
              "#fb9f3a"
             ],
             [
              0.8888888888888888,
              "#fdca26"
             ],
             [
              1,
              "#f0f921"
             ]
            ],
            "type": "contour"
           }
          ],
          "contourcarpet": [
           {
            "colorbar": {
             "outlinewidth": 0,
             "ticks": ""
            },
            "type": "contourcarpet"
           }
          ],
          "heatmap": [
           {
            "colorbar": {
             "outlinewidth": 0,
             "ticks": ""
            },
            "colorscale": [
             [
              0,
              "#0d0887"
             ],
             [
              0.1111111111111111,
              "#46039f"
             ],
             [
              0.2222222222222222,
              "#7201a8"
             ],
             [
              0.3333333333333333,
              "#9c179e"
             ],
             [
              0.4444444444444444,
              "#bd3786"
             ],
             [
              0.5555555555555556,
              "#d8576b"
             ],
             [
              0.6666666666666666,
              "#ed7953"
             ],
             [
              0.7777777777777778,
              "#fb9f3a"
             ],
             [
              0.8888888888888888,
              "#fdca26"
             ],
             [
              1,
              "#f0f921"
             ]
            ],
            "type": "heatmap"
           }
          ],
          "heatmapgl": [
           {
            "colorbar": {
             "outlinewidth": 0,
             "ticks": ""
            },
            "colorscale": [
             [
              0,
              "#0d0887"
             ],
             [
              0.1111111111111111,
              "#46039f"
             ],
             [
              0.2222222222222222,
              "#7201a8"
             ],
             [
              0.3333333333333333,
              "#9c179e"
             ],
             [
              0.4444444444444444,
              "#bd3786"
             ],
             [
              0.5555555555555556,
              "#d8576b"
             ],
             [
              0.6666666666666666,
              "#ed7953"
             ],
             [
              0.7777777777777778,
              "#fb9f3a"
             ],
             [
              0.8888888888888888,
              "#fdca26"
             ],
             [
              1,
              "#f0f921"
             ]
            ],
            "type": "heatmapgl"
           }
          ],
          "histogram": [
           {
            "marker": {
             "pattern": {
              "fillmode": "overlay",
              "size": 10,
              "solidity": 0.2
             }
            },
            "type": "histogram"
           }
          ],
          "histogram2d": [
           {
            "colorbar": {
             "outlinewidth": 0,
             "ticks": ""
            },
            "colorscale": [
             [
              0,
              "#0d0887"
             ],
             [
              0.1111111111111111,
              "#46039f"
             ],
             [
              0.2222222222222222,
              "#7201a8"
             ],
             [
              0.3333333333333333,
              "#9c179e"
             ],
             [
              0.4444444444444444,
              "#bd3786"
             ],
             [
              0.5555555555555556,
              "#d8576b"
             ],
             [
              0.6666666666666666,
              "#ed7953"
             ],
             [
              0.7777777777777778,
              "#fb9f3a"
             ],
             [
              0.8888888888888888,
              "#fdca26"
             ],
             [
              1,
              "#f0f921"
             ]
            ],
            "type": "histogram2d"
           }
          ],
          "histogram2dcontour": [
           {
            "colorbar": {
             "outlinewidth": 0,
             "ticks": ""
            },
            "colorscale": [
             [
              0,
              "#0d0887"
             ],
             [
              0.1111111111111111,
              "#46039f"
             ],
             [
              0.2222222222222222,
              "#7201a8"
             ],
             [
              0.3333333333333333,
              "#9c179e"
             ],
             [
              0.4444444444444444,
              "#bd3786"
             ],
             [
              0.5555555555555556,
              "#d8576b"
             ],
             [
              0.6666666666666666,
              "#ed7953"
             ],
             [
              0.7777777777777778,
              "#fb9f3a"
             ],
             [
              0.8888888888888888,
              "#fdca26"
             ],
             [
              1,
              "#f0f921"
             ]
            ],
            "type": "histogram2dcontour"
           }
          ],
          "mesh3d": [
           {
            "colorbar": {
             "outlinewidth": 0,
             "ticks": ""
            },
            "type": "mesh3d"
           }
          ],
          "parcoords": [
           {
            "line": {
             "colorbar": {
              "outlinewidth": 0,
              "ticks": ""
             }
            },
            "type": "parcoords"
           }
          ],
          "pie": [
           {
            "automargin": true,
            "type": "pie"
           }
          ],
          "scatter": [
           {
            "fillpattern": {
             "fillmode": "overlay",
             "size": 10,
             "solidity": 0.2
            },
            "type": "scatter"
           }
          ],
          "scatter3d": [
           {
            "line": {
             "colorbar": {
              "outlinewidth": 0,
              "ticks": ""
             }
            },
            "marker": {
             "colorbar": {
              "outlinewidth": 0,
              "ticks": ""
             }
            },
            "type": "scatter3d"
           }
          ],
          "scattercarpet": [
           {
            "marker": {
             "colorbar": {
              "outlinewidth": 0,
              "ticks": ""
             }
            },
            "type": "scattercarpet"
           }
          ],
          "scattergeo": [
           {
            "marker": {
             "colorbar": {
              "outlinewidth": 0,
              "ticks": ""
             }
            },
            "type": "scattergeo"
           }
          ],
          "scattergl": [
           {
            "marker": {
             "colorbar": {
              "outlinewidth": 0,
              "ticks": ""
             }
            },
            "type": "scattergl"
           }
          ],
          "scattermapbox": [
           {
            "marker": {
             "colorbar": {
              "outlinewidth": 0,
              "ticks": ""
             }
            },
            "type": "scattermapbox"
           }
          ],
          "scatterpolar": [
           {
            "marker": {
             "colorbar": {
              "outlinewidth": 0,
              "ticks": ""
             }
            },
            "type": "scatterpolar"
           }
          ],
          "scatterpolargl": [
           {
            "marker": {
             "colorbar": {
              "outlinewidth": 0,
              "ticks": ""
             }
            },
            "type": "scatterpolargl"
           }
          ],
          "scatterternary": [
           {
            "marker": {
             "colorbar": {
              "outlinewidth": 0,
              "ticks": ""
             }
            },
            "type": "scatterternary"
           }
          ],
          "surface": [
           {
            "colorbar": {
             "outlinewidth": 0,
             "ticks": ""
            },
            "colorscale": [
             [
              0,
              "#0d0887"
             ],
             [
              0.1111111111111111,
              "#46039f"
             ],
             [
              0.2222222222222222,
              "#7201a8"
             ],
             [
              0.3333333333333333,
              "#9c179e"
             ],
             [
              0.4444444444444444,
              "#bd3786"
             ],
             [
              0.5555555555555556,
              "#d8576b"
             ],
             [
              0.6666666666666666,
              "#ed7953"
             ],
             [
              0.7777777777777778,
              "#fb9f3a"
             ],
             [
              0.8888888888888888,
              "#fdca26"
             ],
             [
              1,
              "#f0f921"
             ]
            ],
            "type": "surface"
           }
          ],
          "table": [
           {
            "cells": {
             "fill": {
              "color": "#EBF0F8"
             },
             "line": {
              "color": "white"
             }
            },
            "header": {
             "fill": {
              "color": "#C8D4E3"
             },
             "line": {
              "color": "white"
             }
            },
            "type": "table"
           }
          ]
         },
         "layout": {
          "annotationdefaults": {
           "arrowcolor": "#2a3f5f",
           "arrowhead": 0,
           "arrowwidth": 1
          },
          "autotypenumbers": "strict",
          "coloraxis": {
           "colorbar": {
            "outlinewidth": 0,
            "ticks": ""
           }
          },
          "colorscale": {
           "diverging": [
            [
             0,
             "#8e0152"
            ],
            [
             0.1,
             "#c51b7d"
            ],
            [
             0.2,
             "#de77ae"
            ],
            [
             0.3,
             "#f1b6da"
            ],
            [
             0.4,
             "#fde0ef"
            ],
            [
             0.5,
             "#f7f7f7"
            ],
            [
             0.6,
             "#e6f5d0"
            ],
            [
             0.7,
             "#b8e186"
            ],
            [
             0.8,
             "#7fbc41"
            ],
            [
             0.9,
             "#4d9221"
            ],
            [
             1,
             "#276419"
            ]
           ],
           "sequential": [
            [
             0,
             "#0d0887"
            ],
            [
             0.1111111111111111,
             "#46039f"
            ],
            [
             0.2222222222222222,
             "#7201a8"
            ],
            [
             0.3333333333333333,
             "#9c179e"
            ],
            [
             0.4444444444444444,
             "#bd3786"
            ],
            [
             0.5555555555555556,
             "#d8576b"
            ],
            [
             0.6666666666666666,
             "#ed7953"
            ],
            [
             0.7777777777777778,
             "#fb9f3a"
            ],
            [
             0.8888888888888888,
             "#fdca26"
            ],
            [
             1,
             "#f0f921"
            ]
           ],
           "sequentialminus": [
            [
             0,
             "#0d0887"
            ],
            [
             0.1111111111111111,
             "#46039f"
            ],
            [
             0.2222222222222222,
             "#7201a8"
            ],
            [
             0.3333333333333333,
             "#9c179e"
            ],
            [
             0.4444444444444444,
             "#bd3786"
            ],
            [
             0.5555555555555556,
             "#d8576b"
            ],
            [
             0.6666666666666666,
             "#ed7953"
            ],
            [
             0.7777777777777778,
             "#fb9f3a"
            ],
            [
             0.8888888888888888,
             "#fdca26"
            ],
            [
             1,
             "#f0f921"
            ]
           ]
          },
          "colorway": [
           "#636efa",
           "#EF553B",
           "#00cc96",
           "#ab63fa",
           "#FFA15A",
           "#19d3f3",
           "#FF6692",
           "#B6E880",
           "#FF97FF",
           "#FECB52"
          ],
          "font": {
           "color": "#2a3f5f"
          },
          "geo": {
           "bgcolor": "white",
           "lakecolor": "white",
           "landcolor": "#E5ECF6",
           "showlakes": true,
           "showland": true,
           "subunitcolor": "white"
          },
          "hoverlabel": {
           "align": "left"
          },
          "hovermode": "closest",
          "mapbox": {
           "style": "light"
          },
          "paper_bgcolor": "white",
          "plot_bgcolor": "#E5ECF6",
          "polar": {
           "angularaxis": {
            "gridcolor": "white",
            "linecolor": "white",
            "ticks": ""
           },
           "bgcolor": "#E5ECF6",
           "radialaxis": {
            "gridcolor": "white",
            "linecolor": "white",
            "ticks": ""
           }
          },
          "scene": {
           "xaxis": {
            "backgroundcolor": "#E5ECF6",
            "gridcolor": "white",
            "gridwidth": 2,
            "linecolor": "white",
            "showbackground": true,
            "ticks": "",
            "zerolinecolor": "white"
           },
           "yaxis": {
            "backgroundcolor": "#E5ECF6",
            "gridcolor": "white",
            "gridwidth": 2,
            "linecolor": "white",
            "showbackground": true,
            "ticks": "",
            "zerolinecolor": "white"
           },
           "zaxis": {
            "backgroundcolor": "#E5ECF6",
            "gridcolor": "white",
            "gridwidth": 2,
            "linecolor": "white",
            "showbackground": true,
            "ticks": "",
            "zerolinecolor": "white"
           }
          },
          "shapedefaults": {
           "line": {
            "color": "#2a3f5f"
           }
          },
          "ternary": {
           "aaxis": {
            "gridcolor": "white",
            "linecolor": "white",
            "ticks": ""
           },
           "baxis": {
            "gridcolor": "white",
            "linecolor": "white",
            "ticks": ""
           },
           "bgcolor": "#E5ECF6",
           "caxis": {
            "gridcolor": "white",
            "linecolor": "white",
            "ticks": ""
           }
          },
          "title": {
           "x": 0.05
          },
          "xaxis": {
           "automargin": true,
           "gridcolor": "white",
           "linecolor": "white",
           "ticks": "",
           "title": {
            "standoff": 15
           },
           "zerolinecolor": "white",
           "zerolinewidth": 2
          },
          "yaxis": {
           "automargin": true,
           "gridcolor": "white",
           "linecolor": "white",
           "ticks": "",
           "title": {
            "standoff": 15
           },
           "zerolinecolor": "white",
           "zerolinewidth": 2
          }
         }
        }
       }
      },
      "text/html": [
       "<div>                            <div id=\"61cbf56a-3217-437d-921d-ca1569a2a801\" class=\"plotly-graph-div\" style=\"height:525px; width:100%;\"></div>            <script type=\"text/javascript\">                require([\"plotly\"], function(Plotly) {                    window.PLOTLYENV=window.PLOTLYENV || {};                                    if (document.getElementById(\"61cbf56a-3217-437d-921d-ca1569a2a801\")) {                    Plotly.newPlot(                        \"61cbf56a-3217-437d-921d-ca1569a2a801\",                        [{\"x\":[-14,-13,-12,-11,-10,-9,-8,-7,-6,-5,-4,-3,-2,-1,0,1,2,3,4,5,6,7,8,9,10,11,12,13],\"y\":[131.79034195283944,91.69752567601937,-27.200600215627524,-174.03057986899142,-367.68307227555044,-448.4723220516033,-424.16774786969927,-323.3452047578691,-177.68889693720578,0.9681810039860608,279.7827233290417,631.3727690398316,1015.123989396355,1203.4962859056395,1017.7810708210052,631.8541512287904,-672.6588207083179,-1502.6792884395877,-1766.4439882909196,-1604.793519376968,-885.1917245158058,-273.2679561077796,111.02561117612493,234.92257913712098,208.88961617206184,177.34424008452615,58.84442054420406,-40.46125506729042,-96.3026166239315],\"type\":\"scatter\"}],                        {\"template\":{\"data\":{\"histogram2dcontour\":[{\"type\":\"histogram2dcontour\",\"colorbar\":{\"outlinewidth\":0,\"ticks\":\"\"},\"colorscale\":[[0.0,\"#0d0887\"],[0.1111111111111111,\"#46039f\"],[0.2222222222222222,\"#7201a8\"],[0.3333333333333333,\"#9c179e\"],[0.4444444444444444,\"#bd3786\"],[0.5555555555555556,\"#d8576b\"],[0.6666666666666666,\"#ed7953\"],[0.7777777777777778,\"#fb9f3a\"],[0.8888888888888888,\"#fdca26\"],[1.0,\"#f0f921\"]]}],\"choropleth\":[{\"type\":\"choropleth\",\"colorbar\":{\"outlinewidth\":0,\"ticks\":\"\"}}],\"histogram2d\":[{\"type\":\"histogram2d\",\"colorbar\":{\"outlinewidth\":0,\"ticks\":\"\"},\"colorscale\":[[0.0,\"#0d0887\"],[0.1111111111111111,\"#46039f\"],[0.2222222222222222,\"#7201a8\"],[0.3333333333333333,\"#9c179e\"],[0.4444444444444444,\"#bd3786\"],[0.5555555555555556,\"#d8576b\"],[0.6666666666666666,\"#ed7953\"],[0.7777777777777778,\"#fb9f3a\"],[0.8888888888888888,\"#fdca26\"],[1.0,\"#f0f921\"]]}],\"heatmap\":[{\"type\":\"heatmap\",\"colorbar\":{\"outlinewidth\":0,\"ticks\":\"\"},\"colorscale\":[[0.0,\"#0d0887\"],[0.1111111111111111,\"#46039f\"],[0.2222222222222222,\"#7201a8\"],[0.3333333333333333,\"#9c179e\"],[0.4444444444444444,\"#bd3786\"],[0.5555555555555556,\"#d8576b\"],[0.6666666666666666,\"#ed7953\"],[0.7777777777777778,\"#fb9f3a\"],[0.8888888888888888,\"#fdca26\"],[1.0,\"#f0f921\"]]}],\"heatmapgl\":[{\"type\":\"heatmapgl\",\"colorbar\":{\"outlinewidth\":0,\"ticks\":\"\"},\"colorscale\":[[0.0,\"#0d0887\"],[0.1111111111111111,\"#46039f\"],[0.2222222222222222,\"#7201a8\"],[0.3333333333333333,\"#9c179e\"],[0.4444444444444444,\"#bd3786\"],[0.5555555555555556,\"#d8576b\"],[0.6666666666666666,\"#ed7953\"],[0.7777777777777778,\"#fb9f3a\"],[0.8888888888888888,\"#fdca26\"],[1.0,\"#f0f921\"]]}],\"contourcarpet\":[{\"type\":\"contourcarpet\",\"colorbar\":{\"outlinewidth\":0,\"ticks\":\"\"}}],\"contour\":[{\"type\":\"contour\",\"colorbar\":{\"outlinewidth\":0,\"ticks\":\"\"},\"colorscale\":[[0.0,\"#0d0887\"],[0.1111111111111111,\"#46039f\"],[0.2222222222222222,\"#7201a8\"],[0.3333333333333333,\"#9c179e\"],[0.4444444444444444,\"#bd3786\"],[0.5555555555555556,\"#d8576b\"],[0.6666666666666666,\"#ed7953\"],[0.7777777777777778,\"#fb9f3a\"],[0.8888888888888888,\"#fdca26\"],[1.0,\"#f0f921\"]]}],\"surface\":[{\"type\":\"surface\",\"colorbar\":{\"outlinewidth\":0,\"ticks\":\"\"},\"colorscale\":[[0.0,\"#0d0887\"],[0.1111111111111111,\"#46039f\"],[0.2222222222222222,\"#7201a8\"],[0.3333333333333333,\"#9c179e\"],[0.4444444444444444,\"#bd3786\"],[0.5555555555555556,\"#d8576b\"],[0.6666666666666666,\"#ed7953\"],[0.7777777777777778,\"#fb9f3a\"],[0.8888888888888888,\"#fdca26\"],[1.0,\"#f0f921\"]]}],\"mesh3d\":[{\"type\":\"mesh3d\",\"colorbar\":{\"outlinewidth\":0,\"ticks\":\"\"}}],\"scatter\":[{\"fillpattern\":{\"fillmode\":\"overlay\",\"size\":10,\"solidity\":0.2},\"type\":\"scatter\"}],\"parcoords\":[{\"type\":\"parcoords\",\"line\":{\"colorbar\":{\"outlinewidth\":0,\"ticks\":\"\"}}}],\"scatterpolargl\":[{\"type\":\"scatterpolargl\",\"marker\":{\"colorbar\":{\"outlinewidth\":0,\"ticks\":\"\"}}}],\"bar\":[{\"error_x\":{\"color\":\"#2a3f5f\"},\"error_y\":{\"color\":\"#2a3f5f\"},\"marker\":{\"line\":{\"color\":\"#E5ECF6\",\"width\":0.5},\"pattern\":{\"fillmode\":\"overlay\",\"size\":10,\"solidity\":0.2}},\"type\":\"bar\"}],\"scattergeo\":[{\"type\":\"scattergeo\",\"marker\":{\"colorbar\":{\"outlinewidth\":0,\"ticks\":\"\"}}}],\"scatterpolar\":[{\"type\":\"scatterpolar\",\"marker\":{\"colorbar\":{\"outlinewidth\":0,\"ticks\":\"\"}}}],\"histogram\":[{\"marker\":{\"pattern\":{\"fillmode\":\"overlay\",\"size\":10,\"solidity\":0.2}},\"type\":\"histogram\"}],\"scattergl\":[{\"type\":\"scattergl\",\"marker\":{\"colorbar\":{\"outlinewidth\":0,\"ticks\":\"\"}}}],\"scatter3d\":[{\"type\":\"scatter3d\",\"line\":{\"colorbar\":{\"outlinewidth\":0,\"ticks\":\"\"}},\"marker\":{\"colorbar\":{\"outlinewidth\":0,\"ticks\":\"\"}}}],\"scattermapbox\":[{\"type\":\"scattermapbox\",\"marker\":{\"colorbar\":{\"outlinewidth\":0,\"ticks\":\"\"}}}],\"scatterternary\":[{\"type\":\"scatterternary\",\"marker\":{\"colorbar\":{\"outlinewidth\":0,\"ticks\":\"\"}}}],\"scattercarpet\":[{\"type\":\"scattercarpet\",\"marker\":{\"colorbar\":{\"outlinewidth\":0,\"ticks\":\"\"}}}],\"carpet\":[{\"aaxis\":{\"endlinecolor\":\"#2a3f5f\",\"gridcolor\":\"white\",\"linecolor\":\"white\",\"minorgridcolor\":\"white\",\"startlinecolor\":\"#2a3f5f\"},\"baxis\":{\"endlinecolor\":\"#2a3f5f\",\"gridcolor\":\"white\",\"linecolor\":\"white\",\"minorgridcolor\":\"white\",\"startlinecolor\":\"#2a3f5f\"},\"type\":\"carpet\"}],\"table\":[{\"cells\":{\"fill\":{\"color\":\"#EBF0F8\"},\"line\":{\"color\":\"white\"}},\"header\":{\"fill\":{\"color\":\"#C8D4E3\"},\"line\":{\"color\":\"white\"}},\"type\":\"table\"}],\"barpolar\":[{\"marker\":{\"line\":{\"color\":\"#E5ECF6\",\"width\":0.5},\"pattern\":{\"fillmode\":\"overlay\",\"size\":10,\"solidity\":0.2}},\"type\":\"barpolar\"}],\"pie\":[{\"automargin\":true,\"type\":\"pie\"}]},\"layout\":{\"autotypenumbers\":\"strict\",\"colorway\":[\"#636efa\",\"#EF553B\",\"#00cc96\",\"#ab63fa\",\"#FFA15A\",\"#19d3f3\",\"#FF6692\",\"#B6E880\",\"#FF97FF\",\"#FECB52\"],\"font\":{\"color\":\"#2a3f5f\"},\"hovermode\":\"closest\",\"hoverlabel\":{\"align\":\"left\"},\"paper_bgcolor\":\"white\",\"plot_bgcolor\":\"#E5ECF6\",\"polar\":{\"bgcolor\":\"#E5ECF6\",\"angularaxis\":{\"gridcolor\":\"white\",\"linecolor\":\"white\",\"ticks\":\"\"},\"radialaxis\":{\"gridcolor\":\"white\",\"linecolor\":\"white\",\"ticks\":\"\"}},\"ternary\":{\"bgcolor\":\"#E5ECF6\",\"aaxis\":{\"gridcolor\":\"white\",\"linecolor\":\"white\",\"ticks\":\"\"},\"baxis\":{\"gridcolor\":\"white\",\"linecolor\":\"white\",\"ticks\":\"\"},\"caxis\":{\"gridcolor\":\"white\",\"linecolor\":\"white\",\"ticks\":\"\"}},\"coloraxis\":{\"colorbar\":{\"outlinewidth\":0,\"ticks\":\"\"}},\"colorscale\":{\"sequential\":[[0.0,\"#0d0887\"],[0.1111111111111111,\"#46039f\"],[0.2222222222222222,\"#7201a8\"],[0.3333333333333333,\"#9c179e\"],[0.4444444444444444,\"#bd3786\"],[0.5555555555555556,\"#d8576b\"],[0.6666666666666666,\"#ed7953\"],[0.7777777777777778,\"#fb9f3a\"],[0.8888888888888888,\"#fdca26\"],[1.0,\"#f0f921\"]],\"sequentialminus\":[[0.0,\"#0d0887\"],[0.1111111111111111,\"#46039f\"],[0.2222222222222222,\"#7201a8\"],[0.3333333333333333,\"#9c179e\"],[0.4444444444444444,\"#bd3786\"],[0.5555555555555556,\"#d8576b\"],[0.6666666666666666,\"#ed7953\"],[0.7777777777777778,\"#fb9f3a\"],[0.8888888888888888,\"#fdca26\"],[1.0,\"#f0f921\"]],\"diverging\":[[0,\"#8e0152\"],[0.1,\"#c51b7d\"],[0.2,\"#de77ae\"],[0.3,\"#f1b6da\"],[0.4,\"#fde0ef\"],[0.5,\"#f7f7f7\"],[0.6,\"#e6f5d0\"],[0.7,\"#b8e186\"],[0.8,\"#7fbc41\"],[0.9,\"#4d9221\"],[1,\"#276419\"]]},\"xaxis\":{\"gridcolor\":\"white\",\"linecolor\":\"white\",\"ticks\":\"\",\"title\":{\"standoff\":15},\"zerolinecolor\":\"white\",\"automargin\":true,\"zerolinewidth\":2},\"yaxis\":{\"gridcolor\":\"white\",\"linecolor\":\"white\",\"ticks\":\"\",\"title\":{\"standoff\":15},\"zerolinecolor\":\"white\",\"automargin\":true,\"zerolinewidth\":2},\"scene\":{\"xaxis\":{\"backgroundcolor\":\"#E5ECF6\",\"gridcolor\":\"white\",\"linecolor\":\"white\",\"showbackground\":true,\"ticks\":\"\",\"zerolinecolor\":\"white\",\"gridwidth\":2},\"yaxis\":{\"backgroundcolor\":\"#E5ECF6\",\"gridcolor\":\"white\",\"linecolor\":\"white\",\"showbackground\":true,\"ticks\":\"\",\"zerolinecolor\":\"white\",\"gridwidth\":2},\"zaxis\":{\"backgroundcolor\":\"#E5ECF6\",\"gridcolor\":\"white\",\"linecolor\":\"white\",\"showbackground\":true,\"ticks\":\"\",\"zerolinecolor\":\"white\",\"gridwidth\":2}},\"shapedefaults\":{\"line\":{\"color\":\"#2a3f5f\"}},\"annotationdefaults\":{\"arrowcolor\":\"#2a3f5f\",\"arrowhead\":0,\"arrowwidth\":1},\"geo\":{\"bgcolor\":\"white\",\"landcolor\":\"#E5ECF6\",\"subunitcolor\":\"white\",\"showland\":true,\"showlakes\":true,\"lakecolor\":\"white\"},\"title\":{\"x\":0.05},\"mapbox\":{\"style\":\"light\"}}}},                        {\"responsive\": true}                    ).then(function(){\n",
       "                            \n",
       "var gd = document.getElementById('61cbf56a-3217-437d-921d-ca1569a2a801');\n",
       "var x = new MutationObserver(function (mutations, observer) {{\n",
       "        var display = window.getComputedStyle(gd).display;\n",
       "        if (!display || display === 'none') {{\n",
       "            console.log([gd, 'removed!']);\n",
       "            Plotly.purge(gd);\n",
       "            observer.disconnect();\n",
       "        }}\n",
       "}});\n",
       "\n",
       "// Listen for the removal of the full notebook cells\n",
       "var notebookContainer = gd.closest('#notebook-container');\n",
       "if (notebookContainer) {{\n",
       "    x.observe(notebookContainer, {childList: true});\n",
       "}}\n",
       "\n",
       "// Listen for the clearing of the current output cell\n",
       "var outputEl = gd.closest('.output');\n",
       "if (outputEl) {{\n",
       "    x.observe(outputEl, {childList: true});\n",
       "}}\n",
       "\n",
       "                        })                };                });            </script>        </div>"
      ]
     },
     "metadata": {},
     "output_type": "display_data"
    }
   ],
   "source": [
    "cross_Cor = np.correlate(omega_hat, chase_df.loc[:,'error_theta'], mode='full')\n",
    "x_Axis = np.arange(-len(omega_hat), len(omega_hat), 1)\n",
    "fig = go.Figure(data=go.Scatter(x = x_Axis, y=cross_Cor))\n",
    "fig.show()\n",
    "fig.write_html(\"../dataFolders/MuscaChasingMusca/Sampled100fps_Figures/Chase_relationships/\" + name + \"theta_cross_cor.html\")"
   ]
  },
  {
   "cell_type": "code",
   "execution_count": 76,
   "id": "d00d0920",
   "metadata": {},
   "outputs": [
    {
     "data": {
      "application/vnd.plotly.v1+json": {
       "config": {
        "plotlyServerURL": "https://plot.ly"
       },
       "data": [
        {
         "line": {
          "color": "black"
         },
         "mode": "lines",
         "name": "Line",
         "scene": "scene",
         "type": "scatter3d",
         "x": [
          0.0923831865079365,
          0.091256746031746,
          0.0876436507936508,
          0.0808040312499999,
          0.0773440624999999,
          0.0758268749999999,
          0.0761657656249999,
          0.0775346874999999,
          0.0787169531249999,
          0.0793403593749999,
          0.0792698906249999,
          0.0785223124999999,
          0.0770551874999999,
          0.0750698906249999,
          0.0740018650793651,
          0.0717059603174603,
          0.0692608293650794
         ],
         "y": [
          0.0749078492063492,
          0.0774003611111111,
          0.0796910634920635,
          0.0806018125,
          0.0782105156249999,
          0.0734189374999998,
          0.0668851718749999,
          0.0594595312499999,
          0.0516035937499999,
          0.0432321718749999,
          0.0341382812499999,
          0.0237831718749998,
          0.0121719218749999,
          -0.0002450625,
          -0.0066595634920634,
          -0.0197049682539682,
          -0.0327902063492063
         ],
         "z": [
          -0.0326913571428571,
          -0.0292091428571428,
          -0.0244063571428571,
          -0.0151327499999999,
          -0.0078409687499999,
          5.859375000049879e-06,
          0.0082399999999999,
          0.0167772656249999,
          0.0254359531249999,
          0.0340576249999999,
          0.042619859375,
          0.0508867187499999,
          0.0588755624999999,
          0.066835609375,
          0.0708562857142857,
          0.0791595714285714,
          0.0880143928571428
         ]
        },
        {
         "line": {
          "color": "black",
          "width": 1
         },
         "mode": "lines",
         "name": "Line",
         "scene": "scene",
         "type": "scatter3d",
         "x": [
          0.0379301626984125,
          0.0433097222222222,
          0.048344484126984,
          0.0552722031249999,
          0.0595541249999999,
          0.0635950781249999,
          0.0673072031249999,
          0.0705151874999999,
          0.0729335781249999,
          0.0745617968749999,
          0.0754331093749999,
          0.0756746093749999,
          0.0754067187499999,
          0.0745708749999999,
          0.0739740317460317,
          0.0724423055555556,
          0.0704984246031746
         ],
         "y": [
          0.0759685595238095,
          0.0709300238095237,
          0.0655928095238095,
          0.0571400312499999,
          0.0512446874999999,
          0.0451740468749999,
          0.0387908906249999,
          0.0319747656249999,
          0.0247259687499999,
          0.0169981406249999,
          0.0088422187499999,
          0.0003777499999999,
          -0.0084179843749999,
          -0.0174414374999999,
          -0.0220199603174603,
          -0.0311758055555555,
          -0.0401877817460317
         ],
         "z": [
          0.0021608492063491,
          0.0100453968253968,
          0.0182329206349206,
          0.0306053124999999,
          0.0386212499999999,
          0.0463986874999999,
          0.0537888906249999,
          0.0606256718749999,
          0.0667902187499999,
          0.0722581249999999,
          0.0771446718749999,
          0.0815654218749999,
          0.0855459531249999,
          0.0891597031249999,
          0.0908214444444445,
          0.0938001706349207,
          0.0962705873015873
         ]
        },
        {
         "marker": {
          "color": "black",
          "size": 3,
          "symbol": "circle"
         },
         "mode": "markers",
         "name": "Markers_chaser",
         "scene": "scene",
         "type": "scatter3d",
         "x": [
          0.0923831865079365,
          0.0792698906249999
         ],
         "y": [
          0.0749078492063492,
          0.0341382812499999
         ],
         "z": [
          -0.0326913571428571,
          0.042619859375
         ]
        },
        {
         "marker": {
          "color": "black",
          "size": 3,
          "symbol": "circle-open"
         },
         "mode": "markers",
         "name": "Markers_chasee",
         "scene": "scene",
         "type": "scatter3d",
         "x": [
          0.0379301626984125,
          0.0754331093749999
         ],
         "y": [
          0.0759685595238095,
          0.0088422187499999
         ],
         "z": [
          0.0021608492063491,
          0.0771446718749999
         ]
        },
        {
         "mode": "text",
         "name": "Labels_chaser",
         "scene": "scene",
         "text": [
          "0"
         ],
         "textfont": {
          "color": "black",
          "size": 10
         },
         "textposition": "top center",
         "type": "scatter3d",
         "x": [
          0.0923831865079365
         ],
         "y": [
          0.0749078492063492
         ],
         "z": [
          -0.0326913571428571
         ]
        },
        {
         "mode": "text",
         "name": "Labels_chasee",
         "scene": "scene",
         "text": [
          "0"
         ],
         "textfont": {
          "color": "black",
          "size": 10
         },
         "textposition": "bottom left",
         "type": "scatter3d",
         "x": [
          0.0379301626984125
         ],
         "y": [
          0.0759685595238095
         ],
         "z": [
          0.0021608492063491
         ]
        },
        {
         "mode": "lines",
         "type": "scatter",
         "x": [
          0,
          10,
          20,
          30,
          40,
          50,
          60,
          70,
          80,
          90,
          100,
          110,
          120,
          130,
          140,
          150
         ],
         "xaxis": "x",
         "y": [
          36.18124000675163,
          9.858663146351171,
          -0.1474452371784925,
          -0.2172286968174017,
          6.973839507674798,
          15.27625504087101,
          19.18105011972884,
          16.32068658289024,
          11.698221778674938,
          6.284466210253541,
          0.6861121113132226,
          -5.923406648953309,
          -11.494564984340236,
          -14.162359798297205,
          -16.62931761935559,
          -20.364027364833237
         ],
         "yaxis": "y"
        },
        {
         "marker": {
          "color": "black",
          "size": 5,
          "symbol": "circle"
         },
         "mode": "markers",
         "name": "phi",
         "type": "scatter",
         "x": [
          0,
          100
         ],
         "xaxis": "x",
         "y": [
          36.18124000675163,
          0.6861121113132226
         ],
         "yaxis": "y"
        },
        {
         "mode": "lines",
         "type": "scatter",
         "x": [
          0,
          10,
          20,
          30,
          40,
          50,
          60,
          70,
          80,
          90,
          100,
          110,
          120,
          130,
          140,
          150
         ],
         "xaxis": "x2",
         "y": [
          18.989069435914363,
          -0.663373997446076,
          -11.05539725887834,
          -14.232426437010059,
          -12.239887620468846,
          -5.02977811856422,
          -0.12105271755675817,
          3.6486714611859004,
          5.353184287802429,
          5.0815901500221,
          4.5192977092116,
          3.0361373423907416,
          1.4779293419467088,
          0.32833732385153525,
          0.07102490407723927
         ],
         "yaxis": "y2"
        },
        {
         "mode": "lines",
         "type": "scatter",
         "x": [
          0,
          10,
          20,
          30,
          40,
          50,
          60,
          70,
          80,
          90,
          100,
          110,
          120,
          130,
          140,
          150
         ],
         "xaxis": "x3",
         "y": [
          -19.65244343336044,
          -10.392023261432264,
          -3.1770291781317184,
          1.992538816541213,
          7.2101095019046255,
          4.908725401007462,
          3.7697241787426585,
          1.7045128266165284,
          -0.2715941377803288,
          -0.5622924408105003,
          -1.483160366820858,
          -1.5582080004440328,
          -1.1495920180951735,
          -0.257312419774296
         ],
         "yaxis": "y3"
        },
        {
         "marker": {
          "color": "black",
          "size": 5,
          "symbol": "circle"
         },
         "mode": "markers",
         "name": "omega_hat",
         "type": "scatter",
         "x": [
          0
         ],
         "xaxis": "x3",
         "y": [
          -19.65244343336044
         ],
         "yaxis": "y3"
        }
       ],
       "layout": {
        "annotations": [
         {
          "font": {
           "color": "black",
           "size": 12
          },
          "showarrow": false,
          "text": "Φ (angle between chaser and chasee)",
          "x": 0.85,
          "xanchor": "center",
          "xref": "paper",
          "y": 1,
          "yanchor": "bottom",
          "yref": "paper"
         },
         {
          "font": {
           "color": "black",
           "size": 12
          },
          "showarrow": false,
          "text": "ω (turning angle of chaser)",
          "x": 0.85,
          "xanchor": "center",
          "xref": "paper",
          "y": 0.6428571428571428,
          "yanchor": "bottom",
          "yref": "paper"
         },
         {
          "font": {
           "color": "black",
           "size": 12
          },
          "showarrow": false,
          "text": "ω̂ (rate of turning angle of chaser)",
          "x": 0.85,
          "xanchor": "center",
          "xref": "paper",
          "y": 0.2857142857142857,
          "yanchor": "bottom",
          "yref": "paper"
         }
        ],
        "height": 800,
        "scene": {
         "aspectmode": "cube",
         "camera": {
          "eye": {
           "x": 2.5,
           "y": 0,
           "z": 0
          }
         },
         "domain": {
          "x": [
           0,
           0.6444444444444445
          ],
          "y": [
           0,
           1
          ]
         }
        },
        "showlegend": false,
        "template": {
         "data": {
          "bar": [
           {
            "error_x": {
             "color": "#2a3f5f"
            },
            "error_y": {
             "color": "#2a3f5f"
            },
            "marker": {
             "line": {
              "color": "#E5ECF6",
              "width": 0.5
             },
             "pattern": {
              "fillmode": "overlay",
              "size": 10,
              "solidity": 0.2
             }
            },
            "type": "bar"
           }
          ],
          "barpolar": [
           {
            "marker": {
             "line": {
              "color": "#E5ECF6",
              "width": 0.5
             },
             "pattern": {
              "fillmode": "overlay",
              "size": 10,
              "solidity": 0.2
             }
            },
            "type": "barpolar"
           }
          ],
          "carpet": [
           {
            "aaxis": {
             "endlinecolor": "#2a3f5f",
             "gridcolor": "white",
             "linecolor": "white",
             "minorgridcolor": "white",
             "startlinecolor": "#2a3f5f"
            },
            "baxis": {
             "endlinecolor": "#2a3f5f",
             "gridcolor": "white",
             "linecolor": "white",
             "minorgridcolor": "white",
             "startlinecolor": "#2a3f5f"
            },
            "type": "carpet"
           }
          ],
          "choropleth": [
           {
            "colorbar": {
             "outlinewidth": 0,
             "ticks": ""
            },
            "type": "choropleth"
           }
          ],
          "contour": [
           {
            "colorbar": {
             "outlinewidth": 0,
             "ticks": ""
            },
            "colorscale": [
             [
              0,
              "#0d0887"
             ],
             [
              0.1111111111111111,
              "#46039f"
             ],
             [
              0.2222222222222222,
              "#7201a8"
             ],
             [
              0.3333333333333333,
              "#9c179e"
             ],
             [
              0.4444444444444444,
              "#bd3786"
             ],
             [
              0.5555555555555556,
              "#d8576b"
             ],
             [
              0.6666666666666666,
              "#ed7953"
             ],
             [
              0.7777777777777778,
              "#fb9f3a"
             ],
             [
              0.8888888888888888,
              "#fdca26"
             ],
             [
              1,
              "#f0f921"
             ]
            ],
            "type": "contour"
           }
          ],
          "contourcarpet": [
           {
            "colorbar": {
             "outlinewidth": 0,
             "ticks": ""
            },
            "type": "contourcarpet"
           }
          ],
          "heatmap": [
           {
            "colorbar": {
             "outlinewidth": 0,
             "ticks": ""
            },
            "colorscale": [
             [
              0,
              "#0d0887"
             ],
             [
              0.1111111111111111,
              "#46039f"
             ],
             [
              0.2222222222222222,
              "#7201a8"
             ],
             [
              0.3333333333333333,
              "#9c179e"
             ],
             [
              0.4444444444444444,
              "#bd3786"
             ],
             [
              0.5555555555555556,
              "#d8576b"
             ],
             [
              0.6666666666666666,
              "#ed7953"
             ],
             [
              0.7777777777777778,
              "#fb9f3a"
             ],
             [
              0.8888888888888888,
              "#fdca26"
             ],
             [
              1,
              "#f0f921"
             ]
            ],
            "type": "heatmap"
           }
          ],
          "heatmapgl": [
           {
            "colorbar": {
             "outlinewidth": 0,
             "ticks": ""
            },
            "colorscale": [
             [
              0,
              "#0d0887"
             ],
             [
              0.1111111111111111,
              "#46039f"
             ],
             [
              0.2222222222222222,
              "#7201a8"
             ],
             [
              0.3333333333333333,
              "#9c179e"
             ],
             [
              0.4444444444444444,
              "#bd3786"
             ],
             [
              0.5555555555555556,
              "#d8576b"
             ],
             [
              0.6666666666666666,
              "#ed7953"
             ],
             [
              0.7777777777777778,
              "#fb9f3a"
             ],
             [
              0.8888888888888888,
              "#fdca26"
             ],
             [
              1,
              "#f0f921"
             ]
            ],
            "type": "heatmapgl"
           }
          ],
          "histogram": [
           {
            "marker": {
             "pattern": {
              "fillmode": "overlay",
              "size": 10,
              "solidity": 0.2
             }
            },
            "type": "histogram"
           }
          ],
          "histogram2d": [
           {
            "colorbar": {
             "outlinewidth": 0,
             "ticks": ""
            },
            "colorscale": [
             [
              0,
              "#0d0887"
             ],
             [
              0.1111111111111111,
              "#46039f"
             ],
             [
              0.2222222222222222,
              "#7201a8"
             ],
             [
              0.3333333333333333,
              "#9c179e"
             ],
             [
              0.4444444444444444,
              "#bd3786"
             ],
             [
              0.5555555555555556,
              "#d8576b"
             ],
             [
              0.6666666666666666,
              "#ed7953"
             ],
             [
              0.7777777777777778,
              "#fb9f3a"
             ],
             [
              0.8888888888888888,
              "#fdca26"
             ],
             [
              1,
              "#f0f921"
             ]
            ],
            "type": "histogram2d"
           }
          ],
          "histogram2dcontour": [
           {
            "colorbar": {
             "outlinewidth": 0,
             "ticks": ""
            },
            "colorscale": [
             [
              0,
              "#0d0887"
             ],
             [
              0.1111111111111111,
              "#46039f"
             ],
             [
              0.2222222222222222,
              "#7201a8"
             ],
             [
              0.3333333333333333,
              "#9c179e"
             ],
             [
              0.4444444444444444,
              "#bd3786"
             ],
             [
              0.5555555555555556,
              "#d8576b"
             ],
             [
              0.6666666666666666,
              "#ed7953"
             ],
             [
              0.7777777777777778,
              "#fb9f3a"
             ],
             [
              0.8888888888888888,
              "#fdca26"
             ],
             [
              1,
              "#f0f921"
             ]
            ],
            "type": "histogram2dcontour"
           }
          ],
          "mesh3d": [
           {
            "colorbar": {
             "outlinewidth": 0,
             "ticks": ""
            },
            "type": "mesh3d"
           }
          ],
          "parcoords": [
           {
            "line": {
             "colorbar": {
              "outlinewidth": 0,
              "ticks": ""
             }
            },
            "type": "parcoords"
           }
          ],
          "pie": [
           {
            "automargin": true,
            "type": "pie"
           }
          ],
          "scatter": [
           {
            "fillpattern": {
             "fillmode": "overlay",
             "size": 10,
             "solidity": 0.2
            },
            "type": "scatter"
           }
          ],
          "scatter3d": [
           {
            "line": {
             "colorbar": {
              "outlinewidth": 0,
              "ticks": ""
             }
            },
            "marker": {
             "colorbar": {
              "outlinewidth": 0,
              "ticks": ""
             }
            },
            "type": "scatter3d"
           }
          ],
          "scattercarpet": [
           {
            "marker": {
             "colorbar": {
              "outlinewidth": 0,
              "ticks": ""
             }
            },
            "type": "scattercarpet"
           }
          ],
          "scattergeo": [
           {
            "marker": {
             "colorbar": {
              "outlinewidth": 0,
              "ticks": ""
             }
            },
            "type": "scattergeo"
           }
          ],
          "scattergl": [
           {
            "marker": {
             "colorbar": {
              "outlinewidth": 0,
              "ticks": ""
             }
            },
            "type": "scattergl"
           }
          ],
          "scattermapbox": [
           {
            "marker": {
             "colorbar": {
              "outlinewidth": 0,
              "ticks": ""
             }
            },
            "type": "scattermapbox"
           }
          ],
          "scatterpolar": [
           {
            "marker": {
             "colorbar": {
              "outlinewidth": 0,
              "ticks": ""
             }
            },
            "type": "scatterpolar"
           }
          ],
          "scatterpolargl": [
           {
            "marker": {
             "colorbar": {
              "outlinewidth": 0,
              "ticks": ""
             }
            },
            "type": "scatterpolargl"
           }
          ],
          "scatterternary": [
           {
            "marker": {
             "colorbar": {
              "outlinewidth": 0,
              "ticks": ""
             }
            },
            "type": "scatterternary"
           }
          ],
          "surface": [
           {
            "colorbar": {
             "outlinewidth": 0,
             "ticks": ""
            },
            "colorscale": [
             [
              0,
              "#0d0887"
             ],
             [
              0.1111111111111111,
              "#46039f"
             ],
             [
              0.2222222222222222,
              "#7201a8"
             ],
             [
              0.3333333333333333,
              "#9c179e"
             ],
             [
              0.4444444444444444,
              "#bd3786"
             ],
             [
              0.5555555555555556,
              "#d8576b"
             ],
             [
              0.6666666666666666,
              "#ed7953"
             ],
             [
              0.7777777777777778,
              "#fb9f3a"
             ],
             [
              0.8888888888888888,
              "#fdca26"
             ],
             [
              1,
              "#f0f921"
             ]
            ],
            "type": "surface"
           }
          ],
          "table": [
           {
            "cells": {
             "fill": {
              "color": "#EBF0F8"
             },
             "line": {
              "color": "white"
             }
            },
            "header": {
             "fill": {
              "color": "#C8D4E3"
             },
             "line": {
              "color": "white"
             }
            },
            "type": "table"
           }
          ]
         },
         "layout": {
          "annotationdefaults": {
           "arrowcolor": "#2a3f5f",
           "arrowhead": 0,
           "arrowwidth": 1
          },
          "autotypenumbers": "strict",
          "coloraxis": {
           "colorbar": {
            "outlinewidth": 0,
            "ticks": ""
           }
          },
          "colorscale": {
           "diverging": [
            [
             0,
             "#8e0152"
            ],
            [
             0.1,
             "#c51b7d"
            ],
            [
             0.2,
             "#de77ae"
            ],
            [
             0.3,
             "#f1b6da"
            ],
            [
             0.4,
             "#fde0ef"
            ],
            [
             0.5,
             "#f7f7f7"
            ],
            [
             0.6,
             "#e6f5d0"
            ],
            [
             0.7,
             "#b8e186"
            ],
            [
             0.8,
             "#7fbc41"
            ],
            [
             0.9,
             "#4d9221"
            ],
            [
             1,
             "#276419"
            ]
           ],
           "sequential": [
            [
             0,
             "#0d0887"
            ],
            [
             0.1111111111111111,
             "#46039f"
            ],
            [
             0.2222222222222222,
             "#7201a8"
            ],
            [
             0.3333333333333333,
             "#9c179e"
            ],
            [
             0.4444444444444444,
             "#bd3786"
            ],
            [
             0.5555555555555556,
             "#d8576b"
            ],
            [
             0.6666666666666666,
             "#ed7953"
            ],
            [
             0.7777777777777778,
             "#fb9f3a"
            ],
            [
             0.8888888888888888,
             "#fdca26"
            ],
            [
             1,
             "#f0f921"
            ]
           ],
           "sequentialminus": [
            [
             0,
             "#0d0887"
            ],
            [
             0.1111111111111111,
             "#46039f"
            ],
            [
             0.2222222222222222,
             "#7201a8"
            ],
            [
             0.3333333333333333,
             "#9c179e"
            ],
            [
             0.4444444444444444,
             "#bd3786"
            ],
            [
             0.5555555555555556,
             "#d8576b"
            ],
            [
             0.6666666666666666,
             "#ed7953"
            ],
            [
             0.7777777777777778,
             "#fb9f3a"
            ],
            [
             0.8888888888888888,
             "#fdca26"
            ],
            [
             1,
             "#f0f921"
            ]
           ]
          },
          "colorway": [
           "#636efa",
           "#EF553B",
           "#00cc96",
           "#ab63fa",
           "#FFA15A",
           "#19d3f3",
           "#FF6692",
           "#B6E880",
           "#FF97FF",
           "#FECB52"
          ],
          "font": {
           "color": "#2a3f5f"
          },
          "geo": {
           "bgcolor": "white",
           "lakecolor": "white",
           "landcolor": "#E5ECF6",
           "showlakes": true,
           "showland": true,
           "subunitcolor": "white"
          },
          "hoverlabel": {
           "align": "left"
          },
          "hovermode": "closest",
          "mapbox": {
           "style": "light"
          },
          "paper_bgcolor": "white",
          "plot_bgcolor": "#E5ECF6",
          "polar": {
           "angularaxis": {
            "gridcolor": "white",
            "linecolor": "white",
            "ticks": ""
           },
           "bgcolor": "#E5ECF6",
           "radialaxis": {
            "gridcolor": "white",
            "linecolor": "white",
            "ticks": ""
           }
          },
          "scene": {
           "xaxis": {
            "backgroundcolor": "#E5ECF6",
            "gridcolor": "white",
            "gridwidth": 2,
            "linecolor": "white",
            "showbackground": true,
            "ticks": "",
            "zerolinecolor": "white"
           },
           "yaxis": {
            "backgroundcolor": "#E5ECF6",
            "gridcolor": "white",
            "gridwidth": 2,
            "linecolor": "white",
            "showbackground": true,
            "ticks": "",
            "zerolinecolor": "white"
           },
           "zaxis": {
            "backgroundcolor": "#E5ECF6",
            "gridcolor": "white",
            "gridwidth": 2,
            "linecolor": "white",
            "showbackground": true,
            "ticks": "",
            "zerolinecolor": "white"
           }
          },
          "shapedefaults": {
           "line": {
            "color": "#2a3f5f"
           }
          },
          "ternary": {
           "aaxis": {
            "gridcolor": "white",
            "linecolor": "white",
            "ticks": ""
           },
           "baxis": {
            "gridcolor": "white",
            "linecolor": "white",
            "ticks": ""
           },
           "bgcolor": "#E5ECF6",
           "caxis": {
            "gridcolor": "white",
            "linecolor": "white",
            "ticks": ""
           }
          },
          "title": {
           "x": 0.05
          },
          "xaxis": {
           "automargin": true,
           "gridcolor": "white",
           "linecolor": "white",
           "ticks": "",
           "title": {
            "standoff": 15
           },
           "zerolinecolor": "white",
           "zerolinewidth": 2
          },
          "yaxis": {
           "automargin": true,
           "gridcolor": "white",
           "linecolor": "white",
           "ticks": "",
           "title": {
            "standoff": 15
           },
           "zerolinecolor": "white",
           "zerolinewidth": 2
          }
         }
        },
        "width": 1000,
        "xaxis": {
         "anchor": "y",
         "domain": [
          0.7111111111111111,
          1
         ]
        },
        "xaxis2": {
         "anchor": "y2",
         "domain": [
          0.7111111111111111,
          1
         ]
        },
        "xaxis3": {
         "anchor": "y3",
         "domain": [
          0.7111111111111111,
          1
         ],
         "title": {
          "text": "Time (miliseconds)"
         }
        },
        "yaxis": {
         "anchor": "x",
         "domain": [
          0.7333333333333333,
          1
         ]
        },
        "yaxis2": {
         "anchor": "x2",
         "domain": [
          0.36666666666666664,
          0.6333333333333333
         ]
        },
        "yaxis3": {
         "anchor": "x3",
         "domain": [
          0,
          0.26666666666666666
         ],
         "showgrid": true,
         "title": {
          "text": "ω̂ (degree/s² * 1e3)"
         }
        }
       }
      },
      "text/html": [
       "<div>                            <div id=\"cc3f09c5-2cbe-433c-b569-e64c8d71556a\" class=\"plotly-graph-div\" style=\"height:800px; width:1000px;\"></div>            <script type=\"text/javascript\">                require([\"plotly\"], function(Plotly) {                    window.PLOTLYENV=window.PLOTLYENV || {};                                    if (document.getElementById(\"cc3f09c5-2cbe-433c-b569-e64c8d71556a\")) {                    Plotly.newPlot(                        \"cc3f09c5-2cbe-433c-b569-e64c8d71556a\",                        [{\"line\":{\"color\":\"black\"},\"mode\":\"lines\",\"name\":\"Line\",\"x\":[0.0923831865079365,0.091256746031746,0.0876436507936508,0.0808040312499999,0.0773440624999999,0.0758268749999999,0.0761657656249999,0.0775346874999999,0.0787169531249999,0.0793403593749999,0.0792698906249999,0.0785223124999999,0.0770551874999999,0.0750698906249999,0.0740018650793651,0.0717059603174603,0.0692608293650794],\"y\":[0.0749078492063492,0.0774003611111111,0.0796910634920635,0.0806018125,0.0782105156249999,0.0734189374999998,0.0668851718749999,0.0594595312499999,0.0516035937499999,0.0432321718749999,0.0341382812499999,0.0237831718749998,0.0121719218749999,-0.0002450625,-0.0066595634920634,-0.0197049682539682,-0.0327902063492063],\"z\":[-0.0326913571428571,-0.0292091428571428,-0.0244063571428571,-0.0151327499999999,-0.0078409687499999,5.859375000049879e-06,0.0082399999999999,0.0167772656249999,0.0254359531249999,0.0340576249999999,0.042619859375,0.0508867187499999,0.0588755624999999,0.066835609375,0.0708562857142857,0.0791595714285714,0.0880143928571428],\"type\":\"scatter3d\",\"scene\":\"scene\"},{\"line\":{\"color\":\"black\",\"width\":1},\"mode\":\"lines\",\"name\":\"Line\",\"x\":[0.0379301626984125,0.0433097222222222,0.048344484126984,0.0552722031249999,0.0595541249999999,0.0635950781249999,0.0673072031249999,0.0705151874999999,0.0729335781249999,0.0745617968749999,0.0754331093749999,0.0756746093749999,0.0754067187499999,0.0745708749999999,0.0739740317460317,0.0724423055555556,0.0704984246031746],\"y\":[0.0759685595238095,0.0709300238095237,0.0655928095238095,0.0571400312499999,0.0512446874999999,0.0451740468749999,0.0387908906249999,0.0319747656249999,0.0247259687499999,0.0169981406249999,0.0088422187499999,0.0003777499999999,-0.0084179843749999,-0.0174414374999999,-0.0220199603174603,-0.0311758055555555,-0.0401877817460317],\"z\":[0.0021608492063491,0.0100453968253968,0.0182329206349206,0.0306053124999999,0.0386212499999999,0.0463986874999999,0.0537888906249999,0.0606256718749999,0.0667902187499999,0.0722581249999999,0.0771446718749999,0.0815654218749999,0.0855459531249999,0.0891597031249999,0.0908214444444445,0.0938001706349207,0.0962705873015873],\"type\":\"scatter3d\",\"scene\":\"scene\"},{\"marker\":{\"color\":\"black\",\"size\":3,\"symbol\":\"circle\"},\"mode\":\"markers\",\"name\":\"Markers_chaser\",\"x\":[0.0923831865079365,0.0792698906249999],\"y\":[0.0749078492063492,0.0341382812499999],\"z\":[-0.0326913571428571,0.042619859375],\"type\":\"scatter3d\",\"scene\":\"scene\"},{\"marker\":{\"color\":\"black\",\"size\":3,\"symbol\":\"circle-open\"},\"mode\":\"markers\",\"name\":\"Markers_chasee\",\"x\":[0.0379301626984125,0.0754331093749999],\"y\":[0.0759685595238095,0.0088422187499999],\"z\":[0.0021608492063491,0.0771446718749999],\"type\":\"scatter3d\",\"scene\":\"scene\"},{\"mode\":\"text\",\"name\":\"Labels_chaser\",\"text\":[\"0\"],\"textfont\":{\"color\":\"black\",\"size\":10},\"textposition\":\"top center\",\"x\":[0.0923831865079365],\"y\":[0.0749078492063492],\"z\":[-0.0326913571428571],\"type\":\"scatter3d\",\"scene\":\"scene\"},{\"mode\":\"text\",\"name\":\"Labels_chasee\",\"text\":[\"0\"],\"textfont\":{\"color\":\"black\",\"size\":10},\"textposition\":\"bottom left\",\"x\":[0.0379301626984125],\"y\":[0.0759685595238095],\"z\":[0.0021608492063491],\"type\":\"scatter3d\",\"scene\":\"scene\"},{\"mode\":\"lines\",\"x\":[0.0,10.0,20.0,30.0,40.0,50.0,60.0,70.0,80.0,90.0,100.0,110.0,120.0,130.0,140.0,150.0],\"y\":[36.18124000675163,9.858663146351171,-0.1474452371784925,-0.2172286968174017,6.973839507674798,15.27625504087101,19.18105011972884,16.32068658289024,11.698221778674938,6.284466210253541,0.6861121113132226,-5.923406648953309,-11.494564984340236,-14.162359798297205,-16.62931761935559,-20.364027364833237],\"type\":\"scatter\",\"xaxis\":\"x\",\"yaxis\":\"y\"},{\"marker\":{\"color\":\"black\",\"size\":5,\"symbol\":\"circle\"},\"mode\":\"markers\",\"name\":\"phi\",\"x\":[0.0,100.0],\"y\":[36.18124000675163,0.6861121113132226],\"type\":\"scatter\",\"xaxis\":\"x\",\"yaxis\":\"y\"},{\"mode\":\"lines\",\"x\":[0.0,10.0,20.0,30.0,40.0,50.0,60.0,70.0,80.0,90.0,100.0,110.0,120.0,130.0,140.0,150.0],\"y\":[18.989069435914363,-0.663373997446076,-11.05539725887834,-14.232426437010059,-12.239887620468846,-5.02977811856422,-0.12105271755675817,3.6486714611859004,5.353184287802429,5.0815901500221,4.5192977092116,3.0361373423907416,1.4779293419467088,0.32833732385153525,0.07102490407723927],\"type\":\"scatter\",\"xaxis\":\"x2\",\"yaxis\":\"y2\"},{\"mode\":\"lines\",\"x\":[0.0,10.0,20.0,30.0,40.0,50.0,60.0,70.0,80.0,90.0,100.0,110.0,120.0,130.0,140.0,150.0],\"y\":[-19.65244343336044,-10.392023261432264,-3.1770291781317184,1.992538816541213,7.2101095019046255,4.908725401007462,3.7697241787426585,1.7045128266165284,-0.2715941377803288,-0.5622924408105003,-1.483160366820858,-1.5582080004440328,-1.1495920180951735,-0.257312419774296],\"type\":\"scatter\",\"xaxis\":\"x3\",\"yaxis\":\"y3\"},{\"marker\":{\"color\":\"black\",\"size\":5,\"symbol\":\"circle\"},\"mode\":\"markers\",\"name\":\"omega_hat\",\"x\":[0.0],\"y\":[-19.65244343336044],\"type\":\"scatter\",\"xaxis\":\"x3\",\"yaxis\":\"y3\"}],                        {\"template\":{\"data\":{\"histogram2dcontour\":[{\"type\":\"histogram2dcontour\",\"colorbar\":{\"outlinewidth\":0,\"ticks\":\"\"},\"colorscale\":[[0.0,\"#0d0887\"],[0.1111111111111111,\"#46039f\"],[0.2222222222222222,\"#7201a8\"],[0.3333333333333333,\"#9c179e\"],[0.4444444444444444,\"#bd3786\"],[0.5555555555555556,\"#d8576b\"],[0.6666666666666666,\"#ed7953\"],[0.7777777777777778,\"#fb9f3a\"],[0.8888888888888888,\"#fdca26\"],[1.0,\"#f0f921\"]]}],\"choropleth\":[{\"type\":\"choropleth\",\"colorbar\":{\"outlinewidth\":0,\"ticks\":\"\"}}],\"histogram2d\":[{\"type\":\"histogram2d\",\"colorbar\":{\"outlinewidth\":0,\"ticks\":\"\"},\"colorscale\":[[0.0,\"#0d0887\"],[0.1111111111111111,\"#46039f\"],[0.2222222222222222,\"#7201a8\"],[0.3333333333333333,\"#9c179e\"],[0.4444444444444444,\"#bd3786\"],[0.5555555555555556,\"#d8576b\"],[0.6666666666666666,\"#ed7953\"],[0.7777777777777778,\"#fb9f3a\"],[0.8888888888888888,\"#fdca26\"],[1.0,\"#f0f921\"]]}],\"heatmap\":[{\"type\":\"heatmap\",\"colorbar\":{\"outlinewidth\":0,\"ticks\":\"\"},\"colorscale\":[[0.0,\"#0d0887\"],[0.1111111111111111,\"#46039f\"],[0.2222222222222222,\"#7201a8\"],[0.3333333333333333,\"#9c179e\"],[0.4444444444444444,\"#bd3786\"],[0.5555555555555556,\"#d8576b\"],[0.6666666666666666,\"#ed7953\"],[0.7777777777777778,\"#fb9f3a\"],[0.8888888888888888,\"#fdca26\"],[1.0,\"#f0f921\"]]}],\"heatmapgl\":[{\"type\":\"heatmapgl\",\"colorbar\":{\"outlinewidth\":0,\"ticks\":\"\"},\"colorscale\":[[0.0,\"#0d0887\"],[0.1111111111111111,\"#46039f\"],[0.2222222222222222,\"#7201a8\"],[0.3333333333333333,\"#9c179e\"],[0.4444444444444444,\"#bd3786\"],[0.5555555555555556,\"#d8576b\"],[0.6666666666666666,\"#ed7953\"],[0.7777777777777778,\"#fb9f3a\"],[0.8888888888888888,\"#fdca26\"],[1.0,\"#f0f921\"]]}],\"contourcarpet\":[{\"type\":\"contourcarpet\",\"colorbar\":{\"outlinewidth\":0,\"ticks\":\"\"}}],\"contour\":[{\"type\":\"contour\",\"colorbar\":{\"outlinewidth\":0,\"ticks\":\"\"},\"colorscale\":[[0.0,\"#0d0887\"],[0.1111111111111111,\"#46039f\"],[0.2222222222222222,\"#7201a8\"],[0.3333333333333333,\"#9c179e\"],[0.4444444444444444,\"#bd3786\"],[0.5555555555555556,\"#d8576b\"],[0.6666666666666666,\"#ed7953\"],[0.7777777777777778,\"#fb9f3a\"],[0.8888888888888888,\"#fdca26\"],[1.0,\"#f0f921\"]]}],\"surface\":[{\"type\":\"surface\",\"colorbar\":{\"outlinewidth\":0,\"ticks\":\"\"},\"colorscale\":[[0.0,\"#0d0887\"],[0.1111111111111111,\"#46039f\"],[0.2222222222222222,\"#7201a8\"],[0.3333333333333333,\"#9c179e\"],[0.4444444444444444,\"#bd3786\"],[0.5555555555555556,\"#d8576b\"],[0.6666666666666666,\"#ed7953\"],[0.7777777777777778,\"#fb9f3a\"],[0.8888888888888888,\"#fdca26\"],[1.0,\"#f0f921\"]]}],\"mesh3d\":[{\"type\":\"mesh3d\",\"colorbar\":{\"outlinewidth\":0,\"ticks\":\"\"}}],\"scatter\":[{\"fillpattern\":{\"fillmode\":\"overlay\",\"size\":10,\"solidity\":0.2},\"type\":\"scatter\"}],\"parcoords\":[{\"type\":\"parcoords\",\"line\":{\"colorbar\":{\"outlinewidth\":0,\"ticks\":\"\"}}}],\"scatterpolargl\":[{\"type\":\"scatterpolargl\",\"marker\":{\"colorbar\":{\"outlinewidth\":0,\"ticks\":\"\"}}}],\"bar\":[{\"error_x\":{\"color\":\"#2a3f5f\"},\"error_y\":{\"color\":\"#2a3f5f\"},\"marker\":{\"line\":{\"color\":\"#E5ECF6\",\"width\":0.5},\"pattern\":{\"fillmode\":\"overlay\",\"size\":10,\"solidity\":0.2}},\"type\":\"bar\"}],\"scattergeo\":[{\"type\":\"scattergeo\",\"marker\":{\"colorbar\":{\"outlinewidth\":0,\"ticks\":\"\"}}}],\"scatterpolar\":[{\"type\":\"scatterpolar\",\"marker\":{\"colorbar\":{\"outlinewidth\":0,\"ticks\":\"\"}}}],\"histogram\":[{\"marker\":{\"pattern\":{\"fillmode\":\"overlay\",\"size\":10,\"solidity\":0.2}},\"type\":\"histogram\"}],\"scattergl\":[{\"type\":\"scattergl\",\"marker\":{\"colorbar\":{\"outlinewidth\":0,\"ticks\":\"\"}}}],\"scatter3d\":[{\"type\":\"scatter3d\",\"line\":{\"colorbar\":{\"outlinewidth\":0,\"ticks\":\"\"}},\"marker\":{\"colorbar\":{\"outlinewidth\":0,\"ticks\":\"\"}}}],\"scattermapbox\":[{\"type\":\"scattermapbox\",\"marker\":{\"colorbar\":{\"outlinewidth\":0,\"ticks\":\"\"}}}],\"scatterternary\":[{\"type\":\"scatterternary\",\"marker\":{\"colorbar\":{\"outlinewidth\":0,\"ticks\":\"\"}}}],\"scattercarpet\":[{\"type\":\"scattercarpet\",\"marker\":{\"colorbar\":{\"outlinewidth\":0,\"ticks\":\"\"}}}],\"carpet\":[{\"aaxis\":{\"endlinecolor\":\"#2a3f5f\",\"gridcolor\":\"white\",\"linecolor\":\"white\",\"minorgridcolor\":\"white\",\"startlinecolor\":\"#2a3f5f\"},\"baxis\":{\"endlinecolor\":\"#2a3f5f\",\"gridcolor\":\"white\",\"linecolor\":\"white\",\"minorgridcolor\":\"white\",\"startlinecolor\":\"#2a3f5f\"},\"type\":\"carpet\"}],\"table\":[{\"cells\":{\"fill\":{\"color\":\"#EBF0F8\"},\"line\":{\"color\":\"white\"}},\"header\":{\"fill\":{\"color\":\"#C8D4E3\"},\"line\":{\"color\":\"white\"}},\"type\":\"table\"}],\"barpolar\":[{\"marker\":{\"line\":{\"color\":\"#E5ECF6\",\"width\":0.5},\"pattern\":{\"fillmode\":\"overlay\",\"size\":10,\"solidity\":0.2}},\"type\":\"barpolar\"}],\"pie\":[{\"automargin\":true,\"type\":\"pie\"}]},\"layout\":{\"autotypenumbers\":\"strict\",\"colorway\":[\"#636efa\",\"#EF553B\",\"#00cc96\",\"#ab63fa\",\"#FFA15A\",\"#19d3f3\",\"#FF6692\",\"#B6E880\",\"#FF97FF\",\"#FECB52\"],\"font\":{\"color\":\"#2a3f5f\"},\"hovermode\":\"closest\",\"hoverlabel\":{\"align\":\"left\"},\"paper_bgcolor\":\"white\",\"plot_bgcolor\":\"#E5ECF6\",\"polar\":{\"bgcolor\":\"#E5ECF6\",\"angularaxis\":{\"gridcolor\":\"white\",\"linecolor\":\"white\",\"ticks\":\"\"},\"radialaxis\":{\"gridcolor\":\"white\",\"linecolor\":\"white\",\"ticks\":\"\"}},\"ternary\":{\"bgcolor\":\"#E5ECF6\",\"aaxis\":{\"gridcolor\":\"white\",\"linecolor\":\"white\",\"ticks\":\"\"},\"baxis\":{\"gridcolor\":\"white\",\"linecolor\":\"white\",\"ticks\":\"\"},\"caxis\":{\"gridcolor\":\"white\",\"linecolor\":\"white\",\"ticks\":\"\"}},\"coloraxis\":{\"colorbar\":{\"outlinewidth\":0,\"ticks\":\"\"}},\"colorscale\":{\"sequential\":[[0.0,\"#0d0887\"],[0.1111111111111111,\"#46039f\"],[0.2222222222222222,\"#7201a8\"],[0.3333333333333333,\"#9c179e\"],[0.4444444444444444,\"#bd3786\"],[0.5555555555555556,\"#d8576b\"],[0.6666666666666666,\"#ed7953\"],[0.7777777777777778,\"#fb9f3a\"],[0.8888888888888888,\"#fdca26\"],[1.0,\"#f0f921\"]],\"sequentialminus\":[[0.0,\"#0d0887\"],[0.1111111111111111,\"#46039f\"],[0.2222222222222222,\"#7201a8\"],[0.3333333333333333,\"#9c179e\"],[0.4444444444444444,\"#bd3786\"],[0.5555555555555556,\"#d8576b\"],[0.6666666666666666,\"#ed7953\"],[0.7777777777777778,\"#fb9f3a\"],[0.8888888888888888,\"#fdca26\"],[1.0,\"#f0f921\"]],\"diverging\":[[0,\"#8e0152\"],[0.1,\"#c51b7d\"],[0.2,\"#de77ae\"],[0.3,\"#f1b6da\"],[0.4,\"#fde0ef\"],[0.5,\"#f7f7f7\"],[0.6,\"#e6f5d0\"],[0.7,\"#b8e186\"],[0.8,\"#7fbc41\"],[0.9,\"#4d9221\"],[1,\"#276419\"]]},\"xaxis\":{\"gridcolor\":\"white\",\"linecolor\":\"white\",\"ticks\":\"\",\"title\":{\"standoff\":15},\"zerolinecolor\":\"white\",\"automargin\":true,\"zerolinewidth\":2},\"yaxis\":{\"gridcolor\":\"white\",\"linecolor\":\"white\",\"ticks\":\"\",\"title\":{\"standoff\":15},\"zerolinecolor\":\"white\",\"automargin\":true,\"zerolinewidth\":2},\"scene\":{\"xaxis\":{\"backgroundcolor\":\"#E5ECF6\",\"gridcolor\":\"white\",\"linecolor\":\"white\",\"showbackground\":true,\"ticks\":\"\",\"zerolinecolor\":\"white\",\"gridwidth\":2},\"yaxis\":{\"backgroundcolor\":\"#E5ECF6\",\"gridcolor\":\"white\",\"linecolor\":\"white\",\"showbackground\":true,\"ticks\":\"\",\"zerolinecolor\":\"white\",\"gridwidth\":2},\"zaxis\":{\"backgroundcolor\":\"#E5ECF6\",\"gridcolor\":\"white\",\"linecolor\":\"white\",\"showbackground\":true,\"ticks\":\"\",\"zerolinecolor\":\"white\",\"gridwidth\":2}},\"shapedefaults\":{\"line\":{\"color\":\"#2a3f5f\"}},\"annotationdefaults\":{\"arrowcolor\":\"#2a3f5f\",\"arrowhead\":0,\"arrowwidth\":1},\"geo\":{\"bgcolor\":\"white\",\"landcolor\":\"#E5ECF6\",\"subunitcolor\":\"white\",\"showland\":true,\"showlakes\":true,\"lakecolor\":\"white\"},\"title\":{\"x\":0.05},\"mapbox\":{\"style\":\"light\"}}},\"scene\":{\"domain\":{\"x\":[0.0,0.6444444444444445],\"y\":[0.0,1.0]},\"camera\":{\"eye\":{\"x\":2.5,\"y\":0.0,\"z\":0.0}},\"aspectmode\":\"cube\"},\"xaxis\":{\"anchor\":\"y\",\"domain\":[0.7111111111111111,1.0]},\"yaxis\":{\"anchor\":\"x\",\"domain\":[0.7333333333333333,1.0]},\"xaxis2\":{\"anchor\":\"y2\",\"domain\":[0.7111111111111111,1.0]},\"yaxis2\":{\"anchor\":\"x2\",\"domain\":[0.36666666666666664,0.6333333333333333]},\"xaxis3\":{\"anchor\":\"y3\",\"domain\":[0.7111111111111111,1.0],\"title\":{\"text\":\"Time (miliseconds)\"}},\"yaxis3\":{\"anchor\":\"x3\",\"domain\":[0.0,0.26666666666666666],\"title\":{\"text\":\"\\u03c9\\u0302 (degree/s\\u00b2 * 1e3)\"},\"showgrid\":true},\"annotations\":[{\"font\":{\"color\":\"black\",\"size\":12},\"showarrow\":false,\"text\":\"\\u03a6 (angle between chaser and chasee)\",\"x\":0.85,\"xanchor\":\"center\",\"xref\":\"paper\",\"y\":1.0,\"yanchor\":\"bottom\",\"yref\":\"paper\"},{\"font\":{\"color\":\"black\",\"size\":12},\"showarrow\":false,\"text\":\"\\u03c9 (turning angle of chaser)\",\"x\":0.85,\"xanchor\":\"center\",\"xref\":\"paper\",\"y\":0.6428571428571428,\"yanchor\":\"bottom\",\"yref\":\"paper\"},{\"font\":{\"color\":\"black\",\"size\":12},\"showarrow\":false,\"text\":\"\\u03c9\\u0302 (rate of turning angle of chaser)\",\"x\":0.85,\"xanchor\":\"center\",\"xref\":\"paper\",\"y\":0.2857142857142857,\"yanchor\":\"bottom\",\"yref\":\"paper\"}],\"height\":800,\"width\":1000,\"showlegend\":false},                        {\"responsive\": true}                    ).then(function(){\n",
       "                            \n",
       "var gd = document.getElementById('cc3f09c5-2cbe-433c-b569-e64c8d71556a');\n",
       "var x = new MutationObserver(function (mutations, observer) {{\n",
       "        var display = window.getComputedStyle(gd).display;\n",
       "        if (!display || display === 'none') {{\n",
       "            console.log([gd, 'removed!']);\n",
       "            Plotly.purge(gd);\n",
       "            observer.disconnect();\n",
       "        }}\n",
       "}});\n",
       "\n",
       "// Listen for the removal of the full notebook cells\n",
       "var notebookContainer = gd.closest('#notebook-container');\n",
       "if (notebookContainer) {{\n",
       "    x.observe(notebookContainer, {childList: true});\n",
       "}}\n",
       "\n",
       "// Listen for the clearing of the current output cell\n",
       "var outputEl = gd.closest('.output');\n",
       "if (outputEl) {{\n",
       "    x.observe(outputEl, {childList: true});\n",
       "}}\n",
       "\n",
       "                        })                };                });            </script>        </div>"
      ]
     },
     "metadata": {},
     "output_type": "display_data"
    }
   ],
   "source": [
    "# titles = titles = [\n",
    "#     \"\", \"\", \"θ (angle between chaser and chasee)\",\n",
    "#     \"\", \"\", \"ω (turning angle of chaser)\",\n",
    "#     \"\", \"\", \"ω̂ (rate of turning angle of chaser)\"\n",
    "# ]\n",
    "\n",
    "\n",
    "fig = make_subplots(\n",
    "    rows=3, cols=3,\n",
    "#     subplot_titles=titles,\n",
    "    specs=[\n",
    "        [{\"type\": \"scene\", \"rowspan\": 3, \"colspan\": 2}, None, {\"type\": \"xy\"}],\n",
    "        [None,                        None,              {\"type\": \"xy\"}],\n",
    "        [None,                        None,              {\"type\": \"xy\"}]\n",
    "          ])\n",
    "\n",
    "\n",
    "################### the 3D chase plot #######################################################################\n",
    "# 3D line plot to recreate the chase\n",
    "line_trace_1 = go.Scatter3d(\n",
    "    x = com_df.chaser_com_x, y = com_df.chaser_com_y, z = com_df.chaser_com_z,\n",
    "    mode='lines',\n",
    "    line=dict(color='black'),\n",
    "    name='Line'\n",
    ")\n",
    "\n",
    "line_trace_2 = go.Scatter3d(\n",
    "    x = com_df.chasee_com_x, y = com_df.chasee_com_y, z = com_df.chasee_com_z,\n",
    "    mode='lines',\n",
    "    line=dict(color='black', width=1),\n",
    "    name='Line'\n",
    ")\n",
    "\n",
    "N = len(com_df)\n",
    "# Markers every 10th point\n",
    "marker_indices = np.arange(0, N, 10)\n",
    "\n",
    "marker_trace_1 = go.Scatter3d(\n",
    "    x=com_df.chaser_com_x[marker_indices],\n",
    "    y=com_df.chaser_com_y[marker_indices],\n",
    "    z=com_df.chaser_com_z[marker_indices],\n",
    "    mode='markers',\n",
    "    marker=dict(\n",
    "        size=3,\n",
    "        color='black',\n",
    "        symbol='circle'\n",
    "#         ['circle' if i % 2 == 0 else 'circle-open' for i in range(len(marker_indices))],\n",
    "#         line=dict(width=1, color='black')\n",
    "    ),\n",
    "    name='Markers_chaser'\n",
    ")\n",
    "\n",
    "marker_trace_2 = go.Scatter3d(\n",
    "    x=com_df.chasee_com_x[marker_indices],\n",
    "    y=com_df.chasee_com_y[marker_indices],\n",
    "    z=com_df.chasee_com_z[marker_indices],\n",
    "    mode='markers',\n",
    "    marker=dict(\n",
    "        size=3,\n",
    "        color='black',\n",
    "        symbol='circle-open'\n",
    "#         ['circle' if i % 2 == 0 else 'circle-open' for i in range(len(marker_indices))],\n",
    "#         line=dict(width=1, color='black')\n",
    "    ),\n",
    "    name='Markers_chasee'\n",
    ")\n",
    "\n",
    "\n",
    "# Text labels every 50th point\n",
    "text_indices = np.arange(0, N, 50)\n",
    "\n",
    "text_trace_1 = go.Scatter3d(\n",
    "    x=com_df.chaser_com_x[text_indices],\n",
    "    y=com_df.chaser_com_y[text_indices],\n",
    "    z=com_df.chaser_com_z[text_indices],\n",
    "    mode='text',\n",
    "    text=[str(i) for i in text_indices],\n",
    "    textposition='top center',\n",
    "    textfont=dict(size=10, color='black'),\n",
    "    name='Labels_chaser'\n",
    ")\n",
    "\n",
    "text_trace_2 = go.Scatter3d(\n",
    "    x=com_df.chasee_com_x[text_indices],\n",
    "    y=com_df.chasee_com_y[text_indices],\n",
    "    z=com_df.chasee_com_z[text_indices],\n",
    "    mode='text',\n",
    "    text=[str(i) for i in text_indices],\n",
    "    textposition='bottom left',\n",
    "    textfont=dict(size=10, color='black'),\n",
    "    name='Labels_chasee'\n",
    ")\n",
    "\n",
    "# Create the figure\n",
    "\n",
    "# Add all traces to the subplot\n",
    "fig.add_trace(line_trace_1, row=1, col=1)\n",
    "fig.add_trace(line_trace_2, row=1, col=1)\n",
    "fig.add_trace(marker_trace_1, row=1, col=1)\n",
    "fig.add_trace(marker_trace_2, row=1, col=1)\n",
    "fig.add_trace(text_trace_1, row=1, col=1)\n",
    "fig.add_trace(text_trace_2, row=1, col=1)\n",
    "\n",
    "# Set the camera to view along the z-axis (xy plane)\n",
    "fig.update_layout(\n",
    "    scene_camera=dict(\n",
    "        eye=dict(x=2.5, y=0., z=0.)  # Adjust z to control the distance\n",
    "    ),\n",
    "    scene=dict(\n",
    "        aspectmode='cube'  # Keeps the aspect ratio uniform\n",
    "    )\n",
    ")\n",
    "\n",
    "############## add all the chase variables as line plots in second column ###############################\n",
    "###### angle between the chasee and chaser ##############################################################\n",
    "marker_trace_theta = go.Scatter(\n",
    "    x=time_Axis[marker_indices],\n",
    "    y=chase_df.loc[:,'error_phi'][marker_indices],\n",
    "    mode='markers',\n",
    "    marker=dict(\n",
    "        size=5,\n",
    "        color='black',\n",
    "        symbol='circle'\n",
    "    ),\n",
    "    name='phi'\n",
    ")\n",
    "\n",
    "fig.add_trace(go.Scatter(\n",
    "    x = time_Axis, y = chase_df.loc[:,'error_phi'],\n",
    "    mode = 'lines'),\n",
    "              row = 1, col = 3)\n",
    "fig.add_trace(marker_trace_theta, row = 1, col = 3)\n",
    "\n",
    "\n",
    "####### turning angle for the chaser ####################################################################\n",
    "omega = angular_speed_df.loc[:,'chaser_phi']\n",
    "omega_smoothed = signal.savgol_filter(omega, 10, 3)\n",
    "\n",
    "\n",
    "fig.add_trace(go.Scatter(\n",
    "        x = time_Axis, y = omega_smoothed\n",
    "        , mode = 'lines'\n",
    "        ),\n",
    "             row = 2, col = 3)\n",
    "\n",
    "######## rate of turning angle for the chaser ############################################################\n",
    "omega_hat = np.diff(omega_smoothed)\n",
    "\n",
    "marker_indices = np.arange(0, len(omega_hat), 20)\n",
    "marker_trace_omega_hat = go.Scatter(\n",
    "    x=time_Axis[marker_indices], \n",
    "    y=omega_hat[marker_indices],\n",
    "    mode='markers',\n",
    "    marker=dict(\n",
    "        size=5,\n",
    "        color='black',\n",
    "        symbol='circle'\n",
    "    ),\n",
    "    name='omega_hat'\n",
    ")\n",
    "\n",
    "fig.add_trace(go.Scatter(\n",
    "    x = time_Axis, y = omega_hat,\n",
    "    mode = 'lines'),\n",
    "              row = 3, col = 3)\n",
    "fig.add_trace(marker_trace_omega_hat, row = 3, col = 3)\n",
    "\n",
    "# Add manual annotations for column 3 titles\n",
    "titles = [\n",
    "    \"Φ (angle between chaser and chasee)\",\n",
    "    \"ω (turning angle of chaser)\",\n",
    "    \"ω̂ (rate of turning angle of chaser)\"\n",
    "]\n",
    "\n",
    "for i, title in enumerate(titles):\n",
    "    fig.add_annotation(\n",
    "        text=title,\n",
    "        xref=\"paper\",\n",
    "        yref=\"paper\",\n",
    "        x=0.85,  # far right (col 3)\n",
    "        y=1.0 - (i * 1 / 2.8),  # top, middle, bottom\n",
    "        xanchor=\"center\",\n",
    "        yanchor=\"bottom\",\n",
    "        showarrow=False,\n",
    "        font=dict(size=12, color=\"black\")\n",
    "    )\n",
    "\n",
    "# Final layout tweaks\n",
    "fig.update_layout(\n",
    "    height=800,\n",
    "    width=1000,\n",
    "#     title_text=\"Custom Titles for Column 3 Subplots\",\n",
    "    showlegend=False\n",
    ")\n",
    "\n",
    "fig.update_layout({\n",
    "    'xaxis3': dict(title='Time (miliseconds)'),\n",
    "    \"yaxis3\": dict(title=\"ω̂ (degree/s² * 1e3)\", showgrid=True)\n",
    "    })\n",
    "\n",
    "\n",
    "fig.show()\n",
    "fig.write_html(\"../dataFolders/MuscaChasingMusca/Sampled100fps_Figures/Chase_relationships/\" + name + \"phi_visualization.html\")\n",
    "# fig.write_html(\"../dataFolders/MuscaChasingMusca/Outputs/\" + name + \"phi_visualization.html\")"
   ]
  },
  {
   "cell_type": "code",
   "execution_count": 77,
   "id": "bf840086",
   "metadata": {},
   "outputs": [
    {
     "data": {
      "application/vnd.plotly.v1+json": {
       "config": {
        "plotlyServerURL": "https://plot.ly"
       },
       "data": [
        {
         "type": "scatter",
         "x": [
          -14,
          -13,
          -12,
          -11,
          -10,
          -9,
          -8,
          -7,
          -6,
          -5,
          -4,
          -3,
          -2,
          -1,
          0,
          1,
          2,
          3,
          4,
          5,
          6,
          7,
          8,
          9,
          10,
          11,
          12,
          13
         ],
         "y": [
          400.20289586278926,
          538.43016992156,
          515.8343394633704,
          385.3275729100847,
          100.89400305965574,
          -163.48870243050484,
          -395.2274259639149,
          -558.9842707348281,
          -636.2427887712103,
          -646.8367390099039,
          -477.9303390333424,
          -149.05864930784304,
          199.83951746465152,
          353.27718393756516,
          153.29698881011922,
          -569.7108321702581,
          -296.2965099555394,
          -85.90036126470042,
          88.7490279796108,
          228.90944760468736,
          136.33712063599867,
          92.96290171559232,
          26.03524909729149,
          -26.760732404936157,
          -36.281396998128365,
          -68.79903147938535,
          -67.67339861587786,
          -44.130421186474734,
          -9.309882416571826
         ]
        }
       ],
       "layout": {
        "template": {
         "data": {
          "bar": [
           {
            "error_x": {
             "color": "#2a3f5f"
            },
            "error_y": {
             "color": "#2a3f5f"
            },
            "marker": {
             "line": {
              "color": "#E5ECF6",
              "width": 0.5
             },
             "pattern": {
              "fillmode": "overlay",
              "size": 10,
              "solidity": 0.2
             }
            },
            "type": "bar"
           }
          ],
          "barpolar": [
           {
            "marker": {
             "line": {
              "color": "#E5ECF6",
              "width": 0.5
             },
             "pattern": {
              "fillmode": "overlay",
              "size": 10,
              "solidity": 0.2
             }
            },
            "type": "barpolar"
           }
          ],
          "carpet": [
           {
            "aaxis": {
             "endlinecolor": "#2a3f5f",
             "gridcolor": "white",
             "linecolor": "white",
             "minorgridcolor": "white",
             "startlinecolor": "#2a3f5f"
            },
            "baxis": {
             "endlinecolor": "#2a3f5f",
             "gridcolor": "white",
             "linecolor": "white",
             "minorgridcolor": "white",
             "startlinecolor": "#2a3f5f"
            },
            "type": "carpet"
           }
          ],
          "choropleth": [
           {
            "colorbar": {
             "outlinewidth": 0,
             "ticks": ""
            },
            "type": "choropleth"
           }
          ],
          "contour": [
           {
            "colorbar": {
             "outlinewidth": 0,
             "ticks": ""
            },
            "colorscale": [
             [
              0,
              "#0d0887"
             ],
             [
              0.1111111111111111,
              "#46039f"
             ],
             [
              0.2222222222222222,
              "#7201a8"
             ],
             [
              0.3333333333333333,
              "#9c179e"
             ],
             [
              0.4444444444444444,
              "#bd3786"
             ],
             [
              0.5555555555555556,
              "#d8576b"
             ],
             [
              0.6666666666666666,
              "#ed7953"
             ],
             [
              0.7777777777777778,
              "#fb9f3a"
             ],
             [
              0.8888888888888888,
              "#fdca26"
             ],
             [
              1,
              "#f0f921"
             ]
            ],
            "type": "contour"
           }
          ],
          "contourcarpet": [
           {
            "colorbar": {
             "outlinewidth": 0,
             "ticks": ""
            },
            "type": "contourcarpet"
           }
          ],
          "heatmap": [
           {
            "colorbar": {
             "outlinewidth": 0,
             "ticks": ""
            },
            "colorscale": [
             [
              0,
              "#0d0887"
             ],
             [
              0.1111111111111111,
              "#46039f"
             ],
             [
              0.2222222222222222,
              "#7201a8"
             ],
             [
              0.3333333333333333,
              "#9c179e"
             ],
             [
              0.4444444444444444,
              "#bd3786"
             ],
             [
              0.5555555555555556,
              "#d8576b"
             ],
             [
              0.6666666666666666,
              "#ed7953"
             ],
             [
              0.7777777777777778,
              "#fb9f3a"
             ],
             [
              0.8888888888888888,
              "#fdca26"
             ],
             [
              1,
              "#f0f921"
             ]
            ],
            "type": "heatmap"
           }
          ],
          "heatmapgl": [
           {
            "colorbar": {
             "outlinewidth": 0,
             "ticks": ""
            },
            "colorscale": [
             [
              0,
              "#0d0887"
             ],
             [
              0.1111111111111111,
              "#46039f"
             ],
             [
              0.2222222222222222,
              "#7201a8"
             ],
             [
              0.3333333333333333,
              "#9c179e"
             ],
             [
              0.4444444444444444,
              "#bd3786"
             ],
             [
              0.5555555555555556,
              "#d8576b"
             ],
             [
              0.6666666666666666,
              "#ed7953"
             ],
             [
              0.7777777777777778,
              "#fb9f3a"
             ],
             [
              0.8888888888888888,
              "#fdca26"
             ],
             [
              1,
              "#f0f921"
             ]
            ],
            "type": "heatmapgl"
           }
          ],
          "histogram": [
           {
            "marker": {
             "pattern": {
              "fillmode": "overlay",
              "size": 10,
              "solidity": 0.2
             }
            },
            "type": "histogram"
           }
          ],
          "histogram2d": [
           {
            "colorbar": {
             "outlinewidth": 0,
             "ticks": ""
            },
            "colorscale": [
             [
              0,
              "#0d0887"
             ],
             [
              0.1111111111111111,
              "#46039f"
             ],
             [
              0.2222222222222222,
              "#7201a8"
             ],
             [
              0.3333333333333333,
              "#9c179e"
             ],
             [
              0.4444444444444444,
              "#bd3786"
             ],
             [
              0.5555555555555556,
              "#d8576b"
             ],
             [
              0.6666666666666666,
              "#ed7953"
             ],
             [
              0.7777777777777778,
              "#fb9f3a"
             ],
             [
              0.8888888888888888,
              "#fdca26"
             ],
             [
              1,
              "#f0f921"
             ]
            ],
            "type": "histogram2d"
           }
          ],
          "histogram2dcontour": [
           {
            "colorbar": {
             "outlinewidth": 0,
             "ticks": ""
            },
            "colorscale": [
             [
              0,
              "#0d0887"
             ],
             [
              0.1111111111111111,
              "#46039f"
             ],
             [
              0.2222222222222222,
              "#7201a8"
             ],
             [
              0.3333333333333333,
              "#9c179e"
             ],
             [
              0.4444444444444444,
              "#bd3786"
             ],
             [
              0.5555555555555556,
              "#d8576b"
             ],
             [
              0.6666666666666666,
              "#ed7953"
             ],
             [
              0.7777777777777778,
              "#fb9f3a"
             ],
             [
              0.8888888888888888,
              "#fdca26"
             ],
             [
              1,
              "#f0f921"
             ]
            ],
            "type": "histogram2dcontour"
           }
          ],
          "mesh3d": [
           {
            "colorbar": {
             "outlinewidth": 0,
             "ticks": ""
            },
            "type": "mesh3d"
           }
          ],
          "parcoords": [
           {
            "line": {
             "colorbar": {
              "outlinewidth": 0,
              "ticks": ""
             }
            },
            "type": "parcoords"
           }
          ],
          "pie": [
           {
            "automargin": true,
            "type": "pie"
           }
          ],
          "scatter": [
           {
            "fillpattern": {
             "fillmode": "overlay",
             "size": 10,
             "solidity": 0.2
            },
            "type": "scatter"
           }
          ],
          "scatter3d": [
           {
            "line": {
             "colorbar": {
              "outlinewidth": 0,
              "ticks": ""
             }
            },
            "marker": {
             "colorbar": {
              "outlinewidth": 0,
              "ticks": ""
             }
            },
            "type": "scatter3d"
           }
          ],
          "scattercarpet": [
           {
            "marker": {
             "colorbar": {
              "outlinewidth": 0,
              "ticks": ""
             }
            },
            "type": "scattercarpet"
           }
          ],
          "scattergeo": [
           {
            "marker": {
             "colorbar": {
              "outlinewidth": 0,
              "ticks": ""
             }
            },
            "type": "scattergeo"
           }
          ],
          "scattergl": [
           {
            "marker": {
             "colorbar": {
              "outlinewidth": 0,
              "ticks": ""
             }
            },
            "type": "scattergl"
           }
          ],
          "scattermapbox": [
           {
            "marker": {
             "colorbar": {
              "outlinewidth": 0,
              "ticks": ""
             }
            },
            "type": "scattermapbox"
           }
          ],
          "scatterpolar": [
           {
            "marker": {
             "colorbar": {
              "outlinewidth": 0,
              "ticks": ""
             }
            },
            "type": "scatterpolar"
           }
          ],
          "scatterpolargl": [
           {
            "marker": {
             "colorbar": {
              "outlinewidth": 0,
              "ticks": ""
             }
            },
            "type": "scatterpolargl"
           }
          ],
          "scatterternary": [
           {
            "marker": {
             "colorbar": {
              "outlinewidth": 0,
              "ticks": ""
             }
            },
            "type": "scatterternary"
           }
          ],
          "surface": [
           {
            "colorbar": {
             "outlinewidth": 0,
             "ticks": ""
            },
            "colorscale": [
             [
              0,
              "#0d0887"
             ],
             [
              0.1111111111111111,
              "#46039f"
             ],
             [
              0.2222222222222222,
              "#7201a8"
             ],
             [
              0.3333333333333333,
              "#9c179e"
             ],
             [
              0.4444444444444444,
              "#bd3786"
             ],
             [
              0.5555555555555556,
              "#d8576b"
             ],
             [
              0.6666666666666666,
              "#ed7953"
             ],
             [
              0.7777777777777778,
              "#fb9f3a"
             ],
             [
              0.8888888888888888,
              "#fdca26"
             ],
             [
              1,
              "#f0f921"
             ]
            ],
            "type": "surface"
           }
          ],
          "table": [
           {
            "cells": {
             "fill": {
              "color": "#EBF0F8"
             },
             "line": {
              "color": "white"
             }
            },
            "header": {
             "fill": {
              "color": "#C8D4E3"
             },
             "line": {
              "color": "white"
             }
            },
            "type": "table"
           }
          ]
         },
         "layout": {
          "annotationdefaults": {
           "arrowcolor": "#2a3f5f",
           "arrowhead": 0,
           "arrowwidth": 1
          },
          "autotypenumbers": "strict",
          "coloraxis": {
           "colorbar": {
            "outlinewidth": 0,
            "ticks": ""
           }
          },
          "colorscale": {
           "diverging": [
            [
             0,
             "#8e0152"
            ],
            [
             0.1,
             "#c51b7d"
            ],
            [
             0.2,
             "#de77ae"
            ],
            [
             0.3,
             "#f1b6da"
            ],
            [
             0.4,
             "#fde0ef"
            ],
            [
             0.5,
             "#f7f7f7"
            ],
            [
             0.6,
             "#e6f5d0"
            ],
            [
             0.7,
             "#b8e186"
            ],
            [
             0.8,
             "#7fbc41"
            ],
            [
             0.9,
             "#4d9221"
            ],
            [
             1,
             "#276419"
            ]
           ],
           "sequential": [
            [
             0,
             "#0d0887"
            ],
            [
             0.1111111111111111,
             "#46039f"
            ],
            [
             0.2222222222222222,
             "#7201a8"
            ],
            [
             0.3333333333333333,
             "#9c179e"
            ],
            [
             0.4444444444444444,
             "#bd3786"
            ],
            [
             0.5555555555555556,
             "#d8576b"
            ],
            [
             0.6666666666666666,
             "#ed7953"
            ],
            [
             0.7777777777777778,
             "#fb9f3a"
            ],
            [
             0.8888888888888888,
             "#fdca26"
            ],
            [
             1,
             "#f0f921"
            ]
           ],
           "sequentialminus": [
            [
             0,
             "#0d0887"
            ],
            [
             0.1111111111111111,
             "#46039f"
            ],
            [
             0.2222222222222222,
             "#7201a8"
            ],
            [
             0.3333333333333333,
             "#9c179e"
            ],
            [
             0.4444444444444444,
             "#bd3786"
            ],
            [
             0.5555555555555556,
             "#d8576b"
            ],
            [
             0.6666666666666666,
             "#ed7953"
            ],
            [
             0.7777777777777778,
             "#fb9f3a"
            ],
            [
             0.8888888888888888,
             "#fdca26"
            ],
            [
             1,
             "#f0f921"
            ]
           ]
          },
          "colorway": [
           "#636efa",
           "#EF553B",
           "#00cc96",
           "#ab63fa",
           "#FFA15A",
           "#19d3f3",
           "#FF6692",
           "#B6E880",
           "#FF97FF",
           "#FECB52"
          ],
          "font": {
           "color": "#2a3f5f"
          },
          "geo": {
           "bgcolor": "white",
           "lakecolor": "white",
           "landcolor": "#E5ECF6",
           "showlakes": true,
           "showland": true,
           "subunitcolor": "white"
          },
          "hoverlabel": {
           "align": "left"
          },
          "hovermode": "closest",
          "mapbox": {
           "style": "light"
          },
          "paper_bgcolor": "white",
          "plot_bgcolor": "#E5ECF6",
          "polar": {
           "angularaxis": {
            "gridcolor": "white",
            "linecolor": "white",
            "ticks": ""
           },
           "bgcolor": "#E5ECF6",
           "radialaxis": {
            "gridcolor": "white",
            "linecolor": "white",
            "ticks": ""
           }
          },
          "scene": {
           "xaxis": {
            "backgroundcolor": "#E5ECF6",
            "gridcolor": "white",
            "gridwidth": 2,
            "linecolor": "white",
            "showbackground": true,
            "ticks": "",
            "zerolinecolor": "white"
           },
           "yaxis": {
            "backgroundcolor": "#E5ECF6",
            "gridcolor": "white",
            "gridwidth": 2,
            "linecolor": "white",
            "showbackground": true,
            "ticks": "",
            "zerolinecolor": "white"
           },
           "zaxis": {
            "backgroundcolor": "#E5ECF6",
            "gridcolor": "white",
            "gridwidth": 2,
            "linecolor": "white",
            "showbackground": true,
            "ticks": "",
            "zerolinecolor": "white"
           }
          },
          "shapedefaults": {
           "line": {
            "color": "#2a3f5f"
           }
          },
          "ternary": {
           "aaxis": {
            "gridcolor": "white",
            "linecolor": "white",
            "ticks": ""
           },
           "baxis": {
            "gridcolor": "white",
            "linecolor": "white",
            "ticks": ""
           },
           "bgcolor": "#E5ECF6",
           "caxis": {
            "gridcolor": "white",
            "linecolor": "white",
            "ticks": ""
           }
          },
          "title": {
           "x": 0.05
          },
          "xaxis": {
           "automargin": true,
           "gridcolor": "white",
           "linecolor": "white",
           "ticks": "",
           "title": {
            "standoff": 15
           },
           "zerolinecolor": "white",
           "zerolinewidth": 2
          },
          "yaxis": {
           "automargin": true,
           "gridcolor": "white",
           "linecolor": "white",
           "ticks": "",
           "title": {
            "standoff": 15
           },
           "zerolinecolor": "white",
           "zerolinewidth": 2
          }
         }
        }
       }
      },
      "text/html": [
       "<div>                            <div id=\"3121ae1a-1a3d-4d10-8872-0de842ec3a8a\" class=\"plotly-graph-div\" style=\"height:525px; width:100%;\"></div>            <script type=\"text/javascript\">                require([\"plotly\"], function(Plotly) {                    window.PLOTLYENV=window.PLOTLYENV || {};                                    if (document.getElementById(\"3121ae1a-1a3d-4d10-8872-0de842ec3a8a\")) {                    Plotly.newPlot(                        \"3121ae1a-1a3d-4d10-8872-0de842ec3a8a\",                        [{\"x\":[-14,-13,-12,-11,-10,-9,-8,-7,-6,-5,-4,-3,-2,-1,0,1,2,3,4,5,6,7,8,9,10,11,12,13],\"y\":[400.20289586278926,538.43016992156,515.8343394633704,385.3275729100847,100.89400305965574,-163.48870243050484,-395.2274259639149,-558.9842707348281,-636.2427887712103,-646.8367390099039,-477.9303390333424,-149.05864930784304,199.83951746465152,353.27718393756516,153.29698881011922,-569.7108321702581,-296.2965099555394,-85.90036126470042,88.7490279796108,228.90944760468736,136.33712063599867,92.96290171559232,26.03524909729149,-26.760732404936157,-36.281396998128365,-68.79903147938535,-67.67339861587786,-44.130421186474734,-9.309882416571826],\"type\":\"scatter\"}],                        {\"template\":{\"data\":{\"histogram2dcontour\":[{\"type\":\"histogram2dcontour\",\"colorbar\":{\"outlinewidth\":0,\"ticks\":\"\"},\"colorscale\":[[0.0,\"#0d0887\"],[0.1111111111111111,\"#46039f\"],[0.2222222222222222,\"#7201a8\"],[0.3333333333333333,\"#9c179e\"],[0.4444444444444444,\"#bd3786\"],[0.5555555555555556,\"#d8576b\"],[0.6666666666666666,\"#ed7953\"],[0.7777777777777778,\"#fb9f3a\"],[0.8888888888888888,\"#fdca26\"],[1.0,\"#f0f921\"]]}],\"choropleth\":[{\"type\":\"choropleth\",\"colorbar\":{\"outlinewidth\":0,\"ticks\":\"\"}}],\"histogram2d\":[{\"type\":\"histogram2d\",\"colorbar\":{\"outlinewidth\":0,\"ticks\":\"\"},\"colorscale\":[[0.0,\"#0d0887\"],[0.1111111111111111,\"#46039f\"],[0.2222222222222222,\"#7201a8\"],[0.3333333333333333,\"#9c179e\"],[0.4444444444444444,\"#bd3786\"],[0.5555555555555556,\"#d8576b\"],[0.6666666666666666,\"#ed7953\"],[0.7777777777777778,\"#fb9f3a\"],[0.8888888888888888,\"#fdca26\"],[1.0,\"#f0f921\"]]}],\"heatmap\":[{\"type\":\"heatmap\",\"colorbar\":{\"outlinewidth\":0,\"ticks\":\"\"},\"colorscale\":[[0.0,\"#0d0887\"],[0.1111111111111111,\"#46039f\"],[0.2222222222222222,\"#7201a8\"],[0.3333333333333333,\"#9c179e\"],[0.4444444444444444,\"#bd3786\"],[0.5555555555555556,\"#d8576b\"],[0.6666666666666666,\"#ed7953\"],[0.7777777777777778,\"#fb9f3a\"],[0.8888888888888888,\"#fdca26\"],[1.0,\"#f0f921\"]]}],\"heatmapgl\":[{\"type\":\"heatmapgl\",\"colorbar\":{\"outlinewidth\":0,\"ticks\":\"\"},\"colorscale\":[[0.0,\"#0d0887\"],[0.1111111111111111,\"#46039f\"],[0.2222222222222222,\"#7201a8\"],[0.3333333333333333,\"#9c179e\"],[0.4444444444444444,\"#bd3786\"],[0.5555555555555556,\"#d8576b\"],[0.6666666666666666,\"#ed7953\"],[0.7777777777777778,\"#fb9f3a\"],[0.8888888888888888,\"#fdca26\"],[1.0,\"#f0f921\"]]}],\"contourcarpet\":[{\"type\":\"contourcarpet\",\"colorbar\":{\"outlinewidth\":0,\"ticks\":\"\"}}],\"contour\":[{\"type\":\"contour\",\"colorbar\":{\"outlinewidth\":0,\"ticks\":\"\"},\"colorscale\":[[0.0,\"#0d0887\"],[0.1111111111111111,\"#46039f\"],[0.2222222222222222,\"#7201a8\"],[0.3333333333333333,\"#9c179e\"],[0.4444444444444444,\"#bd3786\"],[0.5555555555555556,\"#d8576b\"],[0.6666666666666666,\"#ed7953\"],[0.7777777777777778,\"#fb9f3a\"],[0.8888888888888888,\"#fdca26\"],[1.0,\"#f0f921\"]]}],\"surface\":[{\"type\":\"surface\",\"colorbar\":{\"outlinewidth\":0,\"ticks\":\"\"},\"colorscale\":[[0.0,\"#0d0887\"],[0.1111111111111111,\"#46039f\"],[0.2222222222222222,\"#7201a8\"],[0.3333333333333333,\"#9c179e\"],[0.4444444444444444,\"#bd3786\"],[0.5555555555555556,\"#d8576b\"],[0.6666666666666666,\"#ed7953\"],[0.7777777777777778,\"#fb9f3a\"],[0.8888888888888888,\"#fdca26\"],[1.0,\"#f0f921\"]]}],\"mesh3d\":[{\"type\":\"mesh3d\",\"colorbar\":{\"outlinewidth\":0,\"ticks\":\"\"}}],\"scatter\":[{\"fillpattern\":{\"fillmode\":\"overlay\",\"size\":10,\"solidity\":0.2},\"type\":\"scatter\"}],\"parcoords\":[{\"type\":\"parcoords\",\"line\":{\"colorbar\":{\"outlinewidth\":0,\"ticks\":\"\"}}}],\"scatterpolargl\":[{\"type\":\"scatterpolargl\",\"marker\":{\"colorbar\":{\"outlinewidth\":0,\"ticks\":\"\"}}}],\"bar\":[{\"error_x\":{\"color\":\"#2a3f5f\"},\"error_y\":{\"color\":\"#2a3f5f\"},\"marker\":{\"line\":{\"color\":\"#E5ECF6\",\"width\":0.5},\"pattern\":{\"fillmode\":\"overlay\",\"size\":10,\"solidity\":0.2}},\"type\":\"bar\"}],\"scattergeo\":[{\"type\":\"scattergeo\",\"marker\":{\"colorbar\":{\"outlinewidth\":0,\"ticks\":\"\"}}}],\"scatterpolar\":[{\"type\":\"scatterpolar\",\"marker\":{\"colorbar\":{\"outlinewidth\":0,\"ticks\":\"\"}}}],\"histogram\":[{\"marker\":{\"pattern\":{\"fillmode\":\"overlay\",\"size\":10,\"solidity\":0.2}},\"type\":\"histogram\"}],\"scattergl\":[{\"type\":\"scattergl\",\"marker\":{\"colorbar\":{\"outlinewidth\":0,\"ticks\":\"\"}}}],\"scatter3d\":[{\"type\":\"scatter3d\",\"line\":{\"colorbar\":{\"outlinewidth\":0,\"ticks\":\"\"}},\"marker\":{\"colorbar\":{\"outlinewidth\":0,\"ticks\":\"\"}}}],\"scattermapbox\":[{\"type\":\"scattermapbox\",\"marker\":{\"colorbar\":{\"outlinewidth\":0,\"ticks\":\"\"}}}],\"scatterternary\":[{\"type\":\"scatterternary\",\"marker\":{\"colorbar\":{\"outlinewidth\":0,\"ticks\":\"\"}}}],\"scattercarpet\":[{\"type\":\"scattercarpet\",\"marker\":{\"colorbar\":{\"outlinewidth\":0,\"ticks\":\"\"}}}],\"carpet\":[{\"aaxis\":{\"endlinecolor\":\"#2a3f5f\",\"gridcolor\":\"white\",\"linecolor\":\"white\",\"minorgridcolor\":\"white\",\"startlinecolor\":\"#2a3f5f\"},\"baxis\":{\"endlinecolor\":\"#2a3f5f\",\"gridcolor\":\"white\",\"linecolor\":\"white\",\"minorgridcolor\":\"white\",\"startlinecolor\":\"#2a3f5f\"},\"type\":\"carpet\"}],\"table\":[{\"cells\":{\"fill\":{\"color\":\"#EBF0F8\"},\"line\":{\"color\":\"white\"}},\"header\":{\"fill\":{\"color\":\"#C8D4E3\"},\"line\":{\"color\":\"white\"}},\"type\":\"table\"}],\"barpolar\":[{\"marker\":{\"line\":{\"color\":\"#E5ECF6\",\"width\":0.5},\"pattern\":{\"fillmode\":\"overlay\",\"size\":10,\"solidity\":0.2}},\"type\":\"barpolar\"}],\"pie\":[{\"automargin\":true,\"type\":\"pie\"}]},\"layout\":{\"autotypenumbers\":\"strict\",\"colorway\":[\"#636efa\",\"#EF553B\",\"#00cc96\",\"#ab63fa\",\"#FFA15A\",\"#19d3f3\",\"#FF6692\",\"#B6E880\",\"#FF97FF\",\"#FECB52\"],\"font\":{\"color\":\"#2a3f5f\"},\"hovermode\":\"closest\",\"hoverlabel\":{\"align\":\"left\"},\"paper_bgcolor\":\"white\",\"plot_bgcolor\":\"#E5ECF6\",\"polar\":{\"bgcolor\":\"#E5ECF6\",\"angularaxis\":{\"gridcolor\":\"white\",\"linecolor\":\"white\",\"ticks\":\"\"},\"radialaxis\":{\"gridcolor\":\"white\",\"linecolor\":\"white\",\"ticks\":\"\"}},\"ternary\":{\"bgcolor\":\"#E5ECF6\",\"aaxis\":{\"gridcolor\":\"white\",\"linecolor\":\"white\",\"ticks\":\"\"},\"baxis\":{\"gridcolor\":\"white\",\"linecolor\":\"white\",\"ticks\":\"\"},\"caxis\":{\"gridcolor\":\"white\",\"linecolor\":\"white\",\"ticks\":\"\"}},\"coloraxis\":{\"colorbar\":{\"outlinewidth\":0,\"ticks\":\"\"}},\"colorscale\":{\"sequential\":[[0.0,\"#0d0887\"],[0.1111111111111111,\"#46039f\"],[0.2222222222222222,\"#7201a8\"],[0.3333333333333333,\"#9c179e\"],[0.4444444444444444,\"#bd3786\"],[0.5555555555555556,\"#d8576b\"],[0.6666666666666666,\"#ed7953\"],[0.7777777777777778,\"#fb9f3a\"],[0.8888888888888888,\"#fdca26\"],[1.0,\"#f0f921\"]],\"sequentialminus\":[[0.0,\"#0d0887\"],[0.1111111111111111,\"#46039f\"],[0.2222222222222222,\"#7201a8\"],[0.3333333333333333,\"#9c179e\"],[0.4444444444444444,\"#bd3786\"],[0.5555555555555556,\"#d8576b\"],[0.6666666666666666,\"#ed7953\"],[0.7777777777777778,\"#fb9f3a\"],[0.8888888888888888,\"#fdca26\"],[1.0,\"#f0f921\"]],\"diverging\":[[0,\"#8e0152\"],[0.1,\"#c51b7d\"],[0.2,\"#de77ae\"],[0.3,\"#f1b6da\"],[0.4,\"#fde0ef\"],[0.5,\"#f7f7f7\"],[0.6,\"#e6f5d0\"],[0.7,\"#b8e186\"],[0.8,\"#7fbc41\"],[0.9,\"#4d9221\"],[1,\"#276419\"]]},\"xaxis\":{\"gridcolor\":\"white\",\"linecolor\":\"white\",\"ticks\":\"\",\"title\":{\"standoff\":15},\"zerolinecolor\":\"white\",\"automargin\":true,\"zerolinewidth\":2},\"yaxis\":{\"gridcolor\":\"white\",\"linecolor\":\"white\",\"ticks\":\"\",\"title\":{\"standoff\":15},\"zerolinecolor\":\"white\",\"automargin\":true,\"zerolinewidth\":2},\"scene\":{\"xaxis\":{\"backgroundcolor\":\"#E5ECF6\",\"gridcolor\":\"white\",\"linecolor\":\"white\",\"showbackground\":true,\"ticks\":\"\",\"zerolinecolor\":\"white\",\"gridwidth\":2},\"yaxis\":{\"backgroundcolor\":\"#E5ECF6\",\"gridcolor\":\"white\",\"linecolor\":\"white\",\"showbackground\":true,\"ticks\":\"\",\"zerolinecolor\":\"white\",\"gridwidth\":2},\"zaxis\":{\"backgroundcolor\":\"#E5ECF6\",\"gridcolor\":\"white\",\"linecolor\":\"white\",\"showbackground\":true,\"ticks\":\"\",\"zerolinecolor\":\"white\",\"gridwidth\":2}},\"shapedefaults\":{\"line\":{\"color\":\"#2a3f5f\"}},\"annotationdefaults\":{\"arrowcolor\":\"#2a3f5f\",\"arrowhead\":0,\"arrowwidth\":1},\"geo\":{\"bgcolor\":\"white\",\"landcolor\":\"#E5ECF6\",\"subunitcolor\":\"white\",\"showland\":true,\"showlakes\":true,\"lakecolor\":\"white\"},\"title\":{\"x\":0.05},\"mapbox\":{\"style\":\"light\"}}}},                        {\"responsive\": true}                    ).then(function(){\n",
       "                            \n",
       "var gd = document.getElementById('3121ae1a-1a3d-4d10-8872-0de842ec3a8a');\n",
       "var x = new MutationObserver(function (mutations, observer) {{\n",
       "        var display = window.getComputedStyle(gd).display;\n",
       "        if (!display || display === 'none') {{\n",
       "            console.log([gd, 'removed!']);\n",
       "            Plotly.purge(gd);\n",
       "            observer.disconnect();\n",
       "        }}\n",
       "}});\n",
       "\n",
       "// Listen for the removal of the full notebook cells\n",
       "var notebookContainer = gd.closest('#notebook-container');\n",
       "if (notebookContainer) {{\n",
       "    x.observe(notebookContainer, {childList: true});\n",
       "}}\n",
       "\n",
       "// Listen for the clearing of the current output cell\n",
       "var outputEl = gd.closest('.output');\n",
       "if (outputEl) {{\n",
       "    x.observe(outputEl, {childList: true});\n",
       "}}\n",
       "\n",
       "                        })                };                });            </script>        </div>"
      ]
     },
     "metadata": {},
     "output_type": "display_data"
    }
   ],
   "source": [
    "cross_Cor = np.correlate(omega_hat, chase_df.loc[:,'error_phi'], mode='full')\n",
    "x_Axis = np.arange(-len(omega_hat), len(omega_hat), 1)\n",
    "fig = go.Figure(data=go.Scatter(x = x_Axis, y=cross_Cor))\n",
    "fig.show()\n",
    "fig.write_html(\"../dataFolders/MuscaChasingMusca/Sampled100fps_Figures/Chase_relationships/\" + name + \"phi_cross_cor.html\")"
   ]
  },
  {
   "cell_type": "code",
   "execution_count": null,
   "id": "a1f9cebd",
   "metadata": {},
   "outputs": [],
   "source": [
    "# fig = make_subplots(\n",
    "#     rows=3, cols=2,\n",
    "#     specs=[[{\"type\": \"scene\", \"rowspan\": 3}, {\"type\": \"xy\"}],\n",
    "#            [None, {\"type\": \"xy\"}],\n",
    "#            [None, {\"type\": \"xy\"}]\n",
    "#            ])\n",
    "\n",
    "\n",
    "# fig.add_trace(go.Scatter3d(\n",
    "# x = com_df.chaser_com_x, y = com_df.chaser_com_y, z = com_df.chaser_com_z\n",
    "#     ,mode = 'lines'\n",
    "# , line=dict(color='black')), \n",
    "# row = 1, col = 1)\n",
    "\n",
    "# # Set the camera to view along the z-axis (xy plane)\n",
    "# fig.update_layout(\n",
    "#     scene_camera=dict(\n",
    "#         eye=dict(x=2.5, y=0, z=0)  # Adjust x to control the distance\n",
    "#     ),\n",
    "#     scene=dict(\n",
    "#         aspectmode='cube'  # Keeps the aspect ratio uniform\n",
    "#     )\n",
    "# )\n",
    "\n",
    "\n",
    "# fig.add_trace(go.Scatter3d(\n",
    "# x = com_df.chasee_com_x, y = com_df.chasee_com_y, z = com_df.chasee_com_z\n",
    "#     ,mode = 'lines'\n",
    "#     , line=dict(color='red')), \n",
    "# row = 1, col = 1)\n",
    "\n",
    "# #add all the line plots in second column\n",
    "# # angle between the chasee and chaser\n",
    "# fig.add_trace(go.Scatter(\n",
    "#         x = time_Axis, y = chase_df.loc[:,'chase_phi']\n",
    "#         , mode = 'lines'\n",
    "#         ),\n",
    "#              row = 1, col = 2)\n",
    "\n",
    "\n",
    "# omega_hat = angular_speed_df.loc[:,'chaser_phi']\n",
    "# omega_hat_smoothed = signal.savgol_filter(omega_hat, 10, 3)\n",
    "\n",
    "\n",
    "\n",
    "# # turning angle for the chaser\n",
    "# fig.add_trace(go.Scatter(\n",
    "#         x = time_Axis, y = omega_hat_smoothed\n",
    "#         , mode = 'lines'\n",
    "#         ),\n",
    "#              row = 2, col = 2)\n",
    "\n",
    "# # rate of turning angle for the chaser\n",
    "# fig.add_trace(go.Scatter(\n",
    "#         x = time_Axis, y = np.diff(omega_hat_smoothed)\n",
    "#         , mode = 'lines'\n",
    "#         ),\n",
    "#              row = 3, col = 2)\n",
    "# fig.update_layout(\n",
    "#     xaxis_title=\"Time (msecond)\"\n",
    "# )"
   ]
  },
  {
   "cell_type": "code",
   "execution_count": null,
   "id": "e7890669",
   "metadata": {},
   "outputs": [],
   "source": [
    "# fig.add_trace(go.Scatter3d(\n",
    "# x = com_df.chaser_com_x, y = com_df.chaser_com_y, z = com_df.chaser_com_z\n",
    "#     ,mode = 'lines'\n",
    "# , line=dict(color='black')), \n",
    "# row = 1, col = 1)\n",
    "\n",
    "# # Set the camera to view along the z-axis (xy plane)\n",
    "# fig.update_layout(\n",
    "#     scene_camera=dict(\n",
    "#         eye=dict(x=0., y=0., z=2.5)  # Adjust z to control the distance\n",
    "#     ),\n",
    "#     scene=dict(\n",
    "#         aspectmode='cube'  # Keeps the aspect ratio uniform\n",
    "#     )\n",
    "# )\n",
    "\n",
    "\n",
    "# fig.add_trace(go.Scatter3d(\n",
    "# x = com_df.chasee_com_x, y = com_df.chasee_com_y, z = com_df.chasee_com_z\n",
    "#     ,mode = 'lines'\n",
    "#     , line=dict(color='red')), \n",
    "# row = 1, col = 1)"
   ]
  },
  {
   "cell_type": "code",
   "execution_count": null,
   "id": "e903fce1",
   "metadata": {},
   "outputs": [],
   "source": []
  }
 ],
 "metadata": {
  "kernelspec": {
   "display_name": "Python 3 (ipykernel)",
   "language": "python",
   "name": "python3"
  },
  "language_info": {
   "codemirror_mode": {
    "name": "ipython",
    "version": 3
   },
   "file_extension": ".py",
   "mimetype": "text/x-python",
   "name": "python",
   "nbconvert_exporter": "python",
   "pygments_lexer": "ipython3",
   "version": "3.10.9"
  }
 },
 "nbformat": 4,
 "nbformat_minor": 5
}
