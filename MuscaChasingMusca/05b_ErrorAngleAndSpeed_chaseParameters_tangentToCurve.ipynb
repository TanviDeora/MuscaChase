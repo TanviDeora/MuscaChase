{
 "cells": [
  {
   "cell_type": "code",
   "execution_count": 1,
   "id": "2222d179",
   "metadata": {},
   "outputs": [],
   "source": [
    "import pandas as pd\n",
    "import numpy as np\n",
    "import glob\n",
    "import plotly.graph_objects as go"
   ]
  },
  {
   "cell_type": "code",
   "execution_count": 2,
   "id": "ee7ce0ad",
   "metadata": {},
   "outputs": [],
   "source": [
    "# functions written by Mitali and Girish in 2024\n",
    "# adapted by Tanvi Deora, April 2025\n",
    "\n",
    "def angle(x1, y1, x2, y2, x3, y3, x4, y4):\n",
    "    \"\"\"\n",
    "    Calculate the angles theta and phi between two vectors\n",
    "\n",
    "    Parameters:\n",
    "        x1,y1 (float) : The coordinates of point 1.\n",
    "        x2,y2 (float) : The coordinates of point 2.\n",
    "        x3,y3 (float) : The coordinates of point 3.\n",
    "        x4,y4 (float) : The coordinates of point 4.\n",
    "\n",
    "    Returns:\n",
    "        angle (float) : The angle (in degrees) between the vector joining point1 & point 2 and vector joining point3 & 4\n",
    "\n",
    "    Dependencies:\n",
    "        - numpy (np): Required for numerical computations and array operations.\n",
    "    \"\"\"\n",
    "\n",
    "    # Convert the input coordinates to NumPy arrays for vector operations\n",
    "    a = np.array([x1,y1]) # COM of leading (chasee) fly\n",
    "    b = np.array([x2,y2]) # COM of lagging (chaser) fly\n",
    "    c = np.array([x3,y3]) # 0,0\n",
    "    d = np.array([x4,y4]) # unit tangent vector for chaser\n",
    "    \n",
    "\n",
    "    # Calculate the vectors\n",
    "    ba = b - a\n",
    "    dc = d - c \n",
    "\n",
    "    # Calculate the theta angle (angle in XY plane)\n",
    "    angle = np.degrees(np.arctan2(np.cross(ba, dc), np.dot(ba, dc)))\n",
    "\n",
    "#     # Calculate the phi angle (angle in ZY plane) \n",
    "#     phi = np.degrees(np.arctan2(np.cross(ab[[0, 2]], cd[[0, 2]]), np.dot(ab[[0, 2]], cd[[0, 2]])))\n",
    "\n",
    "    return angle"
   ]
  },
  {
   "cell_type": "code",
   "execution_count": 3,
   "id": "bcae0612",
   "metadata": {},
   "outputs": [],
   "source": [
    "# files = glob.glob('./Data/Outputs/Sampled_1k/COM/*_smoothened_*COM.csv')\n",
    "files = glob.glob('../dataFolders/MuscaChasingMusca/Outputs\\\\test_spiral_COM.csv')"
   ]
  },
  {
   "cell_type": "code",
   "execution_count": 4,
   "id": "8bd6ecd8",
   "metadata": {},
   "outputs": [],
   "source": [
    "# info = pd.read_csv('./Data/Outputs/Raw_xyz_points/metadata.csv')\n",
    "# info"
   ]
  },
  {
   "cell_type": "code",
   "execution_count": 36,
   "id": "7b172e0b",
   "metadata": {},
   "outputs": [
    {
     "data": {
      "text/plain": [
       "(450, 449)"
      ]
     },
     "execution_count": 36,
     "metadata": {},
     "output_type": "execute_result"
    }
   ],
   "source": [
    "len(chasee_COM), len(unit_tangents_yz)"
   ]
  },
  {
   "cell_type": "code",
   "execution_count": 41,
   "id": "e3763e22",
   "metadata": {},
   "outputs": [
    {
     "name": "stdout",
     "output_type": "stream",
     "text": [
      "False\n",
      "False\n",
      "False\n",
      "False\n",
      "False\n",
      "False\n"
     ]
    }
   ],
   "source": [
    "for f in files:\n",
    "    name = f.split('\\\\')[-1][:-4]\n",
    "    df = pd.read_csv(f)\n",
    "    \n",
    "    framerate = 1000 # for sequences sampled at 1k\n",
    "#     framerate = [row['framerate'] for ind, row in info.iterrows() if row['filename'][:-10] in f.split('\\\\')[-1]][0] \n",
    "    \n",
    "    # get points to compute error angles\n",
    "    \n",
    "    # Method 2 - use tangent at a given point on the chaser trajectory to get heading vector, at the instants measured \n",
    "    # on the video\n",
    "    \n",
    "    # point connecting the the chaser and chasee\n",
    "    # ignore the first frame when analysis the relative positions\n",
    "    chasee_COM = df.loc[1:, ['chasee_com_x', 'chasee_com_y', 'chasee_com_z']]\n",
    "    chaser_COM = df.loc[1:, ['chaser_com_x', 'chaser_com_y', 'chaser_com_z']]\n",
    "    \n",
    "    # heading vector for chaser\n",
    "    # compute tangent at each point on the chaser trajectory\n",
    "    # Store unit tangent vectors\n",
    "    unit_tangent_xy = []\n",
    "    unit_tangent_yz = []\n",
    "    x_vals = np.diff(df.loc[:, 'chaser_com_x'])\n",
    "    y_vals = np.diff(df.loc[:, 'chaser_com_y'])\n",
    "    z_vals = np.diff(df.loc[:, 'chaser_com_z']) \n",
    "    \n",
    "    # Approximate slope using central differences\n",
    "    for i in range(len(x_vals)):\n",
    "        x0, y0, z0 = x_vals[i], y_vals[i], z_vals[i]\n",
    "\n",
    "        # Compute slope using finite difference\n",
    "        if 0 < i < len(x_vals) - 1:\n",
    "            dx = x_vals[i+1] - x_vals[i-1]\n",
    "            dy = y_vals[i+1] - y_vals[i-1]\n",
    "            dz = z_vals[i+1] - z_vals[i-1]\n",
    "        elif i == 0:\n",
    "            dx = x_vals[i+1] - x_vals[i]\n",
    "            dy = y_vals[i+1] - y_vals[i]\n",
    "            dz = z_vals[i+1] - z_vals[i]\n",
    "        else:  # i == last index\n",
    "            dx = x_vals[i] - x_vals[i-1]\n",
    "            dy = y_vals[i] - y_vals[i-1]\n",
    "            dz = z_vals[i] - z_vals[i-1]\n",
    "        \n",
    "        #################### Normalize to unit vector for the XY plane #######################\n",
    "        norm_xy = np.sqrt(dx**2 + dy**2)\n",
    "        if norm_xy == 0:\n",
    "            unit_dx, unit_dy = 0.0, 0.0  # Avoid division by zero\n",
    "        else:\n",
    "            unit_dx = dx / norm_xy\n",
    "            unit_dy = dy / norm_xy\n",
    "            \n",
    "        unit_tangent_xy.append({'x0': x0, 'y0': y0, 'unit_x': unit_dx, 'unit_y' :unit_dy})\n",
    "        \n",
    "        #################### Normalize to unit vector for the YZ plane #######################\n",
    "        norm_yz = np.sqrt(dy**2 + dz**2)\n",
    "        if norm_yz == 0:\n",
    "            unit_dy, unit_dz = 0.0, 0.0  # Avoid division by zero\n",
    "        else:\n",
    "            unit_dy = dy / norm_yz\n",
    "            unit_dz = dz / norm_yz\n",
    "            \n",
    "        unit_tangent_yz.append({'y0': y0, 'z0': z0, 'unit_y': unit_dy, 'unit_z' :unit_dz})\n",
    "        \n",
    "        \n",
    "    unit_tangents_xy = pd.DataFrame(unit_tangent_xy)\n",
    "    unit_tangents_yz = pd.DataFrame(unit_tangent_yz)\n",
    "    \n",
    "    \n",
    "# #     #Method 3 - use the last two points and assume a straight vector joining those points\n",
    "# #     chaser_com_current = df.loc[:-1, ['chaser_com_x', 'chaser_com_y', 'chaser_com_z']]\n",
    "# #     chaser_com_previous = df.loc[1:,['chaser_com_X', 'chaser_com_y', 'chaser_com_z']]\n",
    "    \n",
    "    # check if you NaN anywhere!\n",
    "    for all_vectors in [chasee_COM, \n",
    "                        chaser_COM, \n",
    "                        unit_tangents_xy['unit_x'], unit_tangents_xy['unit_y'], \n",
    "                        unit_tangents_yz['unit_y'], unit_tangents_yz['unit_z']]:\n",
    "        print(all_vectors.isnull().values.any())\n",
    "    \n",
    "        \n",
    "    chase_theta = []\n",
    "    chase_phi = []\n",
    "    chaser_angles_xy = []\n",
    "    chaser_angles_yz = []\n",
    "    \n",
    "    for ind, _ in chasee_COM[:-1].iterrows():\n",
    "#         print(ind)\n",
    "        pt1 = chasee_COM.loc[ind, :]\n",
    "        pt2 = chaser_COM.loc[ind, :]\n",
    "        \n",
    "        pt3 = [0,0]\n",
    "        pt4 = unit_tangents_xy.loc[ind, ['unit_x', 'unit_y']]\n",
    "        pt5 = unit_tangents_yz.loc[ind, ['unit_y', 'unit_z']]\n",
    "        \n",
    "        \n",
    "        theta = angle(\n",
    "            pt1['chasee_com_x'], pt1['chasee_com_y'],\n",
    "            pt2['chaser_com_x'], pt2['chaser_com_y'],\n",
    "            pt3[0], pt3[1],\n",
    "            pt4[0], pt4[1]\n",
    "            )\n",
    "        phi = angle(\n",
    "            pt1['chasee_com_x'], pt1['chasee_com_y'],\n",
    "            pt2['chaser_com_x'], pt2['chaser_com_y'],\n",
    "            pt3[0], pt3[1],\n",
    "            pt5[0], pt5[1]\n",
    "            )\n",
    "        \n",
    "        chaser_angle_xy = angle(\n",
    "            0, 0,\n",
    "            unit_tangents_xy.loc[ind -1, 'unit_x'], unit_tangents_xy.loc[ind-1, 'unit_y'],\n",
    "            0, 0,\n",
    "            unit_tangents_xy.loc[ind, 'unit_x'], unit_tangents_xy.loc[ind, 'unit_y'] \n",
    "        )\n",
    "        \n",
    "        chaser_angle_yz = angle(\n",
    "            0, 0,\n",
    "            unit_tangents_yz.loc[ind -1, 'unit_y'], unit_tangents_yz.loc[ind-1, 'unit_z'],\n",
    "            0, 0,\n",
    "            unit_tangents_yz.loc[ind, 'unit_y'], unit_tangents_yz.loc[ind, 'unit_z']\n",
    "        )\n",
    "           \n",
    "        chase_theta.append(theta)\n",
    "        chase_phi.append(phi)\n",
    "        chaser_angles_xy.append(chaser_angle_xy)\n",
    "        chaser_angles_yz.append(chaser_angle_yz)\n",
    "        \n",
    "          \n",
    "#     #Calculating angular velocity of Chasee and chaser\n",
    "#     angvel_chase_theta = np.diff(chase_theta)*framerate\n",
    "#     angvel_chase_phi = np.diff(chase_phi)*framerate\n",
    "#     angvel_chase_theta = np.append(angvel_chase_theta, np.repeat(np.nan, 1))\n",
    "#     angvel_chase_phi = np.append(angvel_chase_phi, np.repeat(np.nan, 1))\n",
    "    \n",
    "#     #Calculating angular accerelation of Chasee and chaser\n",
    "#     angacc_chase_theta = np.diff(angvel_chase_theta)\n",
    "#     angacc_chase_phi = np. diff(angvel_chase_phi)\n",
    "#     angacc_chase_theta = np.append(angacc_chase_theta, np.repeat(np.nan, 1))\n",
    "#     angacc_chase_phi = np.append(angacc_chase_phi, np.repeat(np.nan, 1))\n",
    "  \n",
    "    \n",
    "#     chase_df = pd.DataFrame({'chase_theta': chase_theta,\n",
    "#                             'chase_phi': chase_phi,\n",
    "#                             'chase_theta_speed': angvel_chase_theta,\n",
    "#                              'chase_phi_speed': angvel_chase_phi,\n",
    "#                              'chase_theta_acc': angacc_chase_theta,\n",
    "#                              'chase_phi_acc': angacc_chase_phi,\n",
    "#                             })\n",
    "# #     chase_df.to_csv('./Data/Outputs/Sampled_1k/Chase/' + name + '_ChaseErrorAnglesSpeedAcc.csv')\n",
    "#     chase_df.to_csv('../dataFolders/MuscaChasingMusca/Outputs/' + name + '_ChaseErrorAnglesSpeedAcc.csv')"
   ]
  },
  {
   "cell_type": "code",
   "execution_count": 43,
   "id": "8f65d037",
   "metadata": {},
   "outputs": [
    {
     "data": {
      "text/plain": [
       "[<matplotlib.lines.Line2D at 0x29b8fb53340>]"
      ]
     },
     "execution_count": 43,
     "metadata": {},
     "output_type": "execute_result"
    },
    {
     "data": {
      "image/png": "[encoded data removed]",
      "text/plain": [
       "<Figure size 640x480 with 1 Axes>"
      ]
     },
     "metadata": {},
     "output_type": "display_data"
    }
   ],
   "source": [
    "import matplotlib.pyplot as plt\n",
    "plt.plot(chaser_angles_xy[1:-1])"
   ]
  },
  {
   "cell_type": "code",
   "execution_count": 42,
   "id": "cb573e0c",
   "metadata": {},
   "outputs": [
    {
     "data": {
      "text/plain": [
       "[<matplotlib.lines.Line2D at 0x29b8f942890>]"
      ]
     },
     "execution_count": 42,
     "metadata": {},
     "output_type": "execute_result"
    },
    {
     "data": {
      "image/png": "[encoded data removed]",
      "text/plain": [
       "<Figure size 640x480 with 1 Axes>"
      ]
     },
     "metadata": {},
     "output_type": "display_data"
    }
   ],
   "source": [
    "import matplotlib.pyplot as plt\n",
    "plt.plot(chaser_angles_yz[1:-1])"
   ]
  }
 ],
 "metadata": {
  "kernelspec": {
   "display_name": "Python 3 (ipykernel)",
   "language": "python",
   "name": "python3"
  },
  "language_info": {
   "codemirror_mode": {
    "name": "ipython",
    "version": 3
   },
   "file_extension": ".py",
   "mimetype": "text/x-python",
   "name": "python",
   "nbconvert_exporter": "python",
   "pygments_lexer": "ipython3",
   "version": "3.10.9"
  }
 },
 "nbformat": 4,
 "nbformat_minor": 5
}
