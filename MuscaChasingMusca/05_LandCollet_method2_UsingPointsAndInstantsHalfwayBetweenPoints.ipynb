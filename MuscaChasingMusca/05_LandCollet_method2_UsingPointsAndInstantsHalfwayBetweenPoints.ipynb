{
 "cells": [
  {
   "cell_type": "code",
   "execution_count": 1,
   "id": "2222d179",
   "metadata": {},
   "outputs": [],
   "source": [
    "import pandas as pd\n",
    "import numpy as np\n",
    "import glob\n",
    "import plotly.graph_objects as go"
   ]
  },
  {
   "cell_type": "code",
   "execution_count": 2,
   "id": "ee7ce0ad",
   "metadata": {},
   "outputs": [],
   "source": [
    "# functions written by Mitali and Girish in 2024\n",
    "# adapted by Tanvi Deora, April 2025\n",
    "\n",
    "def theta_phi(vector1, vector2):\n",
    "    \"\"\"\n",
    "    Calculate the angles theta and phi between two vectors\n",
    "    Inputs:\n",
    "        The two vectors in dataframe format n * 3, x y z axis in columns\n",
    "        ab - heading vector of the fly (using subsequent - t-1, t0 and t+1 - locations at all timepoints)\n",
    "        cd - vector between chaser and chasee (using midpoins of chaser and chasee at all timepoints)\n",
    "\n",
    "    Returns:\n",
    "        theta (float) : The angle (in degrees) between point1, point 2 and point3 in the XY plane.\n",
    "        phi (float) : The angle (in degrees) between point1, point 2 and point3 in the ZY plane.\n",
    "\n",
    "    Dependencies:\n",
    "        - numpy (np): Required for numerical computations and array operations.\n",
    "    \"\"\"\n",
    "    theta = []\n",
    "    phi = []\n",
    "    for (index1, ab), (index2, cd) in zip(vector1.iterrows(), vector2.iterrows()):\n",
    "        # Calculate the theta angle (angle in XY plane)\n",
    "        tt = np.degrees(np.arctan2(np.cross(ab[:2], cd[:2]), \n",
    "                                      np.dot(ab[:2], cd[:2])))\n",
    "        theta.append(tt)\n",
    "\n",
    "        # Calculate the phi angle (angle in XZ plane) \n",
    "        ph = np.degrees(np.arctan2(np.cross(ab[[0, 2]], cd[[0, 2]]), \n",
    "                                    np.dot(ab[[0, 2]], cd[[0, 2]])))\n",
    "        phi.append(ph)\n",
    "    return theta, phi"
   ]
  },
  {
   "cell_type": "code",
   "execution_count": 3,
   "id": "bcae0612",
   "metadata": {},
   "outputs": [
    {
     "data": {
      "text/plain": [
       "['../dataFolders/MuscaChasingMusca/Outputs/Sampled_1k/COM\\\\2023-04-19_Trial7_Set1_5k_smoothened_interpol_COM.csv',\n",
       " '../dataFolders/MuscaChasingMusca/Outputs/Sampled_1k/COM\\\\2023-04-21_Trial6_1k_smoothened_interpol_COM.csv',\n",
       " '../dataFolders/MuscaChasingMusca/Outputs/Sampled_1k/COM\\\\2023-04-21_Trial7_1k_smoothened_interpol_COM.csv',\n",
       " '../dataFolders/MuscaChasingMusca/Outputs/Sampled_1k/COM\\\\2023-04-28_Trial4_5k_smoothened_interpol_COM.csv',\n",
       " '../dataFolders/MuscaChasingMusca/Outputs/Sampled_1k/COM\\\\2023-04-28_Trial5_5k_smoothened_interpol_COM.csv',\n",
       " '../dataFolders/MuscaChasingMusca/Outputs/Sampled_1k/COM\\\\2023-04-28_Trial8_1k_smoothened_interpol_COM.csv']"
      ]
     },
     "execution_count": 3,
     "metadata": {},
     "output_type": "execute_result"
    }
   ],
   "source": [
    "# files = glob.glob('./Data/Outputs/Sampled_1k/COM/*_smoothened_*COM.csv')\n",
    "files = glob.glob('../dataFolders/MuscaChasingMusca/Outputs/Sampled_1k/COM/*.csv')\n",
    "files"
   ]
  },
  {
   "cell_type": "code",
   "execution_count": 4,
   "id": "e3763e22",
   "metadata": {},
   "outputs": [],
   "source": [
    "for f in files:\n",
    "#     name = f.split('\\\\')[-1][:-4]\n",
    "    name = f.split('\\\\')[-1][:-28]\n",
    "    df = pd.read_csv(f)\n",
    "    \n",
    "    framerate = 1000 # for sequences sampled at 1000fps\n",
    "    \n",
    "#     framerate = [row['framerate'] for ind, row in info.iterrows() if row['filename'][:-10] in f.split('\\\\')[-1]][0] \n",
    "    \n",
    "    # get points to compute error angles\n",
    "    \n",
    "    # point connecting the the chaser and chasee\n",
    "    \n",
    "    chasee_COM = df.loc[:, ['chasee_com_x', 'chasee_com_y', 'chasee_com_z']]\n",
    "    chaser_COM = df.loc[:, ['chaser_com_x', 'chaser_com_y', 'chaser_com_z']]\n",
    "    \n",
    "    # ignoring the first datapoint\n",
    "    vector_chaserHeading = chaser_COM.iloc[1:,:].reset_index(drop=True) - chaser_COM.iloc[0:-1,:].reset_index(drop=True)\n",
    "    \n",
    "    midpoint_chasee = (chasee_COM.iloc[0:-1,:].reset_index(drop=True) + chasee_COM.iloc[1:,:].reset_index(drop=True))/2\n",
    "    midpoint_chasee.columns = ['x', 'y', 'z']\n",
    "    midpoint_chaser = (chaser_COM.iloc[0:-1,:].reset_index(drop=True) + chaser_COM.iloc[1:,:].reset_index(drop=True))/2\n",
    "    midpoint_chaser.columns = ['x', 'y', 'z']\n",
    "    \n",
    "    vector_chaserChasee = midpoint_chasee - midpoint_chaser.values\n",
    "    \n",
    "    # compute error angle in degree\n",
    "    error_theta, error_phi = theta_phi(vector_chaserHeading, vector_chaserChasee)\n",
    "    # compute turning angle for chaser\n",
    "    turning_theta, turning_phi = theta_phi(vector_chaserHeading.iloc[1:, :], vector_chaserHeading.iloc[0:-1, :])\n",
    "    turning_theta.insert(0, np.nan)\n",
    "    turning_phi.insert(0,np.nan)\n",
    "    \n",
    "    chase_df = pd.DataFrame({'error_theta': error_theta, \n",
    "                            'error_phi': error_phi,\n",
    "                            'turning_theta': turning_theta,\n",
    "                            'turning_phi':turning_phi})\n",
    "\n",
    "    chase_df.to_csv('../dataFolders/MuscaChasingMusca/Outputs/Sampled_1k/ChaseParameters_v1/' + name + '_ChaseErrorAngle_TurningAngle.csv')"
   ]
  },
  {
   "cell_type": "code",
   "execution_count": null,
   "id": "b23f0f45",
   "metadata": {},
   "outputs": [],
   "source": []
  }
 ],
 "metadata": {
  "kernelspec": {
   "display_name": "Python 3 (ipykernel)",
   "language": "python",
   "name": "python3"
  },
  "language_info": {
   "codemirror_mode": {
    "name": "ipython",
    "version": 3
   },
   "file_extension": ".py",
   "mimetype": "text/x-python",
   "name": "python",
   "nbconvert_exporter": "python",
   "pygments_lexer": "ipython3",
   "version": "3.10.9"
  }
 },
 "nbformat": 4,
 "nbformat_minor": 5
}
