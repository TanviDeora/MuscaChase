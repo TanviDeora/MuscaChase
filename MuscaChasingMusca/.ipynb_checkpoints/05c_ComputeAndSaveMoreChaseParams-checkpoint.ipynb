{
 "cells": [
  {
   "cell_type": "code",
   "execution_count": 1,
   "id": "f7d1b15d",
   "metadata": {},
   "outputs": [],
   "source": [
    "import pandas as pd\n",
    "import numpy as np\n",
    "import pandas as pd\n",
    "import glob"
   ]
  },
  {
   "cell_type": "code",
   "execution_count": 2,
   "id": "a853a8f2",
   "metadata": {},
   "outputs": [],
   "source": [
    "import plotly.graph_objects as go\n",
    "from plotly.subplots import make_subplots\n",
    "\n",
    "from scipy import signal"
   ]
  },
  {
   "cell_type": "code",
   "execution_count": 58,
   "id": "0e3a40b6",
   "metadata": {},
   "outputs": [
    {
     "data": {
      "text/plain": [
       "['./../dataFolders/MuscaChasingMusca/Outputs/Sampled_100fps/ChaseParameters\\\\2023-04-19_Trial7_Set1_5k_smoothened_interpol_COM_ChaseErrorAngle_TurningAngle.csv',\n",
       " './../dataFolders/MuscaChasingMusca/Outputs/Sampled_100fps/ChaseParameters\\\\2023-04-21_Trial6_1k_smoothened_interpol_COM_ChaseErrorAngle_TurningAngle.csv',\n",
       " './../dataFolders/MuscaChasingMusca/Outputs/Sampled_100fps/ChaseParameters\\\\2023-04-21_Trial7_1k_smoothened_interpol_COM_ChaseErrorAngle_TurningAngle.csv',\n",
       " './../dataFolders/MuscaChasingMusca/Outputs/Sampled_100fps/ChaseParameters\\\\2023-04-28_Trial4_5k_smoothened_interpol_COM_ChaseErrorAngle_TurningAngle.csv',\n",
       " './../dataFolders/MuscaChasingMusca/Outputs/Sampled_100fps/ChaseParameters\\\\2023-04-28_Trial5_5k_smoothened_interpol_COM_ChaseErrorAngle_TurningAngle.csv',\n",
       " './../dataFolders/MuscaChasingMusca/Outputs/Sampled_100fps/ChaseParameters\\\\2023-04-28_Trial8_1k_smoothened_interpol_COM_ChaseErrorAngle_TurningAngle.csv']"
      ]
     },
     "execution_count": 58,
     "metadata": {},
     "output_type": "execute_result"
    }
   ],
   "source": [
    "chase_param = glob.glob('./../dataFolders/MuscaChasingMusca/Outputs/Sampled_100fps/ChaseParameters/*ChaseError*.csv')\n",
    "chase_param"
   ]
  },
  {
   "cell_type": "code",
   "execution_count": 5,
   "id": "06763785",
   "metadata": {},
   "outputs": [],
   "source": [
    "# speed_param = glob.glob('./../dataFolders/MuscaChasingMusca/Outputs/Sampled_1k/Speeds/*COM*.csv')\n",
    "# speed_param = glob.glob('./../dataFolders/MuscaChasingMusca/Outputs/Sampled_100fps/Speed/*COM*_*Speed*.csv')\n",
    "# speed_param"
   ]
  },
  {
   "cell_type": "code",
   "execution_count": 59,
   "id": "37d05b6b",
   "metadata": {},
   "outputs": [
    {
     "data": {
      "text/plain": [
       "['./../dataFolders/MuscaChasingMusca/Outputs/Sampled_100fps/COM\\\\2023-04-19_Trial7_Set1_5k_smoothened_interpol_COM.csv',\n",
       " './../dataFolders/MuscaChasingMusca/Outputs/Sampled_100fps/COM\\\\2023-04-21_Trial6_1k_smoothened_interpol_COM.csv',\n",
       " './../dataFolders/MuscaChasingMusca/Outputs/Sampled_100fps/COM\\\\2023-04-21_Trial7_1k_smoothened_interpol_COM.csv',\n",
       " './../dataFolders/MuscaChasingMusca/Outputs/Sampled_100fps/COM\\\\2023-04-28_Trial4_5k_smoothened_interpol_COM.csv',\n",
       " './../dataFolders/MuscaChasingMusca/Outputs/Sampled_100fps/COM\\\\2023-04-28_Trial5_5k_smoothened_interpol_COM.csv',\n",
       " './../dataFolders/MuscaChasingMusca/Outputs/Sampled_100fps/COM\\\\2023-04-28_Trial8_1k_smoothened_interpol_COM.csv']"
      ]
     },
     "execution_count": 59,
     "metadata": {},
     "output_type": "execute_result"
    }
   ],
   "source": [
    "raw_positions = glob.glob('./../dataFolders/MuscaChasingMusca/Outputs/Sampled_100fps/COM/*COM.csv')\n",
    "raw_positions"
   ]
  },
  {
   "cell_type": "code",
   "execution_count": 60,
   "id": "e90956ec",
   "metadata": {},
   "outputs": [],
   "source": [
    "framerate = 100 # sampled at 100fps"
   ]
  },
  {
   "cell_type": "code",
   "execution_count": 101,
   "id": "90ae3e11",
   "metadata": {},
   "outputs": [],
   "source": [
    "# for chase in chase_param:\n",
    "chase = chase_param[3]\n",
    "chase_df = pd.read_csv(chase)\n",
    "#     name = chase.split('\\\\')[1][:-53]\n",
    "name = chase.split('\\\\')[1][:-57]\n",
    "\n",
    "# speed_list = [speed for speed in speed_param if name  in speed]\n",
    "# angular_speed_df = pd.read_csv([s for s in speed_list if \"Anglular\" in s][0])\n",
    "# linear_speed_df = pd.read_csv([s for s in speed_list if 'Linear' in s][0])\n",
    "\n",
    "com_df = pd.read_csv([com for com in raw_positions if name in com][0])\n",
    "\n",
    "time_Axis = np.arange(len(chase_df))* 1e3/framerate # in milliseconds"
   ]
  },
  {
   "cell_type": "code",
   "execution_count": 102,
   "id": "5c769da7",
   "metadata": {},
   "outputs": [
    {
     "name": "stdout",
     "output_type": "stream",
     "text": [
      "./../dataFolders/MuscaChasingMusca/Outputs/Sampled_100fps/ChaseParameters\\2023-04-28_Trial4_5k_smoothened_interpol_COM_ChaseErrorAngle_TurningAngle.csv\n",
      "2023-04-28_Trial4_5k\n"
     ]
    }
   ],
   "source": [
    "print(chase)\n",
    "print(name)"
   ]
  },
  {
   "cell_type": "code",
   "execution_count": 103,
   "id": "b24d25f1",
   "metadata": {},
   "outputs": [
    {
     "data": {
      "application/vnd.plotly.v1+json": {
       "config": {
        "plotlyServerURL": "https://plot.ly"
       },
       "data": [
        {
         "line": {
          "color": "black"
         },
         "mode": "lines",
         "name": "Line",
         "scene": "scene",
         "type": "scatter3d",
         "x": [
          0.0913456309523809,
          0.0906011666666667,
          0.0890660238095238,
          0.0857752968749999,
          0.083348703125,
          0.0811555468749999,
          0.0792593593749999,
          0.0776276562499999,
          0.0767821031746032,
          0.0748455555555556,
          0.0723378174603175
         ],
         "y": [
          0.0694686071428571,
          0.0686571785714285,
          0.0678732142857143,
          0.0667306718749999,
          0.0661618906249999,
          0.0658221562499999,
          0.0655951718749999,
          0.0650985156249999,
          0.0646360238095238,
          0.0632895952380953,
          0.0612975595238095
         ],
         "z": [
          -0.0311157619047618,
          -0.0285641547619047,
          -0.0249522619047619,
          -0.0178356249999999,
          -0.0121965937499999,
          -0.0059091406249998,
          0.000767578125,
          0.00781803125,
          0.0115029444444443,
          0.019355742063492,
          0.0280074087301587
         ]
        },
        {
         "line": {
          "color": "black",
          "width": 1
         },
         "mode": "lines",
         "name": "Line",
         "scene": "scene",
         "type": "scatter3d",
         "x": [
          0.0757345119047619,
          0.0740146904761904,
          0.072774119047619,
          0.0714777968749999,
          0.0707747968749999,
          0.070353328125,
          0.0701174531249999,
          0.0699410781249999,
          0.069843619047619,
          0.0695779761904762,
          0.0691437976190476
         ],
         "y": [
          0.094495119047619,
          0.0905264404761905,
          0.0864595476190476,
          0.0801558437499999,
          0.0758871249999999,
          0.0717479374999999,
          0.0678872656249999,
          0.06470890625,
          0.0633827301587302,
          0.0613265634920635,
          0.0601548015873016
         ],
         "z": [
          -0.0129840714285714,
          -0.0080496071428571,
          -0.0030868571428571,
          0.0041719531249999,
          0.008699859375,
          0.0131550624999999,
          0.0176546718749999,
          0.0223266562499999,
          0.0247301904761904,
          0.0295609761904761,
          0.0343351904761905
         ]
        },
        {
         "marker": {
          "color": "black",
          "size": 3,
          "symbol": "circle"
         },
         "mode": "markers",
         "name": "Markers_chaser",
         "scene": "scene",
         "type": "scatter3d",
         "x": [
          0.0913456309523809
         ],
         "y": [
          0.0694686071428571
         ],
         "z": [
          -0.0311157619047618
         ]
        },
        {
         "marker": {
          "color": "black",
          "size": 3,
          "symbol": "circle-open"
         },
         "mode": "markers",
         "name": "Markers_chasee",
         "scene": "scene",
         "type": "scatter3d",
         "x": [
          0.0757345119047619
         ],
         "y": [
          0.094495119047619
         ],
         "z": [
          -0.0129840714285714
         ]
        },
        {
         "mode": "text",
         "name": "Labels_chaser",
         "scene": "scene",
         "text": [
          "0"
         ],
         "textfont": {
          "color": "black",
          "size": 10
         },
         "textposition": "top center",
         "type": "scatter3d",
         "x": [
          0.0913456309523809
         ],
         "y": [
          0.0694686071428571
         ],
         "z": [
          -0.0311157619047618
         ]
        },
        {
         "mode": "text",
         "name": "Labels_chasee",
         "scene": "scene",
         "text": [
          "0"
         ],
         "textfont": {
          "color": "black",
          "size": 10
         },
         "textposition": "bottom left",
         "type": "scatter3d",
         "x": [
          0.0757345119047619
         ],
         "y": [
          0.094495119047619
         ],
         "z": [
          -0.0129840714285714
         ]
        },
        {
         "mode": "lines",
         "type": "scatter",
         "x": [
          0,
          10,
          20,
          30,
          40,
          50,
          60,
          70,
          80,
          90
         ],
         "xaxis": "x",
         "y": [
          -102.99181356617896,
          -77.95155717204568,
          -65.44839291701614,
          -53.937435524302174,
          -42.60900002698254,
          -29.22000807344073,
          -23.379135545854695,
          -22.26788006805064,
          -20.04781795378445,
          -18.306647111976925
         ],
         "yaxis": "y"
        },
        {
         "marker": {
          "color": "black",
          "size": 5,
          "symbol": "circle"
         },
         "mode": "markers",
         "name": "theta",
         "type": "scatter",
         "x": [
          0
         ],
         "xaxis": "x",
         "y": [
          -102.99181356617896
         ],
         "yaxis": "y"
        },
        {
         "mode": "lines",
         "type": "scatter",
         "x": [
          0,
          10,
          20,
          30,
          40,
          50,
          60,
          70,
          80,
          90
         ],
         "xaxis": "x2",
         "y": [
          -101.23150283090905,
          -81.78250667742756,
          -65.25094518078315,
          -51.48899609210325,
          -40.348837162515274,
          -31.682646143146656,
          -25.34260078512483,
          -21.18087883957722,
          -19.049658057631234,
          -18.801116190414305
         ],
         "yaxis": "y2"
        },
        {
         "mode": "lines",
         "type": "scatter",
         "x": [
          0,
          10,
          20,
          30,
          40,
          50,
          60,
          70,
          80,
          90
         ],
         "xaxis": "x3",
         "y": [
          19.448996153481488,
          16.531561496644414,
          13.761949088679899,
          11.140158929587976,
          8.666191019368618,
          6.3400453580218255,
          4.161721945547612,
          2.1312207819459843,
          0.24854186721692884
         ],
         "yaxis": "y3"
        },
        {
         "marker": {
          "color": "black",
          "size": 5,
          "symbol": "circle"
         },
         "mode": "markers",
         "name": "omega_hat",
         "type": "scatter",
         "x": [
          0
         ],
         "xaxis": "x3",
         "y": [
          19.448996153481488
         ],
         "yaxis": "y3"
        }
       ],
       "layout": {
        "annotations": [
         {
          "font": {
           "color": "black",
           "size": 12
          },
          "showarrow": false,
          "text": "θ (angle between chaser and chasee)",
          "x": 0.85,
          "xanchor": "center",
          "xref": "paper",
          "y": 1,
          "yanchor": "bottom",
          "yref": "paper"
         },
         {
          "font": {
           "color": "black",
           "size": 12
          },
          "showarrow": false,
          "text": "ω (turning angle of chaser)",
          "x": 0.85,
          "xanchor": "center",
          "xref": "paper",
          "y": 0.6428571428571428,
          "yanchor": "bottom",
          "yref": "paper"
         },
         {
          "font": {
           "color": "black",
           "size": 12
          },
          "showarrow": false,
          "text": "ω̂ (rate of turning angle of chaser)",
          "x": 0.85,
          "xanchor": "center",
          "xref": "paper",
          "y": 0.2857142857142857,
          "yanchor": "bottom",
          "yref": "paper"
         }
        ],
        "height": 800,
        "scene": {
         "aspectmode": "cube",
         "camera": {
          "eye": {
           "x": 0,
           "y": 0,
           "z": 2.5
          }
         },
         "domain": {
          "x": [
           0,
           0.6444444444444445
          ],
          "y": [
           0,
           1
          ]
         }
        },
        "showlegend": false,
        "template": {
         "data": {
          "bar": [
           {
            "error_x": {
             "color": "#2a3f5f"
            },
            "error_y": {
             "color": "#2a3f5f"
            },
            "marker": {
             "line": {
              "color": "#E5ECF6",
              "width": 0.5
             },
             "pattern": {
              "fillmode": "overlay",
              "size": 10,
              "solidity": 0.2
             }
            },
            "type": "bar"
           }
          ],
          "barpolar": [
           {
            "marker": {
             "line": {
              "color": "#E5ECF6",
              "width": 0.5
             },
             "pattern": {
              "fillmode": "overlay",
              "size": 10,
              "solidity": 0.2
             }
            },
            "type": "barpolar"
           }
          ],
          "carpet": [
           {
            "aaxis": {
             "endlinecolor": "#2a3f5f",
             "gridcolor": "white",
             "linecolor": "white",
             "minorgridcolor": "white",
             "startlinecolor": "#2a3f5f"
            },
            "baxis": {
             "endlinecolor": "#2a3f5f",
             "gridcolor": "white",
             "linecolor": "white",
             "minorgridcolor": "white",
             "startlinecolor": "#2a3f5f"
            },
            "type": "carpet"
           }
          ],
          "choropleth": [
           {
            "colorbar": {
             "outlinewidth": 0,
             "ticks": ""
            },
            "type": "choropleth"
           }
          ],
          "contour": [
           {
            "colorbar": {
             "outlinewidth": 0,
             "ticks": ""
            },
            "colorscale": [
             [
              0,
              "#0d0887"
             ],
             [
              0.1111111111111111,
              "#46039f"
             ],
             [
              0.2222222222222222,
              "#7201a8"
             ],
             [
              0.3333333333333333,
              "#9c179e"
             ],
             [
              0.4444444444444444,
              "#bd3786"
             ],
             [
              0.5555555555555556,
              "#d8576b"
             ],
             [
              0.6666666666666666,
              "#ed7953"
             ],
             [
              0.7777777777777778,
              "#fb9f3a"
             ],
             [
              0.8888888888888888,
              "#fdca26"
             ],
             [
              1,
              "#f0f921"
             ]
            ],
            "type": "contour"
           }
          ],
          "contourcarpet": [
           {
            "colorbar": {
             "outlinewidth": 0,
             "ticks": ""
            },
            "type": "contourcarpet"
           }
          ],
          "heatmap": [
           {
            "colorbar": {
             "outlinewidth": 0,
             "ticks": ""
            },
            "colorscale": [
             [
              0,
              "#0d0887"
             ],
             [
              0.1111111111111111,
              "#46039f"
             ],
             [
              0.2222222222222222,
              "#7201a8"
             ],
             [
              0.3333333333333333,
              "#9c179e"
             ],
             [
              0.4444444444444444,
              "#bd3786"
             ],
             [
              0.5555555555555556,
              "#d8576b"
             ],
             [
              0.6666666666666666,
              "#ed7953"
             ],
             [
              0.7777777777777778,
              "#fb9f3a"
             ],
             [
              0.8888888888888888,
              "#fdca26"
             ],
             [
              1,
              "#f0f921"
             ]
            ],
            "type": "heatmap"
           }
          ],
          "heatmapgl": [
           {
            "colorbar": {
             "outlinewidth": 0,
             "ticks": ""
            },
            "colorscale": [
             [
              0,
              "#0d0887"
             ],
             [
              0.1111111111111111,
              "#46039f"
             ],
             [
              0.2222222222222222,
              "#7201a8"
             ],
             [
              0.3333333333333333,
              "#9c179e"
             ],
             [
              0.4444444444444444,
              "#bd3786"
             ],
             [
              0.5555555555555556,
              "#d8576b"
             ],
             [
              0.6666666666666666,
              "#ed7953"
             ],
             [
              0.7777777777777778,
              "#fb9f3a"
             ],
             [
              0.8888888888888888,
              "#fdca26"
             ],
             [
              1,
              "#f0f921"
             ]
            ],
            "type": "heatmapgl"
           }
          ],
          "histogram": [
           {
            "marker": {
             "pattern": {
              "fillmode": "overlay",
              "size": 10,
              "solidity": 0.2
             }
            },
            "type": "histogram"
           }
          ],
          "histogram2d": [
           {
            "colorbar": {
             "outlinewidth": 0,
             "ticks": ""
            },
            "colorscale": [
             [
              0,
              "#0d0887"
             ],
             [
              0.1111111111111111,
              "#46039f"
             ],
             [
              0.2222222222222222,
              "#7201a8"
             ],
             [
              0.3333333333333333,
              "#9c179e"
             ],
             [
              0.4444444444444444,
              "#bd3786"
             ],
             [
              0.5555555555555556,
              "#d8576b"
             ],
             [
              0.6666666666666666,
              "#ed7953"
             ],
             [
              0.7777777777777778,
              "#fb9f3a"
             ],
             [
              0.8888888888888888,
              "#fdca26"
             ],
             [
              1,
              "#f0f921"
             ]
            ],
            "type": "histogram2d"
           }
          ],
          "histogram2dcontour": [
           {
            "colorbar": {
             "outlinewidth": 0,
             "ticks": ""
            },
            "colorscale": [
             [
              0,
              "#0d0887"
             ],
             [
              0.1111111111111111,
              "#46039f"
             ],
             [
              0.2222222222222222,
              "#7201a8"
             ],
             [
              0.3333333333333333,
              "#9c179e"
             ],
             [
              0.4444444444444444,
              "#bd3786"
             ],
             [
              0.5555555555555556,
              "#d8576b"
             ],
             [
              0.6666666666666666,
              "#ed7953"
             ],
             [
              0.7777777777777778,
              "#fb9f3a"
             ],
             [
              0.8888888888888888,
              "#fdca26"
             ],
             [
              1,
              "#f0f921"
             ]
            ],
            "type": "histogram2dcontour"
           }
          ],
          "mesh3d": [
           {
            "colorbar": {
             "outlinewidth": 0,
             "ticks": ""
            },
            "type": "mesh3d"
           }
          ],
          "parcoords": [
           {
            "line": {
             "colorbar": {
              "outlinewidth": 0,
              "ticks": ""
             }
            },
            "type": "parcoords"
           }
          ],
          "pie": [
           {
            "automargin": true,
            "type": "pie"
           }
          ],
          "scatter": [
           {
            "fillpattern": {
             "fillmode": "overlay",
             "size": 10,
             "solidity": 0.2
            },
            "type": "scatter"
           }
          ],
          "scatter3d": [
           {
            "line": {
             "colorbar": {
              "outlinewidth": 0,
              "ticks": ""
             }
            },
            "marker": {
             "colorbar": {
              "outlinewidth": 0,
              "ticks": ""
             }
            },
            "type": "scatter3d"
           }
          ],
          "scattercarpet": [
           {
            "marker": {
             "colorbar": {
              "outlinewidth": 0,
              "ticks": ""
             }
            },
            "type": "scattercarpet"
           }
          ],
          "scattergeo": [
           {
            "marker": {
             "colorbar": {
              "outlinewidth": 0,
              "ticks": ""
             }
            },
            "type": "scattergeo"
           }
          ],
          "scattergl": [
           {
            "marker": {
             "colorbar": {
              "outlinewidth": 0,
              "ticks": ""
             }
            },
            "type": "scattergl"
           }
          ],
          "scattermapbox": [
           {
            "marker": {
             "colorbar": {
              "outlinewidth": 0,
              "ticks": ""
             }
            },
            "type": "scattermapbox"
           }
          ],
          "scatterpolar": [
           {
            "marker": {
             "colorbar": {
              "outlinewidth": 0,
              "ticks": ""
             }
            },
            "type": "scatterpolar"
           }
          ],
          "scatterpolargl": [
           {
            "marker": {
             "colorbar": {
              "outlinewidth": 0,
              "ticks": ""
             }
            },
            "type": "scatterpolargl"
           }
          ],
          "scatterternary": [
           {
            "marker": {
             "colorbar": {
              "outlinewidth": 0,
              "ticks": ""
             }
            },
            "type": "scatterternary"
           }
          ],
          "surface": [
           {
            "colorbar": {
             "outlinewidth": 0,
             "ticks": ""
            },
            "colorscale": [
             [
              0,
              "#0d0887"
             ],
             [
              0.1111111111111111,
              "#46039f"
             ],
             [
              0.2222222222222222,
              "#7201a8"
             ],
             [
              0.3333333333333333,
              "#9c179e"
             ],
             [
              0.4444444444444444,
              "#bd3786"
             ],
             [
              0.5555555555555556,
              "#d8576b"
             ],
             [
              0.6666666666666666,
              "#ed7953"
             ],
             [
              0.7777777777777778,
              "#fb9f3a"
             ],
             [
              0.8888888888888888,
              "#fdca26"
             ],
             [
              1,
              "#f0f921"
             ]
            ],
            "type": "surface"
           }
          ],
          "table": [
           {
            "cells": {
             "fill": {
              "color": "#EBF0F8"
             },
             "line": {
              "color": "white"
             }
            },
            "header": {
             "fill": {
              "color": "#C8D4E3"
             },
             "line": {
              "color": "white"
             }
            },
            "type": "table"
           }
          ]
         },
         "layout": {
          "annotationdefaults": {
           "arrowcolor": "#2a3f5f",
           "arrowhead": 0,
           "arrowwidth": 1
          },
          "autotypenumbers": "strict",
          "coloraxis": {
           "colorbar": {
            "outlinewidth": 0,
            "ticks": ""
           }
          },
          "colorscale": {
           "diverging": [
            [
             0,
             "#8e0152"
            ],
            [
             0.1,
             "#c51b7d"
            ],
            [
             0.2,
             "#de77ae"
            ],
            [
             0.3,
             "#f1b6da"
            ],
            [
             0.4,
             "#fde0ef"
            ],
            [
             0.5,
             "#f7f7f7"
            ],
            [
             0.6,
             "#e6f5d0"
            ],
            [
             0.7,
             "#b8e186"
            ],
            [
             0.8,
             "#7fbc41"
            ],
            [
             0.9,
             "#4d9221"
            ],
            [
             1,
             "#276419"
            ]
           ],
           "sequential": [
            [
             0,
             "#0d0887"
            ],
            [
             0.1111111111111111,
             "#46039f"
            ],
            [
             0.2222222222222222,
             "#7201a8"
            ],
            [
             0.3333333333333333,
             "#9c179e"
            ],
            [
             0.4444444444444444,
             "#bd3786"
            ],
            [
             0.5555555555555556,
             "#d8576b"
            ],
            [
             0.6666666666666666,
             "#ed7953"
            ],
            [
             0.7777777777777778,
             "#fb9f3a"
            ],
            [
             0.8888888888888888,
             "#fdca26"
            ],
            [
             1,
             "#f0f921"
            ]
           ],
           "sequentialminus": [
            [
             0,
             "#0d0887"
            ],
            [
             0.1111111111111111,
             "#46039f"
            ],
            [
             0.2222222222222222,
             "#7201a8"
            ],
            [
             0.3333333333333333,
             "#9c179e"
            ],
            [
             0.4444444444444444,
             "#bd3786"
            ],
            [
             0.5555555555555556,
             "#d8576b"
            ],
            [
             0.6666666666666666,
             "#ed7953"
            ],
            [
             0.7777777777777778,
             "#fb9f3a"
            ],
            [
             0.8888888888888888,
             "#fdca26"
            ],
            [
             1,
             "#f0f921"
            ]
           ]
          },
          "colorway": [
           "#636efa",
           "#EF553B",
           "#00cc96",
           "#ab63fa",
           "#FFA15A",
           "#19d3f3",
           "#FF6692",
           "#B6E880",
           "#FF97FF",
           "#FECB52"
          ],
          "font": {
           "color": "#2a3f5f"
          },
          "geo": {
           "bgcolor": "white",
           "lakecolor": "white",
           "landcolor": "#E5ECF6",
           "showlakes": true,
           "showland": true,
           "subunitcolor": "white"
          },
          "hoverlabel": {
           "align": "left"
          },
          "hovermode": "closest",
          "mapbox": {
           "style": "light"
          },
          "paper_bgcolor": "white",
          "plot_bgcolor": "#E5ECF6",
          "polar": {
           "angularaxis": {
            "gridcolor": "white",
            "linecolor": "white",
            "ticks": ""
           },
           "bgcolor": "#E5ECF6",
           "radialaxis": {
            "gridcolor": "white",
            "linecolor": "white",
            "ticks": ""
           }
          },
          "scene": {
           "xaxis": {
            "backgroundcolor": "#E5ECF6",
            "gridcolor": "white",
            "gridwidth": 2,
            "linecolor": "white",
            "showbackground": true,
            "ticks": "",
            "zerolinecolor": "white"
           },
           "yaxis": {
            "backgroundcolor": "#E5ECF6",
            "gridcolor": "white",
            "gridwidth": 2,
            "linecolor": "white",
            "showbackground": true,
            "ticks": "",
            "zerolinecolor": "white"
           },
           "zaxis": {
            "backgroundcolor": "#E5ECF6",
            "gridcolor": "white",
            "gridwidth": 2,
            "linecolor": "white",
            "showbackground": true,
            "ticks": "",
            "zerolinecolor": "white"
           }
          },
          "shapedefaults": {
           "line": {
            "color": "#2a3f5f"
           }
          },
          "ternary": {
           "aaxis": {
            "gridcolor": "white",
            "linecolor": "white",
            "ticks": ""
           },
           "baxis": {
            "gridcolor": "white",
            "linecolor": "white",
            "ticks": ""
           },
           "bgcolor": "#E5ECF6",
           "caxis": {
            "gridcolor": "white",
            "linecolor": "white",
            "ticks": ""
           }
          },
          "title": {
           "x": 0.05
          },
          "xaxis": {
           "automargin": true,
           "gridcolor": "white",
           "linecolor": "white",
           "ticks": "",
           "title": {
            "standoff": 15
           },
           "zerolinecolor": "white",
           "zerolinewidth": 2
          },
          "yaxis": {
           "automargin": true,
           "gridcolor": "white",
           "linecolor": "white",
           "ticks": "",
           "title": {
            "standoff": 15
           },
           "zerolinecolor": "white",
           "zerolinewidth": 2
          }
         }
        },
        "width": 1000,
        "xaxis": {
         "anchor": "y",
         "domain": [
          0.7111111111111111,
          1
         ]
        },
        "xaxis2": {
         "anchor": "y2",
         "domain": [
          0.7111111111111111,
          1
         ]
        },
        "xaxis3": {
         "anchor": "y3",
         "domain": [
          0.7111111111111111,
          1
         ],
         "title": {
          "text": "Time (miliseconds)"
         }
        },
        "yaxis": {
         "anchor": "x",
         "domain": [
          0.7333333333333333,
          1
         ]
        },
        "yaxis2": {
         "anchor": "x2",
         "domain": [
          0.36666666666666664,
          0.6333333333333333
         ]
        },
        "yaxis3": {
         "anchor": "x3",
         "domain": [
          0,
          0.26666666666666666
         ],
         "showgrid": true,
         "title": {
          "text": "ω̂ (degree/s² * 1e3)"
         }
        }
       }
      },
      "text/html": [
       "<div>                            <div id=\"a366934c-4715-4241-8355-7557bb605498\" class=\"plotly-graph-div\" style=\"height:800px; width:1000px;\"></div>            <script type=\"text/javascript\">                require([\"plotly\"], function(Plotly) {                    window.PLOTLYENV=window.PLOTLYENV || {};                                    if (document.getElementById(\"a366934c-4715-4241-8355-7557bb605498\")) {                    Plotly.newPlot(                        \"a366934c-4715-4241-8355-7557bb605498\",                        [{\"line\":{\"color\":\"black\"},\"mode\":\"lines\",\"name\":\"Line\",\"x\":[0.0913456309523809,0.0906011666666667,0.0890660238095238,0.0857752968749999,0.083348703125,0.0811555468749999,0.0792593593749999,0.0776276562499999,0.0767821031746032,0.0748455555555556,0.0723378174603175],\"y\":[0.0694686071428571,0.0686571785714285,0.0678732142857143,0.0667306718749999,0.0661618906249999,0.0658221562499999,0.0655951718749999,0.0650985156249999,0.0646360238095238,0.0632895952380953,0.0612975595238095],\"z\":[-0.0311157619047618,-0.0285641547619047,-0.0249522619047619,-0.0178356249999999,-0.0121965937499999,-0.0059091406249998,0.000767578125,0.00781803125,0.0115029444444443,0.019355742063492,0.0280074087301587],\"type\":\"scatter3d\",\"scene\":\"scene\"},{\"line\":{\"color\":\"black\",\"width\":1},\"mode\":\"lines\",\"name\":\"Line\",\"x\":[0.0757345119047619,0.0740146904761904,0.072774119047619,0.0714777968749999,0.0707747968749999,0.070353328125,0.0701174531249999,0.0699410781249999,0.069843619047619,0.0695779761904762,0.0691437976190476],\"y\":[0.094495119047619,0.0905264404761905,0.0864595476190476,0.0801558437499999,0.0758871249999999,0.0717479374999999,0.0678872656249999,0.06470890625,0.0633827301587302,0.0613265634920635,0.0601548015873016],\"z\":[-0.0129840714285714,-0.0080496071428571,-0.0030868571428571,0.0041719531249999,0.008699859375,0.0131550624999999,0.0176546718749999,0.0223266562499999,0.0247301904761904,0.0295609761904761,0.0343351904761905],\"type\":\"scatter3d\",\"scene\":\"scene\"},{\"marker\":{\"color\":\"black\",\"size\":3,\"symbol\":\"circle\"},\"mode\":\"markers\",\"name\":\"Markers_chaser\",\"x\":[0.0913456309523809],\"y\":[0.0694686071428571],\"z\":[-0.0311157619047618],\"type\":\"scatter3d\",\"scene\":\"scene\"},{\"marker\":{\"color\":\"black\",\"size\":3,\"symbol\":\"circle-open\"},\"mode\":\"markers\",\"name\":\"Markers_chasee\",\"x\":[0.0757345119047619],\"y\":[0.094495119047619],\"z\":[-0.0129840714285714],\"type\":\"scatter3d\",\"scene\":\"scene\"},{\"mode\":\"text\",\"name\":\"Labels_chaser\",\"text\":[\"0\"],\"textfont\":{\"color\":\"black\",\"size\":10},\"textposition\":\"top center\",\"x\":[0.0913456309523809],\"y\":[0.0694686071428571],\"z\":[-0.0311157619047618],\"type\":\"scatter3d\",\"scene\":\"scene\"},{\"mode\":\"text\",\"name\":\"Labels_chasee\",\"text\":[\"0\"],\"textfont\":{\"color\":\"black\",\"size\":10},\"textposition\":\"bottom left\",\"x\":[0.0757345119047619],\"y\":[0.094495119047619],\"z\":[-0.0129840714285714],\"type\":\"scatter3d\",\"scene\":\"scene\"},{\"mode\":\"lines\",\"x\":[0.0,10.0,20.0,30.0,40.0,50.0,60.0,70.0,80.0,90.0],\"y\":[-102.99181356617896,-77.95155717204568,-65.44839291701614,-53.937435524302174,-42.60900002698254,-29.22000807344073,-23.379135545854695,-22.26788006805064,-20.04781795378445,-18.306647111976925],\"type\":\"scatter\",\"xaxis\":\"x\",\"yaxis\":\"y\"},{\"marker\":{\"color\":\"black\",\"size\":5,\"symbol\":\"circle\"},\"mode\":\"markers\",\"name\":\"theta\",\"x\":[0.0],\"y\":[-102.99181356617896],\"type\":\"scatter\",\"xaxis\":\"x\",\"yaxis\":\"y\"},{\"mode\":\"lines\",\"x\":[0.0,10.0,20.0,30.0,40.0,50.0,60.0,70.0,80.0,90.0],\"y\":[-101.23150283090905,-81.78250667742756,-65.25094518078315,-51.48899609210325,-40.348837162515274,-31.682646143146656,-25.34260078512483,-21.18087883957722,-19.049658057631234,-18.801116190414305],\"type\":\"scatter\",\"xaxis\":\"x2\",\"yaxis\":\"y2\"},{\"mode\":\"lines\",\"x\":[0.0,10.0,20.0,30.0,40.0,50.0,60.0,70.0,80.0,90.0],\"y\":[19.448996153481488,16.531561496644414,13.761949088679899,11.140158929587976,8.666191019368618,6.3400453580218255,4.161721945547612,2.1312207819459843,0.24854186721692884],\"type\":\"scatter\",\"xaxis\":\"x3\",\"yaxis\":\"y3\"},{\"marker\":{\"color\":\"black\",\"size\":5,\"symbol\":\"circle\"},\"mode\":\"markers\",\"name\":\"omega_hat\",\"x\":[0.0],\"y\":[19.448996153481488],\"type\":\"scatter\",\"xaxis\":\"x3\",\"yaxis\":\"y3\"}],                        {\"template\":{\"data\":{\"histogram2dcontour\":[{\"type\":\"histogram2dcontour\",\"colorbar\":{\"outlinewidth\":0,\"ticks\":\"\"},\"colorscale\":[[0.0,\"#0d0887\"],[0.1111111111111111,\"#46039f\"],[0.2222222222222222,\"#7201a8\"],[0.3333333333333333,\"#9c179e\"],[0.4444444444444444,\"#bd3786\"],[0.5555555555555556,\"#d8576b\"],[0.6666666666666666,\"#ed7953\"],[0.7777777777777778,\"#fb9f3a\"],[0.8888888888888888,\"#fdca26\"],[1.0,\"#f0f921\"]]}],\"choropleth\":[{\"type\":\"choropleth\",\"colorbar\":{\"outlinewidth\":0,\"ticks\":\"\"}}],\"histogram2d\":[{\"type\":\"histogram2d\",\"colorbar\":{\"outlinewidth\":0,\"ticks\":\"\"},\"colorscale\":[[0.0,\"#0d0887\"],[0.1111111111111111,\"#46039f\"],[0.2222222222222222,\"#7201a8\"],[0.3333333333333333,\"#9c179e\"],[0.4444444444444444,\"#bd3786\"],[0.5555555555555556,\"#d8576b\"],[0.6666666666666666,\"#ed7953\"],[0.7777777777777778,\"#fb9f3a\"],[0.8888888888888888,\"#fdca26\"],[1.0,\"#f0f921\"]]}],\"heatmap\":[{\"type\":\"heatmap\",\"colorbar\":{\"outlinewidth\":0,\"ticks\":\"\"},\"colorscale\":[[0.0,\"#0d0887\"],[0.1111111111111111,\"#46039f\"],[0.2222222222222222,\"#7201a8\"],[0.3333333333333333,\"#9c179e\"],[0.4444444444444444,\"#bd3786\"],[0.5555555555555556,\"#d8576b\"],[0.6666666666666666,\"#ed7953\"],[0.7777777777777778,\"#fb9f3a\"],[0.8888888888888888,\"#fdca26\"],[1.0,\"#f0f921\"]]}],\"heatmapgl\":[{\"type\":\"heatmapgl\",\"colorbar\":{\"outlinewidth\":0,\"ticks\":\"\"},\"colorscale\":[[0.0,\"#0d0887\"],[0.1111111111111111,\"#46039f\"],[0.2222222222222222,\"#7201a8\"],[0.3333333333333333,\"#9c179e\"],[0.4444444444444444,\"#bd3786\"],[0.5555555555555556,\"#d8576b\"],[0.6666666666666666,\"#ed7953\"],[0.7777777777777778,\"#fb9f3a\"],[0.8888888888888888,\"#fdca26\"],[1.0,\"#f0f921\"]]}],\"contourcarpet\":[{\"type\":\"contourcarpet\",\"colorbar\":{\"outlinewidth\":0,\"ticks\":\"\"}}],\"contour\":[{\"type\":\"contour\",\"colorbar\":{\"outlinewidth\":0,\"ticks\":\"\"},\"colorscale\":[[0.0,\"#0d0887\"],[0.1111111111111111,\"#46039f\"],[0.2222222222222222,\"#7201a8\"],[0.3333333333333333,\"#9c179e\"],[0.4444444444444444,\"#bd3786\"],[0.5555555555555556,\"#d8576b\"],[0.6666666666666666,\"#ed7953\"],[0.7777777777777778,\"#fb9f3a\"],[0.8888888888888888,\"#fdca26\"],[1.0,\"#f0f921\"]]}],\"surface\":[{\"type\":\"surface\",\"colorbar\":{\"outlinewidth\":0,\"ticks\":\"\"},\"colorscale\":[[0.0,\"#0d0887\"],[0.1111111111111111,\"#46039f\"],[0.2222222222222222,\"#7201a8\"],[0.3333333333333333,\"#9c179e\"],[0.4444444444444444,\"#bd3786\"],[0.5555555555555556,\"#d8576b\"],[0.6666666666666666,\"#ed7953\"],[0.7777777777777778,\"#fb9f3a\"],[0.8888888888888888,\"#fdca26\"],[1.0,\"#f0f921\"]]}],\"mesh3d\":[{\"type\":\"mesh3d\",\"colorbar\":{\"outlinewidth\":0,\"ticks\":\"\"}}],\"scatter\":[{\"fillpattern\":{\"fillmode\":\"overlay\",\"size\":10,\"solidity\":0.2},\"type\":\"scatter\"}],\"parcoords\":[{\"type\":\"parcoords\",\"line\":{\"colorbar\":{\"outlinewidth\":0,\"ticks\":\"\"}}}],\"scatterpolargl\":[{\"type\":\"scatterpolargl\",\"marker\":{\"colorbar\":{\"outlinewidth\":0,\"ticks\":\"\"}}}],\"bar\":[{\"error_x\":{\"color\":\"#2a3f5f\"},\"error_y\":{\"color\":\"#2a3f5f\"},\"marker\":{\"line\":{\"color\":\"#E5ECF6\",\"width\":0.5},\"pattern\":{\"fillmode\":\"overlay\",\"size\":10,\"solidity\":0.2}},\"type\":\"bar\"}],\"scattergeo\":[{\"type\":\"scattergeo\",\"marker\":{\"colorbar\":{\"outlinewidth\":0,\"ticks\":\"\"}}}],\"scatterpolar\":[{\"type\":\"scatterpolar\",\"marker\":{\"colorbar\":{\"outlinewidth\":0,\"ticks\":\"\"}}}],\"histogram\":[{\"marker\":{\"pattern\":{\"fillmode\":\"overlay\",\"size\":10,\"solidity\":0.2}},\"type\":\"histogram\"}],\"scattergl\":[{\"type\":\"scattergl\",\"marker\":{\"colorbar\":{\"outlinewidth\":0,\"ticks\":\"\"}}}],\"scatter3d\":[{\"type\":\"scatter3d\",\"line\":{\"colorbar\":{\"outlinewidth\":0,\"ticks\":\"\"}},\"marker\":{\"colorbar\":{\"outlinewidth\":0,\"ticks\":\"\"}}}],\"scattermapbox\":[{\"type\":\"scattermapbox\",\"marker\":{\"colorbar\":{\"outlinewidth\":0,\"ticks\":\"\"}}}],\"scatterternary\":[{\"type\":\"scatterternary\",\"marker\":{\"colorbar\":{\"outlinewidth\":0,\"ticks\":\"\"}}}],\"scattercarpet\":[{\"type\":\"scattercarpet\",\"marker\":{\"colorbar\":{\"outlinewidth\":0,\"ticks\":\"\"}}}],\"carpet\":[{\"aaxis\":{\"endlinecolor\":\"#2a3f5f\",\"gridcolor\":\"white\",\"linecolor\":\"white\",\"minorgridcolor\":\"white\",\"startlinecolor\":\"#2a3f5f\"},\"baxis\":{\"endlinecolor\":\"#2a3f5f\",\"gridcolor\":\"white\",\"linecolor\":\"white\",\"minorgridcolor\":\"white\",\"startlinecolor\":\"#2a3f5f\"},\"type\":\"carpet\"}],\"table\":[{\"cells\":{\"fill\":{\"color\":\"#EBF0F8\"},\"line\":{\"color\":\"white\"}},\"header\":{\"fill\":{\"color\":\"#C8D4E3\"},\"line\":{\"color\":\"white\"}},\"type\":\"table\"}],\"barpolar\":[{\"marker\":{\"line\":{\"color\":\"#E5ECF6\",\"width\":0.5},\"pattern\":{\"fillmode\":\"overlay\",\"size\":10,\"solidity\":0.2}},\"type\":\"barpolar\"}],\"pie\":[{\"automargin\":true,\"type\":\"pie\"}]},\"layout\":{\"autotypenumbers\":\"strict\",\"colorway\":[\"#636efa\",\"#EF553B\",\"#00cc96\",\"#ab63fa\",\"#FFA15A\",\"#19d3f3\",\"#FF6692\",\"#B6E880\",\"#FF97FF\",\"#FECB52\"],\"font\":{\"color\":\"#2a3f5f\"},\"hovermode\":\"closest\",\"hoverlabel\":{\"align\":\"left\"},\"paper_bgcolor\":\"white\",\"plot_bgcolor\":\"#E5ECF6\",\"polar\":{\"bgcolor\":\"#E5ECF6\",\"angularaxis\":{\"gridcolor\":\"white\",\"linecolor\":\"white\",\"ticks\":\"\"},\"radialaxis\":{\"gridcolor\":\"white\",\"linecolor\":\"white\",\"ticks\":\"\"}},\"ternary\":{\"bgcolor\":\"#E5ECF6\",\"aaxis\":{\"gridcolor\":\"white\",\"linecolor\":\"white\",\"ticks\":\"\"},\"baxis\":{\"gridcolor\":\"white\",\"linecolor\":\"white\",\"ticks\":\"\"},\"caxis\":{\"gridcolor\":\"white\",\"linecolor\":\"white\",\"ticks\":\"\"}},\"coloraxis\":{\"colorbar\":{\"outlinewidth\":0,\"ticks\":\"\"}},\"colorscale\":{\"sequential\":[[0.0,\"#0d0887\"],[0.1111111111111111,\"#46039f\"],[0.2222222222222222,\"#7201a8\"],[0.3333333333333333,\"#9c179e\"],[0.4444444444444444,\"#bd3786\"],[0.5555555555555556,\"#d8576b\"],[0.6666666666666666,\"#ed7953\"],[0.7777777777777778,\"#fb9f3a\"],[0.8888888888888888,\"#fdca26\"],[1.0,\"#f0f921\"]],\"sequentialminus\":[[0.0,\"#0d0887\"],[0.1111111111111111,\"#46039f\"],[0.2222222222222222,\"#7201a8\"],[0.3333333333333333,\"#9c179e\"],[0.4444444444444444,\"#bd3786\"],[0.5555555555555556,\"#d8576b\"],[0.6666666666666666,\"#ed7953\"],[0.7777777777777778,\"#fb9f3a\"],[0.8888888888888888,\"#fdca26\"],[1.0,\"#f0f921\"]],\"diverging\":[[0,\"#8e0152\"],[0.1,\"#c51b7d\"],[0.2,\"#de77ae\"],[0.3,\"#f1b6da\"],[0.4,\"#fde0ef\"],[0.5,\"#f7f7f7\"],[0.6,\"#e6f5d0\"],[0.7,\"#b8e186\"],[0.8,\"#7fbc41\"],[0.9,\"#4d9221\"],[1,\"#276419\"]]},\"xaxis\":{\"gridcolor\":\"white\",\"linecolor\":\"white\",\"ticks\":\"\",\"title\":{\"standoff\":15},\"zerolinecolor\":\"white\",\"automargin\":true,\"zerolinewidth\":2},\"yaxis\":{\"gridcolor\":\"white\",\"linecolor\":\"white\",\"ticks\":\"\",\"title\":{\"standoff\":15},\"zerolinecolor\":\"white\",\"automargin\":true,\"zerolinewidth\":2},\"scene\":{\"xaxis\":{\"backgroundcolor\":\"#E5ECF6\",\"gridcolor\":\"white\",\"linecolor\":\"white\",\"showbackground\":true,\"ticks\":\"\",\"zerolinecolor\":\"white\",\"gridwidth\":2},\"yaxis\":{\"backgroundcolor\":\"#E5ECF6\",\"gridcolor\":\"white\",\"linecolor\":\"white\",\"showbackground\":true,\"ticks\":\"\",\"zerolinecolor\":\"white\",\"gridwidth\":2},\"zaxis\":{\"backgroundcolor\":\"#E5ECF6\",\"gridcolor\":\"white\",\"linecolor\":\"white\",\"showbackground\":true,\"ticks\":\"\",\"zerolinecolor\":\"white\",\"gridwidth\":2}},\"shapedefaults\":{\"line\":{\"color\":\"#2a3f5f\"}},\"annotationdefaults\":{\"arrowcolor\":\"#2a3f5f\",\"arrowhead\":0,\"arrowwidth\":1},\"geo\":{\"bgcolor\":\"white\",\"landcolor\":\"#E5ECF6\",\"subunitcolor\":\"white\",\"showland\":true,\"showlakes\":true,\"lakecolor\":\"white\"},\"title\":{\"x\":0.05},\"mapbox\":{\"style\":\"light\"}}},\"scene\":{\"domain\":{\"x\":[0.0,0.6444444444444445],\"y\":[0.0,1.0]},\"camera\":{\"eye\":{\"x\":0.0,\"y\":0.0,\"z\":2.5}},\"aspectmode\":\"cube\"},\"xaxis\":{\"anchor\":\"y\",\"domain\":[0.7111111111111111,1.0]},\"yaxis\":{\"anchor\":\"x\",\"domain\":[0.7333333333333333,1.0]},\"xaxis2\":{\"anchor\":\"y2\",\"domain\":[0.7111111111111111,1.0]},\"yaxis2\":{\"anchor\":\"x2\",\"domain\":[0.36666666666666664,0.6333333333333333]},\"xaxis3\":{\"anchor\":\"y3\",\"domain\":[0.7111111111111111,1.0],\"title\":{\"text\":\"Time (miliseconds)\"}},\"yaxis3\":{\"anchor\":\"x3\",\"domain\":[0.0,0.26666666666666666],\"title\":{\"text\":\"\\u03c9\\u0302 (degree/s\\u00b2 * 1e3)\"},\"showgrid\":true},\"annotations\":[{\"font\":{\"color\":\"black\",\"size\":12},\"showarrow\":false,\"text\":\"\\u03b8 (angle between chaser and chasee)\",\"x\":0.85,\"xanchor\":\"center\",\"xref\":\"paper\",\"y\":1.0,\"yanchor\":\"bottom\",\"yref\":\"paper\"},{\"font\":{\"color\":\"black\",\"size\":12},\"showarrow\":false,\"text\":\"\\u03c9 (turning angle of chaser)\",\"x\":0.85,\"xanchor\":\"center\",\"xref\":\"paper\",\"y\":0.6428571428571428,\"yanchor\":\"bottom\",\"yref\":\"paper\"},{\"font\":{\"color\":\"black\",\"size\":12},\"showarrow\":false,\"text\":\"\\u03c9\\u0302 (rate of turning angle of chaser)\",\"x\":0.85,\"xanchor\":\"center\",\"xref\":\"paper\",\"y\":0.2857142857142857,\"yanchor\":\"bottom\",\"yref\":\"paper\"}],\"height\":800,\"width\":1000,\"showlegend\":false},                        {\"responsive\": true}                    ).then(function(){\n",
       "                            \n",
       "var gd = document.getElementById('a366934c-4715-4241-8355-7557bb605498');\n",
       "var x = new MutationObserver(function (mutations, observer) {{\n",
       "        var display = window.getComputedStyle(gd).display;\n",
       "        if (!display || display === 'none') {{\n",
       "            console.log([gd, 'removed!']);\n",
       "            Plotly.purge(gd);\n",
       "            observer.disconnect();\n",
       "        }}\n",
       "}});\n",
       "\n",
       "// Listen for the removal of the full notebook cells\n",
       "var notebookContainer = gd.closest('#notebook-container');\n",
       "if (notebookContainer) {{\n",
       "    x.observe(notebookContainer, {childList: true});\n",
       "}}\n",
       "\n",
       "// Listen for the clearing of the current output cell\n",
       "var outputEl = gd.closest('.output');\n",
       "if (outputEl) {{\n",
       "    x.observe(outputEl, {childList: true});\n",
       "}}\n",
       "\n",
       "                        })                };                });            </script>        </div>"
      ]
     },
     "metadata": {},
     "output_type": "display_data"
    }
   ],
   "source": [
    "# titles = titles = [\n",
    "#     \"\", \"\", \"θ (angle between chaser and chasee)\",\n",
    "#     \"\", \"\", \"ω (turning angle of chaser)\",\n",
    "#     \"\", \"\", \"ω̂ (rate of turning angle of chaser)\"\n",
    "# ]\n",
    "\n",
    "\n",
    "fig = make_subplots(\n",
    "    rows=3, cols=3,\n",
    "#     subplot_titles=titles,\n",
    "    specs=[\n",
    "        [{\"type\": \"scene\", \"rowspan\": 3, \"colspan\": 2}, None, {\"type\": \"xy\"}],\n",
    "        [None,                        None,              {\"type\": \"xy\"}],\n",
    "        [None,                        None,              {\"type\": \"xy\"}]\n",
    "          ])\n",
    "\n",
    "\n",
    "################### the 3D chase plot #######################################################################\n",
    "# 3D line plot to recreate the chase\n",
    "line_trace_1 = go.Scatter3d(\n",
    "    x = com_df.chaser_com_x, y = com_df.chaser_com_y, z = com_df.chaser_com_z,\n",
    "    mode='lines',\n",
    "    line=dict(color='black'),\n",
    "    name='Line'\n",
    ")\n",
    "\n",
    "line_trace_2 = go.Scatter3d(\n",
    "    x = com_df.chasee_com_x, y = com_df.chasee_com_y, z = com_df.chasee_com_z,\n",
    "    mode='lines',\n",
    "    line=dict(color='black', width=1),\n",
    "    name='Line'\n",
    ")\n",
    "\n",
    "N = len(com_df)-1\n",
    "# Markers every 10th point\n",
    "\n",
    "marker_indices = np.arange(0, N, 10)\n",
    "\n",
    "marker_trace_1 = go.Scatter3d(\n",
    "    x=com_df.chaser_com_x[marker_indices],\n",
    "    y=com_df.chaser_com_y[marker_indices],\n",
    "    z=com_df.chaser_com_z[marker_indices],\n",
    "    mode='markers',\n",
    "    marker=dict(\n",
    "        size=3,\n",
    "        color='black',\n",
    "        symbol='circle'\n",
    "#         ['circle' if i % 2 == 0 else 'circle-open' for i in range(len(marker_indices))],\n",
    "#         line=dict(width=1, color='black')\n",
    "    ),\n",
    "    name='Markers_chaser'\n",
    ")\n",
    "\n",
    "marker_trace_2 = go.Scatter3d(\n",
    "    x=com_df.chasee_com_x[marker_indices],\n",
    "    y=com_df.chasee_com_y[marker_indices],\n",
    "    z=com_df.chasee_com_z[marker_indices],\n",
    "    mode='markers',\n",
    "    marker=dict(\n",
    "        size=3,\n",
    "        color='black',\n",
    "        symbol='circle-open'\n",
    "#         ['circle' if i % 2 == 0 else 'circle-open' for i in range(len(marker_indices))],\n",
    "#         line=dict(width=1, color='black')\n",
    "    ),\n",
    "    name='Markers_chasee'\n",
    ")\n",
    "\n",
    "\n",
    "# Text labels every 50th point\n",
    "text_indices = np.arange(0, N, 50)\n",
    "\n",
    "text_trace_1 = go.Scatter3d(\n",
    "    x=com_df.chaser_com_x[text_indices],\n",
    "    y=com_df.chaser_com_y[text_indices],\n",
    "    z=com_df.chaser_com_z[text_indices],\n",
    "    mode='text',\n",
    "    text=[str(i) for i in text_indices],\n",
    "    textposition='top center',\n",
    "    textfont=dict(size=10, color='black'),\n",
    "    name='Labels_chaser'\n",
    ")\n",
    "\n",
    "text_trace_2 = go.Scatter3d(\n",
    "    x=com_df.chasee_com_x[text_indices],\n",
    "    y=com_df.chasee_com_y[text_indices],\n",
    "    z=com_df.chasee_com_z[text_indices],\n",
    "    mode='text',\n",
    "    text=[str(i) for i in text_indices],\n",
    "    textposition='bottom left',\n",
    "    textfont=dict(size=10, color='black'),\n",
    "    name='Labels_chasee'\n",
    ")\n",
    "\n",
    "# Create the figure\n",
    "\n",
    "# Add all traces to the subplot\n",
    "fig.add_trace(line_trace_1, row=1, col=1)\n",
    "fig.add_trace(line_trace_2, row=1, col=1)\n",
    "fig.add_trace(marker_trace_1, row=1, col=1)\n",
    "fig.add_trace(marker_trace_2, row=1, col=1)\n",
    "fig.add_trace(text_trace_1, row=1, col=1)\n",
    "fig.add_trace(text_trace_2, row=1, col=1)\n",
    "\n",
    "# Set the camera to view along the z-axis (xy plane)\n",
    "fig.update_layout(\n",
    "    scene_camera=dict(\n",
    "        eye=dict(x=0., y=0., z=2.5)  # Adjust z to control the distance\n",
    "    ),\n",
    "    scene=dict(\n",
    "        aspectmode='cube'  # Keeps the aspect ratio uniform\n",
    "    )\n",
    ")\n",
    "\n",
    "############## add all the chase variables as line plots in second column ###############################\n",
    "###### angle between the chasee and chaser ##############################################################\n",
    "marker_trace_theta = go.Scatter(\n",
    "    x=time_Axis[marker_indices],\n",
    "    y=chase_df.loc[:,'error_theta'][marker_indices],\n",
    "    mode='markers',\n",
    "    marker=dict(\n",
    "        size=5,\n",
    "        color='black',\n",
    "        symbol='circle'\n",
    "    ),\n",
    "    name='theta'\n",
    ")\n",
    "\n",
    "fig.add_trace(go.Scatter(\n",
    "    x = time_Axis, y = chase_df.loc[:,'error_theta'],\n",
    "    mode = 'lines'),\n",
    "              row = 1, col = 3)\n",
    "fig.add_trace(marker_trace_theta, row = 1, col = 3)\n",
    "\n",
    "\n",
    "####### turning angle for the chaser ####################################################################\n",
    "omega = chase_df.loc[:,'turning_theta']\n",
    "omega_smoothed = signal.savgol_filter(omega, 10, 3)\n",
    "\n",
    "\n",
    "fig.add_trace(go.Scatter(\n",
    "        x = time_Axis, y = omega_smoothed\n",
    "        , mode = 'lines'\n",
    "        ),\n",
    "             row = 2, col = 3)\n",
    "\n",
    "######## rate of turning angle for the chaser ############################################################\n",
    "omega_hat = np.diff(omega_smoothed)\n",
    "\n",
    "marker_indices = np.arange(0, len(omega_hat), 20)\n",
    "marker_trace_omega_hat = go.Scatter(\n",
    "    x=time_Axis[marker_indices], \n",
    "    y=omega_hat[marker_indices],\n",
    "    mode='markers',\n",
    "    marker=dict(\n",
    "        size=5,\n",
    "        color='black',\n",
    "        symbol='circle'\n",
    "    ),\n",
    "    name='omega_hat'\n",
    ")\n",
    "\n",
    "fig.add_trace(go.Scatter(\n",
    "    x = time_Axis, y = omega_hat,\n",
    "    mode = 'lines'),\n",
    "              row = 3, col = 3)\n",
    "fig.add_trace(marker_trace_omega_hat, row = 3, col = 3)\n",
    "\n",
    "# Add manual annotations for column 3 titles\n",
    "titles = [\n",
    "    \"θ (angle between chaser and chasee)\",\n",
    "    \"ω (turning angle of chaser)\",\n",
    "    \"ω̂ (rate of turning angle of chaser)\"\n",
    "]\n",
    "\n",
    "for i, title in enumerate(titles):\n",
    "    fig.add_annotation(\n",
    "        text=title,\n",
    "        xref=\"paper\",\n",
    "        yref=\"paper\",\n",
    "        x=0.85,  # far right (col 3)\n",
    "        y=1.0 - (i * 1 / 2.8),  # top, middle, bottom\n",
    "        xanchor=\"center\",\n",
    "        yanchor=\"bottom\",\n",
    "        showarrow=False,\n",
    "        font=dict(size=12, color=\"black\")\n",
    "    )\n",
    "\n",
    "# Final layout tweaks\n",
    "fig.update_layout(\n",
    "    height=800,\n",
    "    width=1000,\n",
    "#     title_text=\"Custom Titles for Column 3 Subplots\",\n",
    "    showlegend=False\n",
    ")\n",
    "\n",
    "fig.update_layout({\n",
    "    'xaxis3': dict(title='Time (miliseconds)'),\n",
    "    \"yaxis3\": dict(title=\"ω̂ (degree/s * 1e3)\", showgrid=True)\n",
    "    })\n",
    "\n",
    "\n",
    "fig.show()\n",
    "fig.write_html(\"../dataFolders/MuscaChasingMusca/Sampled100fps_Figures/Chase_relationships/\" + name + \"theta_visualization.html\")\n",
    "# fig.write_html(\"../dataFolders/MuscaChasingMusca/Outputs/\" + name + \"theta_visualization.html\")"
   ]
  },
  {
   "cell_type": "code",
   "execution_count": 104,
   "id": "c47491d8",
   "metadata": {},
   "outputs": [
    {
     "data": {
      "application/vnd.plotly.v1+json": {
       "config": {
        "plotlyServerURL": "https://plot.ly"
       },
       "data": [
        {
         "type": "scatter",
         "x": [
          -9,
          -8,
          -7,
          -6,
          -5,
          -4,
          -3,
          -2,
          -1,
          0,
          1,
          2,
          3,
          4,
          5,
          6,
          7,
          8
         ],
         "y": [
          -356.0459092639822,
          -692.5473967978653,
          -1016.444794705679,
          -1302.659554362342,
          -1643.2276524422427,
          -2171.3680270817517,
          -2812.2627818498877,
          -3542.7103722666775,
          -4356.398912767499,
          -5497.569264565965,
          -4419.027620645071,
          -3440.326686150389,
          -2560.3782268175837,
          -1784.6838550396942,
          -1130.2761617548279,
          -611.021935142172,
          -238.87251901455437,
          -25.59777765179594
         ]
        }
       ],
       "layout": {
        "template": {
         "data": {
          "bar": [
           {
            "error_x": {
             "color": "#2a3f5f"
            },
            "error_y": {
             "color": "#2a3f5f"
            },
            "marker": {
             "line": {
              "color": "#E5ECF6",
              "width": 0.5
             },
             "pattern": {
              "fillmode": "overlay",
              "size": 10,
              "solidity": 0.2
             }
            },
            "type": "bar"
           }
          ],
          "barpolar": [
           {
            "marker": {
             "line": {
              "color": "#E5ECF6",
              "width": 0.5
             },
             "pattern": {
              "fillmode": "overlay",
              "size": 10,
              "solidity": 0.2
             }
            },
            "type": "barpolar"
           }
          ],
          "carpet": [
           {
            "aaxis": {
             "endlinecolor": "#2a3f5f",
             "gridcolor": "white",
             "linecolor": "white",
             "minorgridcolor": "white",
             "startlinecolor": "#2a3f5f"
            },
            "baxis": {
             "endlinecolor": "#2a3f5f",
             "gridcolor": "white",
             "linecolor": "white",
             "minorgridcolor": "white",
             "startlinecolor": "#2a3f5f"
            },
            "type": "carpet"
           }
          ],
          "choropleth": [
           {
            "colorbar": {
             "outlinewidth": 0,
             "ticks": ""
            },
            "type": "choropleth"
           }
          ],
          "contour": [
           {
            "colorbar": {
             "outlinewidth": 0,
             "ticks": ""
            },
            "colorscale": [
             [
              0,
              "#0d0887"
             ],
             [
              0.1111111111111111,
              "#46039f"
             ],
             [
              0.2222222222222222,
              "#7201a8"
             ],
             [
              0.3333333333333333,
              "#9c179e"
             ],
             [
              0.4444444444444444,
              "#bd3786"
             ],
             [
              0.5555555555555556,
              "#d8576b"
             ],
             [
              0.6666666666666666,
              "#ed7953"
             ],
             [
              0.7777777777777778,
              "#fb9f3a"
             ],
             [
              0.8888888888888888,
              "#fdca26"
             ],
             [
              1,
              "#f0f921"
             ]
            ],
            "type": "contour"
           }
          ],
          "contourcarpet": [
           {
            "colorbar": {
             "outlinewidth": 0,
             "ticks": ""
            },
            "type": "contourcarpet"
           }
          ],
          "heatmap": [
           {
            "colorbar": {
             "outlinewidth": 0,
             "ticks": ""
            },
            "colorscale": [
             [
              0,
              "#0d0887"
             ],
             [
              0.1111111111111111,
              "#46039f"
             ],
             [
              0.2222222222222222,
              "#7201a8"
             ],
             [
              0.3333333333333333,
              "#9c179e"
             ],
             [
              0.4444444444444444,
              "#bd3786"
             ],
             [
              0.5555555555555556,
              "#d8576b"
             ],
             [
              0.6666666666666666,
              "#ed7953"
             ],
             [
              0.7777777777777778,
              "#fb9f3a"
             ],
             [
              0.8888888888888888,
              "#fdca26"
             ],
             [
              1,
              "#f0f921"
             ]
            ],
            "type": "heatmap"
           }
          ],
          "heatmapgl": [
           {
            "colorbar": {
             "outlinewidth": 0,
             "ticks": ""
            },
            "colorscale": [
             [
              0,
              "#0d0887"
             ],
             [
              0.1111111111111111,
              "#46039f"
             ],
             [
              0.2222222222222222,
              "#7201a8"
             ],
             [
              0.3333333333333333,
              "#9c179e"
             ],
             [
              0.4444444444444444,
              "#bd3786"
             ],
             [
              0.5555555555555556,
              "#d8576b"
             ],
             [
              0.6666666666666666,
              "#ed7953"
             ],
             [
              0.7777777777777778,
              "#fb9f3a"
             ],
             [
              0.8888888888888888,
              "#fdca26"
             ],
             [
              1,
              "#f0f921"
             ]
            ],
            "type": "heatmapgl"
           }
          ],
          "histogram": [
           {
            "marker": {
             "pattern": {
              "fillmode": "overlay",
              "size": 10,
              "solidity": 0.2
             }
            },
            "type": "histogram"
           }
          ],
          "histogram2d": [
           {
            "colorbar": {
             "outlinewidth": 0,
             "ticks": ""
            },
            "colorscale": [
             [
              0,
              "#0d0887"
             ],
             [
              0.1111111111111111,
              "#46039f"
             ],
             [
              0.2222222222222222,
              "#7201a8"
             ],
             [
              0.3333333333333333,
              "#9c179e"
             ],
             [
              0.4444444444444444,
              "#bd3786"
             ],
             [
              0.5555555555555556,
              "#d8576b"
             ],
             [
              0.6666666666666666,
              "#ed7953"
             ],
             [
              0.7777777777777778,
              "#fb9f3a"
             ],
             [
              0.8888888888888888,
              "#fdca26"
             ],
             [
              1,
              "#f0f921"
             ]
            ],
            "type": "histogram2d"
           }
          ],
          "histogram2dcontour": [
           {
            "colorbar": {
             "outlinewidth": 0,
             "ticks": ""
            },
            "colorscale": [
             [
              0,
              "#0d0887"
             ],
             [
              0.1111111111111111,
              "#46039f"
             ],
             [
              0.2222222222222222,
              "#7201a8"
             ],
             [
              0.3333333333333333,
              "#9c179e"
             ],
             [
              0.4444444444444444,
              "#bd3786"
             ],
             [
              0.5555555555555556,
              "#d8576b"
             ],
             [
              0.6666666666666666,
              "#ed7953"
             ],
             [
              0.7777777777777778,
              "#fb9f3a"
             ],
             [
              0.8888888888888888,
              "#fdca26"
             ],
             [
              1,
              "#f0f921"
             ]
            ],
            "type": "histogram2dcontour"
           }
          ],
          "mesh3d": [
           {
            "colorbar": {
             "outlinewidth": 0,
             "ticks": ""
            },
            "type": "mesh3d"
           }
          ],
          "parcoords": [
           {
            "line": {
             "colorbar": {
              "outlinewidth": 0,
              "ticks": ""
             }
            },
            "type": "parcoords"
           }
          ],
          "pie": [
           {
            "automargin": true,
            "type": "pie"
           }
          ],
          "scatter": [
           {
            "fillpattern": {
             "fillmode": "overlay",
             "size": 10,
             "solidity": 0.2
            },
            "type": "scatter"
           }
          ],
          "scatter3d": [
           {
            "line": {
             "colorbar": {
              "outlinewidth": 0,
              "ticks": ""
             }
            },
            "marker": {
             "colorbar": {
              "outlinewidth": 0,
              "ticks": ""
             }
            },
            "type": "scatter3d"
           }
          ],
          "scattercarpet": [
           {
            "marker": {
             "colorbar": {
              "outlinewidth": 0,
              "ticks": ""
             }
            },
            "type": "scattercarpet"
           }
          ],
          "scattergeo": [
           {
            "marker": {
             "colorbar": {
              "outlinewidth": 0,
              "ticks": ""
             }
            },
            "type": "scattergeo"
           }
          ],
          "scattergl": [
           {
            "marker": {
             "colorbar": {
              "outlinewidth": 0,
              "ticks": ""
             }
            },
            "type": "scattergl"
           }
          ],
          "scattermapbox": [
           {
            "marker": {
             "colorbar": {
              "outlinewidth": 0,
              "ticks": ""
             }
            },
            "type": "scattermapbox"
           }
          ],
          "scatterpolar": [
           {
            "marker": {
             "colorbar": {
              "outlinewidth": 0,
              "ticks": ""
             }
            },
            "type": "scatterpolar"
           }
          ],
          "scatterpolargl": [
           {
            "marker": {
             "colorbar": {
              "outlinewidth": 0,
              "ticks": ""
             }
            },
            "type": "scatterpolargl"
           }
          ],
          "scatterternary": [
           {
            "marker": {
             "colorbar": {
              "outlinewidth": 0,
              "ticks": ""
             }
            },
            "type": "scatterternary"
           }
          ],
          "surface": [
           {
            "colorbar": {
             "outlinewidth": 0,
             "ticks": ""
            },
            "colorscale": [
             [
              0,
              "#0d0887"
             ],
             [
              0.1111111111111111,
              "#46039f"
             ],
             [
              0.2222222222222222,
              "#7201a8"
             ],
             [
              0.3333333333333333,
              "#9c179e"
             ],
             [
              0.4444444444444444,
              "#bd3786"
             ],
             [
              0.5555555555555556,
              "#d8576b"
             ],
             [
              0.6666666666666666,
              "#ed7953"
             ],
             [
              0.7777777777777778,
              "#fb9f3a"
             ],
             [
              0.8888888888888888,
              "#fdca26"
             ],
             [
              1,
              "#f0f921"
             ]
            ],
            "type": "surface"
           }
          ],
          "table": [
           {
            "cells": {
             "fill": {
              "color": "#EBF0F8"
             },
             "line": {
              "color": "white"
             }
            },
            "header": {
             "fill": {
              "color": "#C8D4E3"
             },
             "line": {
              "color": "white"
             }
            },
            "type": "table"
           }
          ]
         },
         "layout": {
          "annotationdefaults": {
           "arrowcolor": "#2a3f5f",
           "arrowhead": 0,
           "arrowwidth": 1
          },
          "autotypenumbers": "strict",
          "coloraxis": {
           "colorbar": {
            "outlinewidth": 0,
            "ticks": ""
           }
          },
          "colorscale": {
           "diverging": [
            [
             0,
             "#8e0152"
            ],
            [
             0.1,
             "#c51b7d"
            ],
            [
             0.2,
             "#de77ae"
            ],
            [
             0.3,
             "#f1b6da"
            ],
            [
             0.4,
             "#fde0ef"
            ],
            [
             0.5,
             "#f7f7f7"
            ],
            [
             0.6,
             "#e6f5d0"
            ],
            [
             0.7,
             "#b8e186"
            ],
            [
             0.8,
             "#7fbc41"
            ],
            [
             0.9,
             "#4d9221"
            ],
            [
             1,
             "#276419"
            ]
           ],
           "sequential": [
            [
             0,
             "#0d0887"
            ],
            [
             0.1111111111111111,
             "#46039f"
            ],
            [
             0.2222222222222222,
             "#7201a8"
            ],
            [
             0.3333333333333333,
             "#9c179e"
            ],
            [
             0.4444444444444444,
             "#bd3786"
            ],
            [
             0.5555555555555556,
             "#d8576b"
            ],
            [
             0.6666666666666666,
             "#ed7953"
            ],
            [
             0.7777777777777778,
             "#fb9f3a"
            ],
            [
             0.8888888888888888,
             "#fdca26"
            ],
            [
             1,
             "#f0f921"
            ]
           ],
           "sequentialminus": [
            [
             0,
             "#0d0887"
            ],
            [
             0.1111111111111111,
             "#46039f"
            ],
            [
             0.2222222222222222,
             "#7201a8"
            ],
            [
             0.3333333333333333,
             "#9c179e"
            ],
            [
             0.4444444444444444,
             "#bd3786"
            ],
            [
             0.5555555555555556,
             "#d8576b"
            ],
            [
             0.6666666666666666,
             "#ed7953"
            ],
            [
             0.7777777777777778,
             "#fb9f3a"
            ],
            [
             0.8888888888888888,
             "#fdca26"
            ],
            [
             1,
             "#f0f921"
            ]
           ]
          },
          "colorway": [
           "#636efa",
           "#EF553B",
           "#00cc96",
           "#ab63fa",
           "#FFA15A",
           "#19d3f3",
           "#FF6692",
           "#B6E880",
           "#FF97FF",
           "#FECB52"
          ],
          "font": {
           "color": "#2a3f5f"
          },
          "geo": {
           "bgcolor": "white",
           "lakecolor": "white",
           "landcolor": "#E5ECF6",
           "showlakes": true,
           "showland": true,
           "subunitcolor": "white"
          },
          "hoverlabel": {
           "align": "left"
          },
          "hovermode": "closest",
          "mapbox": {
           "style": "light"
          },
          "paper_bgcolor": "white",
          "plot_bgcolor": "#E5ECF6",
          "polar": {
           "angularaxis": {
            "gridcolor": "white",
            "linecolor": "white",
            "ticks": ""
           },
           "bgcolor": "#E5ECF6",
           "radialaxis": {
            "gridcolor": "white",
            "linecolor": "white",
            "ticks": ""
           }
          },
          "scene": {
           "xaxis": {
            "backgroundcolor": "#E5ECF6",
            "gridcolor": "white",
            "gridwidth": 2,
            "linecolor": "white",
            "showbackground": true,
            "ticks": "",
            "zerolinecolor": "white"
           },
           "yaxis": {
            "backgroundcolor": "#E5ECF6",
            "gridcolor": "white",
            "gridwidth": 2,
            "linecolor": "white",
            "showbackground": true,
            "ticks": "",
            "zerolinecolor": "white"
           },
           "zaxis": {
            "backgroundcolor": "#E5ECF6",
            "gridcolor": "white",
            "gridwidth": 2,
            "linecolor": "white",
            "showbackground": true,
            "ticks": "",
            "zerolinecolor": "white"
           }
          },
          "shapedefaults": {
           "line": {
            "color": "#2a3f5f"
           }
          },
          "ternary": {
           "aaxis": {
            "gridcolor": "white",
            "linecolor": "white",
            "ticks": ""
           },
           "baxis": {
            "gridcolor": "white",
            "linecolor": "white",
            "ticks": ""
           },
           "bgcolor": "#E5ECF6",
           "caxis": {
            "gridcolor": "white",
            "linecolor": "white",
            "ticks": ""
           }
          },
          "title": {
           "x": 0.05
          },
          "xaxis": {
           "automargin": true,
           "gridcolor": "white",
           "linecolor": "white",
           "ticks": "",
           "title": {
            "standoff": 15
           },
           "zerolinecolor": "white",
           "zerolinewidth": 2
          },
          "yaxis": {
           "automargin": true,
           "gridcolor": "white",
           "linecolor": "white",
           "ticks": "",
           "title": {
            "standoff": 15
           },
           "zerolinecolor": "white",
           "zerolinewidth": 2
          }
         }
        }
       }
      },
      "text/html": [
       "<div>                            <div id=\"0d5edbec-f216-4898-9841-c28d0929ef9f\" class=\"plotly-graph-div\" style=\"height:525px; width:100%;\"></div>            <script type=\"text/javascript\">                require([\"plotly\"], function(Plotly) {                    window.PLOTLYENV=window.PLOTLYENV || {};                                    if (document.getElementById(\"0d5edbec-f216-4898-9841-c28d0929ef9f\")) {                    Plotly.newPlot(                        \"0d5edbec-f216-4898-9841-c28d0929ef9f\",                        [{\"x\":[-9,-8,-7,-6,-5,-4,-3,-2,-1,0,1,2,3,4,5,6,7,8],\"y\":[-356.0459092639822,-692.5473967978653,-1016.444794705679,-1302.659554362342,-1643.2276524422427,-2171.3680270817517,-2812.2627818498877,-3542.7103722666775,-4356.398912767499,-5497.569264565965,-4419.027620645071,-3440.326686150389,-2560.3782268175837,-1784.6838550396942,-1130.2761617548279,-611.021935142172,-238.87251901455437,-25.59777765179594],\"type\":\"scatter\"}],                        {\"template\":{\"data\":{\"histogram2dcontour\":[{\"type\":\"histogram2dcontour\",\"colorbar\":{\"outlinewidth\":0,\"ticks\":\"\"},\"colorscale\":[[0.0,\"#0d0887\"],[0.1111111111111111,\"#46039f\"],[0.2222222222222222,\"#7201a8\"],[0.3333333333333333,\"#9c179e\"],[0.4444444444444444,\"#bd3786\"],[0.5555555555555556,\"#d8576b\"],[0.6666666666666666,\"#ed7953\"],[0.7777777777777778,\"#fb9f3a\"],[0.8888888888888888,\"#fdca26\"],[1.0,\"#f0f921\"]]}],\"choropleth\":[{\"type\":\"choropleth\",\"colorbar\":{\"outlinewidth\":0,\"ticks\":\"\"}}],\"histogram2d\":[{\"type\":\"histogram2d\",\"colorbar\":{\"outlinewidth\":0,\"ticks\":\"\"},\"colorscale\":[[0.0,\"#0d0887\"],[0.1111111111111111,\"#46039f\"],[0.2222222222222222,\"#7201a8\"],[0.3333333333333333,\"#9c179e\"],[0.4444444444444444,\"#bd3786\"],[0.5555555555555556,\"#d8576b\"],[0.6666666666666666,\"#ed7953\"],[0.7777777777777778,\"#fb9f3a\"],[0.8888888888888888,\"#fdca26\"],[1.0,\"#f0f921\"]]}],\"heatmap\":[{\"type\":\"heatmap\",\"colorbar\":{\"outlinewidth\":0,\"ticks\":\"\"},\"colorscale\":[[0.0,\"#0d0887\"],[0.1111111111111111,\"#46039f\"],[0.2222222222222222,\"#7201a8\"],[0.3333333333333333,\"#9c179e\"],[0.4444444444444444,\"#bd3786\"],[0.5555555555555556,\"#d8576b\"],[0.6666666666666666,\"#ed7953\"],[0.7777777777777778,\"#fb9f3a\"],[0.8888888888888888,\"#fdca26\"],[1.0,\"#f0f921\"]]}],\"heatmapgl\":[{\"type\":\"heatmapgl\",\"colorbar\":{\"outlinewidth\":0,\"ticks\":\"\"},\"colorscale\":[[0.0,\"#0d0887\"],[0.1111111111111111,\"#46039f\"],[0.2222222222222222,\"#7201a8\"],[0.3333333333333333,\"#9c179e\"],[0.4444444444444444,\"#bd3786\"],[0.5555555555555556,\"#d8576b\"],[0.6666666666666666,\"#ed7953\"],[0.7777777777777778,\"#fb9f3a\"],[0.8888888888888888,\"#fdca26\"],[1.0,\"#f0f921\"]]}],\"contourcarpet\":[{\"type\":\"contourcarpet\",\"colorbar\":{\"outlinewidth\":0,\"ticks\":\"\"}}],\"contour\":[{\"type\":\"contour\",\"colorbar\":{\"outlinewidth\":0,\"ticks\":\"\"},\"colorscale\":[[0.0,\"#0d0887\"],[0.1111111111111111,\"#46039f\"],[0.2222222222222222,\"#7201a8\"],[0.3333333333333333,\"#9c179e\"],[0.4444444444444444,\"#bd3786\"],[0.5555555555555556,\"#d8576b\"],[0.6666666666666666,\"#ed7953\"],[0.7777777777777778,\"#fb9f3a\"],[0.8888888888888888,\"#fdca26\"],[1.0,\"#f0f921\"]]}],\"surface\":[{\"type\":\"surface\",\"colorbar\":{\"outlinewidth\":0,\"ticks\":\"\"},\"colorscale\":[[0.0,\"#0d0887\"],[0.1111111111111111,\"#46039f\"],[0.2222222222222222,\"#7201a8\"],[0.3333333333333333,\"#9c179e\"],[0.4444444444444444,\"#bd3786\"],[0.5555555555555556,\"#d8576b\"],[0.6666666666666666,\"#ed7953\"],[0.7777777777777778,\"#fb9f3a\"],[0.8888888888888888,\"#fdca26\"],[1.0,\"#f0f921\"]]}],\"mesh3d\":[{\"type\":\"mesh3d\",\"colorbar\":{\"outlinewidth\":0,\"ticks\":\"\"}}],\"scatter\":[{\"fillpattern\":{\"fillmode\":\"overlay\",\"size\":10,\"solidity\":0.2},\"type\":\"scatter\"}],\"parcoords\":[{\"type\":\"parcoords\",\"line\":{\"colorbar\":{\"outlinewidth\":0,\"ticks\":\"\"}}}],\"scatterpolargl\":[{\"type\":\"scatterpolargl\",\"marker\":{\"colorbar\":{\"outlinewidth\":0,\"ticks\":\"\"}}}],\"bar\":[{\"error_x\":{\"color\":\"#2a3f5f\"},\"error_y\":{\"color\":\"#2a3f5f\"},\"marker\":{\"line\":{\"color\":\"#E5ECF6\",\"width\":0.5},\"pattern\":{\"fillmode\":\"overlay\",\"size\":10,\"solidity\":0.2}},\"type\":\"bar\"}],\"scattergeo\":[{\"type\":\"scattergeo\",\"marker\":{\"colorbar\":{\"outlinewidth\":0,\"ticks\":\"\"}}}],\"scatterpolar\":[{\"type\":\"scatterpolar\",\"marker\":{\"colorbar\":{\"outlinewidth\":0,\"ticks\":\"\"}}}],\"histogram\":[{\"marker\":{\"pattern\":{\"fillmode\":\"overlay\",\"size\":10,\"solidity\":0.2}},\"type\":\"histogram\"}],\"scattergl\":[{\"type\":\"scattergl\",\"marker\":{\"colorbar\":{\"outlinewidth\":0,\"ticks\":\"\"}}}],\"scatter3d\":[{\"type\":\"scatter3d\",\"line\":{\"colorbar\":{\"outlinewidth\":0,\"ticks\":\"\"}},\"marker\":{\"colorbar\":{\"outlinewidth\":0,\"ticks\":\"\"}}}],\"scattermapbox\":[{\"type\":\"scattermapbox\",\"marker\":{\"colorbar\":{\"outlinewidth\":0,\"ticks\":\"\"}}}],\"scatterternary\":[{\"type\":\"scatterternary\",\"marker\":{\"colorbar\":{\"outlinewidth\":0,\"ticks\":\"\"}}}],\"scattercarpet\":[{\"type\":\"scattercarpet\",\"marker\":{\"colorbar\":{\"outlinewidth\":0,\"ticks\":\"\"}}}],\"carpet\":[{\"aaxis\":{\"endlinecolor\":\"#2a3f5f\",\"gridcolor\":\"white\",\"linecolor\":\"white\",\"minorgridcolor\":\"white\",\"startlinecolor\":\"#2a3f5f\"},\"baxis\":{\"endlinecolor\":\"#2a3f5f\",\"gridcolor\":\"white\",\"linecolor\":\"white\",\"minorgridcolor\":\"white\",\"startlinecolor\":\"#2a3f5f\"},\"type\":\"carpet\"}],\"table\":[{\"cells\":{\"fill\":{\"color\":\"#EBF0F8\"},\"line\":{\"color\":\"white\"}},\"header\":{\"fill\":{\"color\":\"#C8D4E3\"},\"line\":{\"color\":\"white\"}},\"type\":\"table\"}],\"barpolar\":[{\"marker\":{\"line\":{\"color\":\"#E5ECF6\",\"width\":0.5},\"pattern\":{\"fillmode\":\"overlay\",\"size\":10,\"solidity\":0.2}},\"type\":\"barpolar\"}],\"pie\":[{\"automargin\":true,\"type\":\"pie\"}]},\"layout\":{\"autotypenumbers\":\"strict\",\"colorway\":[\"#636efa\",\"#EF553B\",\"#00cc96\",\"#ab63fa\",\"#FFA15A\",\"#19d3f3\",\"#FF6692\",\"#B6E880\",\"#FF97FF\",\"#FECB52\"],\"font\":{\"color\":\"#2a3f5f\"},\"hovermode\":\"closest\",\"hoverlabel\":{\"align\":\"left\"},\"paper_bgcolor\":\"white\",\"plot_bgcolor\":\"#E5ECF6\",\"polar\":{\"bgcolor\":\"#E5ECF6\",\"angularaxis\":{\"gridcolor\":\"white\",\"linecolor\":\"white\",\"ticks\":\"\"},\"radialaxis\":{\"gridcolor\":\"white\",\"linecolor\":\"white\",\"ticks\":\"\"}},\"ternary\":{\"bgcolor\":\"#E5ECF6\",\"aaxis\":{\"gridcolor\":\"white\",\"linecolor\":\"white\",\"ticks\":\"\"},\"baxis\":{\"gridcolor\":\"white\",\"linecolor\":\"white\",\"ticks\":\"\"},\"caxis\":{\"gridcolor\":\"white\",\"linecolor\":\"white\",\"ticks\":\"\"}},\"coloraxis\":{\"colorbar\":{\"outlinewidth\":0,\"ticks\":\"\"}},\"colorscale\":{\"sequential\":[[0.0,\"#0d0887\"],[0.1111111111111111,\"#46039f\"],[0.2222222222222222,\"#7201a8\"],[0.3333333333333333,\"#9c179e\"],[0.4444444444444444,\"#bd3786\"],[0.5555555555555556,\"#d8576b\"],[0.6666666666666666,\"#ed7953\"],[0.7777777777777778,\"#fb9f3a\"],[0.8888888888888888,\"#fdca26\"],[1.0,\"#f0f921\"]],\"sequentialminus\":[[0.0,\"#0d0887\"],[0.1111111111111111,\"#46039f\"],[0.2222222222222222,\"#7201a8\"],[0.3333333333333333,\"#9c179e\"],[0.4444444444444444,\"#bd3786\"],[0.5555555555555556,\"#d8576b\"],[0.6666666666666666,\"#ed7953\"],[0.7777777777777778,\"#fb9f3a\"],[0.8888888888888888,\"#fdca26\"],[1.0,\"#f0f921\"]],\"diverging\":[[0,\"#8e0152\"],[0.1,\"#c51b7d\"],[0.2,\"#de77ae\"],[0.3,\"#f1b6da\"],[0.4,\"#fde0ef\"],[0.5,\"#f7f7f7\"],[0.6,\"#e6f5d0\"],[0.7,\"#b8e186\"],[0.8,\"#7fbc41\"],[0.9,\"#4d9221\"],[1,\"#276419\"]]},\"xaxis\":{\"gridcolor\":\"white\",\"linecolor\":\"white\",\"ticks\":\"\",\"title\":{\"standoff\":15},\"zerolinecolor\":\"white\",\"automargin\":true,\"zerolinewidth\":2},\"yaxis\":{\"gridcolor\":\"white\",\"linecolor\":\"white\",\"ticks\":\"\",\"title\":{\"standoff\":15},\"zerolinecolor\":\"white\",\"automargin\":true,\"zerolinewidth\":2},\"scene\":{\"xaxis\":{\"backgroundcolor\":\"#E5ECF6\",\"gridcolor\":\"white\",\"linecolor\":\"white\",\"showbackground\":true,\"ticks\":\"\",\"zerolinecolor\":\"white\",\"gridwidth\":2},\"yaxis\":{\"backgroundcolor\":\"#E5ECF6\",\"gridcolor\":\"white\",\"linecolor\":\"white\",\"showbackground\":true,\"ticks\":\"\",\"zerolinecolor\":\"white\",\"gridwidth\":2},\"zaxis\":{\"backgroundcolor\":\"#E5ECF6\",\"gridcolor\":\"white\",\"linecolor\":\"white\",\"showbackground\":true,\"ticks\":\"\",\"zerolinecolor\":\"white\",\"gridwidth\":2}},\"shapedefaults\":{\"line\":{\"color\":\"#2a3f5f\"}},\"annotationdefaults\":{\"arrowcolor\":\"#2a3f5f\",\"arrowhead\":0,\"arrowwidth\":1},\"geo\":{\"bgcolor\":\"white\",\"landcolor\":\"#E5ECF6\",\"subunitcolor\":\"white\",\"showland\":true,\"showlakes\":true,\"lakecolor\":\"white\"},\"title\":{\"x\":0.05},\"mapbox\":{\"style\":\"light\"}}}},                        {\"responsive\": true}                    ).then(function(){\n",
       "                            \n",
       "var gd = document.getElementById('0d5edbec-f216-4898-9841-c28d0929ef9f');\n",
       "var x = new MutationObserver(function (mutations, observer) {{\n",
       "        var display = window.getComputedStyle(gd).display;\n",
       "        if (!display || display === 'none') {{\n",
       "            console.log([gd, 'removed!']);\n",
       "            Plotly.purge(gd);\n",
       "            observer.disconnect();\n",
       "        }}\n",
       "}});\n",
       "\n",
       "// Listen for the removal of the full notebook cells\n",
       "var notebookContainer = gd.closest('#notebook-container');\n",
       "if (notebookContainer) {{\n",
       "    x.observe(notebookContainer, {childList: true});\n",
       "}}\n",
       "\n",
       "// Listen for the clearing of the current output cell\n",
       "var outputEl = gd.closest('.output');\n",
       "if (outputEl) {{\n",
       "    x.observe(outputEl, {childList: true});\n",
       "}}\n",
       "\n",
       "                        })                };                });            </script>        </div>"
      ]
     },
     "metadata": {},
     "output_type": "display_data"
    }
   ],
   "source": [
    "cross_Cor = np.correlate(omega_hat, chase_df.loc[:,'error_theta'], mode='full')\n",
    "x_Axis = np.arange(-len(omega_hat), len(omega_hat), 1)\n",
    "fig = go.Figure(data=go.Scatter(x = x_Axis, y=cross_Cor))\n",
    "fig.show()\n",
    "fig.write_html(\"../dataFolders/MuscaChasingMusca/Sampled100fps_Figures/Chase_relationships/\" + name + \"theta_cross_cor.html\")"
   ]
  },
  {
   "cell_type": "code",
   "execution_count": 97,
   "id": "d00d0920",
   "metadata": {},
   "outputs": [
    {
     "data": {
      "application/vnd.plotly.v1+json": {
       "config": {
        "plotlyServerURL": "https://plot.ly"
       },
       "data": [
        {
         "line": {
          "color": "black"
         },
         "mode": "lines",
         "name": "Line",
         "scene": "scene",
         "type": "scatter3d",
         "x": [
          0.0923831865079365,
          0.091256746031746,
          0.0876436507936508,
          0.0808040312499999,
          0.0773440624999999,
          0.0758268749999999,
          0.0761657656249999,
          0.0775346874999999,
          0.0787169531249999,
          0.0793403593749999,
          0.0792698906249999,
          0.0785223124999999,
          0.0770551874999999,
          0.0750698906249999,
          0.0740018650793651,
          0.0717059603174603,
          0.0692608293650794
         ],
         "y": [
          0.0749078492063492,
          0.0774003611111111,
          0.0796910634920635,
          0.0806018125,
          0.0782105156249999,
          0.0734189374999998,
          0.0668851718749999,
          0.0594595312499999,
          0.0516035937499999,
          0.0432321718749999,
          0.0341382812499999,
          0.0237831718749998,
          0.0121719218749999,
          -0.0002450625,
          -0.0066595634920634,
          -0.0197049682539682,
          -0.0327902063492063
         ],
         "z": [
          -0.0326913571428571,
          -0.0292091428571428,
          -0.0244063571428571,
          -0.0151327499999999,
          -0.0078409687499999,
          5.859375000049879e-06,
          0.0082399999999999,
          0.0167772656249999,
          0.0254359531249999,
          0.0340576249999999,
          0.042619859375,
          0.0508867187499999,
          0.0588755624999999,
          0.066835609375,
          0.0708562857142857,
          0.0791595714285714,
          0.0880143928571428
         ]
        },
        {
         "line": {
          "color": "black",
          "width": 1
         },
         "mode": "lines",
         "name": "Line",
         "scene": "scene",
         "type": "scatter3d",
         "x": [
          0.0379301626984125,
          0.0433097222222222,
          0.048344484126984,
          0.0552722031249999,
          0.0595541249999999,
          0.0635950781249999,
          0.0673072031249999,
          0.0705151874999999,
          0.0729335781249999,
          0.0745617968749999,
          0.0754331093749999,
          0.0756746093749999,
          0.0754067187499999,
          0.0745708749999999,
          0.0739740317460317,
          0.0724423055555556,
          0.0704984246031746
         ],
         "y": [
          0.0759685595238095,
          0.0709300238095237,
          0.0655928095238095,
          0.0571400312499999,
          0.0512446874999999,
          0.0451740468749999,
          0.0387908906249999,
          0.0319747656249999,
          0.0247259687499999,
          0.0169981406249999,
          0.0088422187499999,
          0.0003777499999999,
          -0.0084179843749999,
          -0.0174414374999999,
          -0.0220199603174603,
          -0.0311758055555555,
          -0.0401877817460317
         ],
         "z": [
          0.0021608492063491,
          0.0100453968253968,
          0.0182329206349206,
          0.0306053124999999,
          0.0386212499999999,
          0.0463986874999999,
          0.0537888906249999,
          0.0606256718749999,
          0.0667902187499999,
          0.0722581249999999,
          0.0771446718749999,
          0.0815654218749999,
          0.0855459531249999,
          0.0891597031249999,
          0.0908214444444445,
          0.0938001706349207,
          0.0962705873015873
         ]
        },
        {
         "marker": {
          "color": "black",
          "size": 3,
          "symbol": "circle"
         },
         "mode": "markers",
         "name": "Markers_chaser",
         "scene": "scene",
         "type": "scatter3d",
         "x": [
          0.0923831865079365,
          0.0792698906249999
         ],
         "y": [
          0.0749078492063492,
          0.0341382812499999
         ],
         "z": [
          -0.0326913571428571,
          0.042619859375
         ]
        },
        {
         "marker": {
          "color": "black",
          "size": 3,
          "symbol": "circle-open"
         },
         "mode": "markers",
         "name": "Markers_chasee",
         "scene": "scene",
         "type": "scatter3d",
         "x": [
          0.0379301626984125,
          0.0754331093749999
         ],
         "y": [
          0.0759685595238095,
          0.0088422187499999
         ],
         "z": [
          0.0021608492063491,
          0.0771446718749999
         ]
        },
        {
         "mode": "text",
         "name": "Labels_chaser",
         "scene": "scene",
         "text": [
          "0"
         ],
         "textfont": {
          "color": "black",
          "size": 10
         },
         "textposition": "top center",
         "type": "scatter3d",
         "x": [
          0.0923831865079365
         ],
         "y": [
          0.0749078492063492
         ],
         "z": [
          -0.0326913571428571
         ]
        },
        {
         "mode": "text",
         "name": "Labels_chasee",
         "scene": "scene",
         "text": [
          "0"
         ],
         "textfont": {
          "color": "black",
          "size": 10
         },
         "textposition": "bottom left",
         "type": "scatter3d",
         "x": [
          0.0379301626984125
         ],
         "y": [
          0.0759685595238095
         ],
         "z": [
          0.0021608492063491
         ]
        },
        {
         "mode": "lines",
         "type": "scatter",
         "x": [
          0,
          10,
          20,
          30,
          40,
          50,
          60,
          70,
          80,
          90,
          100,
          110,
          120,
          130,
          140,
          150
         ],
         "xaxis": "x",
         "y": [
          36.18124000675163,
          9.858663146351171,
          -0.1474452371784925,
          -0.2172286968174017,
          6.973839507674798,
          15.27625504087101,
          19.18105011972884,
          16.32068658289024,
          11.698221778674938,
          6.284466210253541,
          0.6861121113132226,
          -5.923406648953309,
          -11.494564984340236,
          -14.162359798297205,
          -16.62931761935559,
          -20.364027364833237
         ],
         "yaxis": "y"
        },
        {
         "marker": {
          "color": "black",
          "size": 5,
          "symbol": "circle"
         },
         "mode": "markers",
         "name": "phi",
         "type": "scatter",
         "x": [
          0,
          100
         ],
         "xaxis": "x",
         "y": [
          36.18124000675163,
          0.6861121113132226
         ],
         "yaxis": "y"
        },
        {
         "mode": "lines",
         "type": "scatter",
         "x": [
          0,
          10,
          20,
          30,
          40,
          50,
          60,
          70,
          80,
          90,
          100,
          110,
          120,
          130,
          140,
          150
         ],
         "xaxis": "x2",
         "y": [
          33.7690374522563,
          12.30128931055009,
          2.3005621184352876,
          0.7845964776378338,
          4.771132989883668,
          13.080558884620451,
          15.503130935434568,
          14.397432038313806,
          9.852046652599501,
          3.6272728762168716,
          -2.419329178444558,
          -5.210505016165044,
          -10.4190547687732,
          -14.80287003080798,
          -17.970352490113832,
          -19.52990383453521
         ],
         "yaxis": "y2"
        },
        {
         "mode": "lines",
         "type": "scatter",
         "x": [
          0,
          10,
          20,
          30,
          40,
          50,
          60,
          70,
          80,
          90,
          100,
          110,
          120,
          130,
          140,
          150
         ],
         "xaxis": "x3",
         "y": [
          -21.46774814170621,
          -10.000727192114802,
          -1.5159656407974538,
          3.9865365122458343,
          8.309425894736783,
          2.422572050814116,
          -1.105698897120762,
          -4.5453853857143045,
          -6.22477377638263,
          -6.046602054661429,
          -2.791175837720486,
          -5.208549752608157,
          -4.38381526203478,
          -3.1674824593058517,
          -1.5595513444213793
         ],
         "yaxis": "y3"
        },
        {
         "marker": {
          "color": "black",
          "size": 5,
          "symbol": "circle"
         },
         "mode": "markers",
         "name": "omega_hat",
         "type": "scatter",
         "x": [
          0
         ],
         "xaxis": "x3",
         "y": [
          -21.46774814170621
         ],
         "yaxis": "y3"
        }
       ],
       "layout": {
        "annotations": [
         {
          "font": {
           "color": "black",
           "size": 12
          },
          "showarrow": false,
          "text": "Φ (angle between chaser and chasee)",
          "x": 0.85,
          "xanchor": "center",
          "xref": "paper",
          "y": 1,
          "yanchor": "bottom",
          "yref": "paper"
         },
         {
          "font": {
           "color": "black",
           "size": 12
          },
          "showarrow": false,
          "text": "ω (turning angle of chaser)",
          "x": 0.85,
          "xanchor": "center",
          "xref": "paper",
          "y": 0.6428571428571428,
          "yanchor": "bottom",
          "yref": "paper"
         },
         {
          "font": {
           "color": "black",
           "size": 12
          },
          "showarrow": false,
          "text": "ω̂ (rate of turning angle of chaser)",
          "x": 0.85,
          "xanchor": "center",
          "xref": "paper",
          "y": 0.2857142857142857,
          "yanchor": "bottom",
          "yref": "paper"
         }
        ],
        "height": 800,
        "scene": {
         "aspectmode": "cube",
         "camera": {
          "eye": {
           "x": 2.5,
           "y": 0,
           "z": 0
          }
         },
         "domain": {
          "x": [
           0,
           0.6444444444444445
          ],
          "y": [
           0,
           1
          ]
         }
        },
        "showlegend": false,
        "template": {
         "data": {
          "bar": [
           {
            "error_x": {
             "color": "#2a3f5f"
            },
            "error_y": {
             "color": "#2a3f5f"
            },
            "marker": {
             "line": {
              "color": "#E5ECF6",
              "width": 0.5
             },
             "pattern": {
              "fillmode": "overlay",
              "size": 10,
              "solidity": 0.2
             }
            },
            "type": "bar"
           }
          ],
          "barpolar": [
           {
            "marker": {
             "line": {
              "color": "#E5ECF6",
              "width": 0.5
             },
             "pattern": {
              "fillmode": "overlay",
              "size": 10,
              "solidity": 0.2
             }
            },
            "type": "barpolar"
           }
          ],
          "carpet": [
           {
            "aaxis": {
             "endlinecolor": "#2a3f5f",
             "gridcolor": "white",
             "linecolor": "white",
             "minorgridcolor": "white",
             "startlinecolor": "#2a3f5f"
            },
            "baxis": {
             "endlinecolor": "#2a3f5f",
             "gridcolor": "white",
             "linecolor": "white",
             "minorgridcolor": "white",
             "startlinecolor": "#2a3f5f"
            },
            "type": "carpet"
           }
          ],
          "choropleth": [
           {
            "colorbar": {
             "outlinewidth": 0,
             "ticks": ""
            },
            "type": "choropleth"
           }
          ],
          "contour": [
           {
            "colorbar": {
             "outlinewidth": 0,
             "ticks": ""
            },
            "colorscale": [
             [
              0,
              "#0d0887"
             ],
             [
              0.1111111111111111,
              "#46039f"
             ],
             [
              0.2222222222222222,
              "#7201a8"
             ],
             [
              0.3333333333333333,
              "#9c179e"
             ],
             [
              0.4444444444444444,
              "#bd3786"
             ],
             [
              0.5555555555555556,
              "#d8576b"
             ],
             [
              0.6666666666666666,
              "#ed7953"
             ],
             [
              0.7777777777777778,
              "#fb9f3a"
             ],
             [
              0.8888888888888888,
              "#fdca26"
             ],
             [
              1,
              "#f0f921"
             ]
            ],
            "type": "contour"
           }
          ],
          "contourcarpet": [
           {
            "colorbar": {
             "outlinewidth": 0,
             "ticks": ""
            },
            "type": "contourcarpet"
           }
          ],
          "heatmap": [
           {
            "colorbar": {
             "outlinewidth": 0,
             "ticks": ""
            },
            "colorscale": [
             [
              0,
              "#0d0887"
             ],
             [
              0.1111111111111111,
              "#46039f"
             ],
             [
              0.2222222222222222,
              "#7201a8"
             ],
             [
              0.3333333333333333,
              "#9c179e"
             ],
             [
              0.4444444444444444,
              "#bd3786"
             ],
             [
              0.5555555555555556,
              "#d8576b"
             ],
             [
              0.6666666666666666,
              "#ed7953"
             ],
             [
              0.7777777777777778,
              "#fb9f3a"
             ],
             [
              0.8888888888888888,
              "#fdca26"
             ],
             [
              1,
              "#f0f921"
             ]
            ],
            "type": "heatmap"
           }
          ],
          "heatmapgl": [
           {
            "colorbar": {
             "outlinewidth": 0,
             "ticks": ""
            },
            "colorscale": [
             [
              0,
              "#0d0887"
             ],
             [
              0.1111111111111111,
              "#46039f"
             ],
             [
              0.2222222222222222,
              "#7201a8"
             ],
             [
              0.3333333333333333,
              "#9c179e"
             ],
             [
              0.4444444444444444,
              "#bd3786"
             ],
             [
              0.5555555555555556,
              "#d8576b"
             ],
             [
              0.6666666666666666,
              "#ed7953"
             ],
             [
              0.7777777777777778,
              "#fb9f3a"
             ],
             [
              0.8888888888888888,
              "#fdca26"
             ],
             [
              1,
              "#f0f921"
             ]
            ],
            "type": "heatmapgl"
           }
          ],
          "histogram": [
           {
            "marker": {
             "pattern": {
              "fillmode": "overlay",
              "size": 10,
              "solidity": 0.2
             }
            },
            "type": "histogram"
           }
          ],
          "histogram2d": [
           {
            "colorbar": {
             "outlinewidth": 0,
             "ticks": ""
            },
            "colorscale": [
             [
              0,
              "#0d0887"
             ],
             [
              0.1111111111111111,
              "#46039f"
             ],
             [
              0.2222222222222222,
              "#7201a8"
             ],
             [
              0.3333333333333333,
              "#9c179e"
             ],
             [
              0.4444444444444444,
              "#bd3786"
             ],
             [
              0.5555555555555556,
              "#d8576b"
             ],
             [
              0.6666666666666666,
              "#ed7953"
             ],
             [
              0.7777777777777778,
              "#fb9f3a"
             ],
             [
              0.8888888888888888,
              "#fdca26"
             ],
             [
              1,
              "#f0f921"
             ]
            ],
            "type": "histogram2d"
           }
          ],
          "histogram2dcontour": [
           {
            "colorbar": {
             "outlinewidth": 0,
             "ticks": ""
            },
            "colorscale": [
             [
              0,
              "#0d0887"
             ],
             [
              0.1111111111111111,
              "#46039f"
             ],
             [
              0.2222222222222222,
              "#7201a8"
             ],
             [
              0.3333333333333333,
              "#9c179e"
             ],
             [
              0.4444444444444444,
              "#bd3786"
             ],
             [
              0.5555555555555556,
              "#d8576b"
             ],
             [
              0.6666666666666666,
              "#ed7953"
             ],
             [
              0.7777777777777778,
              "#fb9f3a"
             ],
             [
              0.8888888888888888,
              "#fdca26"
             ],
             [
              1,
              "#f0f921"
             ]
            ],
            "type": "histogram2dcontour"
           }
          ],
          "mesh3d": [
           {
            "colorbar": {
             "outlinewidth": 0,
             "ticks": ""
            },
            "type": "mesh3d"
           }
          ],
          "parcoords": [
           {
            "line": {
             "colorbar": {
              "outlinewidth": 0,
              "ticks": ""
             }
            },
            "type": "parcoords"
           }
          ],
          "pie": [
           {
            "automargin": true,
            "type": "pie"
           }
          ],
          "scatter": [
           {
            "fillpattern": {
             "fillmode": "overlay",
             "size": 10,
             "solidity": 0.2
            },
            "type": "scatter"
           }
          ],
          "scatter3d": [
           {
            "line": {
             "colorbar": {
              "outlinewidth": 0,
              "ticks": ""
             }
            },
            "marker": {
             "colorbar": {
              "outlinewidth": 0,
              "ticks": ""
             }
            },
            "type": "scatter3d"
           }
          ],
          "scattercarpet": [
           {
            "marker": {
             "colorbar": {
              "outlinewidth": 0,
              "ticks": ""
             }
            },
            "type": "scattercarpet"
           }
          ],
          "scattergeo": [
           {
            "marker": {
             "colorbar": {
              "outlinewidth": 0,
              "ticks": ""
             }
            },
            "type": "scattergeo"
           }
          ],
          "scattergl": [
           {
            "marker": {
             "colorbar": {
              "outlinewidth": 0,
              "ticks": ""
             }
            },
            "type": "scattergl"
           }
          ],
          "scattermapbox": [
           {
            "marker": {
             "colorbar": {
              "outlinewidth": 0,
              "ticks": ""
             }
            },
            "type": "scattermapbox"
           }
          ],
          "scatterpolar": [
           {
            "marker": {
             "colorbar": {
              "outlinewidth": 0,
              "ticks": ""
             }
            },
            "type": "scatterpolar"
           }
          ],
          "scatterpolargl": [
           {
            "marker": {
             "colorbar": {
              "outlinewidth": 0,
              "ticks": ""
             }
            },
            "type": "scatterpolargl"
           }
          ],
          "scatterternary": [
           {
            "marker": {
             "colorbar": {
              "outlinewidth": 0,
              "ticks": ""
             }
            },
            "type": "scatterternary"
           }
          ],
          "surface": [
           {
            "colorbar": {
             "outlinewidth": 0,
             "ticks": ""
            },
            "colorscale": [
             [
              0,
              "#0d0887"
             ],
             [
              0.1111111111111111,
              "#46039f"
             ],
             [
              0.2222222222222222,
              "#7201a8"
             ],
             [
              0.3333333333333333,
              "#9c179e"
             ],
             [
              0.4444444444444444,
              "#bd3786"
             ],
             [
              0.5555555555555556,
              "#d8576b"
             ],
             [
              0.6666666666666666,
              "#ed7953"
             ],
             [
              0.7777777777777778,
              "#fb9f3a"
             ],
             [
              0.8888888888888888,
              "#fdca26"
             ],
             [
              1,
              "#f0f921"
             ]
            ],
            "type": "surface"
           }
          ],
          "table": [
           {
            "cells": {
             "fill": {
              "color": "#EBF0F8"
             },
             "line": {
              "color": "white"
             }
            },
            "header": {
             "fill": {
              "color": "#C8D4E3"
             },
             "line": {
              "color": "white"
             }
            },
            "type": "table"
           }
          ]
         },
         "layout": {
          "annotationdefaults": {
           "arrowcolor": "#2a3f5f",
           "arrowhead": 0,
           "arrowwidth": 1
          },
          "autotypenumbers": "strict",
          "coloraxis": {
           "colorbar": {
            "outlinewidth": 0,
            "ticks": ""
           }
          },
          "colorscale": {
           "diverging": [
            [
             0,
             "#8e0152"
            ],
            [
             0.1,
             "#c51b7d"
            ],
            [
             0.2,
             "#de77ae"
            ],
            [
             0.3,
             "#f1b6da"
            ],
            [
             0.4,
             "#fde0ef"
            ],
            [
             0.5,
             "#f7f7f7"
            ],
            [
             0.6,
             "#e6f5d0"
            ],
            [
             0.7,
             "#b8e186"
            ],
            [
             0.8,
             "#7fbc41"
            ],
            [
             0.9,
             "#4d9221"
            ],
            [
             1,
             "#276419"
            ]
           ],
           "sequential": [
            [
             0,
             "#0d0887"
            ],
            [
             0.1111111111111111,
             "#46039f"
            ],
            [
             0.2222222222222222,
             "#7201a8"
            ],
            [
             0.3333333333333333,
             "#9c179e"
            ],
            [
             0.4444444444444444,
             "#bd3786"
            ],
            [
             0.5555555555555556,
             "#d8576b"
            ],
            [
             0.6666666666666666,
             "#ed7953"
            ],
            [
             0.7777777777777778,
             "#fb9f3a"
            ],
            [
             0.8888888888888888,
             "#fdca26"
            ],
            [
             1,
             "#f0f921"
            ]
           ],
           "sequentialminus": [
            [
             0,
             "#0d0887"
            ],
            [
             0.1111111111111111,
             "#46039f"
            ],
            [
             0.2222222222222222,
             "#7201a8"
            ],
            [
             0.3333333333333333,
             "#9c179e"
            ],
            [
             0.4444444444444444,
             "#bd3786"
            ],
            [
             0.5555555555555556,
             "#d8576b"
            ],
            [
             0.6666666666666666,
             "#ed7953"
            ],
            [
             0.7777777777777778,
             "#fb9f3a"
            ],
            [
             0.8888888888888888,
             "#fdca26"
            ],
            [
             1,
             "#f0f921"
            ]
           ]
          },
          "colorway": [
           "#636efa",
           "#EF553B",
           "#00cc96",
           "#ab63fa",
           "#FFA15A",
           "#19d3f3",
           "#FF6692",
           "#B6E880",
           "#FF97FF",
           "#FECB52"
          ],
          "font": {
           "color": "#2a3f5f"
          },
          "geo": {
           "bgcolor": "white",
           "lakecolor": "white",
           "landcolor": "#E5ECF6",
           "showlakes": true,
           "showland": true,
           "subunitcolor": "white"
          },
          "hoverlabel": {
           "align": "left"
          },
          "hovermode": "closest",
          "mapbox": {
           "style": "light"
          },
          "paper_bgcolor": "white",
          "plot_bgcolor": "#E5ECF6",
          "polar": {
           "angularaxis": {
            "gridcolor": "white",
            "linecolor": "white",
            "ticks": ""
           },
           "bgcolor": "#E5ECF6",
           "radialaxis": {
            "gridcolor": "white",
            "linecolor": "white",
            "ticks": ""
           }
          },
          "scene": {
           "xaxis": {
            "backgroundcolor": "#E5ECF6",
            "gridcolor": "white",
            "gridwidth": 2,
            "linecolor": "white",
            "showbackground": true,
            "ticks": "",
            "zerolinecolor": "white"
           },
           "yaxis": {
            "backgroundcolor": "#E5ECF6",
            "gridcolor": "white",
            "gridwidth": 2,
            "linecolor": "white",
            "showbackground": true,
            "ticks": "",
            "zerolinecolor": "white"
           },
           "zaxis": {
            "backgroundcolor": "#E5ECF6",
            "gridcolor": "white",
            "gridwidth": 2,
            "linecolor": "white",
            "showbackground": true,
            "ticks": "",
            "zerolinecolor": "white"
           }
          },
          "shapedefaults": {
           "line": {
            "color": "#2a3f5f"
           }
          },
          "ternary": {
           "aaxis": {
            "gridcolor": "white",
            "linecolor": "white",
            "ticks": ""
           },
           "baxis": {
            "gridcolor": "white",
            "linecolor": "white",
            "ticks": ""
           },
           "bgcolor": "#E5ECF6",
           "caxis": {
            "gridcolor": "white",
            "linecolor": "white",
            "ticks": ""
           }
          },
          "title": {
           "x": 0.05
          },
          "xaxis": {
           "automargin": true,
           "gridcolor": "white",
           "linecolor": "white",
           "ticks": "",
           "title": {
            "standoff": 15
           },
           "zerolinecolor": "white",
           "zerolinewidth": 2
          },
          "yaxis": {
           "automargin": true,
           "gridcolor": "white",
           "linecolor": "white",
           "ticks": "",
           "title": {
            "standoff": 15
           },
           "zerolinecolor": "white",
           "zerolinewidth": 2
          }
         }
        },
        "width": 1000,
        "xaxis": {
         "anchor": "y",
         "domain": [
          0.7111111111111111,
          1
         ]
        },
        "xaxis2": {
         "anchor": "y2",
         "domain": [
          0.7111111111111111,
          1
         ]
        },
        "xaxis3": {
         "anchor": "y3",
         "domain": [
          0.7111111111111111,
          1
         ],
         "title": {
          "text": "Time (miliseconds)"
         }
        },
        "yaxis": {
         "anchor": "x",
         "domain": [
          0.7333333333333333,
          1
         ]
        },
        "yaxis2": {
         "anchor": "x2",
         "domain": [
          0.36666666666666664,
          0.6333333333333333
         ]
        },
        "yaxis3": {
         "anchor": "x3",
         "domain": [
          0,
          0.26666666666666666
         ],
         "showgrid": true,
         "title": {
          "text": "ω̂ (degree/s² * 1e3)"
         }
        }
       }
      },
      "text/html": [
       "<div>                            <div id=\"c7ba3841-1197-47cf-9247-4314ceee6312\" class=\"plotly-graph-div\" style=\"height:800px; width:1000px;\"></div>            <script type=\"text/javascript\">                require([\"plotly\"], function(Plotly) {                    window.PLOTLYENV=window.PLOTLYENV || {};                                    if (document.getElementById(\"c7ba3841-1197-47cf-9247-4314ceee6312\")) {                    Plotly.newPlot(                        \"c7ba3841-1197-47cf-9247-4314ceee6312\",                        [{\"line\":{\"color\":\"black\"},\"mode\":\"lines\",\"name\":\"Line\",\"x\":[0.0923831865079365,0.091256746031746,0.0876436507936508,0.0808040312499999,0.0773440624999999,0.0758268749999999,0.0761657656249999,0.0775346874999999,0.0787169531249999,0.0793403593749999,0.0792698906249999,0.0785223124999999,0.0770551874999999,0.0750698906249999,0.0740018650793651,0.0717059603174603,0.0692608293650794],\"y\":[0.0749078492063492,0.0774003611111111,0.0796910634920635,0.0806018125,0.0782105156249999,0.0734189374999998,0.0668851718749999,0.0594595312499999,0.0516035937499999,0.0432321718749999,0.0341382812499999,0.0237831718749998,0.0121719218749999,-0.0002450625,-0.0066595634920634,-0.0197049682539682,-0.0327902063492063],\"z\":[-0.0326913571428571,-0.0292091428571428,-0.0244063571428571,-0.0151327499999999,-0.0078409687499999,5.859375000049879e-06,0.0082399999999999,0.0167772656249999,0.0254359531249999,0.0340576249999999,0.042619859375,0.0508867187499999,0.0588755624999999,0.066835609375,0.0708562857142857,0.0791595714285714,0.0880143928571428],\"type\":\"scatter3d\",\"scene\":\"scene\"},{\"line\":{\"color\":\"black\",\"width\":1},\"mode\":\"lines\",\"name\":\"Line\",\"x\":[0.0379301626984125,0.0433097222222222,0.048344484126984,0.0552722031249999,0.0595541249999999,0.0635950781249999,0.0673072031249999,0.0705151874999999,0.0729335781249999,0.0745617968749999,0.0754331093749999,0.0756746093749999,0.0754067187499999,0.0745708749999999,0.0739740317460317,0.0724423055555556,0.0704984246031746],\"y\":[0.0759685595238095,0.0709300238095237,0.0655928095238095,0.0571400312499999,0.0512446874999999,0.0451740468749999,0.0387908906249999,0.0319747656249999,0.0247259687499999,0.0169981406249999,0.0088422187499999,0.0003777499999999,-0.0084179843749999,-0.0174414374999999,-0.0220199603174603,-0.0311758055555555,-0.0401877817460317],\"z\":[0.0021608492063491,0.0100453968253968,0.0182329206349206,0.0306053124999999,0.0386212499999999,0.0463986874999999,0.0537888906249999,0.0606256718749999,0.0667902187499999,0.0722581249999999,0.0771446718749999,0.0815654218749999,0.0855459531249999,0.0891597031249999,0.0908214444444445,0.0938001706349207,0.0962705873015873],\"type\":\"scatter3d\",\"scene\":\"scene\"},{\"marker\":{\"color\":\"black\",\"size\":3,\"symbol\":\"circle\"},\"mode\":\"markers\",\"name\":\"Markers_chaser\",\"x\":[0.0923831865079365,0.0792698906249999],\"y\":[0.0749078492063492,0.0341382812499999],\"z\":[-0.0326913571428571,0.042619859375],\"type\":\"scatter3d\",\"scene\":\"scene\"},{\"marker\":{\"color\":\"black\",\"size\":3,\"symbol\":\"circle-open\"},\"mode\":\"markers\",\"name\":\"Markers_chasee\",\"x\":[0.0379301626984125,0.0754331093749999],\"y\":[0.0759685595238095,0.0088422187499999],\"z\":[0.0021608492063491,0.0771446718749999],\"type\":\"scatter3d\",\"scene\":\"scene\"},{\"mode\":\"text\",\"name\":\"Labels_chaser\",\"text\":[\"0\"],\"textfont\":{\"color\":\"black\",\"size\":10},\"textposition\":\"top center\",\"x\":[0.0923831865079365],\"y\":[0.0749078492063492],\"z\":[-0.0326913571428571],\"type\":\"scatter3d\",\"scene\":\"scene\"},{\"mode\":\"text\",\"name\":\"Labels_chasee\",\"text\":[\"0\"],\"textfont\":{\"color\":\"black\",\"size\":10},\"textposition\":\"bottom left\",\"x\":[0.0379301626984125],\"y\":[0.0759685595238095],\"z\":[0.0021608492063491],\"type\":\"scatter3d\",\"scene\":\"scene\"},{\"mode\":\"lines\",\"x\":[0.0,10.0,20.0,30.0,40.0,50.0,60.0,70.0,80.0,90.0,100.0,110.0,120.0,130.0,140.0,150.0],\"y\":[36.18124000675163,9.858663146351171,-0.1474452371784925,-0.2172286968174017,6.973839507674798,15.27625504087101,19.18105011972884,16.32068658289024,11.698221778674938,6.284466210253541,0.6861121113132226,-5.923406648953309,-11.494564984340236,-14.162359798297205,-16.62931761935559,-20.364027364833237],\"type\":\"scatter\",\"xaxis\":\"x\",\"yaxis\":\"y\"},{\"marker\":{\"color\":\"black\",\"size\":5,\"symbol\":\"circle\"},\"mode\":\"markers\",\"name\":\"phi\",\"x\":[0.0,100.0],\"y\":[36.18124000675163,0.6861121113132226],\"type\":\"scatter\",\"xaxis\":\"x\",\"yaxis\":\"y\"},{\"mode\":\"lines\",\"x\":[0.0,10.0,20.0,30.0,40.0,50.0,60.0,70.0,80.0,90.0,100.0,110.0,120.0,130.0,140.0,150.0],\"y\":[33.7690374522563,12.30128931055009,2.3005621184352876,0.7845964776378338,4.771132989883668,13.080558884620451,15.503130935434568,14.397432038313806,9.852046652599501,3.6272728762168716,-2.419329178444558,-5.210505016165044,-10.4190547687732,-14.80287003080798,-17.970352490113832,-19.52990383453521],\"type\":\"scatter\",\"xaxis\":\"x2\",\"yaxis\":\"y2\"},{\"mode\":\"lines\",\"x\":[0.0,10.0,20.0,30.0,40.0,50.0,60.0,70.0,80.0,90.0,100.0,110.0,120.0,130.0,140.0,150.0],\"y\":[-21.46774814170621,-10.000727192114802,-1.5159656407974538,3.9865365122458343,8.309425894736783,2.422572050814116,-1.105698897120762,-4.5453853857143045,-6.22477377638263,-6.046602054661429,-2.791175837720486,-5.208549752608157,-4.38381526203478,-3.1674824593058517,-1.5595513444213793],\"type\":\"scatter\",\"xaxis\":\"x3\",\"yaxis\":\"y3\"},{\"marker\":{\"color\":\"black\",\"size\":5,\"symbol\":\"circle\"},\"mode\":\"markers\",\"name\":\"omega_hat\",\"x\":[0.0],\"y\":[-21.46774814170621],\"type\":\"scatter\",\"xaxis\":\"x3\",\"yaxis\":\"y3\"}],                        {\"template\":{\"data\":{\"histogram2dcontour\":[{\"type\":\"histogram2dcontour\",\"colorbar\":{\"outlinewidth\":0,\"ticks\":\"\"},\"colorscale\":[[0.0,\"#0d0887\"],[0.1111111111111111,\"#46039f\"],[0.2222222222222222,\"#7201a8\"],[0.3333333333333333,\"#9c179e\"],[0.4444444444444444,\"#bd3786\"],[0.5555555555555556,\"#d8576b\"],[0.6666666666666666,\"#ed7953\"],[0.7777777777777778,\"#fb9f3a\"],[0.8888888888888888,\"#fdca26\"],[1.0,\"#f0f921\"]]}],\"choropleth\":[{\"type\":\"choropleth\",\"colorbar\":{\"outlinewidth\":0,\"ticks\":\"\"}}],\"histogram2d\":[{\"type\":\"histogram2d\",\"colorbar\":{\"outlinewidth\":0,\"ticks\":\"\"},\"colorscale\":[[0.0,\"#0d0887\"],[0.1111111111111111,\"#46039f\"],[0.2222222222222222,\"#7201a8\"],[0.3333333333333333,\"#9c179e\"],[0.4444444444444444,\"#bd3786\"],[0.5555555555555556,\"#d8576b\"],[0.6666666666666666,\"#ed7953\"],[0.7777777777777778,\"#fb9f3a\"],[0.8888888888888888,\"#fdca26\"],[1.0,\"#f0f921\"]]}],\"heatmap\":[{\"type\":\"heatmap\",\"colorbar\":{\"outlinewidth\":0,\"ticks\":\"\"},\"colorscale\":[[0.0,\"#0d0887\"],[0.1111111111111111,\"#46039f\"],[0.2222222222222222,\"#7201a8\"],[0.3333333333333333,\"#9c179e\"],[0.4444444444444444,\"#bd3786\"],[0.5555555555555556,\"#d8576b\"],[0.6666666666666666,\"#ed7953\"],[0.7777777777777778,\"#fb9f3a\"],[0.8888888888888888,\"#fdca26\"],[1.0,\"#f0f921\"]]}],\"heatmapgl\":[{\"type\":\"heatmapgl\",\"colorbar\":{\"outlinewidth\":0,\"ticks\":\"\"},\"colorscale\":[[0.0,\"#0d0887\"],[0.1111111111111111,\"#46039f\"],[0.2222222222222222,\"#7201a8\"],[0.3333333333333333,\"#9c179e\"],[0.4444444444444444,\"#bd3786\"],[0.5555555555555556,\"#d8576b\"],[0.6666666666666666,\"#ed7953\"],[0.7777777777777778,\"#fb9f3a\"],[0.8888888888888888,\"#fdca26\"],[1.0,\"#f0f921\"]]}],\"contourcarpet\":[{\"type\":\"contourcarpet\",\"colorbar\":{\"outlinewidth\":0,\"ticks\":\"\"}}],\"contour\":[{\"type\":\"contour\",\"colorbar\":{\"outlinewidth\":0,\"ticks\":\"\"},\"colorscale\":[[0.0,\"#0d0887\"],[0.1111111111111111,\"#46039f\"],[0.2222222222222222,\"#7201a8\"],[0.3333333333333333,\"#9c179e\"],[0.4444444444444444,\"#bd3786\"],[0.5555555555555556,\"#d8576b\"],[0.6666666666666666,\"#ed7953\"],[0.7777777777777778,\"#fb9f3a\"],[0.8888888888888888,\"#fdca26\"],[1.0,\"#f0f921\"]]}],\"surface\":[{\"type\":\"surface\",\"colorbar\":{\"outlinewidth\":0,\"ticks\":\"\"},\"colorscale\":[[0.0,\"#0d0887\"],[0.1111111111111111,\"#46039f\"],[0.2222222222222222,\"#7201a8\"],[0.3333333333333333,\"#9c179e\"],[0.4444444444444444,\"#bd3786\"],[0.5555555555555556,\"#d8576b\"],[0.6666666666666666,\"#ed7953\"],[0.7777777777777778,\"#fb9f3a\"],[0.8888888888888888,\"#fdca26\"],[1.0,\"#f0f921\"]]}],\"mesh3d\":[{\"type\":\"mesh3d\",\"colorbar\":{\"outlinewidth\":0,\"ticks\":\"\"}}],\"scatter\":[{\"fillpattern\":{\"fillmode\":\"overlay\",\"size\":10,\"solidity\":0.2},\"type\":\"scatter\"}],\"parcoords\":[{\"type\":\"parcoords\",\"line\":{\"colorbar\":{\"outlinewidth\":0,\"ticks\":\"\"}}}],\"scatterpolargl\":[{\"type\":\"scatterpolargl\",\"marker\":{\"colorbar\":{\"outlinewidth\":0,\"ticks\":\"\"}}}],\"bar\":[{\"error_x\":{\"color\":\"#2a3f5f\"},\"error_y\":{\"color\":\"#2a3f5f\"},\"marker\":{\"line\":{\"color\":\"#E5ECF6\",\"width\":0.5},\"pattern\":{\"fillmode\":\"overlay\",\"size\":10,\"solidity\":0.2}},\"type\":\"bar\"}],\"scattergeo\":[{\"type\":\"scattergeo\",\"marker\":{\"colorbar\":{\"outlinewidth\":0,\"ticks\":\"\"}}}],\"scatterpolar\":[{\"type\":\"scatterpolar\",\"marker\":{\"colorbar\":{\"outlinewidth\":0,\"ticks\":\"\"}}}],\"histogram\":[{\"marker\":{\"pattern\":{\"fillmode\":\"overlay\",\"size\":10,\"solidity\":0.2}},\"type\":\"histogram\"}],\"scattergl\":[{\"type\":\"scattergl\",\"marker\":{\"colorbar\":{\"outlinewidth\":0,\"ticks\":\"\"}}}],\"scatter3d\":[{\"type\":\"scatter3d\",\"line\":{\"colorbar\":{\"outlinewidth\":0,\"ticks\":\"\"}},\"marker\":{\"colorbar\":{\"outlinewidth\":0,\"ticks\":\"\"}}}],\"scattermapbox\":[{\"type\":\"scattermapbox\",\"marker\":{\"colorbar\":{\"outlinewidth\":0,\"ticks\":\"\"}}}],\"scatterternary\":[{\"type\":\"scatterternary\",\"marker\":{\"colorbar\":{\"outlinewidth\":0,\"ticks\":\"\"}}}],\"scattercarpet\":[{\"type\":\"scattercarpet\",\"marker\":{\"colorbar\":{\"outlinewidth\":0,\"ticks\":\"\"}}}],\"carpet\":[{\"aaxis\":{\"endlinecolor\":\"#2a3f5f\",\"gridcolor\":\"white\",\"linecolor\":\"white\",\"minorgridcolor\":\"white\",\"startlinecolor\":\"#2a3f5f\"},\"baxis\":{\"endlinecolor\":\"#2a3f5f\",\"gridcolor\":\"white\",\"linecolor\":\"white\",\"minorgridcolor\":\"white\",\"startlinecolor\":\"#2a3f5f\"},\"type\":\"carpet\"}],\"table\":[{\"cells\":{\"fill\":{\"color\":\"#EBF0F8\"},\"line\":{\"color\":\"white\"}},\"header\":{\"fill\":{\"color\":\"#C8D4E3\"},\"line\":{\"color\":\"white\"}},\"type\":\"table\"}],\"barpolar\":[{\"marker\":{\"line\":{\"color\":\"#E5ECF6\",\"width\":0.5},\"pattern\":{\"fillmode\":\"overlay\",\"size\":10,\"solidity\":0.2}},\"type\":\"barpolar\"}],\"pie\":[{\"automargin\":true,\"type\":\"pie\"}]},\"layout\":{\"autotypenumbers\":\"strict\",\"colorway\":[\"#636efa\",\"#EF553B\",\"#00cc96\",\"#ab63fa\",\"#FFA15A\",\"#19d3f3\",\"#FF6692\",\"#B6E880\",\"#FF97FF\",\"#FECB52\"],\"font\":{\"color\":\"#2a3f5f\"},\"hovermode\":\"closest\",\"hoverlabel\":{\"align\":\"left\"},\"paper_bgcolor\":\"white\",\"plot_bgcolor\":\"#E5ECF6\",\"polar\":{\"bgcolor\":\"#E5ECF6\",\"angularaxis\":{\"gridcolor\":\"white\",\"linecolor\":\"white\",\"ticks\":\"\"},\"radialaxis\":{\"gridcolor\":\"white\",\"linecolor\":\"white\",\"ticks\":\"\"}},\"ternary\":{\"bgcolor\":\"#E5ECF6\",\"aaxis\":{\"gridcolor\":\"white\",\"linecolor\":\"white\",\"ticks\":\"\"},\"baxis\":{\"gridcolor\":\"white\",\"linecolor\":\"white\",\"ticks\":\"\"},\"caxis\":{\"gridcolor\":\"white\",\"linecolor\":\"white\",\"ticks\":\"\"}},\"coloraxis\":{\"colorbar\":{\"outlinewidth\":0,\"ticks\":\"\"}},\"colorscale\":{\"sequential\":[[0.0,\"#0d0887\"],[0.1111111111111111,\"#46039f\"],[0.2222222222222222,\"#7201a8\"],[0.3333333333333333,\"#9c179e\"],[0.4444444444444444,\"#bd3786\"],[0.5555555555555556,\"#d8576b\"],[0.6666666666666666,\"#ed7953\"],[0.7777777777777778,\"#fb9f3a\"],[0.8888888888888888,\"#fdca26\"],[1.0,\"#f0f921\"]],\"sequentialminus\":[[0.0,\"#0d0887\"],[0.1111111111111111,\"#46039f\"],[0.2222222222222222,\"#7201a8\"],[0.3333333333333333,\"#9c179e\"],[0.4444444444444444,\"#bd3786\"],[0.5555555555555556,\"#d8576b\"],[0.6666666666666666,\"#ed7953\"],[0.7777777777777778,\"#fb9f3a\"],[0.8888888888888888,\"#fdca26\"],[1.0,\"#f0f921\"]],\"diverging\":[[0,\"#8e0152\"],[0.1,\"#c51b7d\"],[0.2,\"#de77ae\"],[0.3,\"#f1b6da\"],[0.4,\"#fde0ef\"],[0.5,\"#f7f7f7\"],[0.6,\"#e6f5d0\"],[0.7,\"#b8e186\"],[0.8,\"#7fbc41\"],[0.9,\"#4d9221\"],[1,\"#276419\"]]},\"xaxis\":{\"gridcolor\":\"white\",\"linecolor\":\"white\",\"ticks\":\"\",\"title\":{\"standoff\":15},\"zerolinecolor\":\"white\",\"automargin\":true,\"zerolinewidth\":2},\"yaxis\":{\"gridcolor\":\"white\",\"linecolor\":\"white\",\"ticks\":\"\",\"title\":{\"standoff\":15},\"zerolinecolor\":\"white\",\"automargin\":true,\"zerolinewidth\":2},\"scene\":{\"xaxis\":{\"backgroundcolor\":\"#E5ECF6\",\"gridcolor\":\"white\",\"linecolor\":\"white\",\"showbackground\":true,\"ticks\":\"\",\"zerolinecolor\":\"white\",\"gridwidth\":2},\"yaxis\":{\"backgroundcolor\":\"#E5ECF6\",\"gridcolor\":\"white\",\"linecolor\":\"white\",\"showbackground\":true,\"ticks\":\"\",\"zerolinecolor\":\"white\",\"gridwidth\":2},\"zaxis\":{\"backgroundcolor\":\"#E5ECF6\",\"gridcolor\":\"white\",\"linecolor\":\"white\",\"showbackground\":true,\"ticks\":\"\",\"zerolinecolor\":\"white\",\"gridwidth\":2}},\"shapedefaults\":{\"line\":{\"color\":\"#2a3f5f\"}},\"annotationdefaults\":{\"arrowcolor\":\"#2a3f5f\",\"arrowhead\":0,\"arrowwidth\":1},\"geo\":{\"bgcolor\":\"white\",\"landcolor\":\"#E5ECF6\",\"subunitcolor\":\"white\",\"showland\":true,\"showlakes\":true,\"lakecolor\":\"white\"},\"title\":{\"x\":0.05},\"mapbox\":{\"style\":\"light\"}}},\"scene\":{\"domain\":{\"x\":[0.0,0.6444444444444445],\"y\":[0.0,1.0]},\"camera\":{\"eye\":{\"x\":2.5,\"y\":0.0,\"z\":0.0}},\"aspectmode\":\"cube\"},\"xaxis\":{\"anchor\":\"y\",\"domain\":[0.7111111111111111,1.0]},\"yaxis\":{\"anchor\":\"x\",\"domain\":[0.7333333333333333,1.0]},\"xaxis2\":{\"anchor\":\"y2\",\"domain\":[0.7111111111111111,1.0]},\"yaxis2\":{\"anchor\":\"x2\",\"domain\":[0.36666666666666664,0.6333333333333333]},\"xaxis3\":{\"anchor\":\"y3\",\"domain\":[0.7111111111111111,1.0],\"title\":{\"text\":\"Time (miliseconds)\"}},\"yaxis3\":{\"anchor\":\"x3\",\"domain\":[0.0,0.26666666666666666],\"title\":{\"text\":\"\\u03c9\\u0302 (degree/s\\u00b2 * 1e3)\"},\"showgrid\":true},\"annotations\":[{\"font\":{\"color\":\"black\",\"size\":12},\"showarrow\":false,\"text\":\"\\u03a6 (angle between chaser and chasee)\",\"x\":0.85,\"xanchor\":\"center\",\"xref\":\"paper\",\"y\":1.0,\"yanchor\":\"bottom\",\"yref\":\"paper\"},{\"font\":{\"color\":\"black\",\"size\":12},\"showarrow\":false,\"text\":\"\\u03c9 (turning angle of chaser)\",\"x\":0.85,\"xanchor\":\"center\",\"xref\":\"paper\",\"y\":0.6428571428571428,\"yanchor\":\"bottom\",\"yref\":\"paper\"},{\"font\":{\"color\":\"black\",\"size\":12},\"showarrow\":false,\"text\":\"\\u03c9\\u0302 (rate of turning angle of chaser)\",\"x\":0.85,\"xanchor\":\"center\",\"xref\":\"paper\",\"y\":0.2857142857142857,\"yanchor\":\"bottom\",\"yref\":\"paper\"}],\"height\":800,\"width\":1000,\"showlegend\":false},                        {\"responsive\": true}                    ).then(function(){\n",
       "                            \n",
       "var gd = document.getElementById('c7ba3841-1197-47cf-9247-4314ceee6312');\n",
       "var x = new MutationObserver(function (mutations, observer) {{\n",
       "        var display = window.getComputedStyle(gd).display;\n",
       "        if (!display || display === 'none') {{\n",
       "            console.log([gd, 'removed!']);\n",
       "            Plotly.purge(gd);\n",
       "            observer.disconnect();\n",
       "        }}\n",
       "}});\n",
       "\n",
       "// Listen for the removal of the full notebook cells\n",
       "var notebookContainer = gd.closest('#notebook-container');\n",
       "if (notebookContainer) {{\n",
       "    x.observe(notebookContainer, {childList: true});\n",
       "}}\n",
       "\n",
       "// Listen for the clearing of the current output cell\n",
       "var outputEl = gd.closest('.output');\n",
       "if (outputEl) {{\n",
       "    x.observe(outputEl, {childList: true});\n",
       "}}\n",
       "\n",
       "                        })                };                });            </script>        </div>"
      ]
     },
     "metadata": {},
     "output_type": "display_data"
    }
   ],
   "source": [
    "# titles = titles = [\n",
    "#     \"\", \"\", \"θ (angle between chaser and chasee)\",\n",
    "#     \"\", \"\", \"ω (turning angle of chaser)\",\n",
    "#     \"\", \"\", \"ω̂ (rate of turning angle of chaser)\"\n",
    "# ]\n",
    "\n",
    "\n",
    "fig = make_subplots(\n",
    "    rows=3, cols=3,\n",
    "#     subplot_titles=titles,\n",
    "    specs=[\n",
    "        [{\"type\": \"scene\", \"rowspan\": 3, \"colspan\": 2}, None, {\"type\": \"xy\"}],\n",
    "        [None,                        None,              {\"type\": \"xy\"}],\n",
    "        [None,                        None,              {\"type\": \"xy\"}]\n",
    "          ])\n",
    "\n",
    "\n",
    "################### the 3D chase plot #######################################################################\n",
    "# 3D line plot to recreate the chase\n",
    "line_trace_1 = go.Scatter3d(\n",
    "    x = com_df.chaser_com_x, y = com_df.chaser_com_y, z = com_df.chaser_com_z,\n",
    "    mode='lines',\n",
    "    line=dict(color='black'),\n",
    "    name='Line'\n",
    ")\n",
    "\n",
    "line_trace_2 = go.Scatter3d(\n",
    "    x = com_df.chasee_com_x, y = com_df.chasee_com_y, z = com_df.chasee_com_z,\n",
    "    mode='lines',\n",
    "    line=dict(color='black', width=1),\n",
    "    name='Line'\n",
    ")\n",
    "\n",
    "N = len(com_df)-1\n",
    "# Markers every 10th point\n",
    "marker_indices = np.arange(0, N, 10)\n",
    "\n",
    "marker_trace_1 = go.Scatter3d(\n",
    "    x=com_df.chaser_com_x[marker_indices],\n",
    "    y=com_df.chaser_com_y[marker_indices],\n",
    "    z=com_df.chaser_com_z[marker_indices],\n",
    "    mode='markers',\n",
    "    marker=dict(\n",
    "        size=3,\n",
    "        color='black',\n",
    "        symbol='circle'\n",
    "#         ['circle' if i % 2 == 0 else 'circle-open' for i in range(len(marker_indices))],\n",
    "#         line=dict(width=1, color='black')\n",
    "    ),\n",
    "    name='Markers_chaser'\n",
    ")\n",
    "\n",
    "marker_trace_2 = go.Scatter3d(\n",
    "    x=com_df.chasee_com_x[marker_indices],\n",
    "    y=com_df.chasee_com_y[marker_indices],\n",
    "    z=com_df.chasee_com_z[marker_indices],\n",
    "    mode='markers',\n",
    "    marker=dict(\n",
    "        size=3,\n",
    "        color='black',\n",
    "        symbol='circle-open'\n",
    "#         ['circle' if i % 2 == 0 else 'circle-open' for i in range(len(marker_indices))],\n",
    "#         line=dict(width=1, color='black')\n",
    "    ),\n",
    "    name='Markers_chasee'\n",
    ")\n",
    "\n",
    "\n",
    "# Text labels every 50th point\n",
    "text_indices = np.arange(0, N, 50)\n",
    "\n",
    "text_trace_1 = go.Scatter3d(\n",
    "    x=com_df.chaser_com_x[text_indices],\n",
    "    y=com_df.chaser_com_y[text_indices],\n",
    "    z=com_df.chaser_com_z[text_indices],\n",
    "    mode='text',\n",
    "    text=[str(i) for i in text_indices],\n",
    "    textposition='top center',\n",
    "    textfont=dict(size=10, color='black'),\n",
    "    name='Labels_chaser'\n",
    ")\n",
    "\n",
    "text_trace_2 = go.Scatter3d(\n",
    "    x=com_df.chasee_com_x[text_indices],\n",
    "    y=com_df.chasee_com_y[text_indices],\n",
    "    z=com_df.chasee_com_z[text_indices],\n",
    "    mode='text',\n",
    "    text=[str(i) for i in text_indices],\n",
    "    textposition='bottom left',\n",
    "    textfont=dict(size=10, color='black'),\n",
    "    name='Labels_chasee'\n",
    ")\n",
    "\n",
    "# Create the figure\n",
    "\n",
    "# Add all traces to the subplot\n",
    "fig.add_trace(line_trace_1, row=1, col=1)\n",
    "fig.add_trace(line_trace_2, row=1, col=1)\n",
    "fig.add_trace(marker_trace_1, row=1, col=1)\n",
    "fig.add_trace(marker_trace_2, row=1, col=1)\n",
    "fig.add_trace(text_trace_1, row=1, col=1)\n",
    "fig.add_trace(text_trace_2, row=1, col=1)\n",
    "\n",
    "# Set the camera to view along the z-axis (xy plane)\n",
    "fig.update_layout(\n",
    "    scene_camera=dict(\n",
    "        eye=dict(x=2.5, y=0., z=0.)  # Adjust z to control the distance\n",
    "    ),\n",
    "    scene=dict(\n",
    "        aspectmode='cube'  # Keeps the aspect ratio uniform\n",
    "    )\n",
    ")\n",
    "\n",
    "############## add all the chase variables as line plots in second column ###############################\n",
    "###### angle between the chasee and chaser ##############################################################\n",
    "marker_trace_theta = go.Scatter(\n",
    "    x=time_Axis[marker_indices],\n",
    "    y=chase_df.loc[:,'error_phi'][marker_indices],\n",
    "    mode='markers',\n",
    "    marker=dict(\n",
    "        size=5,\n",
    "        color='black',\n",
    "        symbol='circle'\n",
    "    ),\n",
    "    name='phi'\n",
    ")\n",
    "\n",
    "fig.add_trace(go.Scatter(\n",
    "    x = time_Axis, y = chase_df.loc[:,'error_phi'],\n",
    "    mode = 'lines'),\n",
    "              row = 1, col = 3)\n",
    "fig.add_trace(marker_trace_theta, row = 1, col = 3)\n",
    "\n",
    "\n",
    "####### turning angle for the chaser ####################################################################\n",
    "omega = chase_df.loc[:,'turning_phi']\n",
    "omega_smoothed = signal.savgol_filter(omega, 10, 3)\n",
    "\n",
    "\n",
    "fig.add_trace(go.Scatter(\n",
    "        x = time_Axis, y = omega_smoothed\n",
    "        , mode = 'lines'\n",
    "        ),\n",
    "             row = 2, col = 3)\n",
    "\n",
    "######## rate of turning angle for the chaser ############################################################\n",
    "omega_hat = np.diff(omega_smoothed)\n",
    "\n",
    "marker_indices = np.arange(0, len(omega_hat), 20)\n",
    "marker_trace_omega_hat = go.Scatter(\n",
    "    x=time_Axis[marker_indices], \n",
    "    y=omega_hat[marker_indices],\n",
    "    mode='markers',\n",
    "    marker=dict(\n",
    "        size=5,\n",
    "        color='black',\n",
    "        symbol='circle'\n",
    "    ),\n",
    "    name='omega_hat'\n",
    ")\n",
    "\n",
    "fig.add_trace(go.Scatter(\n",
    "    x = time_Axis, y = omega_hat,\n",
    "    mode = 'lines'),\n",
    "              row = 3, col = 3)\n",
    "fig.add_trace(marker_trace_omega_hat, row = 3, col = 3)\n",
    "\n",
    "# Add manual annotations for column 3 titles\n",
    "titles = [\n",
    "    \"Φ (angle between chaser and chasee)\",\n",
    "    \"ω (turning angle of chaser)\",\n",
    "    \"ω̂ (rate of turning angle of chaser)\"\n",
    "]\n",
    "\n",
    "for i, title in enumerate(titles):\n",
    "    fig.add_annotation(\n",
    "        text=title,\n",
    "        xref=\"paper\",\n",
    "        yref=\"paper\",\n",
    "        x=0.85,  # far right (col 3)\n",
    "        y=1.0 - (i * 1 / 2.8),  # top, middle, bottom\n",
    "        xanchor=\"center\",\n",
    "        yanchor=\"bottom\",\n",
    "        showarrow=False,\n",
    "        font=dict(size=12, color=\"black\")\n",
    "    )\n",
    "\n",
    "# Final layout tweaks\n",
    "fig.update_layout(\n",
    "    height=800,\n",
    "    width=1000,\n",
    "#     title_text=\"Custom Titles for Column 3 Subplots\",\n",
    "    showlegend=False\n",
    ")\n",
    "\n",
    "fig.update_layout({\n",
    "    'xaxis3': dict(title='Time (miliseconds)'),\n",
    "    \"yaxis3\": dict(title=\"ω̂ (degree/s² * 1e3)\", showgrid=True)\n",
    "    })\n",
    "\n",
    "\n",
    "fig.show()\n",
    "fig.write_html(\"../dataFolders/MuscaChasingMusca/Sampled100fps_Figures/Chase_relationships/\" + name + \"phi_visualization.html\")\n",
    "# fig.write_html(\"../dataFolders/MuscaChasingMusca/Outputs/\" + name + \"phi_visualization.html\")"
   ]
  },
  {
   "cell_type": "code",
   "execution_count": 98,
   "id": "bf840086",
   "metadata": {},
   "outputs": [
    {
     "data": {
      "application/vnd.plotly.v1+json": {
       "config": {
        "plotlyServerURL": "https://plot.ly"
       },
       "data": [
        {
         "type": "scatter",
         "x": [
          -15,
          -14,
          -13,
          -12,
          -11,
          -10,
          -9,
          -8,
          -7,
          -6,
          -5,
          -4,
          -3,
          -2,
          -1,
          0,
          1,
          2,
          3,
          4,
          5,
          6,
          7,
          8,
          9,
          10,
          11,
          12,
          13,
          14
         ],
         "y": [
          437.1698106190531,
          560.649084629221,
          501.21040793761904,
          332.42385833620546,
          28.07910335812157,
          -182.03771289594144,
          -314.06909663048424,
          -357.5109126571914,
          -333.210031612869,
          -272.5923960619866,
          -139.6503298274955,
          181.76214226650183,
          463.90689818557973,
          487.88338516027216,
          99.79997580074547,
          -837.0996633571252,
          -575.3374138269862,
          -344.232748124046,
          -143.69954538133123,
          -20.904534237926953,
          -224.34059230011397,
          -335.64366480767967,
          -413.828219768286,
          -392.1615812257127,
          -290.4841746025425,
          -161.87916038967424,
          -230.8645371418171,
          -189.60906631134327,
          -129.9785344414104,
          -56.426501495362096
         ]
        }
       ],
       "layout": {
        "template": {
         "data": {
          "bar": [
           {
            "error_x": {
             "color": "#2a3f5f"
            },
            "error_y": {
             "color": "#2a3f5f"
            },
            "marker": {
             "line": {
              "color": "#E5ECF6",
              "width": 0.5
             },
             "pattern": {
              "fillmode": "overlay",
              "size": 10,
              "solidity": 0.2
             }
            },
            "type": "bar"
           }
          ],
          "barpolar": [
           {
            "marker": {
             "line": {
              "color": "#E5ECF6",
              "width": 0.5
             },
             "pattern": {
              "fillmode": "overlay",
              "size": 10,
              "solidity": 0.2
             }
            },
            "type": "barpolar"
           }
          ],
          "carpet": [
           {
            "aaxis": {
             "endlinecolor": "#2a3f5f",
             "gridcolor": "white",
             "linecolor": "white",
             "minorgridcolor": "white",
             "startlinecolor": "#2a3f5f"
            },
            "baxis": {
             "endlinecolor": "#2a3f5f",
             "gridcolor": "white",
             "linecolor": "white",
             "minorgridcolor": "white",
             "startlinecolor": "#2a3f5f"
            },
            "type": "carpet"
           }
          ],
          "choropleth": [
           {
            "colorbar": {
             "outlinewidth": 0,
             "ticks": ""
            },
            "type": "choropleth"
           }
          ],
          "contour": [
           {
            "colorbar": {
             "outlinewidth": 0,
             "ticks": ""
            },
            "colorscale": [
             [
              0,
              "#0d0887"
             ],
             [
              0.1111111111111111,
              "#46039f"
             ],
             [
              0.2222222222222222,
              "#7201a8"
             ],
             [
              0.3333333333333333,
              "#9c179e"
             ],
             [
              0.4444444444444444,
              "#bd3786"
             ],
             [
              0.5555555555555556,
              "#d8576b"
             ],
             [
              0.6666666666666666,
              "#ed7953"
             ],
             [
              0.7777777777777778,
              "#fb9f3a"
             ],
             [
              0.8888888888888888,
              "#fdca26"
             ],
             [
              1,
              "#f0f921"
             ]
            ],
            "type": "contour"
           }
          ],
          "contourcarpet": [
           {
            "colorbar": {
             "outlinewidth": 0,
             "ticks": ""
            },
            "type": "contourcarpet"
           }
          ],
          "heatmap": [
           {
            "colorbar": {
             "outlinewidth": 0,
             "ticks": ""
            },
            "colorscale": [
             [
              0,
              "#0d0887"
             ],
             [
              0.1111111111111111,
              "#46039f"
             ],
             [
              0.2222222222222222,
              "#7201a8"
             ],
             [
              0.3333333333333333,
              "#9c179e"
             ],
             [
              0.4444444444444444,
              "#bd3786"
             ],
             [
              0.5555555555555556,
              "#d8576b"
             ],
             [
              0.6666666666666666,
              "#ed7953"
             ],
             [
              0.7777777777777778,
              "#fb9f3a"
             ],
             [
              0.8888888888888888,
              "#fdca26"
             ],
             [
              1,
              "#f0f921"
             ]
            ],
            "type": "heatmap"
           }
          ],
          "heatmapgl": [
           {
            "colorbar": {
             "outlinewidth": 0,
             "ticks": ""
            },
            "colorscale": [
             [
              0,
              "#0d0887"
             ],
             [
              0.1111111111111111,
              "#46039f"
             ],
             [
              0.2222222222222222,
              "#7201a8"
             ],
             [
              0.3333333333333333,
              "#9c179e"
             ],
             [
              0.4444444444444444,
              "#bd3786"
             ],
             [
              0.5555555555555556,
              "#d8576b"
             ],
             [
              0.6666666666666666,
              "#ed7953"
             ],
             [
              0.7777777777777778,
              "#fb9f3a"
             ],
             [
              0.8888888888888888,
              "#fdca26"
             ],
             [
              1,
              "#f0f921"
             ]
            ],
            "type": "heatmapgl"
           }
          ],
          "histogram": [
           {
            "marker": {
             "pattern": {
              "fillmode": "overlay",
              "size": 10,
              "solidity": 0.2
             }
            },
            "type": "histogram"
           }
          ],
          "histogram2d": [
           {
            "colorbar": {
             "outlinewidth": 0,
             "ticks": ""
            },
            "colorscale": [
             [
              0,
              "#0d0887"
             ],
             [
              0.1111111111111111,
              "#46039f"
             ],
             [
              0.2222222222222222,
              "#7201a8"
             ],
             [
              0.3333333333333333,
              "#9c179e"
             ],
             [
              0.4444444444444444,
              "#bd3786"
             ],
             [
              0.5555555555555556,
              "#d8576b"
             ],
             [
              0.6666666666666666,
              "#ed7953"
             ],
             [
              0.7777777777777778,
              "#fb9f3a"
             ],
             [
              0.8888888888888888,
              "#fdca26"
             ],
             [
              1,
              "#f0f921"
             ]
            ],
            "type": "histogram2d"
           }
          ],
          "histogram2dcontour": [
           {
            "colorbar": {
             "outlinewidth": 0,
             "ticks": ""
            },
            "colorscale": [
             [
              0,
              "#0d0887"
             ],
             [
              0.1111111111111111,
              "#46039f"
             ],
             [
              0.2222222222222222,
              "#7201a8"
             ],
             [
              0.3333333333333333,
              "#9c179e"
             ],
             [
              0.4444444444444444,
              "#bd3786"
             ],
             [
              0.5555555555555556,
              "#d8576b"
             ],
             [
              0.6666666666666666,
              "#ed7953"
             ],
             [
              0.7777777777777778,
              "#fb9f3a"
             ],
             [
              0.8888888888888888,
              "#fdca26"
             ],
             [
              1,
              "#f0f921"
             ]
            ],
            "type": "histogram2dcontour"
           }
          ],
          "mesh3d": [
           {
            "colorbar": {
             "outlinewidth": 0,
             "ticks": ""
            },
            "type": "mesh3d"
           }
          ],
          "parcoords": [
           {
            "line": {
             "colorbar": {
              "outlinewidth": 0,
              "ticks": ""
             }
            },
            "type": "parcoords"
           }
          ],
          "pie": [
           {
            "automargin": true,
            "type": "pie"
           }
          ],
          "scatter": [
           {
            "fillpattern": {
             "fillmode": "overlay",
             "size": 10,
             "solidity": 0.2
            },
            "type": "scatter"
           }
          ],
          "scatter3d": [
           {
            "line": {
             "colorbar": {
              "outlinewidth": 0,
              "ticks": ""
             }
            },
            "marker": {
             "colorbar": {
              "outlinewidth": 0,
              "ticks": ""
             }
            },
            "type": "scatter3d"
           }
          ],
          "scattercarpet": [
           {
            "marker": {
             "colorbar": {
              "outlinewidth": 0,
              "ticks": ""
             }
            },
            "type": "scattercarpet"
           }
          ],
          "scattergeo": [
           {
            "marker": {
             "colorbar": {
              "outlinewidth": 0,
              "ticks": ""
             }
            },
            "type": "scattergeo"
           }
          ],
          "scattergl": [
           {
            "marker": {
             "colorbar": {
              "outlinewidth": 0,
              "ticks": ""
             }
            },
            "type": "scattergl"
           }
          ],
          "scattermapbox": [
           {
            "marker": {
             "colorbar": {
              "outlinewidth": 0,
              "ticks": ""
             }
            },
            "type": "scattermapbox"
           }
          ],
          "scatterpolar": [
           {
            "marker": {
             "colorbar": {
              "outlinewidth": 0,
              "ticks": ""
             }
            },
            "type": "scatterpolar"
           }
          ],
          "scatterpolargl": [
           {
            "marker": {
             "colorbar": {
              "outlinewidth": 0,
              "ticks": ""
             }
            },
            "type": "scatterpolargl"
           }
          ],
          "scatterternary": [
           {
            "marker": {
             "colorbar": {
              "outlinewidth": 0,
              "ticks": ""
             }
            },
            "type": "scatterternary"
           }
          ],
          "surface": [
           {
            "colorbar": {
             "outlinewidth": 0,
             "ticks": ""
            },
            "colorscale": [
             [
              0,
              "#0d0887"
             ],
             [
              0.1111111111111111,
              "#46039f"
             ],
             [
              0.2222222222222222,
              "#7201a8"
             ],
             [
              0.3333333333333333,
              "#9c179e"
             ],
             [
              0.4444444444444444,
              "#bd3786"
             ],
             [
              0.5555555555555556,
              "#d8576b"
             ],
             [
              0.6666666666666666,
              "#ed7953"
             ],
             [
              0.7777777777777778,
              "#fb9f3a"
             ],
             [
              0.8888888888888888,
              "#fdca26"
             ],
             [
              1,
              "#f0f921"
             ]
            ],
            "type": "surface"
           }
          ],
          "table": [
           {
            "cells": {
             "fill": {
              "color": "#EBF0F8"
             },
             "line": {
              "color": "white"
             }
            },
            "header": {
             "fill": {
              "color": "#C8D4E3"
             },
             "line": {
              "color": "white"
             }
            },
            "type": "table"
           }
          ]
         },
         "layout": {
          "annotationdefaults": {
           "arrowcolor": "#2a3f5f",
           "arrowhead": 0,
           "arrowwidth": 1
          },
          "autotypenumbers": "strict",
          "coloraxis": {
           "colorbar": {
            "outlinewidth": 0,
            "ticks": ""
           }
          },
          "colorscale": {
           "diverging": [
            [
             0,
             "#8e0152"
            ],
            [
             0.1,
             "#c51b7d"
            ],
            [
             0.2,
             "#de77ae"
            ],
            [
             0.3,
             "#f1b6da"
            ],
            [
             0.4,
             "#fde0ef"
            ],
            [
             0.5,
             "#f7f7f7"
            ],
            [
             0.6,
             "#e6f5d0"
            ],
            [
             0.7,
             "#b8e186"
            ],
            [
             0.8,
             "#7fbc41"
            ],
            [
             0.9,
             "#4d9221"
            ],
            [
             1,
             "#276419"
            ]
           ],
           "sequential": [
            [
             0,
             "#0d0887"
            ],
            [
             0.1111111111111111,
             "#46039f"
            ],
            [
             0.2222222222222222,
             "#7201a8"
            ],
            [
             0.3333333333333333,
             "#9c179e"
            ],
            [
             0.4444444444444444,
             "#bd3786"
            ],
            [
             0.5555555555555556,
             "#d8576b"
            ],
            [
             0.6666666666666666,
             "#ed7953"
            ],
            [
             0.7777777777777778,
             "#fb9f3a"
            ],
            [
             0.8888888888888888,
             "#fdca26"
            ],
            [
             1,
             "#f0f921"
            ]
           ],
           "sequentialminus": [
            [
             0,
             "#0d0887"
            ],
            [
             0.1111111111111111,
             "#46039f"
            ],
            [
             0.2222222222222222,
             "#7201a8"
            ],
            [
             0.3333333333333333,
             "#9c179e"
            ],
            [
             0.4444444444444444,
             "#bd3786"
            ],
            [
             0.5555555555555556,
             "#d8576b"
            ],
            [
             0.6666666666666666,
             "#ed7953"
            ],
            [
             0.7777777777777778,
             "#fb9f3a"
            ],
            [
             0.8888888888888888,
             "#fdca26"
            ],
            [
             1,
             "#f0f921"
            ]
           ]
          },
          "colorway": [
           "#636efa",
           "#EF553B",
           "#00cc96",
           "#ab63fa",
           "#FFA15A",
           "#19d3f3",
           "#FF6692",
           "#B6E880",
           "#FF97FF",
           "#FECB52"
          ],
          "font": {
           "color": "#2a3f5f"
          },
          "geo": {
           "bgcolor": "white",
           "lakecolor": "white",
           "landcolor": "#E5ECF6",
           "showlakes": true,
           "showland": true,
           "subunitcolor": "white"
          },
          "hoverlabel": {
           "align": "left"
          },
          "hovermode": "closest",
          "mapbox": {
           "style": "light"
          },
          "paper_bgcolor": "white",
          "plot_bgcolor": "#E5ECF6",
          "polar": {
           "angularaxis": {
            "gridcolor": "white",
            "linecolor": "white",
            "ticks": ""
           },
           "bgcolor": "#E5ECF6",
           "radialaxis": {
            "gridcolor": "white",
            "linecolor": "white",
            "ticks": ""
           }
          },
          "scene": {
           "xaxis": {
            "backgroundcolor": "#E5ECF6",
            "gridcolor": "white",
            "gridwidth": 2,
            "linecolor": "white",
            "showbackground": true,
            "ticks": "",
            "zerolinecolor": "white"
           },
           "yaxis": {
            "backgroundcolor": "#E5ECF6",
            "gridcolor": "white",
            "gridwidth": 2,
            "linecolor": "white",
            "showbackground": true,
            "ticks": "",
            "zerolinecolor": "white"
           },
           "zaxis": {
            "backgroundcolor": "#E5ECF6",
            "gridcolor": "white",
            "gridwidth": 2,
            "linecolor": "white",
            "showbackground": true,
            "ticks": "",
            "zerolinecolor": "white"
           }
          },
          "shapedefaults": {
           "line": {
            "color": "#2a3f5f"
           }
          },
          "ternary": {
           "aaxis": {
            "gridcolor": "white",
            "linecolor": "white",
            "ticks": ""
           },
           "baxis": {
            "gridcolor": "white",
            "linecolor": "white",
            "ticks": ""
           },
           "bgcolor": "#E5ECF6",
           "caxis": {
            "gridcolor": "white",
            "linecolor": "white",
            "ticks": ""
           }
          },
          "title": {
           "x": 0.05
          },
          "xaxis": {
           "automargin": true,
           "gridcolor": "white",
           "linecolor": "white",
           "ticks": "",
           "title": {
            "standoff": 15
           },
           "zerolinecolor": "white",
           "zerolinewidth": 2
          },
          "yaxis": {
           "automargin": true,
           "gridcolor": "white",
           "linecolor": "white",
           "ticks": "",
           "title": {
            "standoff": 15
           },
           "zerolinecolor": "white",
           "zerolinewidth": 2
          }
         }
        }
       }
      },
      "text/html": [
       "<div>                            <div id=\"1c2ad691-7129-4c8b-beef-3091e0cb5618\" class=\"plotly-graph-div\" style=\"height:525px; width:100%;\"></div>            <script type=\"text/javascript\">                require([\"plotly\"], function(Plotly) {                    window.PLOTLYENV=window.PLOTLYENV || {};                                    if (document.getElementById(\"1c2ad691-7129-4c8b-beef-3091e0cb5618\")) {                    Plotly.newPlot(                        \"1c2ad691-7129-4c8b-beef-3091e0cb5618\",                        [{\"x\":[-15,-14,-13,-12,-11,-10,-9,-8,-7,-6,-5,-4,-3,-2,-1,0,1,2,3,4,5,6,7,8,9,10,11,12,13,14],\"y\":[437.1698106190531,560.649084629221,501.21040793761904,332.42385833620546,28.07910335812157,-182.03771289594144,-314.06909663048424,-357.5109126571914,-333.210031612869,-272.5923960619866,-139.6503298274955,181.76214226650183,463.90689818557973,487.88338516027216,99.79997580074547,-837.0996633571252,-575.3374138269862,-344.232748124046,-143.69954538133123,-20.904534237926953,-224.34059230011397,-335.64366480767967,-413.828219768286,-392.1615812257127,-290.4841746025425,-161.87916038967424,-230.8645371418171,-189.60906631134327,-129.9785344414104,-56.426501495362096],\"type\":\"scatter\"}],                        {\"template\":{\"data\":{\"histogram2dcontour\":[{\"type\":\"histogram2dcontour\",\"colorbar\":{\"outlinewidth\":0,\"ticks\":\"\"},\"colorscale\":[[0.0,\"#0d0887\"],[0.1111111111111111,\"#46039f\"],[0.2222222222222222,\"#7201a8\"],[0.3333333333333333,\"#9c179e\"],[0.4444444444444444,\"#bd3786\"],[0.5555555555555556,\"#d8576b\"],[0.6666666666666666,\"#ed7953\"],[0.7777777777777778,\"#fb9f3a\"],[0.8888888888888888,\"#fdca26\"],[1.0,\"#f0f921\"]]}],\"choropleth\":[{\"type\":\"choropleth\",\"colorbar\":{\"outlinewidth\":0,\"ticks\":\"\"}}],\"histogram2d\":[{\"type\":\"histogram2d\",\"colorbar\":{\"outlinewidth\":0,\"ticks\":\"\"},\"colorscale\":[[0.0,\"#0d0887\"],[0.1111111111111111,\"#46039f\"],[0.2222222222222222,\"#7201a8\"],[0.3333333333333333,\"#9c179e\"],[0.4444444444444444,\"#bd3786\"],[0.5555555555555556,\"#d8576b\"],[0.6666666666666666,\"#ed7953\"],[0.7777777777777778,\"#fb9f3a\"],[0.8888888888888888,\"#fdca26\"],[1.0,\"#f0f921\"]]}],\"heatmap\":[{\"type\":\"heatmap\",\"colorbar\":{\"outlinewidth\":0,\"ticks\":\"\"},\"colorscale\":[[0.0,\"#0d0887\"],[0.1111111111111111,\"#46039f\"],[0.2222222222222222,\"#7201a8\"],[0.3333333333333333,\"#9c179e\"],[0.4444444444444444,\"#bd3786\"],[0.5555555555555556,\"#d8576b\"],[0.6666666666666666,\"#ed7953\"],[0.7777777777777778,\"#fb9f3a\"],[0.8888888888888888,\"#fdca26\"],[1.0,\"#f0f921\"]]}],\"heatmapgl\":[{\"type\":\"heatmapgl\",\"colorbar\":{\"outlinewidth\":0,\"ticks\":\"\"},\"colorscale\":[[0.0,\"#0d0887\"],[0.1111111111111111,\"#46039f\"],[0.2222222222222222,\"#7201a8\"],[0.3333333333333333,\"#9c179e\"],[0.4444444444444444,\"#bd3786\"],[0.5555555555555556,\"#d8576b\"],[0.6666666666666666,\"#ed7953\"],[0.7777777777777778,\"#fb9f3a\"],[0.8888888888888888,\"#fdca26\"],[1.0,\"#f0f921\"]]}],\"contourcarpet\":[{\"type\":\"contourcarpet\",\"colorbar\":{\"outlinewidth\":0,\"ticks\":\"\"}}],\"contour\":[{\"type\":\"contour\",\"colorbar\":{\"outlinewidth\":0,\"ticks\":\"\"},\"colorscale\":[[0.0,\"#0d0887\"],[0.1111111111111111,\"#46039f\"],[0.2222222222222222,\"#7201a8\"],[0.3333333333333333,\"#9c179e\"],[0.4444444444444444,\"#bd3786\"],[0.5555555555555556,\"#d8576b\"],[0.6666666666666666,\"#ed7953\"],[0.7777777777777778,\"#fb9f3a\"],[0.8888888888888888,\"#fdca26\"],[1.0,\"#f0f921\"]]}],\"surface\":[{\"type\":\"surface\",\"colorbar\":{\"outlinewidth\":0,\"ticks\":\"\"},\"colorscale\":[[0.0,\"#0d0887\"],[0.1111111111111111,\"#46039f\"],[0.2222222222222222,\"#7201a8\"],[0.3333333333333333,\"#9c179e\"],[0.4444444444444444,\"#bd3786\"],[0.5555555555555556,\"#d8576b\"],[0.6666666666666666,\"#ed7953\"],[0.7777777777777778,\"#fb9f3a\"],[0.8888888888888888,\"#fdca26\"],[1.0,\"#f0f921\"]]}],\"mesh3d\":[{\"type\":\"mesh3d\",\"colorbar\":{\"outlinewidth\":0,\"ticks\":\"\"}}],\"scatter\":[{\"fillpattern\":{\"fillmode\":\"overlay\",\"size\":10,\"solidity\":0.2},\"type\":\"scatter\"}],\"parcoords\":[{\"type\":\"parcoords\",\"line\":{\"colorbar\":{\"outlinewidth\":0,\"ticks\":\"\"}}}],\"scatterpolargl\":[{\"type\":\"scatterpolargl\",\"marker\":{\"colorbar\":{\"outlinewidth\":0,\"ticks\":\"\"}}}],\"bar\":[{\"error_x\":{\"color\":\"#2a3f5f\"},\"error_y\":{\"color\":\"#2a3f5f\"},\"marker\":{\"line\":{\"color\":\"#E5ECF6\",\"width\":0.5},\"pattern\":{\"fillmode\":\"overlay\",\"size\":10,\"solidity\":0.2}},\"type\":\"bar\"}],\"scattergeo\":[{\"type\":\"scattergeo\",\"marker\":{\"colorbar\":{\"outlinewidth\":0,\"ticks\":\"\"}}}],\"scatterpolar\":[{\"type\":\"scatterpolar\",\"marker\":{\"colorbar\":{\"outlinewidth\":0,\"ticks\":\"\"}}}],\"histogram\":[{\"marker\":{\"pattern\":{\"fillmode\":\"overlay\",\"size\":10,\"solidity\":0.2}},\"type\":\"histogram\"}],\"scattergl\":[{\"type\":\"scattergl\",\"marker\":{\"colorbar\":{\"outlinewidth\":0,\"ticks\":\"\"}}}],\"scatter3d\":[{\"type\":\"scatter3d\",\"line\":{\"colorbar\":{\"outlinewidth\":0,\"ticks\":\"\"}},\"marker\":{\"colorbar\":{\"outlinewidth\":0,\"ticks\":\"\"}}}],\"scattermapbox\":[{\"type\":\"scattermapbox\",\"marker\":{\"colorbar\":{\"outlinewidth\":0,\"ticks\":\"\"}}}],\"scatterternary\":[{\"type\":\"scatterternary\",\"marker\":{\"colorbar\":{\"outlinewidth\":0,\"ticks\":\"\"}}}],\"scattercarpet\":[{\"type\":\"scattercarpet\",\"marker\":{\"colorbar\":{\"outlinewidth\":0,\"ticks\":\"\"}}}],\"carpet\":[{\"aaxis\":{\"endlinecolor\":\"#2a3f5f\",\"gridcolor\":\"white\",\"linecolor\":\"white\",\"minorgridcolor\":\"white\",\"startlinecolor\":\"#2a3f5f\"},\"baxis\":{\"endlinecolor\":\"#2a3f5f\",\"gridcolor\":\"white\",\"linecolor\":\"white\",\"minorgridcolor\":\"white\",\"startlinecolor\":\"#2a3f5f\"},\"type\":\"carpet\"}],\"table\":[{\"cells\":{\"fill\":{\"color\":\"#EBF0F8\"},\"line\":{\"color\":\"white\"}},\"header\":{\"fill\":{\"color\":\"#C8D4E3\"},\"line\":{\"color\":\"white\"}},\"type\":\"table\"}],\"barpolar\":[{\"marker\":{\"line\":{\"color\":\"#E5ECF6\",\"width\":0.5},\"pattern\":{\"fillmode\":\"overlay\",\"size\":10,\"solidity\":0.2}},\"type\":\"barpolar\"}],\"pie\":[{\"automargin\":true,\"type\":\"pie\"}]},\"layout\":{\"autotypenumbers\":\"strict\",\"colorway\":[\"#636efa\",\"#EF553B\",\"#00cc96\",\"#ab63fa\",\"#FFA15A\",\"#19d3f3\",\"#FF6692\",\"#B6E880\",\"#FF97FF\",\"#FECB52\"],\"font\":{\"color\":\"#2a3f5f\"},\"hovermode\":\"closest\",\"hoverlabel\":{\"align\":\"left\"},\"paper_bgcolor\":\"white\",\"plot_bgcolor\":\"#E5ECF6\",\"polar\":{\"bgcolor\":\"#E5ECF6\",\"angularaxis\":{\"gridcolor\":\"white\",\"linecolor\":\"white\",\"ticks\":\"\"},\"radialaxis\":{\"gridcolor\":\"white\",\"linecolor\":\"white\",\"ticks\":\"\"}},\"ternary\":{\"bgcolor\":\"#E5ECF6\",\"aaxis\":{\"gridcolor\":\"white\",\"linecolor\":\"white\",\"ticks\":\"\"},\"baxis\":{\"gridcolor\":\"white\",\"linecolor\":\"white\",\"ticks\":\"\"},\"caxis\":{\"gridcolor\":\"white\",\"linecolor\":\"white\",\"ticks\":\"\"}},\"coloraxis\":{\"colorbar\":{\"outlinewidth\":0,\"ticks\":\"\"}},\"colorscale\":{\"sequential\":[[0.0,\"#0d0887\"],[0.1111111111111111,\"#46039f\"],[0.2222222222222222,\"#7201a8\"],[0.3333333333333333,\"#9c179e\"],[0.4444444444444444,\"#bd3786\"],[0.5555555555555556,\"#d8576b\"],[0.6666666666666666,\"#ed7953\"],[0.7777777777777778,\"#fb9f3a\"],[0.8888888888888888,\"#fdca26\"],[1.0,\"#f0f921\"]],\"sequentialminus\":[[0.0,\"#0d0887\"],[0.1111111111111111,\"#46039f\"],[0.2222222222222222,\"#7201a8\"],[0.3333333333333333,\"#9c179e\"],[0.4444444444444444,\"#bd3786\"],[0.5555555555555556,\"#d8576b\"],[0.6666666666666666,\"#ed7953\"],[0.7777777777777778,\"#fb9f3a\"],[0.8888888888888888,\"#fdca26\"],[1.0,\"#f0f921\"]],\"diverging\":[[0,\"#8e0152\"],[0.1,\"#c51b7d\"],[0.2,\"#de77ae\"],[0.3,\"#f1b6da\"],[0.4,\"#fde0ef\"],[0.5,\"#f7f7f7\"],[0.6,\"#e6f5d0\"],[0.7,\"#b8e186\"],[0.8,\"#7fbc41\"],[0.9,\"#4d9221\"],[1,\"#276419\"]]},\"xaxis\":{\"gridcolor\":\"white\",\"linecolor\":\"white\",\"ticks\":\"\",\"title\":{\"standoff\":15},\"zerolinecolor\":\"white\",\"automargin\":true,\"zerolinewidth\":2},\"yaxis\":{\"gridcolor\":\"white\",\"linecolor\":\"white\",\"ticks\":\"\",\"title\":{\"standoff\":15},\"zerolinecolor\":\"white\",\"automargin\":true,\"zerolinewidth\":2},\"scene\":{\"xaxis\":{\"backgroundcolor\":\"#E5ECF6\",\"gridcolor\":\"white\",\"linecolor\":\"white\",\"showbackground\":true,\"ticks\":\"\",\"zerolinecolor\":\"white\",\"gridwidth\":2},\"yaxis\":{\"backgroundcolor\":\"#E5ECF6\",\"gridcolor\":\"white\",\"linecolor\":\"white\",\"showbackground\":true,\"ticks\":\"\",\"zerolinecolor\":\"white\",\"gridwidth\":2},\"zaxis\":{\"backgroundcolor\":\"#E5ECF6\",\"gridcolor\":\"white\",\"linecolor\":\"white\",\"showbackground\":true,\"ticks\":\"\",\"zerolinecolor\":\"white\",\"gridwidth\":2}},\"shapedefaults\":{\"line\":{\"color\":\"#2a3f5f\"}},\"annotationdefaults\":{\"arrowcolor\":\"#2a3f5f\",\"arrowhead\":0,\"arrowwidth\":1},\"geo\":{\"bgcolor\":\"white\",\"landcolor\":\"#E5ECF6\",\"subunitcolor\":\"white\",\"showland\":true,\"showlakes\":true,\"lakecolor\":\"white\"},\"title\":{\"x\":0.05},\"mapbox\":{\"style\":\"light\"}}}},                        {\"responsive\": true}                    ).then(function(){\n",
       "                            \n",
       "var gd = document.getElementById('1c2ad691-7129-4c8b-beef-3091e0cb5618');\n",
       "var x = new MutationObserver(function (mutations, observer) {{\n",
       "        var display = window.getComputedStyle(gd).display;\n",
       "        if (!display || display === 'none') {{\n",
       "            console.log([gd, 'removed!']);\n",
       "            Plotly.purge(gd);\n",
       "            observer.disconnect();\n",
       "        }}\n",
       "}});\n",
       "\n",
       "// Listen for the removal of the full notebook cells\n",
       "var notebookContainer = gd.closest('#notebook-container');\n",
       "if (notebookContainer) {{\n",
       "    x.observe(notebookContainer, {childList: true});\n",
       "}}\n",
       "\n",
       "// Listen for the clearing of the current output cell\n",
       "var outputEl = gd.closest('.output');\n",
       "if (outputEl) {{\n",
       "    x.observe(outputEl, {childList: true});\n",
       "}}\n",
       "\n",
       "                        })                };                });            </script>        </div>"
      ]
     },
     "metadata": {},
     "output_type": "display_data"
    }
   ],
   "source": [
    "cross_Cor = np.correlate(omega_hat, chase_df.loc[:,'error_phi'], mode='full')\n",
    "x_Axis = np.arange(-len(omega_hat), len(omega_hat), 1)\n",
    "fig = go.Figure(data=go.Scatter(x = x_Axis, y=cross_Cor))\n",
    "fig.show()\n",
    "fig.write_html(\"../dataFolders/MuscaChasingMusca/Sampled100fps_Figures/Chase_relationships/\" + name + \"phi_cross_cor.html\")"
   ]
  },
  {
   "cell_type": "code",
   "execution_count": null,
   "id": "a1f9cebd",
   "metadata": {},
   "outputs": [],
   "source": [
    "# fig = make_subplots(\n",
    "#     rows=3, cols=2,\n",
    "#     specs=[[{\"type\": \"scene\", \"rowspan\": 3}, {\"type\": \"xy\"}],\n",
    "#            [None, {\"type\": \"xy\"}],\n",
    "#            [None, {\"type\": \"xy\"}]\n",
    "#            ])\n",
    "\n",
    "\n",
    "# fig.add_trace(go.Scatter3d(\n",
    "# x = com_df.chaser_com_x, y = com_df.chaser_com_y, z = com_df.chaser_com_z\n",
    "#     ,mode = 'lines'\n",
    "# , line=dict(color='black')), \n",
    "# row = 1, col = 1)\n",
    "\n",
    "# # Set the camera to view along the z-axis (xy plane)\n",
    "# fig.update_layout(\n",
    "#     scene_camera=dict(\n",
    "#         eye=dict(x=2.5, y=0, z=0)  # Adjust x to control the distance\n",
    "#     ),\n",
    "#     scene=dict(\n",
    "#         aspectmode='cube'  # Keeps the aspect ratio uniform\n",
    "#     )\n",
    "# )\n",
    "\n",
    "\n",
    "# fig.add_trace(go.Scatter3d(\n",
    "# x = com_df.chasee_com_x, y = com_df.chasee_com_y, z = com_df.chasee_com_z\n",
    "#     ,mode = 'lines'\n",
    "#     , line=dict(color='red')), \n",
    "# row = 1, col = 1)\n",
    "\n",
    "# #add all the line plots in second column\n",
    "# # angle between the chasee and chaser\n",
    "# fig.add_trace(go.Scatter(\n",
    "#         x = time_Axis, y = chase_df.loc[:,'chase_phi']\n",
    "#         , mode = 'lines'\n",
    "#         ),\n",
    "#              row = 1, col = 2)\n",
    "\n",
    "\n",
    "# omega_hat = angular_speed_df.loc[:,'chaser_phi']\n",
    "# omega_hat_smoothed = signal.savgol_filter(omega_hat, 10, 3)\n",
    "\n",
    "\n",
    "\n",
    "# # turning angle for the chaser\n",
    "# fig.add_trace(go.Scatter(\n",
    "#         x = time_Axis, y = omega_hat_smoothed\n",
    "#         , mode = 'lines'\n",
    "#         ),\n",
    "#              row = 2, col = 2)\n",
    "\n",
    "# # rate of turning angle for the chaser\n",
    "# fig.add_trace(go.Scatter(\n",
    "#         x = time_Axis, y = np.diff(omega_hat_smoothed)\n",
    "#         , mode = 'lines'\n",
    "#         ),\n",
    "#              row = 3, col = 2)\n",
    "# fig.update_layout(\n",
    "#     xaxis_title=\"Time (msecond)\"\n",
    "# )"
   ]
  },
  {
   "cell_type": "code",
   "execution_count": null,
   "id": "e7890669",
   "metadata": {},
   "outputs": [],
   "source": [
    "# fig.add_trace(go.Scatter3d(\n",
    "# x = com_df.chaser_com_x, y = com_df.chaser_com_y, z = com_df.chaser_com_z\n",
    "#     ,mode = 'lines'\n",
    "# , line=dict(color='black')), \n",
    "# row = 1, col = 1)\n",
    "\n",
    "# # Set the camera to view along the z-axis (xy plane)\n",
    "# fig.update_layout(\n",
    "#     scene_camera=dict(\n",
    "#         eye=dict(x=0., y=0., z=2.5)  # Adjust z to control the distance\n",
    "#     ),\n",
    "#     scene=dict(\n",
    "#         aspectmode='cube'  # Keeps the aspect ratio uniform\n",
    "#     )\n",
    "# )\n",
    "\n",
    "\n",
    "# fig.add_trace(go.Scatter3d(\n",
    "# x = com_df.chasee_com_x, y = com_df.chasee_com_y, z = com_df.chasee_com_z\n",
    "#     ,mode = 'lines'\n",
    "#     , line=dict(color='red')), \n",
    "# row = 1, col = 1)"
   ]
  },
  {
   "cell_type": "code",
   "execution_count": null,
   "id": "e903fce1",
   "metadata": {},
   "outputs": [],
   "source": []
  }
 ],
 "metadata": {
  "kernelspec": {
   "display_name": "Python 3 (ipykernel)",
   "language": "python",
   "name": "python3"
  },
  "language_info": {
   "codemirror_mode": {
    "name": "ipython",
    "version": 3
   },
   "file_extension": ".py",
   "mimetype": "text/x-python",
   "name": "python",
   "nbconvert_exporter": "python",
   "pygments_lexer": "ipython3",
   "version": "3.10.9"
  }
 },
 "nbformat": 4,
 "nbformat_minor": 5
}
