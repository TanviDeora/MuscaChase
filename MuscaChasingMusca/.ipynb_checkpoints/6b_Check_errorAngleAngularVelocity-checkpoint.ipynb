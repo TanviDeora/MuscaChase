{
 "cells": [
  {
   "cell_type": "code",
   "execution_count": 35,
   "id": "f7d1b15d",
   "metadata": {},
   "outputs": [],
   "source": [
    "import pandas as pd\n",
    "import numpy as np\n",
    "import glob"
   ]
  },
  {
   "cell_type": "code",
   "execution_count": 4,
   "id": "0e3a40b6",
   "metadata": {},
   "outputs": [
    {
     "data": {
      "text/plain": [
       "['./Data/Outputs/Sampled_1k/Chase\\\\2023-04-19_Trial7_Set1_5k_smoothened_interpol_COM_ChaseErrorAnglesSpeedAcc.csv',\n",
       " './Data/Outputs/Sampled_1k/Chase\\\\2023-04-21_Trial6_1k_smoothened_interpol_COM_ChaseErrorAnglesSpeedAcc.csv',\n",
       " './Data/Outputs/Sampled_1k/Chase\\\\2023-04-21_Trial7_1k_smoothened_interpol_COM_ChaseErrorAnglesSpeedAcc.csv',\n",
       " './Data/Outputs/Sampled_1k/Chase\\\\2023-04-28_Trial4_5k_smoothened_interpol_COM_ChaseErrorAnglesSpeedAcc.csv',\n",
       " './Data/Outputs/Sampled_1k/Chase\\\\2023-04-28_Trial5_5k_smoothened_interpol_COM_ChaseErrorAnglesSpeedAcc.csv',\n",
       " './Data/Outputs/Sampled_1k/Chase\\\\2023-04-28_Trial8_1k_smoothened_interpol_COM_ChaseErrorAnglesSpeedAcc.csv']"
      ]
     },
     "execution_count": 4,
     "metadata": {},
     "output_type": "execute_result"
    }
   ],
   "source": [
    "chase_param = glob.glob('./Data/Outputs/Sampled_1k/Chase/*ChaseError*.csv')\n",
    "chase_param"
   ]
  },
  {
   "cell_type": "code",
   "execution_count": 6,
   "id": "06763785",
   "metadata": {},
   "outputs": [
    {
     "data": {
      "text/plain": [
       "['./Data/Outputs/Sampled_1k/Speeds\\\\2023-04-19_Trial7_Set1_5k_smoothened_interpol_COM_LinearSpeedAcc.csv',\n",
       " './Data/Outputs/Sampled_1k/Speeds\\\\2023-04-19_Trial7_Set1_5k_smoothened_interpol_COM_AnglularSpeedAcc.csv',\n",
       " './Data/Outputs/Sampled_1k/Speeds\\\\2023-04-21_Trial6_1k_smoothened_interpol_COM_LinearSpeedAcc.csv',\n",
       " './Data/Outputs/Sampled_1k/Speeds\\\\2023-04-21_Trial6_1k_smoothened_interpol_COM_AnglularSpeedAcc.csv',\n",
       " './Data/Outputs/Sampled_1k/Speeds\\\\2023-04-21_Trial7_1k_smoothened_interpol_COM_LinearSpeedAcc.csv',\n",
       " './Data/Outputs/Sampled_1k/Speeds\\\\2023-04-21_Trial7_1k_smoothened_interpol_COM_AnglularSpeedAcc.csv',\n",
       " './Data/Outputs/Sampled_1k/Speeds\\\\2023-04-28_Trial4_5k_smoothened_interpol_COM_LinearSpeedAcc.csv',\n",
       " './Data/Outputs/Sampled_1k/Speeds\\\\2023-04-28_Trial4_5k_smoothened_interpol_COM_AnglularSpeedAcc.csv',\n",
       " './Data/Outputs/Sampled_1k/Speeds\\\\2023-04-28_Trial5_5k_smoothened_interpol_COM_LinearSpeedAcc.csv',\n",
       " './Data/Outputs/Sampled_1k/Speeds\\\\2023-04-28_Trial5_5k_smoothened_interpol_COM_AnglularSpeedAcc.csv',\n",
       " './Data/Outputs/Sampled_1k/Speeds\\\\2023-04-28_Trial8_1k_smoothened_interpol_COM_LinearSpeedAcc.csv',\n",
       " './Data/Outputs/Sampled_1k/Speeds\\\\2023-04-28_Trial8_1k_smoothened_interpol_COM_AnglularSpeedAcc.csv']"
      ]
     },
     "execution_count": 6,
     "metadata": {},
     "output_type": "execute_result"
    }
   ],
   "source": [
    "speed_param = glob.glob('./Data/Outputs/Sampled_1k/Speeds/*COM*.csv')\n",
    "speed_param"
   ]
  },
  {
   "cell_type": "code",
   "execution_count": 55,
   "id": "2b8881f6",
   "metadata": {},
   "outputs": [],
   "source": [
    "def makeFig_ErrorAngle_AngularSpeed(time_Axis, chase_df, angular_speed_df):\n",
    "    import plotly.graph_objects as go\n",
    "    from plotly.subplots import make_subplots\n",
    "\n",
    "    # Create the subplot figure\n",
    "    fig = make_subplots(\n",
    "        rows=2, cols=2,\n",
    "        specs=[[{\"type\": \"xy\"}, {\"type\": \"xy\"}],\n",
    "               [{\"type\": \"xy\"}, {\"type\": \"xy\"}]]\n",
    "        ,subplot_titles=(\"Error Angle (theta)\", \"Error Angle (phi)\", 'Angular Speed (theta)', 'Angular speed (phi)')\n",
    "    )\n",
    "\n",
    "\n",
    "    fig.add_trace(go.Scatter(\n",
    "        x = time_Axis, y = chase_df.loc[:,'chase_theta']\n",
    "        , mode = 'lines'\n",
    "        )\n",
    "                  ,row=1, col=1\n",
    "        )\n",
    "\n",
    "    fig.add_trace(go.Scatter(\n",
    "        x = time_Axis, y = angular_speed_df.loc[:,'chaser_theta_speed']\n",
    "        , mode = 'lines'\n",
    "        )\n",
    "                  ,row=2, col=1\n",
    "        )\n",
    "\n",
    "    fig.add_trace(go.Scatter(\n",
    "        x = time_Axis, y = chase_df.loc[:,'chase_phi']\n",
    "        , mode = 'lines'\n",
    "        )\n",
    "                  ,row=1, col=2\n",
    "        )\n",
    "\n",
    "    fig.add_trace(go.Scatter(\n",
    "        x = time_Axis, y = angular_speed_df.loc[:,'chaser_phi_speed']\n",
    "        , mode = 'lines'\n",
    "        )\n",
    "                  ,row=2, col=2\n",
    "        )\n",
    "    \n",
    "    return(fig)"
   ]
  },
  {
   "cell_type": "code",
   "execution_count": 56,
   "id": "90ae3e11",
   "metadata": {},
   "outputs": [
    {
     "data": {
      "application/vnd.plotly.v1+json": {
       "config": {
        "plotlyServerURL": "https://plot.ly"
       },
       "data": [
        {
         "mode": "lines",
         "type": "scatter",
         "x": [
          0,
          1,
          2,
          3,
          4,
          5,
          6,
          7,
          8,
          9,
          10,
          11,
          12,
          13,
          14,
          15,
          16,
          17,
          18,
          19,
          20,
          21,
          22,
          23,
          24,
          25,
          26,
          27,
          28,
          29,
          30,
          31,
          32,
          33,
          34,
          35,
          36,
          37,
          38,
          39,
          40,
          41,
          42,
          43,
          44,
          45,
          46,
          47,
          48,
          49,
          50,
          51,
          52,
          53,
          54,
          55,
          56,
          57,
          58,
          59,
          60,
          61,
          62,
          63,
          64,
          65,
          66,
          67,
          68,
          69,
          70,
          71,
          72,
          73,
          74,
          75,
          76,
          77,
          78,
          79,
          80,
          81,
          82,
          83,
          84,
          85,
          86,
          87
         ],
         "xaxis": "x",
         "y": [
          15.73693964183747,
          15.484256531048112,
          15.267664221133154,
          15.083945096406197,
          14.929944846036117,
          14.8025312847348,
          14.69855924902146,
          14.614840520391676,
          14.548118191841995,
          14.495045250098594,
          14.507635074881112,
          14.516952518319057,
          14.357714652525122,
          14.324021826115816,
          14.22981016784611,
          14.019842539321765,
          13.943558929403071,
          13.795014834971004,
          13.801675951766942,
          13.612268166617255,
          13.603540276571636,
          13.679302127935696,
          13.726204463259196,
          13.643867255139371,
          13.515172631633714,
          13.656804172441367,
          13.493431374426644,
          13.681347642880135,
          13.886223752315496,
          14.166446576988545,
          14.320264519426535,
          14.557965689567716,
          15.01549255238015,
          15.287356830166727,
          15.576230129351748,
          15.849022233081913,
          15.76422812217868,
          15.969934902067706,
          16.072446209650863,
          16.178941563311955,
          16.096213906466353,
          15.987404014254771,
          15.554004732092926,
          15.21044186638596,
          14.488135398915174,
          13.522429186201062,
          12.702166700337084,
          11.58477959972014,
          10.665933932239906,
          9.57416726895508,
          8.531703155012817,
          7.677479004483824,
          6.8514691649621655,
          5.868947194144447,
          5.201856192928335,
          4.827161408477099,
          4.574208993192259,
          4.4694784555927045,
          4.534401395368962,
          4.475239845878413,
          4.532333289554332,
          4.513389568007219,
          4.355121918284544,
          3.5816495776021227,
          2.814248170854269,
          1.9173015646246665,
          0.7971447343265257,
          -0.2984328899817667,
          -1.6948156336881517,
          -3.159566754398583,
          -4.338993098612399,
          -5.62658241268728,
          -7.074540154386398,
          -8.394666597955991,
          -9.574131340976797,
          -10.801463858472308,
          -11.692177776812589,
          -12.34955507418174,
          -12.598092602296754,
          -12.953611229209244,
          -13.121629243037964,
          -13.103934650948805,
          -12.901537333506374,
          -12.513779955338018,
          -11.937942305714705,
          -11.16959373261238,
          -10.20424690537033,
          -9.041425514239004
         ],
         "yaxis": "y"
        },
        {
         "mode": "lines",
         "type": "scatter",
         "x": [
          0,
          1,
          2,
          3,
          4,
          5,
          6,
          7,
          8,
          9,
          10,
          11,
          12,
          13,
          14,
          15,
          16,
          17,
          18,
          19,
          20,
          21,
          22,
          23,
          24,
          25,
          26,
          27,
          28,
          29,
          30,
          31,
          32,
          33,
          34,
          35,
          36,
          37,
          38,
          39,
          40,
          41,
          42,
          43,
          44,
          45,
          46,
          47,
          48,
          49,
          50,
          51,
          52,
          53,
          54,
          55,
          56,
          57,
          58,
          59,
          60,
          61,
          62,
          63,
          64,
          65,
          66,
          67,
          68,
          69,
          70,
          71,
          72,
          73,
          74,
          75,
          76,
          77,
          78,
          79,
          80,
          81,
          82,
          83,
          84,
          85,
          86,
          87
         ],
         "xaxis": "x3",
         "y": [
          80.22321698662293,
          74.859836577848,
          70.17038463256337,
          66.08941731085582,
          62.5588625934016,
          59.52776524097369,
          56.95186199950813,
          546.6961342364572,
          -343.77569264796483,
          -797.8423109332173,
          508.656518729184,
          106.37579681129216,
          288.28765250160046,
          -119.5449563702944,
          341.3833736931824,
          -892.0034709958735,
          973.49968293621,
          -627.1107751768201,
          167.6299895746503,
          619.3152542084882,
          -901.767702443928,
          954.060575385206,
          -1220.4421640269527,
          1551.119030510226,
          -869.3417010510274,
          146.7533209771191,
          291.5165621216214,
          -1030.2139365128487,
          -210.3166240295745,
          481.7321479327473,
          752.8863621443198,
          -1130.66152627691,
          343.6089144101376,
          -115.0139625143456,
          934.1204176034464,
          603.4129063493106,
          -1120.386142729981,
          222.42549703112115,
          -154.68690468401945,
          507.6101232435457,
          139.3943878438142,
          -799.7902546034901,
          1500.759369927667,
          -1064.3484714059484,
          971.370158414372,
          -1096.8888079365918,
          98.2689233524262,
          438.5566419223037,
          -197.860936767134,
          1159.3058981391534,
          -1620.0377892566323,
          1114.6821478242948,
          714.3720019274933,
          -630.1323121691757,
          99.66420265891406,
          -1067.3604850100564,
          1244.5721640640304,
          -705.7293519409737,
          521.0580787509654,
          386.2469860032804,
          -107.60313402738464,
          34.315201037182106,
          -303.42329397065714,
          -305.392510253558,
          -220.7922688182672,
          534.8179246605418,
          119.1486254687766,
          -148.17042866110475,
          -12.775171145470445,
          -319.888522026752,
          -5.884756064154617,
          295.72088181085854,
          -1198.130239790501,
          642.1267073241332,
          4.124160788457898,
          -99.213108035353,
          -15.057545527147775,
          222.97168152752155,
          -7.215717523149201,
          -12.198253042764671,
          -16.918100271869353,
          -21.28967990177733,
          -25.242471667874742,
          -28.72307606978841,
          -31.69609082203806,
          null
         ],
         "yaxis": "y3"
        },
        {
         "mode": "lines",
         "type": "scatter",
         "x": [
          0,
          1,
          2,
          3,
          4,
          5,
          6,
          7,
          8,
          9,
          10,
          11,
          12,
          13,
          14,
          15,
          16,
          17,
          18,
          19,
          20,
          21,
          22,
          23,
          24,
          25,
          26,
          27,
          28,
          29,
          30,
          31,
          32,
          33,
          34,
          35,
          36,
          37,
          38,
          39,
          40,
          41,
          42,
          43,
          44,
          45,
          46,
          47,
          48,
          49,
          50,
          51,
          52,
          53,
          54,
          55,
          56,
          57,
          58,
          59,
          60,
          61,
          62,
          63,
          64,
          65,
          66,
          67,
          68,
          69,
          70,
          71,
          72,
          73,
          74,
          75,
          76,
          77,
          78,
          79,
          80,
          81,
          82,
          83,
          84,
          85,
          86,
          87
         ],
         "xaxis": "x2",
         "y": [
          -5.714407296154631,
          -6.634610714747797,
          -7.369338982375089,
          -7.936533011814255,
          -8.353395298372643,
          -8.63655680573687,
          -8.802255859212977,
          -8.866506786373318,
          -8.845243349581041,
          -8.754427574463064,
          -8.509094439657762,
          -8.271700866852917,
          -8.180760920404476,
          -7.973610780404929,
          -7.86461179056252,
          -7.837563461941919,
          -7.753682298349834,
          -7.775127799348685,
          -7.802189056735343,
          -7.97294442886201,
          -8.285447926008091,
          -8.631528829131431,
          -9.125636973352988,
          -9.602244682055606,
          -10.024472819984258,
          -10.38348999592584,
          -10.81850752620092,
          -10.966521365340826,
          -11.14795641217431,
          -11.520100646751036,
          -11.788468885021937,
          -11.904093278413171,
          -11.822027130781567,
          -11.775326000784307,
          -11.65143876792432,
          -11.417209766873675,
          -11.247877433166352,
          -11.128518002925452,
          -10.77826474046707,
          -10.370692731714804,
          -10.04352154739138,
          -9.730074012403549,
          -9.294497403430611,
          -8.900907894403467,
          -8.590211387772484,
          -8.397677534139886,
          -7.922111651976897,
          -7.685169696918555,
          -7.400902411066103,
          -7.039351465022241,
          -6.929458320556772,
          -6.608030664069541,
          -6.3271193237358885,
          -6.073823124325157,
          -5.746911856041256,
          -5.419604684054231,
          -4.87067525055544,
          -4.196482775486234,
          -3.739780504095431,
          -3.4468490985288978,
          -2.999046868293905,
          -2.643844878142485,
          -2.4047522416381213,
          -2.3254444250225745,
          -2.036461984833411,
          -1.6897546837800217,
          -1.451101116681816,
          -1.0919354290684384,
          -0.7817142908090212,
          -0.66878900689543,
          -0.0188187543353986,
          0.4167026950173054,
          0.8510948772125836,
          1.6445561387907766,
          2.192163530195027,
          2.7792554026345044,
          3.335048958390696,
          3.854273254991894,
          4.118440025624119,
          4.716385031853479,
          5.437027778950759,
          6.319123581102632,
          7.406546248252749,
          8.751218487784774,
          10.417654491782184,
          12.490331169560502,
          15.086343612009683,
          18.378621941048177
         ],
         "yaxis": "y2"
        },
        {
         "mode": "lines",
         "type": "scatter",
         "x": [
          0,
          1,
          2,
          3,
          4,
          5,
          6,
          7,
          8,
          9,
          10,
          11,
          12,
          13,
          14,
          15,
          16,
          17,
          18,
          19,
          20,
          21,
          22,
          23,
          24,
          25,
          26,
          27,
          28,
          29,
          30,
          31,
          32,
          33,
          34,
          35,
          36,
          37,
          38,
          39,
          40,
          41,
          42,
          43,
          44,
          45,
          46,
          47,
          48,
          49,
          50,
          51,
          52,
          53,
          54,
          55,
          56,
          57,
          58,
          59,
          60,
          61,
          62,
          63,
          64,
          65,
          66,
          67,
          68,
          69,
          70,
          71,
          72,
          73,
          74,
          75,
          76,
          77,
          78,
          79,
          80,
          81,
          82,
          83,
          84,
          85,
          86,
          87
         ],
         "xaxis": "x4",
         "y": [
          -60.36663067548169,
          -59.44909169019953,
          -58.42345028057163,
          -57.29723288893079,
          -56.0764574702828,
          -54.76581856164409,
          -53.368896758851896,
          39.79648882710718,
          -480.3289020910041,
          -115.61533506996258,
          424.4175817054395,
          93.60587451459052,
          -705.3174961929176,
          930.7929614510472,
          -583.6929840356636,
          152.4144114195013,
          -63.19661547463651,
          -723.5957668572867,
          1595.882925972408,
          -702.3039748854098,
          29.690118753706308,
          798.9141376291475,
          -1315.336183145775,
          1024.3491809424847,
          -382.4284516011234,
          32.85243961952733,
          -811.1122468945752,
          855.7465293177152,
          -390.05048399205657,
          -198.95954750902143,
          274.71517235477927,
          -601.3832184802043,
          287.4245401373116,
          -585.3813779674527,
          687.8218569465217,
          914.816431608619,
          -576.3057976457256,
          751.7226616796199,
          -1214.113040158225,
          858.2930060410129,
          164.0410169477186,
          -781.8755241916095,
          1037.1789237022142,
          -318.237084456278,
          58.43485089515757,
          -932.0711943953904,
          1519.3475767105742,
          -1221.1824904909954,
          -66.75687881544745,
          523.7072302611699,
          -344.2361872872417,
          -199.69355994029516,
          -55.44242981743464,
          1059.657227991299,
          -126.2027184465554,
          -872.4863178667299,
          514.039715610075,
          -912.2001594978864,
          794.948824619061,
          134.24939075729935,
          -828.3633296832704,
          1091.2900578572428,
          -880.0802210419871,
          338.89375655952364,
          -222.96172248193025,
          279.014922510479,
          -341.18099997309093,
          109.48916988142877,
          232.05453720536937,
          -382.59798203592334,
          -133.79856871518592,
          402.9348032180873,
          -56.84667860166087,
          130.95303133130153,
          -50.19421776093241,
          -145.14421432062497,
          231.13073127812444,
          -34.08466699491128,
          40.15150264146244,
          39.52299672846374,
          38.7029448389756,
          37.71067123275478,
          36.565956823024045,
          35.28866929568236,
          33.898446257611496,
          null
         ],
         "yaxis": "y4"
        }
       ],
       "layout": {
        "annotations": [
         {
          "font": {
           "size": 16
          },
          "showarrow": false,
          "text": "Error Angle (theta)",
          "x": 0.225,
          "xanchor": "center",
          "xref": "paper",
          "y": 1,
          "yanchor": "bottom",
          "yref": "paper"
         },
         {
          "font": {
           "size": 16
          },
          "showarrow": false,
          "text": "Error Angle (phi)",
          "x": 0.775,
          "xanchor": "center",
          "xref": "paper",
          "y": 1,
          "yanchor": "bottom",
          "yref": "paper"
         },
         {
          "font": {
           "size": 16
          },
          "showarrow": false,
          "text": "Angular Speed (theta)",
          "x": 0.225,
          "xanchor": "center",
          "xref": "paper",
          "y": 0.375,
          "yanchor": "bottom",
          "yref": "paper"
         },
         {
          "font": {
           "size": 16
          },
          "showarrow": false,
          "text": "Angular speed (phi)",
          "x": 0.775,
          "xanchor": "center",
          "xref": "paper",
          "y": 0.375,
          "yanchor": "bottom",
          "yref": "paper"
         }
        ],
        "template": {
         "data": {
          "bar": [
           {
            "error_x": {
             "color": "#2a3f5f"
            },
            "error_y": {
             "color": "#2a3f5f"
            },
            "marker": {
             "line": {
              "color": "#E5ECF6",
              "width": 0.5
             },
             "pattern": {
              "fillmode": "overlay",
              "size": 10,
              "solidity": 0.2
             }
            },
            "type": "bar"
           }
          ],
          "barpolar": [
           {
            "marker": {
             "line": {
              "color": "#E5ECF6",
              "width": 0.5
             },
             "pattern": {
              "fillmode": "overlay",
              "size": 10,
              "solidity": 0.2
             }
            },
            "type": "barpolar"
           }
          ],
          "carpet": [
           {
            "aaxis": {
             "endlinecolor": "#2a3f5f",
             "gridcolor": "white",
             "linecolor": "white",
             "minorgridcolor": "white",
             "startlinecolor": "#2a3f5f"
            },
            "baxis": {
             "endlinecolor": "#2a3f5f",
             "gridcolor": "white",
             "linecolor": "white",
             "minorgridcolor": "white",
             "startlinecolor": "#2a3f5f"
            },
            "type": "carpet"
           }
          ],
          "choropleth": [
           {
            "colorbar": {
             "outlinewidth": 0,
             "ticks": ""
            },
            "type": "choropleth"
           }
          ],
          "contour": [
           {
            "colorbar": {
             "outlinewidth": 0,
             "ticks": ""
            },
            "colorscale": [
             [
              0,
              "#0d0887"
             ],
             [
              0.1111111111111111,
              "#46039f"
             ],
             [
              0.2222222222222222,
              "#7201a8"
             ],
             [
              0.3333333333333333,
              "#9c179e"
             ],
             [
              0.4444444444444444,
              "#bd3786"
             ],
             [
              0.5555555555555556,
              "#d8576b"
             ],
             [
              0.6666666666666666,
              "#ed7953"
             ],
             [
              0.7777777777777778,
              "#fb9f3a"
             ],
             [
              0.8888888888888888,
              "#fdca26"
             ],
             [
              1,
              "#f0f921"
             ]
            ],
            "type": "contour"
           }
          ],
          "contourcarpet": [
           {
            "colorbar": {
             "outlinewidth": 0,
             "ticks": ""
            },
            "type": "contourcarpet"
           }
          ],
          "heatmap": [
           {
            "colorbar": {
             "outlinewidth": 0,
             "ticks": ""
            },
            "colorscale": [
             [
              0,
              "#0d0887"
             ],
             [
              0.1111111111111111,
              "#46039f"
             ],
             [
              0.2222222222222222,
              "#7201a8"
             ],
             [
              0.3333333333333333,
              "#9c179e"
             ],
             [
              0.4444444444444444,
              "#bd3786"
             ],
             [
              0.5555555555555556,
              "#d8576b"
             ],
             [
              0.6666666666666666,
              "#ed7953"
             ],
             [
              0.7777777777777778,
              "#fb9f3a"
             ],
             [
              0.8888888888888888,
              "#fdca26"
             ],
             [
              1,
              "#f0f921"
             ]
            ],
            "type": "heatmap"
           }
          ],
          "heatmapgl": [
           {
            "colorbar": {
             "outlinewidth": 0,
             "ticks": ""
            },
            "colorscale": [
             [
              0,
              "#0d0887"
             ],
             [
              0.1111111111111111,
              "#46039f"
             ],
             [
              0.2222222222222222,
              "#7201a8"
             ],
             [
              0.3333333333333333,
              "#9c179e"
             ],
             [
              0.4444444444444444,
              "#bd3786"
             ],
             [
              0.5555555555555556,
              "#d8576b"
             ],
             [
              0.6666666666666666,
              "#ed7953"
             ],
             [
              0.7777777777777778,
              "#fb9f3a"
             ],
             [
              0.8888888888888888,
              "#fdca26"
             ],
             [
              1,
              "#f0f921"
             ]
            ],
            "type": "heatmapgl"
           }
          ],
          "histogram": [
           {
            "marker": {
             "pattern": {
              "fillmode": "overlay",
              "size": 10,
              "solidity": 0.2
             }
            },
            "type": "histogram"
           }
          ],
          "histogram2d": [
           {
            "colorbar": {
             "outlinewidth": 0,
             "ticks": ""
            },
            "colorscale": [
             [
              0,
              "#0d0887"
             ],
             [
              0.1111111111111111,
              "#46039f"
             ],
             [
              0.2222222222222222,
              "#7201a8"
             ],
             [
              0.3333333333333333,
              "#9c179e"
             ],
             [
              0.4444444444444444,
              "#bd3786"
             ],
             [
              0.5555555555555556,
              "#d8576b"
             ],
             [
              0.6666666666666666,
              "#ed7953"
             ],
             [
              0.7777777777777778,
              "#fb9f3a"
             ],
             [
              0.8888888888888888,
              "#fdca26"
             ],
             [
              1,
              "#f0f921"
             ]
            ],
            "type": "histogram2d"
           }
          ],
          "histogram2dcontour": [
           {
            "colorbar": {
             "outlinewidth": 0,
             "ticks": ""
            },
            "colorscale": [
             [
              0,
              "#0d0887"
             ],
             [
              0.1111111111111111,
              "#46039f"
             ],
             [
              0.2222222222222222,
              "#7201a8"
             ],
             [
              0.3333333333333333,
              "#9c179e"
             ],
             [
              0.4444444444444444,
              "#bd3786"
             ],
             [
              0.5555555555555556,
              "#d8576b"
             ],
             [
              0.6666666666666666,
              "#ed7953"
             ],
             [
              0.7777777777777778,
              "#fb9f3a"
             ],
             [
              0.8888888888888888,
              "#fdca26"
             ],
             [
              1,
              "#f0f921"
             ]
            ],
            "type": "histogram2dcontour"
           }
          ],
          "mesh3d": [
           {
            "colorbar": {
             "outlinewidth": 0,
             "ticks": ""
            },
            "type": "mesh3d"
           }
          ],
          "parcoords": [
           {
            "line": {
             "colorbar": {
              "outlinewidth": 0,
              "ticks": ""
             }
            },
            "type": "parcoords"
           }
          ],
          "pie": [
           {
            "automargin": true,
            "type": "pie"
           }
          ],
          "scatter": [
           {
            "fillpattern": {
             "fillmode": "overlay",
             "size": 10,
             "solidity": 0.2
            },
            "type": "scatter"
           }
          ],
          "scatter3d": [
           {
            "line": {
             "colorbar": {
              "outlinewidth": 0,
              "ticks": ""
             }
            },
            "marker": {
             "colorbar": {
              "outlinewidth": 0,
              "ticks": ""
             }
            },
            "type": "scatter3d"
           }
          ],
          "scattercarpet": [
           {
            "marker": {
             "colorbar": {
              "outlinewidth": 0,
              "ticks": ""
             }
            },
            "type": "scattercarpet"
           }
          ],
          "scattergeo": [
           {
            "marker": {
             "colorbar": {
              "outlinewidth": 0,
              "ticks": ""
             }
            },
            "type": "scattergeo"
           }
          ],
          "scattergl": [
           {
            "marker": {
             "colorbar": {
              "outlinewidth": 0,
              "ticks": ""
             }
            },
            "type": "scattergl"
           }
          ],
          "scattermapbox": [
           {
            "marker": {
             "colorbar": {
              "outlinewidth": 0,
              "ticks": ""
             }
            },
            "type": "scattermapbox"
           }
          ],
          "scatterpolar": [
           {
            "marker": {
             "colorbar": {
              "outlinewidth": 0,
              "ticks": ""
             }
            },
            "type": "scatterpolar"
           }
          ],
          "scatterpolargl": [
           {
            "marker": {
             "colorbar": {
              "outlinewidth": 0,
              "ticks": ""
             }
            },
            "type": "scatterpolargl"
           }
          ],
          "scatterternary": [
           {
            "marker": {
             "colorbar": {
              "outlinewidth": 0,
              "ticks": ""
             }
            },
            "type": "scatterternary"
           }
          ],
          "surface": [
           {
            "colorbar": {
             "outlinewidth": 0,
             "ticks": ""
            },
            "colorscale": [
             [
              0,
              "#0d0887"
             ],
             [
              0.1111111111111111,
              "#46039f"
             ],
             [
              0.2222222222222222,
              "#7201a8"
             ],
             [
              0.3333333333333333,
              "#9c179e"
             ],
             [
              0.4444444444444444,
              "#bd3786"
             ],
             [
              0.5555555555555556,
              "#d8576b"
             ],
             [
              0.6666666666666666,
              "#ed7953"
             ],
             [
              0.7777777777777778,
              "#fb9f3a"
             ],
             [
              0.8888888888888888,
              "#fdca26"
             ],
             [
              1,
              "#f0f921"
             ]
            ],
            "type": "surface"
           }
          ],
          "table": [
           {
            "cells": {
             "fill": {
              "color": "#EBF0F8"
             },
             "line": {
              "color": "white"
             }
            },
            "header": {
             "fill": {
              "color": "#C8D4E3"
             },
             "line": {
              "color": "white"
             }
            },
            "type": "table"
           }
          ]
         },
         "layout": {
          "annotationdefaults": {
           "arrowcolor": "#2a3f5f",
           "arrowhead": 0,
           "arrowwidth": 1
          },
          "autotypenumbers": "strict",
          "coloraxis": {
           "colorbar": {
            "outlinewidth": 0,
            "ticks": ""
           }
          },
          "colorscale": {
           "diverging": [
            [
             0,
             "#8e0152"
            ],
            [
             0.1,
             "#c51b7d"
            ],
            [
             0.2,
             "#de77ae"
            ],
            [
             0.3,
             "#f1b6da"
            ],
            [
             0.4,
             "#fde0ef"
            ],
            [
             0.5,
             "#f7f7f7"
            ],
            [
             0.6,
             "#e6f5d0"
            ],
            [
             0.7,
             "#b8e186"
            ],
            [
             0.8,
             "#7fbc41"
            ],
            [
             0.9,
             "#4d9221"
            ],
            [
             1,
             "#276419"
            ]
           ],
           "sequential": [
            [
             0,
             "#0d0887"
            ],
            [
             0.1111111111111111,
             "#46039f"
            ],
            [
             0.2222222222222222,
             "#7201a8"
            ],
            [
             0.3333333333333333,
             "#9c179e"
            ],
            [
             0.4444444444444444,
             "#bd3786"
            ],
            [
             0.5555555555555556,
             "#d8576b"
            ],
            [
             0.6666666666666666,
             "#ed7953"
            ],
            [
             0.7777777777777778,
             "#fb9f3a"
            ],
            [
             0.8888888888888888,
             "#fdca26"
            ],
            [
             1,
             "#f0f921"
            ]
           ],
           "sequentialminus": [
            [
             0,
             "#0d0887"
            ],
            [
             0.1111111111111111,
             "#46039f"
            ],
            [
             0.2222222222222222,
             "#7201a8"
            ],
            [
             0.3333333333333333,
             "#9c179e"
            ],
            [
             0.4444444444444444,
             "#bd3786"
            ],
            [
             0.5555555555555556,
             "#d8576b"
            ],
            [
             0.6666666666666666,
             "#ed7953"
            ],
            [
             0.7777777777777778,
             "#fb9f3a"
            ],
            [
             0.8888888888888888,
             "#fdca26"
            ],
            [
             1,
             "#f0f921"
            ]
           ]
          },
          "colorway": [
           "#636efa",
           "#EF553B",
           "#00cc96",
           "#ab63fa",
           "#FFA15A",
           "#19d3f3",
           "#FF6692",
           "#B6E880",
           "#FF97FF",
           "#FECB52"
          ],
          "font": {
           "color": "#2a3f5f"
          },
          "geo": {
           "bgcolor": "white",
           "lakecolor": "white",
           "landcolor": "#E5ECF6",
           "showlakes": true,
           "showland": true,
           "subunitcolor": "white"
          },
          "hoverlabel": {
           "align": "left"
          },
          "hovermode": "closest",
          "mapbox": {
           "style": "light"
          },
          "paper_bgcolor": "white",
          "plot_bgcolor": "#E5ECF6",
          "polar": {
           "angularaxis": {
            "gridcolor": "white",
            "linecolor": "white",
            "ticks": ""
           },
           "bgcolor": "#E5ECF6",
           "radialaxis": {
            "gridcolor": "white",
            "linecolor": "white",
            "ticks": ""
           }
          },
          "scene": {
           "xaxis": {
            "backgroundcolor": "#E5ECF6",
            "gridcolor": "white",
            "gridwidth": 2,
            "linecolor": "white",
            "showbackground": true,
            "ticks": "",
            "zerolinecolor": "white"
           },
           "yaxis": {
            "backgroundcolor": "#E5ECF6",
            "gridcolor": "white",
            "gridwidth": 2,
            "linecolor": "white",
            "showbackground": true,
            "ticks": "",
            "zerolinecolor": "white"
           },
           "zaxis": {
            "backgroundcolor": "#E5ECF6",
            "gridcolor": "white",
            "gridwidth": 2,
            "linecolor": "white",
            "showbackground": true,
            "ticks": "",
            "zerolinecolor": "white"
           }
          },
          "shapedefaults": {
           "line": {
            "color": "#2a3f5f"
           }
          },
          "ternary": {
           "aaxis": {
            "gridcolor": "white",
            "linecolor": "white",
            "ticks": ""
           },
           "baxis": {
            "gridcolor": "white",
            "linecolor": "white",
            "ticks": ""
           },
           "bgcolor": "#E5ECF6",
           "caxis": {
            "gridcolor": "white",
            "linecolor": "white",
            "ticks": ""
           }
          },
          "title": {
           "x": 0.05
          },
          "xaxis": {
           "automargin": true,
           "gridcolor": "white",
           "linecolor": "white",
           "ticks": "",
           "title": {
            "standoff": 15
           },
           "zerolinecolor": "white",
           "zerolinewidth": 2
          },
          "yaxis": {
           "automargin": true,
           "gridcolor": "white",
           "linecolor": "white",
           "ticks": "",
           "title": {
            "standoff": 15
           },
           "zerolinecolor": "white",
           "zerolinewidth": 2
          }
         }
        },
        "xaxis": {
         "anchor": "y",
         "domain": [
          0,
          0.45
         ]
        },
        "xaxis2": {
         "anchor": "y2",
         "domain": [
          0.55,
          1
         ]
        },
        "xaxis3": {
         "anchor": "y3",
         "domain": [
          0,
          0.45
         ]
        },
        "xaxis4": {
         "anchor": "y4",
         "domain": [
          0.55,
          1
         ]
        },
        "yaxis": {
         "anchor": "x",
         "domain": [
          0.625,
          1
         ]
        },
        "yaxis2": {
         "anchor": "x2",
         "domain": [
          0.625,
          1
         ]
        },
        "yaxis3": {
         "anchor": "x3",
         "domain": [
          0,
          0.375
         ]
        },
        "yaxis4": {
         "anchor": "x4",
         "domain": [
          0,
          0.375
         ]
        }
       }
      },
      "text/html": [
       "<div>                            <div id=\"802f8fc1-e1cf-4e45-8098-fcdab41100c4\" class=\"plotly-graph-div\" style=\"height:525px; width:100%;\"></div>            <script type=\"text/javascript\">                require([\"plotly\"], function(Plotly) {                    window.PLOTLYENV=window.PLOTLYENV || {};                                    if (document.getElementById(\"802f8fc1-e1cf-4e45-8098-fcdab41100c4\")) {                    Plotly.newPlot(                        \"802f8fc1-e1cf-4e45-8098-fcdab41100c4\",                        [{\"mode\":\"lines\",\"x\":[0.0,1.0,2.0,3.0,4.0,5.0,6.0,7.0,8.0,9.0,10.0,11.0,12.0,13.0,14.0,15.0,16.0,17.0,18.0,19.0,20.0,21.0,22.0,23.0,24.0,25.0,26.0,27.0,28.0,29.0,30.0,31.0,32.0,33.0,34.0,35.0,36.0,37.0,38.0,39.0,40.0,41.0,42.0,43.0,44.0,45.0,46.0,47.0,48.0,49.0,50.0,51.0,52.0,53.0,54.0,55.0,56.0,57.0,58.0,59.0,60.0,61.0,62.0,63.0,64.0,65.0,66.0,67.0,68.0,69.0,70.0,71.0,72.0,73.0,74.0,75.0,76.0,77.0,78.0,79.0,80.0,81.0,82.0,83.0,84.0,85.0,86.0,87.0],\"y\":[15.73693964183747,15.484256531048112,15.267664221133154,15.083945096406197,14.929944846036117,14.8025312847348,14.69855924902146,14.614840520391676,14.548118191841995,14.495045250098594,14.507635074881112,14.516952518319057,14.357714652525122,14.324021826115816,14.22981016784611,14.019842539321765,13.943558929403071,13.795014834971004,13.801675951766942,13.612268166617255,13.603540276571636,13.679302127935696,13.726204463259196,13.643867255139371,13.515172631633714,13.656804172441367,13.493431374426644,13.681347642880135,13.886223752315496,14.166446576988545,14.320264519426535,14.557965689567716,15.01549255238015,15.287356830166727,15.576230129351748,15.849022233081913,15.76422812217868,15.969934902067706,16.072446209650863,16.178941563311955,16.096213906466353,15.987404014254771,15.554004732092926,15.21044186638596,14.488135398915174,13.522429186201062,12.702166700337084,11.58477959972014,10.665933932239906,9.57416726895508,8.531703155012817,7.677479004483824,6.8514691649621655,5.868947194144447,5.201856192928335,4.827161408477099,4.574208993192259,4.4694784555927045,4.534401395368962,4.475239845878413,4.532333289554332,4.513389568007219,4.355121918284544,3.5816495776021227,2.814248170854269,1.9173015646246665,0.7971447343265257,-0.2984328899817667,-1.6948156336881517,-3.159566754398583,-4.338993098612399,-5.62658241268728,-7.074540154386398,-8.394666597955991,-9.574131340976797,-10.801463858472308,-11.692177776812589,-12.34955507418174,-12.598092602296754,-12.953611229209244,-13.121629243037964,-13.103934650948805,-12.901537333506374,-12.513779955338018,-11.937942305714705,-11.16959373261238,-10.20424690537033,-9.041425514239004],\"type\":\"scatter\",\"xaxis\":\"x\",\"yaxis\":\"y\"},{\"mode\":\"lines\",\"x\":[0.0,1.0,2.0,3.0,4.0,5.0,6.0,7.0,8.0,9.0,10.0,11.0,12.0,13.0,14.0,15.0,16.0,17.0,18.0,19.0,20.0,21.0,22.0,23.0,24.0,25.0,26.0,27.0,28.0,29.0,30.0,31.0,32.0,33.0,34.0,35.0,36.0,37.0,38.0,39.0,40.0,41.0,42.0,43.0,44.0,45.0,46.0,47.0,48.0,49.0,50.0,51.0,52.0,53.0,54.0,55.0,56.0,57.0,58.0,59.0,60.0,61.0,62.0,63.0,64.0,65.0,66.0,67.0,68.0,69.0,70.0,71.0,72.0,73.0,74.0,75.0,76.0,77.0,78.0,79.0,80.0,81.0,82.0,83.0,84.0,85.0,86.0,87.0],\"y\":[80.22321698662293,74.859836577848,70.17038463256337,66.08941731085582,62.5588625934016,59.52776524097369,56.95186199950813,546.6961342364572,-343.77569264796483,-797.8423109332173,508.656518729184,106.37579681129216,288.28765250160046,-119.5449563702944,341.3833736931824,-892.0034709958735,973.49968293621,-627.1107751768201,167.6299895746503,619.3152542084882,-901.767702443928,954.060575385206,-1220.4421640269527,1551.119030510226,-869.3417010510274,146.7533209771191,291.5165621216214,-1030.2139365128487,-210.3166240295745,481.7321479327473,752.8863621443198,-1130.66152627691,343.6089144101376,-115.0139625143456,934.1204176034464,603.4129063493106,-1120.386142729981,222.42549703112115,-154.68690468401945,507.6101232435457,139.3943878438142,-799.7902546034901,1500.759369927667,-1064.3484714059484,971.370158414372,-1096.8888079365918,98.2689233524262,438.5566419223037,-197.860936767134,1159.3058981391534,-1620.0377892566323,1114.6821478242948,714.3720019274933,-630.1323121691757,99.66420265891406,-1067.3604850100564,1244.5721640640304,-705.7293519409737,521.0580787509654,386.2469860032804,-107.60313402738464,34.315201037182106,-303.42329397065714,-305.392510253558,-220.7922688182672,534.8179246605418,119.1486254687766,-148.17042866110475,-12.775171145470445,-319.888522026752,-5.884756064154617,295.72088181085854,-1198.130239790501,642.1267073241332,4.124160788457898,-99.213108035353,-15.057545527147775,222.97168152752155,-7.215717523149201,-12.198253042764671,-16.918100271869353,-21.28967990177733,-25.242471667874742,-28.72307606978841,-31.69609082203806,null],\"type\":\"scatter\",\"xaxis\":\"x3\",\"yaxis\":\"y3\"},{\"mode\":\"lines\",\"x\":[0.0,1.0,2.0,3.0,4.0,5.0,6.0,7.0,8.0,9.0,10.0,11.0,12.0,13.0,14.0,15.0,16.0,17.0,18.0,19.0,20.0,21.0,22.0,23.0,24.0,25.0,26.0,27.0,28.0,29.0,30.0,31.0,32.0,33.0,34.0,35.0,36.0,37.0,38.0,39.0,40.0,41.0,42.0,43.0,44.0,45.0,46.0,47.0,48.0,49.0,50.0,51.0,52.0,53.0,54.0,55.0,56.0,57.0,58.0,59.0,60.0,61.0,62.0,63.0,64.0,65.0,66.0,67.0,68.0,69.0,70.0,71.0,72.0,73.0,74.0,75.0,76.0,77.0,78.0,79.0,80.0,81.0,82.0,83.0,84.0,85.0,86.0,87.0],\"y\":[-5.714407296154631,-6.634610714747797,-7.369338982375089,-7.936533011814255,-8.353395298372643,-8.63655680573687,-8.802255859212977,-8.866506786373318,-8.845243349581041,-8.754427574463064,-8.509094439657762,-8.271700866852917,-8.180760920404476,-7.973610780404929,-7.86461179056252,-7.837563461941919,-7.753682298349834,-7.775127799348685,-7.802189056735343,-7.97294442886201,-8.285447926008091,-8.631528829131431,-9.125636973352988,-9.602244682055606,-10.024472819984258,-10.38348999592584,-10.81850752620092,-10.966521365340826,-11.14795641217431,-11.520100646751036,-11.788468885021937,-11.904093278413171,-11.822027130781567,-11.775326000784307,-11.65143876792432,-11.417209766873675,-11.247877433166352,-11.128518002925452,-10.77826474046707,-10.370692731714804,-10.04352154739138,-9.730074012403549,-9.294497403430611,-8.900907894403467,-8.590211387772484,-8.397677534139886,-7.922111651976897,-7.685169696918555,-7.400902411066103,-7.039351465022241,-6.929458320556772,-6.608030664069541,-6.3271193237358885,-6.073823124325157,-5.746911856041256,-5.419604684054231,-4.87067525055544,-4.196482775486234,-3.739780504095431,-3.4468490985288978,-2.999046868293905,-2.643844878142485,-2.4047522416381213,-2.3254444250225745,-2.036461984833411,-1.6897546837800217,-1.451101116681816,-1.0919354290684384,-0.7817142908090212,-0.66878900689543,-0.0188187543353986,0.4167026950173054,0.8510948772125836,1.6445561387907766,2.192163530195027,2.7792554026345044,3.335048958390696,3.854273254991894,4.118440025624119,4.716385031853479,5.437027778950759,6.319123581102632,7.406546248252749,8.751218487784774,10.417654491782184,12.490331169560502,15.086343612009683,18.378621941048177],\"type\":\"scatter\",\"xaxis\":\"x2\",\"yaxis\":\"y2\"},{\"mode\":\"lines\",\"x\":[0.0,1.0,2.0,3.0,4.0,5.0,6.0,7.0,8.0,9.0,10.0,11.0,12.0,13.0,14.0,15.0,16.0,17.0,18.0,19.0,20.0,21.0,22.0,23.0,24.0,25.0,26.0,27.0,28.0,29.0,30.0,31.0,32.0,33.0,34.0,35.0,36.0,37.0,38.0,39.0,40.0,41.0,42.0,43.0,44.0,45.0,46.0,47.0,48.0,49.0,50.0,51.0,52.0,53.0,54.0,55.0,56.0,57.0,58.0,59.0,60.0,61.0,62.0,63.0,64.0,65.0,66.0,67.0,68.0,69.0,70.0,71.0,72.0,73.0,74.0,75.0,76.0,77.0,78.0,79.0,80.0,81.0,82.0,83.0,84.0,85.0,86.0,87.0],\"y\":[-60.36663067548169,-59.44909169019953,-58.42345028057163,-57.29723288893079,-56.0764574702828,-54.76581856164409,-53.368896758851896,39.79648882710718,-480.3289020910041,-115.61533506996258,424.4175817054395,93.60587451459052,-705.3174961929176,930.7929614510472,-583.6929840356636,152.4144114195013,-63.19661547463651,-723.5957668572867,1595.882925972408,-702.3039748854098,29.690118753706308,798.9141376291475,-1315.336183145775,1024.3491809424847,-382.4284516011234,32.85243961952733,-811.1122468945752,855.7465293177152,-390.05048399205657,-198.95954750902143,274.71517235477927,-601.3832184802043,287.4245401373116,-585.3813779674527,687.8218569465217,914.816431608619,-576.3057976457256,751.7226616796199,-1214.113040158225,858.2930060410129,164.0410169477186,-781.8755241916095,1037.1789237022142,-318.237084456278,58.43485089515757,-932.0711943953904,1519.3475767105742,-1221.1824904909954,-66.75687881544745,523.7072302611699,-344.2361872872417,-199.69355994029516,-55.44242981743464,1059.657227991299,-126.2027184465554,-872.4863178667299,514.039715610075,-912.2001594978864,794.948824619061,134.24939075729935,-828.3633296832704,1091.2900578572428,-880.0802210419871,338.89375655952364,-222.96172248193025,279.014922510479,-341.18099997309093,109.48916988142877,232.05453720536937,-382.59798203592334,-133.79856871518592,402.9348032180873,-56.84667860166087,130.95303133130153,-50.19421776093241,-145.14421432062497,231.13073127812444,-34.08466699491128,40.15150264146244,39.52299672846374,38.7029448389756,37.71067123275478,36.565956823024045,35.28866929568236,33.898446257611496,null],\"type\":\"scatter\",\"xaxis\":\"x4\",\"yaxis\":\"y4\"}],                        {\"template\":{\"data\":{\"histogram2dcontour\":[{\"type\":\"histogram2dcontour\",\"colorbar\":{\"outlinewidth\":0,\"ticks\":\"\"},\"colorscale\":[[0.0,\"#0d0887\"],[0.1111111111111111,\"#46039f\"],[0.2222222222222222,\"#7201a8\"],[0.3333333333333333,\"#9c179e\"],[0.4444444444444444,\"#bd3786\"],[0.5555555555555556,\"#d8576b\"],[0.6666666666666666,\"#ed7953\"],[0.7777777777777778,\"#fb9f3a\"],[0.8888888888888888,\"#fdca26\"],[1.0,\"#f0f921\"]]}],\"choropleth\":[{\"type\":\"choropleth\",\"colorbar\":{\"outlinewidth\":0,\"ticks\":\"\"}}],\"histogram2d\":[{\"type\":\"histogram2d\",\"colorbar\":{\"outlinewidth\":0,\"ticks\":\"\"},\"colorscale\":[[0.0,\"#0d0887\"],[0.1111111111111111,\"#46039f\"],[0.2222222222222222,\"#7201a8\"],[0.3333333333333333,\"#9c179e\"],[0.4444444444444444,\"#bd3786\"],[0.5555555555555556,\"#d8576b\"],[0.6666666666666666,\"#ed7953\"],[0.7777777777777778,\"#fb9f3a\"],[0.8888888888888888,\"#fdca26\"],[1.0,\"#f0f921\"]]}],\"heatmap\":[{\"type\":\"heatmap\",\"colorbar\":{\"outlinewidth\":0,\"ticks\":\"\"},\"colorscale\":[[0.0,\"#0d0887\"],[0.1111111111111111,\"#46039f\"],[0.2222222222222222,\"#7201a8\"],[0.3333333333333333,\"#9c179e\"],[0.4444444444444444,\"#bd3786\"],[0.5555555555555556,\"#d8576b\"],[0.6666666666666666,\"#ed7953\"],[0.7777777777777778,\"#fb9f3a\"],[0.8888888888888888,\"#fdca26\"],[1.0,\"#f0f921\"]]}],\"heatmapgl\":[{\"type\":\"heatmapgl\",\"colorbar\":{\"outlinewidth\":0,\"ticks\":\"\"},\"colorscale\":[[0.0,\"#0d0887\"],[0.1111111111111111,\"#46039f\"],[0.2222222222222222,\"#7201a8\"],[0.3333333333333333,\"#9c179e\"],[0.4444444444444444,\"#bd3786\"],[0.5555555555555556,\"#d8576b\"],[0.6666666666666666,\"#ed7953\"],[0.7777777777777778,\"#fb9f3a\"],[0.8888888888888888,\"#fdca26\"],[1.0,\"#f0f921\"]]}],\"contourcarpet\":[{\"type\":\"contourcarpet\",\"colorbar\":{\"outlinewidth\":0,\"ticks\":\"\"}}],\"contour\":[{\"type\":\"contour\",\"colorbar\":{\"outlinewidth\":0,\"ticks\":\"\"},\"colorscale\":[[0.0,\"#0d0887\"],[0.1111111111111111,\"#46039f\"],[0.2222222222222222,\"#7201a8\"],[0.3333333333333333,\"#9c179e\"],[0.4444444444444444,\"#bd3786\"],[0.5555555555555556,\"#d8576b\"],[0.6666666666666666,\"#ed7953\"],[0.7777777777777778,\"#fb9f3a\"],[0.8888888888888888,\"#fdca26\"],[1.0,\"#f0f921\"]]}],\"surface\":[{\"type\":\"surface\",\"colorbar\":{\"outlinewidth\":0,\"ticks\":\"\"},\"colorscale\":[[0.0,\"#0d0887\"],[0.1111111111111111,\"#46039f\"],[0.2222222222222222,\"#7201a8\"],[0.3333333333333333,\"#9c179e\"],[0.4444444444444444,\"#bd3786\"],[0.5555555555555556,\"#d8576b\"],[0.6666666666666666,\"#ed7953\"],[0.7777777777777778,\"#fb9f3a\"],[0.8888888888888888,\"#fdca26\"],[1.0,\"#f0f921\"]]}],\"mesh3d\":[{\"type\":\"mesh3d\",\"colorbar\":{\"outlinewidth\":0,\"ticks\":\"\"}}],\"scatter\":[{\"fillpattern\":{\"fillmode\":\"overlay\",\"size\":10,\"solidity\":0.2},\"type\":\"scatter\"}],\"parcoords\":[{\"type\":\"parcoords\",\"line\":{\"colorbar\":{\"outlinewidth\":0,\"ticks\":\"\"}}}],\"scatterpolargl\":[{\"type\":\"scatterpolargl\",\"marker\":{\"colorbar\":{\"outlinewidth\":0,\"ticks\":\"\"}}}],\"bar\":[{\"error_x\":{\"color\":\"#2a3f5f\"},\"error_y\":{\"color\":\"#2a3f5f\"},\"marker\":{\"line\":{\"color\":\"#E5ECF6\",\"width\":0.5},\"pattern\":{\"fillmode\":\"overlay\",\"size\":10,\"solidity\":0.2}},\"type\":\"bar\"}],\"scattergeo\":[{\"type\":\"scattergeo\",\"marker\":{\"colorbar\":{\"outlinewidth\":0,\"ticks\":\"\"}}}],\"scatterpolar\":[{\"type\":\"scatterpolar\",\"marker\":{\"colorbar\":{\"outlinewidth\":0,\"ticks\":\"\"}}}],\"histogram\":[{\"marker\":{\"pattern\":{\"fillmode\":\"overlay\",\"size\":10,\"solidity\":0.2}},\"type\":\"histogram\"}],\"scattergl\":[{\"type\":\"scattergl\",\"marker\":{\"colorbar\":{\"outlinewidth\":0,\"ticks\":\"\"}}}],\"scatter3d\":[{\"type\":\"scatter3d\",\"line\":{\"colorbar\":{\"outlinewidth\":0,\"ticks\":\"\"}},\"marker\":{\"colorbar\":{\"outlinewidth\":0,\"ticks\":\"\"}}}],\"scattermapbox\":[{\"type\":\"scattermapbox\",\"marker\":{\"colorbar\":{\"outlinewidth\":0,\"ticks\":\"\"}}}],\"scatterternary\":[{\"type\":\"scatterternary\",\"marker\":{\"colorbar\":{\"outlinewidth\":0,\"ticks\":\"\"}}}],\"scattercarpet\":[{\"type\":\"scattercarpet\",\"marker\":{\"colorbar\":{\"outlinewidth\":0,\"ticks\":\"\"}}}],\"carpet\":[{\"aaxis\":{\"endlinecolor\":\"#2a3f5f\",\"gridcolor\":\"white\",\"linecolor\":\"white\",\"minorgridcolor\":\"white\",\"startlinecolor\":\"#2a3f5f\"},\"baxis\":{\"endlinecolor\":\"#2a3f5f\",\"gridcolor\":\"white\",\"linecolor\":\"white\",\"minorgridcolor\":\"white\",\"startlinecolor\":\"#2a3f5f\"},\"type\":\"carpet\"}],\"table\":[{\"cells\":{\"fill\":{\"color\":\"#EBF0F8\"},\"line\":{\"color\":\"white\"}},\"header\":{\"fill\":{\"color\":\"#C8D4E3\"},\"line\":{\"color\":\"white\"}},\"type\":\"table\"}],\"barpolar\":[{\"marker\":{\"line\":{\"color\":\"#E5ECF6\",\"width\":0.5},\"pattern\":{\"fillmode\":\"overlay\",\"size\":10,\"solidity\":0.2}},\"type\":\"barpolar\"}],\"pie\":[{\"automargin\":true,\"type\":\"pie\"}]},\"layout\":{\"autotypenumbers\":\"strict\",\"colorway\":[\"#636efa\",\"#EF553B\",\"#00cc96\",\"#ab63fa\",\"#FFA15A\",\"#19d3f3\",\"#FF6692\",\"#B6E880\",\"#FF97FF\",\"#FECB52\"],\"font\":{\"color\":\"#2a3f5f\"},\"hovermode\":\"closest\",\"hoverlabel\":{\"align\":\"left\"},\"paper_bgcolor\":\"white\",\"plot_bgcolor\":\"#E5ECF6\",\"polar\":{\"bgcolor\":\"#E5ECF6\",\"angularaxis\":{\"gridcolor\":\"white\",\"linecolor\":\"white\",\"ticks\":\"\"},\"radialaxis\":{\"gridcolor\":\"white\",\"linecolor\":\"white\",\"ticks\":\"\"}},\"ternary\":{\"bgcolor\":\"#E5ECF6\",\"aaxis\":{\"gridcolor\":\"white\",\"linecolor\":\"white\",\"ticks\":\"\"},\"baxis\":{\"gridcolor\":\"white\",\"linecolor\":\"white\",\"ticks\":\"\"},\"caxis\":{\"gridcolor\":\"white\",\"linecolor\":\"white\",\"ticks\":\"\"}},\"coloraxis\":{\"colorbar\":{\"outlinewidth\":0,\"ticks\":\"\"}},\"colorscale\":{\"sequential\":[[0.0,\"#0d0887\"],[0.1111111111111111,\"#46039f\"],[0.2222222222222222,\"#7201a8\"],[0.3333333333333333,\"#9c179e\"],[0.4444444444444444,\"#bd3786\"],[0.5555555555555556,\"#d8576b\"],[0.6666666666666666,\"#ed7953\"],[0.7777777777777778,\"#fb9f3a\"],[0.8888888888888888,\"#fdca26\"],[1.0,\"#f0f921\"]],\"sequentialminus\":[[0.0,\"#0d0887\"],[0.1111111111111111,\"#46039f\"],[0.2222222222222222,\"#7201a8\"],[0.3333333333333333,\"#9c179e\"],[0.4444444444444444,\"#bd3786\"],[0.5555555555555556,\"#d8576b\"],[0.6666666666666666,\"#ed7953\"],[0.7777777777777778,\"#fb9f3a\"],[0.8888888888888888,\"#fdca26\"],[1.0,\"#f0f921\"]],\"diverging\":[[0,\"#8e0152\"],[0.1,\"#c51b7d\"],[0.2,\"#de77ae\"],[0.3,\"#f1b6da\"],[0.4,\"#fde0ef\"],[0.5,\"#f7f7f7\"],[0.6,\"#e6f5d0\"],[0.7,\"#b8e186\"],[0.8,\"#7fbc41\"],[0.9,\"#4d9221\"],[1,\"#276419\"]]},\"xaxis\":{\"gridcolor\":\"white\",\"linecolor\":\"white\",\"ticks\":\"\",\"title\":{\"standoff\":15},\"zerolinecolor\":\"white\",\"automargin\":true,\"zerolinewidth\":2},\"yaxis\":{\"gridcolor\":\"white\",\"linecolor\":\"white\",\"ticks\":\"\",\"title\":{\"standoff\":15},\"zerolinecolor\":\"white\",\"automargin\":true,\"zerolinewidth\":2},\"scene\":{\"xaxis\":{\"backgroundcolor\":\"#E5ECF6\",\"gridcolor\":\"white\",\"linecolor\":\"white\",\"showbackground\":true,\"ticks\":\"\",\"zerolinecolor\":\"white\",\"gridwidth\":2},\"yaxis\":{\"backgroundcolor\":\"#E5ECF6\",\"gridcolor\":\"white\",\"linecolor\":\"white\",\"showbackground\":true,\"ticks\":\"\",\"zerolinecolor\":\"white\",\"gridwidth\":2},\"zaxis\":{\"backgroundcolor\":\"#E5ECF6\",\"gridcolor\":\"white\",\"linecolor\":\"white\",\"showbackground\":true,\"ticks\":\"\",\"zerolinecolor\":\"white\",\"gridwidth\":2}},\"shapedefaults\":{\"line\":{\"color\":\"#2a3f5f\"}},\"annotationdefaults\":{\"arrowcolor\":\"#2a3f5f\",\"arrowhead\":0,\"arrowwidth\":1},\"geo\":{\"bgcolor\":\"white\",\"landcolor\":\"#E5ECF6\",\"subunitcolor\":\"white\",\"showland\":true,\"showlakes\":true,\"lakecolor\":\"white\"},\"title\":{\"x\":0.05},\"mapbox\":{\"style\":\"light\"}}},\"xaxis\":{\"anchor\":\"y\",\"domain\":[0.0,0.45]},\"yaxis\":{\"anchor\":\"x\",\"domain\":[0.625,1.0]},\"xaxis2\":{\"anchor\":\"y2\",\"domain\":[0.55,1.0]},\"yaxis2\":{\"anchor\":\"x2\",\"domain\":[0.625,1.0]},\"xaxis3\":{\"anchor\":\"y3\",\"domain\":[0.0,0.45]},\"yaxis3\":{\"anchor\":\"x3\",\"domain\":[0.0,0.375]},\"xaxis4\":{\"anchor\":\"y4\",\"domain\":[0.55,1.0]},\"yaxis4\":{\"anchor\":\"x4\",\"domain\":[0.0,0.375]},\"annotations\":[{\"font\":{\"size\":16},\"showarrow\":false,\"text\":\"Error Angle (theta)\",\"x\":0.225,\"xanchor\":\"center\",\"xref\":\"paper\",\"y\":1.0,\"yanchor\":\"bottom\",\"yref\":\"paper\"},{\"font\":{\"size\":16},\"showarrow\":false,\"text\":\"Error Angle (phi)\",\"x\":0.775,\"xanchor\":\"center\",\"xref\":\"paper\",\"y\":1.0,\"yanchor\":\"bottom\",\"yref\":\"paper\"},{\"font\":{\"size\":16},\"showarrow\":false,\"text\":\"Angular Speed (theta)\",\"x\":0.225,\"xanchor\":\"center\",\"xref\":\"paper\",\"y\":0.375,\"yanchor\":\"bottom\",\"yref\":\"paper\"},{\"font\":{\"size\":16},\"showarrow\":false,\"text\":\"Angular speed (phi)\",\"x\":0.775,\"xanchor\":\"center\",\"xref\":\"paper\",\"y\":0.375,\"yanchor\":\"bottom\",\"yref\":\"paper\"}]},                        {\"responsive\": true}                    ).then(function(){\n",
       "                            \n",
       "var gd = document.getElementById('802f8fc1-e1cf-4e45-8098-fcdab41100c4');\n",
       "var x = new MutationObserver(function (mutations, observer) {{\n",
       "        var display = window.getComputedStyle(gd).display;\n",
       "        if (!display || display === 'none') {{\n",
       "            console.log([gd, 'removed!']);\n",
       "            Plotly.purge(gd);\n",
       "            observer.disconnect();\n",
       "        }}\n",
       "}});\n",
       "\n",
       "// Listen for the removal of the full notebook cells\n",
       "var notebookContainer = gd.closest('#notebook-container');\n",
       "if (notebookContainer) {{\n",
       "    x.observe(notebookContainer, {childList: true});\n",
       "}}\n",
       "\n",
       "// Listen for the clearing of the current output cell\n",
       "var outputEl = gd.closest('.output');\n",
       "if (outputEl) {{\n",
       "    x.observe(outputEl, {childList: true});\n",
       "}}\n",
       "\n",
       "                        })                };                });            </script>        </div>"
      ]
     },
     "metadata": {},
     "output_type": "display_data"
    },
    {
     "data": {
      "application/vnd.plotly.v1+json": {
       "config": {
        "plotlyServerURL": "https://plot.ly"
       },
       "data": [
        {
         "mode": "lines",
         "type": "scatter",
         "x": [
          0,
          1,
          2,
          3,
          4,
          5,
          6,
          7,
          8,
          9,
          10,
          11,
          12,
          13,
          14,
          15,
          16,
          17,
          18,
          19,
          20,
          21,
          22,
          23,
          24,
          25,
          26,
          27,
          28,
          29,
          30,
          31,
          32,
          33,
          34,
          35,
          36,
          37,
          38,
          39,
          40,
          41,
          42,
          43,
          44,
          45,
          46,
          47,
          48,
          49,
          50,
          51,
          52,
          53,
          54,
          55,
          56,
          57,
          58,
          59,
          60,
          61,
          62,
          63,
          64,
          65,
          66,
          67,
          68,
          69,
          70,
          71,
          72,
          73,
          74,
          75,
          76,
          77,
          78,
          79,
          80,
          81,
          82,
          83,
          84,
          85,
          86,
          87
         ],
         "xaxis": "x",
         "y": [
          -15.476013034534423,
          -9.05288732086272,
          -3.300211688586568,
          1.6305495325657544,
          5.695124890696973,
          8.92326624783164,
          11.384432553521568,
          13.16309567481748,
          14.344775865018857,
          15.009990389546118,
          15.274015150949928,
          14.9579972688622,
          14.3188139084384,
          13.428508534315966,
          12.645534534345252,
          11.67063004331696,
          10.824289518105806,
          10.007650840558233,
          9.319647505755311,
          8.96100664166746,
          8.674585825991082,
          8.49250410629791,
          8.358202139133528,
          8.314442644554555,
          8.510883994580945,
          8.81694565671408,
          9.203840667891503,
          9.585449772839617,
          9.913935229330953,
          10.28475287523472,
          10.60479383819039,
          10.95347563377998,
          11.2911975604836,
          11.557549842661814,
          11.801973590857878,
          12.120425236912354,
          12.414301147918373,
          12.74962595946214,
          13.196463361472349,
          13.561350808638714,
          13.823208969838625,
          14.00717964189857,
          14.089879919634097,
          14.082540617786986,
          13.807160116276444,
          13.263251670186728,
          12.741029771444502,
          12.143252517709085,
          11.60387879451277,
          10.67209733626714,
          9.679494986222895,
          8.697127776450007,
          7.857694766231233,
          7.002493719750253,
          6.337248942541573,
          5.512728624316568,
          4.987378921668378,
          4.424496878635379,
          4.024536203210496,
          3.622902680549221,
          3.08623864167753,
          2.6509808524362475,
          2.02811399722451,
          1.3375390866238095,
          0.8512761718249976,
          0.6139271446062706,
          0.0847035809660744,
          -0.4581247043001126,
          -1.3895323950964205,
          -2.3351298386503903,
          -3.118304750313318,
          -4.06371668119404,
          -5.102913887733034,
          -6.20215113226834,
          -7.891004196621909,
          -9.527287010555169,
          -11.367967800598636,
          -12.9750205388711,
          -14.308181683509572,
          -15.206332522768829,
          -15.956278597920848,
          -16.527684371335226,
          -16.39357941588891,
          -15.669949644516334,
          -14.503815718022286,
          -13.035410153878503,
          -11.038735371201962,
          -8.613309675863022,
          -5.778949715252889,
          -2.5757739306379315,
          0.7460650635327087,
          4.303490240840887,
          7.644012232215783,
          10.715986277468147,
          13.38385602543419,
          15.69893523900338,
          17.403366231901025,
          18.45798404490837,
          18.75065136941251,
          18.761151557344835,
          18.485547892572804,
          18.02203122826047,
          17.626457806809988,
          17.04011775389571,
          16.478044187830367,
          15.743368931052505,
          14.864598295106935,
          13.557436958116591,
          11.83338785774302,
          8.850448641485208,
          4.438260391944397,
          -2.3872634839299027,
          -12.123851887260752,
          -25.258942445001576,
          -39.14956289157545,
          -50.50749542138446,
          -57.24620947067648,
          -59.27186131044297,
          -57.84516598757352,
          -54.8662818946741,
          -51.080538377695824,
          -47.0988683570496,
          -43.54953448090918,
          -40.72302479824771,
          -38.243414961076894,
          -36.36740387948307,
          -35.088899909039164,
          -34.238191243520184,
          -33.93499887959856,
          -33.67289502042181,
          -33.42878590653999,
          -33.2378096284177,
          -32.89077180221369,
          -32.468348522924,
          -31.836141246993098,
          -31.570013986548886,
          -31.29701139305896,
          -31.01244575387518,
          -30.91915394548321,
          -30.78532096593589,
          -30.35152475001368,
          -29.827056081201462,
          -29.03534971266784,
          -27.89364447674447,
          -26.79158104969368,
          -25.44038268648266,
          -23.921166738475293,
          -22.38294876993261,
          -20.759817428132195,
          -19.232766328750344,
          -17.83859867455445,
          -16.830294454299764,
          -16.225511627302815,
          -15.952637100720835,
          -16.289102328756588,
          -17.174031950776328,
          -18.565536559518343,
          -20.484464436613493,
          -22.290867313734505,
          -24.1487947938807,
          -26.050820489178957,
          -27.695280679279524,
          -29.055638209684087,
          -30.24668869601058,
          -31.101510675378336,
          -31.73520567326697,
          -32.650000066383974,
          -33.65214865881495,
          -34.70892281800234,
          -36.307918664178246,
          -38.06600407028076,
          -39.716125646924766,
          -41.59324745166764,
          -43.63669536970485,
          -45.89776056961583,
          -48.05197463301824,
          -50.0903858923018,
          -52.31385303869138,
          -54.4892312239153,
          -56.53322959817384,
          -58.1465145398226,
          -59.72913405291715,
          -61.83545719302051,
          -64.1365230820349,
          -67.10229444229441,
          -70.27071030093124,
          -74.58760175695484,
          -79.40338638632802,
          -84.54955412051868,
          -89.07191138018814,
          -93.96700069676984,
          -98.14669536871426,
          -100.5395220543974,
          -99.62846710145703,
          -90.73970576399786,
          -57.07784496883626,
          -17.916047651995875,
          2.54935893295266,
          10.538081163541044,
          13.862646303706612,
          15.675139711922142,
          16.267086097525436,
          16.77579940276162,
          17.257989298703595,
          17.894725799434237,
          18.43327361731232,
          19.56606436466967,
          20.79851369322494,
          22.08533758359973,
          23.72650423257486,
          25.726789982391587,
          26.91911221158537,
          29.734935635495223,
          33.12741081448632,
          37.048579839169655,
          41.3860429083316,
          45.96638170036572,
          50.57348129533494,
          54.97582218023842,
          58.948350515830576,
          62.27170137536825
         ],
         "yaxis": "y"
        },
        {
         "mode": "lines",
         "type": "scatter",
         "x": [
          0,
          1,
          2,
          3,
          4,
          5,
          6,
          7,
          8,
          9,
          10,
          11,
          12,
          13,
          14,
          15,
          16,
          17,
          18,
          19,
          20,
          21,
          22,
          23,
          24,
          25,
          26,
          27,
          28,
          29,
          30,
          31,
          32,
          33,
          34,
          35,
          36,
          37,
          38,
          39,
          40,
          41,
          42,
          43,
          44,
          45,
          46,
          47,
          48,
          49,
          50,
          51,
          52,
          53,
          54,
          55,
          56,
          57,
          58,
          59,
          60,
          61,
          62,
          63,
          64,
          65,
          66,
          67,
          68,
          69,
          70,
          71,
          72,
          73,
          74,
          75,
          76,
          77,
          78,
          79,
          80,
          81,
          82,
          83,
          84,
          85,
          86,
          87
         ],
         "xaxis": "x3",
         "y": [
          182.10116748706037,
          147.03213354096744,
          120.33454833904356,
          99.67308700390842,
          83.44087327485953,
          70.51158131252748,
          60.08194825097255,
          681.516303047666,
          -242.33893794571247,
          79.81006978129301,
          -628.9300594999451,
          -2306.4265602066803,
          3388.776228115338,
          -482.56335105446135,
          -1688.7763420780802,
          1381.57782150939,
          -1217.7588968983905,
          1192.004840228581,
          -1139.4237855898546,
          134.24086250632038,
          132.52151170636284,
          -176.30873308517414,
          1271.9574936832446,
          -702.792676035009,
          -821.1486267251145,
          2255.304955628055,
          -1831.004597751689,
          597.1245708892596,
          -438.5528089512612,
          41.43340085022784,
          -336.05884379924777,
          163.47378349209612,
          482.2769400043825,
          456.2179247858628,
          -382.3347204635653,
          -963.8659186790796,
          1155.9919209027632,
          -1655.9823025011165,
          2025.1458976600247,
          -807.1272575511423,
          -595.3994541068272,
          814.7792880911327,
          298.5169446102282,
          -868.0374920601495,
          1976.249257982816,
          -581.9889115229151,
          -226.62378660472592,
          -213.17677409852064,
          113.38079389240218,
          101.80335970499976,
          -79.29271652142711,
          997.971367974796,
          -821.1867192063377,
          -580.098417827054,
          381.4089227212777,
          -926.1312212131988,
          227.6432907418431,
          865.7350178419447,
          -608.5265493843342,
          164.52732047245954,
          -174.01846928671264,
          854.8896216562174,
          -261.8224263500951,
          898.7950104004575,
          -846.0699132885666,
          -526.3170643712182,
          430.8989484687673,
          -74.54105549876633,
          286.5626310770897,
          -365.1267869790004,
          752.5512537936988,
          -963.554749624196,
          -4.641272661962292,
          544.3178625725949,
          -1113.0752188055162,
          2191.610836212824,
          -688.143499035038,
          -736.0388725050418,
          981.7402559536564,
          -680.6954345610757,
          -282.5934886223076,
          833.5439794332656,
          -1036.097071933333,
          -112.11869940451209,
          -138.23575878937675,
          -65.13520699205468,
          -651.6670808769388,
          252.9308653045284,
          -101.54855068050011,
          -68.69587665373045,
          -954.3119580249946,
          324.0636126887133,
          647.8361868117227,
          -343.26743391787187,
          428.6193506398287,
          -740.9455849009923,
          -442.8513830576608,
          1139.5084106381582,
          -1392.09392581083,
          46.78669956584236,
          1165.33816237844,
          -979.7020099071974,
          -118.65398391998694,
          645.3769631267345,
          -384.4830775435266,
          134.8269261615005,
          596.6048219304531,
          -2.579708507643663,
          23.51740355320564,
          44.73034509737073,
          646.9032956237136,
          257.7542251873947,
          16.762388119425044,
          -238.84496767978357,
          -218.19328224408,
          159.2853032038134,
          -201.17766990312344,
          -344.7331751562286,
          -520.7300889191172,
          535.674459582233,
          -867.3067767832664,
          -329.68329504771464,
          -213.8850625217825,
          -366.69947800541536,
          -420.6281007204176,
          -762.0530183955702,
          -464.458332716676,
          -1379.2681840597068,
          649.0669125576458,
          1778.8998122008466,
          -1531.7769011193643,
          -229.0806589776526,
          -2431.3386968637687,
          -1537.2063732069323,
          -3055.198202577868,
          1051.6417843420386,
          -2507.379757621105,
          -25.04954195493525,
          -1367.4497650151045,
          6408.093540164606,
          1018.4003710777693,
          280.2334824959241,
          4559.920162203522,
          -976.3194020273525,
          2670.8386657734804,
          -2579.1171506296632,
          175.60594170318166,
          748.4763261127534,
          644.3708102044925,
          20.577339333293757,
          475.8039511206261,
          417.8027738716138,
          600.7946225682825,
          -2765.107101879212,
          826.9788370897624,
          -83.5964952451711,
          1313.8682179118914,
          -288.12133111219475,
          -90.82828862715586,
          279.967852810824,
          780.3873647790098,
          -961.6659557319912,
          -1224.9327131864695,
          1420.8280914802529,
          -1482.101755094804,
          1650.9304707827357,
          572.0542728309613,
          -1141.0552310710857,
          688.3689159002284,
          904.7214966538174,
          -91.67891097592296,
          1278.7943944176195,
          -1298.0583322206232,
          734.844116562492,
          391.7523287438729,
          192.62465412687035,
          -1544.9023044747587,
          37.9442606095106,
          -477.9658625095124,
          623.7219005217707,
          -1859.209099116159,
          1736.9156105485167,
          -772.1985939511488,
          109.42927997690444,
          441.23529028436457,
          -1253.6625737135196,
          -549.6101472771859,
          2391.11531820222,
          -991.3792556490588,
          40.71689181025828,
          785.170897096806,
          10.752070301416891,
          -1569.4949142332698,
          587.8834743426933,
          -1856.4981241754488,
          -319.5600648046276,
          86.38669881205318,
          -204.1853318817486,
          224.6397693773776,
          -208.2893091907989,
          2383.294874413057,
          -695.3264613640164,
          245.8367692101509,
          103.22104123128996,
          500.85306722742206,
          249.53253141877383,
          173.8008755789703,
          69.70843874842271,
          976.4275901733504,
          -644.0072828762719,
          165.43519177418835,
          97.88834211625812,
          96.0512636590941,
          94.96446560844784,
          94.5173253072128,
          94.60960764013704,
          95.14681976885076,
          96.03607227312771,
          null
         ],
         "yaxis": "y3"
        },
        {
         "mode": "lines",
         "type": "scatter",
         "x": [
          0,
          1,
          2,
          3,
          4,
          5,
          6,
          7,
          8,
          9,
          10,
          11,
          12,
          13,
          14,
          15,
          16,
          17,
          18,
          19,
          20,
          21,
          22,
          23,
          24,
          25,
          26,
          27,
          28,
          29,
          30,
          31,
          32,
          33,
          34,
          35,
          36,
          37,
          38,
          39,
          40,
          41,
          42,
          43,
          44,
          45,
          46,
          47,
          48,
          49,
          50,
          51,
          52,
          53,
          54,
          55,
          56,
          57,
          58,
          59,
          60,
          61,
          62,
          63,
          64,
          65,
          66,
          67,
          68,
          69,
          70,
          71,
          72,
          73,
          74,
          75,
          76,
          77,
          78,
          79,
          80,
          81,
          82,
          83,
          84,
          85,
          86,
          87
         ],
         "xaxis": "x2",
         "y": [
          -12.08197251031618,
          -9.975225231311075,
          -8.377118640548657,
          -7.126495198697436,
          -6.13183477257977,
          -5.337598817296242,
          -4.708000915276904,
          -4.218399345219854,
          -3.850300621378582,
          -3.588179451829641,
          -3.4348616697808945,
          -3.4241500005742496,
          -3.349835665955226,
          -3.178718548497657,
          -3.1204744644532627,
          -2.984583526135935,
          -2.8300391404016265,
          -2.48235631303264,
          -1.987879628009095,
          -1.4697539120280263,
          -0.8723965018478587,
          -0.2845742218476865,
          0.3106005729067514,
          0.990454809995341,
          1.7417357838045264,
          2.4386912366918696,
          3.043481738125026,
          3.661348530529312,
          3.988024257313172,
          4.342352482506823,
          4.655572051972141,
          4.894556847740667,
          5.208374611117618,
          5.255997744031698,
          5.2192784563133205,
          5.120705885826864,
          4.970895956371658,
          4.766380120769752,
          4.616744468685108,
          4.542004710857908,
          4.199341468318803,
          3.5489585936487376,
          2.7523643106357247,
          1.631791456562999,
          0.2197950529358586,
          -1.4230293978809645,
          -3.3635537965899247,
          -5.656344436531991,
          -7.96948614020316,
          -10.486587810388713,
          -13.28516449274882,
          -16.153385609199145,
          -19.092772280636357,
          -21.86295653216739,
          -24.18823130240451,
          -26.251709761731654,
          -27.78334999728275,
          -29.089452152221373,
          -30.032512634480234,
          -30.97445726538785,
          -31.871658777400928,
          -32.20160709201429,
          -32.60142658961198,
          -32.86687351687671,
          -33.07671407327477,
          -33.18276968699583,
          -33.57950905168268,
          -34.069636515936665,
          -34.72373344222976,
          -35.784453094143096,
          -36.64848554931628,
          -37.66226384446285,
          -38.34810076751162,
          -38.75821614773557,
          -39.09523076450218,
          -39.06648634078324,
          -38.60651679998716,
          -37.25322599000589,
          -34.90276801199338,
          -31.480857285251773,
          -27.307709986969837,
          -22.563743004871167,
          -17.398686810562594,
          -12.103396115394109,
          -7.117939808726276,
          -2.7359771262331183,
          1.0303826974865944,
          3.677283618932913,
          5.429140847939283,
          6.5299034547323975,
          7.085805906114112,
          7.171004763194923,
          6.961631961539447,
          6.485861329959464,
          5.741952958339747,
          4.969209456774981,
          3.9964514036907817,
          2.667725559031426,
          1.0093583048114405,
          -0.5512942800381138,
          -2.456173953076205,
          -4.746330841914848,
          -6.901561536965061,
          -9.003477189432385,
          -10.984890481719802,
          -12.988022484418106,
          -14.68236563771928,
          -16.238019633732293,
          -17.522173297872715,
          -19.026187063263905,
          -20.500393673128134,
          -21.831090785306007,
          -23.065098382805864,
          -24.14833023230488,
          -24.99388626689562,
          -25.639371233017037,
          -26.30774013791394,
          -26.760133157517583,
          -27.01308802220544,
          -27.27624236662047,
          -27.173094701026407,
          -26.576724369931476,
          -25.43240239232225,
          -23.843431379873987,
          -21.44688379481751,
          -18.52653627332089,
          -15.494947279050422,
          -12.301721023142884,
          -9.305473566540591,
          -6.291463894783053,
          -3.3158260708979665,
          -0.439739156256254,
          2.1893307260660437,
          4.481298275608153,
          6.212624056563723,
          7.378820077153179,
          8.224248981237054,
          8.757843489135434,
          9.043026601127991,
          9.354984917639223,
          9.693558610593618,
          9.78005809592584,
          9.570278345846974,
          9.201776733775317,
          8.509639758470321,
          7.566078140222303,
          6.529731712162349,
          5.327894859133548,
          3.9983967209859097,
          2.556504670179649,
          1.2160438219653378,
          -0.1057324478433503,
          -1.2898729852634994,
          -2.437904331209779,
          -3.426826277988257,
          -4.227134723498834,
          -4.873502770296704,
          -5.259511153632546,
          -5.577680538691672,
          -5.791184624398061,
          -6.062720406945222,
          -6.219764428722256,
          -6.284841009537189,
          -6.395199726217793,
          -6.465705166768462,
          -6.430632976190423,
          -6.582339066707771,
          -6.62346034268872,
          -6.553446972795322,
          -6.302508434244496,
          -5.988231444406168,
          -5.552479279711617,
          -5.177383739565628,
          -4.8484548573199495,
          -4.558814171747708,
          -4.32383418973421,
          -4.047698520602275,
          -3.8630259434432745,
          -3.733378657538446,
          -3.863823402779688,
          -3.9519349288078223,
          -4.360000312634,
          -5.144803057333516,
          -6.14424206984068,
          -7.450776614736219,
          -9.021953997632671,
          -10.852539432057917,
          -12.797300176298748,
          -14.672577485337666,
          -16.208427635958326,
          -17.65849333767174,
          -18.767151385005324,
          -19.5014663909834,
          -19.73288219235142,
          -19.472029439234035,
          -18.46004025595575,
          -16.954262189778397,
          -15.194377900780768,
          -13.221235319728637,
          -10.862843684666103,
          -8.663079748054836,
          -6.387613250163888,
          -4.030180882521837,
          -1.815712168145727,
          0.2872459094713737,
          2.170120453749781,
          4.054902693885988,
          5.899384284887352,
          7.720428936426228,
          9.06740557310024,
          10.375633847623249,
          11.006251367090176,
          12.117153520504552,
          13.01352497650435,
          13.681584935161464,
          14.111388232713532,
          14.297835690793692,
          14.242960483759822,
          13.960267844283273,
          13.48228389450257,
          12.872980933170917
         ],
         "yaxis": "y2"
        },
        {
         "mode": "lines",
         "type": "scatter",
         "x": [
          0,
          1,
          2,
          3,
          4,
          5,
          6,
          7,
          8,
          9,
          10,
          11,
          12,
          13,
          14,
          15,
          16,
          17,
          18,
          19,
          20,
          21,
          22,
          23,
          24,
          25,
          26,
          27,
          28,
          29,
          30,
          31,
          32,
          33,
          34,
          35,
          36,
          37,
          38,
          39,
          40,
          41,
          42,
          43,
          44,
          45,
          46,
          47,
          48,
          49,
          50,
          51,
          52,
          53,
          54,
          55,
          56,
          57,
          58,
          59,
          60,
          61,
          62,
          63,
          64,
          65,
          66,
          67,
          68,
          69,
          70,
          71,
          72,
          73,
          74,
          75,
          76,
          77,
          78,
          79,
          80,
          81,
          82,
          83,
          84,
          85,
          86,
          87
         ],
         "xaxis": "x4",
         "y": [
          -33.868416077266204,
          -23.236194817111368,
          -14.927633144701025,
          -8.32877553692768,
          -3.014480673168673,
          1.3152089645458442,
          4.8753152583636,
          727.5239662613211,
          -752.4099926325438,
          20.93973659605841,
          -480.95511366113175,
          637.9508766684781,
          663.2801594183369,
          -1151.618420514329,
          1053.221995587135,
          -1165.3814413199111,
          275.46158636234463,
          156.5679441958281,
          1099.0709674150971,
          -610.453199501503,
          138.09599250044678,
          -1844.1840391712817,
          2021.406752866754,
          -1047.6868030796322,
          1321.123512968781,
          -1702.0052789330905,
          337.4614448313129,
          -404.9810924191463,
          483.2903299222526,
          -229.27134512858248,
          36.35778868236628,
          589.6637944181006,
          -796.0064480749995,
          1200.974782239339,
          -1508.2362263428322,
          -249.25811257798665,
          629.2157826230881,
          1126.2905069224691,
          7.695844810732932,
          -976.2178785261352,
          -396.1947221387619,
          1562.0457989394502,
          -1620.7848856583269,
          423.0687864097536,
          -902.9017497635224,
          242.7730325874202,
          -92.52565015442028,
          316.77082008653696,
          213.4569187121317,
          386.9265304665461,
          432.2489665608476,
          -544.201178635744,
          811.3836412028877,
          -1359.6370778393773,
          807.0619729832322,
          457.763116895366,
          267.0856385256375,
          -406.5801399464508,
          -552.3704697640243,
          196.08949002477527,
          205.5560158417571,
          -14.760374703713495,
          -128.37779640223812,
          -404.4333834320384,
          -307.7852399153221,
          430.601612317394,
          -343.3352720618639,
          911.5918304534772,
          83.69753063055008,
          -479.6568608757532,
          -328.56435642993995,
          206.3613340746793,
          -149.2383049091014,
          -0.2211173226962515,
          -271.8170719297644,
          717.04401613542,
          -86.47931713841994,
          -655.5859846258735,
          121.43958240017238,
          389.5543274300322,
          -319.52094084385186,
          -401.6980735020341,
          -892.7048497149175,
          -7.3867536388994015,
          -156.2613335613361,
          17.589858320565032,
          9.448148041868553,
          -978.1343935256411,
          -149.64161025442047,
          283.5258404567986,
          -17.403493060590193,
          -544.8892654439528,
          -50.24634276647433,
          512.3115998101755,
          375.32632078886417,
          127.324874513987,
          -306.0685246648576,
          -370.28042426946905,
          543.9696859761782,
          -838.9451629839413,
          819.2527187751391,
          -322.9810369494683,
          511.3294208347723,
          -289.4625264630786,
          -506.98592254073,
          591.1438904128328,
          -386.51997660026495,
          1104.2339670905585,
          -109.88096724652752,
          -556.6560430671017,
          477.1155285689198,
          -120.92454576337596,
          597.6318394290477,
          54.12616511661384,
          -695.0498281381595,
          398.4747264014919,
          -1409.3688665682378,
          1777.1917512462817,
          -1386.9124644676765,
          1044.6792628658202,
          -540.8692402457209,
          688.8338992124417,
          -1571.392123291776,
          1809.3792182313607,
          445.8415025076602,
          705.9446247570748,
          173.48457399248062,
          12.063770630223791,
          3404.154717957097,
          5.391087995888277,
          523.8718457993681,
          595.9803196457844,
          -167.1412129308143,
          2758.5672630086133,
          9394.125314360675,
          1493.8694605711512,
          5775.28014628685,
          -4593.351973862077,
          -3364.142898260443,
          -8013.810363346021,
          -3216.0082645233647,
          3270.752626170359,
          -4610.580057752231,
          -1519.417222334817,
          -1445.8298465289502,
          838.7502815227921,
          -167.77272269090605,
          -1781.4568162127457,
          2240.5436609884264,
          -228.83179044555212,
          159.15125437066902,
          580.9581258975865,
          -976.808511472104,
          -324.4159874508277,
          -281.44547253460803,
          992.0689662343676,
          -624.5776021469292,
          213.5651863076551,
          1364.212202217502,
          -1063.2815024183435,
          -1090.222862499268,
          -78.11545592628622,
          -251.85418633550373,
          1120.2133819038547,
          -1061.467186545016,
          102.72192086340549,
          68.02584300695669,
          399.5381407643137,
          -178.89542676122682,
          369.9999085655379,
          508.8558111698103,
          -345.5626190139489,
          -450.4799891681968,
          65.55792107594004,
          968.2071146918452,
          -1998.926716550154,
          1596.5752497122264,
          -742.3249403124306,
          -77.52235498481764,
          -360.57233526594456,
          371.0558738289968,
          501.0633477198863,
          451.8107659042212,
          -928.5622407401972,
          144.78668373986147,
          45.3286546391225,
          -545.3679068959577,
          897.0269116795871,
          -836.977398877075,
          962.7544200434106,
          -1769.2809462417172,
          219.44343474236405,
          503.9402590791074,
          -633.6169289435645,
          -539.5277964153983,
          524.0744765746011,
          -305.9883018134269,
          622.852731565993,
          -1055.714417956622,
          226.0606738462951,
          244.0675712933082,
          -774.683838140024,
          162.70254546713025,
          -384.1841583344957,
          48.30096221358493,
          -272.1315272929973,
          1163.8630137500709,
          -918.6638782216228,
          309.52656276483924,
          214.5100477766143,
          -116.16257638874504,
          44.53266094823416,
          43.73380240811936,
          42.87753952840978,
          41.97587234755573,
          41.03938995910156,
          40.07733759876908,
          39.09770116551448,
          null
         ],
         "yaxis": "y4"
        }
       ],
       "layout": {
        "annotations": [
         {
          "font": {
           "size": 16
          },
          "showarrow": false,
          "text": "Error Angle (theta)",
          "x": 0.225,
          "xanchor": "center",
          "xref": "paper",
          "y": 1,
          "yanchor": "bottom",
          "yref": "paper"
         },
         {
          "font": {
           "size": 16
          },
          "showarrow": false,
          "text": "Error Angle (phi)",
          "x": 0.775,
          "xanchor": "center",
          "xref": "paper",
          "y": 1,
          "yanchor": "bottom",
          "yref": "paper"
         },
         {
          "font": {
           "size": 16
          },
          "showarrow": false,
          "text": "Angular Speed (theta)",
          "x": 0.225,
          "xanchor": "center",
          "xref": "paper",
          "y": 0.375,
          "yanchor": "bottom",
          "yref": "paper"
         },
         {
          "font": {
           "size": 16
          },
          "showarrow": false,
          "text": "Angular speed (phi)",
          "x": 0.775,
          "xanchor": "center",
          "xref": "paper",
          "y": 0.375,
          "yanchor": "bottom",
          "yref": "paper"
         }
        ],
        "template": {
         "data": {
          "bar": [
           {
            "error_x": {
             "color": "#2a3f5f"
            },
            "error_y": {
             "color": "#2a3f5f"
            },
            "marker": {
             "line": {
              "color": "#E5ECF6",
              "width": 0.5
             },
             "pattern": {
              "fillmode": "overlay",
              "size": 10,
              "solidity": 0.2
             }
            },
            "type": "bar"
           }
          ],
          "barpolar": [
           {
            "marker": {
             "line": {
              "color": "#E5ECF6",
              "width": 0.5
             },
             "pattern": {
              "fillmode": "overlay",
              "size": 10,
              "solidity": 0.2
             }
            },
            "type": "barpolar"
           }
          ],
          "carpet": [
           {
            "aaxis": {
             "endlinecolor": "#2a3f5f",
             "gridcolor": "white",
             "linecolor": "white",
             "minorgridcolor": "white",
             "startlinecolor": "#2a3f5f"
            },
            "baxis": {
             "endlinecolor": "#2a3f5f",
             "gridcolor": "white",
             "linecolor": "white",
             "minorgridcolor": "white",
             "startlinecolor": "#2a3f5f"
            },
            "type": "carpet"
           }
          ],
          "choropleth": [
           {
            "colorbar": {
             "outlinewidth": 0,
             "ticks": ""
            },
            "type": "choropleth"
           }
          ],
          "contour": [
           {
            "colorbar": {
             "outlinewidth": 0,
             "ticks": ""
            },
            "colorscale": [
             [
              0,
              "#0d0887"
             ],
             [
              0.1111111111111111,
              "#46039f"
             ],
             [
              0.2222222222222222,
              "#7201a8"
             ],
             [
              0.3333333333333333,
              "#9c179e"
             ],
             [
              0.4444444444444444,
              "#bd3786"
             ],
             [
              0.5555555555555556,
              "#d8576b"
             ],
             [
              0.6666666666666666,
              "#ed7953"
             ],
             [
              0.7777777777777778,
              "#fb9f3a"
             ],
             [
              0.8888888888888888,
              "#fdca26"
             ],
             [
              1,
              "#f0f921"
             ]
            ],
            "type": "contour"
           }
          ],
          "contourcarpet": [
           {
            "colorbar": {
             "outlinewidth": 0,
             "ticks": ""
            },
            "type": "contourcarpet"
           }
          ],
          "heatmap": [
           {
            "colorbar": {
             "outlinewidth": 0,
             "ticks": ""
            },
            "colorscale": [
             [
              0,
              "#0d0887"
             ],
             [
              0.1111111111111111,
              "#46039f"
             ],
             [
              0.2222222222222222,
              "#7201a8"
             ],
             [
              0.3333333333333333,
              "#9c179e"
             ],
             [
              0.4444444444444444,
              "#bd3786"
             ],
             [
              0.5555555555555556,
              "#d8576b"
             ],
             [
              0.6666666666666666,
              "#ed7953"
             ],
             [
              0.7777777777777778,
              "#fb9f3a"
             ],
             [
              0.8888888888888888,
              "#fdca26"
             ],
             [
              1,
              "#f0f921"
             ]
            ],
            "type": "heatmap"
           }
          ],
          "heatmapgl": [
           {
            "colorbar": {
             "outlinewidth": 0,
             "ticks": ""
            },
            "colorscale": [
             [
              0,
              "#0d0887"
             ],
             [
              0.1111111111111111,
              "#46039f"
             ],
             [
              0.2222222222222222,
              "#7201a8"
             ],
             [
              0.3333333333333333,
              "#9c179e"
             ],
             [
              0.4444444444444444,
              "#bd3786"
             ],
             [
              0.5555555555555556,
              "#d8576b"
             ],
             [
              0.6666666666666666,
              "#ed7953"
             ],
             [
              0.7777777777777778,
              "#fb9f3a"
             ],
             [
              0.8888888888888888,
              "#fdca26"
             ],
             [
              1,
              "#f0f921"
             ]
            ],
            "type": "heatmapgl"
           }
          ],
          "histogram": [
           {
            "marker": {
             "pattern": {
              "fillmode": "overlay",
              "size": 10,
              "solidity": 0.2
             }
            },
            "type": "histogram"
           }
          ],
          "histogram2d": [
           {
            "colorbar": {
             "outlinewidth": 0,
             "ticks": ""
            },
            "colorscale": [
             [
              0,
              "#0d0887"
             ],
             [
              0.1111111111111111,
              "#46039f"
             ],
             [
              0.2222222222222222,
              "#7201a8"
             ],
             [
              0.3333333333333333,
              "#9c179e"
             ],
             [
              0.4444444444444444,
              "#bd3786"
             ],
             [
              0.5555555555555556,
              "#d8576b"
             ],
             [
              0.6666666666666666,
              "#ed7953"
             ],
             [
              0.7777777777777778,
              "#fb9f3a"
             ],
             [
              0.8888888888888888,
              "#fdca26"
             ],
             [
              1,
              "#f0f921"
             ]
            ],
            "type": "histogram2d"
           }
          ],
          "histogram2dcontour": [
           {
            "colorbar": {
             "outlinewidth": 0,
             "ticks": ""
            },
            "colorscale": [
             [
              0,
              "#0d0887"
             ],
             [
              0.1111111111111111,
              "#46039f"
             ],
             [
              0.2222222222222222,
              "#7201a8"
             ],
             [
              0.3333333333333333,
              "#9c179e"
             ],
             [
              0.4444444444444444,
              "#bd3786"
             ],
             [
              0.5555555555555556,
              "#d8576b"
             ],
             [
              0.6666666666666666,
              "#ed7953"
             ],
             [
              0.7777777777777778,
              "#fb9f3a"
             ],
             [
              0.8888888888888888,
              "#fdca26"
             ],
             [
              1,
              "#f0f921"
             ]
            ],
            "type": "histogram2dcontour"
           }
          ],
          "mesh3d": [
           {
            "colorbar": {
             "outlinewidth": 0,
             "ticks": ""
            },
            "type": "mesh3d"
           }
          ],
          "parcoords": [
           {
            "line": {
             "colorbar": {
              "outlinewidth": 0,
              "ticks": ""
             }
            },
            "type": "parcoords"
           }
          ],
          "pie": [
           {
            "automargin": true,
            "type": "pie"
           }
          ],
          "scatter": [
           {
            "fillpattern": {
             "fillmode": "overlay",
             "size": 10,
             "solidity": 0.2
            },
            "type": "scatter"
           }
          ],
          "scatter3d": [
           {
            "line": {
             "colorbar": {
              "outlinewidth": 0,
              "ticks": ""
             }
            },
            "marker": {
             "colorbar": {
              "outlinewidth": 0,
              "ticks": ""
             }
            },
            "type": "scatter3d"
           }
          ],
          "scattercarpet": [
           {
            "marker": {
             "colorbar": {
              "outlinewidth": 0,
              "ticks": ""
             }
            },
            "type": "scattercarpet"
           }
          ],
          "scattergeo": [
           {
            "marker": {
             "colorbar": {
              "outlinewidth": 0,
              "ticks": ""
             }
            },
            "type": "scattergeo"
           }
          ],
          "scattergl": [
           {
            "marker": {
             "colorbar": {
              "outlinewidth": 0,
              "ticks": ""
             }
            },
            "type": "scattergl"
           }
          ],
          "scattermapbox": [
           {
            "marker": {
             "colorbar": {
              "outlinewidth": 0,
              "ticks": ""
             }
            },
            "type": "scattermapbox"
           }
          ],
          "scatterpolar": [
           {
            "marker": {
             "colorbar": {
              "outlinewidth": 0,
              "ticks": ""
             }
            },
            "type": "scatterpolar"
           }
          ],
          "scatterpolargl": [
           {
            "marker": {
             "colorbar": {
              "outlinewidth": 0,
              "ticks": ""
             }
            },
            "type": "scatterpolargl"
           }
          ],
          "scatterternary": [
           {
            "marker": {
             "colorbar": {
              "outlinewidth": 0,
              "ticks": ""
             }
            },
            "type": "scatterternary"
           }
          ],
          "surface": [
           {
            "colorbar": {
             "outlinewidth": 0,
             "ticks": ""
            },
            "colorscale": [
             [
              0,
              "#0d0887"
             ],
             [
              0.1111111111111111,
              "#46039f"
             ],
             [
              0.2222222222222222,
              "#7201a8"
             ],
             [
              0.3333333333333333,
              "#9c179e"
             ],
             [
              0.4444444444444444,
              "#bd3786"
             ],
             [
              0.5555555555555556,
              "#d8576b"
             ],
             [
              0.6666666666666666,
              "#ed7953"
             ],
             [
              0.7777777777777778,
              "#fb9f3a"
             ],
             [
              0.8888888888888888,
              "#fdca26"
             ],
             [
              1,
              "#f0f921"
             ]
            ],
            "type": "surface"
           }
          ],
          "table": [
           {
            "cells": {
             "fill": {
              "color": "#EBF0F8"
             },
             "line": {
              "color": "white"
             }
            },
            "header": {
             "fill": {
              "color": "#C8D4E3"
             },
             "line": {
              "color": "white"
             }
            },
            "type": "table"
           }
          ]
         },
         "layout": {
          "annotationdefaults": {
           "arrowcolor": "#2a3f5f",
           "arrowhead": 0,
           "arrowwidth": 1
          },
          "autotypenumbers": "strict",
          "coloraxis": {
           "colorbar": {
            "outlinewidth": 0,
            "ticks": ""
           }
          },
          "colorscale": {
           "diverging": [
            [
             0,
             "#8e0152"
            ],
            [
             0.1,
             "#c51b7d"
            ],
            [
             0.2,
             "#de77ae"
            ],
            [
             0.3,
             "#f1b6da"
            ],
            [
             0.4,
             "#fde0ef"
            ],
            [
             0.5,
             "#f7f7f7"
            ],
            [
             0.6,
             "#e6f5d0"
            ],
            [
             0.7,
             "#b8e186"
            ],
            [
             0.8,
             "#7fbc41"
            ],
            [
             0.9,
             "#4d9221"
            ],
            [
             1,
             "#276419"
            ]
           ],
           "sequential": [
            [
             0,
             "#0d0887"
            ],
            [
             0.1111111111111111,
             "#46039f"
            ],
            [
             0.2222222222222222,
             "#7201a8"
            ],
            [
             0.3333333333333333,
             "#9c179e"
            ],
            [
             0.4444444444444444,
             "#bd3786"
            ],
            [
             0.5555555555555556,
             "#d8576b"
            ],
            [
             0.6666666666666666,
             "#ed7953"
            ],
            [
             0.7777777777777778,
             "#fb9f3a"
            ],
            [
             0.8888888888888888,
             "#fdca26"
            ],
            [
             1,
             "#f0f921"
            ]
           ],
           "sequentialminus": [
            [
             0,
             "#0d0887"
            ],
            [
             0.1111111111111111,
             "#46039f"
            ],
            [
             0.2222222222222222,
             "#7201a8"
            ],
            [
             0.3333333333333333,
             "#9c179e"
            ],
            [
             0.4444444444444444,
             "#bd3786"
            ],
            [
             0.5555555555555556,
             "#d8576b"
            ],
            [
             0.6666666666666666,
             "#ed7953"
            ],
            [
             0.7777777777777778,
             "#fb9f3a"
            ],
            [
             0.8888888888888888,
             "#fdca26"
            ],
            [
             1,
             "#f0f921"
            ]
           ]
          },
          "colorway": [
           "#636efa",
           "#EF553B",
           "#00cc96",
           "#ab63fa",
           "#FFA15A",
           "#19d3f3",
           "#FF6692",
           "#B6E880",
           "#FF97FF",
           "#FECB52"
          ],
          "font": {
           "color": "#2a3f5f"
          },
          "geo": {
           "bgcolor": "white",
           "lakecolor": "white",
           "landcolor": "#E5ECF6",
           "showlakes": true,
           "showland": true,
           "subunitcolor": "white"
          },
          "hoverlabel": {
           "align": "left"
          },
          "hovermode": "closest",
          "mapbox": {
           "style": "light"
          },
          "paper_bgcolor": "white",
          "plot_bgcolor": "#E5ECF6",
          "polar": {
           "angularaxis": {
            "gridcolor": "white",
            "linecolor": "white",
            "ticks": ""
           },
           "bgcolor": "#E5ECF6",
           "radialaxis": {
            "gridcolor": "white",
            "linecolor": "white",
            "ticks": ""
           }
          },
          "scene": {
           "xaxis": {
            "backgroundcolor": "#E5ECF6",
            "gridcolor": "white",
            "gridwidth": 2,
            "linecolor": "white",
            "showbackground": true,
            "ticks": "",
            "zerolinecolor": "white"
           },
           "yaxis": {
            "backgroundcolor": "#E5ECF6",
            "gridcolor": "white",
            "gridwidth": 2,
            "linecolor": "white",
            "showbackground": true,
            "ticks": "",
            "zerolinecolor": "white"
           },
           "zaxis": {
            "backgroundcolor": "#E5ECF6",
            "gridcolor": "white",
            "gridwidth": 2,
            "linecolor": "white",
            "showbackground": true,
            "ticks": "",
            "zerolinecolor": "white"
           }
          },
          "shapedefaults": {
           "line": {
            "color": "#2a3f5f"
           }
          },
          "ternary": {
           "aaxis": {
            "gridcolor": "white",
            "linecolor": "white",
            "ticks": ""
           },
           "baxis": {
            "gridcolor": "white",
            "linecolor": "white",
            "ticks": ""
           },
           "bgcolor": "#E5ECF6",
           "caxis": {
            "gridcolor": "white",
            "linecolor": "white",
            "ticks": ""
           }
          },
          "title": {
           "x": 0.05
          },
          "xaxis": {
           "automargin": true,
           "gridcolor": "white",
           "linecolor": "white",
           "ticks": "",
           "title": {
            "standoff": 15
           },
           "zerolinecolor": "white",
           "zerolinewidth": 2
          },
          "yaxis": {
           "automargin": true,
           "gridcolor": "white",
           "linecolor": "white",
           "ticks": "",
           "title": {
            "standoff": 15
           },
           "zerolinecolor": "white",
           "zerolinewidth": 2
          }
         }
        },
        "xaxis": {
         "anchor": "y",
         "domain": [
          0,
          0.45
         ]
        },
        "xaxis2": {
         "anchor": "y2",
         "domain": [
          0.55,
          1
         ]
        },
        "xaxis3": {
         "anchor": "y3",
         "domain": [
          0,
          0.45
         ]
        },
        "xaxis4": {
         "anchor": "y4",
         "domain": [
          0.55,
          1
         ]
        },
        "yaxis": {
         "anchor": "x",
         "domain": [
          0.625,
          1
         ]
        },
        "yaxis2": {
         "anchor": "x2",
         "domain": [
          0.625,
          1
         ]
        },
        "yaxis3": {
         "anchor": "x3",
         "domain": [
          0,
          0.375
         ]
        },
        "yaxis4": {
         "anchor": "x4",
         "domain": [
          0,
          0.375
         ]
        }
       }
      },
      "text/html": [
       "<div>                            <div id=\"67a787f0-478f-403b-8b2a-cf819ea938a4\" class=\"plotly-graph-div\" style=\"height:525px; width:100%;\"></div>            <script type=\"text/javascript\">                require([\"plotly\"], function(Plotly) {                    window.PLOTLYENV=window.PLOTLYENV || {};                                    if (document.getElementById(\"67a787f0-478f-403b-8b2a-cf819ea938a4\")) {                    Plotly.newPlot(                        \"67a787f0-478f-403b-8b2a-cf819ea938a4\",                        [{\"mode\":\"lines\",\"x\":[0.0,1.0,2.0,3.0,4.0,5.0,6.0,7.0,8.0,9.0,10.0,11.0,12.0,13.0,14.0,15.0,16.0,17.0,18.0,19.0,20.0,21.0,22.0,23.0,24.0,25.0,26.0,27.0,28.0,29.0,30.0,31.0,32.0,33.0,34.0,35.0,36.0,37.0,38.0,39.0,40.0,41.0,42.0,43.0,44.0,45.0,46.0,47.0,48.0,49.0,50.0,51.0,52.0,53.0,54.0,55.0,56.0,57.0,58.0,59.0,60.0,61.0,62.0,63.0,64.0,65.0,66.0,67.0,68.0,69.0,70.0,71.0,72.0,73.0,74.0,75.0,76.0,77.0,78.0,79.0,80.0,81.0,82.0,83.0,84.0,85.0,86.0,87.0],\"y\":[-15.476013034534423,-9.05288732086272,-3.300211688586568,1.6305495325657544,5.695124890696973,8.92326624783164,11.384432553521568,13.16309567481748,14.344775865018857,15.009990389546118,15.274015150949928,14.9579972688622,14.3188139084384,13.428508534315966,12.645534534345252,11.67063004331696,10.824289518105806,10.007650840558233,9.319647505755311,8.96100664166746,8.674585825991082,8.49250410629791,8.358202139133528,8.314442644554555,8.510883994580945,8.81694565671408,9.203840667891503,9.585449772839617,9.913935229330953,10.28475287523472,10.60479383819039,10.95347563377998,11.2911975604836,11.557549842661814,11.801973590857878,12.120425236912354,12.414301147918373,12.74962595946214,13.196463361472349,13.561350808638714,13.823208969838625,14.00717964189857,14.089879919634097,14.082540617786986,13.807160116276444,13.263251670186728,12.741029771444502,12.143252517709085,11.60387879451277,10.67209733626714,9.679494986222895,8.697127776450007,7.857694766231233,7.002493719750253,6.337248942541573,5.512728624316568,4.987378921668378,4.424496878635379,4.024536203210496,3.622902680549221,3.08623864167753,2.6509808524362475,2.02811399722451,1.3375390866238095,0.8512761718249976,0.6139271446062706,0.0847035809660744,-0.4581247043001126,-1.3895323950964205,-2.3351298386503903,-3.118304750313318,-4.06371668119404,-5.102913887733034,-6.20215113226834,-7.891004196621909,-9.527287010555169,-11.367967800598636,-12.9750205388711,-14.308181683509572,-15.206332522768829,-15.956278597920848,-16.527684371335226,-16.39357941588891,-15.669949644516334,-14.503815718022286,-13.035410153878503,-11.038735371201962,-8.613309675863022,-5.778949715252889,-2.5757739306379315,0.7460650635327087,4.303490240840887,7.644012232215783,10.715986277468147,13.38385602543419,15.69893523900338,17.403366231901025,18.45798404490837,18.75065136941251,18.761151557344835,18.485547892572804,18.02203122826047,17.626457806809988,17.04011775389571,16.478044187830367,15.743368931052505,14.864598295106935,13.557436958116591,11.83338785774302,8.850448641485208,4.438260391944397,-2.3872634839299027,-12.123851887260752,-25.258942445001576,-39.14956289157545,-50.50749542138446,-57.24620947067648,-59.27186131044297,-57.84516598757352,-54.8662818946741,-51.080538377695824,-47.0988683570496,-43.54953448090918,-40.72302479824771,-38.243414961076894,-36.36740387948307,-35.088899909039164,-34.238191243520184,-33.93499887959856,-33.67289502042181,-33.42878590653999,-33.2378096284177,-32.89077180221369,-32.468348522924,-31.836141246993098,-31.570013986548886,-31.29701139305896,-31.01244575387518,-30.91915394548321,-30.78532096593589,-30.35152475001368,-29.827056081201462,-29.03534971266784,-27.89364447674447,-26.79158104969368,-25.44038268648266,-23.921166738475293,-22.38294876993261,-20.759817428132195,-19.232766328750344,-17.83859867455445,-16.830294454299764,-16.225511627302815,-15.952637100720835,-16.289102328756588,-17.174031950776328,-18.565536559518343,-20.484464436613493,-22.290867313734505,-24.1487947938807,-26.050820489178957,-27.695280679279524,-29.055638209684087,-30.24668869601058,-31.101510675378336,-31.73520567326697,-32.650000066383974,-33.65214865881495,-34.70892281800234,-36.307918664178246,-38.06600407028076,-39.716125646924766,-41.59324745166764,-43.63669536970485,-45.89776056961583,-48.05197463301824,-50.0903858923018,-52.31385303869138,-54.4892312239153,-56.53322959817384,-58.1465145398226,-59.72913405291715,-61.83545719302051,-64.1365230820349,-67.10229444229441,-70.27071030093124,-74.58760175695484,-79.40338638632802,-84.54955412051868,-89.07191138018814,-93.96700069676984,-98.14669536871426,-100.5395220543974,-99.62846710145703,-90.73970576399786,-57.07784496883626,-17.916047651995875,2.54935893295266,10.538081163541044,13.862646303706612,15.675139711922142,16.267086097525436,16.77579940276162,17.257989298703595,17.894725799434237,18.43327361731232,19.56606436466967,20.79851369322494,22.08533758359973,23.72650423257486,25.726789982391587,26.91911221158537,29.734935635495223,33.12741081448632,37.048579839169655,41.3860429083316,45.96638170036572,50.57348129533494,54.97582218023842,58.948350515830576,62.27170137536825],\"type\":\"scatter\",\"xaxis\":\"x\",\"yaxis\":\"y\"},{\"mode\":\"lines\",\"x\":[0.0,1.0,2.0,3.0,4.0,5.0,6.0,7.0,8.0,9.0,10.0,11.0,12.0,13.0,14.0,15.0,16.0,17.0,18.0,19.0,20.0,21.0,22.0,23.0,24.0,25.0,26.0,27.0,28.0,29.0,30.0,31.0,32.0,33.0,34.0,35.0,36.0,37.0,38.0,39.0,40.0,41.0,42.0,43.0,44.0,45.0,46.0,47.0,48.0,49.0,50.0,51.0,52.0,53.0,54.0,55.0,56.0,57.0,58.0,59.0,60.0,61.0,62.0,63.0,64.0,65.0,66.0,67.0,68.0,69.0,70.0,71.0,72.0,73.0,74.0,75.0,76.0,77.0,78.0,79.0,80.0,81.0,82.0,83.0,84.0,85.0,86.0,87.0],\"y\":[182.10116748706037,147.03213354096744,120.33454833904356,99.67308700390842,83.44087327485953,70.51158131252748,60.08194825097255,681.516303047666,-242.33893794571247,79.81006978129301,-628.9300594999451,-2306.4265602066803,3388.776228115338,-482.56335105446135,-1688.7763420780802,1381.57782150939,-1217.7588968983905,1192.004840228581,-1139.4237855898546,134.24086250632038,132.52151170636284,-176.30873308517414,1271.9574936832446,-702.792676035009,-821.1486267251145,2255.304955628055,-1831.004597751689,597.1245708892596,-438.5528089512612,41.43340085022784,-336.05884379924777,163.47378349209612,482.2769400043825,456.2179247858628,-382.3347204635653,-963.8659186790796,1155.9919209027632,-1655.9823025011165,2025.1458976600247,-807.1272575511423,-595.3994541068272,814.7792880911327,298.5169446102282,-868.0374920601495,1976.249257982816,-581.9889115229151,-226.62378660472592,-213.17677409852064,113.38079389240218,101.80335970499976,-79.29271652142711,997.971367974796,-821.1867192063377,-580.098417827054,381.4089227212777,-926.1312212131988,227.6432907418431,865.7350178419447,-608.5265493843342,164.52732047245954,-174.01846928671264,854.8896216562174,-261.8224263500951,898.7950104004575,-846.0699132885666,-526.3170643712182,430.8989484687673,-74.54105549876633,286.5626310770897,-365.1267869790004,752.5512537936988,-963.554749624196,-4.641272661962292,544.3178625725949,-1113.0752188055162,2191.610836212824,-688.143499035038,-736.0388725050418,981.7402559536564,-680.6954345610757,-282.5934886223076,833.5439794332656,-1036.097071933333,-112.11869940451209,-138.23575878937675,-65.13520699205468,-651.6670808769388,252.9308653045284,-101.54855068050011,-68.69587665373045,-954.3119580249946,324.0636126887133,647.8361868117227,-343.26743391787187,428.6193506398287,-740.9455849009923,-442.8513830576608,1139.5084106381582,-1392.09392581083,46.78669956584236,1165.33816237844,-979.7020099071974,-118.65398391998694,645.3769631267345,-384.4830775435266,134.8269261615005,596.6048219304531,-2.579708507643663,23.51740355320564,44.73034509737073,646.9032956237136,257.7542251873947,16.762388119425044,-238.84496767978357,-218.19328224408,159.2853032038134,-201.17766990312344,-344.7331751562286,-520.7300889191172,535.674459582233,-867.3067767832664,-329.68329504771464,-213.8850625217825,-366.69947800541536,-420.6281007204176,-762.0530183955702,-464.458332716676,-1379.2681840597068,649.0669125576458,1778.8998122008466,-1531.7769011193643,-229.0806589776526,-2431.3386968637687,-1537.2063732069323,-3055.198202577868,1051.6417843420386,-2507.379757621105,-25.04954195493525,-1367.4497650151045,6408.093540164606,1018.4003710777693,280.2334824959241,4559.920162203522,-976.3194020273525,2670.8386657734804,-2579.1171506296632,175.60594170318166,748.4763261127534,644.3708102044925,20.577339333293757,475.8039511206261,417.8027738716138,600.7946225682825,-2765.107101879212,826.9788370897624,-83.5964952451711,1313.8682179118914,-288.12133111219475,-90.82828862715586,279.967852810824,780.3873647790098,-961.6659557319912,-1224.9327131864695,1420.8280914802529,-1482.101755094804,1650.9304707827357,572.0542728309613,-1141.0552310710857,688.3689159002284,904.7214966538174,-91.67891097592296,1278.7943944176195,-1298.0583322206232,734.844116562492,391.7523287438729,192.62465412687035,-1544.9023044747587,37.9442606095106,-477.9658625095124,623.7219005217707,-1859.209099116159,1736.9156105485167,-772.1985939511488,109.42927997690444,441.23529028436457,-1253.6625737135196,-549.6101472771859,2391.11531820222,-991.3792556490588,40.71689181025828,785.170897096806,10.752070301416891,-1569.4949142332698,587.8834743426933,-1856.4981241754488,-319.5600648046276,86.38669881205318,-204.1853318817486,224.6397693773776,-208.2893091907989,2383.294874413057,-695.3264613640164,245.8367692101509,103.22104123128996,500.85306722742206,249.53253141877383,173.8008755789703,69.70843874842271,976.4275901733504,-644.0072828762719,165.43519177418835,97.88834211625812,96.0512636590941,94.96446560844784,94.5173253072128,94.60960764013704,95.14681976885076,96.03607227312771,null],\"type\":\"scatter\",\"xaxis\":\"x3\",\"yaxis\":\"y3\"},{\"mode\":\"lines\",\"x\":[0.0,1.0,2.0,3.0,4.0,5.0,6.0,7.0,8.0,9.0,10.0,11.0,12.0,13.0,14.0,15.0,16.0,17.0,18.0,19.0,20.0,21.0,22.0,23.0,24.0,25.0,26.0,27.0,28.0,29.0,30.0,31.0,32.0,33.0,34.0,35.0,36.0,37.0,38.0,39.0,40.0,41.0,42.0,43.0,44.0,45.0,46.0,47.0,48.0,49.0,50.0,51.0,52.0,53.0,54.0,55.0,56.0,57.0,58.0,59.0,60.0,61.0,62.0,63.0,64.0,65.0,66.0,67.0,68.0,69.0,70.0,71.0,72.0,73.0,74.0,75.0,76.0,77.0,78.0,79.0,80.0,81.0,82.0,83.0,84.0,85.0,86.0,87.0],\"y\":[-12.08197251031618,-9.975225231311075,-8.377118640548657,-7.126495198697436,-6.13183477257977,-5.337598817296242,-4.708000915276904,-4.218399345219854,-3.850300621378582,-3.588179451829641,-3.4348616697808945,-3.4241500005742496,-3.349835665955226,-3.178718548497657,-3.1204744644532627,-2.984583526135935,-2.8300391404016265,-2.48235631303264,-1.987879628009095,-1.4697539120280263,-0.8723965018478587,-0.2845742218476865,0.3106005729067514,0.990454809995341,1.7417357838045264,2.4386912366918696,3.043481738125026,3.661348530529312,3.988024257313172,4.342352482506823,4.655572051972141,4.894556847740667,5.208374611117618,5.255997744031698,5.2192784563133205,5.120705885826864,4.970895956371658,4.766380120769752,4.616744468685108,4.542004710857908,4.199341468318803,3.5489585936487376,2.7523643106357247,1.631791456562999,0.2197950529358586,-1.4230293978809645,-3.3635537965899247,-5.656344436531991,-7.96948614020316,-10.486587810388713,-13.28516449274882,-16.153385609199145,-19.092772280636357,-21.86295653216739,-24.18823130240451,-26.251709761731654,-27.78334999728275,-29.089452152221373,-30.032512634480234,-30.97445726538785,-31.871658777400928,-32.20160709201429,-32.60142658961198,-32.86687351687671,-33.07671407327477,-33.18276968699583,-33.57950905168268,-34.069636515936665,-34.72373344222976,-35.784453094143096,-36.64848554931628,-37.66226384446285,-38.34810076751162,-38.75821614773557,-39.09523076450218,-39.06648634078324,-38.60651679998716,-37.25322599000589,-34.90276801199338,-31.480857285251773,-27.307709986969837,-22.563743004871167,-17.398686810562594,-12.103396115394109,-7.117939808726276,-2.7359771262331183,1.0303826974865944,3.677283618932913,5.429140847939283,6.5299034547323975,7.085805906114112,7.171004763194923,6.961631961539447,6.485861329959464,5.741952958339747,4.969209456774981,3.9964514036907817,2.667725559031426,1.0093583048114405,-0.5512942800381138,-2.456173953076205,-4.746330841914848,-6.901561536965061,-9.003477189432385,-10.984890481719802,-12.988022484418106,-14.68236563771928,-16.238019633732293,-17.522173297872715,-19.026187063263905,-20.500393673128134,-21.831090785306007,-23.065098382805864,-24.14833023230488,-24.99388626689562,-25.639371233017037,-26.30774013791394,-26.760133157517583,-27.01308802220544,-27.27624236662047,-27.173094701026407,-26.576724369931476,-25.43240239232225,-23.843431379873987,-21.44688379481751,-18.52653627332089,-15.494947279050422,-12.301721023142884,-9.305473566540591,-6.291463894783053,-3.3158260708979665,-0.439739156256254,2.1893307260660437,4.481298275608153,6.212624056563723,7.378820077153179,8.224248981237054,8.757843489135434,9.043026601127991,9.354984917639223,9.693558610593618,9.78005809592584,9.570278345846974,9.201776733775317,8.509639758470321,7.566078140222303,6.529731712162349,5.327894859133548,3.9983967209859097,2.556504670179649,1.2160438219653378,-0.1057324478433503,-1.2898729852634994,-2.437904331209779,-3.426826277988257,-4.227134723498834,-4.873502770296704,-5.259511153632546,-5.577680538691672,-5.791184624398061,-6.062720406945222,-6.219764428722256,-6.284841009537189,-6.395199726217793,-6.465705166768462,-6.430632976190423,-6.582339066707771,-6.62346034268872,-6.553446972795322,-6.302508434244496,-5.988231444406168,-5.552479279711617,-5.177383739565628,-4.8484548573199495,-4.558814171747708,-4.32383418973421,-4.047698520602275,-3.8630259434432745,-3.733378657538446,-3.863823402779688,-3.9519349288078223,-4.360000312634,-5.144803057333516,-6.14424206984068,-7.450776614736219,-9.021953997632671,-10.852539432057917,-12.797300176298748,-14.672577485337666,-16.208427635958326,-17.65849333767174,-18.767151385005324,-19.5014663909834,-19.73288219235142,-19.472029439234035,-18.46004025595575,-16.954262189778397,-15.194377900780768,-13.221235319728637,-10.862843684666103,-8.663079748054836,-6.387613250163888,-4.030180882521837,-1.815712168145727,0.2872459094713737,2.170120453749781,4.054902693885988,5.899384284887352,7.720428936426228,9.06740557310024,10.375633847623249,11.006251367090176,12.117153520504552,13.01352497650435,13.681584935161464,14.111388232713532,14.297835690793692,14.242960483759822,13.960267844283273,13.48228389450257,12.872980933170917],\"type\":\"scatter\",\"xaxis\":\"x2\",\"yaxis\":\"y2\"},{\"mode\":\"lines\",\"x\":[0.0,1.0,2.0,3.0,4.0,5.0,6.0,7.0,8.0,9.0,10.0,11.0,12.0,13.0,14.0,15.0,16.0,17.0,18.0,19.0,20.0,21.0,22.0,23.0,24.0,25.0,26.0,27.0,28.0,29.0,30.0,31.0,32.0,33.0,34.0,35.0,36.0,37.0,38.0,39.0,40.0,41.0,42.0,43.0,44.0,45.0,46.0,47.0,48.0,49.0,50.0,51.0,52.0,53.0,54.0,55.0,56.0,57.0,58.0,59.0,60.0,61.0,62.0,63.0,64.0,65.0,66.0,67.0,68.0,69.0,70.0,71.0,72.0,73.0,74.0,75.0,76.0,77.0,78.0,79.0,80.0,81.0,82.0,83.0,84.0,85.0,86.0,87.0],\"y\":[-33.868416077266204,-23.236194817111368,-14.927633144701025,-8.32877553692768,-3.014480673168673,1.3152089645458442,4.8753152583636,727.5239662613211,-752.4099926325438,20.93973659605841,-480.95511366113175,637.9508766684781,663.2801594183369,-1151.618420514329,1053.221995587135,-1165.3814413199111,275.46158636234463,156.5679441958281,1099.0709674150971,-610.453199501503,138.09599250044678,-1844.1840391712817,2021.406752866754,-1047.6868030796322,1321.123512968781,-1702.0052789330905,337.4614448313129,-404.9810924191463,483.2903299222526,-229.27134512858248,36.35778868236628,589.6637944181006,-796.0064480749995,1200.974782239339,-1508.2362263428322,-249.25811257798665,629.2157826230881,1126.2905069224691,7.695844810732932,-976.2178785261352,-396.1947221387619,1562.0457989394502,-1620.7848856583269,423.0687864097536,-902.9017497635224,242.7730325874202,-92.52565015442028,316.77082008653696,213.4569187121317,386.9265304665461,432.2489665608476,-544.201178635744,811.3836412028877,-1359.6370778393773,807.0619729832322,457.763116895366,267.0856385256375,-406.5801399464508,-552.3704697640243,196.08949002477527,205.5560158417571,-14.760374703713495,-128.37779640223812,-404.4333834320384,-307.7852399153221,430.601612317394,-343.3352720618639,911.5918304534772,83.69753063055008,-479.6568608757532,-328.56435642993995,206.3613340746793,-149.2383049091014,-0.2211173226962515,-271.8170719297644,717.04401613542,-86.47931713841994,-655.5859846258735,121.43958240017238,389.5543274300322,-319.52094084385186,-401.6980735020341,-892.7048497149175,-7.3867536388994015,-156.2613335613361,17.589858320565032,9.448148041868553,-978.1343935256411,-149.64161025442047,283.5258404567986,-17.403493060590193,-544.8892654439528,-50.24634276647433,512.3115998101755,375.32632078886417,127.324874513987,-306.0685246648576,-370.28042426946905,543.9696859761782,-838.9451629839413,819.2527187751391,-322.9810369494683,511.3294208347723,-289.4625264630786,-506.98592254073,591.1438904128328,-386.51997660026495,1104.2339670905585,-109.88096724652752,-556.6560430671017,477.1155285689198,-120.92454576337596,597.6318394290477,54.12616511661384,-695.0498281381595,398.4747264014919,-1409.3688665682378,1777.1917512462817,-1386.9124644676765,1044.6792628658202,-540.8692402457209,688.8338992124417,-1571.392123291776,1809.3792182313607,445.8415025076602,705.9446247570748,173.48457399248062,12.063770630223791,3404.154717957097,5.391087995888277,523.8718457993681,595.9803196457844,-167.1412129308143,2758.5672630086133,9394.125314360675,1493.8694605711512,5775.28014628685,-4593.351973862077,-3364.142898260443,-8013.810363346021,-3216.0082645233647,3270.752626170359,-4610.580057752231,-1519.417222334817,-1445.8298465289502,838.7502815227921,-167.77272269090605,-1781.4568162127457,2240.5436609884264,-228.83179044555212,159.15125437066902,580.9581258975865,-976.808511472104,-324.4159874508277,-281.44547253460803,992.0689662343676,-624.5776021469292,213.5651863076551,1364.212202217502,-1063.2815024183435,-1090.222862499268,-78.11545592628622,-251.85418633550373,1120.2133819038547,-1061.467186545016,102.72192086340549,68.02584300695669,399.5381407643137,-178.89542676122682,369.9999085655379,508.8558111698103,-345.5626190139489,-450.4799891681968,65.55792107594004,968.2071146918452,-1998.926716550154,1596.5752497122264,-742.3249403124306,-77.52235498481764,-360.57233526594456,371.0558738289968,501.0633477198863,451.8107659042212,-928.5622407401972,144.78668373986147,45.3286546391225,-545.3679068959577,897.0269116795871,-836.977398877075,962.7544200434106,-1769.2809462417172,219.44343474236405,503.9402590791074,-633.6169289435645,-539.5277964153983,524.0744765746011,-305.9883018134269,622.852731565993,-1055.714417956622,226.0606738462951,244.0675712933082,-774.683838140024,162.70254546713025,-384.1841583344957,48.30096221358493,-272.1315272929973,1163.8630137500709,-918.6638782216228,309.52656276483924,214.5100477766143,-116.16257638874504,44.53266094823416,43.73380240811936,42.87753952840978,41.97587234755573,41.03938995910156,40.07733759876908,39.09770116551448,null],\"type\":\"scatter\",\"xaxis\":\"x4\",\"yaxis\":\"y4\"}],                        {\"template\":{\"data\":{\"histogram2dcontour\":[{\"type\":\"histogram2dcontour\",\"colorbar\":{\"outlinewidth\":0,\"ticks\":\"\"},\"colorscale\":[[0.0,\"#0d0887\"],[0.1111111111111111,\"#46039f\"],[0.2222222222222222,\"#7201a8\"],[0.3333333333333333,\"#9c179e\"],[0.4444444444444444,\"#bd3786\"],[0.5555555555555556,\"#d8576b\"],[0.6666666666666666,\"#ed7953\"],[0.7777777777777778,\"#fb9f3a\"],[0.8888888888888888,\"#fdca26\"],[1.0,\"#f0f921\"]]}],\"choropleth\":[{\"type\":\"choropleth\",\"colorbar\":{\"outlinewidth\":0,\"ticks\":\"\"}}],\"histogram2d\":[{\"type\":\"histogram2d\",\"colorbar\":{\"outlinewidth\":0,\"ticks\":\"\"},\"colorscale\":[[0.0,\"#0d0887\"],[0.1111111111111111,\"#46039f\"],[0.2222222222222222,\"#7201a8\"],[0.3333333333333333,\"#9c179e\"],[0.4444444444444444,\"#bd3786\"],[0.5555555555555556,\"#d8576b\"],[0.6666666666666666,\"#ed7953\"],[0.7777777777777778,\"#fb9f3a\"],[0.8888888888888888,\"#fdca26\"],[1.0,\"#f0f921\"]]}],\"heatmap\":[{\"type\":\"heatmap\",\"colorbar\":{\"outlinewidth\":0,\"ticks\":\"\"},\"colorscale\":[[0.0,\"#0d0887\"],[0.1111111111111111,\"#46039f\"],[0.2222222222222222,\"#7201a8\"],[0.3333333333333333,\"#9c179e\"],[0.4444444444444444,\"#bd3786\"],[0.5555555555555556,\"#d8576b\"],[0.6666666666666666,\"#ed7953\"],[0.7777777777777778,\"#fb9f3a\"],[0.8888888888888888,\"#fdca26\"],[1.0,\"#f0f921\"]]}],\"heatmapgl\":[{\"type\":\"heatmapgl\",\"colorbar\":{\"outlinewidth\":0,\"ticks\":\"\"},\"colorscale\":[[0.0,\"#0d0887\"],[0.1111111111111111,\"#46039f\"],[0.2222222222222222,\"#7201a8\"],[0.3333333333333333,\"#9c179e\"],[0.4444444444444444,\"#bd3786\"],[0.5555555555555556,\"#d8576b\"],[0.6666666666666666,\"#ed7953\"],[0.7777777777777778,\"#fb9f3a\"],[0.8888888888888888,\"#fdca26\"],[1.0,\"#f0f921\"]]}],\"contourcarpet\":[{\"type\":\"contourcarpet\",\"colorbar\":{\"outlinewidth\":0,\"ticks\":\"\"}}],\"contour\":[{\"type\":\"contour\",\"colorbar\":{\"outlinewidth\":0,\"ticks\":\"\"},\"colorscale\":[[0.0,\"#0d0887\"],[0.1111111111111111,\"#46039f\"],[0.2222222222222222,\"#7201a8\"],[0.3333333333333333,\"#9c179e\"],[0.4444444444444444,\"#bd3786\"],[0.5555555555555556,\"#d8576b\"],[0.6666666666666666,\"#ed7953\"],[0.7777777777777778,\"#fb9f3a\"],[0.8888888888888888,\"#fdca26\"],[1.0,\"#f0f921\"]]}],\"surface\":[{\"type\":\"surface\",\"colorbar\":{\"outlinewidth\":0,\"ticks\":\"\"},\"colorscale\":[[0.0,\"#0d0887\"],[0.1111111111111111,\"#46039f\"],[0.2222222222222222,\"#7201a8\"],[0.3333333333333333,\"#9c179e\"],[0.4444444444444444,\"#bd3786\"],[0.5555555555555556,\"#d8576b\"],[0.6666666666666666,\"#ed7953\"],[0.7777777777777778,\"#fb9f3a\"],[0.8888888888888888,\"#fdca26\"],[1.0,\"#f0f921\"]]}],\"mesh3d\":[{\"type\":\"mesh3d\",\"colorbar\":{\"outlinewidth\":0,\"ticks\":\"\"}}],\"scatter\":[{\"fillpattern\":{\"fillmode\":\"overlay\",\"size\":10,\"solidity\":0.2},\"type\":\"scatter\"}],\"parcoords\":[{\"type\":\"parcoords\",\"line\":{\"colorbar\":{\"outlinewidth\":0,\"ticks\":\"\"}}}],\"scatterpolargl\":[{\"type\":\"scatterpolargl\",\"marker\":{\"colorbar\":{\"outlinewidth\":0,\"ticks\":\"\"}}}],\"bar\":[{\"error_x\":{\"color\":\"#2a3f5f\"},\"error_y\":{\"color\":\"#2a3f5f\"},\"marker\":{\"line\":{\"color\":\"#E5ECF6\",\"width\":0.5},\"pattern\":{\"fillmode\":\"overlay\",\"size\":10,\"solidity\":0.2}},\"type\":\"bar\"}],\"scattergeo\":[{\"type\":\"scattergeo\",\"marker\":{\"colorbar\":{\"outlinewidth\":0,\"ticks\":\"\"}}}],\"scatterpolar\":[{\"type\":\"scatterpolar\",\"marker\":{\"colorbar\":{\"outlinewidth\":0,\"ticks\":\"\"}}}],\"histogram\":[{\"marker\":{\"pattern\":{\"fillmode\":\"overlay\",\"size\":10,\"solidity\":0.2}},\"type\":\"histogram\"}],\"scattergl\":[{\"type\":\"scattergl\",\"marker\":{\"colorbar\":{\"outlinewidth\":0,\"ticks\":\"\"}}}],\"scatter3d\":[{\"type\":\"scatter3d\",\"line\":{\"colorbar\":{\"outlinewidth\":0,\"ticks\":\"\"}},\"marker\":{\"colorbar\":{\"outlinewidth\":0,\"ticks\":\"\"}}}],\"scattermapbox\":[{\"type\":\"scattermapbox\",\"marker\":{\"colorbar\":{\"outlinewidth\":0,\"ticks\":\"\"}}}],\"scatterternary\":[{\"type\":\"scatterternary\",\"marker\":{\"colorbar\":{\"outlinewidth\":0,\"ticks\":\"\"}}}],\"scattercarpet\":[{\"type\":\"scattercarpet\",\"marker\":{\"colorbar\":{\"outlinewidth\":0,\"ticks\":\"\"}}}],\"carpet\":[{\"aaxis\":{\"endlinecolor\":\"#2a3f5f\",\"gridcolor\":\"white\",\"linecolor\":\"white\",\"minorgridcolor\":\"white\",\"startlinecolor\":\"#2a3f5f\"},\"baxis\":{\"endlinecolor\":\"#2a3f5f\",\"gridcolor\":\"white\",\"linecolor\":\"white\",\"minorgridcolor\":\"white\",\"startlinecolor\":\"#2a3f5f\"},\"type\":\"carpet\"}],\"table\":[{\"cells\":{\"fill\":{\"color\":\"#EBF0F8\"},\"line\":{\"color\":\"white\"}},\"header\":{\"fill\":{\"color\":\"#C8D4E3\"},\"line\":{\"color\":\"white\"}},\"type\":\"table\"}],\"barpolar\":[{\"marker\":{\"line\":{\"color\":\"#E5ECF6\",\"width\":0.5},\"pattern\":{\"fillmode\":\"overlay\",\"size\":10,\"solidity\":0.2}},\"type\":\"barpolar\"}],\"pie\":[{\"automargin\":true,\"type\":\"pie\"}]},\"layout\":{\"autotypenumbers\":\"strict\",\"colorway\":[\"#636efa\",\"#EF553B\",\"#00cc96\",\"#ab63fa\",\"#FFA15A\",\"#19d3f3\",\"#FF6692\",\"#B6E880\",\"#FF97FF\",\"#FECB52\"],\"font\":{\"color\":\"#2a3f5f\"},\"hovermode\":\"closest\",\"hoverlabel\":{\"align\":\"left\"},\"paper_bgcolor\":\"white\",\"plot_bgcolor\":\"#E5ECF6\",\"polar\":{\"bgcolor\":\"#E5ECF6\",\"angularaxis\":{\"gridcolor\":\"white\",\"linecolor\":\"white\",\"ticks\":\"\"},\"radialaxis\":{\"gridcolor\":\"white\",\"linecolor\":\"white\",\"ticks\":\"\"}},\"ternary\":{\"bgcolor\":\"#E5ECF6\",\"aaxis\":{\"gridcolor\":\"white\",\"linecolor\":\"white\",\"ticks\":\"\"},\"baxis\":{\"gridcolor\":\"white\",\"linecolor\":\"white\",\"ticks\":\"\"},\"caxis\":{\"gridcolor\":\"white\",\"linecolor\":\"white\",\"ticks\":\"\"}},\"coloraxis\":{\"colorbar\":{\"outlinewidth\":0,\"ticks\":\"\"}},\"colorscale\":{\"sequential\":[[0.0,\"#0d0887\"],[0.1111111111111111,\"#46039f\"],[0.2222222222222222,\"#7201a8\"],[0.3333333333333333,\"#9c179e\"],[0.4444444444444444,\"#bd3786\"],[0.5555555555555556,\"#d8576b\"],[0.6666666666666666,\"#ed7953\"],[0.7777777777777778,\"#fb9f3a\"],[0.8888888888888888,\"#fdca26\"],[1.0,\"#f0f921\"]],\"sequentialminus\":[[0.0,\"#0d0887\"],[0.1111111111111111,\"#46039f\"],[0.2222222222222222,\"#7201a8\"],[0.3333333333333333,\"#9c179e\"],[0.4444444444444444,\"#bd3786\"],[0.5555555555555556,\"#d8576b\"],[0.6666666666666666,\"#ed7953\"],[0.7777777777777778,\"#fb9f3a\"],[0.8888888888888888,\"#fdca26\"],[1.0,\"#f0f921\"]],\"diverging\":[[0,\"#8e0152\"],[0.1,\"#c51b7d\"],[0.2,\"#de77ae\"],[0.3,\"#f1b6da\"],[0.4,\"#fde0ef\"],[0.5,\"#f7f7f7\"],[0.6,\"#e6f5d0\"],[0.7,\"#b8e186\"],[0.8,\"#7fbc41\"],[0.9,\"#4d9221\"],[1,\"#276419\"]]},\"xaxis\":{\"gridcolor\":\"white\",\"linecolor\":\"white\",\"ticks\":\"\",\"title\":{\"standoff\":15},\"zerolinecolor\":\"white\",\"automargin\":true,\"zerolinewidth\":2},\"yaxis\":{\"gridcolor\":\"white\",\"linecolor\":\"white\",\"ticks\":\"\",\"title\":{\"standoff\":15},\"zerolinecolor\":\"white\",\"automargin\":true,\"zerolinewidth\":2},\"scene\":{\"xaxis\":{\"backgroundcolor\":\"#E5ECF6\",\"gridcolor\":\"white\",\"linecolor\":\"white\",\"showbackground\":true,\"ticks\":\"\",\"zerolinecolor\":\"white\",\"gridwidth\":2},\"yaxis\":{\"backgroundcolor\":\"#E5ECF6\",\"gridcolor\":\"white\",\"linecolor\":\"white\",\"showbackground\":true,\"ticks\":\"\",\"zerolinecolor\":\"white\",\"gridwidth\":2},\"zaxis\":{\"backgroundcolor\":\"#E5ECF6\",\"gridcolor\":\"white\",\"linecolor\":\"white\",\"showbackground\":true,\"ticks\":\"\",\"zerolinecolor\":\"white\",\"gridwidth\":2}},\"shapedefaults\":{\"line\":{\"color\":\"#2a3f5f\"}},\"annotationdefaults\":{\"arrowcolor\":\"#2a3f5f\",\"arrowhead\":0,\"arrowwidth\":1},\"geo\":{\"bgcolor\":\"white\",\"landcolor\":\"#E5ECF6\",\"subunitcolor\":\"white\",\"showland\":true,\"showlakes\":true,\"lakecolor\":\"white\"},\"title\":{\"x\":0.05},\"mapbox\":{\"style\":\"light\"}}},\"xaxis\":{\"anchor\":\"y\",\"domain\":[0.0,0.45]},\"yaxis\":{\"anchor\":\"x\",\"domain\":[0.625,1.0]},\"xaxis2\":{\"anchor\":\"y2\",\"domain\":[0.55,1.0]},\"yaxis2\":{\"anchor\":\"x2\",\"domain\":[0.625,1.0]},\"xaxis3\":{\"anchor\":\"y3\",\"domain\":[0.0,0.45]},\"yaxis3\":{\"anchor\":\"x3\",\"domain\":[0.0,0.375]},\"xaxis4\":{\"anchor\":\"y4\",\"domain\":[0.55,1.0]},\"yaxis4\":{\"anchor\":\"x4\",\"domain\":[0.0,0.375]},\"annotations\":[{\"font\":{\"size\":16},\"showarrow\":false,\"text\":\"Error Angle (theta)\",\"x\":0.225,\"xanchor\":\"center\",\"xref\":\"paper\",\"y\":1.0,\"yanchor\":\"bottom\",\"yref\":\"paper\"},{\"font\":{\"size\":16},\"showarrow\":false,\"text\":\"Error Angle (phi)\",\"x\":0.775,\"xanchor\":\"center\",\"xref\":\"paper\",\"y\":1.0,\"yanchor\":\"bottom\",\"yref\":\"paper\"},{\"font\":{\"size\":16},\"showarrow\":false,\"text\":\"Angular Speed (theta)\",\"x\":0.225,\"xanchor\":\"center\",\"xref\":\"paper\",\"y\":0.375,\"yanchor\":\"bottom\",\"yref\":\"paper\"},{\"font\":{\"size\":16},\"showarrow\":false,\"text\":\"Angular speed (phi)\",\"x\":0.775,\"xanchor\":\"center\",\"xref\":\"paper\",\"y\":0.375,\"yanchor\":\"bottom\",\"yref\":\"paper\"}]},                        {\"responsive\": true}                    ).then(function(){\n",
       "                            \n",
       "var gd = document.getElementById('67a787f0-478f-403b-8b2a-cf819ea938a4');\n",
       "var x = new MutationObserver(function (mutations, observer) {{\n",
       "        var display = window.getComputedStyle(gd).display;\n",
       "        if (!display || display === 'none') {{\n",
       "            console.log([gd, 'removed!']);\n",
       "            Plotly.purge(gd);\n",
       "            observer.disconnect();\n",
       "        }}\n",
       "}});\n",
       "\n",
       "// Listen for the removal of the full notebook cells\n",
       "var notebookContainer = gd.closest('#notebook-container');\n",
       "if (notebookContainer) {{\n",
       "    x.observe(notebookContainer, {childList: true});\n",
       "}}\n",
       "\n",
       "// Listen for the clearing of the current output cell\n",
       "var outputEl = gd.closest('.output');\n",
       "if (outputEl) {{\n",
       "    x.observe(outputEl, {childList: true});\n",
       "}}\n",
       "\n",
       "                        })                };                });            </script>        </div>"
      ]
     },
     "metadata": {},
     "output_type": "display_data"
    },
    {
     "data": {
      "application/vnd.plotly.v1+json": {
       "config": {
        "plotlyServerURL": "https://plot.ly"
       },
       "data": [
        {
         "mode": "lines",
         "type": "scatter",
         "x": [
          0,
          1,
          2,
          3,
          4,
          5,
          6,
          7,
          8,
          9,
          10,
          11,
          12,
          13,
          14,
          15,
          16,
          17,
          18,
          19,
          20,
          21,
          22,
          23,
          24,
          25,
          26,
          27,
          28,
          29,
          30,
          31,
          32,
          33,
          34,
          35,
          36,
          37,
          38,
          39,
          40,
          41,
          42,
          43,
          44,
          45,
          46,
          47,
          48,
          49,
          50,
          51,
          52,
          53,
          54,
          55,
          56,
          57,
          58,
          59,
          60,
          61,
          62,
          63,
          64,
          65,
          66,
          67,
          68,
          69,
          70,
          71,
          72,
          73,
          74,
          75,
          76,
          77,
          78,
          79,
          80,
          81,
          82,
          83,
          84,
          85,
          86,
          87
         ],
         "xaxis": "x",
         "y": [
          -7.047282865962091,
          -6.496930612373585,
          -6.012625309917048,
          -5.588754258116388,
          -5.221236699351128,
          -4.907139830743615,
          -4.644372959096306,
          -4.431428632946957,
          -4.267149386400529,
          -4.150505768566724,
          -4.095378525888029,
          -4.059272487208956,
          -4.16413625613907,
          -4.192102933421283,
          -4.226946840508375,
          -4.26867773035429,
          -4.450185198439447,
          -4.433076847111716,
          -4.59958912481434,
          -4.751846726319101,
          -4.976095861295376,
          -5.132146247367111,
          -5.246418021852834,
          -5.446946188055735,
          -5.624450443430891,
          -5.820659966885208,
          -5.954997424708692,
          -6.046140654116329,
          -6.087283673257693,
          -5.959814632799119,
          -5.744053503680032,
          -5.479953644421125,
          -5.106087267718127,
          -4.917391268878392,
          -4.571251377641418,
          -4.136147822795768,
          -3.5220303541212337,
          -3.117503734405238,
          -2.74997924229131,
          -2.450474476874498,
          -2.137275018199819,
          -1.8244314076639856,
          -1.6702929795418526,
          -1.5695229308126564,
          -1.4590554427498308,
          -1.364803412811135,
          -1.2791923106340342,
          -1.0832531605801512,
          -1.0880712767463092,
          -1.1235727015668724,
          -1.3040901572780474,
          -1.6703249017098936,
          -1.984109891926556,
          -2.0614824816757347,
          -2.127606954780799,
          -2.072902338658723,
          -2.0349207640456743,
          -2.1351936462977297,
          -2.184188381512107,
          -2.338951599422754,
          -2.5466400077187514,
          -2.7109873193510614,
          -2.9200682696864804,
          -3.032456276419984,
          -3.228579544819429,
          -3.3894545788219053,
          -3.495245444633904,
          -3.629164114955983,
          -3.8438732715498514,
          -4.12505407863198,
          -4.264443177212281,
          -4.281761426111832,
          -4.305633192522709,
          -4.188011177124785,
          -4.052123154260856,
          -4.046707942593565,
          -4.133073319749992,
          -4.187597873800954,
          -4.387927924704133,
          -4.606196762305458,
          -4.825244771086831,
          -5.151716595526263,
          -5.683434965529433,
          -6.117711576708204,
          -6.720638672377975,
          -7.244940459049159,
          -7.802166773491828,
          -8.401823189661053,
          -8.9456408342111,
          -9.357121411054113,
          -9.690838902825211,
          -10.02271582204986,
          -10.246682460421011,
          -10.41882436098118,
          -10.66225691855647,
          -10.844502756997883,
          -11.1388295287081,
          -11.41066300879674,
          -11.63552566667797,
          -12.063230762544752,
          -12.68744634292826,
          -13.463194198460906,
          -14.17628524614488,
          -15.21467485639,
          -16.30294099342822,
          -17.41430647050868,
          -18.70941417512568,
          -20.180137985671816,
          -21.730129257183645,
          -23.29620895656112,
          -25.157248137880437,
          -27.172043717415225,
          -29.031164407420853,
          -31.208242991529172,
          -33.128108345663605,
          -35.24477749109762,
          -37.04339121632099,
          -38.76017750759432,
          -40.732781925907055,
          -43.22408472569085,
          -46.303922274521575,
          -50.41077725774926,
          -56.03317811056886,
          -63.8479692567506,
          -76.95529346701323,
          -112.008095718546,
          150.2633785598259,
          115.74553463418144,
          98.4729064713324,
          84.56560724010221,
          73.27296064770057,
          63.717238871078585,
          55.955645632697376,
          49.77582144685327,
          44.39825179047388,
          40.069892959961926,
          37.13227041744309,
          35.03735786931292,
          34.11633983999855,
          33.48799569069874,
          33.59453563959666,
          33.95814219776177,
          34.39584768051455,
          35.03103642182489,
          35.488635848222685,
          36.10890541872156,
          36.47925559773043,
          36.540936025551495,
          36.75463192344007,
          36.958500328576,
          37.11709176477516,
          37.22959196207712,
          37.20990802679616,
          36.87512839454347,
          36.75690104466848,
          36.68342757810756,
          36.42288031587751,
          36.313205361348814,
          36.26437637435701,
          36.15936169607093,
          36.092786876569285,
          35.81758858763574,
          35.66396556154358,
          35.566370171317864,
          35.573077401951345,
          35.3839125865494,
          35.26681419925362,
          35.166477299584464,
          35.03852432245027,
          34.93692605543323,
          34.80483965178797,
          34.57595113722894,
          34.177118321174945,
          33.79486743196371,
          33.22690492179459,
          32.63195325148271,
          31.848774223744066,
          31.081912246904764,
          30.402972561931584,
          29.75576025232882,
          29.167630282524115,
          28.60664549869529,
          28.04538922969162,
          27.542316376586523,
          27.066776381792607,
          26.61158421122266,
          26.19384793111203,
          25.855146312570632,
          25.66267681212554,
          25.547111597778883,
          25.340404267879386,
          25.235810592663945,
          25.295593929382168,
          25.238354162802043,
          25.41703509033193,
          25.45374404613724,
          25.51539976562935,
          25.63092113086224,
          25.71630383779923,
          25.82241726160554,
          25.73463590489995,
          25.49802507448638,
          25.09715697176504,
          24.46340147263021,
          23.52223153651753,
          22.416341104073087,
          20.887879082253413,
          19.562311754535298,
          18.154508015015537,
          16.777916877223962,
          15.709396859931203,
          14.700903602409506,
          13.679937191749634,
          12.867185472005549,
          12.2394831461377,
          11.769589450314552,
          11.955406344547663,
          12.132425179464017,
          12.322941953981564,
          12.49479126918515,
          12.790654589288264,
          12.999965747303229,
          13.098245890101952,
          13.3117410075247,
          13.270531563326502,
          13.074966534823114,
          13.34883011966726,
          13.554002688847728,
          13.52180126262875,
          13.464730405749902,
          13.085919408891986,
          12.582562883471994,
          12.056918558957582,
          11.526586120444463,
          10.923557795185388,
          10.137748356854964,
          8.786813588748654,
          7.392902432827333,
          6.081481808002531,
          4.902462502398439,
          3.538441227711197,
          2.407990906977985,
          1.6007518643802867,
          0.7712441515936123,
          0.4606931363271796,
          0.5077581599499313,
          0.3996210346163474,
          0.1674283364277068,
          0.2015165653521596,
          0.1163683343832717,
          0.3987493483165892,
          0.3434376600348997,
          0.4115382125203098,
          0.4620407502914246,
          0.2702210531684915,
          0.0481065635028836,
          -0.1191755153136661,
          -0.1883458744830588,
          -0.2095932303184307,
          -0.150869765500853,
          0.111380229111171,
          0.4645864440190305,
          0.7901636344545553,
          1.2858490140785426,
          1.6305395176816386,
          1.5602137070986437,
          1.602851595127581,
          1.6151618457061565,
          0.957040883342368,
          -0.295679024602418,
          -3.685363207082701,
          -8.159859124710374,
          -14.863932127545658,
          -24.070538869074817,
          -34.62445365625052,
          -43.53985062843305,
          -50.84347590963159,
          -57.05261379096871,
          -62.17737528173743,
          -65.87193891498455,
          -68.29672777503953,
          -70.35975159261,
          -71.73444239421764,
          -72.82554322515706,
          -73.76815859630767,
          -74.77977462166187,
          -75.55700975064016,
          -75.90652401967935,
          -76.07750067286756,
          -75.37091171461205,
          -74.48209830385811,
          -73.20339373139002,
          -71.5341726340091,
          -69.6989662673495,
          -66.83442302036853,
          -62.97712229040332,
          -58.26373921347747,
          -52.87396083804278,
          -46.958416232385886,
          -40.63467756875744,
          -34.704042033840764,
          -29.148801313182343,
          -24.128336976080504,
          -19.81599723628736,
          -16.035450860643305,
          -12.117561249560977,
          -8.588511789445132,
          -5.98126541472366,
          -3.257034116455501,
          -0.4081194145862242,
          1.931175524841898,
          3.93928368014381,
          5.772663678265699,
          7.675378933501909,
          9.159681916097954,
          10.31061865044121,
          11.221019410466347,
          11.812749872549336,
          12.204550680526667,
          12.325116878709174,
          12.738064634500171,
          13.25229465564606,
          13.507444492236464,
          13.919400451040165,
          14.16786304996966,
          14.44131540125256,
          14.901324265839152,
          15.817947895579907,
          16.739669688139234,
          17.769040689901956,
          18.991628023637105,
          20.2257511030428,
          21.566803754949174,
          22.595896520142464,
          23.87292789696401,
          25.12401281119994,
          26.517863909397263,
          28.067473133953182,
          29.58336476147641,
          30.88129712397212,
          32.15014706871364,
          32.75426016136193,
          33.41058708143268,
          33.5239822694973,
          33.54308379301864,
          33.51369734301215,
          33.37177195351023,
          33.23436658573008,
          33.29084371018923,
          32.73890275007174,
          32.335194548523404,
          32.123797768192226,
          31.727328939032308,
          31.287774238499438,
          30.966580104417403,
          30.87384448769836,
          30.83346105883077,
          30.806287993530848,
          30.5798081367299,
          30.1354527341474,
          29.16264077279597,
          27.90536141315232,
          26.16594481350961,
          23.833949631308545,
          20.952173648467184,
          17.691160517493525,
          13.927918804066548,
          10.021568770493044,
          5.759052383494088,
          2.350860142239477,
          -1.2275871621841157,
          -4.863135551826438,
          -8.211283944439868,
          -11.42756090580247,
          -14.718672693633584,
          -18.424682569690663,
          -22.45119119560737,
          -26.593442428882817,
          -30.793678635313785,
          -34.72425754282374,
          -38.69276177972261,
          -42.73515347215307,
          -46.82099766414821,
          -50.70738749817095,
          -54.42436814745017,
          -58.16159939651624,
          -61.6366197954444,
          -65.1402724036463,
          -68.48814594443022,
          -72.23067114697994,
          -75.83844572899538,
          -79.61054749844627,
          -83.58778563436015,
          -87.7824257200073,
          -91.98110678788004,
          -95.99165031382968,
          -99.69269687181104,
          -103.2341279307223,
          -106.29355517301607,
          -109.21481298263288,
          -111.80627090595834,
          -114.04428057759635,
          -116.06377950260108,
          -117.7708365166838,
          -119.38912871475544,
          -120.82116481314904,
          -122.16113546095778,
          -123.43174116887428,
          -124.62750801879776,
          -125.79560536624436,
          -126.98924530572944,
          -128.13671397304805,
          -129.2959648334088,
          -130.39627814747706,
          -131.31228835988503,
          -132.189103332032,
          -133.0036334212122,
          -133.65632972357514,
          -134.50694919058918,
          -135.28587095573107,
          -135.8764337642588,
          -136.55269502368043,
          -137.09928778950402,
          -137.62462458195975,
          -137.82202561597546,
          -138.0219565533645,
          -138.36923355763514,
          -138.73975385476743,
          -139.08459102020444,
          -139.11903280958276,
          -139.22250827386506,
          -139.16711756261296,
          -139.03828335219148,
          -138.94911510471763,
          -139.0830779549801,
          -139.39043428648623,
          -139.9050171121279,
          -140.78415468968117,
          -141.88112607231466,
          -143.26790561598986,
          -145.0621867635042,
          -147.1946444299098,
          -149.72232570728872,
          -152.70738962001553,
          -156.36772219074868,
          -160.53348279070244,
          -164.84326034309453,
          -169.5342969331672,
          -174.5936651247797,
          -179.8389869547113,
          174.92011338735105,
          169.45815048711123,
          163.85965433406105,
          158.18793485980777,
          152.74508428913563,
          147.7755920375647,
          143.2007964501126,
          138.8643562010723,
          135.0023264329567,
          131.6914349003611,
          128.76273785048338,
          126.04605693525322,
          123.84641490377588,
          122.16246472923255,
          120.97602199465268,
          120.12359306179756,
          119.38454876250368,
          119.04406427547468,
          118.74553377838146,
          118.57437287957896,
          118.64344171602713,
          118.7759991602084,
          118.9968703754248,
          119.46783183488276,
          120.14819664798875,
          120.7098469518092,
          121.10956647006324,
          121.70239861209484,
          122.30499752678143,
          122.83809483242533,
          123.36632341277674,
          124.02927511661328,
          124.6697456442663,
          125.36310801891187,
          125.7396204356348,
          126.16496373748043,
          126.50228638269252,
          126.58368719044142,
          126.58684869924528,
          126.69835977646808,
          126.78836236267855,
          126.83904062876798,
          127.0226089125221,
          127.15925072744768,
          127.34409024258368,
          127.53081508538672,
          127.8342601027246,
          128.00575208839513,
          128.22407704455418,
          128.51696407195797,
          128.7846697873958,
          128.97660670726785,
          128.94123537294578,
          128.86024159636884,
          128.94674246427624,
          128.79526412425517,
          128.5311960595622,
          128.497478143606,
          128.58297723742086,
          128.61858100230353,
          128.69438384405845,
          128.79766449928056,
          128.91632857389263,
          129.02128722683625,
          129.05108286938605,
          129.02741197355635,
          128.88003616401315,
          128.699120139489,
          128.30538210876014,
          128.05825525353185,
          127.87715171625295,
          127.7183693910878,
          127.93753462414236,
          128.23220970379717,
          128.56223874776802,
          129.03220211078673,
          129.76313033903622,
          130.64782182251432,
          131.6039509386345,
          132.66654803316823,
          133.68629830471468,
          134.4739735363924,
          135.29820828787115,
          135.79721242941753,
          136.15656734514076,
          136.29549621284752,
          136.28768204577875,
          136.39998376976624,
          136.53451501904345,
          136.76716985058255,
          136.9208287093553,
          137.02740358459042,
          137.09498981155798,
          137.04456958936555,
          137.19719060982993,
          137.50695328992802,
          137.86966556052974,
          138.25732413064426,
          138.47871331005473,
          138.54679380880776,
          138.52081601165597,
          138.67503170113756,
          138.69496975197367,
          138.8269730987637,
          139.05492987352264,
          139.3732217233462,
          139.88251379257676,
          140.1473430972308,
          140.60578423921694,
          140.9566251235952,
          141.14898621195718,
          141.14888263610524,
          141.16207270667567,
          141.42966848383756,
          141.6514302341172,
          141.70764580393802,
          141.59804903679094,
          141.38703409319646,
          141.2623920022702,
          141.35251670593536,
          141.60547957933878,
          142.2131648729312,
          143.24589666143532,
          144.9083356409411,
          147.14267599209006,
          149.93073709994164,
          152.95745256448396,
          156.336319069948,
          160.06123382007425,
          164.1018178703731,
          168.6114822703862,
          173.74019543709312,
          176.41805478463223,
          -178.03070752352482,
          -172.27619019920266,
          -166.38617498304333,
          -160.41767424550687,
          -154.40578348580652,
          -148.35280193725183,
          -142.21725929391934,
          -135.90049615911985,
          -129.2260083184406
         ],
         "yaxis": "y"
        },
        {
         "mode": "lines",
         "type": "scatter",
         "x": [
          0,
          1,
          2,
          3,
          4,
          5,
          6,
          7,
          8,
          9,
          10,
          11,
          12,
          13,
          14,
          15,
          16,
          17,
          18,
          19,
          20,
          21,
          22,
          23,
          24,
          25,
          26,
          27,
          28,
          29,
          30,
          31,
          32,
          33,
          34,
          35,
          36,
          37,
          38,
          39,
          40,
          41,
          42,
          43,
          44,
          45,
          46,
          47,
          48,
          49,
          50,
          51,
          52,
          53,
          54,
          55,
          56,
          57,
          58,
          59,
          60,
          61,
          62,
          63,
          64,
          65,
          66,
          67,
          68,
          69,
          70,
          71,
          72,
          73,
          74,
          75,
          76,
          77,
          78,
          79,
          80,
          81,
          82,
          83,
          84,
          85,
          86,
          87
         ],
         "xaxis": "x3",
         "y": [
          -395.1912626933032,
          -300.9312734087991,
          -235.3118681230644,
          -188.49472050920656,
          -154.36656518036858,
          -129.02167895769506,
          -109.89819288841085,
          330.31016249984646,
          -1482.677276999165,
          633.6431706432588,
          -264.5780218046368,
          1036.941392687334,
          -1204.2834886398257,
          286.0933377015923,
          689.0955409949888,
          -362.9782351290288,
          -459.5272826026082,
          1199.5986962056074,
          -1530.8209358232502,
          456.7342155967428,
          854.8790476907465,
          701.7481855829421,
          -371.6641824964395,
          360.9669992340588,
          -914.8887195802416,
          -802.5837372876075,
          1269.0679541643171,
          -1309.304008486156,
          935.1840775971552,
          631.4915493124164,
          300.41163279942293,
          -681.8148409805126,
          -742.6486932137259,
          1578.8006410819282,
          -806.1855559358369,
          -138.1504999113151,
          1041.0574928957303,
          -1502.020016271684,
          -145.4499377894849,
          894.3679653961292,
          -800.4593197783548,
          -331.7211427311252,
          858.3290058817546,
          -212.0502712881226,
          140.68159471990393,
          -209.60015698761575,
          -47.5782725437406,
          479.5891795226962,
          66.67712196697234,
          -701.3904282950741,
          378.87475137625455,
          -273.6264545369733,
          788.1346510077136,
          -310.284709560648,
          341.4118068909171,
          -264.2340092724262,
          165.17091943740508,
          -641.0243417991418,
          649.8143319371856,
          -33.7537164088193,
          687.3677029345419,
          -720.1680307897229,
          165.3045907107229,
          -433.65299754476433,
          671.9045962556236,
          -519.8402161862823,
          -142.9766255377117,
          239.6463328698574,
          -35.95302704274028,
          5.533567847970766,
          -34.53529176711889,
          -430.5771880684472,
          490.7581255290364,
          -58.51248339593656,
          109.29160222454276,
          -169.52656492771402,
          -192.55730937643025,
          466.5621641716788,
          -62.47569899948846,
          -203.2000322832538,
          -222.1857133101556,
          350.4896514857504,
          -0.5861052744060014,
          183.07434782701043,
          -874.786958945081,
          407.59766404916985,
          151.05568785419442,
          -74.92246807657577,
          -107.32838220961057,
          649.6573847096815,
          -699.977400243167,
          165.7185910695621,
          138.71537260934446,
          56.138449917181646,
          -240.9854436346671,
          437.3688355054561,
          -290.0074885873204,
          395.23928359765006,
          -231.0655124669353,
          -104.69653176307108,
          304.15838277730484,
          -88.1974467799057,
          -415.6226191358108,
          -47.2002461728536,
          357.41230157138864,
          -106.3494206591248,
          365.47862150236966,
          139.07761223031434,
          499.3890606465875,
          -866.7966918650287,
          -223.4754310276976,
          558.5954856475319,
          -461.2209095136008,
          -499.375945502321,
          728.0698555081732,
          340.09487078838407,
          -1063.444454468552,
          924.0799982496496,
          222.3045710707604,
          -479.782454447357,
          -245.92787551781728,
          1089.5838660173647,
          -1428.2401806354417,
          857.4958725397005,
          -473.96587714492136,
          1209.5243884422987,
          -881.9414658018815,
          -45.28762515860696,
          -636.7008761663675,
          -203.8611419605333,
          282.33602074482025,
          -847.95513320136,
          -241.1527855358243,
          1762.7459017179574,
          -745.6612119107111,
          -368.96071617330864,
          2216.46516048704,
          -989.1445502443804,
          414.8591822935237,
          479.8402808065176,
          846.7258112135245,
          -2758.6049333303854,
          2325.5103127273346,
          -965.634471367284,
          1520.2544017313744,
          -1771.4994316665193,
          860.8915848174861,
          266.1316846895065,
          -547.8851453324552,
          1290.706220734992,
          -697.8155527475968,
          -58.70003279775471,
          754.5154147343975,
          1594.2465353765872,
          -818.1464163297445,
          2297.091326773849,
          526.707306539902,
          -942.6807839507578,
          -117.02463314958143,
          3112.255189081356,
          -208.7480457694841,
          -1396.1509972076751,
          2255.363417896174,
          384.0307741258098,
          -705.7401960763183,
          -1354.4293018146263,
          -2502.064854859097,
          690.6448269678575,
          -3519.693804551756,
          1645.561044022207,
          273.5402362792652,
          142.99364960184312,
          -2319.0192432414824,
          91.22998356766354,
          457.9284345216364,
          -1034.6749669125982,
          1000.1442319027072,
          -843.7823638982886,
          401.3650860280518,
          -1133.945485423496,
          -276.6811490952508,
          255.7572920602833,
          216.62880281347677,
          302.7002926096158,
          -140.12824231146493,
          -801.0298772159587,
          114.84502140599562,
          1349.4713027872313,
          -579.2371380905645,
          -1010.887865185638,
          212.2940778198828,
          -62.909731284719605,
          -30.83179701734229,
          29.76316246044364,
          163.16353147074653,
          -360.1039131334053,
          4.381845677671775,
          41.18318617224839,
          -10.165245741018014,
          123.5962429746843,
          182.7122131088493,
          -425.1609345035042,
          159.0837803218065,
          1072.8385266083951,
          -610.4935015147147,
          -709.4803201369468,
          438.7127800023704,
          -261.67191826680846,
          -83.54136358038441,
          515.9678125311729,
          -530.4580499328557,
          6.5482795509300695,
          299.1406378122368,
          -1181.7227167942476,
          1333.8223073434538,
          157.43895862987733,
          82.22770101273558,
          -379.8064260334598,
          187.3198129881331,
          -388.737471794356,
          200.87049657829488,
          401.1872300794441,
          202.23351022639704,
          -1110.5059303610872,
          -907.6736999305962,
          1161.766263225891,
          -332.8080963121107,
          580.0575367182058,
          -266.89070095848024,
          -577.0374609547798,
          77.24163693950314,
          83.11520542681541,
          -31.094099961623076,
          1003.9097678923184,
          -43.89891365875221,
          -231.46845292991983,
          195.55283705693,
          -233.05819877308596,
          -302.0165861285871,
          1334.3995261935086,
          -940.9878442836618,
          44.76797025107737,
          214.84019106428173,
          -46.25919208341456,
          428.2227658442612,
          -574.5309631470299,
          674.0289907132249,
          -471.6568109074631,
          -332.61463758335776,
          -338.4134180274228,
          755.2278508391734,
          85.70559498056318,
          -427.65587518080497,
          272.94136227020573,
          -286.3050265703328,
          -74.31493527851873,
          -865.3665326458271,
          899.4304812381633,
          242.0678864055768,
          -1089.7447386816564,
          916.3032353426404,
          102.839808040034,
          -242.91803236460905,
          -339.15017012326814,
          217.94741858397785,
          -222.6845476704572,
          135.50648681753603,
          -718.2835781532424,
          574.3990431713129,
          575.6721431857759,
          -467.4635494877994,
          -204.92406053978831,
          6.89722014287741,
          64.91812730080981,
          -347.6580997335359,
          772.5227884724229,
          4.27720952677757,
          -614.9937515977035,
          499.9689979373274,
          768.5867835381428,
          -1161.295632871761,
          319.72776531995567,
          -731.4304862843084,
          -89.79336207540578,
          150.26384914178885,
          -455.4826477279485,
          -43.86018877878273,
          754.665133141471,
          86.66689194786007,
          -307.3995393425289,
          -300.6548869775958,
          226.1596683000947,
          -433.3860712992716,
          1684.0913469373384,
          34.69906260912159,
          152.95076815308462,
          -1151.5014005440396,
          950.3602579989722,
          1172.618219041103,
          -1802.130916737004,
          861.4451110718977,
          -710.2990105911629,
          1698.808520898195,
          896.3329707928845,
          -1438.9047736833732,
          1393.496729682296,
          -437.0605312191587,
          2254.402695831313,
          -2749.9948978437974,
          157.7511034401564,
          1601.6845287684505,
          1416.5933667876934,
          2368.443067825168,
          -2174.956411059215,
          19.13472480132405,
          673.7920910283464,
          270.2247597839218,
          1384.0318674991863,
          -3134.62616210649,
          -4107.979918653688,
          4311.566008942638,
          -2261.579295087673,
          -263.64197618737296,
          -1135.8625130468,
          2220.637647452387,
          -1859.719179782376,
          -1984.5116038027245,
          -68.6921223725071,
          434.1589032935296,
          1694.5994361158926,
          -615.9793769174203,
          520.9988900970095,
          122.3682685830616,
          635.4444469718461,
          931.0167308156948,
          -1032.809025933326,
          -660.5865444126669,
          841.7068887151227,
          -1175.4208338646636,
          2181.557068870737,
          -1610.1546709016984,
          498.7481088782595,
          -317.4665878219998,
          1333.0974951251376,
          -229.8499902852922,
          -170.05368750964146,
          663.3900555954493,
          -2064.233292126521,
          414.9779186106819,
          -66.08231431034662,
          1165.5314673860971,
          -1474.4407526001107,
          1406.1278347390628,
          -1892.6824110387904,
          573.6799583468688,
          687.5289127909683,
          532.0831752049569,
          -531.7126329524032,
          -172.20649525900234,
          -315.7734840035162,
          481.06763737853055,
          353.3682107102507,
          -404.7732790170193,
          735.344894343569,
          -1207.4965098644889,
          -677.9257471234594,
          2100.765338228762,
          -3277.2264082305546,
          494.41764523984847,
          339.1166075753303,
          303.22108604912466,
          720.9347107791602,
          -2117.8238216600034,
          1626.7536518811255,
          -120.34004346428829,
          -51.94362769531025,
          -725.6570019383469,
          1355.1415906208745,
          610.6000171258335,
          1031.779609886974,
          -1298.506910401362,
          566.5068532652282,
          478.9131151448762,
          -174.23381033658015,
          -470.8734484406123,
          1807.0097572944717,
          -4861.648854127014,
          3668.822334999716,
          -523.1810654286435,
          1154.4857340274657,
          -959.7386641012656,
          -615.3294942600751,
          -88.07712695317437,
          -848.273113925383,
          -445.4434546402685,
          466.3320561803933,
          644.9684002630789,
          -118.53901597847585,
          -446.1509832141917,
          -578.173648420059,
          641.5457415277968,
          265.70817099559576,
          -1388.7016872468305,
          2004.3086596158184,
          -592.0738851534279,
          213.9273105747528,
          -435.959517478576,
          -53.70382345850078,
          462.8411228018816,
          -1425.5813938821009,
          1188.9554195511312,
          -208.58051047312927,
          -654.4474934489908,
          -732.9222130025137,
          2185.031061776275,
          -1640.1743641356722,
          157.16258922203363,
          968.6297364208395,
          -1031.0973884141288,
          -273.1726665360269,
          405.1689633851861,
          -599.0483255975596,
          396.4417735675158,
          -186.8641329760365,
          980.0210176605824,
          -759.2180995374148,
          -651.3399416687413,
          678.0555251890603,
          -748.1509370025603,
          1469.1059802614436,
          -568.3167670035681,
          474.2312220709492,
          -534.7381651022446,
          942.2372420572126,
          -898.7723950785364,
          -513.3057919650945,
          1385.7651825274206,
          -1224.086629264285,
          863.0488631155804,
          -145.6777327212262,
          -885.1776104781246,
          1118.4311265786378,
          666.4315111304327,
          -1814.6506511987373,
          82.62748729400256,
          270.9735255739775,
          313.8665301413312,
          -241.67153631316697,
          1286.1155859741516,
          133.2138585768783,
          -73.09325805064671,
          -531.3676550267694,
          53.1243683599103,
          39.53318025226049,
          -522.8161753413734,
          1650.8778528619216,
          -197.36046936808816,
          -903.4057068115508,
          -695.7901283356374,
          931.3189655018896,
          708.8148048332516,
          -1395.3807303196122,
          -667.9861749595244,
          1236.0490614861585,
          239.7308892578573,
          -662.3775979888118,
          7.54194772629746,
          972.5411790366204,
          -255.97552296415472,
          -531.2507154951161,
          -759.2613992492165,
          239.95412841751303,
          328.22467365103057,
          -458.07514064858526,
          1450.53650922151,
          -1168.5220832807818,
          -475.74634021250506,
          -64.99075651466602,
          1333.337407827008,
          -1309.5231923910494,
          -404.1140533912838,
          933.6972837602232,
          -401.2797024404495,
          1119.0323403291902,
          -233.6761113349717,
          -388.9927966928701,
          -13.877298634474622,
          -21.498814649446807,
          -71.81467943133457,
          53.06090664139895,
          394.8808697479691,
          -48.88205105907706,
          -98.68597087094622,
          222.43981259385023,
          -850.4420483122158,
          -112.91341590523496,
          -315.8648746011236,
          1027.609541473769,
          -108.82859157666314,
          -65.13555524961134,
          -297.2968449743617,
          630.3232219344753,
          -570.3276634893408,
          -28.046433676120586,
          -164.59542865206555,
          -329.1097780853135,
          1499.5357346882352,
          -570.0909525858433,
          -674.2463060278184,
          338.75395888414295,
          261.5434374165466,
          -855.4669359982219,
          -143.55645076042836,
          798.8213561954641,
          110.3031759004024,
          274.1600903415693,
          -309.3592548406125,
          139.42560729237474,
          -364.9390965293682,
          -631.0564421583648,
          767.1626839124101,
          -1190.476020271106,
          884.0329377845612,
          222.93985053523923,
          -1219.315812430646,
          1309.4635881905488,
          -1533.5599944979706,
          498.82951594171743,
          153.20989268542334,
          -828.8299600337684,
          -252.328787268553,
          791.2335147118212,
          387.68277659983767,
          24.168027778663365,
          -706.3952814177927,
          374.36721899519273,
          632.2994161460502,
          -501.9165571209302,
          -831.4694557217518,
          1359.504155727686,
          -502.9957675712742,
          1550.8615794836242,
          -1197.294089328443,
          -885.6549896288943,
          1090.2962933693948,
          21.494147842441524,
          -242.94024360826367,
          -409.2841800846163,
          -259.3336415105944,
          258.8477713623636,
          485.6138970148198,
          -658.6296451113246,
          512.778353803835,
          -727.8840203043369,
          415.6601775164588,
          -31.241509091083557,
          223.9398732840967,
          -254.27460608156903,
          729.6253682960861,
          -409.11834933706814,
          723.4958272824609,
          -1466.8747909174554,
          276.6901763362426,
          830.4575167407933,
          47.55738995330283,
          -933.0442098956228,
          239.1743461720224,
          -651.9473027510923,
          1312.6418443524913,
          -576.8639463447735,
          -676.3484143707794,
          471.9845826497,
          -782.9430883646809,
          302.4231164388266,
          477.7282883013669,
          -378.277866711857,
          -365.3210418556978,
          96.67892834254776,
          246.27170518570085,
          -71.24751632574244,
          135.1678205585139,
          -170.00244330380758,
          -16.241126900485405,
          -24.209994278451163,
          -33.217937096838625,
          -43.69043555538343,
          -56.1860671905492,
          -71.46154468631272,
          -90.57069070572643,
          null
         ],
         "yaxis": "y3"
        },
        {
         "mode": "lines",
         "type": "scatter",
         "x": [
          0,
          1,
          2,
          3,
          4,
          5,
          6,
          7,
          8,
          9,
          10,
          11,
          12,
          13,
          14,
          15,
          16,
          17,
          18,
          19,
          20,
          21,
          22,
          23,
          24,
          25,
          26,
          27,
          28,
          29,
          30,
          31,
          32,
          33,
          34,
          35,
          36,
          37,
          38,
          39,
          40,
          41,
          42,
          43,
          44,
          45,
          46,
          47,
          48,
          49,
          50,
          51,
          52,
          53,
          54,
          55,
          56,
          57,
          58,
          59,
          60,
          61,
          62,
          63,
          64,
          65,
          66,
          67,
          68,
          69,
          70,
          71,
          72,
          73,
          74,
          75,
          76,
          77,
          78,
          79,
          80,
          81,
          82,
          83,
          84,
          85,
          86,
          87
         ],
         "xaxis": "x2",
         "y": [
          -5.291911668635685,
          -11.548404526842567,
          -18.469343865585117,
          -26.020292359313324,
          -34.06006550282886,
          -42.33832312258823,
          -50.53453540916929,
          -58.33002893816367,
          -65.47766486728446,
          -71.83555066614875,
          -79.89992377853419,
          -84.10987121416996,
          -87.36798880326074,
          -89.85499473283875,
          -91.66024745945433,
          -92.9090590644669,
          -94.17664279909792,
          -94.65689566436774,
          -95.56033275314178,
          -95.7907878710968,
          -95.80217533904056,
          -95.87215869354308,
          -95.5212308517494,
          -95.79888300637136,
          -96.1712705169507,
          -97.17763077738115,
          -98.49725777056116,
          -100.03233041425406,
          -101.53353780651192,
          -102.82544296835805,
          -103.8283507047708,
          -104.82477701140878,
          -105.48649226680514,
          -107.38232184544022,
          -108.72065938986816,
          -110.13968607403947,
          -110.74711061806352,
          -112.19581357021238,
          -113.92724643029322,
          -115.90316863321044,
          -117.78141602990029,
          -119.48659659340038,
          -121.93657590355411,
          -124.33274863417708,
          -126.56019421821524,
          -128.76555435378202,
          -131.03012099457595,
          -132.75102079383305,
          -135.43889452387847,
          -138.18907529846084,
          -141.8586326895248,
          -146.70775868664344,
          -151.6915617138594,
          -155.72229358471708,
          -159.88587445019903,
          -163.53046631823173,
          -167.34875436386133,
          -171.90559359520398,
          -176.13902162925527,
          179.16354998664173,
          174.2560623879676,
          169.705321053482,
          164.77028474166642,
          160.58684915172722,
          156.1189715332943,
          151.8983646396016,
          147.79983208074208,
          144.02638228705248,
          139.84162059135866,
          135.4394908735524,
          131.55247989166932,
          128.20568592134737,
          125.20724956600742,
          122.9891408286455,
          120.64696912101644,
          117.91780595897237,
          114.86954938252237,
          111.91163016291476,
          108.28664725278648,
          103.91570561217114,
          99.74361769134306,
          95.39207496658322,
          90.80614961417734,
          86.56804581743974,
          81.57354426662657,
          77.35985301229118,
          72.93620314113932,
          68.01813597815438,
          63.429021335087576,
          59.5844767681949,
          56.750550168429,
          54.33154360729562,
          52.700174034829786,
          51.067945353340406,
          49.65393182516676,
          48.61261628285449,
          47.76499751212653,
          47.07730815671204,
          46.4726999702041,
          46.62331299124695,
          46.85477568948284,
          46.640877838079085,
          46.05412163375406,
          45.32174860333536,
          44.596553601105775,
          43.17181228249165,
          41.86003599815638,
          40.95495799911555,
          40.2956701798993,
          39.62779295553656,
          38.81042355947096,
          38.12123512282061,
          37.29102341689045,
          36.53241252325005,
          35.92664414352684,
          35.450867459589595,
          34.81173185201244,
          34.27628830211272,
          33.78199303197874,
          33.37627492708614,
          32.92983230900147,
          32.68807205234443,
          32.74757162468861,
          32.78329172002881,
          32.99645520512131,
          33.50517177150841,
          34.23785328481569,
          35.164158172519215,
          35.923887420995186,
          36.73659523594738,
          37.76209454048534,
          38.65173481941397,
          39.64171763453135,
          40.70606289996088,
          41.50743883812669,
          42.19195451255678,
          43.41305386199247,
          44.85913465852558,
          47.165737679919154,
          49.56149378288323,
          52.79278641469968,
          56.451428764285154,
          60.27872320135666,
          64.7233957042825,
          69.2919460692701,
          74.92268390807479,
          80.62383826346978,
          85.47651229171709,
          91.361734502011,
          97.49204620962914,
          102.70555075558217,
          106.69848355980332,
          108.00299818372244,
          105.2338290301754,
          102.41025700334151,
          99.10126233603978,
          94.32880571932168,
          90.76054928209268,
          87.60472821593702,
          84.5443229491081,
          82.24335095013191,
          79.09216447502129,
          76.97392594564553,
          75.32020068564618,
          74.30899109673231,
          72.37341108986459,
          70.72265872583289,
          69.15738440097367,
          67.299164530065,
          65.2373844647878,
          62.68975712658364,
          59.28993946550266,
          54.350599964778425,
          48.528795918784006,
          41.06345493830166,
          32.98444151168993,
          24.503462118913315,
          17.907211964396097,
          11.43270009289916,
          5.603238544929107,
          1.7729344007942645,
          -1.2032789861625146,
          -3.192389301977563,
          -4.441828590669109,
          -5.1295607804408965,
          -5.1895648535040655,
          -5.484635067407348,
          -5.737497183430435,
          -6.205996573390967,
          -6.320430728436235,
          -6.3527635776308085,
          -6.699718349851214,
          -6.874174411900448,
          -7.111989462711563,
          -7.079279513785116,
          -7.393266179812788,
          -7.678860864940326,
          -8.785034261865512,
          -9.129575606411796,
          -8.866207110784451,
          -9.04700790718421,
          -9.418062079808012,
          -9.465534340990686,
          -9.643985126288088,
          -9.691048278731994,
          -9.586610637616772,
          -9.71178522173124,
          -9.731799022411664,
          -9.398764392325724,
          -8.963752895227199,
          -8.180659631755312,
          -7.28750810163004,
          -6.299404633436377,
          -5.063186112784019,
          -3.806469568601305,
          -2.489879327423805,
          -1.0277190123244553,
          0.401685350352584,
          1.664642834658193,
          2.438347627442609,
          3.2465263838468736,
          3.938203384288164,
          4.181607387297717,
          4.316132240805812,
          4.28188741407102,
          3.878167393792853,
          3.968937926091483,
          3.936429024799087,
          3.750556563446613,
          3.42061054454932,
          2.956726081359706,
          2.259910630259358,
          1.378661201876169,
          0.5046900858495388,
          -0.6136473058989046,
          -1.749043319675481,
          -3.353321415582006,
          -4.970500308784374,
          -6.699826426388857,
          -8.172080802066347,
          -9.954689098955088,
          -11.676931132046748,
          -13.158928597331736,
          -14.519681062839448,
          -15.495551504682323,
          -16.15519955795274,
          -16.656108266525095,
          -17.031373003092266,
          -17.273391976806426,
          -17.35190956427948,
          -17.509346083561383,
          -17.553577013100927,
          -17.395963421794157,
          -17.19827812394543,
          -17.089699842271866,
          -16.941243703229258,
          -16.678118284185555,
          -16.364870741259388,
          -15.959636954333195,
          -15.466413557557155,
          -14.450988927652858,
          -13.241975643820876,
          -11.606254401416876,
          -9.674114758465924,
          -7.6424193241226,
          -5.328694209875471,
          -3.031207789034198,
          -0.7489478064417482,
          1.70207118523881,
          4.065549274236477,
          6.462225193347964,
          8.739714335518617,
          10.853895171519088,
          12.91265553978516,
          14.969908988874446,
          16.629170371395,
          18.05628512564761,
          19.458719042563786,
          20.767651617046035,
          21.89328092459009,
          22.75202055884945,
          23.53201328460348,
          24.0220966171792,
          24.391887142958076,
          24.62331891160723,
          24.798154198026708,
          24.81562623217233,
          24.66332536382713,
          24.31622166608987,
          23.784125705485117,
          23.13175455836507,
          22.310311573491276,
          21.46198428743891,
          20.349438759684865,
          18.980276552323517,
          17.468163124434497,
          15.861132518625906,
          14.071456491716724,
          12.325027139768869,
          10.672752412494676,
          9.242975075104946,
          7.926774905662248,
          6.685298202756965,
          5.575388596735579,
          4.557111769076667,
          3.492341499467685,
          2.469737299139902,
          1.636969958356019,
          0.7277583164663505,
          -0.271978665002858,
          -1.1573661722280049,
          -1.9928788624668008,
          -2.846213822685137,
          -3.8101383139525145,
          -4.679508668677619,
          -5.443786477526176,
          -6.101699068395793,
          -6.5929372080564885,
          -6.94918089597545,
          -7.138150680351258,
          -7.448828593702238,
          -7.782002829463817,
          -7.9307942602154675,
          -8.143846197186292,
          -8.244727314721555,
          -8.344063377445432,
          -8.544908266139233,
          -8.983896895296446,
          -9.410691709117406,
          -9.88305869852013,
          -10.430765992856056,
          -10.982843999494824,
          -11.54313607370211,
          -11.969778150523124,
          -12.484521612052776,
          -12.97572541503328,
          -13.522603710840771,
          -14.132795195119073,
          -14.78647009970534,
          -15.417105344365094,
          -16.08941798590416,
          -16.59721609627363,
          -17.16443124308456,
          -17.600113328725204,
          -18.015915579487604,
          -18.401526140995514,
          -18.700450995988724,
          -18.95570819074052,
          -19.25051930128476,
          -19.22698482166049,
          -19.205186688852077,
          -19.202055268681605,
          -19.073914111051767,
          -18.923802641682183,
          -18.83552615761604,
          -18.857524781736885,
          -18.929550597142573,
          -19.046637714345508,
          -19.08930351448501,
          -19.065427457051005,
          -18.72015005418516,
          -18.27191497666116,
          -17.61049325200064,
          -16.634553548372857,
          -15.317209978814631,
          -13.642235074963097,
          -11.769406531503172,
          -9.69832136934107,
          -7.248802081500231,
          -4.842887277665846,
          -2.342609710663112,
          0.1862871808197753,
          2.638185272521912,
          4.936770363989589,
          6.821672827759874,
          8.40801365195585,
          9.820344065289692,
          11.052928242111932,
          12.170471459274347,
          13.219204077771655,
          13.923604977686246,
          14.67209985586115,
          15.511782577754593,
          16.290739637464444,
          16.824750266817944,
          17.379090672744304,
          18.03197303304301,
          18.883652819849758,
          19.64334197761956,
          20.292800067416536,
          20.94065999391226,
          21.379014600228956,
          21.42951006397113,
          20.709626379787068,
          19.399532948468327,
          16.802025384616325,
          12.754454457614472,
          6.503911800120657,
          -2.1395851519068723,
          -13.483904561385533,
          -26.256570467234248,
          -38.900975177313455,
          -49.75889921158935,
          -58.30755998927874,
          -64.56792074053315,
          -69.70550672376004,
          -73.8936438248469,
          -77.43106624333308,
          -80.19548578593266,
          -82.41195189684238,
          -84.56344041462398,
          -86.64569846396802,
          -88.65301284939248,
          -90.65693561057977,
          -92.43870768053614,
          -94.01601200219594,
          -95.67959740681464,
          -97.03018761230832,
          -98.15328536958872,
          -99.17730312923236,
          -100.18223104638308,
          -100.90470614734392,
          -101.49003828411988,
          -102.25486820196332,
          -103.17903539558148,
          -104.25112988151804,
          -105.158766383482,
          -106.04224135208965,
          -107.03611881199876,
          -108.09761244839608,
          -109.03639678372684,
          -110.1437416912596,
          -111.27169096564684,
          -112.34036361499872,
          -113.24400053227984,
          -114.1238268745105,
          -114.8994621737897,
          -115.46809725091894,
          -115.99722082264668,
          -116.34076917973336,
          -116.5061886826938,
          -116.58479386887842,
          -116.71812447273904,
          -116.79100999592043,
          -116.83601932616722,
          -116.42921185996504,
          -116.21397212935416,
          -115.4860577531978,
          -113.8301006416498,
          -110.6671574591012,
          -102.31798790166944,
          -29.18416807749924,
          40.93344615291503,
          49.12357587090436,
          52.22900818582191,
          53.938571060430746,
          54.7687873151456,
          55.60657609159316,
          56.2979089249553,
          57.00509007964863,
          57.93733188637669,
          58.79986924527015,
          59.78051117125632,
          60.85233926856795,
          62.07879736611227,
          63.48916837556752,
          64.99118744594601,
          66.64316801390439,
          68.54131612914047,
          70.60233465465119,
          72.74655310969098,
          75.00395463179608,
          77.28125011433548,
          79.65388773640278,
          82.11059777066575,
          84.75144292567137,
          87.6415291815774,
          90.8715250919286,
          94.15875164749087,
          97.4151436698234,
          100.742335103693,
          104.2568180343215,
          107.7712187782415,
          111.31380602442005,
          114.83469499693794,
          118.60137615740882,
          122.52532196177516,
          126.68644333837496,
          130.95930624056425,
          135.20320302842407,
          139.39714098347088,
          143.61227727962967,
          147.9330998783771,
          152.37949967023454,
          156.75253387699743,
          161.1462128394003,
          165.24793273058333,
          168.8791955729557,
          172.27164494049055,
          175.47148569661053,
          178.35619955173794,
          -179.1823051012359,
          -176.79420880893656,
          -174.67980700182815,
          -172.68926356693476,
          -171.03912313746577,
          -169.54922341288537,
          -167.99928728299278,
          -166.67876668378642,
          -165.3717603482333,
          -164.0892364193639,
          -162.97048312143417,
          -161.53824533761534,
          -160.37111403087917,
          -159.19835176785386,
          -158.2689145775109,
          -157.40763361161757,
          -156.53116973976944,
          -155.51183282893896,
          -154.42739930358093,
          -153.16246959537372,
          -151.65695394377005,
          -150.07227767809542,
          -148.19765046543233,
          -146.20366196340183,
          -143.85082316299665,
          -141.2525380934693,
          -138.8992483486852,
          -136.4066472245285,
          -133.957361448194,
          -131.55240592829472,
          -129.16078978532025,
          -127.2795857229067,
          -125.64612826460107,
          -124.3843484073826,
          -123.43013465150896,
          -122.72948561766258,
          -122.030882929,
          -121.490455183707,
          -120.95881097255646,
          -120.62803198346516,
          -120.3572847554862,
          -120.01913348229718,
          -119.68890893167796,
          -119.36797664578386,
          -119.11870352591863,
          -119.09750364995492,
          -118.8926597139569,
          -118.7444898185597,
          -118.64849784649633,
          -118.45236498228908,
          -118.22270986369898,
          -118.03629444562335,
          -117.8784187986145,
          -117.52493342506686,
          -117.12498151458156,
          -116.56283507777556,
          -115.9409220656662,
          -115.26140789873982,
          -114.59954172509217,
          -114.10610438263352,
          -113.72998402715383,
          -113.4285951790963,
          -113.01314454992698,
          -112.7216352053359,
          -112.7726075232986,
          -112.78807905198258,
          -113.00370282645102,
          -113.05201663419048,
          -113.01617352222884,
          -112.82912376219429,
          -112.65514398461085,
          -112.2390709826908,
          -111.31053349670742,
          -110.2904252552747,
          -108.75926334015844,
          -106.76819446039045,
          -104.35143508359263,
          -101.43359714830238,
          -98.09520424976174,
          -94.11233208727911,
          -89.38446358033946,
          -86.90930193831812,
          -81.79392207424651,
          -76.5963698562811,
          -71.48619232719179,
          -66.61833930013668,
          -62.11654850360422,
          -58.06601217181218,
          -54.51537129912227,
          -51.48483881634015,
          -48.9766250890697
         ],
         "yaxis": "y2"
        },
        {
         "mode": "lines",
         "type": "scatter",
         "x": [
          0,
          1,
          2,
          3,
          4,
          5,
          6,
          7,
          8,
          9,
          10,
          11,
          12,
          13,
          14,
          15,
          16,
          17,
          18,
          19,
          20,
          21,
          22,
          23,
          24,
          25,
          26,
          27,
          28,
          29,
          30,
          31,
          32,
          33,
          34,
          35,
          36,
          37,
          38,
          39,
          40,
          41,
          42,
          43,
          44,
          45,
          46,
          47,
          48,
          49,
          50,
          51,
          52,
          53,
          54,
          55,
          56,
          57,
          58,
          59,
          60,
          61,
          62,
          63,
          64,
          65,
          66,
          67,
          68,
          69,
          70,
          71,
          72,
          73,
          74,
          75,
          76,
          77,
          78,
          79,
          80,
          81,
          82,
          83,
          84,
          85,
          86,
          87
         ],
         "xaxis": "x4",
         "y": [
          181.1382654758389,
          188.8413933713231,
          199.62273614736392,
          214.83150805244463,
          236.28995354106152,
          266.5692432799066,
          309.4332674489676,
          -1176.0677034385049,
          5941.818452066253,
          -1287.9991694271523,
          1733.115643544341,
          -3726.253032390058,
          11137.40362380332,
          -2746.7043725553763,
          9965.781317643465,
          2349.589923562391,
          -988.0952337277974,
          -9512.232088803214,
          -5935.685638414097,
          -113.64976141206196,
          3778.555029704146,
          75.29752559076108,
          -2260.5350233016966,
          -198.16981521052668,
          -4995.85270812835,
          -5321.2752822877455,
          6832.624853696697,
          -5919.82692115827,
          3720.3438863822257,
          1440.8032226394844,
          989.9303555455004,
          -2765.743230538232,
          -2627.626770135656,
          5144.618247351121,
          -2905.051340518692,
          -132.6725273617666,
          3701.2948104273305,
          -5277.231890700397,
          -379.1182451474968,
          2793.7246184520523,
          -2233.579557950397,
          -1315.4422735304029,
          2805.3819160461585,
          -515.6157595629184,
          233.29086263781087,
          -392.2960899783419,
          -459.0530142894676,
          1588.0858671943677,
          -60.2395182278137,
          -1919.65265703373,
          1078.91880845634,
          -814.0060303758021,
          2219.26285680467,
          -948.4043232976148,
          984.0715572696896,
          -757.7493208282166,
          481.7729882422103,
          -1733.1022115193966,
          1783.9090987462637,
          -98.40073118296375,
          2017.741076099392,
          -1903.245437409921,
          293.86329350005514,
          -1232.3431967674728,
          1830.7784586003463,
          -1185.085979555938,
          -694.8967748729278,
          977.18303929454,
          -380.62955488563887,
          256.1700920780612,
          250.30782327992276,
          -2069.277616507005,
          2175.083478383452,
          -1056.6244662465904,
          1424.500108607778,
          -1040.0129707206663,
          -711.4462433610912,
          885.3117704903127,
          1187.0740955854906,
          -1181.5540108490584,
          -636.1354144742031,
          458.21131448939576,
          53.3520824245981,
          399.829899088717,
          -1161.3447085583232,
          -316.9139531388576,
          432.1467958063079,
          320.8356420547336,
          33.77421659330715,
          1296.9884909413547,
          -1992.3380600162332,
          754.6597096885818,
          284.38399307432974,
          -143.55669626722946,
          -210.89102193244213,
          1223.221204529982,
          -1064.8111819209594,
          2596.3334856473257,
          -2169.944835819254,
          -133.9383433637351,
          869.6233652526269,
          -56.86105661976315,
          -664.5202831790089,
          -79.99961940697654,
          67.53176074906375,
          -440.0360382579343,
          1456.605774644239,
          -168.23897294365065,
          -8.153075926875086,
          -287.9733229909451,
          -680.1690597136765,
          474.7592785414163,
          -874.6105789440228,
          1679.512201812462,
          243.13298489433112,
          -1097.9938274873589,
          657.4338029994062,
          -385.3824505565717,
          507.316316375374,
          -352.20497304555386,
          -449.041798280291,
          179.0603477076309,
          -334.8047805497956,
          -254.101356780728,
          -748.0754343477039,
          659.4737607347543,
          -482.3567667623405,
          -504.00487418655337,
          644.3633647611114,
          -1480.5525354831896,
          953.1866967098942,
          413.9566137094577,
          -465.14969797264,
          -998.6499452949462,
          -1168.274991418325,
          1911.8151371423,
          -1615.8901283452594,
          1041.162570353784,
          -1241.2439202472156,
          -479.29368339142366,
          867.3916953389567,
          -576.2321011139724,
          -530.5433393338448,
          686.7854524984025,
          -1181.4255477986378,
          -1227.471986560615,
          909.7986361489463,
          -1379.0732872221972,
          -349.2060368104708,
          1193.8810796616303,
          -1473.6855210429276,
          1642.0347129859042,
          897.8148324727426,
          -227.11976173155347,
          1010.3768975644264,
          -2253.215188625155,
          3806.3423659777295,
          -1308.6985397618412,
          -1478.790511245009,
          808.9935596009474,
          -533.0446700207858,
          685.8903951439071,
          321.88539235325453,
          -939.6947959110842,
          -583.9649019899986,
          407.26409765766647,
          738.5823199128714,
          -378.3698366458763,
          1796.061083284239,
          -1346.659747229802,
          -473.6619391792116,
          -742.9746942446154,
          1674.499860474578,
          -383.9362348971758,
          -941.8733757505668,
          789.8897598858428,
          -917.4269475463794,
          1219.5861761935332,
          -1485.3302948504488,
          1459.239890437003,
          528.2018712557335,
          -576.3622473328667,
          -118.0492409158167,
          -330.0120519092813,
          617.4524716590895,
          975.3536693614582,
          -1066.1957849831042,
          -1622.8874154937105,
          1262.49319481339,
          1434.5738261426893,
          254.9716536749633,
          -1155.4391224358042,
          80.37982927903475,
          817.937629777386,
          -275.3972246807244,
          460.76730116488017,
          522.5341891709097,
          -954.8167943145528,
          102.24316415866876,
          144.73935287548412,
          175.83355841926306,
          -63.58712190849492,
          217.92856619779036,
          -627.4002153731396,
          -366.0130884721011,
          682.158667466306,
          -431.38876531646207,
          74.94536783420713,
          -195.8837912180469,
          -658.7001001325159,
          758.1296673494595,
          445.1024514838476,
          -715.8853604152365,
          1251.761631136171,
          -375.9451226243708,
          -282.53598928345747,
          -240.95934185095143,
          -297.7675133819464,
          847.664559224269,
          -41.892734328092594,
          420.1323464173203,
          377.9037372631967,
          -487.2750263556236,
          178.8570565116006,
          -19.563442072075887,
          80.68802918834811,
          -164.35355783496115,
          -380.9602666758456,
          1008.9066601666289,
          229.15652607511944,
          -875.5248447399757,
          411.2663739807491,
          458.9096574171441,
          -647.0474358599769,
          -407.24258025353134,
          463.86964997466856,
          -987.289182456688,
          314.4439634997388,
          428.4789055648037,
          719.7233770684272,
          -910.1930931405896,
          -87.58476320523157,
          -300.7889327746871,
          317.07637920886486,
          702.2107756082348,
          -449.1888381901785,
          -82.6758490868636,
          222.56146736389616,
          -374.7544872382314,
          -70.15514896478481,
          300.5579955817896,
          -65.21070643449211,
          -93.58704356812244,
          -315.90295601724847,
          230.8517005521412,
          -510.55844440379127,
          64.64326836182055,
          552.7909186916123,
          -412.4971857781183,
          -261.0905130877117,
          461.26803513688486,
          -169.8147869635638,
          553.940173308181,
          -280.55318493379946,
          -30.7373146749943,
          -252.1923172552134,
          124.63792524926076,
          -82.96693613506278,
          116.9998041536201,
          175.00812765995488,
          -306.1612133076812,
          -136.19239251805638,
          226.31443086567413,
          -44.45078495014621,
          -272.27635992666745,
          290.8621136932178,
          274.85253678043244,
          -466.3969918376207,
          510.3371627234461,
          -74.72952361048691,
          -453.9234964832263,
          434.5978797504529,
          -516.2756072306224,
          -762.2623729785936,
          956.3521418106338,
          -724.3274188348609,
          324.9688098088825,
          -431.2351878161387,
          299.1321591407237,
          111.67181279810934,
          121.17643695130242,
          405.2332647294878,
          -540.6443370997079,
          1252.0559425841334,
          -939.8977748878576,
          373.95628708381,
          -823.7128883999436,
          1645.9344148872308,
          -994.6038543064628,
          265.2183649102032,
          189.5738951871934,
          -874.3752121461947,
          464.2868300411298,
          1071.7802324674196,
          -938.6068185602952,
          461.3846967141535,
          -1728.9217104372162,
          996.8463797251889,
          55.17115081744106,
          -617.3776849416653,
          1.8678068220026045,
          374.1511897276506,
          -571.0080340637271,
          588.6427156332172,
          -137.23156364911725,
          -1449.083895214832,
          1783.2801243132126,
          -837.6986839994224,
          219.49381671724663,
          1438.5943361613586,
          -964.1209559738784,
          981.6241227788868,
          -268.4510876363174,
          524.0146083034209,
          -1556.5555249556492,
          358.1889981987778,
          1143.785706778014,
          -293.2875460875367,
          -190.82789078085796,
          774.1867085215667,
          213.11316189462687,
          -992.7760190968786,
          270.41682586012195,
          -758.9312542747444,
          -58.51836587704706,
          117.9946223405146,
          202.8914401465504,
          -690.8980545225202,
          835.039733731216,
          -1238.1699403561631,
          795.3896925127074,
          -335.1099656442457,
          57.4157125825645,
          -777.5291475765704,
          187.7105399280832,
          166.5322889529337,
          -473.55702765189767,
          1133.144910886222,
          -782.9967230699532,
          453.9738260193948,
          -818.5000782836606,
          932.4790578667364,
          -1035.9726469039565,
          905.0013760318724,
          -340.78959848396727,
          -119.00450712625177,
          -917.1123738275286,
          -238.28900706909064,
          878.4494008918253,
          344.20798763267936,
          102.97607977438594,
          -549.2596310663603,
          291.71126958047046,
          -77.27981662544737,
          536.6394428093527,
          -537.9815608949401,
          1343.0444433868206,
          -1138.874456715511,
          1633.4109781894608,
          -1757.634136833379,
          979.6024359909386,
          -902.4106839893504,
          1613.4812717960908,
          -679.5211403375772,
          90.448754319584,
          -1327.137355489076,
          289.559138409212,
          259.3686157364241,
          385.3666517785748,
          -1327.9143862750352,
          608.4796828521071,
          305.29637368772944,
          878.3655503871726,
          -1798.808179270611,
          -465.4540054942373,
          2545.9310097540497,
          -2140.7092162690037,
          1230.0812054373037,
          -94.18290924223882,
          469.1220799580903,
          235.0455839112924,
          -450.2997304706434,
          716.7453881556307,
          -606.647726873121,
          71.14502448273696,
          -242.5215412021624,
          355.020623575235,
          41.29542543007258,
          -869.8913555058195,
          1691.662830978435,
          -1173.9140446598497,
          -1154.7071900688934,
          42.85531508416662,
          769.2595566266416,
          390.789691909112,
          -517.8102209850983,
          -205.03966202768245,
          680.094091465911,
          -799.5942727138237,
          1044.3527934811668,
          -815.644624771793,
          526.0206250021713,
          -170.40820262676593,
          288.27378319395416,
          100.2442115637061,
          626.7118313463069,
          -1414.243066021386,
          2002.3980634382503,
          -191.62584250086408,
          -1308.983838245206,
          -837.7094004883801,
          2541.6988441396707,
          -1121.4128384029102,
          35.28362629533166,
          -250.3323018181401,
          -532.8494732331118,
          379.1431087145356,
          -144.91360562678236,
          428.6512452294511,
          -426.0162424302396,
          289.7859846001353,
          -63.80108618023461,
          241.84202522618716,
          100.79675463360904,
          -440.910398878264,
          352.8046134299847,
          579.0643192468641,
          -776.104732778353,
          140.49642466021706,
          269.01533640845696,
          2093.8013200602754,
          -2263.2479213196643,
          -339.6947613850755,
          1938.6972108756763,
          -1295.6764000878495,
          124.65195852095783,
          472.4805156165814,
          -85.20290074844011,
          -427.97876697862336,
          -748.8139058345067,
          -245.2285194356816,
          213.57296837650085,
          -238.63734966434544,
          -584.5896453066504,
          1354.5256659529016,
          -1877.133163668304,
          -288.6701275078858,
          1346.2883366097867,
          -139.93922520993917,
          -769.395656839432,
          -1471.0520298038894,
          1766.5160836821242,
          1666.0103356040015,
          -2545.0041875357915,
          172.27615260231755,
          146.35474986942666,
          177.60883677340854,
          -1307.140079492819,
          -383.17199811216926,
          1525.9045768446274,
          1421.6270211618194,
          -585.5442080707646,
          -472.6992646630546,
          867.0394980096871,
          -3248.2375935533173,
          2603.148719479004,
          1114.10188221743,
          71.63446489298452,
          -2780.934880344581,
          2797.900077116576,
          1036.1361633043027,
          -2185.325069422553,
          823.0513521241496,
          -1727.8833327573366,
          885.9663208313638,
          296.89899279021813,
          -12.111305916653103,
          112.70258521136256,
          -415.9421461415285,
          175.685872560283,
          -365.9193155422405,
          -599.4727887585154,
          478.73305180256455,
          538.1227986231058,
          1529.222274401218,
          -432.0920817910855,
          49.54117260315949,
          -1067.8656608258225,
          985.8921756558,
          -225.0737175550751,
          -616.8950664494212,
          -28.09895400134344,
          515.8791903949427,
          120.75523586504931,
          529.7675856521133,
          289.58223964610164,
          -1827.3971376655272,
          1831.3830501298696,
          -1264.6792778177316,
          912.8433542582176,
          -588.5738460188901,
          498.78317015357766,
          305.2006653403755,
          -1438.9449842905328,
          1354.4594398543902,
          283.3300856047562,
          -599.8639552462957,
          34.04085461715911,
          973.5264911772664,
          -1532.2667387200704,
          1109.5106302830586,
          82.4927769731864,
          -805.9113016605246,
          771.6115743240844,
          -439.5929444720669,
          -218.3357190210834,
          1033.1534907827092,
          -1051.8986618867068,
          263.7178205190812,
          -85.20841929422468,
          452.7377950394189,
          -488.6642574775125,
          85.80796452244238,
          593.5935152244703,
          88.25617112994868,
          -1118.9931918738173,
          912.9331295409064,
          -334.1953158835672,
          -974.7212367222252,
          2112.1926243939806,
          -1271.7707108056468,
          -351.4061708471133,
          1136.8793831016042,
          -1265.10838820941,
          732.9395840006727,
          115.31050735315203,
          95.40595125830376,
          -602.2626273665128,
          810.3941898292078,
          -433.3468953566528,
          -522.2771010316964,
          323.0142504084412,
          -25.67147330856867,
          -142.98687009754963,
          -606.6715809566961,
          502.0209850043622,
          588.9885694659365,
          -417.2164031892866,
          1372.453257303017,
          -742.7655313823244,
          -794.0445158041999,
          910.684319951446,
          -199.0849592780396,
          379.5881556215349,
          596.2064696199836,
          -598.8202655273194,
          -351.06061922318025,
          1211.9701597112416,
          -1885.951570025762,
          -115.87839371732376,
          632.0308599013023,
          -231.32156868594703,
          -1688.0933192255882,
          638.7873260768075,
          95.16655449262568,
          147.7378470494981,
          -774.9107354679838,
          1072.2806788821435,
          -796.6574876979204,
          7.795334607707094,
          857.4506134701802,
          -118.8030943160725,
          158.36201131922246,
          166.9439923932099,
          179.51953358525842,
          197.38697430360293,
          222.3826530387373,
          257.1674530914969,
          305.6812215816201,
          null
         ],
         "yaxis": "y4"
        }
       ],
       "layout": {
        "annotations": [
         {
          "font": {
           "size": 16
          },
          "showarrow": false,
          "text": "Error Angle (theta)",
          "x": 0.225,
          "xanchor": "center",
          "xref": "paper",
          "y": 1,
          "yanchor": "bottom",
          "yref": "paper"
         },
         {
          "font": {
           "size": 16
          },
          "showarrow": false,
          "text": "Error Angle (phi)",
          "x": 0.775,
          "xanchor": "center",
          "xref": "paper",
          "y": 1,
          "yanchor": "bottom",
          "yref": "paper"
         },
         {
          "font": {
           "size": 16
          },
          "showarrow": false,
          "text": "Angular Speed (theta)",
          "x": 0.225,
          "xanchor": "center",
          "xref": "paper",
          "y": 0.375,
          "yanchor": "bottom",
          "yref": "paper"
         },
         {
          "font": {
           "size": 16
          },
          "showarrow": false,
          "text": "Angular speed (phi)",
          "x": 0.775,
          "xanchor": "center",
          "xref": "paper",
          "y": 0.375,
          "yanchor": "bottom",
          "yref": "paper"
         }
        ],
        "template": {
         "data": {
          "bar": [
           {
            "error_x": {
             "color": "#2a3f5f"
            },
            "error_y": {
             "color": "#2a3f5f"
            },
            "marker": {
             "line": {
              "color": "#E5ECF6",
              "width": 0.5
             },
             "pattern": {
              "fillmode": "overlay",
              "size": 10,
              "solidity": 0.2
             }
            },
            "type": "bar"
           }
          ],
          "barpolar": [
           {
            "marker": {
             "line": {
              "color": "#E5ECF6",
              "width": 0.5
             },
             "pattern": {
              "fillmode": "overlay",
              "size": 10,
              "solidity": 0.2
             }
            },
            "type": "barpolar"
           }
          ],
          "carpet": [
           {
            "aaxis": {
             "endlinecolor": "#2a3f5f",
             "gridcolor": "white",
             "linecolor": "white",
             "minorgridcolor": "white",
             "startlinecolor": "#2a3f5f"
            },
            "baxis": {
             "endlinecolor": "#2a3f5f",
             "gridcolor": "white",
             "linecolor": "white",
             "minorgridcolor": "white",
             "startlinecolor": "#2a3f5f"
            },
            "type": "carpet"
           }
          ],
          "choropleth": [
           {
            "colorbar": {
             "outlinewidth": 0,
             "ticks": ""
            },
            "type": "choropleth"
           }
          ],
          "contour": [
           {
            "colorbar": {
             "outlinewidth": 0,
             "ticks": ""
            },
            "colorscale": [
             [
              0,
              "#0d0887"
             ],
             [
              0.1111111111111111,
              "#46039f"
             ],
             [
              0.2222222222222222,
              "#7201a8"
             ],
             [
              0.3333333333333333,
              "#9c179e"
             ],
             [
              0.4444444444444444,
              "#bd3786"
             ],
             [
              0.5555555555555556,
              "#d8576b"
             ],
             [
              0.6666666666666666,
              "#ed7953"
             ],
             [
              0.7777777777777778,
              "#fb9f3a"
             ],
             [
              0.8888888888888888,
              "#fdca26"
             ],
             [
              1,
              "#f0f921"
             ]
            ],
            "type": "contour"
           }
          ],
          "contourcarpet": [
           {
            "colorbar": {
             "outlinewidth": 0,
             "ticks": ""
            },
            "type": "contourcarpet"
           }
          ],
          "heatmap": [
           {
            "colorbar": {
             "outlinewidth": 0,
             "ticks": ""
            },
            "colorscale": [
             [
              0,
              "#0d0887"
             ],
             [
              0.1111111111111111,
              "#46039f"
             ],
             [
              0.2222222222222222,
              "#7201a8"
             ],
             [
              0.3333333333333333,
              "#9c179e"
             ],
             [
              0.4444444444444444,
              "#bd3786"
             ],
             [
              0.5555555555555556,
              "#d8576b"
             ],
             [
              0.6666666666666666,
              "#ed7953"
             ],
             [
              0.7777777777777778,
              "#fb9f3a"
             ],
             [
              0.8888888888888888,
              "#fdca26"
             ],
             [
              1,
              "#f0f921"
             ]
            ],
            "type": "heatmap"
           }
          ],
          "heatmapgl": [
           {
            "colorbar": {
             "outlinewidth": 0,
             "ticks": ""
            },
            "colorscale": [
             [
              0,
              "#0d0887"
             ],
             [
              0.1111111111111111,
              "#46039f"
             ],
             [
              0.2222222222222222,
              "#7201a8"
             ],
             [
              0.3333333333333333,
              "#9c179e"
             ],
             [
              0.4444444444444444,
              "#bd3786"
             ],
             [
              0.5555555555555556,
              "#d8576b"
             ],
             [
              0.6666666666666666,
              "#ed7953"
             ],
             [
              0.7777777777777778,
              "#fb9f3a"
             ],
             [
              0.8888888888888888,
              "#fdca26"
             ],
             [
              1,
              "#f0f921"
             ]
            ],
            "type": "heatmapgl"
           }
          ],
          "histogram": [
           {
            "marker": {
             "pattern": {
              "fillmode": "overlay",
              "size": 10,
              "solidity": 0.2
             }
            },
            "type": "histogram"
           }
          ],
          "histogram2d": [
           {
            "colorbar": {
             "outlinewidth": 0,
             "ticks": ""
            },
            "colorscale": [
             [
              0,
              "#0d0887"
             ],
             [
              0.1111111111111111,
              "#46039f"
             ],
             [
              0.2222222222222222,
              "#7201a8"
             ],
             [
              0.3333333333333333,
              "#9c179e"
             ],
             [
              0.4444444444444444,
              "#bd3786"
             ],
             [
              0.5555555555555556,
              "#d8576b"
             ],
             [
              0.6666666666666666,
              "#ed7953"
             ],
             [
              0.7777777777777778,
              "#fb9f3a"
             ],
             [
              0.8888888888888888,
              "#fdca26"
             ],
             [
              1,
              "#f0f921"
             ]
            ],
            "type": "histogram2d"
           }
          ],
          "histogram2dcontour": [
           {
            "colorbar": {
             "outlinewidth": 0,
             "ticks": ""
            },
            "colorscale": [
             [
              0,
              "#0d0887"
             ],
             [
              0.1111111111111111,
              "#46039f"
             ],
             [
              0.2222222222222222,
              "#7201a8"
             ],
             [
              0.3333333333333333,
              "#9c179e"
             ],
             [
              0.4444444444444444,
              "#bd3786"
             ],
             [
              0.5555555555555556,
              "#d8576b"
             ],
             [
              0.6666666666666666,
              "#ed7953"
             ],
             [
              0.7777777777777778,
              "#fb9f3a"
             ],
             [
              0.8888888888888888,
              "#fdca26"
             ],
             [
              1,
              "#f0f921"
             ]
            ],
            "type": "histogram2dcontour"
           }
          ],
          "mesh3d": [
           {
            "colorbar": {
             "outlinewidth": 0,
             "ticks": ""
            },
            "type": "mesh3d"
           }
          ],
          "parcoords": [
           {
            "line": {
             "colorbar": {
              "outlinewidth": 0,
              "ticks": ""
             }
            },
            "type": "parcoords"
           }
          ],
          "pie": [
           {
            "automargin": true,
            "type": "pie"
           }
          ],
          "scatter": [
           {
            "fillpattern": {
             "fillmode": "overlay",
             "size": 10,
             "solidity": 0.2
            },
            "type": "scatter"
           }
          ],
          "scatter3d": [
           {
            "line": {
             "colorbar": {
              "outlinewidth": 0,
              "ticks": ""
             }
            },
            "marker": {
             "colorbar": {
              "outlinewidth": 0,
              "ticks": ""
             }
            },
            "type": "scatter3d"
           }
          ],
          "scattercarpet": [
           {
            "marker": {
             "colorbar": {
              "outlinewidth": 0,
              "ticks": ""
             }
            },
            "type": "scattercarpet"
           }
          ],
          "scattergeo": [
           {
            "marker": {
             "colorbar": {
              "outlinewidth": 0,
              "ticks": ""
             }
            },
            "type": "scattergeo"
           }
          ],
          "scattergl": [
           {
            "marker": {
             "colorbar": {
              "outlinewidth": 0,
              "ticks": ""
             }
            },
            "type": "scattergl"
           }
          ],
          "scattermapbox": [
           {
            "marker": {
             "colorbar": {
              "outlinewidth": 0,
              "ticks": ""
             }
            },
            "type": "scattermapbox"
           }
          ],
          "scatterpolar": [
           {
            "marker": {
             "colorbar": {
              "outlinewidth": 0,
              "ticks": ""
             }
            },
            "type": "scatterpolar"
           }
          ],
          "scatterpolargl": [
           {
            "marker": {
             "colorbar": {
              "outlinewidth": 0,
              "ticks": ""
             }
            },
            "type": "scatterpolargl"
           }
          ],
          "scatterternary": [
           {
            "marker": {
             "colorbar": {
              "outlinewidth": 0,
              "ticks": ""
             }
            },
            "type": "scatterternary"
           }
          ],
          "surface": [
           {
            "colorbar": {
             "outlinewidth": 0,
             "ticks": ""
            },
            "colorscale": [
             [
              0,
              "#0d0887"
             ],
             [
              0.1111111111111111,
              "#46039f"
             ],
             [
              0.2222222222222222,
              "#7201a8"
             ],
             [
              0.3333333333333333,
              "#9c179e"
             ],
             [
              0.4444444444444444,
              "#bd3786"
             ],
             [
              0.5555555555555556,
              "#d8576b"
             ],
             [
              0.6666666666666666,
              "#ed7953"
             ],
             [
              0.7777777777777778,
              "#fb9f3a"
             ],
             [
              0.8888888888888888,
              "#fdca26"
             ],
             [
              1,
              "#f0f921"
             ]
            ],
            "type": "surface"
           }
          ],
          "table": [
           {
            "cells": {
             "fill": {
              "color": "#EBF0F8"
             },
             "line": {
              "color": "white"
             }
            },
            "header": {
             "fill": {
              "color": "#C8D4E3"
             },
             "line": {
              "color": "white"
             }
            },
            "type": "table"
           }
          ]
         },
         "layout": {
          "annotationdefaults": {
           "arrowcolor": "#2a3f5f",
           "arrowhead": 0,
           "arrowwidth": 1
          },
          "autotypenumbers": "strict",
          "coloraxis": {
           "colorbar": {
            "outlinewidth": 0,
            "ticks": ""
           }
          },
          "colorscale": {
           "diverging": [
            [
             0,
             "#8e0152"
            ],
            [
             0.1,
             "#c51b7d"
            ],
            [
             0.2,
             "#de77ae"
            ],
            [
             0.3,
             "#f1b6da"
            ],
            [
             0.4,
             "#fde0ef"
            ],
            [
             0.5,
             "#f7f7f7"
            ],
            [
             0.6,
             "#e6f5d0"
            ],
            [
             0.7,
             "#b8e186"
            ],
            [
             0.8,
             "#7fbc41"
            ],
            [
             0.9,
             "#4d9221"
            ],
            [
             1,
             "#276419"
            ]
           ],
           "sequential": [
            [
             0,
             "#0d0887"
            ],
            [
             0.1111111111111111,
             "#46039f"
            ],
            [
             0.2222222222222222,
             "#7201a8"
            ],
            [
             0.3333333333333333,
             "#9c179e"
            ],
            [
             0.4444444444444444,
             "#bd3786"
            ],
            [
             0.5555555555555556,
             "#d8576b"
            ],
            [
             0.6666666666666666,
             "#ed7953"
            ],
            [
             0.7777777777777778,
             "#fb9f3a"
            ],
            [
             0.8888888888888888,
             "#fdca26"
            ],
            [
             1,
             "#f0f921"
            ]
           ],
           "sequentialminus": [
            [
             0,
             "#0d0887"
            ],
            [
             0.1111111111111111,
             "#46039f"
            ],
            [
             0.2222222222222222,
             "#7201a8"
            ],
            [
             0.3333333333333333,
             "#9c179e"
            ],
            [
             0.4444444444444444,
             "#bd3786"
            ],
            [
             0.5555555555555556,
             "#d8576b"
            ],
            [
             0.6666666666666666,
             "#ed7953"
            ],
            [
             0.7777777777777778,
             "#fb9f3a"
            ],
            [
             0.8888888888888888,
             "#fdca26"
            ],
            [
             1,
             "#f0f921"
            ]
           ]
          },
          "colorway": [
           "#636efa",
           "#EF553B",
           "#00cc96",
           "#ab63fa",
           "#FFA15A",
           "#19d3f3",
           "#FF6692",
           "#B6E880",
           "#FF97FF",
           "#FECB52"
          ],
          "font": {
           "color": "#2a3f5f"
          },
          "geo": {
           "bgcolor": "white",
           "lakecolor": "white",
           "landcolor": "#E5ECF6",
           "showlakes": true,
           "showland": true,
           "subunitcolor": "white"
          },
          "hoverlabel": {
           "align": "left"
          },
          "hovermode": "closest",
          "mapbox": {
           "style": "light"
          },
          "paper_bgcolor": "white",
          "plot_bgcolor": "#E5ECF6",
          "polar": {
           "angularaxis": {
            "gridcolor": "white",
            "linecolor": "white",
            "ticks": ""
           },
           "bgcolor": "#E5ECF6",
           "radialaxis": {
            "gridcolor": "white",
            "linecolor": "white",
            "ticks": ""
           }
          },
          "scene": {
           "xaxis": {
            "backgroundcolor": "#E5ECF6",
            "gridcolor": "white",
            "gridwidth": 2,
            "linecolor": "white",
            "showbackground": true,
            "ticks": "",
            "zerolinecolor": "white"
           },
           "yaxis": {
            "backgroundcolor": "#E5ECF6",
            "gridcolor": "white",
            "gridwidth": 2,
            "linecolor": "white",
            "showbackground": true,
            "ticks": "",
            "zerolinecolor": "white"
           },
           "zaxis": {
            "backgroundcolor": "#E5ECF6",
            "gridcolor": "white",
            "gridwidth": 2,
            "linecolor": "white",
            "showbackground": true,
            "ticks": "",
            "zerolinecolor": "white"
           }
          },
          "shapedefaults": {
           "line": {
            "color": "#2a3f5f"
           }
          },
          "ternary": {
           "aaxis": {
            "gridcolor": "white",
            "linecolor": "white",
            "ticks": ""
           },
           "baxis": {
            "gridcolor": "white",
            "linecolor": "white",
            "ticks": ""
           },
           "bgcolor": "#E5ECF6",
           "caxis": {
            "gridcolor": "white",
            "linecolor": "white",
            "ticks": ""
           }
          },
          "title": {
           "x": 0.05
          },
          "xaxis": {
           "automargin": true,
           "gridcolor": "white",
           "linecolor": "white",
           "ticks": "",
           "title": {
            "standoff": 15
           },
           "zerolinecolor": "white",
           "zerolinewidth": 2
          },
          "yaxis": {
           "automargin": true,
           "gridcolor": "white",
           "linecolor": "white",
           "ticks": "",
           "title": {
            "standoff": 15
           },
           "zerolinecolor": "white",
           "zerolinewidth": 2
          }
         }
        },
        "xaxis": {
         "anchor": "y",
         "domain": [
          0,
          0.45
         ]
        },
        "xaxis2": {
         "anchor": "y2",
         "domain": [
          0.55,
          1
         ]
        },
        "xaxis3": {
         "anchor": "y3",
         "domain": [
          0,
          0.45
         ]
        },
        "xaxis4": {
         "anchor": "y4",
         "domain": [
          0.55,
          1
         ]
        },
        "yaxis": {
         "anchor": "x",
         "domain": [
          0.625,
          1
         ]
        },
        "yaxis2": {
         "anchor": "x2",
         "domain": [
          0.625,
          1
         ]
        },
        "yaxis3": {
         "anchor": "x3",
         "domain": [
          0,
          0.375
         ]
        },
        "yaxis4": {
         "anchor": "x4",
         "domain": [
          0,
          0.375
         ]
        }
       }
      },
      "text/html": [
       "<div>                            <div id=\"128ea841-cc74-4215-93ca-2d91bace5586\" class=\"plotly-graph-div\" style=\"height:525px; width:100%;\"></div>            <script type=\"text/javascript\">                require([\"plotly\"], function(Plotly) {                    window.PLOTLYENV=window.PLOTLYENV || {};                                    if (document.getElementById(\"128ea841-cc74-4215-93ca-2d91bace5586\")) {                    Plotly.newPlot(                        \"128ea841-cc74-4215-93ca-2d91bace5586\",                        [{\"mode\":\"lines\",\"x\":[0.0,1.0,2.0,3.0,4.0,5.0,6.0,7.0,8.0,9.0,10.0,11.0,12.0,13.0,14.0,15.0,16.0,17.0,18.0,19.0,20.0,21.0,22.0,23.0,24.0,25.0,26.0,27.0,28.0,29.0,30.0,31.0,32.0,33.0,34.0,35.0,36.0,37.0,38.0,39.0,40.0,41.0,42.0,43.0,44.0,45.0,46.0,47.0,48.0,49.0,50.0,51.0,52.0,53.0,54.0,55.0,56.0,57.0,58.0,59.0,60.0,61.0,62.0,63.0,64.0,65.0,66.0,67.0,68.0,69.0,70.0,71.0,72.0,73.0,74.0,75.0,76.0,77.0,78.0,79.0,80.0,81.0,82.0,83.0,84.0,85.0,86.0,87.0],\"y\":[-7.047282865962091,-6.496930612373585,-6.012625309917048,-5.588754258116388,-5.221236699351128,-4.907139830743615,-4.644372959096306,-4.431428632946957,-4.267149386400529,-4.150505768566724,-4.095378525888029,-4.059272487208956,-4.16413625613907,-4.192102933421283,-4.226946840508375,-4.26867773035429,-4.450185198439447,-4.433076847111716,-4.59958912481434,-4.751846726319101,-4.976095861295376,-5.132146247367111,-5.246418021852834,-5.446946188055735,-5.624450443430891,-5.820659966885208,-5.954997424708692,-6.046140654116329,-6.087283673257693,-5.959814632799119,-5.744053503680032,-5.479953644421125,-5.106087267718127,-4.917391268878392,-4.571251377641418,-4.136147822795768,-3.5220303541212337,-3.117503734405238,-2.74997924229131,-2.450474476874498,-2.137275018199819,-1.8244314076639856,-1.6702929795418526,-1.5695229308126564,-1.4590554427498308,-1.364803412811135,-1.2791923106340342,-1.0832531605801512,-1.0880712767463092,-1.1235727015668724,-1.3040901572780474,-1.6703249017098936,-1.984109891926556,-2.0614824816757347,-2.127606954780799,-2.072902338658723,-2.0349207640456743,-2.1351936462977297,-2.184188381512107,-2.338951599422754,-2.5466400077187514,-2.7109873193510614,-2.9200682696864804,-3.032456276419984,-3.228579544819429,-3.3894545788219053,-3.495245444633904,-3.629164114955983,-3.8438732715498514,-4.12505407863198,-4.264443177212281,-4.281761426111832,-4.305633192522709,-4.188011177124785,-4.052123154260856,-4.046707942593565,-4.133073319749992,-4.187597873800954,-4.387927924704133,-4.606196762305458,-4.825244771086831,-5.151716595526263,-5.683434965529433,-6.117711576708204,-6.720638672377975,-7.244940459049159,-7.802166773491828,-8.401823189661053,-8.9456408342111,-9.357121411054113,-9.690838902825211,-10.02271582204986,-10.246682460421011,-10.41882436098118,-10.66225691855647,-10.844502756997883,-11.1388295287081,-11.41066300879674,-11.63552566667797,-12.063230762544752,-12.68744634292826,-13.463194198460906,-14.17628524614488,-15.21467485639,-16.30294099342822,-17.41430647050868,-18.70941417512568,-20.180137985671816,-21.730129257183645,-23.29620895656112,-25.157248137880437,-27.172043717415225,-29.031164407420853,-31.208242991529172,-33.128108345663605,-35.24477749109762,-37.04339121632099,-38.76017750759432,-40.732781925907055,-43.22408472569085,-46.303922274521575,-50.41077725774926,-56.03317811056886,-63.8479692567506,-76.95529346701323,-112.008095718546,150.2633785598259,115.74553463418144,98.4729064713324,84.56560724010221,73.27296064770057,63.717238871078585,55.955645632697376,49.77582144685327,44.39825179047388,40.069892959961926,37.13227041744309,35.03735786931292,34.11633983999855,33.48799569069874,33.59453563959666,33.95814219776177,34.39584768051455,35.03103642182489,35.488635848222685,36.10890541872156,36.47925559773043,36.540936025551495,36.75463192344007,36.958500328576,37.11709176477516,37.22959196207712,37.20990802679616,36.87512839454347,36.75690104466848,36.68342757810756,36.42288031587751,36.313205361348814,36.26437637435701,36.15936169607093,36.092786876569285,35.81758858763574,35.66396556154358,35.566370171317864,35.573077401951345,35.3839125865494,35.26681419925362,35.166477299584464,35.03852432245027,34.93692605543323,34.80483965178797,34.57595113722894,34.177118321174945,33.79486743196371,33.22690492179459,32.63195325148271,31.848774223744066,31.081912246904764,30.402972561931584,29.75576025232882,29.167630282524115,28.60664549869529,28.04538922969162,27.542316376586523,27.066776381792607,26.61158421122266,26.19384793111203,25.855146312570632,25.66267681212554,25.547111597778883,25.340404267879386,25.235810592663945,25.295593929382168,25.238354162802043,25.41703509033193,25.45374404613724,25.51539976562935,25.63092113086224,25.71630383779923,25.82241726160554,25.73463590489995,25.49802507448638,25.09715697176504,24.46340147263021,23.52223153651753,22.416341104073087,20.887879082253413,19.562311754535298,18.154508015015537,16.777916877223962,15.709396859931203,14.700903602409506,13.679937191749634,12.867185472005549,12.2394831461377,11.769589450314552,11.955406344547663,12.132425179464017,12.322941953981564,12.49479126918515,12.790654589288264,12.999965747303229,13.098245890101952,13.3117410075247,13.270531563326502,13.074966534823114,13.34883011966726,13.554002688847728,13.52180126262875,13.464730405749902,13.085919408891986,12.582562883471994,12.056918558957582,11.526586120444463,10.923557795185388,10.137748356854964,8.786813588748654,7.392902432827333,6.081481808002531,4.902462502398439,3.538441227711197,2.407990906977985,1.6007518643802867,0.7712441515936123,0.4606931363271796,0.5077581599499313,0.3996210346163474,0.1674283364277068,0.2015165653521596,0.1163683343832717,0.3987493483165892,0.3434376600348997,0.4115382125203098,0.4620407502914246,0.2702210531684915,0.0481065635028836,-0.1191755153136661,-0.1883458744830588,-0.2095932303184307,-0.150869765500853,0.111380229111171,0.4645864440190305,0.7901636344545553,1.2858490140785426,1.6305395176816386,1.5602137070986437,1.602851595127581,1.6151618457061565,0.957040883342368,-0.295679024602418,-3.685363207082701,-8.159859124710374,-14.863932127545658,-24.070538869074817,-34.62445365625052,-43.53985062843305,-50.84347590963159,-57.05261379096871,-62.17737528173743,-65.87193891498455,-68.29672777503953,-70.35975159261,-71.73444239421764,-72.82554322515706,-73.76815859630767,-74.77977462166187,-75.55700975064016,-75.90652401967935,-76.07750067286756,-75.37091171461205,-74.48209830385811,-73.20339373139002,-71.5341726340091,-69.6989662673495,-66.83442302036853,-62.97712229040332,-58.26373921347747,-52.87396083804278,-46.958416232385886,-40.63467756875744,-34.704042033840764,-29.148801313182343,-24.128336976080504,-19.81599723628736,-16.035450860643305,-12.117561249560977,-8.588511789445132,-5.98126541472366,-3.257034116455501,-0.4081194145862242,1.931175524841898,3.93928368014381,5.772663678265699,7.675378933501909,9.159681916097954,10.31061865044121,11.221019410466347,11.812749872549336,12.204550680526667,12.325116878709174,12.738064634500171,13.25229465564606,13.507444492236464,13.919400451040165,14.16786304996966,14.44131540125256,14.901324265839152,15.817947895579907,16.739669688139234,17.769040689901956,18.991628023637105,20.2257511030428,21.566803754949174,22.595896520142464,23.87292789696401,25.12401281119994,26.517863909397263,28.067473133953182,29.58336476147641,30.88129712397212,32.15014706871364,32.75426016136193,33.41058708143268,33.5239822694973,33.54308379301864,33.51369734301215,33.37177195351023,33.23436658573008,33.29084371018923,32.73890275007174,32.335194548523404,32.123797768192226,31.727328939032308,31.287774238499438,30.966580104417403,30.87384448769836,30.83346105883077,30.806287993530848,30.5798081367299,30.1354527341474,29.16264077279597,27.90536141315232,26.16594481350961,23.833949631308545,20.952173648467184,17.691160517493525,13.927918804066548,10.021568770493044,5.759052383494088,2.350860142239477,-1.2275871621841157,-4.863135551826438,-8.211283944439868,-11.42756090580247,-14.718672693633584,-18.424682569690663,-22.45119119560737,-26.593442428882817,-30.793678635313785,-34.72425754282374,-38.69276177972261,-42.73515347215307,-46.82099766414821,-50.70738749817095,-54.42436814745017,-58.16159939651624,-61.6366197954444,-65.1402724036463,-68.48814594443022,-72.23067114697994,-75.83844572899538,-79.61054749844627,-83.58778563436015,-87.7824257200073,-91.98110678788004,-95.99165031382968,-99.69269687181104,-103.2341279307223,-106.29355517301607,-109.21481298263288,-111.80627090595834,-114.04428057759635,-116.06377950260108,-117.7708365166838,-119.38912871475544,-120.82116481314904,-122.16113546095778,-123.43174116887428,-124.62750801879776,-125.79560536624436,-126.98924530572944,-128.13671397304805,-129.2959648334088,-130.39627814747706,-131.31228835988503,-132.189103332032,-133.0036334212122,-133.65632972357514,-134.50694919058918,-135.28587095573107,-135.8764337642588,-136.55269502368043,-137.09928778950402,-137.62462458195975,-137.82202561597546,-138.0219565533645,-138.36923355763514,-138.73975385476743,-139.08459102020444,-139.11903280958276,-139.22250827386506,-139.16711756261296,-139.03828335219148,-138.94911510471763,-139.0830779549801,-139.39043428648623,-139.9050171121279,-140.78415468968117,-141.88112607231466,-143.26790561598986,-145.0621867635042,-147.1946444299098,-149.72232570728872,-152.70738962001553,-156.36772219074868,-160.53348279070244,-164.84326034309453,-169.5342969331672,-174.5936651247797,-179.8389869547113,174.92011338735105,169.45815048711123,163.85965433406105,158.18793485980777,152.74508428913563,147.7755920375647,143.2007964501126,138.8643562010723,135.0023264329567,131.6914349003611,128.76273785048338,126.04605693525322,123.84641490377588,122.16246472923255,120.97602199465268,120.12359306179756,119.38454876250368,119.04406427547468,118.74553377838146,118.57437287957896,118.64344171602713,118.7759991602084,118.9968703754248,119.46783183488276,120.14819664798875,120.7098469518092,121.10956647006324,121.70239861209484,122.30499752678143,122.83809483242533,123.36632341277674,124.02927511661328,124.6697456442663,125.36310801891187,125.7396204356348,126.16496373748043,126.50228638269252,126.58368719044142,126.58684869924528,126.69835977646808,126.78836236267855,126.83904062876798,127.0226089125221,127.15925072744768,127.34409024258368,127.53081508538672,127.8342601027246,128.00575208839513,128.22407704455418,128.51696407195797,128.7846697873958,128.97660670726785,128.94123537294578,128.86024159636884,128.94674246427624,128.79526412425517,128.5311960595622,128.497478143606,128.58297723742086,128.61858100230353,128.69438384405845,128.79766449928056,128.91632857389263,129.02128722683625,129.05108286938605,129.02741197355635,128.88003616401315,128.699120139489,128.30538210876014,128.05825525353185,127.87715171625295,127.7183693910878,127.93753462414236,128.23220970379717,128.56223874776802,129.03220211078673,129.76313033903622,130.64782182251432,131.6039509386345,132.66654803316823,133.68629830471468,134.4739735363924,135.29820828787115,135.79721242941753,136.15656734514076,136.29549621284752,136.28768204577875,136.39998376976624,136.53451501904345,136.76716985058255,136.9208287093553,137.02740358459042,137.09498981155798,137.04456958936555,137.19719060982993,137.50695328992802,137.86966556052974,138.25732413064426,138.47871331005473,138.54679380880776,138.52081601165597,138.67503170113756,138.69496975197367,138.8269730987637,139.05492987352264,139.3732217233462,139.88251379257676,140.1473430972308,140.60578423921694,140.9566251235952,141.14898621195718,141.14888263610524,141.16207270667567,141.42966848383756,141.6514302341172,141.70764580393802,141.59804903679094,141.38703409319646,141.2623920022702,141.35251670593536,141.60547957933878,142.2131648729312,143.24589666143532,144.9083356409411,147.14267599209006,149.93073709994164,152.95745256448396,156.336319069948,160.06123382007425,164.1018178703731,168.6114822703862,173.74019543709312,176.41805478463223,-178.03070752352482,-172.27619019920266,-166.38617498304333,-160.41767424550687,-154.40578348580652,-148.35280193725183,-142.21725929391934,-135.90049615911985,-129.2260083184406],\"type\":\"scatter\",\"xaxis\":\"x\",\"yaxis\":\"y\"},{\"mode\":\"lines\",\"x\":[0.0,1.0,2.0,3.0,4.0,5.0,6.0,7.0,8.0,9.0,10.0,11.0,12.0,13.0,14.0,15.0,16.0,17.0,18.0,19.0,20.0,21.0,22.0,23.0,24.0,25.0,26.0,27.0,28.0,29.0,30.0,31.0,32.0,33.0,34.0,35.0,36.0,37.0,38.0,39.0,40.0,41.0,42.0,43.0,44.0,45.0,46.0,47.0,48.0,49.0,50.0,51.0,52.0,53.0,54.0,55.0,56.0,57.0,58.0,59.0,60.0,61.0,62.0,63.0,64.0,65.0,66.0,67.0,68.0,69.0,70.0,71.0,72.0,73.0,74.0,75.0,76.0,77.0,78.0,79.0,80.0,81.0,82.0,83.0,84.0,85.0,86.0,87.0],\"y\":[-395.1912626933032,-300.9312734087991,-235.3118681230644,-188.49472050920656,-154.36656518036858,-129.02167895769506,-109.89819288841085,330.31016249984646,-1482.677276999165,633.6431706432588,-264.5780218046368,1036.941392687334,-1204.2834886398257,286.0933377015923,689.0955409949888,-362.9782351290288,-459.5272826026082,1199.5986962056074,-1530.8209358232502,456.7342155967428,854.8790476907465,701.7481855829421,-371.6641824964395,360.9669992340588,-914.8887195802416,-802.5837372876075,1269.0679541643171,-1309.304008486156,935.1840775971552,631.4915493124164,300.41163279942293,-681.8148409805126,-742.6486932137259,1578.8006410819282,-806.1855559358369,-138.1504999113151,1041.0574928957303,-1502.020016271684,-145.4499377894849,894.3679653961292,-800.4593197783548,-331.7211427311252,858.3290058817546,-212.0502712881226,140.68159471990393,-209.60015698761575,-47.5782725437406,479.5891795226962,66.67712196697234,-701.3904282950741,378.87475137625455,-273.6264545369733,788.1346510077136,-310.284709560648,341.4118068909171,-264.2340092724262,165.17091943740508,-641.0243417991418,649.8143319371856,-33.7537164088193,687.3677029345419,-720.1680307897229,165.3045907107229,-433.65299754476433,671.9045962556236,-519.8402161862823,-142.9766255377117,239.6463328698574,-35.95302704274028,5.533567847970766,-34.53529176711889,-430.5771880684472,490.7581255290364,-58.51248339593656,109.29160222454276,-169.52656492771402,-192.55730937643025,466.5621641716788,-62.47569899948846,-203.2000322832538,-222.1857133101556,350.4896514857504,-0.5861052744060014,183.07434782701043,-874.786958945081,407.59766404916985,151.05568785419442,-74.92246807657577,-107.32838220961057,649.6573847096815,-699.977400243167,165.7185910695621,138.71537260934446,56.138449917181646,-240.9854436346671,437.3688355054561,-290.0074885873204,395.23928359765006,-231.0655124669353,-104.69653176307108,304.15838277730484,-88.1974467799057,-415.6226191358108,-47.2002461728536,357.41230157138864,-106.3494206591248,365.47862150236966,139.07761223031434,499.3890606465875,-866.7966918650287,-223.4754310276976,558.5954856475319,-461.2209095136008,-499.375945502321,728.0698555081732,340.09487078838407,-1063.444454468552,924.0799982496496,222.3045710707604,-479.782454447357,-245.92787551781728,1089.5838660173647,-1428.2401806354417,857.4958725397005,-473.96587714492136,1209.5243884422987,-881.9414658018815,-45.28762515860696,-636.7008761663675,-203.8611419605333,282.33602074482025,-847.95513320136,-241.1527855358243,1762.7459017179574,-745.6612119107111,-368.96071617330864,2216.46516048704,-989.1445502443804,414.8591822935237,479.8402808065176,846.7258112135245,-2758.6049333303854,2325.5103127273346,-965.634471367284,1520.2544017313744,-1771.4994316665193,860.8915848174861,266.1316846895065,-547.8851453324552,1290.706220734992,-697.8155527475968,-58.70003279775471,754.5154147343975,1594.2465353765872,-818.1464163297445,2297.091326773849,526.707306539902,-942.6807839507578,-117.02463314958143,3112.255189081356,-208.7480457694841,-1396.1509972076751,2255.363417896174,384.0307741258098,-705.7401960763183,-1354.4293018146263,-2502.064854859097,690.6448269678575,-3519.693804551756,1645.561044022207,273.5402362792652,142.99364960184312,-2319.0192432414824,91.22998356766354,457.9284345216364,-1034.6749669125982,1000.1442319027072,-843.7823638982886,401.3650860280518,-1133.945485423496,-276.6811490952508,255.7572920602833,216.62880281347677,302.7002926096158,-140.12824231146493,-801.0298772159587,114.84502140599562,1349.4713027872313,-579.2371380905645,-1010.887865185638,212.2940778198828,-62.909731284719605,-30.83179701734229,29.76316246044364,163.16353147074653,-360.1039131334053,4.381845677671775,41.18318617224839,-10.165245741018014,123.5962429746843,182.7122131088493,-425.1609345035042,159.0837803218065,1072.8385266083951,-610.4935015147147,-709.4803201369468,438.7127800023704,-261.67191826680846,-83.54136358038441,515.9678125311729,-530.4580499328557,6.5482795509300695,299.1406378122368,-1181.7227167942476,1333.8223073434538,157.43895862987733,82.22770101273558,-379.8064260334598,187.3198129881331,-388.737471794356,200.87049657829488,401.1872300794441,202.23351022639704,-1110.5059303610872,-907.6736999305962,1161.766263225891,-332.8080963121107,580.0575367182058,-266.89070095848024,-577.0374609547798,77.24163693950314,83.11520542681541,-31.094099961623076,1003.9097678923184,-43.89891365875221,-231.46845292991983,195.55283705693,-233.05819877308596,-302.0165861285871,1334.3995261935086,-940.9878442836618,44.76797025107737,214.84019106428173,-46.25919208341456,428.2227658442612,-574.5309631470299,674.0289907132249,-471.6568109074631,-332.61463758335776,-338.4134180274228,755.2278508391734,85.70559498056318,-427.65587518080497,272.94136227020573,-286.3050265703328,-74.31493527851873,-865.3665326458271,899.4304812381633,242.0678864055768,-1089.7447386816564,916.3032353426404,102.839808040034,-242.91803236460905,-339.15017012326814,217.94741858397785,-222.6845476704572,135.50648681753603,-718.2835781532424,574.3990431713129,575.6721431857759,-467.4635494877994,-204.92406053978831,6.89722014287741,64.91812730080981,-347.6580997335359,772.5227884724229,4.27720952677757,-614.9937515977035,499.9689979373274,768.5867835381428,-1161.295632871761,319.72776531995567,-731.4304862843084,-89.79336207540578,150.26384914178885,-455.4826477279485,-43.86018877878273,754.665133141471,86.66689194786007,-307.3995393425289,-300.6548869775958,226.1596683000947,-433.3860712992716,1684.0913469373384,34.69906260912159,152.95076815308462,-1151.5014005440396,950.3602579989722,1172.618219041103,-1802.130916737004,861.4451110718977,-710.2990105911629,1698.808520898195,896.3329707928845,-1438.9047736833732,1393.496729682296,-437.0605312191587,2254.402695831313,-2749.9948978437974,157.7511034401564,1601.6845287684505,1416.5933667876934,2368.443067825168,-2174.956411059215,19.13472480132405,673.7920910283464,270.2247597839218,1384.0318674991863,-3134.62616210649,-4107.979918653688,4311.566008942638,-2261.579295087673,-263.64197618737296,-1135.8625130468,2220.637647452387,-1859.719179782376,-1984.5116038027245,-68.6921223725071,434.1589032935296,1694.5994361158926,-615.9793769174203,520.9988900970095,122.3682685830616,635.4444469718461,931.0167308156948,-1032.809025933326,-660.5865444126669,841.7068887151227,-1175.4208338646636,2181.557068870737,-1610.1546709016984,498.7481088782595,-317.4665878219998,1333.0974951251376,-229.8499902852922,-170.05368750964146,663.3900555954493,-2064.233292126521,414.9779186106819,-66.08231431034662,1165.5314673860971,-1474.4407526001107,1406.1278347390628,-1892.6824110387904,573.6799583468688,687.5289127909683,532.0831752049569,-531.7126329524032,-172.20649525900234,-315.7734840035162,481.06763737853055,353.3682107102507,-404.7732790170193,735.344894343569,-1207.4965098644889,-677.9257471234594,2100.765338228762,-3277.2264082305546,494.41764523984847,339.1166075753303,303.22108604912466,720.9347107791602,-2117.8238216600034,1626.7536518811255,-120.34004346428829,-51.94362769531025,-725.6570019383469,1355.1415906208745,610.6000171258335,1031.779609886974,-1298.506910401362,566.5068532652282,478.9131151448762,-174.23381033658015,-470.8734484406123,1807.0097572944717,-4861.648854127014,3668.822334999716,-523.1810654286435,1154.4857340274657,-959.7386641012656,-615.3294942600751,-88.07712695317437,-848.273113925383,-445.4434546402685,466.3320561803933,644.9684002630789,-118.53901597847585,-446.1509832141917,-578.173648420059,641.5457415277968,265.70817099559576,-1388.7016872468305,2004.3086596158184,-592.0738851534279,213.9273105747528,-435.959517478576,-53.70382345850078,462.8411228018816,-1425.5813938821009,1188.9554195511312,-208.58051047312927,-654.4474934489908,-732.9222130025137,2185.031061776275,-1640.1743641356722,157.16258922203363,968.6297364208395,-1031.0973884141288,-273.1726665360269,405.1689633851861,-599.0483255975596,396.4417735675158,-186.8641329760365,980.0210176605824,-759.2180995374148,-651.3399416687413,678.0555251890603,-748.1509370025603,1469.1059802614436,-568.3167670035681,474.2312220709492,-534.7381651022446,942.2372420572126,-898.7723950785364,-513.3057919650945,1385.7651825274206,-1224.086629264285,863.0488631155804,-145.6777327212262,-885.1776104781246,1118.4311265786378,666.4315111304327,-1814.6506511987373,82.62748729400256,270.9735255739775,313.8665301413312,-241.67153631316697,1286.1155859741516,133.2138585768783,-73.09325805064671,-531.3676550267694,53.1243683599103,39.53318025226049,-522.8161753413734,1650.8778528619216,-197.36046936808816,-903.4057068115508,-695.7901283356374,931.3189655018896,708.8148048332516,-1395.3807303196122,-667.9861749595244,1236.0490614861585,239.7308892578573,-662.3775979888118,7.54194772629746,972.5411790366204,-255.97552296415472,-531.2507154951161,-759.2613992492165,239.95412841751303,328.22467365103057,-458.07514064858526,1450.53650922151,-1168.5220832807818,-475.74634021250506,-64.99075651466602,1333.337407827008,-1309.5231923910494,-404.1140533912838,933.6972837602232,-401.2797024404495,1119.0323403291902,-233.6761113349717,-388.9927966928701,-13.877298634474622,-21.498814649446807,-71.81467943133457,53.06090664139895,394.8808697479691,-48.88205105907706,-98.68597087094622,222.43981259385023,-850.4420483122158,-112.91341590523496,-315.8648746011236,1027.609541473769,-108.82859157666314,-65.13555524961134,-297.2968449743617,630.3232219344753,-570.3276634893408,-28.046433676120586,-164.59542865206555,-329.1097780853135,1499.5357346882352,-570.0909525858433,-674.2463060278184,338.75395888414295,261.5434374165466,-855.4669359982219,-143.55645076042836,798.8213561954641,110.3031759004024,274.1600903415693,-309.3592548406125,139.42560729237474,-364.9390965293682,-631.0564421583648,767.1626839124101,-1190.476020271106,884.0329377845612,222.93985053523923,-1219.315812430646,1309.4635881905488,-1533.5599944979706,498.82951594171743,153.20989268542334,-828.8299600337684,-252.328787268553,791.2335147118212,387.68277659983767,24.168027778663365,-706.3952814177927,374.36721899519273,632.2994161460502,-501.9165571209302,-831.4694557217518,1359.504155727686,-502.9957675712742,1550.8615794836242,-1197.294089328443,-885.6549896288943,1090.2962933693948,21.494147842441524,-242.94024360826367,-409.2841800846163,-259.3336415105944,258.8477713623636,485.6138970148198,-658.6296451113246,512.778353803835,-727.8840203043369,415.6601775164588,-31.241509091083557,223.9398732840967,-254.27460608156903,729.6253682960861,-409.11834933706814,723.4958272824609,-1466.8747909174554,276.6901763362426,830.4575167407933,47.55738995330283,-933.0442098956228,239.1743461720224,-651.9473027510923,1312.6418443524913,-576.8639463447735,-676.3484143707794,471.9845826497,-782.9430883646809,302.4231164388266,477.7282883013669,-378.277866711857,-365.3210418556978,96.67892834254776,246.27170518570085,-71.24751632574244,135.1678205585139,-170.00244330380758,-16.241126900485405,-24.209994278451163,-33.217937096838625,-43.69043555538343,-56.1860671905492,-71.46154468631272,-90.57069070572643,null],\"type\":\"scatter\",\"xaxis\":\"x3\",\"yaxis\":\"y3\"},{\"mode\":\"lines\",\"x\":[0.0,1.0,2.0,3.0,4.0,5.0,6.0,7.0,8.0,9.0,10.0,11.0,12.0,13.0,14.0,15.0,16.0,17.0,18.0,19.0,20.0,21.0,22.0,23.0,24.0,25.0,26.0,27.0,28.0,29.0,30.0,31.0,32.0,33.0,34.0,35.0,36.0,37.0,38.0,39.0,40.0,41.0,42.0,43.0,44.0,45.0,46.0,47.0,48.0,49.0,50.0,51.0,52.0,53.0,54.0,55.0,56.0,57.0,58.0,59.0,60.0,61.0,62.0,63.0,64.0,65.0,66.0,67.0,68.0,69.0,70.0,71.0,72.0,73.0,74.0,75.0,76.0,77.0,78.0,79.0,80.0,81.0,82.0,83.0,84.0,85.0,86.0,87.0],\"y\":[-5.291911668635685,-11.548404526842567,-18.469343865585117,-26.020292359313324,-34.06006550282886,-42.33832312258823,-50.53453540916929,-58.33002893816367,-65.47766486728446,-71.83555066614875,-79.89992377853419,-84.10987121416996,-87.36798880326074,-89.85499473283875,-91.66024745945433,-92.9090590644669,-94.17664279909792,-94.65689566436774,-95.56033275314178,-95.7907878710968,-95.80217533904056,-95.87215869354308,-95.5212308517494,-95.79888300637136,-96.1712705169507,-97.17763077738115,-98.49725777056116,-100.03233041425406,-101.53353780651192,-102.82544296835805,-103.8283507047708,-104.82477701140878,-105.48649226680514,-107.38232184544022,-108.72065938986816,-110.13968607403947,-110.74711061806352,-112.19581357021238,-113.92724643029322,-115.90316863321044,-117.78141602990029,-119.48659659340038,-121.93657590355411,-124.33274863417708,-126.56019421821524,-128.76555435378202,-131.03012099457595,-132.75102079383305,-135.43889452387847,-138.18907529846084,-141.8586326895248,-146.70775868664344,-151.6915617138594,-155.72229358471708,-159.88587445019903,-163.53046631823173,-167.34875436386133,-171.90559359520398,-176.13902162925527,179.16354998664173,174.2560623879676,169.705321053482,164.77028474166642,160.58684915172722,156.1189715332943,151.8983646396016,147.79983208074208,144.02638228705248,139.84162059135866,135.4394908735524,131.55247989166932,128.20568592134737,125.20724956600742,122.9891408286455,120.64696912101644,117.91780595897237,114.86954938252237,111.91163016291476,108.28664725278648,103.91570561217114,99.74361769134306,95.39207496658322,90.80614961417734,86.56804581743974,81.57354426662657,77.35985301229118,72.93620314113932,68.01813597815438,63.429021335087576,59.5844767681949,56.750550168429,54.33154360729562,52.700174034829786,51.067945353340406,49.65393182516676,48.61261628285449,47.76499751212653,47.07730815671204,46.4726999702041,46.62331299124695,46.85477568948284,46.640877838079085,46.05412163375406,45.32174860333536,44.596553601105775,43.17181228249165,41.86003599815638,40.95495799911555,40.2956701798993,39.62779295553656,38.81042355947096,38.12123512282061,37.29102341689045,36.53241252325005,35.92664414352684,35.450867459589595,34.81173185201244,34.27628830211272,33.78199303197874,33.37627492708614,32.92983230900147,32.68807205234443,32.74757162468861,32.78329172002881,32.99645520512131,33.50517177150841,34.23785328481569,35.164158172519215,35.923887420995186,36.73659523594738,37.76209454048534,38.65173481941397,39.64171763453135,40.70606289996088,41.50743883812669,42.19195451255678,43.41305386199247,44.85913465852558,47.165737679919154,49.56149378288323,52.79278641469968,56.451428764285154,60.27872320135666,64.7233957042825,69.2919460692701,74.92268390807479,80.62383826346978,85.47651229171709,91.361734502011,97.49204620962914,102.70555075558217,106.69848355980332,108.00299818372244,105.2338290301754,102.41025700334151,99.10126233603978,94.32880571932168,90.76054928209268,87.60472821593702,84.5443229491081,82.24335095013191,79.09216447502129,76.97392594564553,75.32020068564618,74.30899109673231,72.37341108986459,70.72265872583289,69.15738440097367,67.299164530065,65.2373844647878,62.68975712658364,59.28993946550266,54.350599964778425,48.528795918784006,41.06345493830166,32.98444151168993,24.503462118913315,17.907211964396097,11.43270009289916,5.603238544929107,1.7729344007942645,-1.2032789861625146,-3.192389301977563,-4.441828590669109,-5.1295607804408965,-5.1895648535040655,-5.484635067407348,-5.737497183430435,-6.205996573390967,-6.320430728436235,-6.3527635776308085,-6.699718349851214,-6.874174411900448,-7.111989462711563,-7.079279513785116,-7.393266179812788,-7.678860864940326,-8.785034261865512,-9.129575606411796,-8.866207110784451,-9.04700790718421,-9.418062079808012,-9.465534340990686,-9.643985126288088,-9.691048278731994,-9.586610637616772,-9.71178522173124,-9.731799022411664,-9.398764392325724,-8.963752895227199,-8.180659631755312,-7.28750810163004,-6.299404633436377,-5.063186112784019,-3.806469568601305,-2.489879327423805,-1.0277190123244553,0.401685350352584,1.664642834658193,2.438347627442609,3.2465263838468736,3.938203384288164,4.181607387297717,4.316132240805812,4.28188741407102,3.878167393792853,3.968937926091483,3.936429024799087,3.750556563446613,3.42061054454932,2.956726081359706,2.259910630259358,1.378661201876169,0.5046900858495388,-0.6136473058989046,-1.749043319675481,-3.353321415582006,-4.970500308784374,-6.699826426388857,-8.172080802066347,-9.954689098955088,-11.676931132046748,-13.158928597331736,-14.519681062839448,-15.495551504682323,-16.15519955795274,-16.656108266525095,-17.031373003092266,-17.273391976806426,-17.35190956427948,-17.509346083561383,-17.553577013100927,-17.395963421794157,-17.19827812394543,-17.089699842271866,-16.941243703229258,-16.678118284185555,-16.364870741259388,-15.959636954333195,-15.466413557557155,-14.450988927652858,-13.241975643820876,-11.606254401416876,-9.674114758465924,-7.6424193241226,-5.328694209875471,-3.031207789034198,-0.7489478064417482,1.70207118523881,4.065549274236477,6.462225193347964,8.739714335518617,10.853895171519088,12.91265553978516,14.969908988874446,16.629170371395,18.05628512564761,19.458719042563786,20.767651617046035,21.89328092459009,22.75202055884945,23.53201328460348,24.0220966171792,24.391887142958076,24.62331891160723,24.798154198026708,24.81562623217233,24.66332536382713,24.31622166608987,23.784125705485117,23.13175455836507,22.310311573491276,21.46198428743891,20.349438759684865,18.980276552323517,17.468163124434497,15.861132518625906,14.071456491716724,12.325027139768869,10.672752412494676,9.242975075104946,7.926774905662248,6.685298202756965,5.575388596735579,4.557111769076667,3.492341499467685,2.469737299139902,1.636969958356019,0.7277583164663505,-0.271978665002858,-1.1573661722280049,-1.9928788624668008,-2.846213822685137,-3.8101383139525145,-4.679508668677619,-5.443786477526176,-6.101699068395793,-6.5929372080564885,-6.94918089597545,-7.138150680351258,-7.448828593702238,-7.782002829463817,-7.9307942602154675,-8.143846197186292,-8.244727314721555,-8.344063377445432,-8.544908266139233,-8.983896895296446,-9.410691709117406,-9.88305869852013,-10.430765992856056,-10.982843999494824,-11.54313607370211,-11.969778150523124,-12.484521612052776,-12.97572541503328,-13.522603710840771,-14.132795195119073,-14.78647009970534,-15.417105344365094,-16.08941798590416,-16.59721609627363,-17.16443124308456,-17.600113328725204,-18.015915579487604,-18.401526140995514,-18.700450995988724,-18.95570819074052,-19.25051930128476,-19.22698482166049,-19.205186688852077,-19.202055268681605,-19.073914111051767,-18.923802641682183,-18.83552615761604,-18.857524781736885,-18.929550597142573,-19.046637714345508,-19.08930351448501,-19.065427457051005,-18.72015005418516,-18.27191497666116,-17.61049325200064,-16.634553548372857,-15.317209978814631,-13.642235074963097,-11.769406531503172,-9.69832136934107,-7.248802081500231,-4.842887277665846,-2.342609710663112,0.1862871808197753,2.638185272521912,4.936770363989589,6.821672827759874,8.40801365195585,9.820344065289692,11.052928242111932,12.170471459274347,13.219204077771655,13.923604977686246,14.67209985586115,15.511782577754593,16.290739637464444,16.824750266817944,17.379090672744304,18.03197303304301,18.883652819849758,19.64334197761956,20.292800067416536,20.94065999391226,21.379014600228956,21.42951006397113,20.709626379787068,19.399532948468327,16.802025384616325,12.754454457614472,6.503911800120657,-2.1395851519068723,-13.483904561385533,-26.256570467234248,-38.900975177313455,-49.75889921158935,-58.30755998927874,-64.56792074053315,-69.70550672376004,-73.8936438248469,-77.43106624333308,-80.19548578593266,-82.41195189684238,-84.56344041462398,-86.64569846396802,-88.65301284939248,-90.65693561057977,-92.43870768053614,-94.01601200219594,-95.67959740681464,-97.03018761230832,-98.15328536958872,-99.17730312923236,-100.18223104638308,-100.90470614734392,-101.49003828411988,-102.25486820196332,-103.17903539558148,-104.25112988151804,-105.158766383482,-106.04224135208965,-107.03611881199876,-108.09761244839608,-109.03639678372684,-110.1437416912596,-111.27169096564684,-112.34036361499872,-113.24400053227984,-114.1238268745105,-114.8994621737897,-115.46809725091894,-115.99722082264668,-116.34076917973336,-116.5061886826938,-116.58479386887842,-116.71812447273904,-116.79100999592043,-116.83601932616722,-116.42921185996504,-116.21397212935416,-115.4860577531978,-113.8301006416498,-110.6671574591012,-102.31798790166944,-29.18416807749924,40.93344615291503,49.12357587090436,52.22900818582191,53.938571060430746,54.7687873151456,55.60657609159316,56.2979089249553,57.00509007964863,57.93733188637669,58.79986924527015,59.78051117125632,60.85233926856795,62.07879736611227,63.48916837556752,64.99118744594601,66.64316801390439,68.54131612914047,70.60233465465119,72.74655310969098,75.00395463179608,77.28125011433548,79.65388773640278,82.11059777066575,84.75144292567137,87.6415291815774,90.8715250919286,94.15875164749087,97.4151436698234,100.742335103693,104.2568180343215,107.7712187782415,111.31380602442005,114.83469499693794,118.60137615740882,122.52532196177516,126.68644333837496,130.95930624056425,135.20320302842407,139.39714098347088,143.61227727962967,147.9330998783771,152.37949967023454,156.75253387699743,161.1462128394003,165.24793273058333,168.8791955729557,172.27164494049055,175.47148569661053,178.35619955173794,-179.1823051012359,-176.79420880893656,-174.67980700182815,-172.68926356693476,-171.03912313746577,-169.54922341288537,-167.99928728299278,-166.67876668378642,-165.3717603482333,-164.0892364193639,-162.97048312143417,-161.53824533761534,-160.37111403087917,-159.19835176785386,-158.2689145775109,-157.40763361161757,-156.53116973976944,-155.51183282893896,-154.42739930358093,-153.16246959537372,-151.65695394377005,-150.07227767809542,-148.19765046543233,-146.20366196340183,-143.85082316299665,-141.2525380934693,-138.8992483486852,-136.4066472245285,-133.957361448194,-131.55240592829472,-129.16078978532025,-127.2795857229067,-125.64612826460107,-124.3843484073826,-123.43013465150896,-122.72948561766258,-122.030882929,-121.490455183707,-120.95881097255646,-120.62803198346516,-120.3572847554862,-120.01913348229718,-119.68890893167796,-119.36797664578386,-119.11870352591863,-119.09750364995492,-118.8926597139569,-118.7444898185597,-118.64849784649633,-118.45236498228908,-118.22270986369898,-118.03629444562335,-117.8784187986145,-117.52493342506686,-117.12498151458156,-116.56283507777556,-115.9409220656662,-115.26140789873982,-114.59954172509217,-114.10610438263352,-113.72998402715383,-113.4285951790963,-113.01314454992698,-112.7216352053359,-112.7726075232986,-112.78807905198258,-113.00370282645102,-113.05201663419048,-113.01617352222884,-112.82912376219429,-112.65514398461085,-112.2390709826908,-111.31053349670742,-110.2904252552747,-108.75926334015844,-106.76819446039045,-104.35143508359263,-101.43359714830238,-98.09520424976174,-94.11233208727911,-89.38446358033946,-86.90930193831812,-81.79392207424651,-76.5963698562811,-71.48619232719179,-66.61833930013668,-62.11654850360422,-58.06601217181218,-54.51537129912227,-51.48483881634015,-48.9766250890697],\"type\":\"scatter\",\"xaxis\":\"x2\",\"yaxis\":\"y2\"},{\"mode\":\"lines\",\"x\":[0.0,1.0,2.0,3.0,4.0,5.0,6.0,7.0,8.0,9.0,10.0,11.0,12.0,13.0,14.0,15.0,16.0,17.0,18.0,19.0,20.0,21.0,22.0,23.0,24.0,25.0,26.0,27.0,28.0,29.0,30.0,31.0,32.0,33.0,34.0,35.0,36.0,37.0,38.0,39.0,40.0,41.0,42.0,43.0,44.0,45.0,46.0,47.0,48.0,49.0,50.0,51.0,52.0,53.0,54.0,55.0,56.0,57.0,58.0,59.0,60.0,61.0,62.0,63.0,64.0,65.0,66.0,67.0,68.0,69.0,70.0,71.0,72.0,73.0,74.0,75.0,76.0,77.0,78.0,79.0,80.0,81.0,82.0,83.0,84.0,85.0,86.0,87.0],\"y\":[181.1382654758389,188.8413933713231,199.62273614736392,214.83150805244463,236.28995354106152,266.5692432799066,309.4332674489676,-1176.0677034385049,5941.818452066253,-1287.9991694271523,1733.115643544341,-3726.253032390058,11137.40362380332,-2746.7043725553763,9965.781317643465,2349.589923562391,-988.0952337277974,-9512.232088803214,-5935.685638414097,-113.64976141206196,3778.555029704146,75.29752559076108,-2260.5350233016966,-198.16981521052668,-4995.85270812835,-5321.2752822877455,6832.624853696697,-5919.82692115827,3720.3438863822257,1440.8032226394844,989.9303555455004,-2765.743230538232,-2627.626770135656,5144.618247351121,-2905.051340518692,-132.6725273617666,3701.2948104273305,-5277.231890700397,-379.1182451474968,2793.7246184520523,-2233.579557950397,-1315.4422735304029,2805.3819160461585,-515.6157595629184,233.29086263781087,-392.2960899783419,-459.0530142894676,1588.0858671943677,-60.2395182278137,-1919.65265703373,1078.91880845634,-814.0060303758021,2219.26285680467,-948.4043232976148,984.0715572696896,-757.7493208282166,481.7729882422103,-1733.1022115193966,1783.9090987462637,-98.40073118296375,2017.741076099392,-1903.245437409921,293.86329350005514,-1232.3431967674728,1830.7784586003463,-1185.085979555938,-694.8967748729278,977.18303929454,-380.62955488563887,256.1700920780612,250.30782327992276,-2069.277616507005,2175.083478383452,-1056.6244662465904,1424.500108607778,-1040.0129707206663,-711.4462433610912,885.3117704903127,1187.0740955854906,-1181.5540108490584,-636.1354144742031,458.21131448939576,53.3520824245981,399.829899088717,-1161.3447085583232,-316.9139531388576,432.1467958063079,320.8356420547336,33.77421659330715,1296.9884909413547,-1992.3380600162332,754.6597096885818,284.38399307432974,-143.55669626722946,-210.89102193244213,1223.221204529982,-1064.8111819209594,2596.3334856473257,-2169.944835819254,-133.9383433637351,869.6233652526269,-56.86105661976315,-664.5202831790089,-79.99961940697654,67.53176074906375,-440.0360382579343,1456.605774644239,-168.23897294365065,-8.153075926875086,-287.9733229909451,-680.1690597136765,474.7592785414163,-874.6105789440228,1679.512201812462,243.13298489433112,-1097.9938274873589,657.4338029994062,-385.3824505565717,507.316316375374,-352.20497304555386,-449.041798280291,179.0603477076309,-334.8047805497956,-254.101356780728,-748.0754343477039,659.4737607347543,-482.3567667623405,-504.00487418655337,644.3633647611114,-1480.5525354831896,953.1866967098942,413.9566137094577,-465.14969797264,-998.6499452949462,-1168.274991418325,1911.8151371423,-1615.8901283452594,1041.162570353784,-1241.2439202472156,-479.29368339142366,867.3916953389567,-576.2321011139724,-530.5433393338448,686.7854524984025,-1181.4255477986378,-1227.471986560615,909.7986361489463,-1379.0732872221972,-349.2060368104708,1193.8810796616303,-1473.6855210429276,1642.0347129859042,897.8148324727426,-227.11976173155347,1010.3768975644264,-2253.215188625155,3806.3423659777295,-1308.6985397618412,-1478.790511245009,808.9935596009474,-533.0446700207858,685.8903951439071,321.88539235325453,-939.6947959110842,-583.9649019899986,407.26409765766647,738.5823199128714,-378.3698366458763,1796.061083284239,-1346.659747229802,-473.6619391792116,-742.9746942446154,1674.499860474578,-383.9362348971758,-941.8733757505668,789.8897598858428,-917.4269475463794,1219.5861761935332,-1485.3302948504488,1459.239890437003,528.2018712557335,-576.3622473328667,-118.0492409158167,-330.0120519092813,617.4524716590895,975.3536693614582,-1066.1957849831042,-1622.8874154937105,1262.49319481339,1434.5738261426893,254.9716536749633,-1155.4391224358042,80.37982927903475,817.937629777386,-275.3972246807244,460.76730116488017,522.5341891709097,-954.8167943145528,102.24316415866876,144.73935287548412,175.83355841926306,-63.58712190849492,217.92856619779036,-627.4002153731396,-366.0130884721011,682.158667466306,-431.38876531646207,74.94536783420713,-195.8837912180469,-658.7001001325159,758.1296673494595,445.1024514838476,-715.8853604152365,1251.761631136171,-375.9451226243708,-282.53598928345747,-240.95934185095143,-297.7675133819464,847.664559224269,-41.892734328092594,420.1323464173203,377.9037372631967,-487.2750263556236,178.8570565116006,-19.563442072075887,80.68802918834811,-164.35355783496115,-380.9602666758456,1008.9066601666289,229.15652607511944,-875.5248447399757,411.2663739807491,458.9096574171441,-647.0474358599769,-407.24258025353134,463.86964997466856,-987.289182456688,314.4439634997388,428.4789055648037,719.7233770684272,-910.1930931405896,-87.58476320523157,-300.7889327746871,317.07637920886486,702.2107756082348,-449.1888381901785,-82.6758490868636,222.56146736389616,-374.7544872382314,-70.15514896478481,300.5579955817896,-65.21070643449211,-93.58704356812244,-315.90295601724847,230.8517005521412,-510.55844440379127,64.64326836182055,552.7909186916123,-412.4971857781183,-261.0905130877117,461.26803513688486,-169.8147869635638,553.940173308181,-280.55318493379946,-30.7373146749943,-252.1923172552134,124.63792524926076,-82.96693613506278,116.9998041536201,175.00812765995488,-306.1612133076812,-136.19239251805638,226.31443086567413,-44.45078495014621,-272.27635992666745,290.8621136932178,274.85253678043244,-466.3969918376207,510.3371627234461,-74.72952361048691,-453.9234964832263,434.5978797504529,-516.2756072306224,-762.2623729785936,956.3521418106338,-724.3274188348609,324.9688098088825,-431.2351878161387,299.1321591407237,111.67181279810934,121.17643695130242,405.2332647294878,-540.6443370997079,1252.0559425841334,-939.8977748878576,373.95628708381,-823.7128883999436,1645.9344148872308,-994.6038543064628,265.2183649102032,189.5738951871934,-874.3752121461947,464.2868300411298,1071.7802324674196,-938.6068185602952,461.3846967141535,-1728.9217104372162,996.8463797251889,55.17115081744106,-617.3776849416653,1.8678068220026045,374.1511897276506,-571.0080340637271,588.6427156332172,-137.23156364911725,-1449.083895214832,1783.2801243132126,-837.6986839994224,219.49381671724663,1438.5943361613586,-964.1209559738784,981.6241227788868,-268.4510876363174,524.0146083034209,-1556.5555249556492,358.1889981987778,1143.785706778014,-293.2875460875367,-190.82789078085796,774.1867085215667,213.11316189462687,-992.7760190968786,270.41682586012195,-758.9312542747444,-58.51836587704706,117.9946223405146,202.8914401465504,-690.8980545225202,835.039733731216,-1238.1699403561631,795.3896925127074,-335.1099656442457,57.4157125825645,-777.5291475765704,187.7105399280832,166.5322889529337,-473.55702765189767,1133.144910886222,-782.9967230699532,453.9738260193948,-818.5000782836606,932.4790578667364,-1035.9726469039565,905.0013760318724,-340.78959848396727,-119.00450712625177,-917.1123738275286,-238.28900706909064,878.4494008918253,344.20798763267936,102.97607977438594,-549.2596310663603,291.71126958047046,-77.27981662544737,536.6394428093527,-537.9815608949401,1343.0444433868206,-1138.874456715511,1633.4109781894608,-1757.634136833379,979.6024359909386,-902.4106839893504,1613.4812717960908,-679.5211403375772,90.448754319584,-1327.137355489076,289.559138409212,259.3686157364241,385.3666517785748,-1327.9143862750352,608.4796828521071,305.29637368772944,878.3655503871726,-1798.808179270611,-465.4540054942373,2545.9310097540497,-2140.7092162690037,1230.0812054373037,-94.18290924223882,469.1220799580903,235.0455839112924,-450.2997304706434,716.7453881556307,-606.647726873121,71.14502448273696,-242.5215412021624,355.020623575235,41.29542543007258,-869.8913555058195,1691.662830978435,-1173.9140446598497,-1154.7071900688934,42.85531508416662,769.2595566266416,390.789691909112,-517.8102209850983,-205.03966202768245,680.094091465911,-799.5942727138237,1044.3527934811668,-815.644624771793,526.0206250021713,-170.40820262676593,288.27378319395416,100.2442115637061,626.7118313463069,-1414.243066021386,2002.3980634382503,-191.62584250086408,-1308.983838245206,-837.7094004883801,2541.6988441396707,-1121.4128384029102,35.28362629533166,-250.3323018181401,-532.8494732331118,379.1431087145356,-144.91360562678236,428.6512452294511,-426.0162424302396,289.7859846001353,-63.80108618023461,241.84202522618716,100.79675463360904,-440.910398878264,352.8046134299847,579.0643192468641,-776.104732778353,140.49642466021706,269.01533640845696,2093.8013200602754,-2263.2479213196643,-339.6947613850755,1938.6972108756763,-1295.6764000878495,124.65195852095783,472.4805156165814,-85.20290074844011,-427.97876697862336,-748.8139058345067,-245.2285194356816,213.57296837650085,-238.63734966434544,-584.5896453066504,1354.5256659529016,-1877.133163668304,-288.6701275078858,1346.2883366097867,-139.93922520993917,-769.395656839432,-1471.0520298038894,1766.5160836821242,1666.0103356040015,-2545.0041875357915,172.27615260231755,146.35474986942666,177.60883677340854,-1307.140079492819,-383.17199811216926,1525.9045768446274,1421.6270211618194,-585.5442080707646,-472.6992646630546,867.0394980096871,-3248.2375935533173,2603.148719479004,1114.10188221743,71.63446489298452,-2780.934880344581,2797.900077116576,1036.1361633043027,-2185.325069422553,823.0513521241496,-1727.8833327573366,885.9663208313638,296.89899279021813,-12.111305916653103,112.70258521136256,-415.9421461415285,175.685872560283,-365.9193155422405,-599.4727887585154,478.73305180256455,538.1227986231058,1529.222274401218,-432.0920817910855,49.54117260315949,-1067.8656608258225,985.8921756558,-225.0737175550751,-616.8950664494212,-28.09895400134344,515.8791903949427,120.75523586504931,529.7675856521133,289.58223964610164,-1827.3971376655272,1831.3830501298696,-1264.6792778177316,912.8433542582176,-588.5738460188901,498.78317015357766,305.2006653403755,-1438.9449842905328,1354.4594398543902,283.3300856047562,-599.8639552462957,34.04085461715911,973.5264911772664,-1532.2667387200704,1109.5106302830586,82.4927769731864,-805.9113016605246,771.6115743240844,-439.5929444720669,-218.3357190210834,1033.1534907827092,-1051.8986618867068,263.7178205190812,-85.20841929422468,452.7377950394189,-488.6642574775125,85.80796452244238,593.5935152244703,88.25617112994868,-1118.9931918738173,912.9331295409064,-334.1953158835672,-974.7212367222252,2112.1926243939806,-1271.7707108056468,-351.4061708471133,1136.8793831016042,-1265.10838820941,732.9395840006727,115.31050735315203,95.40595125830376,-602.2626273665128,810.3941898292078,-433.3468953566528,-522.2771010316964,323.0142504084412,-25.67147330856867,-142.98687009754963,-606.6715809566961,502.0209850043622,588.9885694659365,-417.2164031892866,1372.453257303017,-742.7655313823244,-794.0445158041999,910.684319951446,-199.0849592780396,379.5881556215349,596.2064696199836,-598.8202655273194,-351.06061922318025,1211.9701597112416,-1885.951570025762,-115.87839371732376,632.0308599013023,-231.32156868594703,-1688.0933192255882,638.7873260768075,95.16655449262568,147.7378470494981,-774.9107354679838,1072.2806788821435,-796.6574876979204,7.795334607707094,857.4506134701802,-118.8030943160725,158.36201131922246,166.9439923932099,179.51953358525842,197.38697430360293,222.3826530387373,257.1674530914969,305.6812215816201,null],\"type\":\"scatter\",\"xaxis\":\"x4\",\"yaxis\":\"y4\"}],                        {\"template\":{\"data\":{\"histogram2dcontour\":[{\"type\":\"histogram2dcontour\",\"colorbar\":{\"outlinewidth\":0,\"ticks\":\"\"},\"colorscale\":[[0.0,\"#0d0887\"],[0.1111111111111111,\"#46039f\"],[0.2222222222222222,\"#7201a8\"],[0.3333333333333333,\"#9c179e\"],[0.4444444444444444,\"#bd3786\"],[0.5555555555555556,\"#d8576b\"],[0.6666666666666666,\"#ed7953\"],[0.7777777777777778,\"#fb9f3a\"],[0.8888888888888888,\"#fdca26\"],[1.0,\"#f0f921\"]]}],\"choropleth\":[{\"type\":\"choropleth\",\"colorbar\":{\"outlinewidth\":0,\"ticks\":\"\"}}],\"histogram2d\":[{\"type\":\"histogram2d\",\"colorbar\":{\"outlinewidth\":0,\"ticks\":\"\"},\"colorscale\":[[0.0,\"#0d0887\"],[0.1111111111111111,\"#46039f\"],[0.2222222222222222,\"#7201a8\"],[0.3333333333333333,\"#9c179e\"],[0.4444444444444444,\"#bd3786\"],[0.5555555555555556,\"#d8576b\"],[0.6666666666666666,\"#ed7953\"],[0.7777777777777778,\"#fb9f3a\"],[0.8888888888888888,\"#fdca26\"],[1.0,\"#f0f921\"]]}],\"heatmap\":[{\"type\":\"heatmap\",\"colorbar\":{\"outlinewidth\":0,\"ticks\":\"\"},\"colorscale\":[[0.0,\"#0d0887\"],[0.1111111111111111,\"#46039f\"],[0.2222222222222222,\"#7201a8\"],[0.3333333333333333,\"#9c179e\"],[0.4444444444444444,\"#bd3786\"],[0.5555555555555556,\"#d8576b\"],[0.6666666666666666,\"#ed7953\"],[0.7777777777777778,\"#fb9f3a\"],[0.8888888888888888,\"#fdca26\"],[1.0,\"#f0f921\"]]}],\"heatmapgl\":[{\"type\":\"heatmapgl\",\"colorbar\":{\"outlinewidth\":0,\"ticks\":\"\"},\"colorscale\":[[0.0,\"#0d0887\"],[0.1111111111111111,\"#46039f\"],[0.2222222222222222,\"#7201a8\"],[0.3333333333333333,\"#9c179e\"],[0.4444444444444444,\"#bd3786\"],[0.5555555555555556,\"#d8576b\"],[0.6666666666666666,\"#ed7953\"],[0.7777777777777778,\"#fb9f3a\"],[0.8888888888888888,\"#fdca26\"],[1.0,\"#f0f921\"]]}],\"contourcarpet\":[{\"type\":\"contourcarpet\",\"colorbar\":{\"outlinewidth\":0,\"ticks\":\"\"}}],\"contour\":[{\"type\":\"contour\",\"colorbar\":{\"outlinewidth\":0,\"ticks\":\"\"},\"colorscale\":[[0.0,\"#0d0887\"],[0.1111111111111111,\"#46039f\"],[0.2222222222222222,\"#7201a8\"],[0.3333333333333333,\"#9c179e\"],[0.4444444444444444,\"#bd3786\"],[0.5555555555555556,\"#d8576b\"],[0.6666666666666666,\"#ed7953\"],[0.7777777777777778,\"#fb9f3a\"],[0.8888888888888888,\"#fdca26\"],[1.0,\"#f0f921\"]]}],\"surface\":[{\"type\":\"surface\",\"colorbar\":{\"outlinewidth\":0,\"ticks\":\"\"},\"colorscale\":[[0.0,\"#0d0887\"],[0.1111111111111111,\"#46039f\"],[0.2222222222222222,\"#7201a8\"],[0.3333333333333333,\"#9c179e\"],[0.4444444444444444,\"#bd3786\"],[0.5555555555555556,\"#d8576b\"],[0.6666666666666666,\"#ed7953\"],[0.7777777777777778,\"#fb9f3a\"],[0.8888888888888888,\"#fdca26\"],[1.0,\"#f0f921\"]]}],\"mesh3d\":[{\"type\":\"mesh3d\",\"colorbar\":{\"outlinewidth\":0,\"ticks\":\"\"}}],\"scatter\":[{\"fillpattern\":{\"fillmode\":\"overlay\",\"size\":10,\"solidity\":0.2},\"type\":\"scatter\"}],\"parcoords\":[{\"type\":\"parcoords\",\"line\":{\"colorbar\":{\"outlinewidth\":0,\"ticks\":\"\"}}}],\"scatterpolargl\":[{\"type\":\"scatterpolargl\",\"marker\":{\"colorbar\":{\"outlinewidth\":0,\"ticks\":\"\"}}}],\"bar\":[{\"error_x\":{\"color\":\"#2a3f5f\"},\"error_y\":{\"color\":\"#2a3f5f\"},\"marker\":{\"line\":{\"color\":\"#E5ECF6\",\"width\":0.5},\"pattern\":{\"fillmode\":\"overlay\",\"size\":10,\"solidity\":0.2}},\"type\":\"bar\"}],\"scattergeo\":[{\"type\":\"scattergeo\",\"marker\":{\"colorbar\":{\"outlinewidth\":0,\"ticks\":\"\"}}}],\"scatterpolar\":[{\"type\":\"scatterpolar\",\"marker\":{\"colorbar\":{\"outlinewidth\":0,\"ticks\":\"\"}}}],\"histogram\":[{\"marker\":{\"pattern\":{\"fillmode\":\"overlay\",\"size\":10,\"solidity\":0.2}},\"type\":\"histogram\"}],\"scattergl\":[{\"type\":\"scattergl\",\"marker\":{\"colorbar\":{\"outlinewidth\":0,\"ticks\":\"\"}}}],\"scatter3d\":[{\"type\":\"scatter3d\",\"line\":{\"colorbar\":{\"outlinewidth\":0,\"ticks\":\"\"}},\"marker\":{\"colorbar\":{\"outlinewidth\":0,\"ticks\":\"\"}}}],\"scattermapbox\":[{\"type\":\"scattermapbox\",\"marker\":{\"colorbar\":{\"outlinewidth\":0,\"ticks\":\"\"}}}],\"scatterternary\":[{\"type\":\"scatterternary\",\"marker\":{\"colorbar\":{\"outlinewidth\":0,\"ticks\":\"\"}}}],\"scattercarpet\":[{\"type\":\"scattercarpet\",\"marker\":{\"colorbar\":{\"outlinewidth\":0,\"ticks\":\"\"}}}],\"carpet\":[{\"aaxis\":{\"endlinecolor\":\"#2a3f5f\",\"gridcolor\":\"white\",\"linecolor\":\"white\",\"minorgridcolor\":\"white\",\"startlinecolor\":\"#2a3f5f\"},\"baxis\":{\"endlinecolor\":\"#2a3f5f\",\"gridcolor\":\"white\",\"linecolor\":\"white\",\"minorgridcolor\":\"white\",\"startlinecolor\":\"#2a3f5f\"},\"type\":\"carpet\"}],\"table\":[{\"cells\":{\"fill\":{\"color\":\"#EBF0F8\"},\"line\":{\"color\":\"white\"}},\"header\":{\"fill\":{\"color\":\"#C8D4E3\"},\"line\":{\"color\":\"white\"}},\"type\":\"table\"}],\"barpolar\":[{\"marker\":{\"line\":{\"color\":\"#E5ECF6\",\"width\":0.5},\"pattern\":{\"fillmode\":\"overlay\",\"size\":10,\"solidity\":0.2}},\"type\":\"barpolar\"}],\"pie\":[{\"automargin\":true,\"type\":\"pie\"}]},\"layout\":{\"autotypenumbers\":\"strict\",\"colorway\":[\"#636efa\",\"#EF553B\",\"#00cc96\",\"#ab63fa\",\"#FFA15A\",\"#19d3f3\",\"#FF6692\",\"#B6E880\",\"#FF97FF\",\"#FECB52\"],\"font\":{\"color\":\"#2a3f5f\"},\"hovermode\":\"closest\",\"hoverlabel\":{\"align\":\"left\"},\"paper_bgcolor\":\"white\",\"plot_bgcolor\":\"#E5ECF6\",\"polar\":{\"bgcolor\":\"#E5ECF6\",\"angularaxis\":{\"gridcolor\":\"white\",\"linecolor\":\"white\",\"ticks\":\"\"},\"radialaxis\":{\"gridcolor\":\"white\",\"linecolor\":\"white\",\"ticks\":\"\"}},\"ternary\":{\"bgcolor\":\"#E5ECF6\",\"aaxis\":{\"gridcolor\":\"white\",\"linecolor\":\"white\",\"ticks\":\"\"},\"baxis\":{\"gridcolor\":\"white\",\"linecolor\":\"white\",\"ticks\":\"\"},\"caxis\":{\"gridcolor\":\"white\",\"linecolor\":\"white\",\"ticks\":\"\"}},\"coloraxis\":{\"colorbar\":{\"outlinewidth\":0,\"ticks\":\"\"}},\"colorscale\":{\"sequential\":[[0.0,\"#0d0887\"],[0.1111111111111111,\"#46039f\"],[0.2222222222222222,\"#7201a8\"],[0.3333333333333333,\"#9c179e\"],[0.4444444444444444,\"#bd3786\"],[0.5555555555555556,\"#d8576b\"],[0.6666666666666666,\"#ed7953\"],[0.7777777777777778,\"#fb9f3a\"],[0.8888888888888888,\"#fdca26\"],[1.0,\"#f0f921\"]],\"sequentialminus\":[[0.0,\"#0d0887\"],[0.1111111111111111,\"#46039f\"],[0.2222222222222222,\"#7201a8\"],[0.3333333333333333,\"#9c179e\"],[0.4444444444444444,\"#bd3786\"],[0.5555555555555556,\"#d8576b\"],[0.6666666666666666,\"#ed7953\"],[0.7777777777777778,\"#fb9f3a\"],[0.8888888888888888,\"#fdca26\"],[1.0,\"#f0f921\"]],\"diverging\":[[0,\"#8e0152\"],[0.1,\"#c51b7d\"],[0.2,\"#de77ae\"],[0.3,\"#f1b6da\"],[0.4,\"#fde0ef\"],[0.5,\"#f7f7f7\"],[0.6,\"#e6f5d0\"],[0.7,\"#b8e186\"],[0.8,\"#7fbc41\"],[0.9,\"#4d9221\"],[1,\"#276419\"]]},\"xaxis\":{\"gridcolor\":\"white\",\"linecolor\":\"white\",\"ticks\":\"\",\"title\":{\"standoff\":15},\"zerolinecolor\":\"white\",\"automargin\":true,\"zerolinewidth\":2},\"yaxis\":{\"gridcolor\":\"white\",\"linecolor\":\"white\",\"ticks\":\"\",\"title\":{\"standoff\":15},\"zerolinecolor\":\"white\",\"automargin\":true,\"zerolinewidth\":2},\"scene\":{\"xaxis\":{\"backgroundcolor\":\"#E5ECF6\",\"gridcolor\":\"white\",\"linecolor\":\"white\",\"showbackground\":true,\"ticks\":\"\",\"zerolinecolor\":\"white\",\"gridwidth\":2},\"yaxis\":{\"backgroundcolor\":\"#E5ECF6\",\"gridcolor\":\"white\",\"linecolor\":\"white\",\"showbackground\":true,\"ticks\":\"\",\"zerolinecolor\":\"white\",\"gridwidth\":2},\"zaxis\":{\"backgroundcolor\":\"#E5ECF6\",\"gridcolor\":\"white\",\"linecolor\":\"white\",\"showbackground\":true,\"ticks\":\"\",\"zerolinecolor\":\"white\",\"gridwidth\":2}},\"shapedefaults\":{\"line\":{\"color\":\"#2a3f5f\"}},\"annotationdefaults\":{\"arrowcolor\":\"#2a3f5f\",\"arrowhead\":0,\"arrowwidth\":1},\"geo\":{\"bgcolor\":\"white\",\"landcolor\":\"#E5ECF6\",\"subunitcolor\":\"white\",\"showland\":true,\"showlakes\":true,\"lakecolor\":\"white\"},\"title\":{\"x\":0.05},\"mapbox\":{\"style\":\"light\"}}},\"xaxis\":{\"anchor\":\"y\",\"domain\":[0.0,0.45]},\"yaxis\":{\"anchor\":\"x\",\"domain\":[0.625,1.0]},\"xaxis2\":{\"anchor\":\"y2\",\"domain\":[0.55,1.0]},\"yaxis2\":{\"anchor\":\"x2\",\"domain\":[0.625,1.0]},\"xaxis3\":{\"anchor\":\"y3\",\"domain\":[0.0,0.45]},\"yaxis3\":{\"anchor\":\"x3\",\"domain\":[0.0,0.375]},\"xaxis4\":{\"anchor\":\"y4\",\"domain\":[0.55,1.0]},\"yaxis4\":{\"anchor\":\"x4\",\"domain\":[0.0,0.375]},\"annotations\":[{\"font\":{\"size\":16},\"showarrow\":false,\"text\":\"Error Angle (theta)\",\"x\":0.225,\"xanchor\":\"center\",\"xref\":\"paper\",\"y\":1.0,\"yanchor\":\"bottom\",\"yref\":\"paper\"},{\"font\":{\"size\":16},\"showarrow\":false,\"text\":\"Error Angle (phi)\",\"x\":0.775,\"xanchor\":\"center\",\"xref\":\"paper\",\"y\":1.0,\"yanchor\":\"bottom\",\"yref\":\"paper\"},{\"font\":{\"size\":16},\"showarrow\":false,\"text\":\"Angular Speed (theta)\",\"x\":0.225,\"xanchor\":\"center\",\"xref\":\"paper\",\"y\":0.375,\"yanchor\":\"bottom\",\"yref\":\"paper\"},{\"font\":{\"size\":16},\"showarrow\":false,\"text\":\"Angular speed (phi)\",\"x\":0.775,\"xanchor\":\"center\",\"xref\":\"paper\",\"y\":0.375,\"yanchor\":\"bottom\",\"yref\":\"paper\"}]},                        {\"responsive\": true}                    ).then(function(){\n",
       "                            \n",
       "var gd = document.getElementById('128ea841-cc74-4215-93ca-2d91bace5586');\n",
       "var x = new MutationObserver(function (mutations, observer) {{\n",
       "        var display = window.getComputedStyle(gd).display;\n",
       "        if (!display || display === 'none') {{\n",
       "            console.log([gd, 'removed!']);\n",
       "            Plotly.purge(gd);\n",
       "            observer.disconnect();\n",
       "        }}\n",
       "}});\n",
       "\n",
       "// Listen for the removal of the full notebook cells\n",
       "var notebookContainer = gd.closest('#notebook-container');\n",
       "if (notebookContainer) {{\n",
       "    x.observe(notebookContainer, {childList: true});\n",
       "}}\n",
       "\n",
       "// Listen for the clearing of the current output cell\n",
       "var outputEl = gd.closest('.output');\n",
       "if (outputEl) {{\n",
       "    x.observe(outputEl, {childList: true});\n",
       "}}\n",
       "\n",
       "                        })                };                });            </script>        </div>"
      ]
     },
     "metadata": {},
     "output_type": "display_data"
    },
    {
     "data": {
      "application/vnd.plotly.v1+json": {
       "config": {
        "plotlyServerURL": "https://plot.ly"
       },
       "data": [
        {
         "mode": "lines",
         "type": "scatter",
         "x": [
          0,
          1,
          2,
          3,
          4,
          5,
          6,
          7,
          8,
          9,
          10,
          11,
          12,
          13,
          14,
          15,
          16,
          17,
          18,
          19,
          20,
          21,
          22,
          23,
          24,
          25,
          26,
          27,
          28,
          29,
          30,
          31,
          32,
          33,
          34,
          35,
          36,
          37,
          38,
          39,
          40,
          41,
          42,
          43,
          44,
          45,
          46,
          47,
          48,
          49,
          50,
          51,
          52,
          53,
          54,
          55,
          56,
          57,
          58,
          59,
          60,
          61,
          62,
          63,
          64,
          65,
          66,
          67,
          68,
          69,
          70,
          71,
          72,
          73,
          74,
          75,
          76,
          77,
          78,
          79,
          80,
          81,
          82,
          83,
          84,
          85,
          86,
          87
         ],
         "xaxis": "x",
         "y": [
          -63.21527280990272,
          -63.2535370780528,
          -63.07564768919864,
          -62.69573610955069,
          -62.12865896013896,
          -61.38966319017106,
          -60.49415930062684,
          -59.45757470583235,
          -58.29526231082602,
          -57.02244364734342,
          -54.88816308655502,
          -53.41064081597412,
          -51.98835635772449,
          -50.46439613959866,
          -48.86719560455172,
          -47.27530407224148,
          -45.62746919714376,
          -44.098546281372535,
          -42.71734714491959,
          -41.51595628225583,
          -40.188111992717765,
          -38.99894581530382,
          -37.92126089755679,
          -36.92722580455712,
          -36.1222964181639,
          -35.29946136477584,
          -34.7533434143239,
          -34.22943592551388,
          -33.68399451776063,
          -33.251754187052846,
          -33.123592695352656,
          -32.78777778997977,
          -32.894365621462256,
          -32.94999128059656,
          -32.98778865801494,
          -32.68129726624472,
          -32.394856204185935,
          -32.05803047769649,
          -31.30383295515937,
          -30.029427905434563,
          -28.71619350591107,
          -27.17092288296181,
          -25.504516500381083,
          -23.64677907658656,
          -21.5613181359375,
          -19.497680905775063,
          -17.32435468036614,
          -15.110026472513953,
          -12.821801411478578,
          -10.88095555374796,
          -9.039329473633448,
          -7.781745171594383,
          -6.439507510804441,
          -5.486532772154975,
          -4.997643426697501,
          -5.054486031726196,
          -5.840621796204638,
          -7.857806876997784,
          -11.45746815634802,
          -16.524926476417612,
          -23.151293722250653,
          -30.20299518838309,
          -37.41989862551134,
          -44.12682749268974,
          -49.231822193711714,
          -52.84675391761264,
          -54.903220462296616,
          -55.24608198263552,
          -55.04145335848618,
          -53.59549932520851,
          -51.89059568490964,
          -48.96154447251495,
          -45.776740533840645,
          -42.46611165339743,
          -38.71297507566837,
          -34.954182721841974,
          -31.57649373252741,
          -28.48645945717678,
          -25.421348732810934,
          -22.613727415257383,
          -19.875400360329284,
          -17.827131113889987,
          -15.855743778687724,
          -14.027409838138372,
          -12.557053533757175,
          -11.583447007727449,
          -10.660927203285633,
          -10.258621701880214,
          -10.050957556779869,
          -10.096215207786551,
          -9.817419908351916,
          -9.756492092590046,
          -9.31752978032981,
          -9.23160180102024,
          -9.222868924841654,
          -9.48953361248422,
          -10.111017527857552,
          -11.179994534273382,
          -12.804493518454994,
          -15.10971075005752,
          -18.23897572366924,
          -22.35299303818872,
          -27.62617490069911
         ],
         "yaxis": "y"
        },
        {
         "mode": "lines",
         "type": "scatter",
         "x": [
          0,
          1,
          2,
          3,
          4,
          5,
          6,
          7,
          8,
          9,
          10,
          11,
          12,
          13,
          14,
          15,
          16,
          17,
          18,
          19,
          20,
          21,
          22,
          23,
          24,
          25,
          26,
          27,
          28,
          29,
          30,
          31,
          32,
          33,
          34,
          35,
          36,
          37,
          38,
          39,
          40,
          41,
          42,
          43,
          44,
          45,
          46,
          47,
          48,
          49,
          50,
          51,
          52,
          53,
          54,
          55,
          56,
          57,
          58,
          59,
          60,
          61,
          62,
          63,
          64,
          65,
          66,
          67,
          68,
          69,
          70,
          71,
          72,
          73,
          74,
          75,
          76,
          77,
          78,
          79,
          80,
          81,
          82,
          83,
          84,
          85,
          86,
          87
         ],
         "xaxis": "x3",
         "y": [
          -4209.955579790621,
          -3471.1363054600533,
          -2512.671623450498,
          -1802.8476428804108,
          -1346.5120899696642,
          -1064.7224773905273,
          -891.702700818198,
          -3301.198714488602,
          1517.305767377528,
          -3211.253912805196,
          1584.37428348424,
          1914.9904150875448,
          -1257.8759531197247,
          1012.6535547387324,
          -309.1773010573884,
          4043.173139757089,
          1483.078857312157,
          -4605.186066678146,
          -778.1934872701748,
          4699.441188129173,
          -2808.0077821825544,
          5392.700936251074,
          -5865.186076450611,
          2255.98641835988,
          -1044.555264819584,
          3765.5047026850975,
          -4149.331391342393,
          3798.4258434266944,
          -5838.979176423374,
          6463.04217399979,
          -3901.8455020460674,
          -2864.904737096539,
          3119.7726734722155,
          1253.1013752575757,
          -615.2540427896794,
          -1854.1475559210608,
          -971.9976014916408,
          1088.8378846934988,
          3255.043470473072,
          -3082.868076271077,
          578.1717311672102,
          331.75447078427555,
          -172.11806719915967,
          -720.8687947512723,
          2924.9074490696235,
          -3424.3165346568053,
          2846.2653669639294,
          -3840.2643449331663,
          3837.789313635628,
          -5350.456597874887,
          3043.7694605312818,
          888.9416024301257,
          -429.5466502953501,
          -636.7527932480596,
          2124.9365688195508,
          1031.3694021557826,
          -4402.77505386949,
          2376.384370564466,
          1433.183911256232,
          -2830.657774608432,
          4610.117078855289,
          2176.745926402617,
          -10065.197875446656,
          10967.28473214128,
          -5172.588793110266,
          2953.3108739737527,
          -3349.6844468946183,
          3807.491828026412,
          -1619.7558370624856,
          -1191.6696231701062,
          701.0137206710718,
          -456.7406269123025,
          -1502.2981512845258,
          2404.071771662142,
          -678.1250538485741,
          -1050.871745141694,
          2766.5973876016506,
          -3405.221312796026,
          -1268.2124510672215,
          2047.6960753733304,
          1243.5474528055065,
          -1677.557495934362,
          -1560.518670528139,
          2603.2088830338607,
          -3290.74694205206,
          1276.9670684248297,
          -127.1461325612226,
          -339.8156794568953,
          777.0635225637845,
          -1091.7503675892222,
          1077.467469042065,
          653.1501959018168,
          451.116428539719,
          328.2790213411653,
          317.0560845356754,
          305.107876825357,
          291.0495312804584,
          273.5109184397344,
          251.2774116235903,
          223.47187608954044,
          null
         ],
         "yaxis": "y3"
        },
        {
         "mode": "lines",
         "type": "scatter",
         "x": [
          0,
          1,
          2,
          3,
          4,
          5,
          6,
          7,
          8,
          9,
          10,
          11,
          12,
          13,
          14,
          15,
          16,
          17,
          18,
          19,
          20,
          21,
          22,
          23,
          24,
          25,
          26,
          27,
          28,
          29,
          30,
          31,
          32,
          33,
          34,
          35,
          36,
          37,
          38,
          39,
          40,
          41,
          42,
          43,
          44,
          45,
          46,
          47,
          48,
          49,
          50,
          51,
          52,
          53,
          54,
          55,
          56,
          57,
          58,
          59,
          60,
          61,
          62,
          63,
          64,
          65,
          66,
          67,
          68,
          69,
          70,
          71,
          72,
          73,
          74,
          75,
          76,
          77,
          78,
          79,
          80,
          81,
          82,
          83,
          84,
          85,
          86,
          87
         ],
         "xaxis": "x2",
         "y": [
          -42.91176188925916,
          -42.63002259344432,
          -42.02793485528845,
          -41.14357600389497,
          -40.016001968979246,
          -38.68498636712197,
          -37.19064357670378,
          -35.57293942023773,
          -33.87112004403113,
          -32.12311044222683,
          -29.27426369702644,
          -27.697957383973545,
          -26.36374808857973,
          -24.845356690405623,
          -23.55994775109659,
          -22.11599946651917,
          -20.998594169708426,
          -20.09805362676449,
          -19.247600538223367,
          -18.55742997813118,
          -18.081319840343337,
          -17.679167117667532,
          -17.419120961851807,
          -17.233118016388623,
          -17.347746651323636,
          -17.522960034966758,
          -17.66562355234867,
          -18.077426921314014,
          -18.56108318381216,
          -18.995494149724795,
          -19.37068797340952,
          -19.3654753488037,
          -19.291160914752076,
          -19.177751228360663,
          -18.80454128907597,
          -18.2814890104642,
          -17.59624212566145,
          -16.736685546648626,
          -15.868533851204102,
          -14.67681253721974,
          -13.52876545337531,
          -12.304737297470046,
          -11.183739995486285,
          -10.025092324270302,
          -8.718896160275124,
          -7.503681163281511,
          -6.336915456926464,
          -4.978307762916723,
          -3.47810776932824,
          -1.7933589538154846,
          -0.1026274657972581,
          1.560298737867832,
          3.118050332659926,
          4.543501125713576,
          5.944579440798355,
          7.343008696706915,
          8.594637710932709,
          9.696494904901307,
          10.833473594310504,
          11.629522780275906,
          12.40729582589047,
          13.012723869797655,
          13.457226122810193,
          13.587219203255184,
          13.48287791965542,
          13.411000594198928,
          13.140325930323913,
          12.602975335521323,
          11.955544180315943,
          11.127596195407367,
          10.18826230035124,
          8.888433629774902,
          7.636634840008201,
          6.261487691749039,
          4.829446701808542,
          3.286506138344212,
          1.8999025477992324,
          0.3982219982686645,
          -1.1529325338600114,
          -2.563458176360583,
          -4.078917688734878,
          -5.588422825576296,
          -6.961031264240614,
          -8.177271324219745,
          -9.396203943362403,
          -10.36862435188028,
          -11.27358082812796,
          -11.892690867471392,
          -12.33740119643086,
          -12.501358283872488,
          -12.333730084950403,
          -11.934594703535293,
          -11.633984162679353,
          -11.31208725635614,
          -10.521537605037818,
          -9.536865566045767,
          -8.3571825150664,
          -6.9777236280211605,
          -5.388853580461031,
          -3.574774836892363,
          -1.5117866646150573,
          0.8341330565849088,
          3.510776963647974
         ],
         "yaxis": "y2"
        },
        {
         "mode": "lines",
         "type": "scatter",
         "x": [
          0,
          1,
          2,
          3,
          4,
          5,
          6,
          7,
          8,
          9,
          10,
          11,
          12,
          13,
          14,
          15,
          16,
          17,
          18,
          19,
          20,
          21,
          22,
          23,
          24,
          25,
          26,
          27,
          28,
          29,
          30,
          31,
          32,
          33,
          34,
          35,
          36,
          37,
          38,
          39,
          40,
          41,
          42,
          43,
          44,
          45,
          46,
          47,
          48,
          49,
          50,
          51,
          52,
          53,
          54,
          55,
          56,
          57,
          58,
          59,
          60,
          61,
          62,
          63,
          64,
          65,
          66,
          67,
          68,
          69,
          70,
          71,
          72,
          73,
          74,
          75,
          76,
          77,
          78,
          79,
          80,
          81,
          82,
          83,
          84,
          85,
          86,
          87
         ],
         "xaxis": "x4",
         "y": [
          2420.788634250036,
          1388.014304144717,
          875.8642004882784,
          602.2768406354936,
          447.67122399913166,
          357.4850438781246,
          304.9391079276128,
          924.6854459645048,
          1067.0371525459057,
          -151.58460322158794,
          -1010.9029378919088,
          -189.20950391056147,
          -999.1212923450244,
          1588.263790423356,
          -834.3671010840603,
          -684.8206194637456,
          -130.54517761482862,
          520.2352521758662,
          -1611.242952749636,
          1398.035783190474,
          -867.044484998769,
          479.3723542049678,
          298.7590931761795,
          -775.8566823399752,
          1172.8364380297903,
          -1811.172025226493,
          1645.1182968621074,
          -484.7832069311887,
          -1040.5839647101132,
          1020.0437462304131,
          -151.32491077691452,
          367.7725187980924,
          -965.3528375007468,
          -488.3044170084391,
          1288.3510527849876,
          -833.0988239616274,
          492.23069524395294,
          562.739012940292,
          -607.3306400040892,
          663.8281007834134,
          -23.62519637152477,
          -777.2334118974129,
          409.1545668087786,
          447.2042861847375,
          -1882.8731001257545,
          726.24536462681,
          689.4692479374776,
          -226.36255516080053,
          -294.1151334928011,
          486.8645128326229,
          -569.7545908189813,
          -653.550108332506,
          -247.23602214255203,
          924.3099802343957,
          -671.9095484978153,
          0.4155499807125817,
          1625.7125820944043,
          -1250.1091025010394,
          -129.36335145968968,
          970.7459289355892,
          698.6849583897068,
          -1101.475522356082,
          -681.702516638232,
          1482.9681987340862,
          21.219788661465238,
          629.3898618150772,
          -420.3665111906512,
          -351.22862145994645,
          363.2250355379263,
          -557.3939277520259,
          398.57948608398567,
          -1953.6823562248137,
          1965.612308020288,
          -1233.7704320158025,
          510.4569239125127,
          -169.98210693344674,
          -441.8583168005309,
          914.1886869426914,
          175.34528261409497,
          -44.55320824106773,
          -992.7836040085164,
          1398.092763714876,
          368.0685220606715,
          -475.4188259685465,
          261.7028247498426,
          445.2910320032163,
          -962.210113735022,
          -112.40397238131136,
          311.2906686894743,
          986.0428695040334,
          -2164.3463164282525,
          723.0272177435014,
          -99.62433323939293,
          -97.3476959998939,
          -93.37697209294464,
          -89.086830550395,
          -84.50836734544431,
          -79.67110100651253,
          -74.6044210081176,
          -69.33882714179363,
          null
         ],
         "yaxis": "y4"
        }
       ],
       "layout": {
        "annotations": [
         {
          "font": {
           "size": 16
          },
          "showarrow": false,
          "text": "Error Angle (theta)",
          "x": 0.225,
          "xanchor": "center",
          "xref": "paper",
          "y": 1,
          "yanchor": "bottom",
          "yref": "paper"
         },
         {
          "font": {
           "size": 16
          },
          "showarrow": false,
          "text": "Error Angle (phi)",
          "x": 0.775,
          "xanchor": "center",
          "xref": "paper",
          "y": 1,
          "yanchor": "bottom",
          "yref": "paper"
         },
         {
          "font": {
           "size": 16
          },
          "showarrow": false,
          "text": "Angular Speed (theta)",
          "x": 0.225,
          "xanchor": "center",
          "xref": "paper",
          "y": 0.375,
          "yanchor": "bottom",
          "yref": "paper"
         },
         {
          "font": {
           "size": 16
          },
          "showarrow": false,
          "text": "Angular speed (phi)",
          "x": 0.775,
          "xanchor": "center",
          "xref": "paper",
          "y": 0.375,
          "yanchor": "bottom",
          "yref": "paper"
         }
        ],
        "template": {
         "data": {
          "bar": [
           {
            "error_x": {
             "color": "#2a3f5f"
            },
            "error_y": {
             "color": "#2a3f5f"
            },
            "marker": {
             "line": {
              "color": "#E5ECF6",
              "width": 0.5
             },
             "pattern": {
              "fillmode": "overlay",
              "size": 10,
              "solidity": 0.2
             }
            },
            "type": "bar"
           }
          ],
          "barpolar": [
           {
            "marker": {
             "line": {
              "color": "#E5ECF6",
              "width": 0.5
             },
             "pattern": {
              "fillmode": "overlay",
              "size": 10,
              "solidity": 0.2
             }
            },
            "type": "barpolar"
           }
          ],
          "carpet": [
           {
            "aaxis": {
             "endlinecolor": "#2a3f5f",
             "gridcolor": "white",
             "linecolor": "white",
             "minorgridcolor": "white",
             "startlinecolor": "#2a3f5f"
            },
            "baxis": {
             "endlinecolor": "#2a3f5f",
             "gridcolor": "white",
             "linecolor": "white",
             "minorgridcolor": "white",
             "startlinecolor": "#2a3f5f"
            },
            "type": "carpet"
           }
          ],
          "choropleth": [
           {
            "colorbar": {
             "outlinewidth": 0,
             "ticks": ""
            },
            "type": "choropleth"
           }
          ],
          "contour": [
           {
            "colorbar": {
             "outlinewidth": 0,
             "ticks": ""
            },
            "colorscale": [
             [
              0,
              "#0d0887"
             ],
             [
              0.1111111111111111,
              "#46039f"
             ],
             [
              0.2222222222222222,
              "#7201a8"
             ],
             [
              0.3333333333333333,
              "#9c179e"
             ],
             [
              0.4444444444444444,
              "#bd3786"
             ],
             [
              0.5555555555555556,
              "#d8576b"
             ],
             [
              0.6666666666666666,
              "#ed7953"
             ],
             [
              0.7777777777777778,
              "#fb9f3a"
             ],
             [
              0.8888888888888888,
              "#fdca26"
             ],
             [
              1,
              "#f0f921"
             ]
            ],
            "type": "contour"
           }
          ],
          "contourcarpet": [
           {
            "colorbar": {
             "outlinewidth": 0,
             "ticks": ""
            },
            "type": "contourcarpet"
           }
          ],
          "heatmap": [
           {
            "colorbar": {
             "outlinewidth": 0,
             "ticks": ""
            },
            "colorscale": [
             [
              0,
              "#0d0887"
             ],
             [
              0.1111111111111111,
              "#46039f"
             ],
             [
              0.2222222222222222,
              "#7201a8"
             ],
             [
              0.3333333333333333,
              "#9c179e"
             ],
             [
              0.4444444444444444,
              "#bd3786"
             ],
             [
              0.5555555555555556,
              "#d8576b"
             ],
             [
              0.6666666666666666,
              "#ed7953"
             ],
             [
              0.7777777777777778,
              "#fb9f3a"
             ],
             [
              0.8888888888888888,
              "#fdca26"
             ],
             [
              1,
              "#f0f921"
             ]
            ],
            "type": "heatmap"
           }
          ],
          "heatmapgl": [
           {
            "colorbar": {
             "outlinewidth": 0,
             "ticks": ""
            },
            "colorscale": [
             [
              0,
              "#0d0887"
             ],
             [
              0.1111111111111111,
              "#46039f"
             ],
             [
              0.2222222222222222,
              "#7201a8"
             ],
             [
              0.3333333333333333,
              "#9c179e"
             ],
             [
              0.4444444444444444,
              "#bd3786"
             ],
             [
              0.5555555555555556,
              "#d8576b"
             ],
             [
              0.6666666666666666,
              "#ed7953"
             ],
             [
              0.7777777777777778,
              "#fb9f3a"
             ],
             [
              0.8888888888888888,
              "#fdca26"
             ],
             [
              1,
              "#f0f921"
             ]
            ],
            "type": "heatmapgl"
           }
          ],
          "histogram": [
           {
            "marker": {
             "pattern": {
              "fillmode": "overlay",
              "size": 10,
              "solidity": 0.2
             }
            },
            "type": "histogram"
           }
          ],
          "histogram2d": [
           {
            "colorbar": {
             "outlinewidth": 0,
             "ticks": ""
            },
            "colorscale": [
             [
              0,
              "#0d0887"
             ],
             [
              0.1111111111111111,
              "#46039f"
             ],
             [
              0.2222222222222222,
              "#7201a8"
             ],
             [
              0.3333333333333333,
              "#9c179e"
             ],
             [
              0.4444444444444444,
              "#bd3786"
             ],
             [
              0.5555555555555556,
              "#d8576b"
             ],
             [
              0.6666666666666666,
              "#ed7953"
             ],
             [
              0.7777777777777778,
              "#fb9f3a"
             ],
             [
              0.8888888888888888,
              "#fdca26"
             ],
             [
              1,
              "#f0f921"
             ]
            ],
            "type": "histogram2d"
           }
          ],
          "histogram2dcontour": [
           {
            "colorbar": {
             "outlinewidth": 0,
             "ticks": ""
            },
            "colorscale": [
             [
              0,
              "#0d0887"
             ],
             [
              0.1111111111111111,
              "#46039f"
             ],
             [
              0.2222222222222222,
              "#7201a8"
             ],
             [
              0.3333333333333333,
              "#9c179e"
             ],
             [
              0.4444444444444444,
              "#bd3786"
             ],
             [
              0.5555555555555556,
              "#d8576b"
             ],
             [
              0.6666666666666666,
              "#ed7953"
             ],
             [
              0.7777777777777778,
              "#fb9f3a"
             ],
             [
              0.8888888888888888,
              "#fdca26"
             ],
             [
              1,
              "#f0f921"
             ]
            ],
            "type": "histogram2dcontour"
           }
          ],
          "mesh3d": [
           {
            "colorbar": {
             "outlinewidth": 0,
             "ticks": ""
            },
            "type": "mesh3d"
           }
          ],
          "parcoords": [
           {
            "line": {
             "colorbar": {
              "outlinewidth": 0,
              "ticks": ""
             }
            },
            "type": "parcoords"
           }
          ],
          "pie": [
           {
            "automargin": true,
            "type": "pie"
           }
          ],
          "scatter": [
           {
            "fillpattern": {
             "fillmode": "overlay",
             "size": 10,
             "solidity": 0.2
            },
            "type": "scatter"
           }
          ],
          "scatter3d": [
           {
            "line": {
             "colorbar": {
              "outlinewidth": 0,
              "ticks": ""
             }
            },
            "marker": {
             "colorbar": {
              "outlinewidth": 0,
              "ticks": ""
             }
            },
            "type": "scatter3d"
           }
          ],
          "scattercarpet": [
           {
            "marker": {
             "colorbar": {
              "outlinewidth": 0,
              "ticks": ""
             }
            },
            "type": "scattercarpet"
           }
          ],
          "scattergeo": [
           {
            "marker": {
             "colorbar": {
              "outlinewidth": 0,
              "ticks": ""
             }
            },
            "type": "scattergeo"
           }
          ],
          "scattergl": [
           {
            "marker": {
             "colorbar": {
              "outlinewidth": 0,
              "ticks": ""
             }
            },
            "type": "scattergl"
           }
          ],
          "scattermapbox": [
           {
            "marker": {
             "colorbar": {
              "outlinewidth": 0,
              "ticks": ""
             }
            },
            "type": "scattermapbox"
           }
          ],
          "scatterpolar": [
           {
            "marker": {
             "colorbar": {
              "outlinewidth": 0,
              "ticks": ""
             }
            },
            "type": "scatterpolar"
           }
          ],
          "scatterpolargl": [
           {
            "marker": {
             "colorbar": {
              "outlinewidth": 0,
              "ticks": ""
             }
            },
            "type": "scatterpolargl"
           }
          ],
          "scatterternary": [
           {
            "marker": {
             "colorbar": {
              "outlinewidth": 0,
              "ticks": ""
             }
            },
            "type": "scatterternary"
           }
          ],
          "surface": [
           {
            "colorbar": {
             "outlinewidth": 0,
             "ticks": ""
            },
            "colorscale": [
             [
              0,
              "#0d0887"
             ],
             [
              0.1111111111111111,
              "#46039f"
             ],
             [
              0.2222222222222222,
              "#7201a8"
             ],
             [
              0.3333333333333333,
              "#9c179e"
             ],
             [
              0.4444444444444444,
              "#bd3786"
             ],
             [
              0.5555555555555556,
              "#d8576b"
             ],
             [
              0.6666666666666666,
              "#ed7953"
             ],
             [
              0.7777777777777778,
              "#fb9f3a"
             ],
             [
              0.8888888888888888,
              "#fdca26"
             ],
             [
              1,
              "#f0f921"
             ]
            ],
            "type": "surface"
           }
          ],
          "table": [
           {
            "cells": {
             "fill": {
              "color": "#EBF0F8"
             },
             "line": {
              "color": "white"
             }
            },
            "header": {
             "fill": {
              "color": "#C8D4E3"
             },
             "line": {
              "color": "white"
             }
            },
            "type": "table"
           }
          ]
         },
         "layout": {
          "annotationdefaults": {
           "arrowcolor": "#2a3f5f",
           "arrowhead": 0,
           "arrowwidth": 1
          },
          "autotypenumbers": "strict",
          "coloraxis": {
           "colorbar": {
            "outlinewidth": 0,
            "ticks": ""
           }
          },
          "colorscale": {
           "diverging": [
            [
             0,
             "#8e0152"
            ],
            [
             0.1,
             "#c51b7d"
            ],
            [
             0.2,
             "#de77ae"
            ],
            [
             0.3,
             "#f1b6da"
            ],
            [
             0.4,
             "#fde0ef"
            ],
            [
             0.5,
             "#f7f7f7"
            ],
            [
             0.6,
             "#e6f5d0"
            ],
            [
             0.7,
             "#b8e186"
            ],
            [
             0.8,
             "#7fbc41"
            ],
            [
             0.9,
             "#4d9221"
            ],
            [
             1,
             "#276419"
            ]
           ],
           "sequential": [
            [
             0,
             "#0d0887"
            ],
            [
             0.1111111111111111,
             "#46039f"
            ],
            [
             0.2222222222222222,
             "#7201a8"
            ],
            [
             0.3333333333333333,
             "#9c179e"
            ],
            [
             0.4444444444444444,
             "#bd3786"
            ],
            [
             0.5555555555555556,
             "#d8576b"
            ],
            [
             0.6666666666666666,
             "#ed7953"
            ],
            [
             0.7777777777777778,
             "#fb9f3a"
            ],
            [
             0.8888888888888888,
             "#fdca26"
            ],
            [
             1,
             "#f0f921"
            ]
           ],
           "sequentialminus": [
            [
             0,
             "#0d0887"
            ],
            [
             0.1111111111111111,
             "#46039f"
            ],
            [
             0.2222222222222222,
             "#7201a8"
            ],
            [
             0.3333333333333333,
             "#9c179e"
            ],
            [
             0.4444444444444444,
             "#bd3786"
            ],
            [
             0.5555555555555556,
             "#d8576b"
            ],
            [
             0.6666666666666666,
             "#ed7953"
            ],
            [
             0.7777777777777778,
             "#fb9f3a"
            ],
            [
             0.8888888888888888,
             "#fdca26"
            ],
            [
             1,
             "#f0f921"
            ]
           ]
          },
          "colorway": [
           "#636efa",
           "#EF553B",
           "#00cc96",
           "#ab63fa",
           "#FFA15A",
           "#19d3f3",
           "#FF6692",
           "#B6E880",
           "#FF97FF",
           "#FECB52"
          ],
          "font": {
           "color": "#2a3f5f"
          },
          "geo": {
           "bgcolor": "white",
           "lakecolor": "white",
           "landcolor": "#E5ECF6",
           "showlakes": true,
           "showland": true,
           "subunitcolor": "white"
          },
          "hoverlabel": {
           "align": "left"
          },
          "hovermode": "closest",
          "mapbox": {
           "style": "light"
          },
          "paper_bgcolor": "white",
          "plot_bgcolor": "#E5ECF6",
          "polar": {
           "angularaxis": {
            "gridcolor": "white",
            "linecolor": "white",
            "ticks": ""
           },
           "bgcolor": "#E5ECF6",
           "radialaxis": {
            "gridcolor": "white",
            "linecolor": "white",
            "ticks": ""
           }
          },
          "scene": {
           "xaxis": {
            "backgroundcolor": "#E5ECF6",
            "gridcolor": "white",
            "gridwidth": 2,
            "linecolor": "white",
            "showbackground": true,
            "ticks": "",
            "zerolinecolor": "white"
           },
           "yaxis": {
            "backgroundcolor": "#E5ECF6",
            "gridcolor": "white",
            "gridwidth": 2,
            "linecolor": "white",
            "showbackground": true,
            "ticks": "",
            "zerolinecolor": "white"
           },
           "zaxis": {
            "backgroundcolor": "#E5ECF6",
            "gridcolor": "white",
            "gridwidth": 2,
            "linecolor": "white",
            "showbackground": true,
            "ticks": "",
            "zerolinecolor": "white"
           }
          },
          "shapedefaults": {
           "line": {
            "color": "#2a3f5f"
           }
          },
          "ternary": {
           "aaxis": {
            "gridcolor": "white",
            "linecolor": "white",
            "ticks": ""
           },
           "baxis": {
            "gridcolor": "white",
            "linecolor": "white",
            "ticks": ""
           },
           "bgcolor": "#E5ECF6",
           "caxis": {
            "gridcolor": "white",
            "linecolor": "white",
            "ticks": ""
           }
          },
          "title": {
           "x": 0.05
          },
          "xaxis": {
           "automargin": true,
           "gridcolor": "white",
           "linecolor": "white",
           "ticks": "",
           "title": {
            "standoff": 15
           },
           "zerolinecolor": "white",
           "zerolinewidth": 2
          },
          "yaxis": {
           "automargin": true,
           "gridcolor": "white",
           "linecolor": "white",
           "ticks": "",
           "title": {
            "standoff": 15
           },
           "zerolinecolor": "white",
           "zerolinewidth": 2
          }
         }
        },
        "xaxis": {
         "anchor": "y",
         "domain": [
          0,
          0.45
         ]
        },
        "xaxis2": {
         "anchor": "y2",
         "domain": [
          0.55,
          1
         ]
        },
        "xaxis3": {
         "anchor": "y3",
         "domain": [
          0,
          0.45
         ]
        },
        "xaxis4": {
         "anchor": "y4",
         "domain": [
          0.55,
          1
         ]
        },
        "yaxis": {
         "anchor": "x",
         "domain": [
          0.625,
          1
         ]
        },
        "yaxis2": {
         "anchor": "x2",
         "domain": [
          0.625,
          1
         ]
        },
        "yaxis3": {
         "anchor": "x3",
         "domain": [
          0,
          0.375
         ]
        },
        "yaxis4": {
         "anchor": "x4",
         "domain": [
          0,
          0.375
         ]
        }
       }
      },
      "text/html": [
       "<div>                            <div id=\"232af319-656f-4d9d-904b-c2d5e6fbc302\" class=\"plotly-graph-div\" style=\"height:525px; width:100%;\"></div>            <script type=\"text/javascript\">                require([\"plotly\"], function(Plotly) {                    window.PLOTLYENV=window.PLOTLYENV || {};                                    if (document.getElementById(\"232af319-656f-4d9d-904b-c2d5e6fbc302\")) {                    Plotly.newPlot(                        \"232af319-656f-4d9d-904b-c2d5e6fbc302\",                        [{\"mode\":\"lines\",\"x\":[0.0,1.0,2.0,3.0,4.0,5.0,6.0,7.0,8.0,9.0,10.0,11.0,12.0,13.0,14.0,15.0,16.0,17.0,18.0,19.0,20.0,21.0,22.0,23.0,24.0,25.0,26.0,27.0,28.0,29.0,30.0,31.0,32.0,33.0,34.0,35.0,36.0,37.0,38.0,39.0,40.0,41.0,42.0,43.0,44.0,45.0,46.0,47.0,48.0,49.0,50.0,51.0,52.0,53.0,54.0,55.0,56.0,57.0,58.0,59.0,60.0,61.0,62.0,63.0,64.0,65.0,66.0,67.0,68.0,69.0,70.0,71.0,72.0,73.0,74.0,75.0,76.0,77.0,78.0,79.0,80.0,81.0,82.0,83.0,84.0,85.0,86.0,87.0],\"y\":[-63.21527280990272,-63.2535370780528,-63.07564768919864,-62.69573610955069,-62.12865896013896,-61.38966319017106,-60.49415930062684,-59.45757470583235,-58.29526231082602,-57.02244364734342,-54.88816308655502,-53.41064081597412,-51.98835635772449,-50.46439613959866,-48.86719560455172,-47.27530407224148,-45.62746919714376,-44.098546281372535,-42.71734714491959,-41.51595628225583,-40.188111992717765,-38.99894581530382,-37.92126089755679,-36.92722580455712,-36.1222964181639,-35.29946136477584,-34.7533434143239,-34.22943592551388,-33.68399451776063,-33.251754187052846,-33.123592695352656,-32.78777778997977,-32.894365621462256,-32.94999128059656,-32.98778865801494,-32.68129726624472,-32.394856204185935,-32.05803047769649,-31.30383295515937,-30.029427905434563,-28.71619350591107,-27.17092288296181,-25.504516500381083,-23.64677907658656,-21.5613181359375,-19.497680905775063,-17.32435468036614,-15.110026472513953,-12.821801411478578,-10.88095555374796,-9.039329473633448,-7.781745171594383,-6.439507510804441,-5.486532772154975,-4.997643426697501,-5.054486031726196,-5.840621796204638,-7.857806876997784,-11.45746815634802,-16.524926476417612,-23.151293722250653,-30.20299518838309,-37.41989862551134,-44.12682749268974,-49.231822193711714,-52.84675391761264,-54.903220462296616,-55.24608198263552,-55.04145335848618,-53.59549932520851,-51.89059568490964,-48.96154447251495,-45.776740533840645,-42.46611165339743,-38.71297507566837,-34.954182721841974,-31.57649373252741,-28.48645945717678,-25.421348732810934,-22.613727415257383,-19.875400360329284,-17.827131113889987,-15.855743778687724,-14.027409838138372,-12.557053533757175,-11.583447007727449,-10.660927203285633,-10.258621701880214,-10.050957556779869,-10.096215207786551,-9.817419908351916,-9.756492092590046,-9.31752978032981,-9.23160180102024,-9.222868924841654,-9.48953361248422,-10.111017527857552,-11.179994534273382,-12.804493518454994,-15.10971075005752,-18.23897572366924,-22.35299303818872,-27.62617490069911],\"type\":\"scatter\",\"xaxis\":\"x\",\"yaxis\":\"y\"},{\"mode\":\"lines\",\"x\":[0.0,1.0,2.0,3.0,4.0,5.0,6.0,7.0,8.0,9.0,10.0,11.0,12.0,13.0,14.0,15.0,16.0,17.0,18.0,19.0,20.0,21.0,22.0,23.0,24.0,25.0,26.0,27.0,28.0,29.0,30.0,31.0,32.0,33.0,34.0,35.0,36.0,37.0,38.0,39.0,40.0,41.0,42.0,43.0,44.0,45.0,46.0,47.0,48.0,49.0,50.0,51.0,52.0,53.0,54.0,55.0,56.0,57.0,58.0,59.0,60.0,61.0,62.0,63.0,64.0,65.0,66.0,67.0,68.0,69.0,70.0,71.0,72.0,73.0,74.0,75.0,76.0,77.0,78.0,79.0,80.0,81.0,82.0,83.0,84.0,85.0,86.0,87.0],\"y\":[-4209.955579790621,-3471.1363054600533,-2512.671623450498,-1802.8476428804108,-1346.5120899696642,-1064.7224773905273,-891.702700818198,-3301.198714488602,1517.305767377528,-3211.253912805196,1584.37428348424,1914.9904150875448,-1257.8759531197247,1012.6535547387324,-309.1773010573884,4043.173139757089,1483.078857312157,-4605.186066678146,-778.1934872701748,4699.441188129173,-2808.0077821825544,5392.700936251074,-5865.186076450611,2255.98641835988,-1044.555264819584,3765.5047026850975,-4149.331391342393,3798.4258434266944,-5838.979176423374,6463.04217399979,-3901.8455020460674,-2864.904737096539,3119.7726734722155,1253.1013752575757,-615.2540427896794,-1854.1475559210608,-971.9976014916408,1088.8378846934988,3255.043470473072,-3082.868076271077,578.1717311672102,331.75447078427555,-172.11806719915967,-720.8687947512723,2924.9074490696235,-3424.3165346568053,2846.2653669639294,-3840.2643449331663,3837.789313635628,-5350.456597874887,3043.7694605312818,888.9416024301257,-429.5466502953501,-636.7527932480596,2124.9365688195508,1031.3694021557826,-4402.77505386949,2376.384370564466,1433.183911256232,-2830.657774608432,4610.117078855289,2176.745926402617,-10065.197875446656,10967.28473214128,-5172.588793110266,2953.3108739737527,-3349.6844468946183,3807.491828026412,-1619.7558370624856,-1191.6696231701062,701.0137206710718,-456.7406269123025,-1502.2981512845258,2404.071771662142,-678.1250538485741,-1050.871745141694,2766.5973876016506,-3405.221312796026,-1268.2124510672215,2047.6960753733304,1243.5474528055065,-1677.557495934362,-1560.518670528139,2603.2088830338607,-3290.74694205206,1276.9670684248297,-127.1461325612226,-339.8156794568953,777.0635225637845,-1091.7503675892222,1077.467469042065,653.1501959018168,451.116428539719,328.2790213411653,317.0560845356754,305.107876825357,291.0495312804584,273.5109184397344,251.2774116235903,223.47187608954044,null],\"type\":\"scatter\",\"xaxis\":\"x3\",\"yaxis\":\"y3\"},{\"mode\":\"lines\",\"x\":[0.0,1.0,2.0,3.0,4.0,5.0,6.0,7.0,8.0,9.0,10.0,11.0,12.0,13.0,14.0,15.0,16.0,17.0,18.0,19.0,20.0,21.0,22.0,23.0,24.0,25.0,26.0,27.0,28.0,29.0,30.0,31.0,32.0,33.0,34.0,35.0,36.0,37.0,38.0,39.0,40.0,41.0,42.0,43.0,44.0,45.0,46.0,47.0,48.0,49.0,50.0,51.0,52.0,53.0,54.0,55.0,56.0,57.0,58.0,59.0,60.0,61.0,62.0,63.0,64.0,65.0,66.0,67.0,68.0,69.0,70.0,71.0,72.0,73.0,74.0,75.0,76.0,77.0,78.0,79.0,80.0,81.0,82.0,83.0,84.0,85.0,86.0,87.0],\"y\":[-42.91176188925916,-42.63002259344432,-42.02793485528845,-41.14357600389497,-40.016001968979246,-38.68498636712197,-37.19064357670378,-35.57293942023773,-33.87112004403113,-32.12311044222683,-29.27426369702644,-27.697957383973545,-26.36374808857973,-24.845356690405623,-23.55994775109659,-22.11599946651917,-20.998594169708426,-20.09805362676449,-19.247600538223367,-18.55742997813118,-18.081319840343337,-17.679167117667532,-17.419120961851807,-17.233118016388623,-17.347746651323636,-17.522960034966758,-17.66562355234867,-18.077426921314014,-18.56108318381216,-18.995494149724795,-19.37068797340952,-19.3654753488037,-19.291160914752076,-19.177751228360663,-18.80454128907597,-18.2814890104642,-17.59624212566145,-16.736685546648626,-15.868533851204102,-14.67681253721974,-13.52876545337531,-12.304737297470046,-11.183739995486285,-10.025092324270302,-8.718896160275124,-7.503681163281511,-6.336915456926464,-4.978307762916723,-3.47810776932824,-1.7933589538154846,-0.1026274657972581,1.560298737867832,3.118050332659926,4.543501125713576,5.944579440798355,7.343008696706915,8.594637710932709,9.696494904901307,10.833473594310504,11.629522780275906,12.40729582589047,13.012723869797655,13.457226122810193,13.587219203255184,13.48287791965542,13.411000594198928,13.140325930323913,12.602975335521323,11.955544180315943,11.127596195407367,10.18826230035124,8.888433629774902,7.636634840008201,6.261487691749039,4.829446701808542,3.286506138344212,1.8999025477992324,0.3982219982686645,-1.1529325338600114,-2.563458176360583,-4.078917688734878,-5.588422825576296,-6.961031264240614,-8.177271324219745,-9.396203943362403,-10.36862435188028,-11.27358082812796,-11.892690867471392,-12.33740119643086,-12.501358283872488,-12.333730084950403,-11.934594703535293,-11.633984162679353,-11.31208725635614,-10.521537605037818,-9.536865566045767,-8.3571825150664,-6.9777236280211605,-5.388853580461031,-3.574774836892363,-1.5117866646150573,0.8341330565849088,3.510776963647974],\"type\":\"scatter\",\"xaxis\":\"x2\",\"yaxis\":\"y2\"},{\"mode\":\"lines\",\"x\":[0.0,1.0,2.0,3.0,4.0,5.0,6.0,7.0,8.0,9.0,10.0,11.0,12.0,13.0,14.0,15.0,16.0,17.0,18.0,19.0,20.0,21.0,22.0,23.0,24.0,25.0,26.0,27.0,28.0,29.0,30.0,31.0,32.0,33.0,34.0,35.0,36.0,37.0,38.0,39.0,40.0,41.0,42.0,43.0,44.0,45.0,46.0,47.0,48.0,49.0,50.0,51.0,52.0,53.0,54.0,55.0,56.0,57.0,58.0,59.0,60.0,61.0,62.0,63.0,64.0,65.0,66.0,67.0,68.0,69.0,70.0,71.0,72.0,73.0,74.0,75.0,76.0,77.0,78.0,79.0,80.0,81.0,82.0,83.0,84.0,85.0,86.0,87.0],\"y\":[2420.788634250036,1388.014304144717,875.8642004882784,602.2768406354936,447.67122399913166,357.4850438781246,304.9391079276128,924.6854459645048,1067.0371525459057,-151.58460322158794,-1010.9029378919088,-189.20950391056147,-999.1212923450244,1588.263790423356,-834.3671010840603,-684.8206194637456,-130.54517761482862,520.2352521758662,-1611.242952749636,1398.035783190474,-867.044484998769,479.3723542049678,298.7590931761795,-775.8566823399752,1172.8364380297903,-1811.172025226493,1645.1182968621074,-484.7832069311887,-1040.5839647101132,1020.0437462304131,-151.32491077691452,367.7725187980924,-965.3528375007468,-488.3044170084391,1288.3510527849876,-833.0988239616274,492.23069524395294,562.739012940292,-607.3306400040892,663.8281007834134,-23.62519637152477,-777.2334118974129,409.1545668087786,447.2042861847375,-1882.8731001257545,726.24536462681,689.4692479374776,-226.36255516080053,-294.1151334928011,486.8645128326229,-569.7545908189813,-653.550108332506,-247.23602214255203,924.3099802343957,-671.9095484978153,0.4155499807125817,1625.7125820944043,-1250.1091025010394,-129.36335145968968,970.7459289355892,698.6849583897068,-1101.475522356082,-681.702516638232,1482.9681987340862,21.219788661465238,629.3898618150772,-420.3665111906512,-351.22862145994645,363.2250355379263,-557.3939277520259,398.57948608398567,-1953.6823562248137,1965.612308020288,-1233.7704320158025,510.4569239125127,-169.98210693344674,-441.8583168005309,914.1886869426914,175.34528261409497,-44.55320824106773,-992.7836040085164,1398.092763714876,368.0685220606715,-475.4188259685465,261.7028247498426,445.2910320032163,-962.210113735022,-112.40397238131136,311.2906686894743,986.0428695040334,-2164.3463164282525,723.0272177435014,-99.62433323939293,-97.3476959998939,-93.37697209294464,-89.086830550395,-84.50836734544431,-79.67110100651253,-74.6044210081176,-69.33882714179363,null],\"type\":\"scatter\",\"xaxis\":\"x4\",\"yaxis\":\"y4\"}],                        {\"template\":{\"data\":{\"histogram2dcontour\":[{\"type\":\"histogram2dcontour\",\"colorbar\":{\"outlinewidth\":0,\"ticks\":\"\"},\"colorscale\":[[0.0,\"#0d0887\"],[0.1111111111111111,\"#46039f\"],[0.2222222222222222,\"#7201a8\"],[0.3333333333333333,\"#9c179e\"],[0.4444444444444444,\"#bd3786\"],[0.5555555555555556,\"#d8576b\"],[0.6666666666666666,\"#ed7953\"],[0.7777777777777778,\"#fb9f3a\"],[0.8888888888888888,\"#fdca26\"],[1.0,\"#f0f921\"]]}],\"choropleth\":[{\"type\":\"choropleth\",\"colorbar\":{\"outlinewidth\":0,\"ticks\":\"\"}}],\"histogram2d\":[{\"type\":\"histogram2d\",\"colorbar\":{\"outlinewidth\":0,\"ticks\":\"\"},\"colorscale\":[[0.0,\"#0d0887\"],[0.1111111111111111,\"#46039f\"],[0.2222222222222222,\"#7201a8\"],[0.3333333333333333,\"#9c179e\"],[0.4444444444444444,\"#bd3786\"],[0.5555555555555556,\"#d8576b\"],[0.6666666666666666,\"#ed7953\"],[0.7777777777777778,\"#fb9f3a\"],[0.8888888888888888,\"#fdca26\"],[1.0,\"#f0f921\"]]}],\"heatmap\":[{\"type\":\"heatmap\",\"colorbar\":{\"outlinewidth\":0,\"ticks\":\"\"},\"colorscale\":[[0.0,\"#0d0887\"],[0.1111111111111111,\"#46039f\"],[0.2222222222222222,\"#7201a8\"],[0.3333333333333333,\"#9c179e\"],[0.4444444444444444,\"#bd3786\"],[0.5555555555555556,\"#d8576b\"],[0.6666666666666666,\"#ed7953\"],[0.7777777777777778,\"#fb9f3a\"],[0.8888888888888888,\"#fdca26\"],[1.0,\"#f0f921\"]]}],\"heatmapgl\":[{\"type\":\"heatmapgl\",\"colorbar\":{\"outlinewidth\":0,\"ticks\":\"\"},\"colorscale\":[[0.0,\"#0d0887\"],[0.1111111111111111,\"#46039f\"],[0.2222222222222222,\"#7201a8\"],[0.3333333333333333,\"#9c179e\"],[0.4444444444444444,\"#bd3786\"],[0.5555555555555556,\"#d8576b\"],[0.6666666666666666,\"#ed7953\"],[0.7777777777777778,\"#fb9f3a\"],[0.8888888888888888,\"#fdca26\"],[1.0,\"#f0f921\"]]}],\"contourcarpet\":[{\"type\":\"contourcarpet\",\"colorbar\":{\"outlinewidth\":0,\"ticks\":\"\"}}],\"contour\":[{\"type\":\"contour\",\"colorbar\":{\"outlinewidth\":0,\"ticks\":\"\"},\"colorscale\":[[0.0,\"#0d0887\"],[0.1111111111111111,\"#46039f\"],[0.2222222222222222,\"#7201a8\"],[0.3333333333333333,\"#9c179e\"],[0.4444444444444444,\"#bd3786\"],[0.5555555555555556,\"#d8576b\"],[0.6666666666666666,\"#ed7953\"],[0.7777777777777778,\"#fb9f3a\"],[0.8888888888888888,\"#fdca26\"],[1.0,\"#f0f921\"]]}],\"surface\":[{\"type\":\"surface\",\"colorbar\":{\"outlinewidth\":0,\"ticks\":\"\"},\"colorscale\":[[0.0,\"#0d0887\"],[0.1111111111111111,\"#46039f\"],[0.2222222222222222,\"#7201a8\"],[0.3333333333333333,\"#9c179e\"],[0.4444444444444444,\"#bd3786\"],[0.5555555555555556,\"#d8576b\"],[0.6666666666666666,\"#ed7953\"],[0.7777777777777778,\"#fb9f3a\"],[0.8888888888888888,\"#fdca26\"],[1.0,\"#f0f921\"]]}],\"mesh3d\":[{\"type\":\"mesh3d\",\"colorbar\":{\"outlinewidth\":0,\"ticks\":\"\"}}],\"scatter\":[{\"fillpattern\":{\"fillmode\":\"overlay\",\"size\":10,\"solidity\":0.2},\"type\":\"scatter\"}],\"parcoords\":[{\"type\":\"parcoords\",\"line\":{\"colorbar\":{\"outlinewidth\":0,\"ticks\":\"\"}}}],\"scatterpolargl\":[{\"type\":\"scatterpolargl\",\"marker\":{\"colorbar\":{\"outlinewidth\":0,\"ticks\":\"\"}}}],\"bar\":[{\"error_x\":{\"color\":\"#2a3f5f\"},\"error_y\":{\"color\":\"#2a3f5f\"},\"marker\":{\"line\":{\"color\":\"#E5ECF6\",\"width\":0.5},\"pattern\":{\"fillmode\":\"overlay\",\"size\":10,\"solidity\":0.2}},\"type\":\"bar\"}],\"scattergeo\":[{\"type\":\"scattergeo\",\"marker\":{\"colorbar\":{\"outlinewidth\":0,\"ticks\":\"\"}}}],\"scatterpolar\":[{\"type\":\"scatterpolar\",\"marker\":{\"colorbar\":{\"outlinewidth\":0,\"ticks\":\"\"}}}],\"histogram\":[{\"marker\":{\"pattern\":{\"fillmode\":\"overlay\",\"size\":10,\"solidity\":0.2}},\"type\":\"histogram\"}],\"scattergl\":[{\"type\":\"scattergl\",\"marker\":{\"colorbar\":{\"outlinewidth\":0,\"ticks\":\"\"}}}],\"scatter3d\":[{\"type\":\"scatter3d\",\"line\":{\"colorbar\":{\"outlinewidth\":0,\"ticks\":\"\"}},\"marker\":{\"colorbar\":{\"outlinewidth\":0,\"ticks\":\"\"}}}],\"scattermapbox\":[{\"type\":\"scattermapbox\",\"marker\":{\"colorbar\":{\"outlinewidth\":0,\"ticks\":\"\"}}}],\"scatterternary\":[{\"type\":\"scatterternary\",\"marker\":{\"colorbar\":{\"outlinewidth\":0,\"ticks\":\"\"}}}],\"scattercarpet\":[{\"type\":\"scattercarpet\",\"marker\":{\"colorbar\":{\"outlinewidth\":0,\"ticks\":\"\"}}}],\"carpet\":[{\"aaxis\":{\"endlinecolor\":\"#2a3f5f\",\"gridcolor\":\"white\",\"linecolor\":\"white\",\"minorgridcolor\":\"white\",\"startlinecolor\":\"#2a3f5f\"},\"baxis\":{\"endlinecolor\":\"#2a3f5f\",\"gridcolor\":\"white\",\"linecolor\":\"white\",\"minorgridcolor\":\"white\",\"startlinecolor\":\"#2a3f5f\"},\"type\":\"carpet\"}],\"table\":[{\"cells\":{\"fill\":{\"color\":\"#EBF0F8\"},\"line\":{\"color\":\"white\"}},\"header\":{\"fill\":{\"color\":\"#C8D4E3\"},\"line\":{\"color\":\"white\"}},\"type\":\"table\"}],\"barpolar\":[{\"marker\":{\"line\":{\"color\":\"#E5ECF6\",\"width\":0.5},\"pattern\":{\"fillmode\":\"overlay\",\"size\":10,\"solidity\":0.2}},\"type\":\"barpolar\"}],\"pie\":[{\"automargin\":true,\"type\":\"pie\"}]},\"layout\":{\"autotypenumbers\":\"strict\",\"colorway\":[\"#636efa\",\"#EF553B\",\"#00cc96\",\"#ab63fa\",\"#FFA15A\",\"#19d3f3\",\"#FF6692\",\"#B6E880\",\"#FF97FF\",\"#FECB52\"],\"font\":{\"color\":\"#2a3f5f\"},\"hovermode\":\"closest\",\"hoverlabel\":{\"align\":\"left\"},\"paper_bgcolor\":\"white\",\"plot_bgcolor\":\"#E5ECF6\",\"polar\":{\"bgcolor\":\"#E5ECF6\",\"angularaxis\":{\"gridcolor\":\"white\",\"linecolor\":\"white\",\"ticks\":\"\"},\"radialaxis\":{\"gridcolor\":\"white\",\"linecolor\":\"white\",\"ticks\":\"\"}},\"ternary\":{\"bgcolor\":\"#E5ECF6\",\"aaxis\":{\"gridcolor\":\"white\",\"linecolor\":\"white\",\"ticks\":\"\"},\"baxis\":{\"gridcolor\":\"white\",\"linecolor\":\"white\",\"ticks\":\"\"},\"caxis\":{\"gridcolor\":\"white\",\"linecolor\":\"white\",\"ticks\":\"\"}},\"coloraxis\":{\"colorbar\":{\"outlinewidth\":0,\"ticks\":\"\"}},\"colorscale\":{\"sequential\":[[0.0,\"#0d0887\"],[0.1111111111111111,\"#46039f\"],[0.2222222222222222,\"#7201a8\"],[0.3333333333333333,\"#9c179e\"],[0.4444444444444444,\"#bd3786\"],[0.5555555555555556,\"#d8576b\"],[0.6666666666666666,\"#ed7953\"],[0.7777777777777778,\"#fb9f3a\"],[0.8888888888888888,\"#fdca26\"],[1.0,\"#f0f921\"]],\"sequentialminus\":[[0.0,\"#0d0887\"],[0.1111111111111111,\"#46039f\"],[0.2222222222222222,\"#7201a8\"],[0.3333333333333333,\"#9c179e\"],[0.4444444444444444,\"#bd3786\"],[0.5555555555555556,\"#d8576b\"],[0.6666666666666666,\"#ed7953\"],[0.7777777777777778,\"#fb9f3a\"],[0.8888888888888888,\"#fdca26\"],[1.0,\"#f0f921\"]],\"diverging\":[[0,\"#8e0152\"],[0.1,\"#c51b7d\"],[0.2,\"#de77ae\"],[0.3,\"#f1b6da\"],[0.4,\"#fde0ef\"],[0.5,\"#f7f7f7\"],[0.6,\"#e6f5d0\"],[0.7,\"#b8e186\"],[0.8,\"#7fbc41\"],[0.9,\"#4d9221\"],[1,\"#276419\"]]},\"xaxis\":{\"gridcolor\":\"white\",\"linecolor\":\"white\",\"ticks\":\"\",\"title\":{\"standoff\":15},\"zerolinecolor\":\"white\",\"automargin\":true,\"zerolinewidth\":2},\"yaxis\":{\"gridcolor\":\"white\",\"linecolor\":\"white\",\"ticks\":\"\",\"title\":{\"standoff\":15},\"zerolinecolor\":\"white\",\"automargin\":true,\"zerolinewidth\":2},\"scene\":{\"xaxis\":{\"backgroundcolor\":\"#E5ECF6\",\"gridcolor\":\"white\",\"linecolor\":\"white\",\"showbackground\":true,\"ticks\":\"\",\"zerolinecolor\":\"white\",\"gridwidth\":2},\"yaxis\":{\"backgroundcolor\":\"#E5ECF6\",\"gridcolor\":\"white\",\"linecolor\":\"white\",\"showbackground\":true,\"ticks\":\"\",\"zerolinecolor\":\"white\",\"gridwidth\":2},\"zaxis\":{\"backgroundcolor\":\"#E5ECF6\",\"gridcolor\":\"white\",\"linecolor\":\"white\",\"showbackground\":true,\"ticks\":\"\",\"zerolinecolor\":\"white\",\"gridwidth\":2}},\"shapedefaults\":{\"line\":{\"color\":\"#2a3f5f\"}},\"annotationdefaults\":{\"arrowcolor\":\"#2a3f5f\",\"arrowhead\":0,\"arrowwidth\":1},\"geo\":{\"bgcolor\":\"white\",\"landcolor\":\"#E5ECF6\",\"subunitcolor\":\"white\",\"showland\":true,\"showlakes\":true,\"lakecolor\":\"white\"},\"title\":{\"x\":0.05},\"mapbox\":{\"style\":\"light\"}}},\"xaxis\":{\"anchor\":\"y\",\"domain\":[0.0,0.45]},\"yaxis\":{\"anchor\":\"x\",\"domain\":[0.625,1.0]},\"xaxis2\":{\"anchor\":\"y2\",\"domain\":[0.55,1.0]},\"yaxis2\":{\"anchor\":\"x2\",\"domain\":[0.625,1.0]},\"xaxis3\":{\"anchor\":\"y3\",\"domain\":[0.0,0.45]},\"yaxis3\":{\"anchor\":\"x3\",\"domain\":[0.0,0.375]},\"xaxis4\":{\"anchor\":\"y4\",\"domain\":[0.55,1.0]},\"yaxis4\":{\"anchor\":\"x4\",\"domain\":[0.0,0.375]},\"annotations\":[{\"font\":{\"size\":16},\"showarrow\":false,\"text\":\"Error Angle (theta)\",\"x\":0.225,\"xanchor\":\"center\",\"xref\":\"paper\",\"y\":1.0,\"yanchor\":\"bottom\",\"yref\":\"paper\"},{\"font\":{\"size\":16},\"showarrow\":false,\"text\":\"Error Angle (phi)\",\"x\":0.775,\"xanchor\":\"center\",\"xref\":\"paper\",\"y\":1.0,\"yanchor\":\"bottom\",\"yref\":\"paper\"},{\"font\":{\"size\":16},\"showarrow\":false,\"text\":\"Angular Speed (theta)\",\"x\":0.225,\"xanchor\":\"center\",\"xref\":\"paper\",\"y\":0.375,\"yanchor\":\"bottom\",\"yref\":\"paper\"},{\"font\":{\"size\":16},\"showarrow\":false,\"text\":\"Angular speed (phi)\",\"x\":0.775,\"xanchor\":\"center\",\"xref\":\"paper\",\"y\":0.375,\"yanchor\":\"bottom\",\"yref\":\"paper\"}]},                        {\"responsive\": true}                    ).then(function(){\n",
       "                            \n",
       "var gd = document.getElementById('232af319-656f-4d9d-904b-c2d5e6fbc302');\n",
       "var x = new MutationObserver(function (mutations, observer) {{\n",
       "        var display = window.getComputedStyle(gd).display;\n",
       "        if (!display || display === 'none') {{\n",
       "            console.log([gd, 'removed!']);\n",
       "            Plotly.purge(gd);\n",
       "            observer.disconnect();\n",
       "        }}\n",
       "}});\n",
       "\n",
       "// Listen for the removal of the full notebook cells\n",
       "var notebookContainer = gd.closest('#notebook-container');\n",
       "if (notebookContainer) {{\n",
       "    x.observe(notebookContainer, {childList: true});\n",
       "}}\n",
       "\n",
       "// Listen for the clearing of the current output cell\n",
       "var outputEl = gd.closest('.output');\n",
       "if (outputEl) {{\n",
       "    x.observe(outputEl, {childList: true});\n",
       "}}\n",
       "\n",
       "                        })                };                });            </script>        </div>"
      ]
     },
     "metadata": {},
     "output_type": "display_data"
    },
    {
     "data": {
      "application/vnd.plotly.v1+json": {
       "config": {
        "plotlyServerURL": "https://plot.ly"
       },
       "data": [
        {
         "mode": "lines",
         "type": "scatter",
         "x": [
          0,
          1,
          2,
          3,
          4,
          5,
          6,
          7,
          8,
          9,
          10,
          11,
          12,
          13,
          14,
          15,
          16,
          17,
          18,
          19,
          20,
          21,
          22,
          23,
          24,
          25,
          26,
          27,
          28,
          29,
          30,
          31,
          32,
          33,
          34,
          35,
          36,
          37,
          38,
          39,
          40,
          41,
          42,
          43,
          44,
          45,
          46,
          47,
          48,
          49,
          50,
          51,
          52,
          53,
          54,
          55,
          56,
          57,
          58,
          59,
          60,
          61,
          62,
          63,
          64,
          65,
          66,
          67,
          68,
          69,
          70,
          71,
          72,
          73,
          74,
          75,
          76,
          77,
          78,
          79,
          80,
          81,
          82,
          83,
          84,
          85,
          86,
          87
         ],
         "xaxis": "x",
         "y": [
          7.520906358187627,
          7.481784672595981,
          7.34663727574227,
          7.124335263312511,
          6.824401773535459,
          6.456802440293603,
          6.031766343406312,
          5.559638737687392,
          5.050765855364849,
          4.5154114655800495,
          3.614726969872254,
          3.2470382523100376,
          2.6689292838903804,
          2.176390705075588,
          1.7174343792748847,
          1.2883667681879816,
          0.8434747263447823,
          0.5048374743132841,
          0.0829309612965664,
          -0.4490719509504559,
          -0.9677389300140986,
          -1.441970972785679,
          -2.0245624750520523,
          -2.4160641131831424,
          -2.6340839564180074,
          -2.763692691807204,
          -2.750368664405108,
          -2.6326329823901404,
          -2.325877398138329,
          -1.8363121911813167,
          -1.2424730355411369,
          -0.417259471524569,
          0.5091193410107437,
          1.3725130165521937,
          2.2717621546881506,
          3.18686611929639,
          3.913750245318061,
          4.56198689938346,
          5.100848158638278,
          5.328654643561251,
          5.466215547819084,
          5.490419506490517,
          5.680421783176315,
          5.462795269172673,
          5.409704585301086,
          5.078082080721078,
          4.597389640594887,
          4.276063297886743,
          3.881577547647691,
          3.588533474655053,
          3.776783312595008,
          3.790582865906394,
          3.770120757549485,
          3.8314949090550394,
          3.9019694721414457,
          3.8489738190160834,
          3.9419430091499126,
          4.079381717553595,
          3.9502957044132234,
          3.8707781212005927,
          3.941508012725476,
          4.025843357319924,
          3.936452246597341,
          3.9290048673189246,
          3.854391714043005,
          3.720818511506063,
          3.7268688380541097,
          3.896639335052651,
          4.216497446336611,
          4.541689424700943,
          4.719034718229746,
          4.788446748828909,
          4.951579725000158,
          5.069076516501777,
          4.8936146412362,
          4.963162207482641,
          4.971384618049329,
          5.024989471159298,
          5.187384338569222,
          5.293463004694612,
          5.389135966676927,
          5.357305911821582,
          5.449776401691769,
          5.597942878189854,
          5.606117954522917,
          5.757965486327518,
          5.807365868186,
          5.794651006239376,
          5.810154562151594,
          5.808649093064268,
          5.727771234355997,
          5.603281006113452,
          5.302829014075755,
          4.73232786784267,
          4.320499011907902,
          3.999534164228724,
          3.5647256062885693,
          3.145232682275661,
          2.3970022701862344,
          1.509348586822555,
          0.5908787527983503,
          -0.2230522491100925,
          -1.2521706697040382,
          -2.3031201025017176,
          -3.444119767428302,
          -4.542981680156041,
          -5.700824971051422,
          -6.554653005083181,
          -7.296806412940343,
          -7.720344369891131,
          -8.51653420636774,
          -9.132541362309944,
          -9.47303552414101,
          -8.736060176854384,
          -6.905014572660643,
          -4.211259998500706,
          -0.2958847511154751,
          4.6142208412568975,
          10.61795575983088,
          17.210922910823637,
          23.365516059853693,
          28.17254897509169,
          31.836775539603963,
          33.902295543129306,
          34.532256243710435,
          33.87052939573851,
          32.768943203657926,
          30.517225429802952,
          28.36282454889956,
          25.423830338147823,
          22.27534000065085,
          18.5765864937847,
          14.639631924560131,
          10.44109577038007,
          6.284974170469079,
          1.6246813826675932,
          -2.835645055536333,
          -6.985228751255697,
          -11.041451008084524,
          -14.89061680265862,
          -18.09977282640856,
          -20.87645384760602,
          -23.340165107161194,
          -25.0651979981466,
          -26.01646062485956,
          -25.9968232430354,
          -25.57732695009413,
          -24.30872858205689,
          -22.75655231597744,
          -20.82888596411645,
          -19.01809105005147,
          -17.08001432008462,
          -15.308882414020443,
          -13.803915884506893,
          -12.349061535316926,
          -11.1293251935538,
          -10.073413237256249,
          -9.377507866648251,
          -8.965090888088532,
          -8.76171532396147,
          -8.694888880301004,
          -8.847331746996485,
          -8.994445085175206,
          -9.132763325909426,
          -9.20877446439584,
          -9.393302173413764,
          -9.452039113859104,
          -9.595716819687862,
          -9.868342287725788,
          -10.086886422285364,
          -10.29032324181272,
          -10.574095315877594,
          -10.79530774129644,
          -10.966142193694813,
          -11.04473704698242,
          -11.147149205036458,
          -11.388027560209784,
          -11.352337476182424,
          -11.206286874397229,
          -10.901869152301709,
          -10.498746054393568,
          -9.823792704505834,
          -9.006777234861163,
          -8.238428016124953,
          -7.636651674822606,
          -7.1470513763327705,
          -6.802577593725274,
          -6.646912312269068,
          -6.480950851258141,
          -6.393305924449211,
          -6.576702661974772,
          -7.016098084741048,
          -7.551480673440952,
          -8.13548487027372,
          -9.039942841512218,
          -9.910793859159655,
          -10.43516845183409,
          -11.058722241326413,
          -11.59459905475928,
          -12.074461302077362,
          -12.452807872750247,
          -12.83302002009304,
          -13.316336771349423,
          -13.774916209200082,
          -13.833773240560744,
          -13.54623055368181,
          -13.32500776755343,
          -12.521879530121923,
          -15.940659892281143,
          -16.31325469623488,
          -16.256892194917704,
          -14.764499487743326,
          -11.516079073443889,
          -6.417635152825135,
          0.374038048245191,
          8.547508589721398,
          17.76701607505712,
          27.592685077592304,
          37.09836198180754
         ],
         "yaxis": "y"
        },
        {
         "mode": "lines",
         "type": "scatter",
         "x": [
          0,
          1,
          2,
          3,
          4,
          5,
          6,
          7,
          8,
          9,
          10,
          11,
          12,
          13,
          14,
          15,
          16,
          17,
          18,
          19,
          20,
          21,
          22,
          23,
          24,
          25,
          26,
          27,
          28,
          29,
          30,
          31,
          32,
          33,
          34,
          35,
          36,
          37,
          38,
          39,
          40,
          41,
          42,
          43,
          44,
          45,
          46,
          47,
          48,
          49,
          50,
          51,
          52,
          53,
          54,
          55,
          56,
          57,
          58,
          59,
          60,
          61,
          62,
          63,
          64,
          65,
          66,
          67,
          68,
          69,
          70,
          71,
          72,
          73,
          74,
          75,
          76,
          77,
          78,
          79,
          80,
          81,
          82,
          83,
          84,
          85,
          86,
          87
         ],
         "xaxis": "x3",
         "y": [
          14.330424380242096,
          12.824318937555812,
          11.50095997400205,
          10.332207684469186,
          9.294836273624709,
          8.369552432349408,
          7.540229982345492,
          -396.539826785437,
          707.5471800692388,
          -8.82558361284233,
          -658.8093375107657,
          1256.3376528713009,
          -1756.6016678619546,
          1152.2475016577755,
          529.6614308813362,
          -794.5628332676105,
          -528.9463399193253,
          585.6922322688414,
          479.8386531383193,
          -361.0261879308396,
          -30.236866925165288,
          657.8602223986328,
          -1262.6116675235512,
          1727.5634341888988,
          -445.6776348586105,
          -858.0118193106315,
          -396.1858141130076,
          681.1387269638498,
          144.16021995183658,
          -1423.708205373722,
          1154.7769587761943,
          -996.8869470238428,
          1747.5073594184312,
          -1490.9194764795593,
          -799.2987325538562,
          303.0398382434452,
          743.5554793465365,
          101.78459768012694,
          -659.1906785460405,
          399.00670559930063,
          -70.20513702974884,
          193.42033695573312,
          1397.596593182738,
          -1964.552542124204,
          -126.46592025464832,
          703.2013212583649,
          -160.66713245264418,
          953.5410591040207,
          -1455.604133209194,
          634.296507030709,
          -292.9683002864876,
          199.7366161948929,
          -702.9715795451959,
          1075.9221495779177,
          -843.2934404199491,
          935.0399925416526,
          -341.2649646921788,
          -212.62133443412048,
          624.4373989073422,
          -231.82036452393095,
          592.5255026724923,
          142.4094116800862,
          -910.8156014009628,
          827.1687970500828,
          181.37652275212892,
          -375.28829002729503,
          -144.11319098410547,
          -503.7241869793515,
          -34.49283281192705,
          315.19781761002736,
          -519.1470309778363,
          131.88120642073486,
          784.0888293236277,
          -1131.55043748118,
          622.9516037282774,
          177.6507040674248,
          -497.660606235783,
          248.3801281205152,
          -516.3928138130982,
          881.4950354983634,
          -433.3438722815098,
          72.98275135770743,
          249.9631250202996,
          -497.3913476929453,
          233.05640766160707,
          -348.7815211124097,
          19.87604500330864,
          -575.5822071353431,
          978.6838442823724,
          -453.6997504756183,
          514.5708449301168,
          339.2477867553304,
          -1266.1938910289764,
          1341.135693690138,
          -393.5394713904348,
          -127.33040560392806,
          304.0091552547044,
          -785.3942537201526,
          1048.380128134232,
          -12.929900893790162,
          -537.850956008707,
          575.0314597734686,
          -402.21068271174886,
          376.10256888287154,
          -88.71192956721266,
          -74.56506649492125,
          99.1053422456952,
          964.9745694192268,
          -464.11613310986434,
          -400.8669159466172,
          64.89343533033531,
          -651.9313699909842,
          1362.079012286292,
          -1911.098860885456,
          971.0774382521308,
          -591.6023196121631,
          428.0472874866942,
          594.1949864743157,
          199.06703040961432,
          -1263.7684735600692,
          473.0416323674986,
          -93.12541992691206,
          1023.0458849034476,
          -764.2448693751395,
          -738.3066743260807,
          358.35771843888864,
          121.57345710374804,
          -598.3485959942176,
          -273.32507601201814,
          -336.66431220396873,
          -895.4856426681612,
          330.0680265855456,
          -555.8334888769094,
          1078.8095338767469,
          -870.4228164340013,
          1129.2691697593614,
          -512.8835714824683,
          49.92914299762896,
          -300.71571968150533,
          -73.94502111417411,
          681.7808136968874,
          -770.9726405702604,
          760.3249270866237,
          -1270.1010477119137,
          1952.5324193232063,
          -962.1927747658395,
          -652.766107075603,
          1610.4140217295771,
          -648.3292134268696,
          1570.8111678314192,
          -1852.8720890046116,
          -311.0643954706658,
          -556.5192380942854,
          108.18620817404056,
          1503.4450407205036,
          -3134.1604209435773,
          -923.2392943248602,
          747.1746859784556,
          1161.8874368405484,
          -1999.228732975174,
          913.510409701197,
          240.28212465314303,
          -1684.6451650461956,
          1631.9757650908607,
          -1418.282077578083,
          -2086.726191820344,
          2399.5726307177765,
          957.5480340135236,
          -2512.6173848536223,
          2147.5967077525747,
          -577.8251141825024,
          921.619759213061,
          827.7253295214107,
          -293.97880913602137,
          -586.1016315516712,
          1971.0938056127957,
          -833.6938528536862,
          417.939644781165,
          3087.6317363945213,
          -2034.1813971452325,
          -665.1959932703053,
          559.7393515113622,
          977.3257739240198,
          35.92485393807499,
          750.9138172399928,
          -968.853824923716,
          787.9563929417827,
          -1741.9521355744382,
          1606.7779160012717,
          1613.175687685299,
          -1144.8352546021415,
          817.946149966866,
          -319.2426048784079,
          -605.7219970378039,
          -155.78031742673818,
          466.7198994940304,
          482.1606241421422,
          287.94435980557165,
          -1335.3010825234066,
          -595.7847397393541,
          1873.2095600097955,
          -911.2244610179132,
          286.3383904416894,
          425.0043414286141,
          -795.7860032590245,
          9221.7227845542,
          -14939.707715273664,
          4818.376848966999,
          -669.0858532123428,
          -373.243467766093,
          -215.44977753865035,
          -74.96594770269382,
          33.703688472552344,
          107.0771815310847,
          149.2039609400464,
          167.48048764417624,
          null
         ],
         "yaxis": "y3"
        },
        {
         "mode": "lines",
         "type": "scatter",
         "x": [
          0,
          1,
          2,
          3,
          4,
          5,
          6,
          7,
          8,
          9,
          10,
          11,
          12,
          13,
          14,
          15,
          16,
          17,
          18,
          19,
          20,
          21,
          22,
          23,
          24,
          25,
          26,
          27,
          28,
          29,
          30,
          31,
          32,
          33,
          34,
          35,
          36,
          37,
          38,
          39,
          40,
          41,
          42,
          43,
          44,
          45,
          46,
          47,
          48,
          49,
          50,
          51,
          52,
          53,
          54,
          55,
          56,
          57,
          58,
          59,
          60,
          61,
          62,
          63,
          64,
          65,
          66,
          67,
          68,
          69,
          70,
          71,
          72,
          73,
          74,
          75,
          76,
          77,
          78,
          79,
          80,
          81,
          82,
          83,
          84,
          85,
          86,
          87
         ],
         "xaxis": "x2",
         "y": [
          17.384725805775073,
          17.314706429852116,
          17.341203422801744,
          17.45233561312008,
          17.635254244872684,
          17.87647421866011,
          18.16217620349464,
          18.478468339379845,
          18.811598502169907,
          19.14811057635324,
          19.488341495634845,
          19.66310754053275,
          19.868620573733992,
          20.180589726323635,
          20.25760086116479,
          20.398390482835843,
          20.550956130296736,
          20.65863109231747,
          20.810572530396,
          20.9456637136528,
          21.00493996082133,
          20.95158394750338,
          21.191864732126984,
          21.34548946383604,
          21.55349199041794,
          21.649942205351078,
          21.74416800716804,
          21.81492018287277,
          22.022640314571245,
          21.881910175982487,
          21.926888744875164,
          22.036480603633297,
          22.051137278670083,
          21.855307628711493,
          21.533961706682277,
          20.9961282525969,
          20.40888411686448,
          19.643629375076205,
          18.575190191639493,
          17.84177330684579,
          17.092029762997015,
          16.411148630830606,
          15.39874263648082,
          14.719059670898744,
          13.98519688430561,
          13.357143112412686,
          12.768274682429285,
          12.222183537402875,
          11.724053541999671,
          11.303453004200597,
          10.576586303501273,
          9.765750816238889,
          8.969244548985808,
          7.791127668877714,
          6.848469702127139,
          6.056242198438905,
          4.989648922223078,
          3.792481592719144,
          3.103738052580252,
          2.3534422381666675,
          1.541982798248447,
          0.6132021318654084,
          -0.0113358842115688,
          -0.6404103624915687,
          -1.353014395787743,
          -1.6607050879490293,
          -1.865101454712237,
          -2.0892167626590585,
          -2.3935295978240347,
          -2.6252925226609096,
          -2.7758443783622164,
          -2.652190762019445,
          -2.854229829646779,
          -2.774190243190777,
          -2.3570343879579525,
          -2.390053818404449,
          -2.392753835058436,
          -2.574147275210404,
          -2.8833962577258885,
          -3.284802319282648,
          -3.724021485244525,
          -3.970989693850943,
          -4.380092133619243,
          -4.830584351380187,
          -4.995794237053318,
          -5.324816817765572,
          -5.527385031775615,
          -5.664886577023274,
          -5.843987621095206,
          -5.925350352712674,
          -5.833666818784112,
          -5.749227420085835,
          -5.452773105486398,
          -4.862411819338327,
          -4.530134024123833,
          -4.286364295867621,
          -3.9420252232875983,
          -3.628316777879423,
          -3.035872060322116,
          -2.3327545423292606,
          -1.6122789043430057,
          -1.041509310290051,
          -0.3020047540626935,
          0.4834001517992455,
          1.3042586024525908,
          2.093870250295428,
          2.896791420174345,
          3.5333297600506,
          4.173335121473271,
          4.657668437824818,
          5.3683021241031375,
          6.03331450101721,
          6.669700555074097,
          6.928639598564973,
          6.990665948734198,
          7.149816623528787,
          7.288670699493423,
          7.698024492062046,
          8.241114853233098,
          8.852565389967804,
          9.847098573049132,
          11.262741500361129,
          12.765096986269578,
          14.636737484043524,
          16.49391691973728,
          18.626369163991253,
          20.431912953135583,
          22.35300860118212,
          24.128466891068346,
          25.6729188868712,
          26.406459617950176,
          26.34371096620181,
          25.783840198516877,
          24.591362278539783,
          23.11296255814461,
          21.37537086083788,
          19.20579498845487,
          16.61782736249834,
          13.676587726580818,
          10.584824801202942,
          7.173016015244089,
          3.720526743705424,
          0.4436868658481275,
          -2.652973359899421,
          -5.389932537944776,
          -7.706294117434873,
          -9.709249505545522,
          -11.515849053616773,
          -13.228071230397232,
          -14.744342489879564,
          -15.980884207274633,
          -16.82778584624934,
          -17.359423459062853,
          -17.895742786775905,
          -18.364881919384658,
          -18.89740091519111,
          -19.39125903831144,
          -19.79072953577954,
          -20.269398012755094,
          -20.562339549062376,
          -20.8646016807944,
          -20.869485267144125,
          -20.681673306652783,
          -20.27834367711652,
          -19.418714439523143,
          -18.09198778109577,
          -16.520782011368794,
          -14.572523128228603,
          -12.229079066271344,
          -9.619694759649724,
          -6.826153617881776,
          -4.02643390324257,
          -1.3175867573983484,
          1.1331023763530343,
          3.26596884258964,
          5.023222612013146,
          6.323865193655177,
          7.084151748152428,
          7.420533294282755,
          7.396050788784596,
          6.947067906307835,
          6.07218296479597,
          4.952150489747474,
          3.900026041429055,
          2.86034957968606,
          1.7284914995835432,
          0.9178543000293234,
          0.2268223067513836,
          -0.1755157944950366,
          -0.4802584660994408,
          -0.5916848383337951,
          -0.6212345474302707,
          -0.597420738479803,
          -0.5304894880115046,
          -0.4796012753421068,
          -0.4722707524781683,
          -0.4714716299917567,
          -0.4077791872252061,
          -0.3169813051264761,
          -0.3184240256589195,
          -0.2964449925166509,
          -0.1586389059214969,
          0.2586294319315411,
          0.8614880220611657,
          1.5974041617888963,
          2.283112669514966,
          2.9445811422934502,
          3.320453887789724,
          7.785814776972314,
          8.772441678758891,
          10.181606922889378,
          10.69379061813468,
          10.142325279584885,
          8.339036211038854,
          5.02499682679018,
          -0.234177083232566,
          -8.282958384545315,
          -20.782870236622767,
          -40.15324925828263
         ],
         "yaxis": "y2"
        },
        {
         "mode": "lines",
         "type": "scatter",
         "x": [
          0,
          1,
          2,
          3,
          4,
          5,
          6,
          7,
          8,
          9,
          10,
          11,
          12,
          13,
          14,
          15,
          16,
          17,
          18,
          19,
          20,
          21,
          22,
          23,
          24,
          25,
          26,
          27,
          28,
          29,
          30,
          31,
          32,
          33,
          34,
          35,
          36,
          37,
          38,
          39,
          40,
          41,
          42,
          43,
          44,
          45,
          46,
          47,
          48,
          49,
          50,
          51,
          52,
          53,
          54,
          55,
          56,
          57,
          58,
          59,
          60,
          61,
          62,
          63,
          64,
          65,
          66,
          67,
          68,
          69,
          70,
          71,
          72,
          73,
          74,
          75,
          76,
          77,
          78,
          79,
          80,
          81,
          82,
          83,
          84,
          85,
          86,
          87
         ],
         "xaxis": "x4",
         "y": [
          -68.5812448737589,
          -65.45949395459493,
          -63.11429029215018,
          -61.45329094309043,
          -60.40446650797296,
          -59.91218440568913,
          -59.934152187415656,
          -378.2840258999822,
          473.2202730966246,
          -438.5146556771948,
          -205.0438978614526,
          102.88063746720243,
          794.9984277465926,
          -1187.824969829269,
          -196.7015337139364,
          895.3221183416721,
          -273.22841753151226,
          -164.78541403068715,
          676.3937469995517,
          -651.4100592081976,
          604.6352087161787,
          -740.5513666436522,
          987.1491406201844,
          -835.7604954591327,
          -325.7319761176425,
          1421.3269205147626,
          -328.52943498944666,
          653.4746718661817,
          -1438.8671751020818,
          454.81782546350775,
          -172.04496927741636,
          94.3967408953773,
          -41.89273247078018,
          169.1150038808132,
          600.0901377677983,
          -435.15770606474456,
          666.4284822346388,
          -901.1995000917932,
          1103.589013030931,
          -529.4152518671289,
          -413.0488766775687,
          951.0461927380578,
          -1658.620193042142,
          1627.7763393392393,
          -77.62617095049428,
          81.76141948261395,
          94.92569781696103,
          -828.8754705123654,
          530.5300648454008,
          558.9688916842437,
          -318.05364554208006,
          361.9849912719064,
          -557.0806553761279,
          584.255369350217,
          528.2084871423247,
          -1188.519591687968,
          94.00541421038476,
          1397.80702272403,
          -2801.6625948090395,
          1619.4568786333004,
          -482.84717538609056,
          -1368.443237690216,
          1857.9319654715437,
          -691.8211652244976,
          516.799053842931,
          953.7786386365063,
          -488.1231719566758,
          -793.9684740667116,
          1950.6264180886687,
          -1752.0869879937338,
          381.6015138852204,
          1077.2803191357934,
          -1020.4175537385072,
          562.1052717641201,
          -1231.0955907198395,
          107.72590739125836,
          1264.3095130871015,
          -1811.4366395431664,
          1967.0542580126776,
          -1946.623067754874,
          523.7032095645302,
          526.5416425540319,
          -786.5817057338734,
          2479.6773287683254,
          -1240.9688503321577,
          -796.3071382084794,
          906.6431702888397,
          1890.599271926935,
          -1157.687822769141,
          991.8158936567014,
          844.3274012051991,
          -3929.9486334934254,
          2599.4779922372245,
          -1413.3605333184323,
          362.7245561124191,
          685.9438384741294,
          -1027.6926828716682,
          746.4903108363701,
          -1792.290775429252,
          128.44066824494965,
          390.873857827052,
          -804.830835780967,
          652.8064949566682,
          -526.8182920116363,
          -814.5318918218089,
          1899.693886543724,
          -542.2137203212793,
          -327.18151460052945,
          -57.95381562633374,
          1006.5933876779278,
          -862.2607191282136,
          1058.352415517802,
          -694.7295745380767,
          1366.6680110904008,
          -1384.7463933976774,
          762.2386332660499,
          -1207.5027674295338,
          -366.1992366797408,
          -696.4090928600493,
          1235.2390699070336,
          -130.31545067100132,
          262.8542747691845,
          -980.46851626735,
          398.7363444098099,
          2066.200039812937,
          -796.2236875930012,
          -384.5890788175199,
          291.46570597157705,
          481.2636604090341,
          684.9705386954541,
          574.1964896849292,
          60.97692914624275,
          549.2444541832028,
          -1379.1521226317257,
          1195.6591541220637,
          -1332.3950115827683,
          1111.358985586029,
          137.2764088316347,
          338.05327799245475,
          434.1485419278164,
          -1116.395587179155,
          701.4709448183792,
          -202.3994254361914,
          2861.0246072554646,
          -2896.366416795471,
          3487.8731868366226,
          520.6718783341194,
          -2054.9615876943026,
          211.3408950275444,
          -363.8365562032648,
          305.6409104814141,
          -3342.4390777479957,
          9316.647910251284,
          -2304.840082010156,
          -1383.4332655553148,
          -3551.0114281801207,
          944.20663262164,
          -1876.5880331693893,
          3880.8889047917146,
          -6301.558792362011,
          2166.252405545673,
          723.0554106321439,
          -3813.189925513852,
          2146.300543032812,
          -2269.079628118936,
          25.06020300310807,
          906.741951435336,
          -1547.9832906072731,
          -1.403420406915323,
          -454.11070521980736,
          -2019.92242142322,
          2786.957187216261,
          -3324.699153190056,
          1291.6112695061038,
          -356.7643826207756,
          2256.1696665057016,
          -1059.8367791057108,
          965.8202602400684,
          -3659.042044011801,
          4673.834095744414,
          667.1825380733496,
          -1558.1164694424697,
          -419.0121471356448,
          999.38742271694,
          923.3467933500924,
          -1741.8287659297434,
          -566.4627231439388,
          460.3597271755706,
          -1156.3370071730749,
          -1109.0663212021936,
          1474.2503095161949,
          -740.0432270670105,
          250.78543298177803,
          42.16659721612359,
          -229.2747899597707,
          -402.43180906569177,
          590.3131101364032,
          -84.39133288197276,
          -115.57599725772904,
          954.0181492011532,
          -230.56394919132293,
          -623.5349031606083,
          846.9983742395347,
          492.3955932166126,
          213.3219865338777,
          -20369.860925588007,
          30857.565845851685,
          -8171.21738562515,
          1685.7534950553404,
          1515.14229122491,
          1560.1462010247226,
          1477.9314226881688,
          1157.0522542689234,
          565.7203153670096,
          -158.5236671554586,
          -770.233662804884,
          null
         ],
         "yaxis": "y4"
        }
       ],
       "layout": {
        "annotations": [
         {
          "font": {
           "size": 16
          },
          "showarrow": false,
          "text": "Error Angle (theta)",
          "x": 0.225,
          "xanchor": "center",
          "xref": "paper",
          "y": 1,
          "yanchor": "bottom",
          "yref": "paper"
         },
         {
          "font": {
           "size": 16
          },
          "showarrow": false,
          "text": "Error Angle (phi)",
          "x": 0.775,
          "xanchor": "center",
          "xref": "paper",
          "y": 1,
          "yanchor": "bottom",
          "yref": "paper"
         },
         {
          "font": {
           "size": 16
          },
          "showarrow": false,
          "text": "Angular Speed (theta)",
          "x": 0.225,
          "xanchor": "center",
          "xref": "paper",
          "y": 0.375,
          "yanchor": "bottom",
          "yref": "paper"
         },
         {
          "font": {
           "size": 16
          },
          "showarrow": false,
          "text": "Angular speed (phi)",
          "x": 0.775,
          "xanchor": "center",
          "xref": "paper",
          "y": 0.375,
          "yanchor": "bottom",
          "yref": "paper"
         }
        ],
        "template": {
         "data": {
          "bar": [
           {
            "error_x": {
             "color": "#2a3f5f"
            },
            "error_y": {
             "color": "#2a3f5f"
            },
            "marker": {
             "line": {
              "color": "#E5ECF6",
              "width": 0.5
             },
             "pattern": {
              "fillmode": "overlay",
              "size": 10,
              "solidity": 0.2
             }
            },
            "type": "bar"
           }
          ],
          "barpolar": [
           {
            "marker": {
             "line": {
              "color": "#E5ECF6",
              "width": 0.5
             },
             "pattern": {
              "fillmode": "overlay",
              "size": 10,
              "solidity": 0.2
             }
            },
            "type": "barpolar"
           }
          ],
          "carpet": [
           {
            "aaxis": {
             "endlinecolor": "#2a3f5f",
             "gridcolor": "white",
             "linecolor": "white",
             "minorgridcolor": "white",
             "startlinecolor": "#2a3f5f"
            },
            "baxis": {
             "endlinecolor": "#2a3f5f",
             "gridcolor": "white",
             "linecolor": "white",
             "minorgridcolor": "white",
             "startlinecolor": "#2a3f5f"
            },
            "type": "carpet"
           }
          ],
          "choropleth": [
           {
            "colorbar": {
             "outlinewidth": 0,
             "ticks": ""
            },
            "type": "choropleth"
           }
          ],
          "contour": [
           {
            "colorbar": {
             "outlinewidth": 0,
             "ticks": ""
            },
            "colorscale": [
             [
              0,
              "#0d0887"
             ],
             [
              0.1111111111111111,
              "#46039f"
             ],
             [
              0.2222222222222222,
              "#7201a8"
             ],
             [
              0.3333333333333333,
              "#9c179e"
             ],
             [
              0.4444444444444444,
              "#bd3786"
             ],
             [
              0.5555555555555556,
              "#d8576b"
             ],
             [
              0.6666666666666666,
              "#ed7953"
             ],
             [
              0.7777777777777778,
              "#fb9f3a"
             ],
             [
              0.8888888888888888,
              "#fdca26"
             ],
             [
              1,
              "#f0f921"
             ]
            ],
            "type": "contour"
           }
          ],
          "contourcarpet": [
           {
            "colorbar": {
             "outlinewidth": 0,
             "ticks": ""
            },
            "type": "contourcarpet"
           }
          ],
          "heatmap": [
           {
            "colorbar": {
             "outlinewidth": 0,
             "ticks": ""
            },
            "colorscale": [
             [
              0,
              "#0d0887"
             ],
             [
              0.1111111111111111,
              "#46039f"
             ],
             [
              0.2222222222222222,
              "#7201a8"
             ],
             [
              0.3333333333333333,
              "#9c179e"
             ],
             [
              0.4444444444444444,
              "#bd3786"
             ],
             [
              0.5555555555555556,
              "#d8576b"
             ],
             [
              0.6666666666666666,
              "#ed7953"
             ],
             [
              0.7777777777777778,
              "#fb9f3a"
             ],
             [
              0.8888888888888888,
              "#fdca26"
             ],
             [
              1,
              "#f0f921"
             ]
            ],
            "type": "heatmap"
           }
          ],
          "heatmapgl": [
           {
            "colorbar": {
             "outlinewidth": 0,
             "ticks": ""
            },
            "colorscale": [
             [
              0,
              "#0d0887"
             ],
             [
              0.1111111111111111,
              "#46039f"
             ],
             [
              0.2222222222222222,
              "#7201a8"
             ],
             [
              0.3333333333333333,
              "#9c179e"
             ],
             [
              0.4444444444444444,
              "#bd3786"
             ],
             [
              0.5555555555555556,
              "#d8576b"
             ],
             [
              0.6666666666666666,
              "#ed7953"
             ],
             [
              0.7777777777777778,
              "#fb9f3a"
             ],
             [
              0.8888888888888888,
              "#fdca26"
             ],
             [
              1,
              "#f0f921"
             ]
            ],
            "type": "heatmapgl"
           }
          ],
          "histogram": [
           {
            "marker": {
             "pattern": {
              "fillmode": "overlay",
              "size": 10,
              "solidity": 0.2
             }
            },
            "type": "histogram"
           }
          ],
          "histogram2d": [
           {
            "colorbar": {
             "outlinewidth": 0,
             "ticks": ""
            },
            "colorscale": [
             [
              0,
              "#0d0887"
             ],
             [
              0.1111111111111111,
              "#46039f"
             ],
             [
              0.2222222222222222,
              "#7201a8"
             ],
             [
              0.3333333333333333,
              "#9c179e"
             ],
             [
              0.4444444444444444,
              "#bd3786"
             ],
             [
              0.5555555555555556,
              "#d8576b"
             ],
             [
              0.6666666666666666,
              "#ed7953"
             ],
             [
              0.7777777777777778,
              "#fb9f3a"
             ],
             [
              0.8888888888888888,
              "#fdca26"
             ],
             [
              1,
              "#f0f921"
             ]
            ],
            "type": "histogram2d"
           }
          ],
          "histogram2dcontour": [
           {
            "colorbar": {
             "outlinewidth": 0,
             "ticks": ""
            },
            "colorscale": [
             [
              0,
              "#0d0887"
             ],
             [
              0.1111111111111111,
              "#46039f"
             ],
             [
              0.2222222222222222,
              "#7201a8"
             ],
             [
              0.3333333333333333,
              "#9c179e"
             ],
             [
              0.4444444444444444,
              "#bd3786"
             ],
             [
              0.5555555555555556,
              "#d8576b"
             ],
             [
              0.6666666666666666,
              "#ed7953"
             ],
             [
              0.7777777777777778,
              "#fb9f3a"
             ],
             [
              0.8888888888888888,
              "#fdca26"
             ],
             [
              1,
              "#f0f921"
             ]
            ],
            "type": "histogram2dcontour"
           }
          ],
          "mesh3d": [
           {
            "colorbar": {
             "outlinewidth": 0,
             "ticks": ""
            },
            "type": "mesh3d"
           }
          ],
          "parcoords": [
           {
            "line": {
             "colorbar": {
              "outlinewidth": 0,
              "ticks": ""
             }
            },
            "type": "parcoords"
           }
          ],
          "pie": [
           {
            "automargin": true,
            "type": "pie"
           }
          ],
          "scatter": [
           {
            "fillpattern": {
             "fillmode": "overlay",
             "size": 10,
             "solidity": 0.2
            },
            "type": "scatter"
           }
          ],
          "scatter3d": [
           {
            "line": {
             "colorbar": {
              "outlinewidth": 0,
              "ticks": ""
             }
            },
            "marker": {
             "colorbar": {
              "outlinewidth": 0,
              "ticks": ""
             }
            },
            "type": "scatter3d"
           }
          ],
          "scattercarpet": [
           {
            "marker": {
             "colorbar": {
              "outlinewidth": 0,
              "ticks": ""
             }
            },
            "type": "scattercarpet"
           }
          ],
          "scattergeo": [
           {
            "marker": {
             "colorbar": {
              "outlinewidth": 0,
              "ticks": ""
             }
            },
            "type": "scattergeo"
           }
          ],
          "scattergl": [
           {
            "marker": {
             "colorbar": {
              "outlinewidth": 0,
              "ticks": ""
             }
            },
            "type": "scattergl"
           }
          ],
          "scattermapbox": [
           {
            "marker": {
             "colorbar": {
              "outlinewidth": 0,
              "ticks": ""
             }
            },
            "type": "scattermapbox"
           }
          ],
          "scatterpolar": [
           {
            "marker": {
             "colorbar": {
              "outlinewidth": 0,
              "ticks": ""
             }
            },
            "type": "scatterpolar"
           }
          ],
          "scatterpolargl": [
           {
            "marker": {
             "colorbar": {
              "outlinewidth": 0,
              "ticks": ""
             }
            },
            "type": "scatterpolargl"
           }
          ],
          "scatterternary": [
           {
            "marker": {
             "colorbar": {
              "outlinewidth": 0,
              "ticks": ""
             }
            },
            "type": "scatterternary"
           }
          ],
          "surface": [
           {
            "colorbar": {
             "outlinewidth": 0,
             "ticks": ""
            },
            "colorscale": [
             [
              0,
              "#0d0887"
             ],
             [
              0.1111111111111111,
              "#46039f"
             ],
             [
              0.2222222222222222,
              "#7201a8"
             ],
             [
              0.3333333333333333,
              "#9c179e"
             ],
             [
              0.4444444444444444,
              "#bd3786"
             ],
             [
              0.5555555555555556,
              "#d8576b"
             ],
             [
              0.6666666666666666,
              "#ed7953"
             ],
             [
              0.7777777777777778,
              "#fb9f3a"
             ],
             [
              0.8888888888888888,
              "#fdca26"
             ],
             [
              1,
              "#f0f921"
             ]
            ],
            "type": "surface"
           }
          ],
          "table": [
           {
            "cells": {
             "fill": {
              "color": "#EBF0F8"
             },
             "line": {
              "color": "white"
             }
            },
            "header": {
             "fill": {
              "color": "#C8D4E3"
             },
             "line": {
              "color": "white"
             }
            },
            "type": "table"
           }
          ]
         },
         "layout": {
          "annotationdefaults": {
           "arrowcolor": "#2a3f5f",
           "arrowhead": 0,
           "arrowwidth": 1
          },
          "autotypenumbers": "strict",
          "coloraxis": {
           "colorbar": {
            "outlinewidth": 0,
            "ticks": ""
           }
          },
          "colorscale": {
           "diverging": [
            [
             0,
             "#8e0152"
            ],
            [
             0.1,
             "#c51b7d"
            ],
            [
             0.2,
             "#de77ae"
            ],
            [
             0.3,
             "#f1b6da"
            ],
            [
             0.4,
             "#fde0ef"
            ],
            [
             0.5,
             "#f7f7f7"
            ],
            [
             0.6,
             "#e6f5d0"
            ],
            [
             0.7,
             "#b8e186"
            ],
            [
             0.8,
             "#7fbc41"
            ],
            [
             0.9,
             "#4d9221"
            ],
            [
             1,
             "#276419"
            ]
           ],
           "sequential": [
            [
             0,
             "#0d0887"
            ],
            [
             0.1111111111111111,
             "#46039f"
            ],
            [
             0.2222222222222222,
             "#7201a8"
            ],
            [
             0.3333333333333333,
             "#9c179e"
            ],
            [
             0.4444444444444444,
             "#bd3786"
            ],
            [
             0.5555555555555556,
             "#d8576b"
            ],
            [
             0.6666666666666666,
             "#ed7953"
            ],
            [
             0.7777777777777778,
             "#fb9f3a"
            ],
            [
             0.8888888888888888,
             "#fdca26"
            ],
            [
             1,
             "#f0f921"
            ]
           ],
           "sequentialminus": [
            [
             0,
             "#0d0887"
            ],
            [
             0.1111111111111111,
             "#46039f"
            ],
            [
             0.2222222222222222,
             "#7201a8"
            ],
            [
             0.3333333333333333,
             "#9c179e"
            ],
            [
             0.4444444444444444,
             "#bd3786"
            ],
            [
             0.5555555555555556,
             "#d8576b"
            ],
            [
             0.6666666666666666,
             "#ed7953"
            ],
            [
             0.7777777777777778,
             "#fb9f3a"
            ],
            [
             0.8888888888888888,
             "#fdca26"
            ],
            [
             1,
             "#f0f921"
            ]
           ]
          },
          "colorway": [
           "#636efa",
           "#EF553B",
           "#00cc96",
           "#ab63fa",
           "#FFA15A",
           "#19d3f3",
           "#FF6692",
           "#B6E880",
           "#FF97FF",
           "#FECB52"
          ],
          "font": {
           "color": "#2a3f5f"
          },
          "geo": {
           "bgcolor": "white",
           "lakecolor": "white",
           "landcolor": "#E5ECF6",
           "showlakes": true,
           "showland": true,
           "subunitcolor": "white"
          },
          "hoverlabel": {
           "align": "left"
          },
          "hovermode": "closest",
          "mapbox": {
           "style": "light"
          },
          "paper_bgcolor": "white",
          "plot_bgcolor": "#E5ECF6",
          "polar": {
           "angularaxis": {
            "gridcolor": "white",
            "linecolor": "white",
            "ticks": ""
           },
           "bgcolor": "#E5ECF6",
           "radialaxis": {
            "gridcolor": "white",
            "linecolor": "white",
            "ticks": ""
           }
          },
          "scene": {
           "xaxis": {
            "backgroundcolor": "#E5ECF6",
            "gridcolor": "white",
            "gridwidth": 2,
            "linecolor": "white",
            "showbackground": true,
            "ticks": "",
            "zerolinecolor": "white"
           },
           "yaxis": {
            "backgroundcolor": "#E5ECF6",
            "gridcolor": "white",
            "gridwidth": 2,
            "linecolor": "white",
            "showbackground": true,
            "ticks": "",
            "zerolinecolor": "white"
           },
           "zaxis": {
            "backgroundcolor": "#E5ECF6",
            "gridcolor": "white",
            "gridwidth": 2,
            "linecolor": "white",
            "showbackground": true,
            "ticks": "",
            "zerolinecolor": "white"
           }
          },
          "shapedefaults": {
           "line": {
            "color": "#2a3f5f"
           }
          },
          "ternary": {
           "aaxis": {
            "gridcolor": "white",
            "linecolor": "white",
            "ticks": ""
           },
           "baxis": {
            "gridcolor": "white",
            "linecolor": "white",
            "ticks": ""
           },
           "bgcolor": "#E5ECF6",
           "caxis": {
            "gridcolor": "white",
            "linecolor": "white",
            "ticks": ""
           }
          },
          "title": {
           "x": 0.05
          },
          "xaxis": {
           "automargin": true,
           "gridcolor": "white",
           "linecolor": "white",
           "ticks": "",
           "title": {
            "standoff": 15
           },
           "zerolinecolor": "white",
           "zerolinewidth": 2
          },
          "yaxis": {
           "automargin": true,
           "gridcolor": "white",
           "linecolor": "white",
           "ticks": "",
           "title": {
            "standoff": 15
           },
           "zerolinecolor": "white",
           "zerolinewidth": 2
          }
         }
        },
        "xaxis": {
         "anchor": "y",
         "domain": [
          0,
          0.45
         ]
        },
        "xaxis2": {
         "anchor": "y2",
         "domain": [
          0.55,
          1
         ]
        },
        "xaxis3": {
         "anchor": "y3",
         "domain": [
          0,
          0.45
         ]
        },
        "xaxis4": {
         "anchor": "y4",
         "domain": [
          0.55,
          1
         ]
        },
        "yaxis": {
         "anchor": "x",
         "domain": [
          0.625,
          1
         ]
        },
        "yaxis2": {
         "anchor": "x2",
         "domain": [
          0.625,
          1
         ]
        },
        "yaxis3": {
         "anchor": "x3",
         "domain": [
          0,
          0.375
         ]
        },
        "yaxis4": {
         "anchor": "x4",
         "domain": [
          0,
          0.375
         ]
        }
       }
      },
      "text/html": [
       "<div>                            <div id=\"58504ac8-1758-4c79-8a99-e10c152fd703\" class=\"plotly-graph-div\" style=\"height:525px; width:100%;\"></div>            <script type=\"text/javascript\">                require([\"plotly\"], function(Plotly) {                    window.PLOTLYENV=window.PLOTLYENV || {};                                    if (document.getElementById(\"58504ac8-1758-4c79-8a99-e10c152fd703\")) {                    Plotly.newPlot(                        \"58504ac8-1758-4c79-8a99-e10c152fd703\",                        [{\"mode\":\"lines\",\"x\":[0.0,1.0,2.0,3.0,4.0,5.0,6.0,7.0,8.0,9.0,10.0,11.0,12.0,13.0,14.0,15.0,16.0,17.0,18.0,19.0,20.0,21.0,22.0,23.0,24.0,25.0,26.0,27.0,28.0,29.0,30.0,31.0,32.0,33.0,34.0,35.0,36.0,37.0,38.0,39.0,40.0,41.0,42.0,43.0,44.0,45.0,46.0,47.0,48.0,49.0,50.0,51.0,52.0,53.0,54.0,55.0,56.0,57.0,58.0,59.0,60.0,61.0,62.0,63.0,64.0,65.0,66.0,67.0,68.0,69.0,70.0,71.0,72.0,73.0,74.0,75.0,76.0,77.0,78.0,79.0,80.0,81.0,82.0,83.0,84.0,85.0,86.0,87.0],\"y\":[7.520906358187627,7.481784672595981,7.34663727574227,7.124335263312511,6.824401773535459,6.456802440293603,6.031766343406312,5.559638737687392,5.050765855364849,4.5154114655800495,3.614726969872254,3.2470382523100376,2.6689292838903804,2.176390705075588,1.7174343792748847,1.2883667681879816,0.8434747263447823,0.5048374743132841,0.0829309612965664,-0.4490719509504559,-0.9677389300140986,-1.441970972785679,-2.0245624750520523,-2.4160641131831424,-2.6340839564180074,-2.763692691807204,-2.750368664405108,-2.6326329823901404,-2.325877398138329,-1.8363121911813167,-1.2424730355411369,-0.417259471524569,0.5091193410107437,1.3725130165521937,2.2717621546881506,3.18686611929639,3.913750245318061,4.56198689938346,5.100848158638278,5.328654643561251,5.466215547819084,5.490419506490517,5.680421783176315,5.462795269172673,5.409704585301086,5.078082080721078,4.597389640594887,4.276063297886743,3.881577547647691,3.588533474655053,3.776783312595008,3.790582865906394,3.770120757549485,3.8314949090550394,3.9019694721414457,3.8489738190160834,3.9419430091499126,4.079381717553595,3.9502957044132234,3.8707781212005927,3.941508012725476,4.025843357319924,3.936452246597341,3.9290048673189246,3.854391714043005,3.720818511506063,3.7268688380541097,3.896639335052651,4.216497446336611,4.541689424700943,4.719034718229746,4.788446748828909,4.951579725000158,5.069076516501777,4.8936146412362,4.963162207482641,4.971384618049329,5.024989471159298,5.187384338569222,5.293463004694612,5.389135966676927,5.357305911821582,5.449776401691769,5.597942878189854,5.606117954522917,5.757965486327518,5.807365868186,5.794651006239376,5.810154562151594,5.808649093064268,5.727771234355997,5.603281006113452,5.302829014075755,4.73232786784267,4.320499011907902,3.999534164228724,3.5647256062885693,3.145232682275661,2.3970022701862344,1.509348586822555,0.5908787527983503,-0.2230522491100925,-1.2521706697040382,-2.3031201025017176,-3.444119767428302,-4.542981680156041,-5.700824971051422,-6.554653005083181,-7.296806412940343,-7.720344369891131,-8.51653420636774,-9.132541362309944,-9.47303552414101,-8.736060176854384,-6.905014572660643,-4.211259998500706,-0.2958847511154751,4.6142208412568975,10.61795575983088,17.210922910823637,23.365516059853693,28.17254897509169,31.836775539603963,33.902295543129306,34.532256243710435,33.87052939573851,32.768943203657926,30.517225429802952,28.36282454889956,25.423830338147823,22.27534000065085,18.5765864937847,14.639631924560131,10.44109577038007,6.284974170469079,1.6246813826675932,-2.835645055536333,-6.985228751255697,-11.041451008084524,-14.89061680265862,-18.09977282640856,-20.87645384760602,-23.340165107161194,-25.0651979981466,-26.01646062485956,-25.9968232430354,-25.57732695009413,-24.30872858205689,-22.75655231597744,-20.82888596411645,-19.01809105005147,-17.08001432008462,-15.308882414020443,-13.803915884506893,-12.349061535316926,-11.1293251935538,-10.073413237256249,-9.377507866648251,-8.965090888088532,-8.76171532396147,-8.694888880301004,-8.847331746996485,-8.994445085175206,-9.132763325909426,-9.20877446439584,-9.393302173413764,-9.452039113859104,-9.595716819687862,-9.868342287725788,-10.086886422285364,-10.29032324181272,-10.574095315877594,-10.79530774129644,-10.966142193694813,-11.04473704698242,-11.147149205036458,-11.388027560209784,-11.352337476182424,-11.206286874397229,-10.901869152301709,-10.498746054393568,-9.823792704505834,-9.006777234861163,-8.238428016124953,-7.636651674822606,-7.1470513763327705,-6.802577593725274,-6.646912312269068,-6.480950851258141,-6.393305924449211,-6.576702661974772,-7.016098084741048,-7.551480673440952,-8.13548487027372,-9.039942841512218,-9.910793859159655,-10.43516845183409,-11.058722241326413,-11.59459905475928,-12.074461302077362,-12.452807872750247,-12.83302002009304,-13.316336771349423,-13.774916209200082,-13.833773240560744,-13.54623055368181,-13.32500776755343,-12.521879530121923,-15.940659892281143,-16.31325469623488,-16.256892194917704,-14.764499487743326,-11.516079073443889,-6.417635152825135,0.374038048245191,8.547508589721398,17.76701607505712,27.592685077592304,37.09836198180754],\"type\":\"scatter\",\"xaxis\":\"x\",\"yaxis\":\"y\"},{\"mode\":\"lines\",\"x\":[0.0,1.0,2.0,3.0,4.0,5.0,6.0,7.0,8.0,9.0,10.0,11.0,12.0,13.0,14.0,15.0,16.0,17.0,18.0,19.0,20.0,21.0,22.0,23.0,24.0,25.0,26.0,27.0,28.0,29.0,30.0,31.0,32.0,33.0,34.0,35.0,36.0,37.0,38.0,39.0,40.0,41.0,42.0,43.0,44.0,45.0,46.0,47.0,48.0,49.0,50.0,51.0,52.0,53.0,54.0,55.0,56.0,57.0,58.0,59.0,60.0,61.0,62.0,63.0,64.0,65.0,66.0,67.0,68.0,69.0,70.0,71.0,72.0,73.0,74.0,75.0,76.0,77.0,78.0,79.0,80.0,81.0,82.0,83.0,84.0,85.0,86.0,87.0],\"y\":[14.330424380242096,12.824318937555812,11.50095997400205,10.332207684469186,9.294836273624709,8.369552432349408,7.540229982345492,-396.539826785437,707.5471800692388,-8.82558361284233,-658.8093375107657,1256.3376528713009,-1756.6016678619546,1152.2475016577755,529.6614308813362,-794.5628332676105,-528.9463399193253,585.6922322688414,479.8386531383193,-361.0261879308396,-30.236866925165288,657.8602223986328,-1262.6116675235512,1727.5634341888988,-445.6776348586105,-858.0118193106315,-396.1858141130076,681.1387269638498,144.16021995183658,-1423.708205373722,1154.7769587761943,-996.8869470238428,1747.5073594184312,-1490.9194764795593,-799.2987325538562,303.0398382434452,743.5554793465365,101.78459768012694,-659.1906785460405,399.00670559930063,-70.20513702974884,193.42033695573312,1397.596593182738,-1964.552542124204,-126.46592025464832,703.2013212583649,-160.66713245264418,953.5410591040207,-1455.604133209194,634.296507030709,-292.9683002864876,199.7366161948929,-702.9715795451959,1075.9221495779177,-843.2934404199491,935.0399925416526,-341.2649646921788,-212.62133443412048,624.4373989073422,-231.82036452393095,592.5255026724923,142.4094116800862,-910.8156014009628,827.1687970500828,181.37652275212892,-375.28829002729503,-144.11319098410547,-503.7241869793515,-34.49283281192705,315.19781761002736,-519.1470309778363,131.88120642073486,784.0888293236277,-1131.55043748118,622.9516037282774,177.6507040674248,-497.660606235783,248.3801281205152,-516.3928138130982,881.4950354983634,-433.3438722815098,72.98275135770743,249.9631250202996,-497.3913476929453,233.05640766160707,-348.7815211124097,19.87604500330864,-575.5822071353431,978.6838442823724,-453.6997504756183,514.5708449301168,339.2477867553304,-1266.1938910289764,1341.135693690138,-393.5394713904348,-127.33040560392806,304.0091552547044,-785.3942537201526,1048.380128134232,-12.929900893790162,-537.850956008707,575.0314597734686,-402.21068271174886,376.10256888287154,-88.71192956721266,-74.56506649492125,99.1053422456952,964.9745694192268,-464.11613310986434,-400.8669159466172,64.89343533033531,-651.9313699909842,1362.079012286292,-1911.098860885456,971.0774382521308,-591.6023196121631,428.0472874866942,594.1949864743157,199.06703040961432,-1263.7684735600692,473.0416323674986,-93.12541992691206,1023.0458849034476,-764.2448693751395,-738.3066743260807,358.35771843888864,121.57345710374804,-598.3485959942176,-273.32507601201814,-336.66431220396873,-895.4856426681612,330.0680265855456,-555.8334888769094,1078.8095338767469,-870.4228164340013,1129.2691697593614,-512.8835714824683,49.92914299762896,-300.71571968150533,-73.94502111417411,681.7808136968874,-770.9726405702604,760.3249270866237,-1270.1010477119137,1952.5324193232063,-962.1927747658395,-652.766107075603,1610.4140217295771,-648.3292134268696,1570.8111678314192,-1852.8720890046116,-311.0643954706658,-556.5192380942854,108.18620817404056,1503.4450407205036,-3134.1604209435773,-923.2392943248602,747.1746859784556,1161.8874368405484,-1999.228732975174,913.510409701197,240.28212465314303,-1684.6451650461956,1631.9757650908607,-1418.282077578083,-2086.726191820344,2399.5726307177765,957.5480340135236,-2512.6173848536223,2147.5967077525747,-577.8251141825024,921.619759213061,827.7253295214107,-293.97880913602137,-586.1016315516712,1971.0938056127957,-833.6938528536862,417.939644781165,3087.6317363945213,-2034.1813971452325,-665.1959932703053,559.7393515113622,977.3257739240198,35.92485393807499,750.9138172399928,-968.853824923716,787.9563929417827,-1741.9521355744382,1606.7779160012717,1613.175687685299,-1144.8352546021415,817.946149966866,-319.2426048784079,-605.7219970378039,-155.78031742673818,466.7198994940304,482.1606241421422,287.94435980557165,-1335.3010825234066,-595.7847397393541,1873.2095600097955,-911.2244610179132,286.3383904416894,425.0043414286141,-795.7860032590245,9221.7227845542,-14939.707715273664,4818.376848966999,-669.0858532123428,-373.243467766093,-215.44977753865035,-74.96594770269382,33.703688472552344,107.0771815310847,149.2039609400464,167.48048764417624,null],\"type\":\"scatter\",\"xaxis\":\"x3\",\"yaxis\":\"y3\"},{\"mode\":\"lines\",\"x\":[0.0,1.0,2.0,3.0,4.0,5.0,6.0,7.0,8.0,9.0,10.0,11.0,12.0,13.0,14.0,15.0,16.0,17.0,18.0,19.0,20.0,21.0,22.0,23.0,24.0,25.0,26.0,27.0,28.0,29.0,30.0,31.0,32.0,33.0,34.0,35.0,36.0,37.0,38.0,39.0,40.0,41.0,42.0,43.0,44.0,45.0,46.0,47.0,48.0,49.0,50.0,51.0,52.0,53.0,54.0,55.0,56.0,57.0,58.0,59.0,60.0,61.0,62.0,63.0,64.0,65.0,66.0,67.0,68.0,69.0,70.0,71.0,72.0,73.0,74.0,75.0,76.0,77.0,78.0,79.0,80.0,81.0,82.0,83.0,84.0,85.0,86.0,87.0],\"y\":[17.384725805775073,17.314706429852116,17.341203422801744,17.45233561312008,17.635254244872684,17.87647421866011,18.16217620349464,18.478468339379845,18.811598502169907,19.14811057635324,19.488341495634845,19.66310754053275,19.868620573733992,20.180589726323635,20.25760086116479,20.398390482835843,20.550956130296736,20.65863109231747,20.810572530396,20.9456637136528,21.00493996082133,20.95158394750338,21.191864732126984,21.34548946383604,21.55349199041794,21.649942205351078,21.74416800716804,21.81492018287277,22.022640314571245,21.881910175982487,21.926888744875164,22.036480603633297,22.051137278670083,21.855307628711493,21.533961706682277,20.9961282525969,20.40888411686448,19.643629375076205,18.575190191639493,17.84177330684579,17.092029762997015,16.411148630830606,15.39874263648082,14.719059670898744,13.98519688430561,13.357143112412686,12.768274682429285,12.222183537402875,11.724053541999671,11.303453004200597,10.576586303501273,9.765750816238889,8.969244548985808,7.791127668877714,6.848469702127139,6.056242198438905,4.989648922223078,3.792481592719144,3.103738052580252,2.3534422381666675,1.541982798248447,0.6132021318654084,-0.0113358842115688,-0.6404103624915687,-1.353014395787743,-1.6607050879490293,-1.865101454712237,-2.0892167626590585,-2.3935295978240347,-2.6252925226609096,-2.7758443783622164,-2.652190762019445,-2.854229829646779,-2.774190243190777,-2.3570343879579525,-2.390053818404449,-2.392753835058436,-2.574147275210404,-2.8833962577258885,-3.284802319282648,-3.724021485244525,-3.970989693850943,-4.380092133619243,-4.830584351380187,-4.995794237053318,-5.324816817765572,-5.527385031775615,-5.664886577023274,-5.843987621095206,-5.925350352712674,-5.833666818784112,-5.749227420085835,-5.452773105486398,-4.862411819338327,-4.530134024123833,-4.286364295867621,-3.9420252232875983,-3.628316777879423,-3.035872060322116,-2.3327545423292606,-1.6122789043430057,-1.041509310290051,-0.3020047540626935,0.4834001517992455,1.3042586024525908,2.093870250295428,2.896791420174345,3.5333297600506,4.173335121473271,4.657668437824818,5.3683021241031375,6.03331450101721,6.669700555074097,6.928639598564973,6.990665948734198,7.149816623528787,7.288670699493423,7.698024492062046,8.241114853233098,8.852565389967804,9.847098573049132,11.262741500361129,12.765096986269578,14.636737484043524,16.49391691973728,18.626369163991253,20.431912953135583,22.35300860118212,24.128466891068346,25.6729188868712,26.406459617950176,26.34371096620181,25.783840198516877,24.591362278539783,23.11296255814461,21.37537086083788,19.20579498845487,16.61782736249834,13.676587726580818,10.584824801202942,7.173016015244089,3.720526743705424,0.4436868658481275,-2.652973359899421,-5.389932537944776,-7.706294117434873,-9.709249505545522,-11.515849053616773,-13.228071230397232,-14.744342489879564,-15.980884207274633,-16.82778584624934,-17.359423459062853,-17.895742786775905,-18.364881919384658,-18.89740091519111,-19.39125903831144,-19.79072953577954,-20.269398012755094,-20.562339549062376,-20.8646016807944,-20.869485267144125,-20.681673306652783,-20.27834367711652,-19.418714439523143,-18.09198778109577,-16.520782011368794,-14.572523128228603,-12.229079066271344,-9.619694759649724,-6.826153617881776,-4.02643390324257,-1.3175867573983484,1.1331023763530343,3.26596884258964,5.023222612013146,6.323865193655177,7.084151748152428,7.420533294282755,7.396050788784596,6.947067906307835,6.07218296479597,4.952150489747474,3.900026041429055,2.86034957968606,1.7284914995835432,0.9178543000293234,0.2268223067513836,-0.1755157944950366,-0.4802584660994408,-0.5916848383337951,-0.6212345474302707,-0.597420738479803,-0.5304894880115046,-0.4796012753421068,-0.4722707524781683,-0.4714716299917567,-0.4077791872252061,-0.3169813051264761,-0.3184240256589195,-0.2964449925166509,-0.1586389059214969,0.2586294319315411,0.8614880220611657,1.5974041617888963,2.283112669514966,2.9445811422934502,3.320453887789724,7.785814776972314,8.772441678758891,10.181606922889378,10.69379061813468,10.142325279584885,8.339036211038854,5.02499682679018,-0.234177083232566,-8.282958384545315,-20.782870236622767,-40.15324925828263],\"type\":\"scatter\",\"xaxis\":\"x2\",\"yaxis\":\"y2\"},{\"mode\":\"lines\",\"x\":[0.0,1.0,2.0,3.0,4.0,5.0,6.0,7.0,8.0,9.0,10.0,11.0,12.0,13.0,14.0,15.0,16.0,17.0,18.0,19.0,20.0,21.0,22.0,23.0,24.0,25.0,26.0,27.0,28.0,29.0,30.0,31.0,32.0,33.0,34.0,35.0,36.0,37.0,38.0,39.0,40.0,41.0,42.0,43.0,44.0,45.0,46.0,47.0,48.0,49.0,50.0,51.0,52.0,53.0,54.0,55.0,56.0,57.0,58.0,59.0,60.0,61.0,62.0,63.0,64.0,65.0,66.0,67.0,68.0,69.0,70.0,71.0,72.0,73.0,74.0,75.0,76.0,77.0,78.0,79.0,80.0,81.0,82.0,83.0,84.0,85.0,86.0,87.0],\"y\":[-68.5812448737589,-65.45949395459493,-63.11429029215018,-61.45329094309043,-60.40446650797296,-59.91218440568913,-59.934152187415656,-378.2840258999822,473.2202730966246,-438.5146556771948,-205.0438978614526,102.88063746720243,794.9984277465926,-1187.824969829269,-196.7015337139364,895.3221183416721,-273.22841753151226,-164.78541403068715,676.3937469995517,-651.4100592081976,604.6352087161787,-740.5513666436522,987.1491406201844,-835.7604954591327,-325.7319761176425,1421.3269205147626,-328.52943498944666,653.4746718661817,-1438.8671751020818,454.81782546350775,-172.04496927741636,94.3967408953773,-41.89273247078018,169.1150038808132,600.0901377677983,-435.15770606474456,666.4284822346388,-901.1995000917932,1103.589013030931,-529.4152518671289,-413.0488766775687,951.0461927380578,-1658.620193042142,1627.7763393392393,-77.62617095049428,81.76141948261395,94.92569781696103,-828.8754705123654,530.5300648454008,558.9688916842437,-318.05364554208006,361.9849912719064,-557.0806553761279,584.255369350217,528.2084871423247,-1188.519591687968,94.00541421038476,1397.80702272403,-2801.6625948090395,1619.4568786333004,-482.84717538609056,-1368.443237690216,1857.9319654715437,-691.8211652244976,516.799053842931,953.7786386365063,-488.1231719566758,-793.9684740667116,1950.6264180886687,-1752.0869879937338,381.6015138852204,1077.2803191357934,-1020.4175537385072,562.1052717641201,-1231.0955907198395,107.72590739125836,1264.3095130871015,-1811.4366395431664,1967.0542580126776,-1946.623067754874,523.7032095645302,526.5416425540319,-786.5817057338734,2479.6773287683254,-1240.9688503321577,-796.3071382084794,906.6431702888397,1890.599271926935,-1157.687822769141,991.8158936567014,844.3274012051991,-3929.9486334934254,2599.4779922372245,-1413.3605333184323,362.7245561124191,685.9438384741294,-1027.6926828716682,746.4903108363701,-1792.290775429252,128.44066824494965,390.873857827052,-804.830835780967,652.8064949566682,-526.8182920116363,-814.5318918218089,1899.693886543724,-542.2137203212793,-327.18151460052945,-57.95381562633374,1006.5933876779278,-862.2607191282136,1058.352415517802,-694.7295745380767,1366.6680110904008,-1384.7463933976774,762.2386332660499,-1207.5027674295338,-366.1992366797408,-696.4090928600493,1235.2390699070336,-130.31545067100132,262.8542747691845,-980.46851626735,398.7363444098099,2066.200039812937,-796.2236875930012,-384.5890788175199,291.46570597157705,481.2636604090341,684.9705386954541,574.1964896849292,60.97692914624275,549.2444541832028,-1379.1521226317257,1195.6591541220637,-1332.3950115827683,1111.358985586029,137.2764088316347,338.05327799245475,434.1485419278164,-1116.395587179155,701.4709448183792,-202.3994254361914,2861.0246072554646,-2896.366416795471,3487.8731868366226,520.6718783341194,-2054.9615876943026,211.3408950275444,-363.8365562032648,305.6409104814141,-3342.4390777479957,9316.647910251284,-2304.840082010156,-1383.4332655553148,-3551.0114281801207,944.20663262164,-1876.5880331693893,3880.8889047917146,-6301.558792362011,2166.252405545673,723.0554106321439,-3813.189925513852,2146.300543032812,-2269.079628118936,25.06020300310807,906.741951435336,-1547.9832906072731,-1.403420406915323,-454.11070521980736,-2019.92242142322,2786.957187216261,-3324.699153190056,1291.6112695061038,-356.7643826207756,2256.1696665057016,-1059.8367791057108,965.8202602400684,-3659.042044011801,4673.834095744414,667.1825380733496,-1558.1164694424697,-419.0121471356448,999.38742271694,923.3467933500924,-1741.8287659297434,-566.4627231439388,460.3597271755706,-1156.3370071730749,-1109.0663212021936,1474.2503095161949,-740.0432270670105,250.78543298177803,42.16659721612359,-229.2747899597707,-402.43180906569177,590.3131101364032,-84.39133288197276,-115.57599725772904,954.0181492011532,-230.56394919132293,-623.5349031606083,846.9983742395347,492.3955932166126,213.3219865338777,-20369.860925588007,30857.565845851685,-8171.21738562515,1685.7534950553404,1515.14229122491,1560.1462010247226,1477.9314226881688,1157.0522542689234,565.7203153670096,-158.5236671554586,-770.233662804884,null],\"type\":\"scatter\",\"xaxis\":\"x4\",\"yaxis\":\"y4\"}],                        {\"template\":{\"data\":{\"histogram2dcontour\":[{\"type\":\"histogram2dcontour\",\"colorbar\":{\"outlinewidth\":0,\"ticks\":\"\"},\"colorscale\":[[0.0,\"#0d0887\"],[0.1111111111111111,\"#46039f\"],[0.2222222222222222,\"#7201a8\"],[0.3333333333333333,\"#9c179e\"],[0.4444444444444444,\"#bd3786\"],[0.5555555555555556,\"#d8576b\"],[0.6666666666666666,\"#ed7953\"],[0.7777777777777778,\"#fb9f3a\"],[0.8888888888888888,\"#fdca26\"],[1.0,\"#f0f921\"]]}],\"choropleth\":[{\"type\":\"choropleth\",\"colorbar\":{\"outlinewidth\":0,\"ticks\":\"\"}}],\"histogram2d\":[{\"type\":\"histogram2d\",\"colorbar\":{\"outlinewidth\":0,\"ticks\":\"\"},\"colorscale\":[[0.0,\"#0d0887\"],[0.1111111111111111,\"#46039f\"],[0.2222222222222222,\"#7201a8\"],[0.3333333333333333,\"#9c179e\"],[0.4444444444444444,\"#bd3786\"],[0.5555555555555556,\"#d8576b\"],[0.6666666666666666,\"#ed7953\"],[0.7777777777777778,\"#fb9f3a\"],[0.8888888888888888,\"#fdca26\"],[1.0,\"#f0f921\"]]}],\"heatmap\":[{\"type\":\"heatmap\",\"colorbar\":{\"outlinewidth\":0,\"ticks\":\"\"},\"colorscale\":[[0.0,\"#0d0887\"],[0.1111111111111111,\"#46039f\"],[0.2222222222222222,\"#7201a8\"],[0.3333333333333333,\"#9c179e\"],[0.4444444444444444,\"#bd3786\"],[0.5555555555555556,\"#d8576b\"],[0.6666666666666666,\"#ed7953\"],[0.7777777777777778,\"#fb9f3a\"],[0.8888888888888888,\"#fdca26\"],[1.0,\"#f0f921\"]]}],\"heatmapgl\":[{\"type\":\"heatmapgl\",\"colorbar\":{\"outlinewidth\":0,\"ticks\":\"\"},\"colorscale\":[[0.0,\"#0d0887\"],[0.1111111111111111,\"#46039f\"],[0.2222222222222222,\"#7201a8\"],[0.3333333333333333,\"#9c179e\"],[0.4444444444444444,\"#bd3786\"],[0.5555555555555556,\"#d8576b\"],[0.6666666666666666,\"#ed7953\"],[0.7777777777777778,\"#fb9f3a\"],[0.8888888888888888,\"#fdca26\"],[1.0,\"#f0f921\"]]}],\"contourcarpet\":[{\"type\":\"contourcarpet\",\"colorbar\":{\"outlinewidth\":0,\"ticks\":\"\"}}],\"contour\":[{\"type\":\"contour\",\"colorbar\":{\"outlinewidth\":0,\"ticks\":\"\"},\"colorscale\":[[0.0,\"#0d0887\"],[0.1111111111111111,\"#46039f\"],[0.2222222222222222,\"#7201a8\"],[0.3333333333333333,\"#9c179e\"],[0.4444444444444444,\"#bd3786\"],[0.5555555555555556,\"#d8576b\"],[0.6666666666666666,\"#ed7953\"],[0.7777777777777778,\"#fb9f3a\"],[0.8888888888888888,\"#fdca26\"],[1.0,\"#f0f921\"]]}],\"surface\":[{\"type\":\"surface\",\"colorbar\":{\"outlinewidth\":0,\"ticks\":\"\"},\"colorscale\":[[0.0,\"#0d0887\"],[0.1111111111111111,\"#46039f\"],[0.2222222222222222,\"#7201a8\"],[0.3333333333333333,\"#9c179e\"],[0.4444444444444444,\"#bd3786\"],[0.5555555555555556,\"#d8576b\"],[0.6666666666666666,\"#ed7953\"],[0.7777777777777778,\"#fb9f3a\"],[0.8888888888888888,\"#fdca26\"],[1.0,\"#f0f921\"]]}],\"mesh3d\":[{\"type\":\"mesh3d\",\"colorbar\":{\"outlinewidth\":0,\"ticks\":\"\"}}],\"scatter\":[{\"fillpattern\":{\"fillmode\":\"overlay\",\"size\":10,\"solidity\":0.2},\"type\":\"scatter\"}],\"parcoords\":[{\"type\":\"parcoords\",\"line\":{\"colorbar\":{\"outlinewidth\":0,\"ticks\":\"\"}}}],\"scatterpolargl\":[{\"type\":\"scatterpolargl\",\"marker\":{\"colorbar\":{\"outlinewidth\":0,\"ticks\":\"\"}}}],\"bar\":[{\"error_x\":{\"color\":\"#2a3f5f\"},\"error_y\":{\"color\":\"#2a3f5f\"},\"marker\":{\"line\":{\"color\":\"#E5ECF6\",\"width\":0.5},\"pattern\":{\"fillmode\":\"overlay\",\"size\":10,\"solidity\":0.2}},\"type\":\"bar\"}],\"scattergeo\":[{\"type\":\"scattergeo\",\"marker\":{\"colorbar\":{\"outlinewidth\":0,\"ticks\":\"\"}}}],\"scatterpolar\":[{\"type\":\"scatterpolar\",\"marker\":{\"colorbar\":{\"outlinewidth\":0,\"ticks\":\"\"}}}],\"histogram\":[{\"marker\":{\"pattern\":{\"fillmode\":\"overlay\",\"size\":10,\"solidity\":0.2}},\"type\":\"histogram\"}],\"scattergl\":[{\"type\":\"scattergl\",\"marker\":{\"colorbar\":{\"outlinewidth\":0,\"ticks\":\"\"}}}],\"scatter3d\":[{\"type\":\"scatter3d\",\"line\":{\"colorbar\":{\"outlinewidth\":0,\"ticks\":\"\"}},\"marker\":{\"colorbar\":{\"outlinewidth\":0,\"ticks\":\"\"}}}],\"scattermapbox\":[{\"type\":\"scattermapbox\",\"marker\":{\"colorbar\":{\"outlinewidth\":0,\"ticks\":\"\"}}}],\"scatterternary\":[{\"type\":\"scatterternary\",\"marker\":{\"colorbar\":{\"outlinewidth\":0,\"ticks\":\"\"}}}],\"scattercarpet\":[{\"type\":\"scattercarpet\",\"marker\":{\"colorbar\":{\"outlinewidth\":0,\"ticks\":\"\"}}}],\"carpet\":[{\"aaxis\":{\"endlinecolor\":\"#2a3f5f\",\"gridcolor\":\"white\",\"linecolor\":\"white\",\"minorgridcolor\":\"white\",\"startlinecolor\":\"#2a3f5f\"},\"baxis\":{\"endlinecolor\":\"#2a3f5f\",\"gridcolor\":\"white\",\"linecolor\":\"white\",\"minorgridcolor\":\"white\",\"startlinecolor\":\"#2a3f5f\"},\"type\":\"carpet\"}],\"table\":[{\"cells\":{\"fill\":{\"color\":\"#EBF0F8\"},\"line\":{\"color\":\"white\"}},\"header\":{\"fill\":{\"color\":\"#C8D4E3\"},\"line\":{\"color\":\"white\"}},\"type\":\"table\"}],\"barpolar\":[{\"marker\":{\"line\":{\"color\":\"#E5ECF6\",\"width\":0.5},\"pattern\":{\"fillmode\":\"overlay\",\"size\":10,\"solidity\":0.2}},\"type\":\"barpolar\"}],\"pie\":[{\"automargin\":true,\"type\":\"pie\"}]},\"layout\":{\"autotypenumbers\":\"strict\",\"colorway\":[\"#636efa\",\"#EF553B\",\"#00cc96\",\"#ab63fa\",\"#FFA15A\",\"#19d3f3\",\"#FF6692\",\"#B6E880\",\"#FF97FF\",\"#FECB52\"],\"font\":{\"color\":\"#2a3f5f\"},\"hovermode\":\"closest\",\"hoverlabel\":{\"align\":\"left\"},\"paper_bgcolor\":\"white\",\"plot_bgcolor\":\"#E5ECF6\",\"polar\":{\"bgcolor\":\"#E5ECF6\",\"angularaxis\":{\"gridcolor\":\"white\",\"linecolor\":\"white\",\"ticks\":\"\"},\"radialaxis\":{\"gridcolor\":\"white\",\"linecolor\":\"white\",\"ticks\":\"\"}},\"ternary\":{\"bgcolor\":\"#E5ECF6\",\"aaxis\":{\"gridcolor\":\"white\",\"linecolor\":\"white\",\"ticks\":\"\"},\"baxis\":{\"gridcolor\":\"white\",\"linecolor\":\"white\",\"ticks\":\"\"},\"caxis\":{\"gridcolor\":\"white\",\"linecolor\":\"white\",\"ticks\":\"\"}},\"coloraxis\":{\"colorbar\":{\"outlinewidth\":0,\"ticks\":\"\"}},\"colorscale\":{\"sequential\":[[0.0,\"#0d0887\"],[0.1111111111111111,\"#46039f\"],[0.2222222222222222,\"#7201a8\"],[0.3333333333333333,\"#9c179e\"],[0.4444444444444444,\"#bd3786\"],[0.5555555555555556,\"#d8576b\"],[0.6666666666666666,\"#ed7953\"],[0.7777777777777778,\"#fb9f3a\"],[0.8888888888888888,\"#fdca26\"],[1.0,\"#f0f921\"]],\"sequentialminus\":[[0.0,\"#0d0887\"],[0.1111111111111111,\"#46039f\"],[0.2222222222222222,\"#7201a8\"],[0.3333333333333333,\"#9c179e\"],[0.4444444444444444,\"#bd3786\"],[0.5555555555555556,\"#d8576b\"],[0.6666666666666666,\"#ed7953\"],[0.7777777777777778,\"#fb9f3a\"],[0.8888888888888888,\"#fdca26\"],[1.0,\"#f0f921\"]],\"diverging\":[[0,\"#8e0152\"],[0.1,\"#c51b7d\"],[0.2,\"#de77ae\"],[0.3,\"#f1b6da\"],[0.4,\"#fde0ef\"],[0.5,\"#f7f7f7\"],[0.6,\"#e6f5d0\"],[0.7,\"#b8e186\"],[0.8,\"#7fbc41\"],[0.9,\"#4d9221\"],[1,\"#276419\"]]},\"xaxis\":{\"gridcolor\":\"white\",\"linecolor\":\"white\",\"ticks\":\"\",\"title\":{\"standoff\":15},\"zerolinecolor\":\"white\",\"automargin\":true,\"zerolinewidth\":2},\"yaxis\":{\"gridcolor\":\"white\",\"linecolor\":\"white\",\"ticks\":\"\",\"title\":{\"standoff\":15},\"zerolinecolor\":\"white\",\"automargin\":true,\"zerolinewidth\":2},\"scene\":{\"xaxis\":{\"backgroundcolor\":\"#E5ECF6\",\"gridcolor\":\"white\",\"linecolor\":\"white\",\"showbackground\":true,\"ticks\":\"\",\"zerolinecolor\":\"white\",\"gridwidth\":2},\"yaxis\":{\"backgroundcolor\":\"#E5ECF6\",\"gridcolor\":\"white\",\"linecolor\":\"white\",\"showbackground\":true,\"ticks\":\"\",\"zerolinecolor\":\"white\",\"gridwidth\":2},\"zaxis\":{\"backgroundcolor\":\"#E5ECF6\",\"gridcolor\":\"white\",\"linecolor\":\"white\",\"showbackground\":true,\"ticks\":\"\",\"zerolinecolor\":\"white\",\"gridwidth\":2}},\"shapedefaults\":{\"line\":{\"color\":\"#2a3f5f\"}},\"annotationdefaults\":{\"arrowcolor\":\"#2a3f5f\",\"arrowhead\":0,\"arrowwidth\":1},\"geo\":{\"bgcolor\":\"white\",\"landcolor\":\"#E5ECF6\",\"subunitcolor\":\"white\",\"showland\":true,\"showlakes\":true,\"lakecolor\":\"white\"},\"title\":{\"x\":0.05},\"mapbox\":{\"style\":\"light\"}}},\"xaxis\":{\"anchor\":\"y\",\"domain\":[0.0,0.45]},\"yaxis\":{\"anchor\":\"x\",\"domain\":[0.625,1.0]},\"xaxis2\":{\"anchor\":\"y2\",\"domain\":[0.55,1.0]},\"yaxis2\":{\"anchor\":\"x2\",\"domain\":[0.625,1.0]},\"xaxis3\":{\"anchor\":\"y3\",\"domain\":[0.0,0.45]},\"yaxis3\":{\"anchor\":\"x3\",\"domain\":[0.0,0.375]},\"xaxis4\":{\"anchor\":\"y4\",\"domain\":[0.55,1.0]},\"yaxis4\":{\"anchor\":\"x4\",\"domain\":[0.0,0.375]},\"annotations\":[{\"font\":{\"size\":16},\"showarrow\":false,\"text\":\"Error Angle (theta)\",\"x\":0.225,\"xanchor\":\"center\",\"xref\":\"paper\",\"y\":1.0,\"yanchor\":\"bottom\",\"yref\":\"paper\"},{\"font\":{\"size\":16},\"showarrow\":false,\"text\":\"Error Angle (phi)\",\"x\":0.775,\"xanchor\":\"center\",\"xref\":\"paper\",\"y\":1.0,\"yanchor\":\"bottom\",\"yref\":\"paper\"},{\"font\":{\"size\":16},\"showarrow\":false,\"text\":\"Angular Speed (theta)\",\"x\":0.225,\"xanchor\":\"center\",\"xref\":\"paper\",\"y\":0.375,\"yanchor\":\"bottom\",\"yref\":\"paper\"},{\"font\":{\"size\":16},\"showarrow\":false,\"text\":\"Angular speed (phi)\",\"x\":0.775,\"xanchor\":\"center\",\"xref\":\"paper\",\"y\":0.375,\"yanchor\":\"bottom\",\"yref\":\"paper\"}]},                        {\"responsive\": true}                    ).then(function(){\n",
       "                            \n",
       "var gd = document.getElementById('58504ac8-1758-4c79-8a99-e10c152fd703');\n",
       "var x = new MutationObserver(function (mutations, observer) {{\n",
       "        var display = window.getComputedStyle(gd).display;\n",
       "        if (!display || display === 'none') {{\n",
       "            console.log([gd, 'removed!']);\n",
       "            Plotly.purge(gd);\n",
       "            observer.disconnect();\n",
       "        }}\n",
       "}});\n",
       "\n",
       "// Listen for the removal of the full notebook cells\n",
       "var notebookContainer = gd.closest('#notebook-container');\n",
       "if (notebookContainer) {{\n",
       "    x.observe(notebookContainer, {childList: true});\n",
       "}}\n",
       "\n",
       "// Listen for the clearing of the current output cell\n",
       "var outputEl = gd.closest('.output');\n",
       "if (outputEl) {{\n",
       "    x.observe(outputEl, {childList: true});\n",
       "}}\n",
       "\n",
       "                        })                };                });            </script>        </div>"
      ]
     },
     "metadata": {},
     "output_type": "display_data"
    },
    {
     "data": {
      "application/vnd.plotly.v1+json": {
       "config": {
        "plotlyServerURL": "https://plot.ly"
       },
       "data": [
        {
         "mode": "lines",
         "type": "scatter",
         "x": [
          0,
          1,
          2,
          3,
          4,
          5,
          6,
          7,
          8,
          9,
          10,
          11,
          12,
          13,
          14,
          15,
          16,
          17,
          18,
          19,
          20,
          21,
          22,
          23,
          24,
          25,
          26,
          27,
          28,
          29,
          30,
          31,
          32,
          33,
          34,
          35,
          36,
          37,
          38,
          39,
          40,
          41,
          42,
          43,
          44,
          45,
          46,
          47,
          48,
          49,
          50,
          51,
          52,
          53,
          54,
          55,
          56,
          57,
          58,
          59,
          60,
          61,
          62,
          63,
          64,
          65,
          66,
          67,
          68,
          69,
          70,
          71,
          72,
          73,
          74,
          75,
          76,
          77,
          78,
          79,
          80,
          81,
          82,
          83,
          84,
          85,
          86,
          87
         ],
         "xaxis": "x",
         "y": [
          36.54352389744031,
          34.84551867966767,
          33.19896291475008,
          31.59164198832405,
          30.0157334864942,
          28.467053128703235,
          26.944526767790748,
          25.449811073025074,
          23.987009261681163,
          22.56244423405483,
          20.48854925488325,
          19.355478510761632,
          18.10035641098806,
          17.20185829398157,
          16.420728800031227,
          15.770467896875951,
          15.007992082454756,
          14.289837524163588,
          13.746147778638177,
          13.498594235810746,
          13.003003680207865,
          12.443313950106976,
          11.532060436039645,
          10.24224011201562,
          8.56384050014199,
          6.6927696205881535,
          4.652376796732161,
          2.441320803963444,
          0.0841077981146732,
          -2.175507618883405,
          -4.298263566519687,
          -6.418085691402923,
          -8.154090203515672,
          -9.667036038115024,
          -11.05371759947222,
          -12.106136527764694,
          -12.870335363326904,
          -13.485127508452216,
          -13.929690145667584,
          -14.35315948881382,
          -14.670350747260766,
          -15.11284350927344,
          -15.655813002759222,
          -15.87465784961309,
          -16.0393983942368,
          -16.33189357907559,
          -16.936478402129623,
          -17.7692014002449,
          -18.94345852066912,
          -20.240678332060877,
          -21.66627220482205,
          -22.924313135956474,
          -24.23175818518957,
          -25.70709436765286,
          -26.940853886095685,
          -28.06366473385549,
          -29.0794381921364,
          -29.705946993612653,
          -30.00684716562218,
          -30.065518098831888,
          -29.84033964043817,
          -29.22477000357209,
          -28.423492187440985,
          -27.533600282671184,
          -26.509176880405445,
          -25.344022858597743,
          -24.05298892276326,
          -22.49402353859115,
          -20.725407610445448,
          -18.84665865715069,
          -17.103541752495584,
          -15.547262744223143,
          -13.947992660512908,
          -12.362645501782843,
          -11.028858568652009,
          -9.739420786166576,
          -8.33213801258581,
          -6.751340353891907,
          -5.342818593649817,
          -4.224043496740122,
          -3.319278946355217,
          -2.748613908931676,
          -2.23931391831913,
          -1.880409248860143,
          -1.6289612523023598,
          -1.6172192632217106,
          -1.6777910820774682,
          -1.7673708185884751,
          -1.9883711686658043,
          -2.5895003060534902,
          -2.9035619995517443,
          -3.3885898969602453,
          -3.885333160060057,
          -4.666813777972624,
          -5.53301377032311,
          -6.401804269715471,
          -7.505180697743241,
          -8.64334767343045,
          -9.953851755154645,
          -11.225787454200027,
          -12.58592895212021,
          -13.895138015788255,
          -14.993167389593747,
          -15.590053353248091,
          -15.99262674579385,
          -16.022219671707322,
          -15.774469814241897,
          -15.304997302232817,
          -14.51748353447612,
          -13.405629332291351,
          -12.289443776425257,
          -11.058870120241494,
          -9.76229699401838,
          -8.505180840759751,
          -7.239183035127581,
          -5.824752261704067,
          -4.396324965393776,
          -3.2935155715512794,
          -2.343959342513412,
          -1.7369223142643466,
          -1.6107776981623303,
          -1.4769374653507883,
          -1.4707661092375397,
          -2.151827608024248,
          -3.1438588358149624,
          -4.424366068857831,
          -5.775825332257782,
          -6.99863588142636,
          -8.36165849799861,
          -9.46995335280565,
          -10.52036220210522,
          -11.038721100495188,
          -11.74310471586008,
          -11.903663643654786,
          -11.695338630632044,
          -11.487702938987535,
          -10.971871531641822,
          -10.162263139974677,
          -9.234129678628191,
          -7.932208499350026,
          -6.415596123739135,
          -4.992537774034793,
          -3.940110807396631,
          -2.9163957643407508,
          -1.6268071344866388,
          -0.212411070331049,
          1.466199101680813,
          2.805409411771536,
          3.943545616943485,
          5.071411618129743,
          6.323708202473522,
          6.8915782732942725,
          7.690852410843999,
          8.139947529442322,
          8.531437068151996,
          9.017797503914291,
          9.760720510391186,
          9.0307311820469,
          9.171588658556178,
          9.074009769406029,
          9.332288956771093,
          10.476582420967992,
          12.905483886769572,
          17.101410498173998,
          23.628181345439817,
          33.06621352121685,
          45.81733781152576,
          61.77898554981815,
          80.134266566592
         ],
         "yaxis": "y"
        },
        {
         "mode": "lines",
         "type": "scatter",
         "x": [
          0,
          1,
          2,
          3,
          4,
          5,
          6,
          7,
          8,
          9,
          10,
          11,
          12,
          13,
          14,
          15,
          16,
          17,
          18,
          19,
          20,
          21,
          22,
          23,
          24,
          25,
          26,
          27,
          28,
          29,
          30,
          31,
          32,
          33,
          34,
          35,
          36,
          37,
          38,
          39,
          40,
          41,
          42,
          43,
          44,
          45,
          46,
          47,
          48,
          49,
          50,
          51,
          52,
          53,
          54,
          55,
          56,
          57,
          58,
          59,
          60,
          61,
          62,
          63,
          64,
          65,
          66,
          67,
          68,
          69,
          70,
          71,
          72,
          73,
          74,
          75,
          76,
          77,
          78,
          79,
          80,
          81,
          82,
          83,
          84,
          85,
          86,
          87
         ],
         "xaxis": "x3",
         "y": [
          163.92089368829056,
          -232.2894603927512,
          -574.4589023984652,
          -793.3692557897008,
          -878.6903131951905,
          -862.7440814107761,
          -789.0282439520124,
          308.04747382588715,
          -344.98792206765575,
          -5207.463733496851,
          2186.463671721065,
          2106.114560031502,
          -677.3334206372273,
          -1169.2124078931429,
          -544.6308596244224,
          1451.517079941621,
          -1861.1654294650143,
          1941.360343660417,
          -169.6045215447013,
          -499.1625207590784,
          110.57301151481514,
          1397.3234546653323,
          -857.8886052694661,
          -360.5567899798184,
          1011.1823144515356,
          -318.2341711911833,
          -38.99790366627131,
          -547.9691119708043,
          578.6125018674882,
          1170.6539600035258,
          -20.671539695579444,
          -1027.1088223791355,
          825.5471388906308,
          1302.8139994294258,
          -846.1301005983036,
          -164.2392455102186,
          2164.76248786558,
          -1416.6406661031256,
          -998.3245159635854,
          -8.060821072005453,
          221.40286891380035,
          -393.913037818908,
          758.0520948868217,
          -355.59394651170174,
          -485.9849303448591,
          -249.0931213179439,
          -210.9578115114994,
          537.8966667204961,
          -947.401250205366,
          244.91676904977933,
          344.34661945185894,
          -496.6698244592256,
          138.27032585606423,
          -423.93664841594216,
          -794.7382049429801,
          -472.4129034728649,
          1151.6022915806814,
          -121.45508994180388,
          -275.60852679771085,
          -229.1094309274835,
          282.2275153827296,
          -1254.747426328733,
          -95.11411177643537,
          44.64744696128275,
          55.59539756742238,
          -418.2967328847509,
          721.7053583006681,
          -266.8132598399854,
          155.14224124675658,
          -452.8035166213237,
          -480.88133157038095,
          -736.5198561605011,
          440.4482064416708,
          -487.4977311816219,
          475.3778570054321,
          432.9261074143138,
          -183.51060177077773,
          -764.4391764927917,
          682.0238941707792,
          -256.01926684689226,
          -456.2062175699584,
          650.1546937540146,
          -134.94133010854924,
          -180.21956014952167,
          -228.5470834680892,
          328.3336756727947,
          348.4598294250819,
          -1204.5888693244738,
          711.658869129762,
          -507.8095342710609,
          609.614761534227,
          553.5850860460281,
          -433.7981265500597,
          526.4372821720359,
          -136.66104967927805,
          807.9380277013553,
          -728.7455359021951,
          503.1567156415393,
          311.42188470203445,
          -339.2028962854249,
          -313.2980347707108,
          69.69817139083675,
          -473.016382576652,
          -235.3806252200573,
          151.56401776938682,
          27.333178110402645,
          -438.8918726727349,
          609.8673779054175,
          -585.4842389414354,
          -86.70406182831125,
          115.37984368837716,
          91.52713874164353,
          222.26623996012984,
          -398.2453965514582,
          -4.731813975588084,
          -404.2677382948336,
          857.7620416857018,
          382.3951859344719,
          -632.1669459514467,
          591.4696468346577,
          144.64666822962718,
          -606.9741627452642,
          110.25810479041796,
          551.1130128930781,
          -689.9367508637769,
          106.83130762117948,
          264.305119658657,
          255.047551889706,
          -6.414901734580633,
          635.8937929939991,
          -593.4875744277689,
          -8.835952779251269,
          188.7000015485354,
          -285.02763260017986,
          249.45929552204743,
          583.4971116523054,
          -543.0148705095314,
          299.274067672877,
          -64.87961889416505,
          -613.356772178723,
          -489.8612265488898,
          392.69854665686194,
          -204.0910264475416,
          -535.6418512256799,
          976.6744691434106,
          -182.1909394487802,
          -389.24717936421246,
          262.223188382526,
          -19.10404956169162,
          -375.9334284736252,
          209.2134964285773,
          270.2899032332227,
          -121.21688603258264,
          -118.02206399146664,
          2820.428482031677,
          -3792.058647160525,
          1177.3429678298298,
          -427.887971231789,
          -399.85475964817874,
          -225.8558445101666,
          -215.67600135212703,
          -203.01084787555524,
          -187.6060066463503,
          -169.3317704775521,
          -148.23825643636513,
          -124.5957128689077,
          null
         ],
         "yaxis": "y3"
        },
        {
         "mode": "lines",
         "type": "scatter",
         "x": [
          0,
          1,
          2,
          3,
          4,
          5,
          6,
          7,
          8,
          9,
          10,
          11,
          12,
          13,
          14,
          15,
          16,
          17,
          18,
          19,
          20,
          21,
          22,
          23,
          24,
          25,
          26,
          27,
          28,
          29,
          30,
          31,
          32,
          33,
          34,
          35,
          36,
          37,
          38,
          39,
          40,
          41,
          42,
          43,
          44,
          45,
          46,
          47,
          48,
          49,
          50,
          51,
          52,
          53,
          54,
          55,
          56,
          57,
          58,
          59,
          60,
          61,
          62,
          63,
          64,
          65,
          66,
          67,
          68,
          69,
          70,
          71,
          72,
          73,
          74,
          75,
          76,
          77,
          78,
          79,
          80,
          81,
          82,
          83,
          84,
          85,
          86,
          87
         ],
         "xaxis": "x2",
         "y": [
          -41.03380374310416,
          -38.13139811275896,
          -35.67508514755616,
          -33.59375742676563,
          -31.828704086530102,
          -30.331835155897892,
          -29.063852516045475,
          -27.992609815134617,
          -27.0917329975966,
          -26.339498095550663,
          -25.554592134353257,
          -25.138486899258066,
          -24.811310598424,
          -24.624906370568056,
          -24.593681425508343,
          -24.392773172845367,
          -24.23194329332283,
          -24.15557527182832,
          -24.13416439049009,
          -23.85375474706523,
          -23.5482385164735,
          -23.168386678655303,
          -22.65001173943136,
          -21.88410139300312,
          -20.986656920502924,
          -19.847415854693423,
          -18.694058123002275,
          -17.368606621398126,
          -16.061311250836926,
          -14.73116799740467,
          -13.46219006377773,
          -12.049047628399938,
          -10.786743299591487,
          -9.683361154968606,
          -8.460242453706117,
          -7.543178860832565,
          -6.869292929162722,
          -6.073374310469641,
          -5.33820251599878,
          -4.832508668303767,
          -4.393568210352256,
          -3.720695447376748,
          -2.933810698135192,
          -2.38318699361899,
          -1.731252852689872,
          -0.9489613453205308,
          0.3501947369834516,
          2.0277066032740696,
          4.228066367145437,
          6.705013941843747,
          9.42513325111032,
          11.959574053434975,
          14.529524987886967,
          17.285766173510908,
          19.624088466281577,
          21.71000735168864,
          23.498260429293115,
          24.66762655434696,
          25.36184784058037,
          25.558766305808906,
          25.26922859468918,
          24.4660788530596,
          23.383153971604656,
          22.20121795750841,
          20.93541596340631,
          19.561154993260494,
          18.10041444455566,
          16.464833170944257,
          14.679640464558592,
          12.866918827480085,
          11.220401807536714,
          9.790449231028092,
          8.36398300827702,
          6.958682561765186,
          5.804535919282085,
          4.718493483162404,
          3.5357667200572425,
          2.213570792967295,
          1.1102710706480143,
          0.2668189779084869,
          -0.3814327674189059,
          -0.7529318358576519,
          -1.119970988450095,
          -1.3894213452627122,
          -1.5739334241907963,
          -1.5598366430644344,
          -1.584309489819088,
          -1.5558135158341788,
          -1.3852428354221349,
          -0.8321457262157504,
          -0.5224955074164694,
          -0.0737598887903836,
          0.464954616137315,
          1.3194554756417425,
          2.2780014931433143,
          3.260707210386465,
          4.492386384637254,
          5.788579323254439,
          7.26513536886547,
          8.719110166908088,
          10.294088892156426,
          11.844706868978864,
          13.198655327289869,
          14.04781704067928,
          14.741763890804116,
          15.106699036467504,
          15.136388200213585,
          14.854272248142635,
          14.233102234951966,
          13.15845355499306,
          11.979547140284495,
          10.56540534920178,
          8.948961810240169,
          7.248886197993121,
          5.414534018926109,
          3.2356052327652907,
          0.9543937259532116,
          -0.8438013706767495,
          -2.300949256452387,
          -3.060127382516398,
          -2.97542276174124,
          -2.726677768632611,
          -2.2462219154752776,
          -0.7052068045741933,
          1.231964294120599,
          3.4093015256274386,
          5.4324965473002855,
          7.058077279023717,
          8.622381455846925,
          9.662599218839391,
          10.538724905778874,
          10.67218222171851,
          10.899385367754435,
          10.60894330966668,
          10.080740490944637,
          9.618304185243275,
          9.01951984759381,
          8.264324840861171,
          7.422895815663572,
          6.3658940898773775,
          5.117576657018656,
          3.9867359739882606,
          3.183853319852225,
          2.3949171276881343,
          1.3803959947067947,
          0.2437990209022879,
          -1.137252948854354,
          -2.257823456717502,
          -3.211979795667304,
          -4.160388143379322,
          -5.21301584418798,
          -5.684976338286081,
          -6.341307769244371,
          -6.720308198176508,
          -7.057104850123124,
          -7.494489130247224,
          -8.151038423941372,
          -7.64160909516856,
          -7.906217523472176,
          -7.932668826028888,
          -8.374210477343315,
          -9.503860672011797,
          -11.559189610600312,
          -14.838587496007415,
          -19.72783590559864,
          -26.72221395517543,
          -36.42407373436743,
          -49.46389223712824,
          -66.23788023804406
         ],
         "yaxis": "y2"
        },
        {
         "mode": "lines",
         "type": "scatter",
         "x": [
          0,
          1,
          2,
          3,
          4,
          5,
          6,
          7,
          8,
          9,
          10,
          11,
          12,
          13,
          14,
          15,
          16,
          17,
          18,
          19,
          20,
          21,
          22,
          23,
          24,
          25,
          26,
          27,
          28,
          29,
          30,
          31,
          32,
          33,
          34,
          35,
          36,
          37,
          38,
          39,
          40,
          41,
          42,
          43,
          44,
          45,
          46,
          47,
          48,
          49,
          50,
          51,
          52,
          53,
          54,
          55,
          56,
          57,
          58,
          59,
          60,
          61,
          62,
          63,
          64,
          65,
          66,
          67,
          68,
          69,
          70,
          71,
          72,
          73,
          74,
          75,
          76,
          77,
          78,
          79,
          80,
          81,
          82,
          83,
          84,
          85,
          86,
          87
         ],
         "xaxis": "x4",
         "y": [
          -165.37733990251002,
          -349.35459086073183,
          -484.1445883951918,
          -560.6980955441454,
          -584.945872640855,
          -570.706795736831,
          -532.858468940368,
          75.90830631501389,
          -1272.1502825943046,
          -1246.4933781315278,
          1799.6118078726724,
          72.80051870348237,
          -1684.0189102332065,
          -733.8421493728206,
          295.52961618767097,
          293.69272477445355,
          -410.44331559350576,
          317.49932818697044,
          -452.1864061877582,
          509.44395405791965,
          -478.6703980159751,
          -91.22731731258536,
          -282.56762010930515,
          383.69524618139553,
          -502.3668002969337,
          -870.4405250451624,
          1018.1596410361032,
          -1017.7236578023036,
          624.7355359476958,
          472.67086668622943,
          -448.0844283703849,
          -1141.1225113374828,
          532.7125282167677,
          250.34167268633144,
          184.2939025669952,
          -489.4358726536019,
          543.9011345454747,
          6.4961349634885535,
          201.0577232005759,
          11.5391004994998,
          -385.0083328950734,
          -170.90020108253844,
          -100.59311552408356,
          325.5920638779686,
          -198.4858753523,
          12.641504093000576,
          -57.84093615252517,
          -286.22647066605487,
          288.9164082307283,
          -639.8963343753485,
          -49.82370450036488,
          302.7305154509383,
          -46.49281574711584,
          68.92622698781814,
          545.5851398324382,
          346.10136809865355,
          -948.8871686123864,
          60.5975359239408,
          250.3813098764449,
          164.32018132659886,
          -133.59897822137646,
          705.5569898387668,
          216.4519253101711,
          -1.6532824122022505,
          -150.435990267164,
          484.4783382158981,
          -653.812709430008,
          307.69330640091715,
          -27.578082266144836,
          328.0237541568583,
          157.2564972919926,
          514.2741662720374,
          49.92734621216754,
          357.3676798555274,
          -557.8846027268842,
          -329.1787602352688,
          197.53797985590808,
          817.3067470890702,
          -834.1161464022082,
          340.4553551383221,
          267.18769336270066,
          -419.6327857729679,
          67.84123766091254,
          109.5464636131015,
          412.1877980993213,
          -439.9409345491263,
          -297.2293987962613,
          1160.987934774952,
          -697.0048324768843,
          508.5175876171386,
          -557.9884350621485,
          -543.884194723313,
          451.8606630308525,
          -517.1723933455357,
          133.82892247750527,
          -859.2231461181086,
          769.5395994160289,
          -537.6708658220684,
          -344.32265103534473,
          353.177413298325,
          321.8778191318612,
          -77.98463432714358,
          559.534380329796,
          262.4679150327219,
          -164.96895369290633,
          -31.14823441147424,
          525.3788539375659,
          -652.9563830266775,
          659.2551554950558,
          173.46790868958195,
          -67.75184506570619,
          -69.22728145684343,
          -295.7969627078285,
          531.956841244274,
          153.95956154012634,
          516.735858103424,
          -1108.2746097125992,
          -429.2982125468574,
          964.051373872084,
          -825.5079885948201,
          -799.6420157687667,
          1475.7105153225111,
          -412.3717462834039,
          -689.9734298547619,
          724.322151461185,
          -251.9070683220124,
          153.56564594448918,
          -1169.1057996809025,
          297.99663262409035,
          -1053.149443675515,
          1033.1323228898889,
          -329.00588676386485,
          -164.79825352565814,
          599.9594844269329,
          -595.684124456177,
          -566.4943745180801,
          541.0659659690269,
          -86.40173427370857,
          -189.21586750190465,
          1001.4137996768286,
          989.321537523007,
          -939.201839287942,
          546.6797182932468,
          530.7447105014808,
          -991.0564446046316,
          189.1258012061808,
          230.22974719707585,
          -82.77057283034783,
          -85.98588328497291,
          637.8879615968488,
          -545.6593010126459,
          -246.9625248513653,
          389.4454023031709,
          76.30112480071749,
          -5384.143646677872,
          6948.514264650114,
          -1864.572367366628,
          665.5070462590787,
          761.7999374668921,
          504.60890560884985,
          535.730695652874,
          564.9124081117166,
          584.2371210173795,
          582.8991612753463,
          548.3305559022868,
          469.4833988493468,
          null
         ],
         "yaxis": "y4"
        }
       ],
       "layout": {
        "annotations": [
         {
          "font": {
           "size": 16
          },
          "showarrow": false,
          "text": "Error Angle (theta)",
          "x": 0.225,
          "xanchor": "center",
          "xref": "paper",
          "y": 1,
          "yanchor": "bottom",
          "yref": "paper"
         },
         {
          "font": {
           "size": 16
          },
          "showarrow": false,
          "text": "Error Angle (phi)",
          "x": 0.775,
          "xanchor": "center",
          "xref": "paper",
          "y": 1,
          "yanchor": "bottom",
          "yref": "paper"
         },
         {
          "font": {
           "size": 16
          },
          "showarrow": false,
          "text": "Angular Speed (theta)",
          "x": 0.225,
          "xanchor": "center",
          "xref": "paper",
          "y": 0.375,
          "yanchor": "bottom",
          "yref": "paper"
         },
         {
          "font": {
           "size": 16
          },
          "showarrow": false,
          "text": "Angular speed (phi)",
          "x": 0.775,
          "xanchor": "center",
          "xref": "paper",
          "y": 0.375,
          "yanchor": "bottom",
          "yref": "paper"
         }
        ],
        "template": {
         "data": {
          "bar": [
           {
            "error_x": {
             "color": "#2a3f5f"
            },
            "error_y": {
             "color": "#2a3f5f"
            },
            "marker": {
             "line": {
              "color": "#E5ECF6",
              "width": 0.5
             },
             "pattern": {
              "fillmode": "overlay",
              "size": 10,
              "solidity": 0.2
             }
            },
            "type": "bar"
           }
          ],
          "barpolar": [
           {
            "marker": {
             "line": {
              "color": "#E5ECF6",
              "width": 0.5
             },
             "pattern": {
              "fillmode": "overlay",
              "size": 10,
              "solidity": 0.2
             }
            },
            "type": "barpolar"
           }
          ],
          "carpet": [
           {
            "aaxis": {
             "endlinecolor": "#2a3f5f",
             "gridcolor": "white",
             "linecolor": "white",
             "minorgridcolor": "white",
             "startlinecolor": "#2a3f5f"
            },
            "baxis": {
             "endlinecolor": "#2a3f5f",
             "gridcolor": "white",
             "linecolor": "white",
             "minorgridcolor": "white",
             "startlinecolor": "#2a3f5f"
            },
            "type": "carpet"
           }
          ],
          "choropleth": [
           {
            "colorbar": {
             "outlinewidth": 0,
             "ticks": ""
            },
            "type": "choropleth"
           }
          ],
          "contour": [
           {
            "colorbar": {
             "outlinewidth": 0,
             "ticks": ""
            },
            "colorscale": [
             [
              0,
              "#0d0887"
             ],
             [
              0.1111111111111111,
              "#46039f"
             ],
             [
              0.2222222222222222,
              "#7201a8"
             ],
             [
              0.3333333333333333,
              "#9c179e"
             ],
             [
              0.4444444444444444,
              "#bd3786"
             ],
             [
              0.5555555555555556,
              "#d8576b"
             ],
             [
              0.6666666666666666,
              "#ed7953"
             ],
             [
              0.7777777777777778,
              "#fb9f3a"
             ],
             [
              0.8888888888888888,
              "#fdca26"
             ],
             [
              1,
              "#f0f921"
             ]
            ],
            "type": "contour"
           }
          ],
          "contourcarpet": [
           {
            "colorbar": {
             "outlinewidth": 0,
             "ticks": ""
            },
            "type": "contourcarpet"
           }
          ],
          "heatmap": [
           {
            "colorbar": {
             "outlinewidth": 0,
             "ticks": ""
            },
            "colorscale": [
             [
              0,
              "#0d0887"
             ],
             [
              0.1111111111111111,
              "#46039f"
             ],
             [
              0.2222222222222222,
              "#7201a8"
             ],
             [
              0.3333333333333333,
              "#9c179e"
             ],
             [
              0.4444444444444444,
              "#bd3786"
             ],
             [
              0.5555555555555556,
              "#d8576b"
             ],
             [
              0.6666666666666666,
              "#ed7953"
             ],
             [
              0.7777777777777778,
              "#fb9f3a"
             ],
             [
              0.8888888888888888,
              "#fdca26"
             ],
             [
              1,
              "#f0f921"
             ]
            ],
            "type": "heatmap"
           }
          ],
          "heatmapgl": [
           {
            "colorbar": {
             "outlinewidth": 0,
             "ticks": ""
            },
            "colorscale": [
             [
              0,
              "#0d0887"
             ],
             [
              0.1111111111111111,
              "#46039f"
             ],
             [
              0.2222222222222222,
              "#7201a8"
             ],
             [
              0.3333333333333333,
              "#9c179e"
             ],
             [
              0.4444444444444444,
              "#bd3786"
             ],
             [
              0.5555555555555556,
              "#d8576b"
             ],
             [
              0.6666666666666666,
              "#ed7953"
             ],
             [
              0.7777777777777778,
              "#fb9f3a"
             ],
             [
              0.8888888888888888,
              "#fdca26"
             ],
             [
              1,
              "#f0f921"
             ]
            ],
            "type": "heatmapgl"
           }
          ],
          "histogram": [
           {
            "marker": {
             "pattern": {
              "fillmode": "overlay",
              "size": 10,
              "solidity": 0.2
             }
            },
            "type": "histogram"
           }
          ],
          "histogram2d": [
           {
            "colorbar": {
             "outlinewidth": 0,
             "ticks": ""
            },
            "colorscale": [
             [
              0,
              "#0d0887"
             ],
             [
              0.1111111111111111,
              "#46039f"
             ],
             [
              0.2222222222222222,
              "#7201a8"
             ],
             [
              0.3333333333333333,
              "#9c179e"
             ],
             [
              0.4444444444444444,
              "#bd3786"
             ],
             [
              0.5555555555555556,
              "#d8576b"
             ],
             [
              0.6666666666666666,
              "#ed7953"
             ],
             [
              0.7777777777777778,
              "#fb9f3a"
             ],
             [
              0.8888888888888888,
              "#fdca26"
             ],
             [
              1,
              "#f0f921"
             ]
            ],
            "type": "histogram2d"
           }
          ],
          "histogram2dcontour": [
           {
            "colorbar": {
             "outlinewidth": 0,
             "ticks": ""
            },
            "colorscale": [
             [
              0,
              "#0d0887"
             ],
             [
              0.1111111111111111,
              "#46039f"
             ],
             [
              0.2222222222222222,
              "#7201a8"
             ],
             [
              0.3333333333333333,
              "#9c179e"
             ],
             [
              0.4444444444444444,
              "#bd3786"
             ],
             [
              0.5555555555555556,
              "#d8576b"
             ],
             [
              0.6666666666666666,
              "#ed7953"
             ],
             [
              0.7777777777777778,
              "#fb9f3a"
             ],
             [
              0.8888888888888888,
              "#fdca26"
             ],
             [
              1,
              "#f0f921"
             ]
            ],
            "type": "histogram2dcontour"
           }
          ],
          "mesh3d": [
           {
            "colorbar": {
             "outlinewidth": 0,
             "ticks": ""
            },
            "type": "mesh3d"
           }
          ],
          "parcoords": [
           {
            "line": {
             "colorbar": {
              "outlinewidth": 0,
              "ticks": ""
             }
            },
            "type": "parcoords"
           }
          ],
          "pie": [
           {
            "automargin": true,
            "type": "pie"
           }
          ],
          "scatter": [
           {
            "fillpattern": {
             "fillmode": "overlay",
             "size": 10,
             "solidity": 0.2
            },
            "type": "scatter"
           }
          ],
          "scatter3d": [
           {
            "line": {
             "colorbar": {
              "outlinewidth": 0,
              "ticks": ""
             }
            },
            "marker": {
             "colorbar": {
              "outlinewidth": 0,
              "ticks": ""
             }
            },
            "type": "scatter3d"
           }
          ],
          "scattercarpet": [
           {
            "marker": {
             "colorbar": {
              "outlinewidth": 0,
              "ticks": ""
             }
            },
            "type": "scattercarpet"
           }
          ],
          "scattergeo": [
           {
            "marker": {
             "colorbar": {
              "outlinewidth": 0,
              "ticks": ""
             }
            },
            "type": "scattergeo"
           }
          ],
          "scattergl": [
           {
            "marker": {
             "colorbar": {
              "outlinewidth": 0,
              "ticks": ""
             }
            },
            "type": "scattergl"
           }
          ],
          "scattermapbox": [
           {
            "marker": {
             "colorbar": {
              "outlinewidth": 0,
              "ticks": ""
             }
            },
            "type": "scattermapbox"
           }
          ],
          "scatterpolar": [
           {
            "marker": {
             "colorbar": {
              "outlinewidth": 0,
              "ticks": ""
             }
            },
            "type": "scatterpolar"
           }
          ],
          "scatterpolargl": [
           {
            "marker": {
             "colorbar": {
              "outlinewidth": 0,
              "ticks": ""
             }
            },
            "type": "scatterpolargl"
           }
          ],
          "scatterternary": [
           {
            "marker": {
             "colorbar": {
              "outlinewidth": 0,
              "ticks": ""
             }
            },
            "type": "scatterternary"
           }
          ],
          "surface": [
           {
            "colorbar": {
             "outlinewidth": 0,
             "ticks": ""
            },
            "colorscale": [
             [
              0,
              "#0d0887"
             ],
             [
              0.1111111111111111,
              "#46039f"
             ],
             [
              0.2222222222222222,
              "#7201a8"
             ],
             [
              0.3333333333333333,
              "#9c179e"
             ],
             [
              0.4444444444444444,
              "#bd3786"
             ],
             [
              0.5555555555555556,
              "#d8576b"
             ],
             [
              0.6666666666666666,
              "#ed7953"
             ],
             [
              0.7777777777777778,
              "#fb9f3a"
             ],
             [
              0.8888888888888888,
              "#fdca26"
             ],
             [
              1,
              "#f0f921"
             ]
            ],
            "type": "surface"
           }
          ],
          "table": [
           {
            "cells": {
             "fill": {
              "color": "#EBF0F8"
             },
             "line": {
              "color": "white"
             }
            },
            "header": {
             "fill": {
              "color": "#C8D4E3"
             },
             "line": {
              "color": "white"
             }
            },
            "type": "table"
           }
          ]
         },
         "layout": {
          "annotationdefaults": {
           "arrowcolor": "#2a3f5f",
           "arrowhead": 0,
           "arrowwidth": 1
          },
          "autotypenumbers": "strict",
          "coloraxis": {
           "colorbar": {
            "outlinewidth": 0,
            "ticks": ""
           }
          },
          "colorscale": {
           "diverging": [
            [
             0,
             "#8e0152"
            ],
            [
             0.1,
             "#c51b7d"
            ],
            [
             0.2,
             "#de77ae"
            ],
            [
             0.3,
             "#f1b6da"
            ],
            [
             0.4,
             "#fde0ef"
            ],
            [
             0.5,
             "#f7f7f7"
            ],
            [
             0.6,
             "#e6f5d0"
            ],
            [
             0.7,
             "#b8e186"
            ],
            [
             0.8,
             "#7fbc41"
            ],
            [
             0.9,
             "#4d9221"
            ],
            [
             1,
             "#276419"
            ]
           ],
           "sequential": [
            [
             0,
             "#0d0887"
            ],
            [
             0.1111111111111111,
             "#46039f"
            ],
            [
             0.2222222222222222,
             "#7201a8"
            ],
            [
             0.3333333333333333,
             "#9c179e"
            ],
            [
             0.4444444444444444,
             "#bd3786"
            ],
            [
             0.5555555555555556,
             "#d8576b"
            ],
            [
             0.6666666666666666,
             "#ed7953"
            ],
            [
             0.7777777777777778,
             "#fb9f3a"
            ],
            [
             0.8888888888888888,
             "#fdca26"
            ],
            [
             1,
             "#f0f921"
            ]
           ],
           "sequentialminus": [
            [
             0,
             "#0d0887"
            ],
            [
             0.1111111111111111,
             "#46039f"
            ],
            [
             0.2222222222222222,
             "#7201a8"
            ],
            [
             0.3333333333333333,
             "#9c179e"
            ],
            [
             0.4444444444444444,
             "#bd3786"
            ],
            [
             0.5555555555555556,
             "#d8576b"
            ],
            [
             0.6666666666666666,
             "#ed7953"
            ],
            [
             0.7777777777777778,
             "#fb9f3a"
            ],
            [
             0.8888888888888888,
             "#fdca26"
            ],
            [
             1,
             "#f0f921"
            ]
           ]
          },
          "colorway": [
           "#636efa",
           "#EF553B",
           "#00cc96",
           "#ab63fa",
           "#FFA15A",
           "#19d3f3",
           "#FF6692",
           "#B6E880",
           "#FF97FF",
           "#FECB52"
          ],
          "font": {
           "color": "#2a3f5f"
          },
          "geo": {
           "bgcolor": "white",
           "lakecolor": "white",
           "landcolor": "#E5ECF6",
           "showlakes": true,
           "showland": true,
           "subunitcolor": "white"
          },
          "hoverlabel": {
           "align": "left"
          },
          "hovermode": "closest",
          "mapbox": {
           "style": "light"
          },
          "paper_bgcolor": "white",
          "plot_bgcolor": "#E5ECF6",
          "polar": {
           "angularaxis": {
            "gridcolor": "white",
            "linecolor": "white",
            "ticks": ""
           },
           "bgcolor": "#E5ECF6",
           "radialaxis": {
            "gridcolor": "white",
            "linecolor": "white",
            "ticks": ""
           }
          },
          "scene": {
           "xaxis": {
            "backgroundcolor": "#E5ECF6",
            "gridcolor": "white",
            "gridwidth": 2,
            "linecolor": "white",
            "showbackground": true,
            "ticks": "",
            "zerolinecolor": "white"
           },
           "yaxis": {
            "backgroundcolor": "#E5ECF6",
            "gridcolor": "white",
            "gridwidth": 2,
            "linecolor": "white",
            "showbackground": true,
            "ticks": "",
            "zerolinecolor": "white"
           },
           "zaxis": {
            "backgroundcolor": "#E5ECF6",
            "gridcolor": "white",
            "gridwidth": 2,
            "linecolor": "white",
            "showbackground": true,
            "ticks": "",
            "zerolinecolor": "white"
           }
          },
          "shapedefaults": {
           "line": {
            "color": "#2a3f5f"
           }
          },
          "ternary": {
           "aaxis": {
            "gridcolor": "white",
            "linecolor": "white",
            "ticks": ""
           },
           "baxis": {
            "gridcolor": "white",
            "linecolor": "white",
            "ticks": ""
           },
           "bgcolor": "#E5ECF6",
           "caxis": {
            "gridcolor": "white",
            "linecolor": "white",
            "ticks": ""
           }
          },
          "title": {
           "x": 0.05
          },
          "xaxis": {
           "automargin": true,
           "gridcolor": "white",
           "linecolor": "white",
           "ticks": "",
           "title": {
            "standoff": 15
           },
           "zerolinecolor": "white",
           "zerolinewidth": 2
          },
          "yaxis": {
           "automargin": true,
           "gridcolor": "white",
           "linecolor": "white",
           "ticks": "",
           "title": {
            "standoff": 15
           },
           "zerolinecolor": "white",
           "zerolinewidth": 2
          }
         }
        },
        "xaxis": {
         "anchor": "y",
         "domain": [
          0,
          0.45
         ]
        },
        "xaxis2": {
         "anchor": "y2",
         "domain": [
          0.55,
          1
         ]
        },
        "xaxis3": {
         "anchor": "y3",
         "domain": [
          0,
          0.45
         ]
        },
        "xaxis4": {
         "anchor": "y4",
         "domain": [
          0.55,
          1
         ]
        },
        "yaxis": {
         "anchor": "x",
         "domain": [
          0.625,
          1
         ]
        },
        "yaxis2": {
         "anchor": "x2",
         "domain": [
          0.625,
          1
         ]
        },
        "yaxis3": {
         "anchor": "x3",
         "domain": [
          0,
          0.375
         ]
        },
        "yaxis4": {
         "anchor": "x4",
         "domain": [
          0,
          0.375
         ]
        }
       }
      },
      "text/html": [
       "<div>                            <div id=\"4bfa4fb8-9c95-4270-9107-aae67a5f81b3\" class=\"plotly-graph-div\" style=\"height:525px; width:100%;\"></div>            <script type=\"text/javascript\">                require([\"plotly\"], function(Plotly) {                    window.PLOTLYENV=window.PLOTLYENV || {};                                    if (document.getElementById(\"4bfa4fb8-9c95-4270-9107-aae67a5f81b3\")) {                    Plotly.newPlot(                        \"4bfa4fb8-9c95-4270-9107-aae67a5f81b3\",                        [{\"mode\":\"lines\",\"x\":[0.0,1.0,2.0,3.0,4.0,5.0,6.0,7.0,8.0,9.0,10.0,11.0,12.0,13.0,14.0,15.0,16.0,17.0,18.0,19.0,20.0,21.0,22.0,23.0,24.0,25.0,26.0,27.0,28.0,29.0,30.0,31.0,32.0,33.0,34.0,35.0,36.0,37.0,38.0,39.0,40.0,41.0,42.0,43.0,44.0,45.0,46.0,47.0,48.0,49.0,50.0,51.0,52.0,53.0,54.0,55.0,56.0,57.0,58.0,59.0,60.0,61.0,62.0,63.0,64.0,65.0,66.0,67.0,68.0,69.0,70.0,71.0,72.0,73.0,74.0,75.0,76.0,77.0,78.0,79.0,80.0,81.0,82.0,83.0,84.0,85.0,86.0,87.0],\"y\":[36.54352389744031,34.84551867966767,33.19896291475008,31.59164198832405,30.0157334864942,28.467053128703235,26.944526767790748,25.449811073025074,23.987009261681163,22.56244423405483,20.48854925488325,19.355478510761632,18.10035641098806,17.20185829398157,16.420728800031227,15.770467896875951,15.007992082454756,14.289837524163588,13.746147778638177,13.498594235810746,13.003003680207865,12.443313950106976,11.532060436039645,10.24224011201562,8.56384050014199,6.6927696205881535,4.652376796732161,2.441320803963444,0.0841077981146732,-2.175507618883405,-4.298263566519687,-6.418085691402923,-8.154090203515672,-9.667036038115024,-11.05371759947222,-12.106136527764694,-12.870335363326904,-13.485127508452216,-13.929690145667584,-14.35315948881382,-14.670350747260766,-15.11284350927344,-15.655813002759222,-15.87465784961309,-16.0393983942368,-16.33189357907559,-16.936478402129623,-17.7692014002449,-18.94345852066912,-20.240678332060877,-21.66627220482205,-22.924313135956474,-24.23175818518957,-25.70709436765286,-26.940853886095685,-28.06366473385549,-29.0794381921364,-29.705946993612653,-30.00684716562218,-30.065518098831888,-29.84033964043817,-29.22477000357209,-28.423492187440985,-27.533600282671184,-26.509176880405445,-25.344022858597743,-24.05298892276326,-22.49402353859115,-20.725407610445448,-18.84665865715069,-17.103541752495584,-15.547262744223143,-13.947992660512908,-12.362645501782843,-11.028858568652009,-9.739420786166576,-8.33213801258581,-6.751340353891907,-5.342818593649817,-4.224043496740122,-3.319278946355217,-2.748613908931676,-2.23931391831913,-1.880409248860143,-1.6289612523023598,-1.6172192632217106,-1.6777910820774682,-1.7673708185884751,-1.9883711686658043,-2.5895003060534902,-2.9035619995517443,-3.3885898969602453,-3.885333160060057,-4.666813777972624,-5.53301377032311,-6.401804269715471,-7.505180697743241,-8.64334767343045,-9.953851755154645,-11.225787454200027,-12.58592895212021,-13.895138015788255,-14.993167389593747,-15.590053353248091,-15.99262674579385,-16.022219671707322,-15.774469814241897,-15.304997302232817,-14.51748353447612,-13.405629332291351,-12.289443776425257,-11.058870120241494,-9.76229699401838,-8.505180840759751,-7.239183035127581,-5.824752261704067,-4.396324965393776,-3.2935155715512794,-2.343959342513412,-1.7369223142643466,-1.6107776981623303,-1.4769374653507883,-1.4707661092375397,-2.151827608024248,-3.1438588358149624,-4.424366068857831,-5.775825332257782,-6.99863588142636,-8.36165849799861,-9.46995335280565,-10.52036220210522,-11.038721100495188,-11.74310471586008,-11.903663643654786,-11.695338630632044,-11.487702938987535,-10.971871531641822,-10.162263139974677,-9.234129678628191,-7.932208499350026,-6.415596123739135,-4.992537774034793,-3.940110807396631,-2.9163957643407508,-1.6268071344866388,-0.212411070331049,1.466199101680813,2.805409411771536,3.943545616943485,5.071411618129743,6.323708202473522,6.8915782732942725,7.690852410843999,8.139947529442322,8.531437068151996,9.017797503914291,9.760720510391186,9.0307311820469,9.171588658556178,9.074009769406029,9.332288956771093,10.476582420967992,12.905483886769572,17.101410498173998,23.628181345439817,33.06621352121685,45.81733781152576,61.77898554981815,80.134266566592],\"type\":\"scatter\",\"xaxis\":\"x\",\"yaxis\":\"y\"},{\"mode\":\"lines\",\"x\":[0.0,1.0,2.0,3.0,4.0,5.0,6.0,7.0,8.0,9.0,10.0,11.0,12.0,13.0,14.0,15.0,16.0,17.0,18.0,19.0,20.0,21.0,22.0,23.0,24.0,25.0,26.0,27.0,28.0,29.0,30.0,31.0,32.0,33.0,34.0,35.0,36.0,37.0,38.0,39.0,40.0,41.0,42.0,43.0,44.0,45.0,46.0,47.0,48.0,49.0,50.0,51.0,52.0,53.0,54.0,55.0,56.0,57.0,58.0,59.0,60.0,61.0,62.0,63.0,64.0,65.0,66.0,67.0,68.0,69.0,70.0,71.0,72.0,73.0,74.0,75.0,76.0,77.0,78.0,79.0,80.0,81.0,82.0,83.0,84.0,85.0,86.0,87.0],\"y\":[163.92089368829056,-232.2894603927512,-574.4589023984652,-793.3692557897008,-878.6903131951905,-862.7440814107761,-789.0282439520124,308.04747382588715,-344.98792206765575,-5207.463733496851,2186.463671721065,2106.114560031502,-677.3334206372273,-1169.2124078931429,-544.6308596244224,1451.517079941621,-1861.1654294650143,1941.360343660417,-169.6045215447013,-499.1625207590784,110.57301151481514,1397.3234546653323,-857.8886052694661,-360.5567899798184,1011.1823144515356,-318.2341711911833,-38.99790366627131,-547.9691119708043,578.6125018674882,1170.6539600035258,-20.671539695579444,-1027.1088223791355,825.5471388906308,1302.8139994294258,-846.1301005983036,-164.2392455102186,2164.76248786558,-1416.6406661031256,-998.3245159635854,-8.060821072005453,221.40286891380035,-393.913037818908,758.0520948868217,-355.59394651170174,-485.9849303448591,-249.0931213179439,-210.9578115114994,537.8966667204961,-947.401250205366,244.91676904977933,344.34661945185894,-496.6698244592256,138.27032585606423,-423.93664841594216,-794.7382049429801,-472.4129034728649,1151.6022915806814,-121.45508994180388,-275.60852679771085,-229.1094309274835,282.2275153827296,-1254.747426328733,-95.11411177643537,44.64744696128275,55.59539756742238,-418.2967328847509,721.7053583006681,-266.8132598399854,155.14224124675658,-452.8035166213237,-480.88133157038095,-736.5198561605011,440.4482064416708,-487.4977311816219,475.3778570054321,432.9261074143138,-183.51060177077773,-764.4391764927917,682.0238941707792,-256.01926684689226,-456.2062175699584,650.1546937540146,-134.94133010854924,-180.21956014952167,-228.5470834680892,328.3336756727947,348.4598294250819,-1204.5888693244738,711.658869129762,-507.8095342710609,609.614761534227,553.5850860460281,-433.7981265500597,526.4372821720359,-136.66104967927805,807.9380277013553,-728.7455359021951,503.1567156415393,311.42188470203445,-339.2028962854249,-313.2980347707108,69.69817139083675,-473.016382576652,-235.3806252200573,151.56401776938682,27.333178110402645,-438.8918726727349,609.8673779054175,-585.4842389414354,-86.70406182831125,115.37984368837716,91.52713874164353,222.26623996012984,-398.2453965514582,-4.731813975588084,-404.2677382948336,857.7620416857018,382.3951859344719,-632.1669459514467,591.4696468346577,144.64666822962718,-606.9741627452642,110.25810479041796,551.1130128930781,-689.9367508637769,106.83130762117948,264.305119658657,255.047551889706,-6.414901734580633,635.8937929939991,-593.4875744277689,-8.835952779251269,188.7000015485354,-285.02763260017986,249.45929552204743,583.4971116523054,-543.0148705095314,299.274067672877,-64.87961889416505,-613.356772178723,-489.8612265488898,392.69854665686194,-204.0910264475416,-535.6418512256799,976.6744691434106,-182.1909394487802,-389.24717936421246,262.223188382526,-19.10404956169162,-375.9334284736252,209.2134964285773,270.2899032332227,-121.21688603258264,-118.02206399146664,2820.428482031677,-3792.058647160525,1177.3429678298298,-427.887971231789,-399.85475964817874,-225.8558445101666,-215.67600135212703,-203.01084787555524,-187.6060066463503,-169.3317704775521,-148.23825643636513,-124.5957128689077,null],\"type\":\"scatter\",\"xaxis\":\"x3\",\"yaxis\":\"y3\"},{\"mode\":\"lines\",\"x\":[0.0,1.0,2.0,3.0,4.0,5.0,6.0,7.0,8.0,9.0,10.0,11.0,12.0,13.0,14.0,15.0,16.0,17.0,18.0,19.0,20.0,21.0,22.0,23.0,24.0,25.0,26.0,27.0,28.0,29.0,30.0,31.0,32.0,33.0,34.0,35.0,36.0,37.0,38.0,39.0,40.0,41.0,42.0,43.0,44.0,45.0,46.0,47.0,48.0,49.0,50.0,51.0,52.0,53.0,54.0,55.0,56.0,57.0,58.0,59.0,60.0,61.0,62.0,63.0,64.0,65.0,66.0,67.0,68.0,69.0,70.0,71.0,72.0,73.0,74.0,75.0,76.0,77.0,78.0,79.0,80.0,81.0,82.0,83.0,84.0,85.0,86.0,87.0],\"y\":[-41.03380374310416,-38.13139811275896,-35.67508514755616,-33.59375742676563,-31.828704086530102,-30.331835155897892,-29.063852516045475,-27.992609815134617,-27.0917329975966,-26.339498095550663,-25.554592134353257,-25.138486899258066,-24.811310598424,-24.624906370568056,-24.593681425508343,-24.392773172845367,-24.23194329332283,-24.15557527182832,-24.13416439049009,-23.85375474706523,-23.5482385164735,-23.168386678655303,-22.65001173943136,-21.88410139300312,-20.986656920502924,-19.847415854693423,-18.694058123002275,-17.368606621398126,-16.061311250836926,-14.73116799740467,-13.46219006377773,-12.049047628399938,-10.786743299591487,-9.683361154968606,-8.460242453706117,-7.543178860832565,-6.869292929162722,-6.073374310469641,-5.33820251599878,-4.832508668303767,-4.393568210352256,-3.720695447376748,-2.933810698135192,-2.38318699361899,-1.731252852689872,-0.9489613453205308,0.3501947369834516,2.0277066032740696,4.228066367145437,6.705013941843747,9.42513325111032,11.959574053434975,14.529524987886967,17.285766173510908,19.624088466281577,21.71000735168864,23.498260429293115,24.66762655434696,25.36184784058037,25.558766305808906,25.26922859468918,24.4660788530596,23.383153971604656,22.20121795750841,20.93541596340631,19.561154993260494,18.10041444455566,16.464833170944257,14.679640464558592,12.866918827480085,11.220401807536714,9.790449231028092,8.36398300827702,6.958682561765186,5.804535919282085,4.718493483162404,3.5357667200572425,2.213570792967295,1.1102710706480143,0.2668189779084869,-0.3814327674189059,-0.7529318358576519,-1.119970988450095,-1.3894213452627122,-1.5739334241907963,-1.5598366430644344,-1.584309489819088,-1.5558135158341788,-1.3852428354221349,-0.8321457262157504,-0.5224955074164694,-0.0737598887903836,0.464954616137315,1.3194554756417425,2.2780014931433143,3.260707210386465,4.492386384637254,5.788579323254439,7.26513536886547,8.719110166908088,10.294088892156426,11.844706868978864,13.198655327289869,14.04781704067928,14.741763890804116,15.106699036467504,15.136388200213585,14.854272248142635,14.233102234951966,13.15845355499306,11.979547140284495,10.56540534920178,8.948961810240169,7.248886197993121,5.414534018926109,3.2356052327652907,0.9543937259532116,-0.8438013706767495,-2.300949256452387,-3.060127382516398,-2.97542276174124,-2.726677768632611,-2.2462219154752776,-0.7052068045741933,1.231964294120599,3.4093015256274386,5.4324965473002855,7.058077279023717,8.622381455846925,9.662599218839391,10.538724905778874,10.67218222171851,10.899385367754435,10.60894330966668,10.080740490944637,9.618304185243275,9.01951984759381,8.264324840861171,7.422895815663572,6.3658940898773775,5.117576657018656,3.9867359739882606,3.183853319852225,2.3949171276881343,1.3803959947067947,0.2437990209022879,-1.137252948854354,-2.257823456717502,-3.211979795667304,-4.160388143379322,-5.21301584418798,-5.684976338286081,-6.341307769244371,-6.720308198176508,-7.057104850123124,-7.494489130247224,-8.151038423941372,-7.64160909516856,-7.906217523472176,-7.932668826028888,-8.374210477343315,-9.503860672011797,-11.559189610600312,-14.838587496007415,-19.72783590559864,-26.72221395517543,-36.42407373436743,-49.46389223712824,-66.23788023804406],\"type\":\"scatter\",\"xaxis\":\"x2\",\"yaxis\":\"y2\"},{\"mode\":\"lines\",\"x\":[0.0,1.0,2.0,3.0,4.0,5.0,6.0,7.0,8.0,9.0,10.0,11.0,12.0,13.0,14.0,15.0,16.0,17.0,18.0,19.0,20.0,21.0,22.0,23.0,24.0,25.0,26.0,27.0,28.0,29.0,30.0,31.0,32.0,33.0,34.0,35.0,36.0,37.0,38.0,39.0,40.0,41.0,42.0,43.0,44.0,45.0,46.0,47.0,48.0,49.0,50.0,51.0,52.0,53.0,54.0,55.0,56.0,57.0,58.0,59.0,60.0,61.0,62.0,63.0,64.0,65.0,66.0,67.0,68.0,69.0,70.0,71.0,72.0,73.0,74.0,75.0,76.0,77.0,78.0,79.0,80.0,81.0,82.0,83.0,84.0,85.0,86.0,87.0],\"y\":[-165.37733990251002,-349.35459086073183,-484.1445883951918,-560.6980955441454,-584.945872640855,-570.706795736831,-532.858468940368,75.90830631501389,-1272.1502825943046,-1246.4933781315278,1799.6118078726724,72.80051870348237,-1684.0189102332065,-733.8421493728206,295.52961618767097,293.69272477445355,-410.44331559350576,317.49932818697044,-452.1864061877582,509.44395405791965,-478.6703980159751,-91.22731731258536,-282.56762010930515,383.69524618139553,-502.3668002969337,-870.4405250451624,1018.1596410361032,-1017.7236578023036,624.7355359476958,472.67086668622943,-448.0844283703849,-1141.1225113374828,532.7125282167677,250.34167268633144,184.2939025669952,-489.4358726536019,543.9011345454747,6.4961349634885535,201.0577232005759,11.5391004994998,-385.0083328950734,-170.90020108253844,-100.59311552408356,325.5920638779686,-198.4858753523,12.641504093000576,-57.84093615252517,-286.22647066605487,288.9164082307283,-639.8963343753485,-49.82370450036488,302.7305154509383,-46.49281574711584,68.92622698781814,545.5851398324382,346.10136809865355,-948.8871686123864,60.5975359239408,250.3813098764449,164.32018132659886,-133.59897822137646,705.5569898387668,216.4519253101711,-1.6532824122022505,-150.435990267164,484.4783382158981,-653.812709430008,307.69330640091715,-27.578082266144836,328.0237541568583,157.2564972919926,514.2741662720374,49.92734621216754,357.3676798555274,-557.8846027268842,-329.1787602352688,197.53797985590808,817.3067470890702,-834.1161464022082,340.4553551383221,267.18769336270066,-419.6327857729679,67.84123766091254,109.5464636131015,412.1877980993213,-439.9409345491263,-297.2293987962613,1160.987934774952,-697.0048324768843,508.5175876171386,-557.9884350621485,-543.884194723313,451.8606630308525,-517.1723933455357,133.82892247750527,-859.2231461181086,769.5395994160289,-537.6708658220684,-344.32265103534473,353.177413298325,321.8778191318612,-77.98463432714358,559.534380329796,262.4679150327219,-164.96895369290633,-31.14823441147424,525.3788539375659,-652.9563830266775,659.2551554950558,173.46790868958195,-67.75184506570619,-69.22728145684343,-295.7969627078285,531.956841244274,153.95956154012634,516.735858103424,-1108.2746097125992,-429.2982125468574,964.051373872084,-825.5079885948201,-799.6420157687667,1475.7105153225111,-412.3717462834039,-689.9734298547619,724.322151461185,-251.9070683220124,153.56564594448918,-1169.1057996809025,297.99663262409035,-1053.149443675515,1033.1323228898889,-329.00588676386485,-164.79825352565814,599.9594844269329,-595.684124456177,-566.4943745180801,541.0659659690269,-86.40173427370857,-189.21586750190465,1001.4137996768286,989.321537523007,-939.201839287942,546.6797182932468,530.7447105014808,-991.0564446046316,189.1258012061808,230.22974719707585,-82.77057283034783,-85.98588328497291,637.8879615968488,-545.6593010126459,-246.9625248513653,389.4454023031709,76.30112480071749,-5384.143646677872,6948.514264650114,-1864.572367366628,665.5070462590787,761.7999374668921,504.60890560884985,535.730695652874,564.9124081117166,584.2371210173795,582.8991612753463,548.3305559022868,469.4833988493468,null],\"type\":\"scatter\",\"xaxis\":\"x4\",\"yaxis\":\"y4\"}],                        {\"template\":{\"data\":{\"histogram2dcontour\":[{\"type\":\"histogram2dcontour\",\"colorbar\":{\"outlinewidth\":0,\"ticks\":\"\"},\"colorscale\":[[0.0,\"#0d0887\"],[0.1111111111111111,\"#46039f\"],[0.2222222222222222,\"#7201a8\"],[0.3333333333333333,\"#9c179e\"],[0.4444444444444444,\"#bd3786\"],[0.5555555555555556,\"#d8576b\"],[0.6666666666666666,\"#ed7953\"],[0.7777777777777778,\"#fb9f3a\"],[0.8888888888888888,\"#fdca26\"],[1.0,\"#f0f921\"]]}],\"choropleth\":[{\"type\":\"choropleth\",\"colorbar\":{\"outlinewidth\":0,\"ticks\":\"\"}}],\"histogram2d\":[{\"type\":\"histogram2d\",\"colorbar\":{\"outlinewidth\":0,\"ticks\":\"\"},\"colorscale\":[[0.0,\"#0d0887\"],[0.1111111111111111,\"#46039f\"],[0.2222222222222222,\"#7201a8\"],[0.3333333333333333,\"#9c179e\"],[0.4444444444444444,\"#bd3786\"],[0.5555555555555556,\"#d8576b\"],[0.6666666666666666,\"#ed7953\"],[0.7777777777777778,\"#fb9f3a\"],[0.8888888888888888,\"#fdca26\"],[1.0,\"#f0f921\"]]}],\"heatmap\":[{\"type\":\"heatmap\",\"colorbar\":{\"outlinewidth\":0,\"ticks\":\"\"},\"colorscale\":[[0.0,\"#0d0887\"],[0.1111111111111111,\"#46039f\"],[0.2222222222222222,\"#7201a8\"],[0.3333333333333333,\"#9c179e\"],[0.4444444444444444,\"#bd3786\"],[0.5555555555555556,\"#d8576b\"],[0.6666666666666666,\"#ed7953\"],[0.7777777777777778,\"#fb9f3a\"],[0.8888888888888888,\"#fdca26\"],[1.0,\"#f0f921\"]]}],\"heatmapgl\":[{\"type\":\"heatmapgl\",\"colorbar\":{\"outlinewidth\":0,\"ticks\":\"\"},\"colorscale\":[[0.0,\"#0d0887\"],[0.1111111111111111,\"#46039f\"],[0.2222222222222222,\"#7201a8\"],[0.3333333333333333,\"#9c179e\"],[0.4444444444444444,\"#bd3786\"],[0.5555555555555556,\"#d8576b\"],[0.6666666666666666,\"#ed7953\"],[0.7777777777777778,\"#fb9f3a\"],[0.8888888888888888,\"#fdca26\"],[1.0,\"#f0f921\"]]}],\"contourcarpet\":[{\"type\":\"contourcarpet\",\"colorbar\":{\"outlinewidth\":0,\"ticks\":\"\"}}],\"contour\":[{\"type\":\"contour\",\"colorbar\":{\"outlinewidth\":0,\"ticks\":\"\"},\"colorscale\":[[0.0,\"#0d0887\"],[0.1111111111111111,\"#46039f\"],[0.2222222222222222,\"#7201a8\"],[0.3333333333333333,\"#9c179e\"],[0.4444444444444444,\"#bd3786\"],[0.5555555555555556,\"#d8576b\"],[0.6666666666666666,\"#ed7953\"],[0.7777777777777778,\"#fb9f3a\"],[0.8888888888888888,\"#fdca26\"],[1.0,\"#f0f921\"]]}],\"surface\":[{\"type\":\"surface\",\"colorbar\":{\"outlinewidth\":0,\"ticks\":\"\"},\"colorscale\":[[0.0,\"#0d0887\"],[0.1111111111111111,\"#46039f\"],[0.2222222222222222,\"#7201a8\"],[0.3333333333333333,\"#9c179e\"],[0.4444444444444444,\"#bd3786\"],[0.5555555555555556,\"#d8576b\"],[0.6666666666666666,\"#ed7953\"],[0.7777777777777778,\"#fb9f3a\"],[0.8888888888888888,\"#fdca26\"],[1.0,\"#f0f921\"]]}],\"mesh3d\":[{\"type\":\"mesh3d\",\"colorbar\":{\"outlinewidth\":0,\"ticks\":\"\"}}],\"scatter\":[{\"fillpattern\":{\"fillmode\":\"overlay\",\"size\":10,\"solidity\":0.2},\"type\":\"scatter\"}],\"parcoords\":[{\"type\":\"parcoords\",\"line\":{\"colorbar\":{\"outlinewidth\":0,\"ticks\":\"\"}}}],\"scatterpolargl\":[{\"type\":\"scatterpolargl\",\"marker\":{\"colorbar\":{\"outlinewidth\":0,\"ticks\":\"\"}}}],\"bar\":[{\"error_x\":{\"color\":\"#2a3f5f\"},\"error_y\":{\"color\":\"#2a3f5f\"},\"marker\":{\"line\":{\"color\":\"#E5ECF6\",\"width\":0.5},\"pattern\":{\"fillmode\":\"overlay\",\"size\":10,\"solidity\":0.2}},\"type\":\"bar\"}],\"scattergeo\":[{\"type\":\"scattergeo\",\"marker\":{\"colorbar\":{\"outlinewidth\":0,\"ticks\":\"\"}}}],\"scatterpolar\":[{\"type\":\"scatterpolar\",\"marker\":{\"colorbar\":{\"outlinewidth\":0,\"ticks\":\"\"}}}],\"histogram\":[{\"marker\":{\"pattern\":{\"fillmode\":\"overlay\",\"size\":10,\"solidity\":0.2}},\"type\":\"histogram\"}],\"scattergl\":[{\"type\":\"scattergl\",\"marker\":{\"colorbar\":{\"outlinewidth\":0,\"ticks\":\"\"}}}],\"scatter3d\":[{\"type\":\"scatter3d\",\"line\":{\"colorbar\":{\"outlinewidth\":0,\"ticks\":\"\"}},\"marker\":{\"colorbar\":{\"outlinewidth\":0,\"ticks\":\"\"}}}],\"scattermapbox\":[{\"type\":\"scattermapbox\",\"marker\":{\"colorbar\":{\"outlinewidth\":0,\"ticks\":\"\"}}}],\"scatterternary\":[{\"type\":\"scatterternary\",\"marker\":{\"colorbar\":{\"outlinewidth\":0,\"ticks\":\"\"}}}],\"scattercarpet\":[{\"type\":\"scattercarpet\",\"marker\":{\"colorbar\":{\"outlinewidth\":0,\"ticks\":\"\"}}}],\"carpet\":[{\"aaxis\":{\"endlinecolor\":\"#2a3f5f\",\"gridcolor\":\"white\",\"linecolor\":\"white\",\"minorgridcolor\":\"white\",\"startlinecolor\":\"#2a3f5f\"},\"baxis\":{\"endlinecolor\":\"#2a3f5f\",\"gridcolor\":\"white\",\"linecolor\":\"white\",\"minorgridcolor\":\"white\",\"startlinecolor\":\"#2a3f5f\"},\"type\":\"carpet\"}],\"table\":[{\"cells\":{\"fill\":{\"color\":\"#EBF0F8\"},\"line\":{\"color\":\"white\"}},\"header\":{\"fill\":{\"color\":\"#C8D4E3\"},\"line\":{\"color\":\"white\"}},\"type\":\"table\"}],\"barpolar\":[{\"marker\":{\"line\":{\"color\":\"#E5ECF6\",\"width\":0.5},\"pattern\":{\"fillmode\":\"overlay\",\"size\":10,\"solidity\":0.2}},\"type\":\"barpolar\"}],\"pie\":[{\"automargin\":true,\"type\":\"pie\"}]},\"layout\":{\"autotypenumbers\":\"strict\",\"colorway\":[\"#636efa\",\"#EF553B\",\"#00cc96\",\"#ab63fa\",\"#FFA15A\",\"#19d3f3\",\"#FF6692\",\"#B6E880\",\"#FF97FF\",\"#FECB52\"],\"font\":{\"color\":\"#2a3f5f\"},\"hovermode\":\"closest\",\"hoverlabel\":{\"align\":\"left\"},\"paper_bgcolor\":\"white\",\"plot_bgcolor\":\"#E5ECF6\",\"polar\":{\"bgcolor\":\"#E5ECF6\",\"angularaxis\":{\"gridcolor\":\"white\",\"linecolor\":\"white\",\"ticks\":\"\"},\"radialaxis\":{\"gridcolor\":\"white\",\"linecolor\":\"white\",\"ticks\":\"\"}},\"ternary\":{\"bgcolor\":\"#E5ECF6\",\"aaxis\":{\"gridcolor\":\"white\",\"linecolor\":\"white\",\"ticks\":\"\"},\"baxis\":{\"gridcolor\":\"white\",\"linecolor\":\"white\",\"ticks\":\"\"},\"caxis\":{\"gridcolor\":\"white\",\"linecolor\":\"white\",\"ticks\":\"\"}},\"coloraxis\":{\"colorbar\":{\"outlinewidth\":0,\"ticks\":\"\"}},\"colorscale\":{\"sequential\":[[0.0,\"#0d0887\"],[0.1111111111111111,\"#46039f\"],[0.2222222222222222,\"#7201a8\"],[0.3333333333333333,\"#9c179e\"],[0.4444444444444444,\"#bd3786\"],[0.5555555555555556,\"#d8576b\"],[0.6666666666666666,\"#ed7953\"],[0.7777777777777778,\"#fb9f3a\"],[0.8888888888888888,\"#fdca26\"],[1.0,\"#f0f921\"]],\"sequentialminus\":[[0.0,\"#0d0887\"],[0.1111111111111111,\"#46039f\"],[0.2222222222222222,\"#7201a8\"],[0.3333333333333333,\"#9c179e\"],[0.4444444444444444,\"#bd3786\"],[0.5555555555555556,\"#d8576b\"],[0.6666666666666666,\"#ed7953\"],[0.7777777777777778,\"#fb9f3a\"],[0.8888888888888888,\"#fdca26\"],[1.0,\"#f0f921\"]],\"diverging\":[[0,\"#8e0152\"],[0.1,\"#c51b7d\"],[0.2,\"#de77ae\"],[0.3,\"#f1b6da\"],[0.4,\"#fde0ef\"],[0.5,\"#f7f7f7\"],[0.6,\"#e6f5d0\"],[0.7,\"#b8e186\"],[0.8,\"#7fbc41\"],[0.9,\"#4d9221\"],[1,\"#276419\"]]},\"xaxis\":{\"gridcolor\":\"white\",\"linecolor\":\"white\",\"ticks\":\"\",\"title\":{\"standoff\":15},\"zerolinecolor\":\"white\",\"automargin\":true,\"zerolinewidth\":2},\"yaxis\":{\"gridcolor\":\"white\",\"linecolor\":\"white\",\"ticks\":\"\",\"title\":{\"standoff\":15},\"zerolinecolor\":\"white\",\"automargin\":true,\"zerolinewidth\":2},\"scene\":{\"xaxis\":{\"backgroundcolor\":\"#E5ECF6\",\"gridcolor\":\"white\",\"linecolor\":\"white\",\"showbackground\":true,\"ticks\":\"\",\"zerolinecolor\":\"white\",\"gridwidth\":2},\"yaxis\":{\"backgroundcolor\":\"#E5ECF6\",\"gridcolor\":\"white\",\"linecolor\":\"white\",\"showbackground\":true,\"ticks\":\"\",\"zerolinecolor\":\"white\",\"gridwidth\":2},\"zaxis\":{\"backgroundcolor\":\"#E5ECF6\",\"gridcolor\":\"white\",\"linecolor\":\"white\",\"showbackground\":true,\"ticks\":\"\",\"zerolinecolor\":\"white\",\"gridwidth\":2}},\"shapedefaults\":{\"line\":{\"color\":\"#2a3f5f\"}},\"annotationdefaults\":{\"arrowcolor\":\"#2a3f5f\",\"arrowhead\":0,\"arrowwidth\":1},\"geo\":{\"bgcolor\":\"white\",\"landcolor\":\"#E5ECF6\",\"subunitcolor\":\"white\",\"showland\":true,\"showlakes\":true,\"lakecolor\":\"white\"},\"title\":{\"x\":0.05},\"mapbox\":{\"style\":\"light\"}}},\"xaxis\":{\"anchor\":\"y\",\"domain\":[0.0,0.45]},\"yaxis\":{\"anchor\":\"x\",\"domain\":[0.625,1.0]},\"xaxis2\":{\"anchor\":\"y2\",\"domain\":[0.55,1.0]},\"yaxis2\":{\"anchor\":\"x2\",\"domain\":[0.625,1.0]},\"xaxis3\":{\"anchor\":\"y3\",\"domain\":[0.0,0.45]},\"yaxis3\":{\"anchor\":\"x3\",\"domain\":[0.0,0.375]},\"xaxis4\":{\"anchor\":\"y4\",\"domain\":[0.55,1.0]},\"yaxis4\":{\"anchor\":\"x4\",\"domain\":[0.0,0.375]},\"annotations\":[{\"font\":{\"size\":16},\"showarrow\":false,\"text\":\"Error Angle (theta)\",\"x\":0.225,\"xanchor\":\"center\",\"xref\":\"paper\",\"y\":1.0,\"yanchor\":\"bottom\",\"yref\":\"paper\"},{\"font\":{\"size\":16},\"showarrow\":false,\"text\":\"Error Angle (phi)\",\"x\":0.775,\"xanchor\":\"center\",\"xref\":\"paper\",\"y\":1.0,\"yanchor\":\"bottom\",\"yref\":\"paper\"},{\"font\":{\"size\":16},\"showarrow\":false,\"text\":\"Angular Speed (theta)\",\"x\":0.225,\"xanchor\":\"center\",\"xref\":\"paper\",\"y\":0.375,\"yanchor\":\"bottom\",\"yref\":\"paper\"},{\"font\":{\"size\":16},\"showarrow\":false,\"text\":\"Angular speed (phi)\",\"x\":0.775,\"xanchor\":\"center\",\"xref\":\"paper\",\"y\":0.375,\"yanchor\":\"bottom\",\"yref\":\"paper\"}]},                        {\"responsive\": true}                    ).then(function(){\n",
       "                            \n",
       "var gd = document.getElementById('4bfa4fb8-9c95-4270-9107-aae67a5f81b3');\n",
       "var x = new MutationObserver(function (mutations, observer) {{\n",
       "        var display = window.getComputedStyle(gd).display;\n",
       "        if (!display || display === 'none') {{\n",
       "            console.log([gd, 'removed!']);\n",
       "            Plotly.purge(gd);\n",
       "            observer.disconnect();\n",
       "        }}\n",
       "}});\n",
       "\n",
       "// Listen for the removal of the full notebook cells\n",
       "var notebookContainer = gd.closest('#notebook-container');\n",
       "if (notebookContainer) {{\n",
       "    x.observe(notebookContainer, {childList: true});\n",
       "}}\n",
       "\n",
       "// Listen for the clearing of the current output cell\n",
       "var outputEl = gd.closest('.output');\n",
       "if (outputEl) {{\n",
       "    x.observe(outputEl, {childList: true});\n",
       "}}\n",
       "\n",
       "                        })                };                });            </script>        </div>"
      ]
     },
     "metadata": {},
     "output_type": "display_data"
    }
   ],
   "source": [
    "for chase in chase_param:\n",
    "    chase_df = pd.read_csv(chase)\n",
    "    name = chase.split('\\\\')[1][:-53] \n",
    "    speed_list = [speed for speed in speed_param if name  in speed]\n",
    "    angular_speed_df = pd.read_csv([s for s in speed_list if \"Anglular\" in s][0])\n",
    "    \n",
    "    framerate = 1000 # sampled at 1k\n",
    "    time_Axis = np.arange(len(df))* 1e3/framerate # in milliseconds\n",
    "    \n",
    "    ff = makeFig_ErrorAngle_AngularSpeed(time_Axis, chase_df, angular_speed_df)\n",
    "    ff.write_html('./Data/Sampled1K_Figures/Chase_relationships/' + name + '_errorAngleAngularSpeed.html')\n",
    "    ff.show()"
   ]
  }
 ],
 "metadata": {
  "kernelspec": {
   "display_name": "Python 3 (ipykernel)",
   "language": "python",
   "name": "python3"
  },
  "language_info": {
   "codemirror_mode": {
    "name": "ipython",
    "version": 3
   },
   "file_extension": ".py",
   "mimetype": "text/x-python",
   "name": "python",
   "nbconvert_exporter": "python",
   "pygments_lexer": "ipython3",
   "version": "3.10.9"
  }
 },
 "nbformat": 4,
 "nbformat_minor": 5
}
