{
 "cells": [
  {
   "cell_type": "code",
   "execution_count": 35,
   "id": "a5e76687",
   "metadata": {},
   "outputs": [],
   "source": [
    "import glob\n",
    "import numpy as np\n",
    "import plotly.graph_objects as go\n",
    "import pandas as pd\n",
    "from scipy import signal"
   ]
  },
  {
   "cell_type": "code",
   "execution_count": 36,
   "id": "96a4a174",
   "metadata": {},
   "outputs": [],
   "source": [
    "def filter_data(com):\n",
    "    #smoothen COM\n",
    "    com_smooth = signal.savgol_filter(com, \n",
    "                                     30, \n",
    "                                     3, \n",
    "                                     axis = 0)\n",
    "    return(com_smooth)"
   ]
  },
  {
   "cell_type": "code",
   "execution_count": 37,
   "id": "39a55c73",
   "metadata": {},
   "outputs": [],
   "source": [
    "def compute_frenet_serret(points):\n",
    "    \"\"\"\n",
    "    Compute Frenet-Serret frames (Tangent, Normal, Binormal vectors)\n",
    "    for a discrete 3D curve given by points (Nx3 numpy array).\n",
    "    Handles uneven point spacing.\n",
    "    written by ChatGPT, adapted by Tanvi Deora, April 2025\n",
    "    \"\"\"\n",
    "    points = np.asarray(points)\n",
    "    n = len(points)\n",
    "    \n",
    "    # Compute arc length increments ds between points\n",
    "    diffs = np.diff(points, axis=0)\n",
    "    seg_lengths = np.linalg.norm(diffs, axis=1) # get length of each segments\n",
    "    ds = signal.savgol_filter(seg_lengths, 50,3) # smoothen the ds\n",
    "    ds = np.concatenate(([seg_lengths[0]], ds))  # Assume forward diff at first point\n",
    "    ds = (ds[:-1] + ds[1:]) / 2  # Average spacing for centered difference\n",
    "    \n",
    "    # First derivative d(r)/ds => Tangent\n",
    "    dp = points[1:]/ds[:, np.newaxis]\n",
    "    T = dp / np.linalg.norm(dp, axis=1)[:, np.newaxis]\n",
    "\n",
    "    # Derivative of Tangent: dT/ds\n",
    "    dT = T /ds[:, np.newaxis]\n",
    "    norm_dT = np.linalg.norm(dT, axis=1) # this is the k = curvature in T = kN\n",
    "    N = np.zeros_like(dT)\n",
    "    nonzero = norm_dT > 1e-8\n",
    "    N[nonzero] = dT[nonzero] / norm_dT[nonzero][:, np.newaxis]\n",
    "\n",
    "    # Binormal: B = T x N\n",
    "    B = np.cross(T, N)\n",
    "\n",
    "    return ds, dp, T, norm_dT, N, B"
   ]
  },
  {
   "cell_type": "code",
   "execution_count": 38,
   "id": "85491197",
   "metadata": {},
   "outputs": [],
   "source": [
    "def make_fig_kappa(fig, k, com):\n",
    "    if len(k) != len(com):\n",
    "        print('check lengths of kappa and com')\n",
    "    else:\n",
    "        fig.add_trace(go.Scatter3d(x = com[:,0]\n",
    "             , y = com[:,1]\n",
    "             , z = com[:,2]\n",
    "             , mode = 'markers'\n",
    "             , marker = dict(size=4, color=k, colorscale = 'jet'\n",
    "                                   ,colorbar=dict(title='k value')  # Add colorbar with title\n",
    "                                   )))"
   ]
  },
  {
   "cell_type": "code",
   "execution_count": 54,
   "id": "d77f5a1e",
   "metadata": {},
   "outputs": [],
   "source": [
    "def make_fig_kappa(fig, k_chaser, com_chaser, k_chasee, com_chasee):\n",
    "    import plotly.graph_objects as go\n",
    "    from plotly.subplots import make_subplots\n",
    "\n",
    "    color_min = np.min([k_chaser, k_chasee])\n",
    "    color_max = np.max([k_chaser, k_chasee])\n",
    "    \n",
    "    \n",
    "    # Create the subplot figure\n",
    "    fig = make_subplots(\n",
    "        rows=2, cols=2,\n",
    "        specs=[[{'type': 'scatter3d'}, {'type': 'xy'}],\n",
    "              [{'type': 'scatter3d'}, {'type': 'xy'}]]\n",
    "    )\n",
    "    \n",
    "    #Chasee\n",
    "    # Add 3D scatter plot\n",
    "    fig.add_trace(go.Scatter3d(\n",
    "        x = com_chasee[:,0]\n",
    "        , y = com_chasee[:,1]\n",
    "        , z = com_chasee[:,2]\n",
    "        , mode = 'markers'\n",
    "        , marker = dict(size=4\n",
    "                        ,color=k_chasee\n",
    "                        ,colorscale = 'jet'\n",
    "                        ,cmin = color_min\n",
    "                        ,cmax = color_max\n",
    "                        ,colorbar=dict(title='k value')# Add colorbar with title\n",
    "                        ))\n",
    "        ,row=1, col=1\n",
    "    )\n",
    "\n",
    "    # Add 2D line plot\n",
    "    fig.add_trace(\n",
    "        go.Scatter(x=np.arange(len(k_chasee)), y=k_chasee, mode='lines'),\n",
    "        row=1, col=2\n",
    "    )\n",
    "    \n",
    "    # Chaser\n",
    "    # Add 3D scatter plot\n",
    "    fig.add_trace(go.Scatter3d(\n",
    "        x = com_chaser[:,0]\n",
    "        , y = com_chaser[:,1]\n",
    "        , z = com_chaser[:,2]\n",
    "        , mode = 'markers'\n",
    "        , marker = dict(size=4\n",
    "                        ,color=k_chaser\n",
    "                        ,colorscale = 'jet'\n",
    "                        ,cmin = color_min\n",
    "                        ,cmax = color_max\n",
    "                        ,colorbar=dict(title='k value')  # Add colorbar with title\n",
    "                        ))\n",
    "        ,row=2, col=1\n",
    "    )\n",
    "\n",
    "    # Add 2D line plot\n",
    "    fig.add_trace(\n",
    "        go.Scatter(x=np.arange(len(k_chaser)), y=k_chaser, mode='lines'),\n",
    "        row=2, col=2\n",
    "    )  \n",
    "#     fig.show()"
   ]
  },
  {
   "cell_type": "code",
   "execution_count": 45,
   "id": "ef728348",
   "metadata": {},
   "outputs": [
    {
     "data": {
      "text/plain": [
       "['./Data/Outputs/Sampled_1k/COM\\\\2023-04-19_Trial7_Set1_5k_smoothened_interpol_COM.csv',\n",
       " './Data/Outputs/Sampled_1k/COM\\\\2023-04-21_Trial6_1k_smoothened_interpol_COM.csv',\n",
       " './Data/Outputs/Sampled_1k/COM\\\\2023-04-21_Trial7_1k_smoothened_interpol_COM.csv',\n",
       " './Data/Outputs/Sampled_1k/COM\\\\2023-04-28_Trial4_5k_smoothened_interpol_COM.csv',\n",
       " './Data/Outputs/Sampled_1k/COM\\\\2023-04-28_Trial5_5k_smoothened_interpol_COM.csv',\n",
       " './Data/Outputs/Sampled_1k/COM\\\\2023-04-28_Trial8_1k_smoothened_interpol_COM.csv']"
      ]
     },
     "execution_count": 45,
     "metadata": {},
     "output_type": "execute_result"
    }
   ],
   "source": [
    "COM_files = glob.glob('./Data/Outputs/Sampled_1k/COM/*_smoothened_*COM.csv')\n",
    "COM_files"
   ]
  },
  {
   "cell_type": "code",
   "execution_count": 55,
   "id": "c3f00322",
   "metadata": {},
   "outputs": [
    {
     "name": "stdout",
     "output_type": "stream",
     "text": [
      "2023-04-19_Trial7_Set1_5k_smoothened_interpol_COM\n"
     ]
    },
    {
     "data": {
      "application/vnd.plotly.v1+json": {
       "config": {
        "plotlyServerURL": "https://plot.ly"
       },
       "data": [],
       "layout": {
        "template": {
         "data": {
          "bar": [
           {
            "error_x": {
             "color": "#2a3f5f"
            },
            "error_y": {
             "color": "#2a3f5f"
            },
            "marker": {
             "line": {
              "color": "#E5ECF6",
              "width": 0.5
             },
             "pattern": {
              "fillmode": "overlay",
              "size": 10,
              "solidity": 0.2
             }
            },
            "type": "bar"
           }
          ],
          "barpolar": [
           {
            "marker": {
             "line": {
              "color": "#E5ECF6",
              "width": 0.5
             },
             "pattern": {
              "fillmode": "overlay",
              "size": 10,
              "solidity": 0.2
             }
            },
            "type": "barpolar"
           }
          ],
          "carpet": [
           {
            "aaxis": {
             "endlinecolor": "#2a3f5f",
             "gridcolor": "white",
             "linecolor": "white",
             "minorgridcolor": "white",
             "startlinecolor": "#2a3f5f"
            },
            "baxis": {
             "endlinecolor": "#2a3f5f",
             "gridcolor": "white",
             "linecolor": "white",
             "minorgridcolor": "white",
             "startlinecolor": "#2a3f5f"
            },
            "type": "carpet"
           }
          ],
          "choropleth": [
           {
            "colorbar": {
             "outlinewidth": 0,
             "ticks": ""
            },
            "type": "choropleth"
           }
          ],
          "contour": [
           {
            "colorbar": {
             "outlinewidth": 0,
             "ticks": ""
            },
            "colorscale": [
             [
              0,
              "#0d0887"
             ],
             [
              0.1111111111111111,
              "#46039f"
             ],
             [
              0.2222222222222222,
              "#7201a8"
             ],
             [
              0.3333333333333333,
              "#9c179e"
             ],
             [
              0.4444444444444444,
              "#bd3786"
             ],
             [
              0.5555555555555556,
              "#d8576b"
             ],
             [
              0.6666666666666666,
              "#ed7953"
             ],
             [
              0.7777777777777778,
              "#fb9f3a"
             ],
             [
              0.8888888888888888,
              "#fdca26"
             ],
             [
              1,
              "#f0f921"
             ]
            ],
            "type": "contour"
           }
          ],
          "contourcarpet": [
           {
            "colorbar": {
             "outlinewidth": 0,
             "ticks": ""
            },
            "type": "contourcarpet"
           }
          ],
          "heatmap": [
           {
            "colorbar": {
             "outlinewidth": 0,
             "ticks": ""
            },
            "colorscale": [
             [
              0,
              "#0d0887"
             ],
             [
              0.1111111111111111,
              "#46039f"
             ],
             [
              0.2222222222222222,
              "#7201a8"
             ],
             [
              0.3333333333333333,
              "#9c179e"
             ],
             [
              0.4444444444444444,
              "#bd3786"
             ],
             [
              0.5555555555555556,
              "#d8576b"
             ],
             [
              0.6666666666666666,
              "#ed7953"
             ],
             [
              0.7777777777777778,
              "#fb9f3a"
             ],
             [
              0.8888888888888888,
              "#fdca26"
             ],
             [
              1,
              "#f0f921"
             ]
            ],
            "type": "heatmap"
           }
          ],
          "heatmapgl": [
           {
            "colorbar": {
             "outlinewidth": 0,
             "ticks": ""
            },
            "colorscale": [
             [
              0,
              "#0d0887"
             ],
             [
              0.1111111111111111,
              "#46039f"
             ],
             [
              0.2222222222222222,
              "#7201a8"
             ],
             [
              0.3333333333333333,
              "#9c179e"
             ],
             [
              0.4444444444444444,
              "#bd3786"
             ],
             [
              0.5555555555555556,
              "#d8576b"
             ],
             [
              0.6666666666666666,
              "#ed7953"
             ],
             [
              0.7777777777777778,
              "#fb9f3a"
             ],
             [
              0.8888888888888888,
              "#fdca26"
             ],
             [
              1,
              "#f0f921"
             ]
            ],
            "type": "heatmapgl"
           }
          ],
          "histogram": [
           {
            "marker": {
             "pattern": {
              "fillmode": "overlay",
              "size": 10,
              "solidity": 0.2
             }
            },
            "type": "histogram"
           }
          ],
          "histogram2d": [
           {
            "colorbar": {
             "outlinewidth": 0,
             "ticks": ""
            },
            "colorscale": [
             [
              0,
              "#0d0887"
             ],
             [
              0.1111111111111111,
              "#46039f"
             ],
             [
              0.2222222222222222,
              "#7201a8"
             ],
             [
              0.3333333333333333,
              "#9c179e"
             ],
             [
              0.4444444444444444,
              "#bd3786"
             ],
             [
              0.5555555555555556,
              "#d8576b"
             ],
             [
              0.6666666666666666,
              "#ed7953"
             ],
             [
              0.7777777777777778,
              "#fb9f3a"
             ],
             [
              0.8888888888888888,
              "#fdca26"
             ],
             [
              1,
              "#f0f921"
             ]
            ],
            "type": "histogram2d"
           }
          ],
          "histogram2dcontour": [
           {
            "colorbar": {
             "outlinewidth": 0,
             "ticks": ""
            },
            "colorscale": [
             [
              0,
              "#0d0887"
             ],
             [
              0.1111111111111111,
              "#46039f"
             ],
             [
              0.2222222222222222,
              "#7201a8"
             ],
             [
              0.3333333333333333,
              "#9c179e"
             ],
             [
              0.4444444444444444,
              "#bd3786"
             ],
             [
              0.5555555555555556,
              "#d8576b"
             ],
             [
              0.6666666666666666,
              "#ed7953"
             ],
             [
              0.7777777777777778,
              "#fb9f3a"
             ],
             [
              0.8888888888888888,
              "#fdca26"
             ],
             [
              1,
              "#f0f921"
             ]
            ],
            "type": "histogram2dcontour"
           }
          ],
          "mesh3d": [
           {
            "colorbar": {
             "outlinewidth": 0,
             "ticks": ""
            },
            "type": "mesh3d"
           }
          ],
          "parcoords": [
           {
            "line": {
             "colorbar": {
              "outlinewidth": 0,
              "ticks": ""
             }
            },
            "type": "parcoords"
           }
          ],
          "pie": [
           {
            "automargin": true,
            "type": "pie"
           }
          ],
          "scatter": [
           {
            "fillpattern": {
             "fillmode": "overlay",
             "size": 10,
             "solidity": 0.2
            },
            "type": "scatter"
           }
          ],
          "scatter3d": [
           {
            "line": {
             "colorbar": {
              "outlinewidth": 0,
              "ticks": ""
             }
            },
            "marker": {
             "colorbar": {
              "outlinewidth": 0,
              "ticks": ""
             }
            },
            "type": "scatter3d"
           }
          ],
          "scattercarpet": [
           {
            "marker": {
             "colorbar": {
              "outlinewidth": 0,
              "ticks": ""
             }
            },
            "type": "scattercarpet"
           }
          ],
          "scattergeo": [
           {
            "marker": {
             "colorbar": {
              "outlinewidth": 0,
              "ticks": ""
             }
            },
            "type": "scattergeo"
           }
          ],
          "scattergl": [
           {
            "marker": {
             "colorbar": {
              "outlinewidth": 0,
              "ticks": ""
             }
            },
            "type": "scattergl"
           }
          ],
          "scattermapbox": [
           {
            "marker": {
             "colorbar": {
              "outlinewidth": 0,
              "ticks": ""
             }
            },
            "type": "scattermapbox"
           }
          ],
          "scatterpolar": [
           {
            "marker": {
             "colorbar": {
              "outlinewidth": 0,
              "ticks": ""
             }
            },
            "type": "scatterpolar"
           }
          ],
          "scatterpolargl": [
           {
            "marker": {
             "colorbar": {
              "outlinewidth": 0,
              "ticks": ""
             }
            },
            "type": "scatterpolargl"
           }
          ],
          "scatterternary": [
           {
            "marker": {
             "colorbar": {
              "outlinewidth": 0,
              "ticks": ""
             }
            },
            "type": "scatterternary"
           }
          ],
          "surface": [
           {
            "colorbar": {
             "outlinewidth": 0,
             "ticks": ""
            },
            "colorscale": [
             [
              0,
              "#0d0887"
             ],
             [
              0.1111111111111111,
              "#46039f"
             ],
             [
              0.2222222222222222,
              "#7201a8"
             ],
             [
              0.3333333333333333,
              "#9c179e"
             ],
             [
              0.4444444444444444,
              "#bd3786"
             ],
             [
              0.5555555555555556,
              "#d8576b"
             ],
             [
              0.6666666666666666,
              "#ed7953"
             ],
             [
              0.7777777777777778,
              "#fb9f3a"
             ],
             [
              0.8888888888888888,
              "#fdca26"
             ],
             [
              1,
              "#f0f921"
             ]
            ],
            "type": "surface"
           }
          ],
          "table": [
           {
            "cells": {
             "fill": {
              "color": "#EBF0F8"
             },
             "line": {
              "color": "white"
             }
            },
            "header": {
             "fill": {
              "color": "#C8D4E3"
             },
             "line": {
              "color": "white"
             }
            },
            "type": "table"
           }
          ]
         },
         "layout": {
          "annotationdefaults": {
           "arrowcolor": "#2a3f5f",
           "arrowhead": 0,
           "arrowwidth": 1
          },
          "autotypenumbers": "strict",
          "coloraxis": {
           "colorbar": {
            "outlinewidth": 0,
            "ticks": ""
           }
          },
          "colorscale": {
           "diverging": [
            [
             0,
             "#8e0152"
            ],
            [
             0.1,
             "#c51b7d"
            ],
            [
             0.2,
             "#de77ae"
            ],
            [
             0.3,
             "#f1b6da"
            ],
            [
             0.4,
             "#fde0ef"
            ],
            [
             0.5,
             "#f7f7f7"
            ],
            [
             0.6,
             "#e6f5d0"
            ],
            [
             0.7,
             "#b8e186"
            ],
            [
             0.8,
             "#7fbc41"
            ],
            [
             0.9,
             "#4d9221"
            ],
            [
             1,
             "#276419"
            ]
           ],
           "sequential": [
            [
             0,
             "#0d0887"
            ],
            [
             0.1111111111111111,
             "#46039f"
            ],
            [
             0.2222222222222222,
             "#7201a8"
            ],
            [
             0.3333333333333333,
             "#9c179e"
            ],
            [
             0.4444444444444444,
             "#bd3786"
            ],
            [
             0.5555555555555556,
             "#d8576b"
            ],
            [
             0.6666666666666666,
             "#ed7953"
            ],
            [
             0.7777777777777778,
             "#fb9f3a"
            ],
            [
             0.8888888888888888,
             "#fdca26"
            ],
            [
             1,
             "#f0f921"
            ]
           ],
           "sequentialminus": [
            [
             0,
             "#0d0887"
            ],
            [
             0.1111111111111111,
             "#46039f"
            ],
            [
             0.2222222222222222,
             "#7201a8"
            ],
            [
             0.3333333333333333,
             "#9c179e"
            ],
            [
             0.4444444444444444,
             "#bd3786"
            ],
            [
             0.5555555555555556,
             "#d8576b"
            ],
            [
             0.6666666666666666,
             "#ed7953"
            ],
            [
             0.7777777777777778,
             "#fb9f3a"
            ],
            [
             0.8888888888888888,
             "#fdca26"
            ],
            [
             1,
             "#f0f921"
            ]
           ]
          },
          "colorway": [
           "#636efa",
           "#EF553B",
           "#00cc96",
           "#ab63fa",
           "#FFA15A",
           "#19d3f3",
           "#FF6692",
           "#B6E880",
           "#FF97FF",
           "#FECB52"
          ],
          "font": {
           "color": "#2a3f5f"
          },
          "geo": {
           "bgcolor": "white",
           "lakecolor": "white",
           "landcolor": "#E5ECF6",
           "showlakes": true,
           "showland": true,
           "subunitcolor": "white"
          },
          "hoverlabel": {
           "align": "left"
          },
          "hovermode": "closest",
          "mapbox": {
           "style": "light"
          },
          "paper_bgcolor": "white",
          "plot_bgcolor": "#E5ECF6",
          "polar": {
           "angularaxis": {
            "gridcolor": "white",
            "linecolor": "white",
            "ticks": ""
           },
           "bgcolor": "#E5ECF6",
           "radialaxis": {
            "gridcolor": "white",
            "linecolor": "white",
            "ticks": ""
           }
          },
          "scene": {
           "xaxis": {
            "backgroundcolor": "#E5ECF6",
            "gridcolor": "white",
            "gridwidth": 2,
            "linecolor": "white",
            "showbackground": true,
            "ticks": "",
            "zerolinecolor": "white"
           },
           "yaxis": {
            "backgroundcolor": "#E5ECF6",
            "gridcolor": "white",
            "gridwidth": 2,
            "linecolor": "white",
            "showbackground": true,
            "ticks": "",
            "zerolinecolor": "white"
           },
           "zaxis": {
            "backgroundcolor": "#E5ECF6",
            "gridcolor": "white",
            "gridwidth": 2,
            "linecolor": "white",
            "showbackground": true,
            "ticks": "",
            "zerolinecolor": "white"
           }
          },
          "shapedefaults": {
           "line": {
            "color": "#2a3f5f"
           }
          },
          "ternary": {
           "aaxis": {
            "gridcolor": "white",
            "linecolor": "white",
            "ticks": ""
           },
           "baxis": {
            "gridcolor": "white",
            "linecolor": "white",
            "ticks": ""
           },
           "bgcolor": "#E5ECF6",
           "caxis": {
            "gridcolor": "white",
            "linecolor": "white",
            "ticks": ""
           }
          },
          "title": {
           "x": 0.05
          },
          "xaxis": {
           "automargin": true,
           "gridcolor": "white",
           "linecolor": "white",
           "ticks": "",
           "title": {
            "standoff": 15
           },
           "zerolinecolor": "white",
           "zerolinewidth": 2
          },
          "yaxis": {
           "automargin": true,
           "gridcolor": "white",
           "linecolor": "white",
           "ticks": "",
           "title": {
            "standoff": 15
           },
           "zerolinecolor": "white",
           "zerolinewidth": 2
          }
         }
        }
       }
      },
      "text/html": [
       "<div>                            <div id=\"ddbe3f74-128a-4986-bc83-d5f7aa805acf\" class=\"plotly-graph-div\" style=\"height:525px; width:100%;\"></div>            <script type=\"text/javascript\">                require([\"plotly\"], function(Plotly) {                    window.PLOTLYENV=window.PLOTLYENV || {};                                    if (document.getElementById(\"ddbe3f74-128a-4986-bc83-d5f7aa805acf\")) {                    Plotly.newPlot(                        \"ddbe3f74-128a-4986-bc83-d5f7aa805acf\",                        [],                        {\"template\":{\"data\":{\"histogram2dcontour\":[{\"type\":\"histogram2dcontour\",\"colorbar\":{\"outlinewidth\":0,\"ticks\":\"\"},\"colorscale\":[[0.0,\"#0d0887\"],[0.1111111111111111,\"#46039f\"],[0.2222222222222222,\"#7201a8\"],[0.3333333333333333,\"#9c179e\"],[0.4444444444444444,\"#bd3786\"],[0.5555555555555556,\"#d8576b\"],[0.6666666666666666,\"#ed7953\"],[0.7777777777777778,\"#fb9f3a\"],[0.8888888888888888,\"#fdca26\"],[1.0,\"#f0f921\"]]}],\"choropleth\":[{\"type\":\"choropleth\",\"colorbar\":{\"outlinewidth\":0,\"ticks\":\"\"}}],\"histogram2d\":[{\"type\":\"histogram2d\",\"colorbar\":{\"outlinewidth\":0,\"ticks\":\"\"},\"colorscale\":[[0.0,\"#0d0887\"],[0.1111111111111111,\"#46039f\"],[0.2222222222222222,\"#7201a8\"],[0.3333333333333333,\"#9c179e\"],[0.4444444444444444,\"#bd3786\"],[0.5555555555555556,\"#d8576b\"],[0.6666666666666666,\"#ed7953\"],[0.7777777777777778,\"#fb9f3a\"],[0.8888888888888888,\"#fdca26\"],[1.0,\"#f0f921\"]]}],\"heatmap\":[{\"type\":\"heatmap\",\"colorbar\":{\"outlinewidth\":0,\"ticks\":\"\"},\"colorscale\":[[0.0,\"#0d0887\"],[0.1111111111111111,\"#46039f\"],[0.2222222222222222,\"#7201a8\"],[0.3333333333333333,\"#9c179e\"],[0.4444444444444444,\"#bd3786\"],[0.5555555555555556,\"#d8576b\"],[0.6666666666666666,\"#ed7953\"],[0.7777777777777778,\"#fb9f3a\"],[0.8888888888888888,\"#fdca26\"],[1.0,\"#f0f921\"]]}],\"heatmapgl\":[{\"type\":\"heatmapgl\",\"colorbar\":{\"outlinewidth\":0,\"ticks\":\"\"},\"colorscale\":[[0.0,\"#0d0887\"],[0.1111111111111111,\"#46039f\"],[0.2222222222222222,\"#7201a8\"],[0.3333333333333333,\"#9c179e\"],[0.4444444444444444,\"#bd3786\"],[0.5555555555555556,\"#d8576b\"],[0.6666666666666666,\"#ed7953\"],[0.7777777777777778,\"#fb9f3a\"],[0.8888888888888888,\"#fdca26\"],[1.0,\"#f0f921\"]]}],\"contourcarpet\":[{\"type\":\"contourcarpet\",\"colorbar\":{\"outlinewidth\":0,\"ticks\":\"\"}}],\"contour\":[{\"type\":\"contour\",\"colorbar\":{\"outlinewidth\":0,\"ticks\":\"\"},\"colorscale\":[[0.0,\"#0d0887\"],[0.1111111111111111,\"#46039f\"],[0.2222222222222222,\"#7201a8\"],[0.3333333333333333,\"#9c179e\"],[0.4444444444444444,\"#bd3786\"],[0.5555555555555556,\"#d8576b\"],[0.6666666666666666,\"#ed7953\"],[0.7777777777777778,\"#fb9f3a\"],[0.8888888888888888,\"#fdca26\"],[1.0,\"#f0f921\"]]}],\"surface\":[{\"type\":\"surface\",\"colorbar\":{\"outlinewidth\":0,\"ticks\":\"\"},\"colorscale\":[[0.0,\"#0d0887\"],[0.1111111111111111,\"#46039f\"],[0.2222222222222222,\"#7201a8\"],[0.3333333333333333,\"#9c179e\"],[0.4444444444444444,\"#bd3786\"],[0.5555555555555556,\"#d8576b\"],[0.6666666666666666,\"#ed7953\"],[0.7777777777777778,\"#fb9f3a\"],[0.8888888888888888,\"#fdca26\"],[1.0,\"#f0f921\"]]}],\"mesh3d\":[{\"type\":\"mesh3d\",\"colorbar\":{\"outlinewidth\":0,\"ticks\":\"\"}}],\"scatter\":[{\"fillpattern\":{\"fillmode\":\"overlay\",\"size\":10,\"solidity\":0.2},\"type\":\"scatter\"}],\"parcoords\":[{\"type\":\"parcoords\",\"line\":{\"colorbar\":{\"outlinewidth\":0,\"ticks\":\"\"}}}],\"scatterpolargl\":[{\"type\":\"scatterpolargl\",\"marker\":{\"colorbar\":{\"outlinewidth\":0,\"ticks\":\"\"}}}],\"bar\":[{\"error_x\":{\"color\":\"#2a3f5f\"},\"error_y\":{\"color\":\"#2a3f5f\"},\"marker\":{\"line\":{\"color\":\"#E5ECF6\",\"width\":0.5},\"pattern\":{\"fillmode\":\"overlay\",\"size\":10,\"solidity\":0.2}},\"type\":\"bar\"}],\"scattergeo\":[{\"type\":\"scattergeo\",\"marker\":{\"colorbar\":{\"outlinewidth\":0,\"ticks\":\"\"}}}],\"scatterpolar\":[{\"type\":\"scatterpolar\",\"marker\":{\"colorbar\":{\"outlinewidth\":0,\"ticks\":\"\"}}}],\"histogram\":[{\"marker\":{\"pattern\":{\"fillmode\":\"overlay\",\"size\":10,\"solidity\":0.2}},\"type\":\"histogram\"}],\"scattergl\":[{\"type\":\"scattergl\",\"marker\":{\"colorbar\":{\"outlinewidth\":0,\"ticks\":\"\"}}}],\"scatter3d\":[{\"type\":\"scatter3d\",\"line\":{\"colorbar\":{\"outlinewidth\":0,\"ticks\":\"\"}},\"marker\":{\"colorbar\":{\"outlinewidth\":0,\"ticks\":\"\"}}}],\"scattermapbox\":[{\"type\":\"scattermapbox\",\"marker\":{\"colorbar\":{\"outlinewidth\":0,\"ticks\":\"\"}}}],\"scatterternary\":[{\"type\":\"scatterternary\",\"marker\":{\"colorbar\":{\"outlinewidth\":0,\"ticks\":\"\"}}}],\"scattercarpet\":[{\"type\":\"scattercarpet\",\"marker\":{\"colorbar\":{\"outlinewidth\":0,\"ticks\":\"\"}}}],\"carpet\":[{\"aaxis\":{\"endlinecolor\":\"#2a3f5f\",\"gridcolor\":\"white\",\"linecolor\":\"white\",\"minorgridcolor\":\"white\",\"startlinecolor\":\"#2a3f5f\"},\"baxis\":{\"endlinecolor\":\"#2a3f5f\",\"gridcolor\":\"white\",\"linecolor\":\"white\",\"minorgridcolor\":\"white\",\"startlinecolor\":\"#2a3f5f\"},\"type\":\"carpet\"}],\"table\":[{\"cells\":{\"fill\":{\"color\":\"#EBF0F8\"},\"line\":{\"color\":\"white\"}},\"header\":{\"fill\":{\"color\":\"#C8D4E3\"},\"line\":{\"color\":\"white\"}},\"type\":\"table\"}],\"barpolar\":[{\"marker\":{\"line\":{\"color\":\"#E5ECF6\",\"width\":0.5},\"pattern\":{\"fillmode\":\"overlay\",\"size\":10,\"solidity\":0.2}},\"type\":\"barpolar\"}],\"pie\":[{\"automargin\":true,\"type\":\"pie\"}]},\"layout\":{\"autotypenumbers\":\"strict\",\"colorway\":[\"#636efa\",\"#EF553B\",\"#00cc96\",\"#ab63fa\",\"#FFA15A\",\"#19d3f3\",\"#FF6692\",\"#B6E880\",\"#FF97FF\",\"#FECB52\"],\"font\":{\"color\":\"#2a3f5f\"},\"hovermode\":\"closest\",\"hoverlabel\":{\"align\":\"left\"},\"paper_bgcolor\":\"white\",\"plot_bgcolor\":\"#E5ECF6\",\"polar\":{\"bgcolor\":\"#E5ECF6\",\"angularaxis\":{\"gridcolor\":\"white\",\"linecolor\":\"white\",\"ticks\":\"\"},\"radialaxis\":{\"gridcolor\":\"white\",\"linecolor\":\"white\",\"ticks\":\"\"}},\"ternary\":{\"bgcolor\":\"#E5ECF6\",\"aaxis\":{\"gridcolor\":\"white\",\"linecolor\":\"white\",\"ticks\":\"\"},\"baxis\":{\"gridcolor\":\"white\",\"linecolor\":\"white\",\"ticks\":\"\"},\"caxis\":{\"gridcolor\":\"white\",\"linecolor\":\"white\",\"ticks\":\"\"}},\"coloraxis\":{\"colorbar\":{\"outlinewidth\":0,\"ticks\":\"\"}},\"colorscale\":{\"sequential\":[[0.0,\"#0d0887\"],[0.1111111111111111,\"#46039f\"],[0.2222222222222222,\"#7201a8\"],[0.3333333333333333,\"#9c179e\"],[0.4444444444444444,\"#bd3786\"],[0.5555555555555556,\"#d8576b\"],[0.6666666666666666,\"#ed7953\"],[0.7777777777777778,\"#fb9f3a\"],[0.8888888888888888,\"#fdca26\"],[1.0,\"#f0f921\"]],\"sequentialminus\":[[0.0,\"#0d0887\"],[0.1111111111111111,\"#46039f\"],[0.2222222222222222,\"#7201a8\"],[0.3333333333333333,\"#9c179e\"],[0.4444444444444444,\"#bd3786\"],[0.5555555555555556,\"#d8576b\"],[0.6666666666666666,\"#ed7953\"],[0.7777777777777778,\"#fb9f3a\"],[0.8888888888888888,\"#fdca26\"],[1.0,\"#f0f921\"]],\"diverging\":[[0,\"#8e0152\"],[0.1,\"#c51b7d\"],[0.2,\"#de77ae\"],[0.3,\"#f1b6da\"],[0.4,\"#fde0ef\"],[0.5,\"#f7f7f7\"],[0.6,\"#e6f5d0\"],[0.7,\"#b8e186\"],[0.8,\"#7fbc41\"],[0.9,\"#4d9221\"],[1,\"#276419\"]]},\"xaxis\":{\"gridcolor\":\"white\",\"linecolor\":\"white\",\"ticks\":\"\",\"title\":{\"standoff\":15},\"zerolinecolor\":\"white\",\"automargin\":true,\"zerolinewidth\":2},\"yaxis\":{\"gridcolor\":\"white\",\"linecolor\":\"white\",\"ticks\":\"\",\"title\":{\"standoff\":15},\"zerolinecolor\":\"white\",\"automargin\":true,\"zerolinewidth\":2},\"scene\":{\"xaxis\":{\"backgroundcolor\":\"#E5ECF6\",\"gridcolor\":\"white\",\"linecolor\":\"white\",\"showbackground\":true,\"ticks\":\"\",\"zerolinecolor\":\"white\",\"gridwidth\":2},\"yaxis\":{\"backgroundcolor\":\"#E5ECF6\",\"gridcolor\":\"white\",\"linecolor\":\"white\",\"showbackground\":true,\"ticks\":\"\",\"zerolinecolor\":\"white\",\"gridwidth\":2},\"zaxis\":{\"backgroundcolor\":\"#E5ECF6\",\"gridcolor\":\"white\",\"linecolor\":\"white\",\"showbackground\":true,\"ticks\":\"\",\"zerolinecolor\":\"white\",\"gridwidth\":2}},\"shapedefaults\":{\"line\":{\"color\":\"#2a3f5f\"}},\"annotationdefaults\":{\"arrowcolor\":\"#2a3f5f\",\"arrowhead\":0,\"arrowwidth\":1},\"geo\":{\"bgcolor\":\"white\",\"landcolor\":\"#E5ECF6\",\"subunitcolor\":\"white\",\"showland\":true,\"showlakes\":true,\"lakecolor\":\"white\"},\"title\":{\"x\":0.05},\"mapbox\":{\"style\":\"light\"}}}},                        {\"responsive\": true}                    ).then(function(){\n",
       "                            \n",
       "var gd = document.getElementById('ddbe3f74-128a-4986-bc83-d5f7aa805acf');\n",
       "var x = new MutationObserver(function (mutations, observer) {{\n",
       "        var display = window.getComputedStyle(gd).display;\n",
       "        if (!display || display === 'none') {{\n",
       "            console.log([gd, 'removed!']);\n",
       "            Plotly.purge(gd);\n",
       "            observer.disconnect();\n",
       "        }}\n",
       "}});\n",
       "\n",
       "// Listen for the removal of the full notebook cells\n",
       "var notebookContainer = gd.closest('#notebook-container');\n",
       "if (notebookContainer) {{\n",
       "    x.observe(notebookContainer, {childList: true});\n",
       "}}\n",
       "\n",
       "// Listen for the clearing of the current output cell\n",
       "var outputEl = gd.closest('.output');\n",
       "if (outputEl) {{\n",
       "    x.observe(outputEl, {childList: true});\n",
       "}}\n",
       "\n",
       "                        })                };                });            </script>        </div>"
      ]
     },
     "metadata": {},
     "output_type": "display_data"
    },
    {
     "name": "stdout",
     "output_type": "stream",
     "text": [
      "2023-04-21_Trial6_1k_smoothened_interpol_COM\n"
     ]
    },
    {
     "data": {
      "application/vnd.plotly.v1+json": {
       "config": {
        "plotlyServerURL": "https://plot.ly"
       },
       "data": [],
       "layout": {
        "template": {
         "data": {
          "bar": [
           {
            "error_x": {
             "color": "#2a3f5f"
            },
            "error_y": {
             "color": "#2a3f5f"
            },
            "marker": {
             "line": {
              "color": "#E5ECF6",
              "width": 0.5
             },
             "pattern": {
              "fillmode": "overlay",
              "size": 10,
              "solidity": 0.2
             }
            },
            "type": "bar"
           }
          ],
          "barpolar": [
           {
            "marker": {
             "line": {
              "color": "#E5ECF6",
              "width": 0.5
             },
             "pattern": {
              "fillmode": "overlay",
              "size": 10,
              "solidity": 0.2
             }
            },
            "type": "barpolar"
           }
          ],
          "carpet": [
           {
            "aaxis": {
             "endlinecolor": "#2a3f5f",
             "gridcolor": "white",
             "linecolor": "white",
             "minorgridcolor": "white",
             "startlinecolor": "#2a3f5f"
            },
            "baxis": {
             "endlinecolor": "#2a3f5f",
             "gridcolor": "white",
             "linecolor": "white",
             "minorgridcolor": "white",
             "startlinecolor": "#2a3f5f"
            },
            "type": "carpet"
           }
          ],
          "choropleth": [
           {
            "colorbar": {
             "outlinewidth": 0,
             "ticks": ""
            },
            "type": "choropleth"
           }
          ],
          "contour": [
           {
            "colorbar": {
             "outlinewidth": 0,
             "ticks": ""
            },
            "colorscale": [
             [
              0,
              "#0d0887"
             ],
             [
              0.1111111111111111,
              "#46039f"
             ],
             [
              0.2222222222222222,
              "#7201a8"
             ],
             [
              0.3333333333333333,
              "#9c179e"
             ],
             [
              0.4444444444444444,
              "#bd3786"
             ],
             [
              0.5555555555555556,
              "#d8576b"
             ],
             [
              0.6666666666666666,
              "#ed7953"
             ],
             [
              0.7777777777777778,
              "#fb9f3a"
             ],
             [
              0.8888888888888888,
              "#fdca26"
             ],
             [
              1,
              "#f0f921"
             ]
            ],
            "type": "contour"
           }
          ],
          "contourcarpet": [
           {
            "colorbar": {
             "outlinewidth": 0,
             "ticks": ""
            },
            "type": "contourcarpet"
           }
          ],
          "heatmap": [
           {
            "colorbar": {
             "outlinewidth": 0,
             "ticks": ""
            },
            "colorscale": [
             [
              0,
              "#0d0887"
             ],
             [
              0.1111111111111111,
              "#46039f"
             ],
             [
              0.2222222222222222,
              "#7201a8"
             ],
             [
              0.3333333333333333,
              "#9c179e"
             ],
             [
              0.4444444444444444,
              "#bd3786"
             ],
             [
              0.5555555555555556,
              "#d8576b"
             ],
             [
              0.6666666666666666,
              "#ed7953"
             ],
             [
              0.7777777777777778,
              "#fb9f3a"
             ],
             [
              0.8888888888888888,
              "#fdca26"
             ],
             [
              1,
              "#f0f921"
             ]
            ],
            "type": "heatmap"
           }
          ],
          "heatmapgl": [
           {
            "colorbar": {
             "outlinewidth": 0,
             "ticks": ""
            },
            "colorscale": [
             [
              0,
              "#0d0887"
             ],
             [
              0.1111111111111111,
              "#46039f"
             ],
             [
              0.2222222222222222,
              "#7201a8"
             ],
             [
              0.3333333333333333,
              "#9c179e"
             ],
             [
              0.4444444444444444,
              "#bd3786"
             ],
             [
              0.5555555555555556,
              "#d8576b"
             ],
             [
              0.6666666666666666,
              "#ed7953"
             ],
             [
              0.7777777777777778,
              "#fb9f3a"
             ],
             [
              0.8888888888888888,
              "#fdca26"
             ],
             [
              1,
              "#f0f921"
             ]
            ],
            "type": "heatmapgl"
           }
          ],
          "histogram": [
           {
            "marker": {
             "pattern": {
              "fillmode": "overlay",
              "size": 10,
              "solidity": 0.2
             }
            },
            "type": "histogram"
           }
          ],
          "histogram2d": [
           {
            "colorbar": {
             "outlinewidth": 0,
             "ticks": ""
            },
            "colorscale": [
             [
              0,
              "#0d0887"
             ],
             [
              0.1111111111111111,
              "#46039f"
             ],
             [
              0.2222222222222222,
              "#7201a8"
             ],
             [
              0.3333333333333333,
              "#9c179e"
             ],
             [
              0.4444444444444444,
              "#bd3786"
             ],
             [
              0.5555555555555556,
              "#d8576b"
             ],
             [
              0.6666666666666666,
              "#ed7953"
             ],
             [
              0.7777777777777778,
              "#fb9f3a"
             ],
             [
              0.8888888888888888,
              "#fdca26"
             ],
             [
              1,
              "#f0f921"
             ]
            ],
            "type": "histogram2d"
           }
          ],
          "histogram2dcontour": [
           {
            "colorbar": {
             "outlinewidth": 0,
             "ticks": ""
            },
            "colorscale": [
             [
              0,
              "#0d0887"
             ],
             [
              0.1111111111111111,
              "#46039f"
             ],
             [
              0.2222222222222222,
              "#7201a8"
             ],
             [
              0.3333333333333333,
              "#9c179e"
             ],
             [
              0.4444444444444444,
              "#bd3786"
             ],
             [
              0.5555555555555556,
              "#d8576b"
             ],
             [
              0.6666666666666666,
              "#ed7953"
             ],
             [
              0.7777777777777778,
              "#fb9f3a"
             ],
             [
              0.8888888888888888,
              "#fdca26"
             ],
             [
              1,
              "#f0f921"
             ]
            ],
            "type": "histogram2dcontour"
           }
          ],
          "mesh3d": [
           {
            "colorbar": {
             "outlinewidth": 0,
             "ticks": ""
            },
            "type": "mesh3d"
           }
          ],
          "parcoords": [
           {
            "line": {
             "colorbar": {
              "outlinewidth": 0,
              "ticks": ""
             }
            },
            "type": "parcoords"
           }
          ],
          "pie": [
           {
            "automargin": true,
            "type": "pie"
           }
          ],
          "scatter": [
           {
            "fillpattern": {
             "fillmode": "overlay",
             "size": 10,
             "solidity": 0.2
            },
            "type": "scatter"
           }
          ],
          "scatter3d": [
           {
            "line": {
             "colorbar": {
              "outlinewidth": 0,
              "ticks": ""
             }
            },
            "marker": {
             "colorbar": {
              "outlinewidth": 0,
              "ticks": ""
             }
            },
            "type": "scatter3d"
           }
          ],
          "scattercarpet": [
           {
            "marker": {
             "colorbar": {
              "outlinewidth": 0,
              "ticks": ""
             }
            },
            "type": "scattercarpet"
           }
          ],
          "scattergeo": [
           {
            "marker": {
             "colorbar": {
              "outlinewidth": 0,
              "ticks": ""
             }
            },
            "type": "scattergeo"
           }
          ],
          "scattergl": [
           {
            "marker": {
             "colorbar": {
              "outlinewidth": 0,
              "ticks": ""
             }
            },
            "type": "scattergl"
           }
          ],
          "scattermapbox": [
           {
            "marker": {
             "colorbar": {
              "outlinewidth": 0,
              "ticks": ""
             }
            },
            "type": "scattermapbox"
           }
          ],
          "scatterpolar": [
           {
            "marker": {
             "colorbar": {
              "outlinewidth": 0,
              "ticks": ""
             }
            },
            "type": "scatterpolar"
           }
          ],
          "scatterpolargl": [
           {
            "marker": {
             "colorbar": {
              "outlinewidth": 0,
              "ticks": ""
             }
            },
            "type": "scatterpolargl"
           }
          ],
          "scatterternary": [
           {
            "marker": {
             "colorbar": {
              "outlinewidth": 0,
              "ticks": ""
             }
            },
            "type": "scatterternary"
           }
          ],
          "surface": [
           {
            "colorbar": {
             "outlinewidth": 0,
             "ticks": ""
            },
            "colorscale": [
             [
              0,
              "#0d0887"
             ],
             [
              0.1111111111111111,
              "#46039f"
             ],
             [
              0.2222222222222222,
              "#7201a8"
             ],
             [
              0.3333333333333333,
              "#9c179e"
             ],
             [
              0.4444444444444444,
              "#bd3786"
             ],
             [
              0.5555555555555556,
              "#d8576b"
             ],
             [
              0.6666666666666666,
              "#ed7953"
             ],
             [
              0.7777777777777778,
              "#fb9f3a"
             ],
             [
              0.8888888888888888,
              "#fdca26"
             ],
             [
              1,
              "#f0f921"
             ]
            ],
            "type": "surface"
           }
          ],
          "table": [
           {
            "cells": {
             "fill": {
              "color": "#EBF0F8"
             },
             "line": {
              "color": "white"
             }
            },
            "header": {
             "fill": {
              "color": "#C8D4E3"
             },
             "line": {
              "color": "white"
             }
            },
            "type": "table"
           }
          ]
         },
         "layout": {
          "annotationdefaults": {
           "arrowcolor": "#2a3f5f",
           "arrowhead": 0,
           "arrowwidth": 1
          },
          "autotypenumbers": "strict",
          "coloraxis": {
           "colorbar": {
            "outlinewidth": 0,
            "ticks": ""
           }
          },
          "colorscale": {
           "diverging": [
            [
             0,
             "#8e0152"
            ],
            [
             0.1,
             "#c51b7d"
            ],
            [
             0.2,
             "#de77ae"
            ],
            [
             0.3,
             "#f1b6da"
            ],
            [
             0.4,
             "#fde0ef"
            ],
            [
             0.5,
             "#f7f7f7"
            ],
            [
             0.6,
             "#e6f5d0"
            ],
            [
             0.7,
             "#b8e186"
            ],
            [
             0.8,
             "#7fbc41"
            ],
            [
             0.9,
             "#4d9221"
            ],
            [
             1,
             "#276419"
            ]
           ],
           "sequential": [
            [
             0,
             "#0d0887"
            ],
            [
             0.1111111111111111,
             "#46039f"
            ],
            [
             0.2222222222222222,
             "#7201a8"
            ],
            [
             0.3333333333333333,
             "#9c179e"
            ],
            [
             0.4444444444444444,
             "#bd3786"
            ],
            [
             0.5555555555555556,
             "#d8576b"
            ],
            [
             0.6666666666666666,
             "#ed7953"
            ],
            [
             0.7777777777777778,
             "#fb9f3a"
            ],
            [
             0.8888888888888888,
             "#fdca26"
            ],
            [
             1,
             "#f0f921"
            ]
           ],
           "sequentialminus": [
            [
             0,
             "#0d0887"
            ],
            [
             0.1111111111111111,
             "#46039f"
            ],
            [
             0.2222222222222222,
             "#7201a8"
            ],
            [
             0.3333333333333333,
             "#9c179e"
            ],
            [
             0.4444444444444444,
             "#bd3786"
            ],
            [
             0.5555555555555556,
             "#d8576b"
            ],
            [
             0.6666666666666666,
             "#ed7953"
            ],
            [
             0.7777777777777778,
             "#fb9f3a"
            ],
            [
             0.8888888888888888,
             "#fdca26"
            ],
            [
             1,
             "#f0f921"
            ]
           ]
          },
          "colorway": [
           "#636efa",
           "#EF553B",
           "#00cc96",
           "#ab63fa",
           "#FFA15A",
           "#19d3f3",
           "#FF6692",
           "#B6E880",
           "#FF97FF",
           "#FECB52"
          ],
          "font": {
           "color": "#2a3f5f"
          },
          "geo": {
           "bgcolor": "white",
           "lakecolor": "white",
           "landcolor": "#E5ECF6",
           "showlakes": true,
           "showland": true,
           "subunitcolor": "white"
          },
          "hoverlabel": {
           "align": "left"
          },
          "hovermode": "closest",
          "mapbox": {
           "style": "light"
          },
          "paper_bgcolor": "white",
          "plot_bgcolor": "#E5ECF6",
          "polar": {
           "angularaxis": {
            "gridcolor": "white",
            "linecolor": "white",
            "ticks": ""
           },
           "bgcolor": "#E5ECF6",
           "radialaxis": {
            "gridcolor": "white",
            "linecolor": "white",
            "ticks": ""
           }
          },
          "scene": {
           "xaxis": {
            "backgroundcolor": "#E5ECF6",
            "gridcolor": "white",
            "gridwidth": 2,
            "linecolor": "white",
            "showbackground": true,
            "ticks": "",
            "zerolinecolor": "white"
           },
           "yaxis": {
            "backgroundcolor": "#E5ECF6",
            "gridcolor": "white",
            "gridwidth": 2,
            "linecolor": "white",
            "showbackground": true,
            "ticks": "",
            "zerolinecolor": "white"
           },
           "zaxis": {
            "backgroundcolor": "#E5ECF6",
            "gridcolor": "white",
            "gridwidth": 2,
            "linecolor": "white",
            "showbackground": true,
            "ticks": "",
            "zerolinecolor": "white"
           }
          },
          "shapedefaults": {
           "line": {
            "color": "#2a3f5f"
           }
          },
          "ternary": {
           "aaxis": {
            "gridcolor": "white",
            "linecolor": "white",
            "ticks": ""
           },
           "baxis": {
            "gridcolor": "white",
            "linecolor": "white",
            "ticks": ""
           },
           "bgcolor": "#E5ECF6",
           "caxis": {
            "gridcolor": "white",
            "linecolor": "white",
            "ticks": ""
           }
          },
          "title": {
           "x": 0.05
          },
          "xaxis": {
           "automargin": true,
           "gridcolor": "white",
           "linecolor": "white",
           "ticks": "",
           "title": {
            "standoff": 15
           },
           "zerolinecolor": "white",
           "zerolinewidth": 2
          },
          "yaxis": {
           "automargin": true,
           "gridcolor": "white",
           "linecolor": "white",
           "ticks": "",
           "title": {
            "standoff": 15
           },
           "zerolinecolor": "white",
           "zerolinewidth": 2
          }
         }
        }
       }
      },
      "text/html": [
       "<div>                            <div id=\"94977e7f-6363-4e01-8aa5-75835f0e5474\" class=\"plotly-graph-div\" style=\"height:525px; width:100%;\"></div>            <script type=\"text/javascript\">                require([\"plotly\"], function(Plotly) {                    window.PLOTLYENV=window.PLOTLYENV || {};                                    if (document.getElementById(\"94977e7f-6363-4e01-8aa5-75835f0e5474\")) {                    Plotly.newPlot(                        \"94977e7f-6363-4e01-8aa5-75835f0e5474\",                        [],                        {\"template\":{\"data\":{\"histogram2dcontour\":[{\"type\":\"histogram2dcontour\",\"colorbar\":{\"outlinewidth\":0,\"ticks\":\"\"},\"colorscale\":[[0.0,\"#0d0887\"],[0.1111111111111111,\"#46039f\"],[0.2222222222222222,\"#7201a8\"],[0.3333333333333333,\"#9c179e\"],[0.4444444444444444,\"#bd3786\"],[0.5555555555555556,\"#d8576b\"],[0.6666666666666666,\"#ed7953\"],[0.7777777777777778,\"#fb9f3a\"],[0.8888888888888888,\"#fdca26\"],[1.0,\"#f0f921\"]]}],\"choropleth\":[{\"type\":\"choropleth\",\"colorbar\":{\"outlinewidth\":0,\"ticks\":\"\"}}],\"histogram2d\":[{\"type\":\"histogram2d\",\"colorbar\":{\"outlinewidth\":0,\"ticks\":\"\"},\"colorscale\":[[0.0,\"#0d0887\"],[0.1111111111111111,\"#46039f\"],[0.2222222222222222,\"#7201a8\"],[0.3333333333333333,\"#9c179e\"],[0.4444444444444444,\"#bd3786\"],[0.5555555555555556,\"#d8576b\"],[0.6666666666666666,\"#ed7953\"],[0.7777777777777778,\"#fb9f3a\"],[0.8888888888888888,\"#fdca26\"],[1.0,\"#f0f921\"]]}],\"heatmap\":[{\"type\":\"heatmap\",\"colorbar\":{\"outlinewidth\":0,\"ticks\":\"\"},\"colorscale\":[[0.0,\"#0d0887\"],[0.1111111111111111,\"#46039f\"],[0.2222222222222222,\"#7201a8\"],[0.3333333333333333,\"#9c179e\"],[0.4444444444444444,\"#bd3786\"],[0.5555555555555556,\"#d8576b\"],[0.6666666666666666,\"#ed7953\"],[0.7777777777777778,\"#fb9f3a\"],[0.8888888888888888,\"#fdca26\"],[1.0,\"#f0f921\"]]}],\"heatmapgl\":[{\"type\":\"heatmapgl\",\"colorbar\":{\"outlinewidth\":0,\"ticks\":\"\"},\"colorscale\":[[0.0,\"#0d0887\"],[0.1111111111111111,\"#46039f\"],[0.2222222222222222,\"#7201a8\"],[0.3333333333333333,\"#9c179e\"],[0.4444444444444444,\"#bd3786\"],[0.5555555555555556,\"#d8576b\"],[0.6666666666666666,\"#ed7953\"],[0.7777777777777778,\"#fb9f3a\"],[0.8888888888888888,\"#fdca26\"],[1.0,\"#f0f921\"]]}],\"contourcarpet\":[{\"type\":\"contourcarpet\",\"colorbar\":{\"outlinewidth\":0,\"ticks\":\"\"}}],\"contour\":[{\"type\":\"contour\",\"colorbar\":{\"outlinewidth\":0,\"ticks\":\"\"},\"colorscale\":[[0.0,\"#0d0887\"],[0.1111111111111111,\"#46039f\"],[0.2222222222222222,\"#7201a8\"],[0.3333333333333333,\"#9c179e\"],[0.4444444444444444,\"#bd3786\"],[0.5555555555555556,\"#d8576b\"],[0.6666666666666666,\"#ed7953\"],[0.7777777777777778,\"#fb9f3a\"],[0.8888888888888888,\"#fdca26\"],[1.0,\"#f0f921\"]]}],\"surface\":[{\"type\":\"surface\",\"colorbar\":{\"outlinewidth\":0,\"ticks\":\"\"},\"colorscale\":[[0.0,\"#0d0887\"],[0.1111111111111111,\"#46039f\"],[0.2222222222222222,\"#7201a8\"],[0.3333333333333333,\"#9c179e\"],[0.4444444444444444,\"#bd3786\"],[0.5555555555555556,\"#d8576b\"],[0.6666666666666666,\"#ed7953\"],[0.7777777777777778,\"#fb9f3a\"],[0.8888888888888888,\"#fdca26\"],[1.0,\"#f0f921\"]]}],\"mesh3d\":[{\"type\":\"mesh3d\",\"colorbar\":{\"outlinewidth\":0,\"ticks\":\"\"}}],\"scatter\":[{\"fillpattern\":{\"fillmode\":\"overlay\",\"size\":10,\"solidity\":0.2},\"type\":\"scatter\"}],\"parcoords\":[{\"type\":\"parcoords\",\"line\":{\"colorbar\":{\"outlinewidth\":0,\"ticks\":\"\"}}}],\"scatterpolargl\":[{\"type\":\"scatterpolargl\",\"marker\":{\"colorbar\":{\"outlinewidth\":0,\"ticks\":\"\"}}}],\"bar\":[{\"error_x\":{\"color\":\"#2a3f5f\"},\"error_y\":{\"color\":\"#2a3f5f\"},\"marker\":{\"line\":{\"color\":\"#E5ECF6\",\"width\":0.5},\"pattern\":{\"fillmode\":\"overlay\",\"size\":10,\"solidity\":0.2}},\"type\":\"bar\"}],\"scattergeo\":[{\"type\":\"scattergeo\",\"marker\":{\"colorbar\":{\"outlinewidth\":0,\"ticks\":\"\"}}}],\"scatterpolar\":[{\"type\":\"scatterpolar\",\"marker\":{\"colorbar\":{\"outlinewidth\":0,\"ticks\":\"\"}}}],\"histogram\":[{\"marker\":{\"pattern\":{\"fillmode\":\"overlay\",\"size\":10,\"solidity\":0.2}},\"type\":\"histogram\"}],\"scattergl\":[{\"type\":\"scattergl\",\"marker\":{\"colorbar\":{\"outlinewidth\":0,\"ticks\":\"\"}}}],\"scatter3d\":[{\"type\":\"scatter3d\",\"line\":{\"colorbar\":{\"outlinewidth\":0,\"ticks\":\"\"}},\"marker\":{\"colorbar\":{\"outlinewidth\":0,\"ticks\":\"\"}}}],\"scattermapbox\":[{\"type\":\"scattermapbox\",\"marker\":{\"colorbar\":{\"outlinewidth\":0,\"ticks\":\"\"}}}],\"scatterternary\":[{\"type\":\"scatterternary\",\"marker\":{\"colorbar\":{\"outlinewidth\":0,\"ticks\":\"\"}}}],\"scattercarpet\":[{\"type\":\"scattercarpet\",\"marker\":{\"colorbar\":{\"outlinewidth\":0,\"ticks\":\"\"}}}],\"carpet\":[{\"aaxis\":{\"endlinecolor\":\"#2a3f5f\",\"gridcolor\":\"white\",\"linecolor\":\"white\",\"minorgridcolor\":\"white\",\"startlinecolor\":\"#2a3f5f\"},\"baxis\":{\"endlinecolor\":\"#2a3f5f\",\"gridcolor\":\"white\",\"linecolor\":\"white\",\"minorgridcolor\":\"white\",\"startlinecolor\":\"#2a3f5f\"},\"type\":\"carpet\"}],\"table\":[{\"cells\":{\"fill\":{\"color\":\"#EBF0F8\"},\"line\":{\"color\":\"white\"}},\"header\":{\"fill\":{\"color\":\"#C8D4E3\"},\"line\":{\"color\":\"white\"}},\"type\":\"table\"}],\"barpolar\":[{\"marker\":{\"line\":{\"color\":\"#E5ECF6\",\"width\":0.5},\"pattern\":{\"fillmode\":\"overlay\",\"size\":10,\"solidity\":0.2}},\"type\":\"barpolar\"}],\"pie\":[{\"automargin\":true,\"type\":\"pie\"}]},\"layout\":{\"autotypenumbers\":\"strict\",\"colorway\":[\"#636efa\",\"#EF553B\",\"#00cc96\",\"#ab63fa\",\"#FFA15A\",\"#19d3f3\",\"#FF6692\",\"#B6E880\",\"#FF97FF\",\"#FECB52\"],\"font\":{\"color\":\"#2a3f5f\"},\"hovermode\":\"closest\",\"hoverlabel\":{\"align\":\"left\"},\"paper_bgcolor\":\"white\",\"plot_bgcolor\":\"#E5ECF6\",\"polar\":{\"bgcolor\":\"#E5ECF6\",\"angularaxis\":{\"gridcolor\":\"white\",\"linecolor\":\"white\",\"ticks\":\"\"},\"radialaxis\":{\"gridcolor\":\"white\",\"linecolor\":\"white\",\"ticks\":\"\"}},\"ternary\":{\"bgcolor\":\"#E5ECF6\",\"aaxis\":{\"gridcolor\":\"white\",\"linecolor\":\"white\",\"ticks\":\"\"},\"baxis\":{\"gridcolor\":\"white\",\"linecolor\":\"white\",\"ticks\":\"\"},\"caxis\":{\"gridcolor\":\"white\",\"linecolor\":\"white\",\"ticks\":\"\"}},\"coloraxis\":{\"colorbar\":{\"outlinewidth\":0,\"ticks\":\"\"}},\"colorscale\":{\"sequential\":[[0.0,\"#0d0887\"],[0.1111111111111111,\"#46039f\"],[0.2222222222222222,\"#7201a8\"],[0.3333333333333333,\"#9c179e\"],[0.4444444444444444,\"#bd3786\"],[0.5555555555555556,\"#d8576b\"],[0.6666666666666666,\"#ed7953\"],[0.7777777777777778,\"#fb9f3a\"],[0.8888888888888888,\"#fdca26\"],[1.0,\"#f0f921\"]],\"sequentialminus\":[[0.0,\"#0d0887\"],[0.1111111111111111,\"#46039f\"],[0.2222222222222222,\"#7201a8\"],[0.3333333333333333,\"#9c179e\"],[0.4444444444444444,\"#bd3786\"],[0.5555555555555556,\"#d8576b\"],[0.6666666666666666,\"#ed7953\"],[0.7777777777777778,\"#fb9f3a\"],[0.8888888888888888,\"#fdca26\"],[1.0,\"#f0f921\"]],\"diverging\":[[0,\"#8e0152\"],[0.1,\"#c51b7d\"],[0.2,\"#de77ae\"],[0.3,\"#f1b6da\"],[0.4,\"#fde0ef\"],[0.5,\"#f7f7f7\"],[0.6,\"#e6f5d0\"],[0.7,\"#b8e186\"],[0.8,\"#7fbc41\"],[0.9,\"#4d9221\"],[1,\"#276419\"]]},\"xaxis\":{\"gridcolor\":\"white\",\"linecolor\":\"white\",\"ticks\":\"\",\"title\":{\"standoff\":15},\"zerolinecolor\":\"white\",\"automargin\":true,\"zerolinewidth\":2},\"yaxis\":{\"gridcolor\":\"white\",\"linecolor\":\"white\",\"ticks\":\"\",\"title\":{\"standoff\":15},\"zerolinecolor\":\"white\",\"automargin\":true,\"zerolinewidth\":2},\"scene\":{\"xaxis\":{\"backgroundcolor\":\"#E5ECF6\",\"gridcolor\":\"white\",\"linecolor\":\"white\",\"showbackground\":true,\"ticks\":\"\",\"zerolinecolor\":\"white\",\"gridwidth\":2},\"yaxis\":{\"backgroundcolor\":\"#E5ECF6\",\"gridcolor\":\"white\",\"linecolor\":\"white\",\"showbackground\":true,\"ticks\":\"\",\"zerolinecolor\":\"white\",\"gridwidth\":2},\"zaxis\":{\"backgroundcolor\":\"#E5ECF6\",\"gridcolor\":\"white\",\"linecolor\":\"white\",\"showbackground\":true,\"ticks\":\"\",\"zerolinecolor\":\"white\",\"gridwidth\":2}},\"shapedefaults\":{\"line\":{\"color\":\"#2a3f5f\"}},\"annotationdefaults\":{\"arrowcolor\":\"#2a3f5f\",\"arrowhead\":0,\"arrowwidth\":1},\"geo\":{\"bgcolor\":\"white\",\"landcolor\":\"#E5ECF6\",\"subunitcolor\":\"white\",\"showland\":true,\"showlakes\":true,\"lakecolor\":\"white\"},\"title\":{\"x\":0.05},\"mapbox\":{\"style\":\"light\"}}}},                        {\"responsive\": true}                    ).then(function(){\n",
       "                            \n",
       "var gd = document.getElementById('94977e7f-6363-4e01-8aa5-75835f0e5474');\n",
       "var x = new MutationObserver(function (mutations, observer) {{\n",
       "        var display = window.getComputedStyle(gd).display;\n",
       "        if (!display || display === 'none') {{\n",
       "            console.log([gd, 'removed!']);\n",
       "            Plotly.purge(gd);\n",
       "            observer.disconnect();\n",
       "        }}\n",
       "}});\n",
       "\n",
       "// Listen for the removal of the full notebook cells\n",
       "var notebookContainer = gd.closest('#notebook-container');\n",
       "if (notebookContainer) {{\n",
       "    x.observe(notebookContainer, {childList: true});\n",
       "}}\n",
       "\n",
       "// Listen for the clearing of the current output cell\n",
       "var outputEl = gd.closest('.output');\n",
       "if (outputEl) {{\n",
       "    x.observe(outputEl, {childList: true});\n",
       "}}\n",
       "\n",
       "                        })                };                });            </script>        </div>"
      ]
     },
     "metadata": {},
     "output_type": "display_data"
    },
    {
     "name": "stdout",
     "output_type": "stream",
     "text": [
      "2023-04-21_Trial7_1k_smoothened_interpol_COM\n"
     ]
    },
    {
     "data": {
      "application/vnd.plotly.v1+json": {
       "config": {
        "plotlyServerURL": "https://plot.ly"
       },
       "data": [],
       "layout": {
        "template": {
         "data": {
          "bar": [
           {
            "error_x": {
             "color": "#2a3f5f"
            },
            "error_y": {
             "color": "#2a3f5f"
            },
            "marker": {
             "line": {
              "color": "#E5ECF6",
              "width": 0.5
             },
             "pattern": {
              "fillmode": "overlay",
              "size": 10,
              "solidity": 0.2
             }
            },
            "type": "bar"
           }
          ],
          "barpolar": [
           {
            "marker": {
             "line": {
              "color": "#E5ECF6",
              "width": 0.5
             },
             "pattern": {
              "fillmode": "overlay",
              "size": 10,
              "solidity": 0.2
             }
            },
            "type": "barpolar"
           }
          ],
          "carpet": [
           {
            "aaxis": {
             "endlinecolor": "#2a3f5f",
             "gridcolor": "white",
             "linecolor": "white",
             "minorgridcolor": "white",
             "startlinecolor": "#2a3f5f"
            },
            "baxis": {
             "endlinecolor": "#2a3f5f",
             "gridcolor": "white",
             "linecolor": "white",
             "minorgridcolor": "white",
             "startlinecolor": "#2a3f5f"
            },
            "type": "carpet"
           }
          ],
          "choropleth": [
           {
            "colorbar": {
             "outlinewidth": 0,
             "ticks": ""
            },
            "type": "choropleth"
           }
          ],
          "contour": [
           {
            "colorbar": {
             "outlinewidth": 0,
             "ticks": ""
            },
            "colorscale": [
             [
              0,
              "#0d0887"
             ],
             [
              0.1111111111111111,
              "#46039f"
             ],
             [
              0.2222222222222222,
              "#7201a8"
             ],
             [
              0.3333333333333333,
              "#9c179e"
             ],
             [
              0.4444444444444444,
              "#bd3786"
             ],
             [
              0.5555555555555556,
              "#d8576b"
             ],
             [
              0.6666666666666666,
              "#ed7953"
             ],
             [
              0.7777777777777778,
              "#fb9f3a"
             ],
             [
              0.8888888888888888,
              "#fdca26"
             ],
             [
              1,
              "#f0f921"
             ]
            ],
            "type": "contour"
           }
          ],
          "contourcarpet": [
           {
            "colorbar": {
             "outlinewidth": 0,
             "ticks": ""
            },
            "type": "contourcarpet"
           }
          ],
          "heatmap": [
           {
            "colorbar": {
             "outlinewidth": 0,
             "ticks": ""
            },
            "colorscale": [
             [
              0,
              "#0d0887"
             ],
             [
              0.1111111111111111,
              "#46039f"
             ],
             [
              0.2222222222222222,
              "#7201a8"
             ],
             [
              0.3333333333333333,
              "#9c179e"
             ],
             [
              0.4444444444444444,
              "#bd3786"
             ],
             [
              0.5555555555555556,
              "#d8576b"
             ],
             [
              0.6666666666666666,
              "#ed7953"
             ],
             [
              0.7777777777777778,
              "#fb9f3a"
             ],
             [
              0.8888888888888888,
              "#fdca26"
             ],
             [
              1,
              "#f0f921"
             ]
            ],
            "type": "heatmap"
           }
          ],
          "heatmapgl": [
           {
            "colorbar": {
             "outlinewidth": 0,
             "ticks": ""
            },
            "colorscale": [
             [
              0,
              "#0d0887"
             ],
             [
              0.1111111111111111,
              "#46039f"
             ],
             [
              0.2222222222222222,
              "#7201a8"
             ],
             [
              0.3333333333333333,
              "#9c179e"
             ],
             [
              0.4444444444444444,
              "#bd3786"
             ],
             [
              0.5555555555555556,
              "#d8576b"
             ],
             [
              0.6666666666666666,
              "#ed7953"
             ],
             [
              0.7777777777777778,
              "#fb9f3a"
             ],
             [
              0.8888888888888888,
              "#fdca26"
             ],
             [
              1,
              "#f0f921"
             ]
            ],
            "type": "heatmapgl"
           }
          ],
          "histogram": [
           {
            "marker": {
             "pattern": {
              "fillmode": "overlay",
              "size": 10,
              "solidity": 0.2
             }
            },
            "type": "histogram"
           }
          ],
          "histogram2d": [
           {
            "colorbar": {
             "outlinewidth": 0,
             "ticks": ""
            },
            "colorscale": [
             [
              0,
              "#0d0887"
             ],
             [
              0.1111111111111111,
              "#46039f"
             ],
             [
              0.2222222222222222,
              "#7201a8"
             ],
             [
              0.3333333333333333,
              "#9c179e"
             ],
             [
              0.4444444444444444,
              "#bd3786"
             ],
             [
              0.5555555555555556,
              "#d8576b"
             ],
             [
              0.6666666666666666,
              "#ed7953"
             ],
             [
              0.7777777777777778,
              "#fb9f3a"
             ],
             [
              0.8888888888888888,
              "#fdca26"
             ],
             [
              1,
              "#f0f921"
             ]
            ],
            "type": "histogram2d"
           }
          ],
          "histogram2dcontour": [
           {
            "colorbar": {
             "outlinewidth": 0,
             "ticks": ""
            },
            "colorscale": [
             [
              0,
              "#0d0887"
             ],
             [
              0.1111111111111111,
              "#46039f"
             ],
             [
              0.2222222222222222,
              "#7201a8"
             ],
             [
              0.3333333333333333,
              "#9c179e"
             ],
             [
              0.4444444444444444,
              "#bd3786"
             ],
             [
              0.5555555555555556,
              "#d8576b"
             ],
             [
              0.6666666666666666,
              "#ed7953"
             ],
             [
              0.7777777777777778,
              "#fb9f3a"
             ],
             [
              0.8888888888888888,
              "#fdca26"
             ],
             [
              1,
              "#f0f921"
             ]
            ],
            "type": "histogram2dcontour"
           }
          ],
          "mesh3d": [
           {
            "colorbar": {
             "outlinewidth": 0,
             "ticks": ""
            },
            "type": "mesh3d"
           }
          ],
          "parcoords": [
           {
            "line": {
             "colorbar": {
              "outlinewidth": 0,
              "ticks": ""
             }
            },
            "type": "parcoords"
           }
          ],
          "pie": [
           {
            "automargin": true,
            "type": "pie"
           }
          ],
          "scatter": [
           {
            "fillpattern": {
             "fillmode": "overlay",
             "size": 10,
             "solidity": 0.2
            },
            "type": "scatter"
           }
          ],
          "scatter3d": [
           {
            "line": {
             "colorbar": {
              "outlinewidth": 0,
              "ticks": ""
             }
            },
            "marker": {
             "colorbar": {
              "outlinewidth": 0,
              "ticks": ""
             }
            },
            "type": "scatter3d"
           }
          ],
          "scattercarpet": [
           {
            "marker": {
             "colorbar": {
              "outlinewidth": 0,
              "ticks": ""
             }
            },
            "type": "scattercarpet"
           }
          ],
          "scattergeo": [
           {
            "marker": {
             "colorbar": {
              "outlinewidth": 0,
              "ticks": ""
             }
            },
            "type": "scattergeo"
           }
          ],
          "scattergl": [
           {
            "marker": {
             "colorbar": {
              "outlinewidth": 0,
              "ticks": ""
             }
            },
            "type": "scattergl"
           }
          ],
          "scattermapbox": [
           {
            "marker": {
             "colorbar": {
              "outlinewidth": 0,
              "ticks": ""
             }
            },
            "type": "scattermapbox"
           }
          ],
          "scatterpolar": [
           {
            "marker": {
             "colorbar": {
              "outlinewidth": 0,
              "ticks": ""
             }
            },
            "type": "scatterpolar"
           }
          ],
          "scatterpolargl": [
           {
            "marker": {
             "colorbar": {
              "outlinewidth": 0,
              "ticks": ""
             }
            },
            "type": "scatterpolargl"
           }
          ],
          "scatterternary": [
           {
            "marker": {
             "colorbar": {
              "outlinewidth": 0,
              "ticks": ""
             }
            },
            "type": "scatterternary"
           }
          ],
          "surface": [
           {
            "colorbar": {
             "outlinewidth": 0,
             "ticks": ""
            },
            "colorscale": [
             [
              0,
              "#0d0887"
             ],
             [
              0.1111111111111111,
              "#46039f"
             ],
             [
              0.2222222222222222,
              "#7201a8"
             ],
             [
              0.3333333333333333,
              "#9c179e"
             ],
             [
              0.4444444444444444,
              "#bd3786"
             ],
             [
              0.5555555555555556,
              "#d8576b"
             ],
             [
              0.6666666666666666,
              "#ed7953"
             ],
             [
              0.7777777777777778,
              "#fb9f3a"
             ],
             [
              0.8888888888888888,
              "#fdca26"
             ],
             [
              1,
              "#f0f921"
             ]
            ],
            "type": "surface"
           }
          ],
          "table": [
           {
            "cells": {
             "fill": {
              "color": "#EBF0F8"
             },
             "line": {
              "color": "white"
             }
            },
            "header": {
             "fill": {
              "color": "#C8D4E3"
             },
             "line": {
              "color": "white"
             }
            },
            "type": "table"
           }
          ]
         },
         "layout": {
          "annotationdefaults": {
           "arrowcolor": "#2a3f5f",
           "arrowhead": 0,
           "arrowwidth": 1
          },
          "autotypenumbers": "strict",
          "coloraxis": {
           "colorbar": {
            "outlinewidth": 0,
            "ticks": ""
           }
          },
          "colorscale": {
           "diverging": [
            [
             0,
             "#8e0152"
            ],
            [
             0.1,
             "#c51b7d"
            ],
            [
             0.2,
             "#de77ae"
            ],
            [
             0.3,
             "#f1b6da"
            ],
            [
             0.4,
             "#fde0ef"
            ],
            [
             0.5,
             "#f7f7f7"
            ],
            [
             0.6,
             "#e6f5d0"
            ],
            [
             0.7,
             "#b8e186"
            ],
            [
             0.8,
             "#7fbc41"
            ],
            [
             0.9,
             "#4d9221"
            ],
            [
             1,
             "#276419"
            ]
           ],
           "sequential": [
            [
             0,
             "#0d0887"
            ],
            [
             0.1111111111111111,
             "#46039f"
            ],
            [
             0.2222222222222222,
             "#7201a8"
            ],
            [
             0.3333333333333333,
             "#9c179e"
            ],
            [
             0.4444444444444444,
             "#bd3786"
            ],
            [
             0.5555555555555556,
             "#d8576b"
            ],
            [
             0.6666666666666666,
             "#ed7953"
            ],
            [
             0.7777777777777778,
             "#fb9f3a"
            ],
            [
             0.8888888888888888,
             "#fdca26"
            ],
            [
             1,
             "#f0f921"
            ]
           ],
           "sequentialminus": [
            [
             0,
             "#0d0887"
            ],
            [
             0.1111111111111111,
             "#46039f"
            ],
            [
             0.2222222222222222,
             "#7201a8"
            ],
            [
             0.3333333333333333,
             "#9c179e"
            ],
            [
             0.4444444444444444,
             "#bd3786"
            ],
            [
             0.5555555555555556,
             "#d8576b"
            ],
            [
             0.6666666666666666,
             "#ed7953"
            ],
            [
             0.7777777777777778,
             "#fb9f3a"
            ],
            [
             0.8888888888888888,
             "#fdca26"
            ],
            [
             1,
             "#f0f921"
            ]
           ]
          },
          "colorway": [
           "#636efa",
           "#EF553B",
           "#00cc96",
           "#ab63fa",
           "#FFA15A",
           "#19d3f3",
           "#FF6692",
           "#B6E880",
           "#FF97FF",
           "#FECB52"
          ],
          "font": {
           "color": "#2a3f5f"
          },
          "geo": {
           "bgcolor": "white",
           "lakecolor": "white",
           "landcolor": "#E5ECF6",
           "showlakes": true,
           "showland": true,
           "subunitcolor": "white"
          },
          "hoverlabel": {
           "align": "left"
          },
          "hovermode": "closest",
          "mapbox": {
           "style": "light"
          },
          "paper_bgcolor": "white",
          "plot_bgcolor": "#E5ECF6",
          "polar": {
           "angularaxis": {
            "gridcolor": "white",
            "linecolor": "white",
            "ticks": ""
           },
           "bgcolor": "#E5ECF6",
           "radialaxis": {
            "gridcolor": "white",
            "linecolor": "white",
            "ticks": ""
           }
          },
          "scene": {
           "xaxis": {
            "backgroundcolor": "#E5ECF6",
            "gridcolor": "white",
            "gridwidth": 2,
            "linecolor": "white",
            "showbackground": true,
            "ticks": "",
            "zerolinecolor": "white"
           },
           "yaxis": {
            "backgroundcolor": "#E5ECF6",
            "gridcolor": "white",
            "gridwidth": 2,
            "linecolor": "white",
            "showbackground": true,
            "ticks": "",
            "zerolinecolor": "white"
           },
           "zaxis": {
            "backgroundcolor": "#E5ECF6",
            "gridcolor": "white",
            "gridwidth": 2,
            "linecolor": "white",
            "showbackground": true,
            "ticks": "",
            "zerolinecolor": "white"
           }
          },
          "shapedefaults": {
           "line": {
            "color": "#2a3f5f"
           }
          },
          "ternary": {
           "aaxis": {
            "gridcolor": "white",
            "linecolor": "white",
            "ticks": ""
           },
           "baxis": {
            "gridcolor": "white",
            "linecolor": "white",
            "ticks": ""
           },
           "bgcolor": "#E5ECF6",
           "caxis": {
            "gridcolor": "white",
            "linecolor": "white",
            "ticks": ""
           }
          },
          "title": {
           "x": 0.05
          },
          "xaxis": {
           "automargin": true,
           "gridcolor": "white",
           "linecolor": "white",
           "ticks": "",
           "title": {
            "standoff": 15
           },
           "zerolinecolor": "white",
           "zerolinewidth": 2
          },
          "yaxis": {
           "automargin": true,
           "gridcolor": "white",
           "linecolor": "white",
           "ticks": "",
           "title": {
            "standoff": 15
           },
           "zerolinecolor": "white",
           "zerolinewidth": 2
          }
         }
        }
       }
      },
      "text/html": [
       "<div>                            <div id=\"32b37799-3f9e-475c-9285-1f90b7a818ea\" class=\"plotly-graph-div\" style=\"height:525px; width:100%;\"></div>            <script type=\"text/javascript\">                require([\"plotly\"], function(Plotly) {                    window.PLOTLYENV=window.PLOTLYENV || {};                                    if (document.getElementById(\"32b37799-3f9e-475c-9285-1f90b7a818ea\")) {                    Plotly.newPlot(                        \"32b37799-3f9e-475c-9285-1f90b7a818ea\",                        [],                        {\"template\":{\"data\":{\"histogram2dcontour\":[{\"type\":\"histogram2dcontour\",\"colorbar\":{\"outlinewidth\":0,\"ticks\":\"\"},\"colorscale\":[[0.0,\"#0d0887\"],[0.1111111111111111,\"#46039f\"],[0.2222222222222222,\"#7201a8\"],[0.3333333333333333,\"#9c179e\"],[0.4444444444444444,\"#bd3786\"],[0.5555555555555556,\"#d8576b\"],[0.6666666666666666,\"#ed7953\"],[0.7777777777777778,\"#fb9f3a\"],[0.8888888888888888,\"#fdca26\"],[1.0,\"#f0f921\"]]}],\"choropleth\":[{\"type\":\"choropleth\",\"colorbar\":{\"outlinewidth\":0,\"ticks\":\"\"}}],\"histogram2d\":[{\"type\":\"histogram2d\",\"colorbar\":{\"outlinewidth\":0,\"ticks\":\"\"},\"colorscale\":[[0.0,\"#0d0887\"],[0.1111111111111111,\"#46039f\"],[0.2222222222222222,\"#7201a8\"],[0.3333333333333333,\"#9c179e\"],[0.4444444444444444,\"#bd3786\"],[0.5555555555555556,\"#d8576b\"],[0.6666666666666666,\"#ed7953\"],[0.7777777777777778,\"#fb9f3a\"],[0.8888888888888888,\"#fdca26\"],[1.0,\"#f0f921\"]]}],\"heatmap\":[{\"type\":\"heatmap\",\"colorbar\":{\"outlinewidth\":0,\"ticks\":\"\"},\"colorscale\":[[0.0,\"#0d0887\"],[0.1111111111111111,\"#46039f\"],[0.2222222222222222,\"#7201a8\"],[0.3333333333333333,\"#9c179e\"],[0.4444444444444444,\"#bd3786\"],[0.5555555555555556,\"#d8576b\"],[0.6666666666666666,\"#ed7953\"],[0.7777777777777778,\"#fb9f3a\"],[0.8888888888888888,\"#fdca26\"],[1.0,\"#f0f921\"]]}],\"heatmapgl\":[{\"type\":\"heatmapgl\",\"colorbar\":{\"outlinewidth\":0,\"ticks\":\"\"},\"colorscale\":[[0.0,\"#0d0887\"],[0.1111111111111111,\"#46039f\"],[0.2222222222222222,\"#7201a8\"],[0.3333333333333333,\"#9c179e\"],[0.4444444444444444,\"#bd3786\"],[0.5555555555555556,\"#d8576b\"],[0.6666666666666666,\"#ed7953\"],[0.7777777777777778,\"#fb9f3a\"],[0.8888888888888888,\"#fdca26\"],[1.0,\"#f0f921\"]]}],\"contourcarpet\":[{\"type\":\"contourcarpet\",\"colorbar\":{\"outlinewidth\":0,\"ticks\":\"\"}}],\"contour\":[{\"type\":\"contour\",\"colorbar\":{\"outlinewidth\":0,\"ticks\":\"\"},\"colorscale\":[[0.0,\"#0d0887\"],[0.1111111111111111,\"#46039f\"],[0.2222222222222222,\"#7201a8\"],[0.3333333333333333,\"#9c179e\"],[0.4444444444444444,\"#bd3786\"],[0.5555555555555556,\"#d8576b\"],[0.6666666666666666,\"#ed7953\"],[0.7777777777777778,\"#fb9f3a\"],[0.8888888888888888,\"#fdca26\"],[1.0,\"#f0f921\"]]}],\"surface\":[{\"type\":\"surface\",\"colorbar\":{\"outlinewidth\":0,\"ticks\":\"\"},\"colorscale\":[[0.0,\"#0d0887\"],[0.1111111111111111,\"#46039f\"],[0.2222222222222222,\"#7201a8\"],[0.3333333333333333,\"#9c179e\"],[0.4444444444444444,\"#bd3786\"],[0.5555555555555556,\"#d8576b\"],[0.6666666666666666,\"#ed7953\"],[0.7777777777777778,\"#fb9f3a\"],[0.8888888888888888,\"#fdca26\"],[1.0,\"#f0f921\"]]}],\"mesh3d\":[{\"type\":\"mesh3d\",\"colorbar\":{\"outlinewidth\":0,\"ticks\":\"\"}}],\"scatter\":[{\"fillpattern\":{\"fillmode\":\"overlay\",\"size\":10,\"solidity\":0.2},\"type\":\"scatter\"}],\"parcoords\":[{\"type\":\"parcoords\",\"line\":{\"colorbar\":{\"outlinewidth\":0,\"ticks\":\"\"}}}],\"scatterpolargl\":[{\"type\":\"scatterpolargl\",\"marker\":{\"colorbar\":{\"outlinewidth\":0,\"ticks\":\"\"}}}],\"bar\":[{\"error_x\":{\"color\":\"#2a3f5f\"},\"error_y\":{\"color\":\"#2a3f5f\"},\"marker\":{\"line\":{\"color\":\"#E5ECF6\",\"width\":0.5},\"pattern\":{\"fillmode\":\"overlay\",\"size\":10,\"solidity\":0.2}},\"type\":\"bar\"}],\"scattergeo\":[{\"type\":\"scattergeo\",\"marker\":{\"colorbar\":{\"outlinewidth\":0,\"ticks\":\"\"}}}],\"scatterpolar\":[{\"type\":\"scatterpolar\",\"marker\":{\"colorbar\":{\"outlinewidth\":0,\"ticks\":\"\"}}}],\"histogram\":[{\"marker\":{\"pattern\":{\"fillmode\":\"overlay\",\"size\":10,\"solidity\":0.2}},\"type\":\"histogram\"}],\"scattergl\":[{\"type\":\"scattergl\",\"marker\":{\"colorbar\":{\"outlinewidth\":0,\"ticks\":\"\"}}}],\"scatter3d\":[{\"type\":\"scatter3d\",\"line\":{\"colorbar\":{\"outlinewidth\":0,\"ticks\":\"\"}},\"marker\":{\"colorbar\":{\"outlinewidth\":0,\"ticks\":\"\"}}}],\"scattermapbox\":[{\"type\":\"scattermapbox\",\"marker\":{\"colorbar\":{\"outlinewidth\":0,\"ticks\":\"\"}}}],\"scatterternary\":[{\"type\":\"scatterternary\",\"marker\":{\"colorbar\":{\"outlinewidth\":0,\"ticks\":\"\"}}}],\"scattercarpet\":[{\"type\":\"scattercarpet\",\"marker\":{\"colorbar\":{\"outlinewidth\":0,\"ticks\":\"\"}}}],\"carpet\":[{\"aaxis\":{\"endlinecolor\":\"#2a3f5f\",\"gridcolor\":\"white\",\"linecolor\":\"white\",\"minorgridcolor\":\"white\",\"startlinecolor\":\"#2a3f5f\"},\"baxis\":{\"endlinecolor\":\"#2a3f5f\",\"gridcolor\":\"white\",\"linecolor\":\"white\",\"minorgridcolor\":\"white\",\"startlinecolor\":\"#2a3f5f\"},\"type\":\"carpet\"}],\"table\":[{\"cells\":{\"fill\":{\"color\":\"#EBF0F8\"},\"line\":{\"color\":\"white\"}},\"header\":{\"fill\":{\"color\":\"#C8D4E3\"},\"line\":{\"color\":\"white\"}},\"type\":\"table\"}],\"barpolar\":[{\"marker\":{\"line\":{\"color\":\"#E5ECF6\",\"width\":0.5},\"pattern\":{\"fillmode\":\"overlay\",\"size\":10,\"solidity\":0.2}},\"type\":\"barpolar\"}],\"pie\":[{\"automargin\":true,\"type\":\"pie\"}]},\"layout\":{\"autotypenumbers\":\"strict\",\"colorway\":[\"#636efa\",\"#EF553B\",\"#00cc96\",\"#ab63fa\",\"#FFA15A\",\"#19d3f3\",\"#FF6692\",\"#B6E880\",\"#FF97FF\",\"#FECB52\"],\"font\":{\"color\":\"#2a3f5f\"},\"hovermode\":\"closest\",\"hoverlabel\":{\"align\":\"left\"},\"paper_bgcolor\":\"white\",\"plot_bgcolor\":\"#E5ECF6\",\"polar\":{\"bgcolor\":\"#E5ECF6\",\"angularaxis\":{\"gridcolor\":\"white\",\"linecolor\":\"white\",\"ticks\":\"\"},\"radialaxis\":{\"gridcolor\":\"white\",\"linecolor\":\"white\",\"ticks\":\"\"}},\"ternary\":{\"bgcolor\":\"#E5ECF6\",\"aaxis\":{\"gridcolor\":\"white\",\"linecolor\":\"white\",\"ticks\":\"\"},\"baxis\":{\"gridcolor\":\"white\",\"linecolor\":\"white\",\"ticks\":\"\"},\"caxis\":{\"gridcolor\":\"white\",\"linecolor\":\"white\",\"ticks\":\"\"}},\"coloraxis\":{\"colorbar\":{\"outlinewidth\":0,\"ticks\":\"\"}},\"colorscale\":{\"sequential\":[[0.0,\"#0d0887\"],[0.1111111111111111,\"#46039f\"],[0.2222222222222222,\"#7201a8\"],[0.3333333333333333,\"#9c179e\"],[0.4444444444444444,\"#bd3786\"],[0.5555555555555556,\"#d8576b\"],[0.6666666666666666,\"#ed7953\"],[0.7777777777777778,\"#fb9f3a\"],[0.8888888888888888,\"#fdca26\"],[1.0,\"#f0f921\"]],\"sequentialminus\":[[0.0,\"#0d0887\"],[0.1111111111111111,\"#46039f\"],[0.2222222222222222,\"#7201a8\"],[0.3333333333333333,\"#9c179e\"],[0.4444444444444444,\"#bd3786\"],[0.5555555555555556,\"#d8576b\"],[0.6666666666666666,\"#ed7953\"],[0.7777777777777778,\"#fb9f3a\"],[0.8888888888888888,\"#fdca26\"],[1.0,\"#f0f921\"]],\"diverging\":[[0,\"#8e0152\"],[0.1,\"#c51b7d\"],[0.2,\"#de77ae\"],[0.3,\"#f1b6da\"],[0.4,\"#fde0ef\"],[0.5,\"#f7f7f7\"],[0.6,\"#e6f5d0\"],[0.7,\"#b8e186\"],[0.8,\"#7fbc41\"],[0.9,\"#4d9221\"],[1,\"#276419\"]]},\"xaxis\":{\"gridcolor\":\"white\",\"linecolor\":\"white\",\"ticks\":\"\",\"title\":{\"standoff\":15},\"zerolinecolor\":\"white\",\"automargin\":true,\"zerolinewidth\":2},\"yaxis\":{\"gridcolor\":\"white\",\"linecolor\":\"white\",\"ticks\":\"\",\"title\":{\"standoff\":15},\"zerolinecolor\":\"white\",\"automargin\":true,\"zerolinewidth\":2},\"scene\":{\"xaxis\":{\"backgroundcolor\":\"#E5ECF6\",\"gridcolor\":\"white\",\"linecolor\":\"white\",\"showbackground\":true,\"ticks\":\"\",\"zerolinecolor\":\"white\",\"gridwidth\":2},\"yaxis\":{\"backgroundcolor\":\"#E5ECF6\",\"gridcolor\":\"white\",\"linecolor\":\"white\",\"showbackground\":true,\"ticks\":\"\",\"zerolinecolor\":\"white\",\"gridwidth\":2},\"zaxis\":{\"backgroundcolor\":\"#E5ECF6\",\"gridcolor\":\"white\",\"linecolor\":\"white\",\"showbackground\":true,\"ticks\":\"\",\"zerolinecolor\":\"white\",\"gridwidth\":2}},\"shapedefaults\":{\"line\":{\"color\":\"#2a3f5f\"}},\"annotationdefaults\":{\"arrowcolor\":\"#2a3f5f\",\"arrowhead\":0,\"arrowwidth\":1},\"geo\":{\"bgcolor\":\"white\",\"landcolor\":\"#E5ECF6\",\"subunitcolor\":\"white\",\"showland\":true,\"showlakes\":true,\"lakecolor\":\"white\"},\"title\":{\"x\":0.05},\"mapbox\":{\"style\":\"light\"}}}},                        {\"responsive\": true}                    ).then(function(){\n",
       "                            \n",
       "var gd = document.getElementById('32b37799-3f9e-475c-9285-1f90b7a818ea');\n",
       "var x = new MutationObserver(function (mutations, observer) {{\n",
       "        var display = window.getComputedStyle(gd).display;\n",
       "        if (!display || display === 'none') {{\n",
       "            console.log([gd, 'removed!']);\n",
       "            Plotly.purge(gd);\n",
       "            observer.disconnect();\n",
       "        }}\n",
       "}});\n",
       "\n",
       "// Listen for the removal of the full notebook cells\n",
       "var notebookContainer = gd.closest('#notebook-container');\n",
       "if (notebookContainer) {{\n",
       "    x.observe(notebookContainer, {childList: true});\n",
       "}}\n",
       "\n",
       "// Listen for the clearing of the current output cell\n",
       "var outputEl = gd.closest('.output');\n",
       "if (outputEl) {{\n",
       "    x.observe(outputEl, {childList: true});\n",
       "}}\n",
       "\n",
       "                        })                };                });            </script>        </div>"
      ]
     },
     "metadata": {},
     "output_type": "display_data"
    },
    {
     "name": "stdout",
     "output_type": "stream",
     "text": [
      "2023-04-28_Trial4_5k_smoothened_interpol_COM\n"
     ]
    },
    {
     "data": {
      "application/vnd.plotly.v1+json": {
       "config": {
        "plotlyServerURL": "https://plot.ly"
       },
       "data": [],
       "layout": {
        "template": {
         "data": {
          "bar": [
           {
            "error_x": {
             "color": "#2a3f5f"
            },
            "error_y": {
             "color": "#2a3f5f"
            },
            "marker": {
             "line": {
              "color": "#E5ECF6",
              "width": 0.5
             },
             "pattern": {
              "fillmode": "overlay",
              "size": 10,
              "solidity": 0.2
             }
            },
            "type": "bar"
           }
          ],
          "barpolar": [
           {
            "marker": {
             "line": {
              "color": "#E5ECF6",
              "width": 0.5
             },
             "pattern": {
              "fillmode": "overlay",
              "size": 10,
              "solidity": 0.2
             }
            },
            "type": "barpolar"
           }
          ],
          "carpet": [
           {
            "aaxis": {
             "endlinecolor": "#2a3f5f",
             "gridcolor": "white",
             "linecolor": "white",
             "minorgridcolor": "white",
             "startlinecolor": "#2a3f5f"
            },
            "baxis": {
             "endlinecolor": "#2a3f5f",
             "gridcolor": "white",
             "linecolor": "white",
             "minorgridcolor": "white",
             "startlinecolor": "#2a3f5f"
            },
            "type": "carpet"
           }
          ],
          "choropleth": [
           {
            "colorbar": {
             "outlinewidth": 0,
             "ticks": ""
            },
            "type": "choropleth"
           }
          ],
          "contour": [
           {
            "colorbar": {
             "outlinewidth": 0,
             "ticks": ""
            },
            "colorscale": [
             [
              0,
              "#0d0887"
             ],
             [
              0.1111111111111111,
              "#46039f"
             ],
             [
              0.2222222222222222,
              "#7201a8"
             ],
             [
              0.3333333333333333,
              "#9c179e"
             ],
             [
              0.4444444444444444,
              "#bd3786"
             ],
             [
              0.5555555555555556,
              "#d8576b"
             ],
             [
              0.6666666666666666,
              "#ed7953"
             ],
             [
              0.7777777777777778,
              "#fb9f3a"
             ],
             [
              0.8888888888888888,
              "#fdca26"
             ],
             [
              1,
              "#f0f921"
             ]
            ],
            "type": "contour"
           }
          ],
          "contourcarpet": [
           {
            "colorbar": {
             "outlinewidth": 0,
             "ticks": ""
            },
            "type": "contourcarpet"
           }
          ],
          "heatmap": [
           {
            "colorbar": {
             "outlinewidth": 0,
             "ticks": ""
            },
            "colorscale": [
             [
              0,
              "#0d0887"
             ],
             [
              0.1111111111111111,
              "#46039f"
             ],
             [
              0.2222222222222222,
              "#7201a8"
             ],
             [
              0.3333333333333333,
              "#9c179e"
             ],
             [
              0.4444444444444444,
              "#bd3786"
             ],
             [
              0.5555555555555556,
              "#d8576b"
             ],
             [
              0.6666666666666666,
              "#ed7953"
             ],
             [
              0.7777777777777778,
              "#fb9f3a"
             ],
             [
              0.8888888888888888,
              "#fdca26"
             ],
             [
              1,
              "#f0f921"
             ]
            ],
            "type": "heatmap"
           }
          ],
          "heatmapgl": [
           {
            "colorbar": {
             "outlinewidth": 0,
             "ticks": ""
            },
            "colorscale": [
             [
              0,
              "#0d0887"
             ],
             [
              0.1111111111111111,
              "#46039f"
             ],
             [
              0.2222222222222222,
              "#7201a8"
             ],
             [
              0.3333333333333333,
              "#9c179e"
             ],
             [
              0.4444444444444444,
              "#bd3786"
             ],
             [
              0.5555555555555556,
              "#d8576b"
             ],
             [
              0.6666666666666666,
              "#ed7953"
             ],
             [
              0.7777777777777778,
              "#fb9f3a"
             ],
             [
              0.8888888888888888,
              "#fdca26"
             ],
             [
              1,
              "#f0f921"
             ]
            ],
            "type": "heatmapgl"
           }
          ],
          "histogram": [
           {
            "marker": {
             "pattern": {
              "fillmode": "overlay",
              "size": 10,
              "solidity": 0.2
             }
            },
            "type": "histogram"
           }
          ],
          "histogram2d": [
           {
            "colorbar": {
             "outlinewidth": 0,
             "ticks": ""
            },
            "colorscale": [
             [
              0,
              "#0d0887"
             ],
             [
              0.1111111111111111,
              "#46039f"
             ],
             [
              0.2222222222222222,
              "#7201a8"
             ],
             [
              0.3333333333333333,
              "#9c179e"
             ],
             [
              0.4444444444444444,
              "#bd3786"
             ],
             [
              0.5555555555555556,
              "#d8576b"
             ],
             [
              0.6666666666666666,
              "#ed7953"
             ],
             [
              0.7777777777777778,
              "#fb9f3a"
             ],
             [
              0.8888888888888888,
              "#fdca26"
             ],
             [
              1,
              "#f0f921"
             ]
            ],
            "type": "histogram2d"
           }
          ],
          "histogram2dcontour": [
           {
            "colorbar": {
             "outlinewidth": 0,
             "ticks": ""
            },
            "colorscale": [
             [
              0,
              "#0d0887"
             ],
             [
              0.1111111111111111,
              "#46039f"
             ],
             [
              0.2222222222222222,
              "#7201a8"
             ],
             [
              0.3333333333333333,
              "#9c179e"
             ],
             [
              0.4444444444444444,
              "#bd3786"
             ],
             [
              0.5555555555555556,
              "#d8576b"
             ],
             [
              0.6666666666666666,
              "#ed7953"
             ],
             [
              0.7777777777777778,
              "#fb9f3a"
             ],
             [
              0.8888888888888888,
              "#fdca26"
             ],
             [
              1,
              "#f0f921"
             ]
            ],
            "type": "histogram2dcontour"
           }
          ],
          "mesh3d": [
           {
            "colorbar": {
             "outlinewidth": 0,
             "ticks": ""
            },
            "type": "mesh3d"
           }
          ],
          "parcoords": [
           {
            "line": {
             "colorbar": {
              "outlinewidth": 0,
              "ticks": ""
             }
            },
            "type": "parcoords"
           }
          ],
          "pie": [
           {
            "automargin": true,
            "type": "pie"
           }
          ],
          "scatter": [
           {
            "fillpattern": {
             "fillmode": "overlay",
             "size": 10,
             "solidity": 0.2
            },
            "type": "scatter"
           }
          ],
          "scatter3d": [
           {
            "line": {
             "colorbar": {
              "outlinewidth": 0,
              "ticks": ""
             }
            },
            "marker": {
             "colorbar": {
              "outlinewidth": 0,
              "ticks": ""
             }
            },
            "type": "scatter3d"
           }
          ],
          "scattercarpet": [
           {
            "marker": {
             "colorbar": {
              "outlinewidth": 0,
              "ticks": ""
             }
            },
            "type": "scattercarpet"
           }
          ],
          "scattergeo": [
           {
            "marker": {
             "colorbar": {
              "outlinewidth": 0,
              "ticks": ""
             }
            },
            "type": "scattergeo"
           }
          ],
          "scattergl": [
           {
            "marker": {
             "colorbar": {
              "outlinewidth": 0,
              "ticks": ""
             }
            },
            "type": "scattergl"
           }
          ],
          "scattermapbox": [
           {
            "marker": {
             "colorbar": {
              "outlinewidth": 0,
              "ticks": ""
             }
            },
            "type": "scattermapbox"
           }
          ],
          "scatterpolar": [
           {
            "marker": {
             "colorbar": {
              "outlinewidth": 0,
              "ticks": ""
             }
            },
            "type": "scatterpolar"
           }
          ],
          "scatterpolargl": [
           {
            "marker": {
             "colorbar": {
              "outlinewidth": 0,
              "ticks": ""
             }
            },
            "type": "scatterpolargl"
           }
          ],
          "scatterternary": [
           {
            "marker": {
             "colorbar": {
              "outlinewidth": 0,
              "ticks": ""
             }
            },
            "type": "scatterternary"
           }
          ],
          "surface": [
           {
            "colorbar": {
             "outlinewidth": 0,
             "ticks": ""
            },
            "colorscale": [
             [
              0,
              "#0d0887"
             ],
             [
              0.1111111111111111,
              "#46039f"
             ],
             [
              0.2222222222222222,
              "#7201a8"
             ],
             [
              0.3333333333333333,
              "#9c179e"
             ],
             [
              0.4444444444444444,
              "#bd3786"
             ],
             [
              0.5555555555555556,
              "#d8576b"
             ],
             [
              0.6666666666666666,
              "#ed7953"
             ],
             [
              0.7777777777777778,
              "#fb9f3a"
             ],
             [
              0.8888888888888888,
              "#fdca26"
             ],
             [
              1,
              "#f0f921"
             ]
            ],
            "type": "surface"
           }
          ],
          "table": [
           {
            "cells": {
             "fill": {
              "color": "#EBF0F8"
             },
             "line": {
              "color": "white"
             }
            },
            "header": {
             "fill": {
              "color": "#C8D4E3"
             },
             "line": {
              "color": "white"
             }
            },
            "type": "table"
           }
          ]
         },
         "layout": {
          "annotationdefaults": {
           "arrowcolor": "#2a3f5f",
           "arrowhead": 0,
           "arrowwidth": 1
          },
          "autotypenumbers": "strict",
          "coloraxis": {
           "colorbar": {
            "outlinewidth": 0,
            "ticks": ""
           }
          },
          "colorscale": {
           "diverging": [
            [
             0,
             "#8e0152"
            ],
            [
             0.1,
             "#c51b7d"
            ],
            [
             0.2,
             "#de77ae"
            ],
            [
             0.3,
             "#f1b6da"
            ],
            [
             0.4,
             "#fde0ef"
            ],
            [
             0.5,
             "#f7f7f7"
            ],
            [
             0.6,
             "#e6f5d0"
            ],
            [
             0.7,
             "#b8e186"
            ],
            [
             0.8,
             "#7fbc41"
            ],
            [
             0.9,
             "#4d9221"
            ],
            [
             1,
             "#276419"
            ]
           ],
           "sequential": [
            [
             0,
             "#0d0887"
            ],
            [
             0.1111111111111111,
             "#46039f"
            ],
            [
             0.2222222222222222,
             "#7201a8"
            ],
            [
             0.3333333333333333,
             "#9c179e"
            ],
            [
             0.4444444444444444,
             "#bd3786"
            ],
            [
             0.5555555555555556,
             "#d8576b"
            ],
            [
             0.6666666666666666,
             "#ed7953"
            ],
            [
             0.7777777777777778,
             "#fb9f3a"
            ],
            [
             0.8888888888888888,
             "#fdca26"
            ],
            [
             1,
             "#f0f921"
            ]
           ],
           "sequentialminus": [
            [
             0,
             "#0d0887"
            ],
            [
             0.1111111111111111,
             "#46039f"
            ],
            [
             0.2222222222222222,
             "#7201a8"
            ],
            [
             0.3333333333333333,
             "#9c179e"
            ],
            [
             0.4444444444444444,
             "#bd3786"
            ],
            [
             0.5555555555555556,
             "#d8576b"
            ],
            [
             0.6666666666666666,
             "#ed7953"
            ],
            [
             0.7777777777777778,
             "#fb9f3a"
            ],
            [
             0.8888888888888888,
             "#fdca26"
            ],
            [
             1,
             "#f0f921"
            ]
           ]
          },
          "colorway": [
           "#636efa",
           "#EF553B",
           "#00cc96",
           "#ab63fa",
           "#FFA15A",
           "#19d3f3",
           "#FF6692",
           "#B6E880",
           "#FF97FF",
           "#FECB52"
          ],
          "font": {
           "color": "#2a3f5f"
          },
          "geo": {
           "bgcolor": "white",
           "lakecolor": "white",
           "landcolor": "#E5ECF6",
           "showlakes": true,
           "showland": true,
           "subunitcolor": "white"
          },
          "hoverlabel": {
           "align": "left"
          },
          "hovermode": "closest",
          "mapbox": {
           "style": "light"
          },
          "paper_bgcolor": "white",
          "plot_bgcolor": "#E5ECF6",
          "polar": {
           "angularaxis": {
            "gridcolor": "white",
            "linecolor": "white",
            "ticks": ""
           },
           "bgcolor": "#E5ECF6",
           "radialaxis": {
            "gridcolor": "white",
            "linecolor": "white",
            "ticks": ""
           }
          },
          "scene": {
           "xaxis": {
            "backgroundcolor": "#E5ECF6",
            "gridcolor": "white",
            "gridwidth": 2,
            "linecolor": "white",
            "showbackground": true,
            "ticks": "",
            "zerolinecolor": "white"
           },
           "yaxis": {
            "backgroundcolor": "#E5ECF6",
            "gridcolor": "white",
            "gridwidth": 2,
            "linecolor": "white",
            "showbackground": true,
            "ticks": "",
            "zerolinecolor": "white"
           },
           "zaxis": {
            "backgroundcolor": "#E5ECF6",
            "gridcolor": "white",
            "gridwidth": 2,
            "linecolor": "white",
            "showbackground": true,
            "ticks": "",
            "zerolinecolor": "white"
           }
          },
          "shapedefaults": {
           "line": {
            "color": "#2a3f5f"
           }
          },
          "ternary": {
           "aaxis": {
            "gridcolor": "white",
            "linecolor": "white",
            "ticks": ""
           },
           "baxis": {
            "gridcolor": "white",
            "linecolor": "white",
            "ticks": ""
           },
           "bgcolor": "#E5ECF6",
           "caxis": {
            "gridcolor": "white",
            "linecolor": "white",
            "ticks": ""
           }
          },
          "title": {
           "x": 0.05
          },
          "xaxis": {
           "automargin": true,
           "gridcolor": "white",
           "linecolor": "white",
           "ticks": "",
           "title": {
            "standoff": 15
           },
           "zerolinecolor": "white",
           "zerolinewidth": 2
          },
          "yaxis": {
           "automargin": true,
           "gridcolor": "white",
           "linecolor": "white",
           "ticks": "",
           "title": {
            "standoff": 15
           },
           "zerolinecolor": "white",
           "zerolinewidth": 2
          }
         }
        }
       }
      },
      "text/html": [
       "<div>                            <div id=\"686b6fb0-cb29-4a77-928d-29f3b7e0bf35\" class=\"plotly-graph-div\" style=\"height:525px; width:100%;\"></div>            <script type=\"text/javascript\">                require([\"plotly\"], function(Plotly) {                    window.PLOTLYENV=window.PLOTLYENV || {};                                    if (document.getElementById(\"686b6fb0-cb29-4a77-928d-29f3b7e0bf35\")) {                    Plotly.newPlot(                        \"686b6fb0-cb29-4a77-928d-29f3b7e0bf35\",                        [],                        {\"template\":{\"data\":{\"histogram2dcontour\":[{\"type\":\"histogram2dcontour\",\"colorbar\":{\"outlinewidth\":0,\"ticks\":\"\"},\"colorscale\":[[0.0,\"#0d0887\"],[0.1111111111111111,\"#46039f\"],[0.2222222222222222,\"#7201a8\"],[0.3333333333333333,\"#9c179e\"],[0.4444444444444444,\"#bd3786\"],[0.5555555555555556,\"#d8576b\"],[0.6666666666666666,\"#ed7953\"],[0.7777777777777778,\"#fb9f3a\"],[0.8888888888888888,\"#fdca26\"],[1.0,\"#f0f921\"]]}],\"choropleth\":[{\"type\":\"choropleth\",\"colorbar\":{\"outlinewidth\":0,\"ticks\":\"\"}}],\"histogram2d\":[{\"type\":\"histogram2d\",\"colorbar\":{\"outlinewidth\":0,\"ticks\":\"\"},\"colorscale\":[[0.0,\"#0d0887\"],[0.1111111111111111,\"#46039f\"],[0.2222222222222222,\"#7201a8\"],[0.3333333333333333,\"#9c179e\"],[0.4444444444444444,\"#bd3786\"],[0.5555555555555556,\"#d8576b\"],[0.6666666666666666,\"#ed7953\"],[0.7777777777777778,\"#fb9f3a\"],[0.8888888888888888,\"#fdca26\"],[1.0,\"#f0f921\"]]}],\"heatmap\":[{\"type\":\"heatmap\",\"colorbar\":{\"outlinewidth\":0,\"ticks\":\"\"},\"colorscale\":[[0.0,\"#0d0887\"],[0.1111111111111111,\"#46039f\"],[0.2222222222222222,\"#7201a8\"],[0.3333333333333333,\"#9c179e\"],[0.4444444444444444,\"#bd3786\"],[0.5555555555555556,\"#d8576b\"],[0.6666666666666666,\"#ed7953\"],[0.7777777777777778,\"#fb9f3a\"],[0.8888888888888888,\"#fdca26\"],[1.0,\"#f0f921\"]]}],\"heatmapgl\":[{\"type\":\"heatmapgl\",\"colorbar\":{\"outlinewidth\":0,\"ticks\":\"\"},\"colorscale\":[[0.0,\"#0d0887\"],[0.1111111111111111,\"#46039f\"],[0.2222222222222222,\"#7201a8\"],[0.3333333333333333,\"#9c179e\"],[0.4444444444444444,\"#bd3786\"],[0.5555555555555556,\"#d8576b\"],[0.6666666666666666,\"#ed7953\"],[0.7777777777777778,\"#fb9f3a\"],[0.8888888888888888,\"#fdca26\"],[1.0,\"#f0f921\"]]}],\"contourcarpet\":[{\"type\":\"contourcarpet\",\"colorbar\":{\"outlinewidth\":0,\"ticks\":\"\"}}],\"contour\":[{\"type\":\"contour\",\"colorbar\":{\"outlinewidth\":0,\"ticks\":\"\"},\"colorscale\":[[0.0,\"#0d0887\"],[0.1111111111111111,\"#46039f\"],[0.2222222222222222,\"#7201a8\"],[0.3333333333333333,\"#9c179e\"],[0.4444444444444444,\"#bd3786\"],[0.5555555555555556,\"#d8576b\"],[0.6666666666666666,\"#ed7953\"],[0.7777777777777778,\"#fb9f3a\"],[0.8888888888888888,\"#fdca26\"],[1.0,\"#f0f921\"]]}],\"surface\":[{\"type\":\"surface\",\"colorbar\":{\"outlinewidth\":0,\"ticks\":\"\"},\"colorscale\":[[0.0,\"#0d0887\"],[0.1111111111111111,\"#46039f\"],[0.2222222222222222,\"#7201a8\"],[0.3333333333333333,\"#9c179e\"],[0.4444444444444444,\"#bd3786\"],[0.5555555555555556,\"#d8576b\"],[0.6666666666666666,\"#ed7953\"],[0.7777777777777778,\"#fb9f3a\"],[0.8888888888888888,\"#fdca26\"],[1.0,\"#f0f921\"]]}],\"mesh3d\":[{\"type\":\"mesh3d\",\"colorbar\":{\"outlinewidth\":0,\"ticks\":\"\"}}],\"scatter\":[{\"fillpattern\":{\"fillmode\":\"overlay\",\"size\":10,\"solidity\":0.2},\"type\":\"scatter\"}],\"parcoords\":[{\"type\":\"parcoords\",\"line\":{\"colorbar\":{\"outlinewidth\":0,\"ticks\":\"\"}}}],\"scatterpolargl\":[{\"type\":\"scatterpolargl\",\"marker\":{\"colorbar\":{\"outlinewidth\":0,\"ticks\":\"\"}}}],\"bar\":[{\"error_x\":{\"color\":\"#2a3f5f\"},\"error_y\":{\"color\":\"#2a3f5f\"},\"marker\":{\"line\":{\"color\":\"#E5ECF6\",\"width\":0.5},\"pattern\":{\"fillmode\":\"overlay\",\"size\":10,\"solidity\":0.2}},\"type\":\"bar\"}],\"scattergeo\":[{\"type\":\"scattergeo\",\"marker\":{\"colorbar\":{\"outlinewidth\":0,\"ticks\":\"\"}}}],\"scatterpolar\":[{\"type\":\"scatterpolar\",\"marker\":{\"colorbar\":{\"outlinewidth\":0,\"ticks\":\"\"}}}],\"histogram\":[{\"marker\":{\"pattern\":{\"fillmode\":\"overlay\",\"size\":10,\"solidity\":0.2}},\"type\":\"histogram\"}],\"scattergl\":[{\"type\":\"scattergl\",\"marker\":{\"colorbar\":{\"outlinewidth\":0,\"ticks\":\"\"}}}],\"scatter3d\":[{\"type\":\"scatter3d\",\"line\":{\"colorbar\":{\"outlinewidth\":0,\"ticks\":\"\"}},\"marker\":{\"colorbar\":{\"outlinewidth\":0,\"ticks\":\"\"}}}],\"scattermapbox\":[{\"type\":\"scattermapbox\",\"marker\":{\"colorbar\":{\"outlinewidth\":0,\"ticks\":\"\"}}}],\"scatterternary\":[{\"type\":\"scatterternary\",\"marker\":{\"colorbar\":{\"outlinewidth\":0,\"ticks\":\"\"}}}],\"scattercarpet\":[{\"type\":\"scattercarpet\",\"marker\":{\"colorbar\":{\"outlinewidth\":0,\"ticks\":\"\"}}}],\"carpet\":[{\"aaxis\":{\"endlinecolor\":\"#2a3f5f\",\"gridcolor\":\"white\",\"linecolor\":\"white\",\"minorgridcolor\":\"white\",\"startlinecolor\":\"#2a3f5f\"},\"baxis\":{\"endlinecolor\":\"#2a3f5f\",\"gridcolor\":\"white\",\"linecolor\":\"white\",\"minorgridcolor\":\"white\",\"startlinecolor\":\"#2a3f5f\"},\"type\":\"carpet\"}],\"table\":[{\"cells\":{\"fill\":{\"color\":\"#EBF0F8\"},\"line\":{\"color\":\"white\"}},\"header\":{\"fill\":{\"color\":\"#C8D4E3\"},\"line\":{\"color\":\"white\"}},\"type\":\"table\"}],\"barpolar\":[{\"marker\":{\"line\":{\"color\":\"#E5ECF6\",\"width\":0.5},\"pattern\":{\"fillmode\":\"overlay\",\"size\":10,\"solidity\":0.2}},\"type\":\"barpolar\"}],\"pie\":[{\"automargin\":true,\"type\":\"pie\"}]},\"layout\":{\"autotypenumbers\":\"strict\",\"colorway\":[\"#636efa\",\"#EF553B\",\"#00cc96\",\"#ab63fa\",\"#FFA15A\",\"#19d3f3\",\"#FF6692\",\"#B6E880\",\"#FF97FF\",\"#FECB52\"],\"font\":{\"color\":\"#2a3f5f\"},\"hovermode\":\"closest\",\"hoverlabel\":{\"align\":\"left\"},\"paper_bgcolor\":\"white\",\"plot_bgcolor\":\"#E5ECF6\",\"polar\":{\"bgcolor\":\"#E5ECF6\",\"angularaxis\":{\"gridcolor\":\"white\",\"linecolor\":\"white\",\"ticks\":\"\"},\"radialaxis\":{\"gridcolor\":\"white\",\"linecolor\":\"white\",\"ticks\":\"\"}},\"ternary\":{\"bgcolor\":\"#E5ECF6\",\"aaxis\":{\"gridcolor\":\"white\",\"linecolor\":\"white\",\"ticks\":\"\"},\"baxis\":{\"gridcolor\":\"white\",\"linecolor\":\"white\",\"ticks\":\"\"},\"caxis\":{\"gridcolor\":\"white\",\"linecolor\":\"white\",\"ticks\":\"\"}},\"coloraxis\":{\"colorbar\":{\"outlinewidth\":0,\"ticks\":\"\"}},\"colorscale\":{\"sequential\":[[0.0,\"#0d0887\"],[0.1111111111111111,\"#46039f\"],[0.2222222222222222,\"#7201a8\"],[0.3333333333333333,\"#9c179e\"],[0.4444444444444444,\"#bd3786\"],[0.5555555555555556,\"#d8576b\"],[0.6666666666666666,\"#ed7953\"],[0.7777777777777778,\"#fb9f3a\"],[0.8888888888888888,\"#fdca26\"],[1.0,\"#f0f921\"]],\"sequentialminus\":[[0.0,\"#0d0887\"],[0.1111111111111111,\"#46039f\"],[0.2222222222222222,\"#7201a8\"],[0.3333333333333333,\"#9c179e\"],[0.4444444444444444,\"#bd3786\"],[0.5555555555555556,\"#d8576b\"],[0.6666666666666666,\"#ed7953\"],[0.7777777777777778,\"#fb9f3a\"],[0.8888888888888888,\"#fdca26\"],[1.0,\"#f0f921\"]],\"diverging\":[[0,\"#8e0152\"],[0.1,\"#c51b7d\"],[0.2,\"#de77ae\"],[0.3,\"#f1b6da\"],[0.4,\"#fde0ef\"],[0.5,\"#f7f7f7\"],[0.6,\"#e6f5d0\"],[0.7,\"#b8e186\"],[0.8,\"#7fbc41\"],[0.9,\"#4d9221\"],[1,\"#276419\"]]},\"xaxis\":{\"gridcolor\":\"white\",\"linecolor\":\"white\",\"ticks\":\"\",\"title\":{\"standoff\":15},\"zerolinecolor\":\"white\",\"automargin\":true,\"zerolinewidth\":2},\"yaxis\":{\"gridcolor\":\"white\",\"linecolor\":\"white\",\"ticks\":\"\",\"title\":{\"standoff\":15},\"zerolinecolor\":\"white\",\"automargin\":true,\"zerolinewidth\":2},\"scene\":{\"xaxis\":{\"backgroundcolor\":\"#E5ECF6\",\"gridcolor\":\"white\",\"linecolor\":\"white\",\"showbackground\":true,\"ticks\":\"\",\"zerolinecolor\":\"white\",\"gridwidth\":2},\"yaxis\":{\"backgroundcolor\":\"#E5ECF6\",\"gridcolor\":\"white\",\"linecolor\":\"white\",\"showbackground\":true,\"ticks\":\"\",\"zerolinecolor\":\"white\",\"gridwidth\":2},\"zaxis\":{\"backgroundcolor\":\"#E5ECF6\",\"gridcolor\":\"white\",\"linecolor\":\"white\",\"showbackground\":true,\"ticks\":\"\",\"zerolinecolor\":\"white\",\"gridwidth\":2}},\"shapedefaults\":{\"line\":{\"color\":\"#2a3f5f\"}},\"annotationdefaults\":{\"arrowcolor\":\"#2a3f5f\",\"arrowhead\":0,\"arrowwidth\":1},\"geo\":{\"bgcolor\":\"white\",\"landcolor\":\"#E5ECF6\",\"subunitcolor\":\"white\",\"showland\":true,\"showlakes\":true,\"lakecolor\":\"white\"},\"title\":{\"x\":0.05},\"mapbox\":{\"style\":\"light\"}}}},                        {\"responsive\": true}                    ).then(function(){\n",
       "                            \n",
       "var gd = document.getElementById('686b6fb0-cb29-4a77-928d-29f3b7e0bf35');\n",
       "var x = new MutationObserver(function (mutations, observer) {{\n",
       "        var display = window.getComputedStyle(gd).display;\n",
       "        if (!display || display === 'none') {{\n",
       "            console.log([gd, 'removed!']);\n",
       "            Plotly.purge(gd);\n",
       "            observer.disconnect();\n",
       "        }}\n",
       "}});\n",
       "\n",
       "// Listen for the removal of the full notebook cells\n",
       "var notebookContainer = gd.closest('#notebook-container');\n",
       "if (notebookContainer) {{\n",
       "    x.observe(notebookContainer, {childList: true});\n",
       "}}\n",
       "\n",
       "// Listen for the clearing of the current output cell\n",
       "var outputEl = gd.closest('.output');\n",
       "if (outputEl) {{\n",
       "    x.observe(outputEl, {childList: true});\n",
       "}}\n",
       "\n",
       "                        })                };                });            </script>        </div>"
      ]
     },
     "metadata": {},
     "output_type": "display_data"
    },
    {
     "name": "stdout",
     "output_type": "stream",
     "text": [
      "2023-04-28_Trial5_5k_smoothened_interpol_COM\n"
     ]
    },
    {
     "data": {
      "application/vnd.plotly.v1+json": {
       "config": {
        "plotlyServerURL": "https://plot.ly"
       },
       "data": [],
       "layout": {
        "template": {
         "data": {
          "bar": [
           {
            "error_x": {
             "color": "#2a3f5f"
            },
            "error_y": {
             "color": "#2a3f5f"
            },
            "marker": {
             "line": {
              "color": "#E5ECF6",
              "width": 0.5
             },
             "pattern": {
              "fillmode": "overlay",
              "size": 10,
              "solidity": 0.2
             }
            },
            "type": "bar"
           }
          ],
          "barpolar": [
           {
            "marker": {
             "line": {
              "color": "#E5ECF6",
              "width": 0.5
             },
             "pattern": {
              "fillmode": "overlay",
              "size": 10,
              "solidity": 0.2
             }
            },
            "type": "barpolar"
           }
          ],
          "carpet": [
           {
            "aaxis": {
             "endlinecolor": "#2a3f5f",
             "gridcolor": "white",
             "linecolor": "white",
             "minorgridcolor": "white",
             "startlinecolor": "#2a3f5f"
            },
            "baxis": {
             "endlinecolor": "#2a3f5f",
             "gridcolor": "white",
             "linecolor": "white",
             "minorgridcolor": "white",
             "startlinecolor": "#2a3f5f"
            },
            "type": "carpet"
           }
          ],
          "choropleth": [
           {
            "colorbar": {
             "outlinewidth": 0,
             "ticks": ""
            },
            "type": "choropleth"
           }
          ],
          "contour": [
           {
            "colorbar": {
             "outlinewidth": 0,
             "ticks": ""
            },
            "colorscale": [
             [
              0,
              "#0d0887"
             ],
             [
              0.1111111111111111,
              "#46039f"
             ],
             [
              0.2222222222222222,
              "#7201a8"
             ],
             [
              0.3333333333333333,
              "#9c179e"
             ],
             [
              0.4444444444444444,
              "#bd3786"
             ],
             [
              0.5555555555555556,
              "#d8576b"
             ],
             [
              0.6666666666666666,
              "#ed7953"
             ],
             [
              0.7777777777777778,
              "#fb9f3a"
             ],
             [
              0.8888888888888888,
              "#fdca26"
             ],
             [
              1,
              "#f0f921"
             ]
            ],
            "type": "contour"
           }
          ],
          "contourcarpet": [
           {
            "colorbar": {
             "outlinewidth": 0,
             "ticks": ""
            },
            "type": "contourcarpet"
           }
          ],
          "heatmap": [
           {
            "colorbar": {
             "outlinewidth": 0,
             "ticks": ""
            },
            "colorscale": [
             [
              0,
              "#0d0887"
             ],
             [
              0.1111111111111111,
              "#46039f"
             ],
             [
              0.2222222222222222,
              "#7201a8"
             ],
             [
              0.3333333333333333,
              "#9c179e"
             ],
             [
              0.4444444444444444,
              "#bd3786"
             ],
             [
              0.5555555555555556,
              "#d8576b"
             ],
             [
              0.6666666666666666,
              "#ed7953"
             ],
             [
              0.7777777777777778,
              "#fb9f3a"
             ],
             [
              0.8888888888888888,
              "#fdca26"
             ],
             [
              1,
              "#f0f921"
             ]
            ],
            "type": "heatmap"
           }
          ],
          "heatmapgl": [
           {
            "colorbar": {
             "outlinewidth": 0,
             "ticks": ""
            },
            "colorscale": [
             [
              0,
              "#0d0887"
             ],
             [
              0.1111111111111111,
              "#46039f"
             ],
             [
              0.2222222222222222,
              "#7201a8"
             ],
             [
              0.3333333333333333,
              "#9c179e"
             ],
             [
              0.4444444444444444,
              "#bd3786"
             ],
             [
              0.5555555555555556,
              "#d8576b"
             ],
             [
              0.6666666666666666,
              "#ed7953"
             ],
             [
              0.7777777777777778,
              "#fb9f3a"
             ],
             [
              0.8888888888888888,
              "#fdca26"
             ],
             [
              1,
              "#f0f921"
             ]
            ],
            "type": "heatmapgl"
           }
          ],
          "histogram": [
           {
            "marker": {
             "pattern": {
              "fillmode": "overlay",
              "size": 10,
              "solidity": 0.2
             }
            },
            "type": "histogram"
           }
          ],
          "histogram2d": [
           {
            "colorbar": {
             "outlinewidth": 0,
             "ticks": ""
            },
            "colorscale": [
             [
              0,
              "#0d0887"
             ],
             [
              0.1111111111111111,
              "#46039f"
             ],
             [
              0.2222222222222222,
              "#7201a8"
             ],
             [
              0.3333333333333333,
              "#9c179e"
             ],
             [
              0.4444444444444444,
              "#bd3786"
             ],
             [
              0.5555555555555556,
              "#d8576b"
             ],
             [
              0.6666666666666666,
              "#ed7953"
             ],
             [
              0.7777777777777778,
              "#fb9f3a"
             ],
             [
              0.8888888888888888,
              "#fdca26"
             ],
             [
              1,
              "#f0f921"
             ]
            ],
            "type": "histogram2d"
           }
          ],
          "histogram2dcontour": [
           {
            "colorbar": {
             "outlinewidth": 0,
             "ticks": ""
            },
            "colorscale": [
             [
              0,
              "#0d0887"
             ],
             [
              0.1111111111111111,
              "#46039f"
             ],
             [
              0.2222222222222222,
              "#7201a8"
             ],
             [
              0.3333333333333333,
              "#9c179e"
             ],
             [
              0.4444444444444444,
              "#bd3786"
             ],
             [
              0.5555555555555556,
              "#d8576b"
             ],
             [
              0.6666666666666666,
              "#ed7953"
             ],
             [
              0.7777777777777778,
              "#fb9f3a"
             ],
             [
              0.8888888888888888,
              "#fdca26"
             ],
             [
              1,
              "#f0f921"
             ]
            ],
            "type": "histogram2dcontour"
           }
          ],
          "mesh3d": [
           {
            "colorbar": {
             "outlinewidth": 0,
             "ticks": ""
            },
            "type": "mesh3d"
           }
          ],
          "parcoords": [
           {
            "line": {
             "colorbar": {
              "outlinewidth": 0,
              "ticks": ""
             }
            },
            "type": "parcoords"
           }
          ],
          "pie": [
           {
            "automargin": true,
            "type": "pie"
           }
          ],
          "scatter": [
           {
            "fillpattern": {
             "fillmode": "overlay",
             "size": 10,
             "solidity": 0.2
            },
            "type": "scatter"
           }
          ],
          "scatter3d": [
           {
            "line": {
             "colorbar": {
              "outlinewidth": 0,
              "ticks": ""
             }
            },
            "marker": {
             "colorbar": {
              "outlinewidth": 0,
              "ticks": ""
             }
            },
            "type": "scatter3d"
           }
          ],
          "scattercarpet": [
           {
            "marker": {
             "colorbar": {
              "outlinewidth": 0,
              "ticks": ""
             }
            },
            "type": "scattercarpet"
           }
          ],
          "scattergeo": [
           {
            "marker": {
             "colorbar": {
              "outlinewidth": 0,
              "ticks": ""
             }
            },
            "type": "scattergeo"
           }
          ],
          "scattergl": [
           {
            "marker": {
             "colorbar": {
              "outlinewidth": 0,
              "ticks": ""
             }
            },
            "type": "scattergl"
           }
          ],
          "scattermapbox": [
           {
            "marker": {
             "colorbar": {
              "outlinewidth": 0,
              "ticks": ""
             }
            },
            "type": "scattermapbox"
           }
          ],
          "scatterpolar": [
           {
            "marker": {
             "colorbar": {
              "outlinewidth": 0,
              "ticks": ""
             }
            },
            "type": "scatterpolar"
           }
          ],
          "scatterpolargl": [
           {
            "marker": {
             "colorbar": {
              "outlinewidth": 0,
              "ticks": ""
             }
            },
            "type": "scatterpolargl"
           }
          ],
          "scatterternary": [
           {
            "marker": {
             "colorbar": {
              "outlinewidth": 0,
              "ticks": ""
             }
            },
            "type": "scatterternary"
           }
          ],
          "surface": [
           {
            "colorbar": {
             "outlinewidth": 0,
             "ticks": ""
            },
            "colorscale": [
             [
              0,
              "#0d0887"
             ],
             [
              0.1111111111111111,
              "#46039f"
             ],
             [
              0.2222222222222222,
              "#7201a8"
             ],
             [
              0.3333333333333333,
              "#9c179e"
             ],
             [
              0.4444444444444444,
              "#bd3786"
             ],
             [
              0.5555555555555556,
              "#d8576b"
             ],
             [
              0.6666666666666666,
              "#ed7953"
             ],
             [
              0.7777777777777778,
              "#fb9f3a"
             ],
             [
              0.8888888888888888,
              "#fdca26"
             ],
             [
              1,
              "#f0f921"
             ]
            ],
            "type": "surface"
           }
          ],
          "table": [
           {
            "cells": {
             "fill": {
              "color": "#EBF0F8"
             },
             "line": {
              "color": "white"
             }
            },
            "header": {
             "fill": {
              "color": "#C8D4E3"
             },
             "line": {
              "color": "white"
             }
            },
            "type": "table"
           }
          ]
         },
         "layout": {
          "annotationdefaults": {
           "arrowcolor": "#2a3f5f",
           "arrowhead": 0,
           "arrowwidth": 1
          },
          "autotypenumbers": "strict",
          "coloraxis": {
           "colorbar": {
            "outlinewidth": 0,
            "ticks": ""
           }
          },
          "colorscale": {
           "diverging": [
            [
             0,
             "#8e0152"
            ],
            [
             0.1,
             "#c51b7d"
            ],
            [
             0.2,
             "#de77ae"
            ],
            [
             0.3,
             "#f1b6da"
            ],
            [
             0.4,
             "#fde0ef"
            ],
            [
             0.5,
             "#f7f7f7"
            ],
            [
             0.6,
             "#e6f5d0"
            ],
            [
             0.7,
             "#b8e186"
            ],
            [
             0.8,
             "#7fbc41"
            ],
            [
             0.9,
             "#4d9221"
            ],
            [
             1,
             "#276419"
            ]
           ],
           "sequential": [
            [
             0,
             "#0d0887"
            ],
            [
             0.1111111111111111,
             "#46039f"
            ],
            [
             0.2222222222222222,
             "#7201a8"
            ],
            [
             0.3333333333333333,
             "#9c179e"
            ],
            [
             0.4444444444444444,
             "#bd3786"
            ],
            [
             0.5555555555555556,
             "#d8576b"
            ],
            [
             0.6666666666666666,
             "#ed7953"
            ],
            [
             0.7777777777777778,
             "#fb9f3a"
            ],
            [
             0.8888888888888888,
             "#fdca26"
            ],
            [
             1,
             "#f0f921"
            ]
           ],
           "sequentialminus": [
            [
             0,
             "#0d0887"
            ],
            [
             0.1111111111111111,
             "#46039f"
            ],
            [
             0.2222222222222222,
             "#7201a8"
            ],
            [
             0.3333333333333333,
             "#9c179e"
            ],
            [
             0.4444444444444444,
             "#bd3786"
            ],
            [
             0.5555555555555556,
             "#d8576b"
            ],
            [
             0.6666666666666666,
             "#ed7953"
            ],
            [
             0.7777777777777778,
             "#fb9f3a"
            ],
            [
             0.8888888888888888,
             "#fdca26"
            ],
            [
             1,
             "#f0f921"
            ]
           ]
          },
          "colorway": [
           "#636efa",
           "#EF553B",
           "#00cc96",
           "#ab63fa",
           "#FFA15A",
           "#19d3f3",
           "#FF6692",
           "#B6E880",
           "#FF97FF",
           "#FECB52"
          ],
          "font": {
           "color": "#2a3f5f"
          },
          "geo": {
           "bgcolor": "white",
           "lakecolor": "white",
           "landcolor": "#E5ECF6",
           "showlakes": true,
           "showland": true,
           "subunitcolor": "white"
          },
          "hoverlabel": {
           "align": "left"
          },
          "hovermode": "closest",
          "mapbox": {
           "style": "light"
          },
          "paper_bgcolor": "white",
          "plot_bgcolor": "#E5ECF6",
          "polar": {
           "angularaxis": {
            "gridcolor": "white",
            "linecolor": "white",
            "ticks": ""
           },
           "bgcolor": "#E5ECF6",
           "radialaxis": {
            "gridcolor": "white",
            "linecolor": "white",
            "ticks": ""
           }
          },
          "scene": {
           "xaxis": {
            "backgroundcolor": "#E5ECF6",
            "gridcolor": "white",
            "gridwidth": 2,
            "linecolor": "white",
            "showbackground": true,
            "ticks": "",
            "zerolinecolor": "white"
           },
           "yaxis": {
            "backgroundcolor": "#E5ECF6",
            "gridcolor": "white",
            "gridwidth": 2,
            "linecolor": "white",
            "showbackground": true,
            "ticks": "",
            "zerolinecolor": "white"
           },
           "zaxis": {
            "backgroundcolor": "#E5ECF6",
            "gridcolor": "white",
            "gridwidth": 2,
            "linecolor": "white",
            "showbackground": true,
            "ticks": "",
            "zerolinecolor": "white"
           }
          },
          "shapedefaults": {
           "line": {
            "color": "#2a3f5f"
           }
          },
          "ternary": {
           "aaxis": {
            "gridcolor": "white",
            "linecolor": "white",
            "ticks": ""
           },
           "baxis": {
            "gridcolor": "white",
            "linecolor": "white",
            "ticks": ""
           },
           "bgcolor": "#E5ECF6",
           "caxis": {
            "gridcolor": "white",
            "linecolor": "white",
            "ticks": ""
           }
          },
          "title": {
           "x": 0.05
          },
          "xaxis": {
           "automargin": true,
           "gridcolor": "white",
           "linecolor": "white",
           "ticks": "",
           "title": {
            "standoff": 15
           },
           "zerolinecolor": "white",
           "zerolinewidth": 2
          },
          "yaxis": {
           "automargin": true,
           "gridcolor": "white",
           "linecolor": "white",
           "ticks": "",
           "title": {
            "standoff": 15
           },
           "zerolinecolor": "white",
           "zerolinewidth": 2
          }
         }
        }
       }
      },
      "text/html": [
       "<div>                            <div id=\"d1e3a528-3dfb-4804-865e-db4d3857d556\" class=\"plotly-graph-div\" style=\"height:525px; width:100%;\"></div>            <script type=\"text/javascript\">                require([\"plotly\"], function(Plotly) {                    window.PLOTLYENV=window.PLOTLYENV || {};                                    if (document.getElementById(\"d1e3a528-3dfb-4804-865e-db4d3857d556\")) {                    Plotly.newPlot(                        \"d1e3a528-3dfb-4804-865e-db4d3857d556\",                        [],                        {\"template\":{\"data\":{\"histogram2dcontour\":[{\"type\":\"histogram2dcontour\",\"colorbar\":{\"outlinewidth\":0,\"ticks\":\"\"},\"colorscale\":[[0.0,\"#0d0887\"],[0.1111111111111111,\"#46039f\"],[0.2222222222222222,\"#7201a8\"],[0.3333333333333333,\"#9c179e\"],[0.4444444444444444,\"#bd3786\"],[0.5555555555555556,\"#d8576b\"],[0.6666666666666666,\"#ed7953\"],[0.7777777777777778,\"#fb9f3a\"],[0.8888888888888888,\"#fdca26\"],[1.0,\"#f0f921\"]]}],\"choropleth\":[{\"type\":\"choropleth\",\"colorbar\":{\"outlinewidth\":0,\"ticks\":\"\"}}],\"histogram2d\":[{\"type\":\"histogram2d\",\"colorbar\":{\"outlinewidth\":0,\"ticks\":\"\"},\"colorscale\":[[0.0,\"#0d0887\"],[0.1111111111111111,\"#46039f\"],[0.2222222222222222,\"#7201a8\"],[0.3333333333333333,\"#9c179e\"],[0.4444444444444444,\"#bd3786\"],[0.5555555555555556,\"#d8576b\"],[0.6666666666666666,\"#ed7953\"],[0.7777777777777778,\"#fb9f3a\"],[0.8888888888888888,\"#fdca26\"],[1.0,\"#f0f921\"]]}],\"heatmap\":[{\"type\":\"heatmap\",\"colorbar\":{\"outlinewidth\":0,\"ticks\":\"\"},\"colorscale\":[[0.0,\"#0d0887\"],[0.1111111111111111,\"#46039f\"],[0.2222222222222222,\"#7201a8\"],[0.3333333333333333,\"#9c179e\"],[0.4444444444444444,\"#bd3786\"],[0.5555555555555556,\"#d8576b\"],[0.6666666666666666,\"#ed7953\"],[0.7777777777777778,\"#fb9f3a\"],[0.8888888888888888,\"#fdca26\"],[1.0,\"#f0f921\"]]}],\"heatmapgl\":[{\"type\":\"heatmapgl\",\"colorbar\":{\"outlinewidth\":0,\"ticks\":\"\"},\"colorscale\":[[0.0,\"#0d0887\"],[0.1111111111111111,\"#46039f\"],[0.2222222222222222,\"#7201a8\"],[0.3333333333333333,\"#9c179e\"],[0.4444444444444444,\"#bd3786\"],[0.5555555555555556,\"#d8576b\"],[0.6666666666666666,\"#ed7953\"],[0.7777777777777778,\"#fb9f3a\"],[0.8888888888888888,\"#fdca26\"],[1.0,\"#f0f921\"]]}],\"contourcarpet\":[{\"type\":\"contourcarpet\",\"colorbar\":{\"outlinewidth\":0,\"ticks\":\"\"}}],\"contour\":[{\"type\":\"contour\",\"colorbar\":{\"outlinewidth\":0,\"ticks\":\"\"},\"colorscale\":[[0.0,\"#0d0887\"],[0.1111111111111111,\"#46039f\"],[0.2222222222222222,\"#7201a8\"],[0.3333333333333333,\"#9c179e\"],[0.4444444444444444,\"#bd3786\"],[0.5555555555555556,\"#d8576b\"],[0.6666666666666666,\"#ed7953\"],[0.7777777777777778,\"#fb9f3a\"],[0.8888888888888888,\"#fdca26\"],[1.0,\"#f0f921\"]]}],\"surface\":[{\"type\":\"surface\",\"colorbar\":{\"outlinewidth\":0,\"ticks\":\"\"},\"colorscale\":[[0.0,\"#0d0887\"],[0.1111111111111111,\"#46039f\"],[0.2222222222222222,\"#7201a8\"],[0.3333333333333333,\"#9c179e\"],[0.4444444444444444,\"#bd3786\"],[0.5555555555555556,\"#d8576b\"],[0.6666666666666666,\"#ed7953\"],[0.7777777777777778,\"#fb9f3a\"],[0.8888888888888888,\"#fdca26\"],[1.0,\"#f0f921\"]]}],\"mesh3d\":[{\"type\":\"mesh3d\",\"colorbar\":{\"outlinewidth\":0,\"ticks\":\"\"}}],\"scatter\":[{\"fillpattern\":{\"fillmode\":\"overlay\",\"size\":10,\"solidity\":0.2},\"type\":\"scatter\"}],\"parcoords\":[{\"type\":\"parcoords\",\"line\":{\"colorbar\":{\"outlinewidth\":0,\"ticks\":\"\"}}}],\"scatterpolargl\":[{\"type\":\"scatterpolargl\",\"marker\":{\"colorbar\":{\"outlinewidth\":0,\"ticks\":\"\"}}}],\"bar\":[{\"error_x\":{\"color\":\"#2a3f5f\"},\"error_y\":{\"color\":\"#2a3f5f\"},\"marker\":{\"line\":{\"color\":\"#E5ECF6\",\"width\":0.5},\"pattern\":{\"fillmode\":\"overlay\",\"size\":10,\"solidity\":0.2}},\"type\":\"bar\"}],\"scattergeo\":[{\"type\":\"scattergeo\",\"marker\":{\"colorbar\":{\"outlinewidth\":0,\"ticks\":\"\"}}}],\"scatterpolar\":[{\"type\":\"scatterpolar\",\"marker\":{\"colorbar\":{\"outlinewidth\":0,\"ticks\":\"\"}}}],\"histogram\":[{\"marker\":{\"pattern\":{\"fillmode\":\"overlay\",\"size\":10,\"solidity\":0.2}},\"type\":\"histogram\"}],\"scattergl\":[{\"type\":\"scattergl\",\"marker\":{\"colorbar\":{\"outlinewidth\":0,\"ticks\":\"\"}}}],\"scatter3d\":[{\"type\":\"scatter3d\",\"line\":{\"colorbar\":{\"outlinewidth\":0,\"ticks\":\"\"}},\"marker\":{\"colorbar\":{\"outlinewidth\":0,\"ticks\":\"\"}}}],\"scattermapbox\":[{\"type\":\"scattermapbox\",\"marker\":{\"colorbar\":{\"outlinewidth\":0,\"ticks\":\"\"}}}],\"scatterternary\":[{\"type\":\"scatterternary\",\"marker\":{\"colorbar\":{\"outlinewidth\":0,\"ticks\":\"\"}}}],\"scattercarpet\":[{\"type\":\"scattercarpet\",\"marker\":{\"colorbar\":{\"outlinewidth\":0,\"ticks\":\"\"}}}],\"carpet\":[{\"aaxis\":{\"endlinecolor\":\"#2a3f5f\",\"gridcolor\":\"white\",\"linecolor\":\"white\",\"minorgridcolor\":\"white\",\"startlinecolor\":\"#2a3f5f\"},\"baxis\":{\"endlinecolor\":\"#2a3f5f\",\"gridcolor\":\"white\",\"linecolor\":\"white\",\"minorgridcolor\":\"white\",\"startlinecolor\":\"#2a3f5f\"},\"type\":\"carpet\"}],\"table\":[{\"cells\":{\"fill\":{\"color\":\"#EBF0F8\"},\"line\":{\"color\":\"white\"}},\"header\":{\"fill\":{\"color\":\"#C8D4E3\"},\"line\":{\"color\":\"white\"}},\"type\":\"table\"}],\"barpolar\":[{\"marker\":{\"line\":{\"color\":\"#E5ECF6\",\"width\":0.5},\"pattern\":{\"fillmode\":\"overlay\",\"size\":10,\"solidity\":0.2}},\"type\":\"barpolar\"}],\"pie\":[{\"automargin\":true,\"type\":\"pie\"}]},\"layout\":{\"autotypenumbers\":\"strict\",\"colorway\":[\"#636efa\",\"#EF553B\",\"#00cc96\",\"#ab63fa\",\"#FFA15A\",\"#19d3f3\",\"#FF6692\",\"#B6E880\",\"#FF97FF\",\"#FECB52\"],\"font\":{\"color\":\"#2a3f5f\"},\"hovermode\":\"closest\",\"hoverlabel\":{\"align\":\"left\"},\"paper_bgcolor\":\"white\",\"plot_bgcolor\":\"#E5ECF6\",\"polar\":{\"bgcolor\":\"#E5ECF6\",\"angularaxis\":{\"gridcolor\":\"white\",\"linecolor\":\"white\",\"ticks\":\"\"},\"radialaxis\":{\"gridcolor\":\"white\",\"linecolor\":\"white\",\"ticks\":\"\"}},\"ternary\":{\"bgcolor\":\"#E5ECF6\",\"aaxis\":{\"gridcolor\":\"white\",\"linecolor\":\"white\",\"ticks\":\"\"},\"baxis\":{\"gridcolor\":\"white\",\"linecolor\":\"white\",\"ticks\":\"\"},\"caxis\":{\"gridcolor\":\"white\",\"linecolor\":\"white\",\"ticks\":\"\"}},\"coloraxis\":{\"colorbar\":{\"outlinewidth\":0,\"ticks\":\"\"}},\"colorscale\":{\"sequential\":[[0.0,\"#0d0887\"],[0.1111111111111111,\"#46039f\"],[0.2222222222222222,\"#7201a8\"],[0.3333333333333333,\"#9c179e\"],[0.4444444444444444,\"#bd3786\"],[0.5555555555555556,\"#d8576b\"],[0.6666666666666666,\"#ed7953\"],[0.7777777777777778,\"#fb9f3a\"],[0.8888888888888888,\"#fdca26\"],[1.0,\"#f0f921\"]],\"sequentialminus\":[[0.0,\"#0d0887\"],[0.1111111111111111,\"#46039f\"],[0.2222222222222222,\"#7201a8\"],[0.3333333333333333,\"#9c179e\"],[0.4444444444444444,\"#bd3786\"],[0.5555555555555556,\"#d8576b\"],[0.6666666666666666,\"#ed7953\"],[0.7777777777777778,\"#fb9f3a\"],[0.8888888888888888,\"#fdca26\"],[1.0,\"#f0f921\"]],\"diverging\":[[0,\"#8e0152\"],[0.1,\"#c51b7d\"],[0.2,\"#de77ae\"],[0.3,\"#f1b6da\"],[0.4,\"#fde0ef\"],[0.5,\"#f7f7f7\"],[0.6,\"#e6f5d0\"],[0.7,\"#b8e186\"],[0.8,\"#7fbc41\"],[0.9,\"#4d9221\"],[1,\"#276419\"]]},\"xaxis\":{\"gridcolor\":\"white\",\"linecolor\":\"white\",\"ticks\":\"\",\"title\":{\"standoff\":15},\"zerolinecolor\":\"white\",\"automargin\":true,\"zerolinewidth\":2},\"yaxis\":{\"gridcolor\":\"white\",\"linecolor\":\"white\",\"ticks\":\"\",\"title\":{\"standoff\":15},\"zerolinecolor\":\"white\",\"automargin\":true,\"zerolinewidth\":2},\"scene\":{\"xaxis\":{\"backgroundcolor\":\"#E5ECF6\",\"gridcolor\":\"white\",\"linecolor\":\"white\",\"showbackground\":true,\"ticks\":\"\",\"zerolinecolor\":\"white\",\"gridwidth\":2},\"yaxis\":{\"backgroundcolor\":\"#E5ECF6\",\"gridcolor\":\"white\",\"linecolor\":\"white\",\"showbackground\":true,\"ticks\":\"\",\"zerolinecolor\":\"white\",\"gridwidth\":2},\"zaxis\":{\"backgroundcolor\":\"#E5ECF6\",\"gridcolor\":\"white\",\"linecolor\":\"white\",\"showbackground\":true,\"ticks\":\"\",\"zerolinecolor\":\"white\",\"gridwidth\":2}},\"shapedefaults\":{\"line\":{\"color\":\"#2a3f5f\"}},\"annotationdefaults\":{\"arrowcolor\":\"#2a3f5f\",\"arrowhead\":0,\"arrowwidth\":1},\"geo\":{\"bgcolor\":\"white\",\"landcolor\":\"#E5ECF6\",\"subunitcolor\":\"white\",\"showland\":true,\"showlakes\":true,\"lakecolor\":\"white\"},\"title\":{\"x\":0.05},\"mapbox\":{\"style\":\"light\"}}}},                        {\"responsive\": true}                    ).then(function(){\n",
       "                            \n",
       "var gd = document.getElementById('d1e3a528-3dfb-4804-865e-db4d3857d556');\n",
       "var x = new MutationObserver(function (mutations, observer) {{\n",
       "        var display = window.getComputedStyle(gd).display;\n",
       "        if (!display || display === 'none') {{\n",
       "            console.log([gd, 'removed!']);\n",
       "            Plotly.purge(gd);\n",
       "            observer.disconnect();\n",
       "        }}\n",
       "}});\n",
       "\n",
       "// Listen for the removal of the full notebook cells\n",
       "var notebookContainer = gd.closest('#notebook-container');\n",
       "if (notebookContainer) {{\n",
       "    x.observe(notebookContainer, {childList: true});\n",
       "}}\n",
       "\n",
       "// Listen for the clearing of the current output cell\n",
       "var outputEl = gd.closest('.output');\n",
       "if (outputEl) {{\n",
       "    x.observe(outputEl, {childList: true});\n",
       "}}\n",
       "\n",
       "                        })                };                });            </script>        </div>"
      ]
     },
     "metadata": {},
     "output_type": "display_data"
    },
    {
     "name": "stdout",
     "output_type": "stream",
     "text": [
      "2023-04-28_Trial8_1k_smoothened_interpol_COM\n"
     ]
    },
    {
     "data": {
      "application/vnd.plotly.v1+json": {
       "config": {
        "plotlyServerURL": "https://plot.ly"
       },
       "data": [],
       "layout": {
        "template": {
         "data": {
          "bar": [
           {
            "error_x": {
             "color": "#2a3f5f"
            },
            "error_y": {
             "color": "#2a3f5f"
            },
            "marker": {
             "line": {
              "color": "#E5ECF6",
              "width": 0.5
             },
             "pattern": {
              "fillmode": "overlay",
              "size": 10,
              "solidity": 0.2
             }
            },
            "type": "bar"
           }
          ],
          "barpolar": [
           {
            "marker": {
             "line": {
              "color": "#E5ECF6",
              "width": 0.5
             },
             "pattern": {
              "fillmode": "overlay",
              "size": 10,
              "solidity": 0.2
             }
            },
            "type": "barpolar"
           }
          ],
          "carpet": [
           {
            "aaxis": {
             "endlinecolor": "#2a3f5f",
             "gridcolor": "white",
             "linecolor": "white",
             "minorgridcolor": "white",
             "startlinecolor": "#2a3f5f"
            },
            "baxis": {
             "endlinecolor": "#2a3f5f",
             "gridcolor": "white",
             "linecolor": "white",
             "minorgridcolor": "white",
             "startlinecolor": "#2a3f5f"
            },
            "type": "carpet"
           }
          ],
          "choropleth": [
           {
            "colorbar": {
             "outlinewidth": 0,
             "ticks": ""
            },
            "type": "choropleth"
           }
          ],
          "contour": [
           {
            "colorbar": {
             "outlinewidth": 0,
             "ticks": ""
            },
            "colorscale": [
             [
              0,
              "#0d0887"
             ],
             [
              0.1111111111111111,
              "#46039f"
             ],
             [
              0.2222222222222222,
              "#7201a8"
             ],
             [
              0.3333333333333333,
              "#9c179e"
             ],
             [
              0.4444444444444444,
              "#bd3786"
             ],
             [
              0.5555555555555556,
              "#d8576b"
             ],
             [
              0.6666666666666666,
              "#ed7953"
             ],
             [
              0.7777777777777778,
              "#fb9f3a"
             ],
             [
              0.8888888888888888,
              "#fdca26"
             ],
             [
              1,
              "#f0f921"
             ]
            ],
            "type": "contour"
           }
          ],
          "contourcarpet": [
           {
            "colorbar": {
             "outlinewidth": 0,
             "ticks": ""
            },
            "type": "contourcarpet"
           }
          ],
          "heatmap": [
           {
            "colorbar": {
             "outlinewidth": 0,
             "ticks": ""
            },
            "colorscale": [
             [
              0,
              "#0d0887"
             ],
             [
              0.1111111111111111,
              "#46039f"
             ],
             [
              0.2222222222222222,
              "#7201a8"
             ],
             [
              0.3333333333333333,
              "#9c179e"
             ],
             [
              0.4444444444444444,
              "#bd3786"
             ],
             [
              0.5555555555555556,
              "#d8576b"
             ],
             [
              0.6666666666666666,
              "#ed7953"
             ],
             [
              0.7777777777777778,
              "#fb9f3a"
             ],
             [
              0.8888888888888888,
              "#fdca26"
             ],
             [
              1,
              "#f0f921"
             ]
            ],
            "type": "heatmap"
           }
          ],
          "heatmapgl": [
           {
            "colorbar": {
             "outlinewidth": 0,
             "ticks": ""
            },
            "colorscale": [
             [
              0,
              "#0d0887"
             ],
             [
              0.1111111111111111,
              "#46039f"
             ],
             [
              0.2222222222222222,
              "#7201a8"
             ],
             [
              0.3333333333333333,
              "#9c179e"
             ],
             [
              0.4444444444444444,
              "#bd3786"
             ],
             [
              0.5555555555555556,
              "#d8576b"
             ],
             [
              0.6666666666666666,
              "#ed7953"
             ],
             [
              0.7777777777777778,
              "#fb9f3a"
             ],
             [
              0.8888888888888888,
              "#fdca26"
             ],
             [
              1,
              "#f0f921"
             ]
            ],
            "type": "heatmapgl"
           }
          ],
          "histogram": [
           {
            "marker": {
             "pattern": {
              "fillmode": "overlay",
              "size": 10,
              "solidity": 0.2
             }
            },
            "type": "histogram"
           }
          ],
          "histogram2d": [
           {
            "colorbar": {
             "outlinewidth": 0,
             "ticks": ""
            },
            "colorscale": [
             [
              0,
              "#0d0887"
             ],
             [
              0.1111111111111111,
              "#46039f"
             ],
             [
              0.2222222222222222,
              "#7201a8"
             ],
             [
              0.3333333333333333,
              "#9c179e"
             ],
             [
              0.4444444444444444,
              "#bd3786"
             ],
             [
              0.5555555555555556,
              "#d8576b"
             ],
             [
              0.6666666666666666,
              "#ed7953"
             ],
             [
              0.7777777777777778,
              "#fb9f3a"
             ],
             [
              0.8888888888888888,
              "#fdca26"
             ],
             [
              1,
              "#f0f921"
             ]
            ],
            "type": "histogram2d"
           }
          ],
          "histogram2dcontour": [
           {
            "colorbar": {
             "outlinewidth": 0,
             "ticks": ""
            },
            "colorscale": [
             [
              0,
              "#0d0887"
             ],
             [
              0.1111111111111111,
              "#46039f"
             ],
             [
              0.2222222222222222,
              "#7201a8"
             ],
             [
              0.3333333333333333,
              "#9c179e"
             ],
             [
              0.4444444444444444,
              "#bd3786"
             ],
             [
              0.5555555555555556,
              "#d8576b"
             ],
             [
              0.6666666666666666,
              "#ed7953"
             ],
             [
              0.7777777777777778,
              "#fb9f3a"
             ],
             [
              0.8888888888888888,
              "#fdca26"
             ],
             [
              1,
              "#f0f921"
             ]
            ],
            "type": "histogram2dcontour"
           }
          ],
          "mesh3d": [
           {
            "colorbar": {
             "outlinewidth": 0,
             "ticks": ""
            },
            "type": "mesh3d"
           }
          ],
          "parcoords": [
           {
            "line": {
             "colorbar": {
              "outlinewidth": 0,
              "ticks": ""
             }
            },
            "type": "parcoords"
           }
          ],
          "pie": [
           {
            "automargin": true,
            "type": "pie"
           }
          ],
          "scatter": [
           {
            "fillpattern": {
             "fillmode": "overlay",
             "size": 10,
             "solidity": 0.2
            },
            "type": "scatter"
           }
          ],
          "scatter3d": [
           {
            "line": {
             "colorbar": {
              "outlinewidth": 0,
              "ticks": ""
             }
            },
            "marker": {
             "colorbar": {
              "outlinewidth": 0,
              "ticks": ""
             }
            },
            "type": "scatter3d"
           }
          ],
          "scattercarpet": [
           {
            "marker": {
             "colorbar": {
              "outlinewidth": 0,
              "ticks": ""
             }
            },
            "type": "scattercarpet"
           }
          ],
          "scattergeo": [
           {
            "marker": {
             "colorbar": {
              "outlinewidth": 0,
              "ticks": ""
             }
            },
            "type": "scattergeo"
           }
          ],
          "scattergl": [
           {
            "marker": {
             "colorbar": {
              "outlinewidth": 0,
              "ticks": ""
             }
            },
            "type": "scattergl"
           }
          ],
          "scattermapbox": [
           {
            "marker": {
             "colorbar": {
              "outlinewidth": 0,
              "ticks": ""
             }
            },
            "type": "scattermapbox"
           }
          ],
          "scatterpolar": [
           {
            "marker": {
             "colorbar": {
              "outlinewidth": 0,
              "ticks": ""
             }
            },
            "type": "scatterpolar"
           }
          ],
          "scatterpolargl": [
           {
            "marker": {
             "colorbar": {
              "outlinewidth": 0,
              "ticks": ""
             }
            },
            "type": "scatterpolargl"
           }
          ],
          "scatterternary": [
           {
            "marker": {
             "colorbar": {
              "outlinewidth": 0,
              "ticks": ""
             }
            },
            "type": "scatterternary"
           }
          ],
          "surface": [
           {
            "colorbar": {
             "outlinewidth": 0,
             "ticks": ""
            },
            "colorscale": [
             [
              0,
              "#0d0887"
             ],
             [
              0.1111111111111111,
              "#46039f"
             ],
             [
              0.2222222222222222,
              "#7201a8"
             ],
             [
              0.3333333333333333,
              "#9c179e"
             ],
             [
              0.4444444444444444,
              "#bd3786"
             ],
             [
              0.5555555555555556,
              "#d8576b"
             ],
             [
              0.6666666666666666,
              "#ed7953"
             ],
             [
              0.7777777777777778,
              "#fb9f3a"
             ],
             [
              0.8888888888888888,
              "#fdca26"
             ],
             [
              1,
              "#f0f921"
             ]
            ],
            "type": "surface"
           }
          ],
          "table": [
           {
            "cells": {
             "fill": {
              "color": "#EBF0F8"
             },
             "line": {
              "color": "white"
             }
            },
            "header": {
             "fill": {
              "color": "#C8D4E3"
             },
             "line": {
              "color": "white"
             }
            },
            "type": "table"
           }
          ]
         },
         "layout": {
          "annotationdefaults": {
           "arrowcolor": "#2a3f5f",
           "arrowhead": 0,
           "arrowwidth": 1
          },
          "autotypenumbers": "strict",
          "coloraxis": {
           "colorbar": {
            "outlinewidth": 0,
            "ticks": ""
           }
          },
          "colorscale": {
           "diverging": [
            [
             0,
             "#8e0152"
            ],
            [
             0.1,
             "#c51b7d"
            ],
            [
             0.2,
             "#de77ae"
            ],
            [
             0.3,
             "#f1b6da"
            ],
            [
             0.4,
             "#fde0ef"
            ],
            [
             0.5,
             "#f7f7f7"
            ],
            [
             0.6,
             "#e6f5d0"
            ],
            [
             0.7,
             "#b8e186"
            ],
            [
             0.8,
             "#7fbc41"
            ],
            [
             0.9,
             "#4d9221"
            ],
            [
             1,
             "#276419"
            ]
           ],
           "sequential": [
            [
             0,
             "#0d0887"
            ],
            [
             0.1111111111111111,
             "#46039f"
            ],
            [
             0.2222222222222222,
             "#7201a8"
            ],
            [
             0.3333333333333333,
             "#9c179e"
            ],
            [
             0.4444444444444444,
             "#bd3786"
            ],
            [
             0.5555555555555556,
             "#d8576b"
            ],
            [
             0.6666666666666666,
             "#ed7953"
            ],
            [
             0.7777777777777778,
             "#fb9f3a"
            ],
            [
             0.8888888888888888,
             "#fdca26"
            ],
            [
             1,
             "#f0f921"
            ]
           ],
           "sequentialminus": [
            [
             0,
             "#0d0887"
            ],
            [
             0.1111111111111111,
             "#46039f"
            ],
            [
             0.2222222222222222,
             "#7201a8"
            ],
            [
             0.3333333333333333,
             "#9c179e"
            ],
            [
             0.4444444444444444,
             "#bd3786"
            ],
            [
             0.5555555555555556,
             "#d8576b"
            ],
            [
             0.6666666666666666,
             "#ed7953"
            ],
            [
             0.7777777777777778,
             "#fb9f3a"
            ],
            [
             0.8888888888888888,
             "#fdca26"
            ],
            [
             1,
             "#f0f921"
            ]
           ]
          },
          "colorway": [
           "#636efa",
           "#EF553B",
           "#00cc96",
           "#ab63fa",
           "#FFA15A",
           "#19d3f3",
           "#FF6692",
           "#B6E880",
           "#FF97FF",
           "#FECB52"
          ],
          "font": {
           "color": "#2a3f5f"
          },
          "geo": {
           "bgcolor": "white",
           "lakecolor": "white",
           "landcolor": "#E5ECF6",
           "showlakes": true,
           "showland": true,
           "subunitcolor": "white"
          },
          "hoverlabel": {
           "align": "left"
          },
          "hovermode": "closest",
          "mapbox": {
           "style": "light"
          },
          "paper_bgcolor": "white",
          "plot_bgcolor": "#E5ECF6",
          "polar": {
           "angularaxis": {
            "gridcolor": "white",
            "linecolor": "white",
            "ticks": ""
           },
           "bgcolor": "#E5ECF6",
           "radialaxis": {
            "gridcolor": "white",
            "linecolor": "white",
            "ticks": ""
           }
          },
          "scene": {
           "xaxis": {
            "backgroundcolor": "#E5ECF6",
            "gridcolor": "white",
            "gridwidth": 2,
            "linecolor": "white",
            "showbackground": true,
            "ticks": "",
            "zerolinecolor": "white"
           },
           "yaxis": {
            "backgroundcolor": "#E5ECF6",
            "gridcolor": "white",
            "gridwidth": 2,
            "linecolor": "white",
            "showbackground": true,
            "ticks": "",
            "zerolinecolor": "white"
           },
           "zaxis": {
            "backgroundcolor": "#E5ECF6",
            "gridcolor": "white",
            "gridwidth": 2,
            "linecolor": "white",
            "showbackground": true,
            "ticks": "",
            "zerolinecolor": "white"
           }
          },
          "shapedefaults": {
           "line": {
            "color": "#2a3f5f"
           }
          },
          "ternary": {
           "aaxis": {
            "gridcolor": "white",
            "linecolor": "white",
            "ticks": ""
           },
           "baxis": {
            "gridcolor": "white",
            "linecolor": "white",
            "ticks": ""
           },
           "bgcolor": "#E5ECF6",
           "caxis": {
            "gridcolor": "white",
            "linecolor": "white",
            "ticks": ""
           }
          },
          "title": {
           "x": 0.05
          },
          "xaxis": {
           "automargin": true,
           "gridcolor": "white",
           "linecolor": "white",
           "ticks": "",
           "title": {
            "standoff": 15
           },
           "zerolinecolor": "white",
           "zerolinewidth": 2
          },
          "yaxis": {
           "automargin": true,
           "gridcolor": "white",
           "linecolor": "white",
           "ticks": "",
           "title": {
            "standoff": 15
           },
           "zerolinecolor": "white",
           "zerolinewidth": 2
          }
         }
        }
       }
      },
      "text/html": [
       "<div>                            <div id=\"7c09f0ff-965a-43d2-833a-b20e303177b6\" class=\"plotly-graph-div\" style=\"height:525px; width:100%;\"></div>            <script type=\"text/javascript\">                require([\"plotly\"], function(Plotly) {                    window.PLOTLYENV=window.PLOTLYENV || {};                                    if (document.getElementById(\"7c09f0ff-965a-43d2-833a-b20e303177b6\")) {                    Plotly.newPlot(                        \"7c09f0ff-965a-43d2-833a-b20e303177b6\",                        [],                        {\"template\":{\"data\":{\"histogram2dcontour\":[{\"type\":\"histogram2dcontour\",\"colorbar\":{\"outlinewidth\":0,\"ticks\":\"\"},\"colorscale\":[[0.0,\"#0d0887\"],[0.1111111111111111,\"#46039f\"],[0.2222222222222222,\"#7201a8\"],[0.3333333333333333,\"#9c179e\"],[0.4444444444444444,\"#bd3786\"],[0.5555555555555556,\"#d8576b\"],[0.6666666666666666,\"#ed7953\"],[0.7777777777777778,\"#fb9f3a\"],[0.8888888888888888,\"#fdca26\"],[1.0,\"#f0f921\"]]}],\"choropleth\":[{\"type\":\"choropleth\",\"colorbar\":{\"outlinewidth\":0,\"ticks\":\"\"}}],\"histogram2d\":[{\"type\":\"histogram2d\",\"colorbar\":{\"outlinewidth\":0,\"ticks\":\"\"},\"colorscale\":[[0.0,\"#0d0887\"],[0.1111111111111111,\"#46039f\"],[0.2222222222222222,\"#7201a8\"],[0.3333333333333333,\"#9c179e\"],[0.4444444444444444,\"#bd3786\"],[0.5555555555555556,\"#d8576b\"],[0.6666666666666666,\"#ed7953\"],[0.7777777777777778,\"#fb9f3a\"],[0.8888888888888888,\"#fdca26\"],[1.0,\"#f0f921\"]]}],\"heatmap\":[{\"type\":\"heatmap\",\"colorbar\":{\"outlinewidth\":0,\"ticks\":\"\"},\"colorscale\":[[0.0,\"#0d0887\"],[0.1111111111111111,\"#46039f\"],[0.2222222222222222,\"#7201a8\"],[0.3333333333333333,\"#9c179e\"],[0.4444444444444444,\"#bd3786\"],[0.5555555555555556,\"#d8576b\"],[0.6666666666666666,\"#ed7953\"],[0.7777777777777778,\"#fb9f3a\"],[0.8888888888888888,\"#fdca26\"],[1.0,\"#f0f921\"]]}],\"heatmapgl\":[{\"type\":\"heatmapgl\",\"colorbar\":{\"outlinewidth\":0,\"ticks\":\"\"},\"colorscale\":[[0.0,\"#0d0887\"],[0.1111111111111111,\"#46039f\"],[0.2222222222222222,\"#7201a8\"],[0.3333333333333333,\"#9c179e\"],[0.4444444444444444,\"#bd3786\"],[0.5555555555555556,\"#d8576b\"],[0.6666666666666666,\"#ed7953\"],[0.7777777777777778,\"#fb9f3a\"],[0.8888888888888888,\"#fdca26\"],[1.0,\"#f0f921\"]]}],\"contourcarpet\":[{\"type\":\"contourcarpet\",\"colorbar\":{\"outlinewidth\":0,\"ticks\":\"\"}}],\"contour\":[{\"type\":\"contour\",\"colorbar\":{\"outlinewidth\":0,\"ticks\":\"\"},\"colorscale\":[[0.0,\"#0d0887\"],[0.1111111111111111,\"#46039f\"],[0.2222222222222222,\"#7201a8\"],[0.3333333333333333,\"#9c179e\"],[0.4444444444444444,\"#bd3786\"],[0.5555555555555556,\"#d8576b\"],[0.6666666666666666,\"#ed7953\"],[0.7777777777777778,\"#fb9f3a\"],[0.8888888888888888,\"#fdca26\"],[1.0,\"#f0f921\"]]}],\"surface\":[{\"type\":\"surface\",\"colorbar\":{\"outlinewidth\":0,\"ticks\":\"\"},\"colorscale\":[[0.0,\"#0d0887\"],[0.1111111111111111,\"#46039f\"],[0.2222222222222222,\"#7201a8\"],[0.3333333333333333,\"#9c179e\"],[0.4444444444444444,\"#bd3786\"],[0.5555555555555556,\"#d8576b\"],[0.6666666666666666,\"#ed7953\"],[0.7777777777777778,\"#fb9f3a\"],[0.8888888888888888,\"#fdca26\"],[1.0,\"#f0f921\"]]}],\"mesh3d\":[{\"type\":\"mesh3d\",\"colorbar\":{\"outlinewidth\":0,\"ticks\":\"\"}}],\"scatter\":[{\"fillpattern\":{\"fillmode\":\"overlay\",\"size\":10,\"solidity\":0.2},\"type\":\"scatter\"}],\"parcoords\":[{\"type\":\"parcoords\",\"line\":{\"colorbar\":{\"outlinewidth\":0,\"ticks\":\"\"}}}],\"scatterpolargl\":[{\"type\":\"scatterpolargl\",\"marker\":{\"colorbar\":{\"outlinewidth\":0,\"ticks\":\"\"}}}],\"bar\":[{\"error_x\":{\"color\":\"#2a3f5f\"},\"error_y\":{\"color\":\"#2a3f5f\"},\"marker\":{\"line\":{\"color\":\"#E5ECF6\",\"width\":0.5},\"pattern\":{\"fillmode\":\"overlay\",\"size\":10,\"solidity\":0.2}},\"type\":\"bar\"}],\"scattergeo\":[{\"type\":\"scattergeo\",\"marker\":{\"colorbar\":{\"outlinewidth\":0,\"ticks\":\"\"}}}],\"scatterpolar\":[{\"type\":\"scatterpolar\",\"marker\":{\"colorbar\":{\"outlinewidth\":0,\"ticks\":\"\"}}}],\"histogram\":[{\"marker\":{\"pattern\":{\"fillmode\":\"overlay\",\"size\":10,\"solidity\":0.2}},\"type\":\"histogram\"}],\"scattergl\":[{\"type\":\"scattergl\",\"marker\":{\"colorbar\":{\"outlinewidth\":0,\"ticks\":\"\"}}}],\"scatter3d\":[{\"type\":\"scatter3d\",\"line\":{\"colorbar\":{\"outlinewidth\":0,\"ticks\":\"\"}},\"marker\":{\"colorbar\":{\"outlinewidth\":0,\"ticks\":\"\"}}}],\"scattermapbox\":[{\"type\":\"scattermapbox\",\"marker\":{\"colorbar\":{\"outlinewidth\":0,\"ticks\":\"\"}}}],\"scatterternary\":[{\"type\":\"scatterternary\",\"marker\":{\"colorbar\":{\"outlinewidth\":0,\"ticks\":\"\"}}}],\"scattercarpet\":[{\"type\":\"scattercarpet\",\"marker\":{\"colorbar\":{\"outlinewidth\":0,\"ticks\":\"\"}}}],\"carpet\":[{\"aaxis\":{\"endlinecolor\":\"#2a3f5f\",\"gridcolor\":\"white\",\"linecolor\":\"white\",\"minorgridcolor\":\"white\",\"startlinecolor\":\"#2a3f5f\"},\"baxis\":{\"endlinecolor\":\"#2a3f5f\",\"gridcolor\":\"white\",\"linecolor\":\"white\",\"minorgridcolor\":\"white\",\"startlinecolor\":\"#2a3f5f\"},\"type\":\"carpet\"}],\"table\":[{\"cells\":{\"fill\":{\"color\":\"#EBF0F8\"},\"line\":{\"color\":\"white\"}},\"header\":{\"fill\":{\"color\":\"#C8D4E3\"},\"line\":{\"color\":\"white\"}},\"type\":\"table\"}],\"barpolar\":[{\"marker\":{\"line\":{\"color\":\"#E5ECF6\",\"width\":0.5},\"pattern\":{\"fillmode\":\"overlay\",\"size\":10,\"solidity\":0.2}},\"type\":\"barpolar\"}],\"pie\":[{\"automargin\":true,\"type\":\"pie\"}]},\"layout\":{\"autotypenumbers\":\"strict\",\"colorway\":[\"#636efa\",\"#EF553B\",\"#00cc96\",\"#ab63fa\",\"#FFA15A\",\"#19d3f3\",\"#FF6692\",\"#B6E880\",\"#FF97FF\",\"#FECB52\"],\"font\":{\"color\":\"#2a3f5f\"},\"hovermode\":\"closest\",\"hoverlabel\":{\"align\":\"left\"},\"paper_bgcolor\":\"white\",\"plot_bgcolor\":\"#E5ECF6\",\"polar\":{\"bgcolor\":\"#E5ECF6\",\"angularaxis\":{\"gridcolor\":\"white\",\"linecolor\":\"white\",\"ticks\":\"\"},\"radialaxis\":{\"gridcolor\":\"white\",\"linecolor\":\"white\",\"ticks\":\"\"}},\"ternary\":{\"bgcolor\":\"#E5ECF6\",\"aaxis\":{\"gridcolor\":\"white\",\"linecolor\":\"white\",\"ticks\":\"\"},\"baxis\":{\"gridcolor\":\"white\",\"linecolor\":\"white\",\"ticks\":\"\"},\"caxis\":{\"gridcolor\":\"white\",\"linecolor\":\"white\",\"ticks\":\"\"}},\"coloraxis\":{\"colorbar\":{\"outlinewidth\":0,\"ticks\":\"\"}},\"colorscale\":{\"sequential\":[[0.0,\"#0d0887\"],[0.1111111111111111,\"#46039f\"],[0.2222222222222222,\"#7201a8\"],[0.3333333333333333,\"#9c179e\"],[0.4444444444444444,\"#bd3786\"],[0.5555555555555556,\"#d8576b\"],[0.6666666666666666,\"#ed7953\"],[0.7777777777777778,\"#fb9f3a\"],[0.8888888888888888,\"#fdca26\"],[1.0,\"#f0f921\"]],\"sequentialminus\":[[0.0,\"#0d0887\"],[0.1111111111111111,\"#46039f\"],[0.2222222222222222,\"#7201a8\"],[0.3333333333333333,\"#9c179e\"],[0.4444444444444444,\"#bd3786\"],[0.5555555555555556,\"#d8576b\"],[0.6666666666666666,\"#ed7953\"],[0.7777777777777778,\"#fb9f3a\"],[0.8888888888888888,\"#fdca26\"],[1.0,\"#f0f921\"]],\"diverging\":[[0,\"#8e0152\"],[0.1,\"#c51b7d\"],[0.2,\"#de77ae\"],[0.3,\"#f1b6da\"],[0.4,\"#fde0ef\"],[0.5,\"#f7f7f7\"],[0.6,\"#e6f5d0\"],[0.7,\"#b8e186\"],[0.8,\"#7fbc41\"],[0.9,\"#4d9221\"],[1,\"#276419\"]]},\"xaxis\":{\"gridcolor\":\"white\",\"linecolor\":\"white\",\"ticks\":\"\",\"title\":{\"standoff\":15},\"zerolinecolor\":\"white\",\"automargin\":true,\"zerolinewidth\":2},\"yaxis\":{\"gridcolor\":\"white\",\"linecolor\":\"white\",\"ticks\":\"\",\"title\":{\"standoff\":15},\"zerolinecolor\":\"white\",\"automargin\":true,\"zerolinewidth\":2},\"scene\":{\"xaxis\":{\"backgroundcolor\":\"#E5ECF6\",\"gridcolor\":\"white\",\"linecolor\":\"white\",\"showbackground\":true,\"ticks\":\"\",\"zerolinecolor\":\"white\",\"gridwidth\":2},\"yaxis\":{\"backgroundcolor\":\"#E5ECF6\",\"gridcolor\":\"white\",\"linecolor\":\"white\",\"showbackground\":true,\"ticks\":\"\",\"zerolinecolor\":\"white\",\"gridwidth\":2},\"zaxis\":{\"backgroundcolor\":\"#E5ECF6\",\"gridcolor\":\"white\",\"linecolor\":\"white\",\"showbackground\":true,\"ticks\":\"\",\"zerolinecolor\":\"white\",\"gridwidth\":2}},\"shapedefaults\":{\"line\":{\"color\":\"#2a3f5f\"}},\"annotationdefaults\":{\"arrowcolor\":\"#2a3f5f\",\"arrowhead\":0,\"arrowwidth\":1},\"geo\":{\"bgcolor\":\"white\",\"landcolor\":\"#E5ECF6\",\"subunitcolor\":\"white\",\"showland\":true,\"showlakes\":true,\"lakecolor\":\"white\"},\"title\":{\"x\":0.05},\"mapbox\":{\"style\":\"light\"}}}},                        {\"responsive\": true}                    ).then(function(){\n",
       "                            \n",
       "var gd = document.getElementById('7c09f0ff-965a-43d2-833a-b20e303177b6');\n",
       "var x = new MutationObserver(function (mutations, observer) {{\n",
       "        var display = window.getComputedStyle(gd).display;\n",
       "        if (!display || display === 'none') {{\n",
       "            console.log([gd, 'removed!']);\n",
       "            Plotly.purge(gd);\n",
       "            observer.disconnect();\n",
       "        }}\n",
       "}});\n",
       "\n",
       "// Listen for the removal of the full notebook cells\n",
       "var notebookContainer = gd.closest('#notebook-container');\n",
       "if (notebookContainer) {{\n",
       "    x.observe(notebookContainer, {childList: true});\n",
       "}}\n",
       "\n",
       "// Listen for the clearing of the current output cell\n",
       "var outputEl = gd.closest('.output');\n",
       "if (outputEl) {{\n",
       "    x.observe(outputEl, {childList: true});\n",
       "}}\n",
       "\n",
       "                        })                };                });            </script>        </div>"
      ]
     },
     "metadata": {},
     "output_type": "display_data"
    }
   ],
   "source": [
    "for f in COM_files:\n",
    "    name = f.split('\\\\')[-1][:-4]\n",
    "    print(name)\n",
    "    df = pd.read_csv(f)\n",
    "\n",
    "    chasee_com = df.loc[:,['chasee_com_x', 'chasee_com_y', 'chasee_com_z']].values\n",
    "    chaser_com = df.loc[:,['chaser_com_x', 'chaser_com_y', 'chaser_com_z']].values\n",
    "    \n",
    "    chasee_com_smooth = filter_data(chasee_com)\n",
    "    ds_ce, dp_ce, t_ce, k_ce, n_ce, b_ce = compute_frenet_serret(chasee_com_smooth)\n",
    "    \n",
    "    chaser_com_smooth = filter_data(chaser_com)\n",
    "    ds_cr, dp_cr, t_cr, k_cr, n_cr, b_cr = compute_frenet_serret(chaser_com_smooth)\n",
    "    \n",
    "    fig = go.Figure()\n",
    "    make_fig_kappa(fig, k_cr, chaser_com_smooth[1:], k_ce, chasee_com_smooth[1:])\n",
    "    fig.write_html('./Data/Sampled1K_Figures/Curvature/' + name + '_kappa.html')\n",
    "    fig.show()\n",
    "#     fig1 = go.Figure()\n",
    "#     make_fig_kappa(fig1, k_cr, chaser_com_smooth[1:])\n",
    "#     fig1.write_html('./Data/Sampled1K_Figures/Curvature/' + name + '_chaser_kappa.html')"
   ]
  },
  {
   "cell_type": "code",
   "execution_count": 71,
   "id": "4548e5e9",
   "metadata": {},
   "outputs": [
    {
     "data": {
      "application/vnd.plotly.v1+json": {
       "config": {
        "plotlyServerURL": "https://plot.ly"
       },
       "data": [
        {
         "mode": "lines",
         "type": "scatter3d",
         "x": [
          0.0379179915866741,
          0.0384706786501827,
          0.0390218370105104,
          0.0395710945000259,
          0.0401180789510977,
          0.0406624181960947,
          0.0412037400673853,
          0.0417416723973383,
          0.0422758430183222,
          0.0428058797627059,
          0.0435890662878789,
          0.044108531818182,
          0.0446092869318184,
          0.0451144151515154,
          0.0456174267045457,
          0.0461129367424245,
          0.0466011166666669,
          0.0470988109848487,
          0.0475922592803032,
          0.0480800467803032,
          0.0485666795454548,
          0.0490561865530305,
          0.0495456893939396,
          0.0500296776515154,
          0.0505131484848487,
          0.0509872295454548,
          0.0514498628787881,
          0.0519121530303033,
          0.0523840738636366,
          0.0528434106060608,
          0.0533003939393942,
          0.0537421428030306,
          0.0541826778409093,
          0.0546264437500002,
          0.0550707907196972,
          0.0555065668560608,
          0.0559416136363639,
          0.0563773562500003,
          0.0568076918560609,
          0.0572343922348488,
          0.05766401969697,
          0.0580873020833336,
          0.058506766666667,
          0.0589145212121215,
          0.0593273899621215,
          0.0597405020833337,
          0.0601516087121215,
          0.0605615185606064,
          0.0609624079545458,
          0.061361779166667,
          0.0617641437500003,
          0.0621725914772731,
          0.062576772727273,
          0.06298261344697,
          0.0633811467803034,
          0.0637740439393943,
          0.0641645376893943,
          0.0645437918560609,
          0.0649296723484852,
          0.0653105017045458,
          0.0656803850378791,
          0.0660463035984852,
          0.0664137939393943,
          0.0667729522727276,
          0.0671228473484852,
          0.0674729958333336,
          0.0678234039772731,
          0.0681635094696973,
          0.0685017310606064,
          0.0688440327651519,
          0.0691651443181822,
          0.0694741166666671,
          0.0697823613636367,
          0.070088657386364,
          0.0703787227272731,
          0.0706622301136367,
          0.0709345784090913,
          0.0711986755681822,
          0.0714473939393943,
          0.0716896030303034,
          0.0719281160984852,
          0.0721655306818185,
          0.0723933655303034,
          0.0726201748106064,
          0.0728479089015155,
          0.0730702477272731,
          0.0732721208333337,
          0.0734677558712125,
          0.0736472522727277,
          0.0738025710227276,
          0.0739530032196974,
          0.0740932045454549,
          0.0742370181818186,
          0.0743618314393943,
          0.0744775401515156,
          0.0745816863636368,
          0.0746827965909095,
          0.074783857386364,
          0.0748825924242428,
          0.0749732238636368,
          0.0750573183712125,
          0.0751376681818186,
          0.0752188395833337,
          0.0753017704545459,
          0.0753777765151519,
          0.0754382183712125,
          0.0754885581439398,
          0.0755314679924247,
          0.0755723446969701,
          0.0756038064393943,
          0.0756297070075762,
          0.0756555628787883,
          0.075675094886364,
          0.0756814128787883,
          0.0756822367424246,
          0.0756813179924247,
          0.0756661227272731,
          0.0756419691287882,
          0.0756117772727276,
          0.0755818496212125,
          0.0755537380681822,
          0.0755271225378792,
          0.0754881130681822,
          0.0754456785984852,
          0.0754028643939398,
          0.0753530662878791,
          0.0753041869318185,
          0.0752414102272731,
          0.0751707412878792,
          0.0751016375000004,
          0.075028945075758,
          0.0749432155303034,
          0.0748457744318186,
          0.074746676136364,
          0.0746466928030307,
          0.0745353657196974,
          0.0744210314393943,
          0.0743117035984853,
          0.0742088964015155,
          0.0741030128787883,
          0.0739843329545458,
          0.0738548549242428,
          0.073695463636364,
          0.0735472083333337,
          0.073396682575758,
          0.0732506500000003,
          0.0730963170454549,
          0.072945029166667,
          0.072799891856061,
          0.0726505660984852,
          0.0724912113636367,
          0.0723326079545458,
          0.0721636125000003,
          0.0719858785984852,
          0.0717898846590913,
          0.0715908723484852,
          0.0713922534090913,
          0.0711823670454549,
          0.0709433803030307,
          0.0708105490702458,
          0.0705358021311124,
          0.0702507401399336,
          0.0699575201919585,
          0.0696582993824365,
          0.0693552348066166,
          0.069050483559748,
          0.0687462027370798,
          0.0684445494338613,
          0.0681476807453416
         ],
         "y": [
          0.0759555816487859,
          0.0754548382834556,
          0.0749562647448661,
          0.0744591810544729,
          0.0739629072337318,
          0.0734667633040984,
          0.0729700692870282,
          0.0724721452039771,
          0.0719723110764005,
          0.0714698869257542,
          0.0707087340909095,
          0.070187260416667,
          0.0696642630681822,
          0.0691397992424246,
          0.0686189467803034,
          0.0680830403409095,
          0.0675475032196973,
          0.0670095168560609,
          0.0664720844696973,
          0.0659273151515155,
          0.0653727214015155,
          0.0648144043560609,
          0.0642558899621215,
          0.0636896776515155,
          0.0631215285984852,
          0.0625560899621215,
          0.0619933130681821,
          0.0614258638257579,
          0.0608610856060609,
          0.0602905611742427,
          0.0597159475378791,
          0.0591423191287882,
          0.058574372916667,
          0.0579978761363639,
          0.0574153115530306,
          0.0568365473484851,
          0.0562551003787881,
          0.0556701301136367,
          0.0550790537878791,
          0.0544846926136366,
          0.053885913257576,
          0.0532875297348488,
          0.0526836844696972,
          0.0520873041666669,
          0.0514889121212124,
          0.0508903384469699,
          0.0502926409090912,
          0.0496940952651518,
          0.0490954392045457,
          0.0484911988636366,
          0.0478944375000002,
          0.0472931676136366,
          0.0466920803030306,
          0.046082619507576,
          0.0454641967803033,
          0.0448392518939396,
          0.0442130820075759,
          0.0435931946969699,
          0.0429592589015154,
          0.0423256215909093,
          0.0416882073863638,
          0.0410515054924244,
          0.0404014808712123,
          0.0397477511363638,
          0.0390984164772729,
          0.0384384399621214,
          0.0377805681818183,
          0.0371241666666668,
          0.0364584865530304,
          0.0357883998106062,
          0.0351108560606062,
          0.0344302208333335,
          0.0337362840909092,
          0.0330384390151517,
          0.0323376081439395,
          0.031635828409091,
          0.0309246212121213,
          0.0302032623106062,
          0.0294872545454547,
          0.0287602316287879,
          0.0280389541666667,
          0.0273022342803031,
          0.0265689068181819,
          0.0258299772727274,
          0.0250884839015152,
          0.0243274893939395,
          0.0235638145833333,
          0.0227998638257576,
          0.0220317935606061,
          0.0212687696969698,
          0.0205017628787879,
          0.0197312482954545,
          0.0189564,
          0.0181853123106061,
          0.0174070804924243,
          0.0166185049242425,
          0.0158352761363637,
          0.0150451960227273,
          0.0142451261363636,
          0.01344123125,
          0.0126252282196969,
          0.0118038539772727,
          0.0109711575757576,
          0.0101315837121212,
          0.0092745236742424,
          0.0084323664772727,
          0.0075827071969696,
          0.006726674810606,
          0.0058768844696969,
          0.0050203380681818,
          0.0041666535984848,
          0.0033100325757575,
          0.0024559147727272,
          0.0015987041666667,
          0.0007472170454545,
          -0.0001117160984848,
          -0.0009882602272727,
          -0.0018556196969697,
          -0.0027264350378787,
          -0.0035968022727272,
          -0.0044572356060606,
          -0.0053197964015151,
          -0.0061916488636363,
          -0.0070632941287879,
          -0.0079361539772727,
          -0.0088084053030303,
          -0.0096875183712121,
          -0.0105656583333333,
          -0.0114517554924242,
          -0.0123514931818182,
          -0.0132593181818182,
          -0.0141637969696969,
          -0.0150773446969697,
          -0.0159925503787878,
          -0.0169210107954546,
          -0.0178593375000001,
          -0.0187950765151515,
          -0.0197327670454546,
          -0.0206689503787879,
          -0.0215953295454546,
          -0.0225315005681819,
          -0.0234639982954546,
          -0.0243983725378789,
          -0.0253198280303031,
          -0.0262416869318183,
          -0.0271648054924243,
          -0.0280786308712122,
          -0.0289871994318183,
          -0.0298952071969698,
          -0.0307920884469698,
          -0.0316883234848486,
          -0.0325807089015153,
          -0.0334684323863638,
          -0.0343587375000002,
          -0.0352543454545456,
          -0.0361602185606062,
          -0.0370590000000002,
          -0.0379577013257578,
          -0.0388577183712122,
          -0.039311646968444,
          -0.0402183428292306,
          -0.0411223060702791,
          -0.0420221156817875,
          -0.042916350653954,
          -0.0438035899769767,
          -0.0446824126410538,
          -0.0455513976363834,
          -0.0464091239531635,
          -0.0472541705815922
         ],
         "z": [
          0.0021674339356295,
          0.0029469069660316,
          0.0037281119696474,
          0.0045111969332771,
          0.0052963098437211,
          0.0060835986877796,
          0.0068732114522529,
          0.0076652961239415,
          0.0084600006896455,
          0.0092574731361651,
          0.0104598604166666,
          0.0112664823863636,
          0.0120734850378788,
          0.0128889609848485,
          0.0137059221590909,
          0.0145239134469697,
          0.0153420431818181,
          0.0161647035984849,
          0.0169960734848485,
          0.0178287433712121,
          0.0186536178030303,
          0.0194805708333333,
          0.0203043727272728,
          0.0211330392045455,
          0.0219641865530304,
          0.0227870475378789,
          0.023616787689394,
          0.0244542670454546,
          0.0252797833333334,
          0.0261017884469698,
          0.026924212878788,
          0.0277466422348486,
          0.0285646125000001,
          0.0293822426136365,
          0.0302010890151516,
          0.0310147393939395,
          0.0318303210227274,
          0.0326450041666668,
          0.0334483642045456,
          0.034250900568182,
          0.0350516310606062,
          0.0358491000000001,
          0.0366429922348486,
          0.0374368939393941,
          0.0382314509469699,
          0.0390259731060608,
          0.0398131854166668,
          0.0405891890151517,
          0.0413670107954547,
          0.0421437774621214,
          0.0429225526515153,
          0.0436937590909093,
          0.0444650500000002,
          0.0452295274621214,
          0.0459951678030305,
          0.0467577130681821,
          0.0475142123106063,
          0.0482670642045457,
          0.0490220094696972,
          0.0497645240530305,
          0.0505073348484851,
          0.0512455191287881,
          0.0519869909090912,
          0.0527211064393942,
          0.0534494221590912,
          0.054179391477273,
          0.0549085524621215,
          0.0556313691287882,
          0.05634032594697,
          0.0570394020833336,
          0.0577270340909094,
          0.0584044785984851,
          0.0590764172348488,
          0.0597449513257578,
          0.0603998958333336,
          0.0610405191287882,
          0.0616743475378791,
          0.0622949522727276,
          0.0629026748106064,
          0.0635066835227276,
          0.0641068994318185,
          0.064707572916667,
          0.0652997520833336,
          0.0658927109848488,
          0.0664802282196973,
          0.0670566424242428,
          0.0676211583333337,
          0.0681842570075761,
          0.0687459356060609,
          0.0692998109848488,
          0.0698488467803034,
          0.070399113636364,
          0.0709431708333337,
          0.0714743363636367,
          0.0719967880681822,
          0.0725136892045459,
          0.073018673106061,
          0.0735218933712125,
          0.0740219562500004,
          0.0745218859848489,
          0.0750099768939397,
          0.0754920208333337,
          0.0759679876893943,
          0.0764378522727277,
          0.0769049151515156,
          0.0773675153409095,
          0.077830764015152,
          0.0782868712121216,
          0.0787303683712126,
          0.0791739096590913,
          0.0796136946969701,
          0.0800405892045459,
          0.080459120075758,
          0.0808823876893943,
          0.081302635606061,
          0.0817206964015156,
          0.0821411009469701,
          0.0825612441287883,
          0.0829807922348489,
          0.0833971276515156,
          0.0838136293560611,
          0.0842223994318186,
          0.0846319571969702,
          0.0850360740530307,
          0.0854275024621216,
          0.0858174768939399,
          0.0861944047348489,
          0.0865615869318186,
          0.0869250369318186,
          0.0872782869318186,
          0.0876264666666671,
          0.0879708176136368,
          0.0883168590909096,
          0.0886598816287884,
          0.0890036049242428,
          0.0893430501893944,
          0.0896800897727277,
          0.0899891064393944,
          0.090301198484849,
          0.090612207765152,
          0.090927207765152,
          0.0912416907196975,
          0.091554189204546,
          0.0918627746212127,
          0.0921685810606065,
          0.0924673393939399,
          0.0927707329545459,
          0.0930748450757581,
          0.093368704545455,
          0.0936624558712126,
          0.0939486587121217,
          0.0942278613636369,
          0.094503201515152,
          0.0947731600378793,
          0.095029470265152,
          0.0952705206439399,
          0.0954927785984853,
          0.0957264151515157,
          0.0959567748106066,
          0.0960700782377939,
          0.0962933522149945,
          0.0965122816817676,
          0.0967269858290808,
          0.0969375838479014,
          0.0971441949291969,
          0.0973469382639345,
          0.097545933043082,
          0.0977412984576065,
          0.0979331536984754
         ]
        }
       ],
       "layout": {
        "template": {
         "data": {
          "bar": [
           {
            "error_x": {
             "color": "#2a3f5f"
            },
            "error_y": {
             "color": "#2a3f5f"
            },
            "marker": {
             "line": {
              "color": "#E5ECF6",
              "width": 0.5
             },
             "pattern": {
              "fillmode": "overlay",
              "size": 10,
              "solidity": 0.2
             }
            },
            "type": "bar"
           }
          ],
          "barpolar": [
           {
            "marker": {
             "line": {
              "color": "#E5ECF6",
              "width": 0.5
             },
             "pattern": {
              "fillmode": "overlay",
              "size": 10,
              "solidity": 0.2
             }
            },
            "type": "barpolar"
           }
          ],
          "carpet": [
           {
            "aaxis": {
             "endlinecolor": "#2a3f5f",
             "gridcolor": "white",
             "linecolor": "white",
             "minorgridcolor": "white",
             "startlinecolor": "#2a3f5f"
            },
            "baxis": {
             "endlinecolor": "#2a3f5f",
             "gridcolor": "white",
             "linecolor": "white",
             "minorgridcolor": "white",
             "startlinecolor": "#2a3f5f"
            },
            "type": "carpet"
           }
          ],
          "choropleth": [
           {
            "colorbar": {
             "outlinewidth": 0,
             "ticks": ""
            },
            "type": "choropleth"
           }
          ],
          "contour": [
           {
            "colorbar": {
             "outlinewidth": 0,
             "ticks": ""
            },
            "colorscale": [
             [
              0,
              "#0d0887"
             ],
             [
              0.1111111111111111,
              "#46039f"
             ],
             [
              0.2222222222222222,
              "#7201a8"
             ],
             [
              0.3333333333333333,
              "#9c179e"
             ],
             [
              0.4444444444444444,
              "#bd3786"
             ],
             [
              0.5555555555555556,
              "#d8576b"
             ],
             [
              0.6666666666666666,
              "#ed7953"
             ],
             [
              0.7777777777777778,
              "#fb9f3a"
             ],
             [
              0.8888888888888888,
              "#fdca26"
             ],
             [
              1,
              "#f0f921"
             ]
            ],
            "type": "contour"
           }
          ],
          "contourcarpet": [
           {
            "colorbar": {
             "outlinewidth": 0,
             "ticks": ""
            },
            "type": "contourcarpet"
           }
          ],
          "heatmap": [
           {
            "colorbar": {
             "outlinewidth": 0,
             "ticks": ""
            },
            "colorscale": [
             [
              0,
              "#0d0887"
             ],
             [
              0.1111111111111111,
              "#46039f"
             ],
             [
              0.2222222222222222,
              "#7201a8"
             ],
             [
              0.3333333333333333,
              "#9c179e"
             ],
             [
              0.4444444444444444,
              "#bd3786"
             ],
             [
              0.5555555555555556,
              "#d8576b"
             ],
             [
              0.6666666666666666,
              "#ed7953"
             ],
             [
              0.7777777777777778,
              "#fb9f3a"
             ],
             [
              0.8888888888888888,
              "#fdca26"
             ],
             [
              1,
              "#f0f921"
             ]
            ],
            "type": "heatmap"
           }
          ],
          "heatmapgl": [
           {
            "colorbar": {
             "outlinewidth": 0,
             "ticks": ""
            },
            "colorscale": [
             [
              0,
              "#0d0887"
             ],
             [
              0.1111111111111111,
              "#46039f"
             ],
             [
              0.2222222222222222,
              "#7201a8"
             ],
             [
              0.3333333333333333,
              "#9c179e"
             ],
             [
              0.4444444444444444,
              "#bd3786"
             ],
             [
              0.5555555555555556,
              "#d8576b"
             ],
             [
              0.6666666666666666,
              "#ed7953"
             ],
             [
              0.7777777777777778,
              "#fb9f3a"
             ],
             [
              0.8888888888888888,
              "#fdca26"
             ],
             [
              1,
              "#f0f921"
             ]
            ],
            "type": "heatmapgl"
           }
          ],
          "histogram": [
           {
            "marker": {
             "pattern": {
              "fillmode": "overlay",
              "size": 10,
              "solidity": 0.2
             }
            },
            "type": "histogram"
           }
          ],
          "histogram2d": [
           {
            "colorbar": {
             "outlinewidth": 0,
             "ticks": ""
            },
            "colorscale": [
             [
              0,
              "#0d0887"
             ],
             [
              0.1111111111111111,
              "#46039f"
             ],
             [
              0.2222222222222222,
              "#7201a8"
             ],
             [
              0.3333333333333333,
              "#9c179e"
             ],
             [
              0.4444444444444444,
              "#bd3786"
             ],
             [
              0.5555555555555556,
              "#d8576b"
             ],
             [
              0.6666666666666666,
              "#ed7953"
             ],
             [
              0.7777777777777778,
              "#fb9f3a"
             ],
             [
              0.8888888888888888,
              "#fdca26"
             ],
             [
              1,
              "#f0f921"
             ]
            ],
            "type": "histogram2d"
           }
          ],
          "histogram2dcontour": [
           {
            "colorbar": {
             "outlinewidth": 0,
             "ticks": ""
            },
            "colorscale": [
             [
              0,
              "#0d0887"
             ],
             [
              0.1111111111111111,
              "#46039f"
             ],
             [
              0.2222222222222222,
              "#7201a8"
             ],
             [
              0.3333333333333333,
              "#9c179e"
             ],
             [
              0.4444444444444444,
              "#bd3786"
             ],
             [
              0.5555555555555556,
              "#d8576b"
             ],
             [
              0.6666666666666666,
              "#ed7953"
             ],
             [
              0.7777777777777778,
              "#fb9f3a"
             ],
             [
              0.8888888888888888,
              "#fdca26"
             ],
             [
              1,
              "#f0f921"
             ]
            ],
            "type": "histogram2dcontour"
           }
          ],
          "mesh3d": [
           {
            "colorbar": {
             "outlinewidth": 0,
             "ticks": ""
            },
            "type": "mesh3d"
           }
          ],
          "parcoords": [
           {
            "line": {
             "colorbar": {
              "outlinewidth": 0,
              "ticks": ""
             }
            },
            "type": "parcoords"
           }
          ],
          "pie": [
           {
            "automargin": true,
            "type": "pie"
           }
          ],
          "scatter": [
           {
            "fillpattern": {
             "fillmode": "overlay",
             "size": 10,
             "solidity": 0.2
            },
            "type": "scatter"
           }
          ],
          "scatter3d": [
           {
            "line": {
             "colorbar": {
              "outlinewidth": 0,
              "ticks": ""
             }
            },
            "marker": {
             "colorbar": {
              "outlinewidth": 0,
              "ticks": ""
             }
            },
            "type": "scatter3d"
           }
          ],
          "scattercarpet": [
           {
            "marker": {
             "colorbar": {
              "outlinewidth": 0,
              "ticks": ""
             }
            },
            "type": "scattercarpet"
           }
          ],
          "scattergeo": [
           {
            "marker": {
             "colorbar": {
              "outlinewidth": 0,
              "ticks": ""
             }
            },
            "type": "scattergeo"
           }
          ],
          "scattergl": [
           {
            "marker": {
             "colorbar": {
              "outlinewidth": 0,
              "ticks": ""
             }
            },
            "type": "scattergl"
           }
          ],
          "scattermapbox": [
           {
            "marker": {
             "colorbar": {
              "outlinewidth": 0,
              "ticks": ""
             }
            },
            "type": "scattermapbox"
           }
          ],
          "scatterpolar": [
           {
            "marker": {
             "colorbar": {
              "outlinewidth": 0,
              "ticks": ""
             }
            },
            "type": "scatterpolar"
           }
          ],
          "scatterpolargl": [
           {
            "marker": {
             "colorbar": {
              "outlinewidth": 0,
              "ticks": ""
             }
            },
            "type": "scatterpolargl"
           }
          ],
          "scatterternary": [
           {
            "marker": {
             "colorbar": {
              "outlinewidth": 0,
              "ticks": ""
             }
            },
            "type": "scatterternary"
           }
          ],
          "surface": [
           {
            "colorbar": {
             "outlinewidth": 0,
             "ticks": ""
            },
            "colorscale": [
             [
              0,
              "#0d0887"
             ],
             [
              0.1111111111111111,
              "#46039f"
             ],
             [
              0.2222222222222222,
              "#7201a8"
             ],
             [
              0.3333333333333333,
              "#9c179e"
             ],
             [
              0.4444444444444444,
              "#bd3786"
             ],
             [
              0.5555555555555556,
              "#d8576b"
             ],
             [
              0.6666666666666666,
              "#ed7953"
             ],
             [
              0.7777777777777778,
              "#fb9f3a"
             ],
             [
              0.8888888888888888,
              "#fdca26"
             ],
             [
              1,
              "#f0f921"
             ]
            ],
            "type": "surface"
           }
          ],
          "table": [
           {
            "cells": {
             "fill": {
              "color": "#EBF0F8"
             },
             "line": {
              "color": "white"
             }
            },
            "header": {
             "fill": {
              "color": "#C8D4E3"
             },
             "line": {
              "color": "white"
             }
            },
            "type": "table"
           }
          ]
         },
         "layout": {
          "annotationdefaults": {
           "arrowcolor": "#2a3f5f",
           "arrowhead": 0,
           "arrowwidth": 1
          },
          "autotypenumbers": "strict",
          "coloraxis": {
           "colorbar": {
            "outlinewidth": 0,
            "ticks": ""
           }
          },
          "colorscale": {
           "diverging": [
            [
             0,
             "#8e0152"
            ],
            [
             0.1,
             "#c51b7d"
            ],
            [
             0.2,
             "#de77ae"
            ],
            [
             0.3,
             "#f1b6da"
            ],
            [
             0.4,
             "#fde0ef"
            ],
            [
             0.5,
             "#f7f7f7"
            ],
            [
             0.6,
             "#e6f5d0"
            ],
            [
             0.7,
             "#b8e186"
            ],
            [
             0.8,
             "#7fbc41"
            ],
            [
             0.9,
             "#4d9221"
            ],
            [
             1,
             "#276419"
            ]
           ],
           "sequential": [
            [
             0,
             "#0d0887"
            ],
            [
             0.1111111111111111,
             "#46039f"
            ],
            [
             0.2222222222222222,
             "#7201a8"
            ],
            [
             0.3333333333333333,
             "#9c179e"
            ],
            [
             0.4444444444444444,
             "#bd3786"
            ],
            [
             0.5555555555555556,
             "#d8576b"
            ],
            [
             0.6666666666666666,
             "#ed7953"
            ],
            [
             0.7777777777777778,
             "#fb9f3a"
            ],
            [
             0.8888888888888888,
             "#fdca26"
            ],
            [
             1,
             "#f0f921"
            ]
           ],
           "sequentialminus": [
            [
             0,
             "#0d0887"
            ],
            [
             0.1111111111111111,
             "#46039f"
            ],
            [
             0.2222222222222222,
             "#7201a8"
            ],
            [
             0.3333333333333333,
             "#9c179e"
            ],
            [
             0.4444444444444444,
             "#bd3786"
            ],
            [
             0.5555555555555556,
             "#d8576b"
            ],
            [
             0.6666666666666666,
             "#ed7953"
            ],
            [
             0.7777777777777778,
             "#fb9f3a"
            ],
            [
             0.8888888888888888,
             "#fdca26"
            ],
            [
             1,
             "#f0f921"
            ]
           ]
          },
          "colorway": [
           "#636efa",
           "#EF553B",
           "#00cc96",
           "#ab63fa",
           "#FFA15A",
           "#19d3f3",
           "#FF6692",
           "#B6E880",
           "#FF97FF",
           "#FECB52"
          ],
          "font": {
           "color": "#2a3f5f"
          },
          "geo": {
           "bgcolor": "white",
           "lakecolor": "white",
           "landcolor": "#E5ECF6",
           "showlakes": true,
           "showland": true,
           "subunitcolor": "white"
          },
          "hoverlabel": {
           "align": "left"
          },
          "hovermode": "closest",
          "mapbox": {
           "style": "light"
          },
          "paper_bgcolor": "white",
          "plot_bgcolor": "#E5ECF6",
          "polar": {
           "angularaxis": {
            "gridcolor": "white",
            "linecolor": "white",
            "ticks": ""
           },
           "bgcolor": "#E5ECF6",
           "radialaxis": {
            "gridcolor": "white",
            "linecolor": "white",
            "ticks": ""
           }
          },
          "scene": {
           "xaxis": {
            "backgroundcolor": "#E5ECF6",
            "gridcolor": "white",
            "gridwidth": 2,
            "linecolor": "white",
            "showbackground": true,
            "ticks": "",
            "zerolinecolor": "white"
           },
           "yaxis": {
            "backgroundcolor": "#E5ECF6",
            "gridcolor": "white",
            "gridwidth": 2,
            "linecolor": "white",
            "showbackground": true,
            "ticks": "",
            "zerolinecolor": "white"
           },
           "zaxis": {
            "backgroundcolor": "#E5ECF6",
            "gridcolor": "white",
            "gridwidth": 2,
            "linecolor": "white",
            "showbackground": true,
            "ticks": "",
            "zerolinecolor": "white"
           }
          },
          "shapedefaults": {
           "line": {
            "color": "#2a3f5f"
           }
          },
          "ternary": {
           "aaxis": {
            "gridcolor": "white",
            "linecolor": "white",
            "ticks": ""
           },
           "baxis": {
            "gridcolor": "white",
            "linecolor": "white",
            "ticks": ""
           },
           "bgcolor": "#E5ECF6",
           "caxis": {
            "gridcolor": "white",
            "linecolor": "white",
            "ticks": ""
           }
          },
          "title": {
           "x": 0.05
          },
          "xaxis": {
           "automargin": true,
           "gridcolor": "white",
           "linecolor": "white",
           "ticks": "",
           "title": {
            "standoff": 15
           },
           "zerolinecolor": "white",
           "zerolinewidth": 2
          },
          "yaxis": {
           "automargin": true,
           "gridcolor": "white",
           "linecolor": "white",
           "ticks": "",
           "title": {
            "standoff": 15
           },
           "zerolinecolor": "white",
           "zerolinewidth": 2
          }
         }
        }
       }
      },
      "text/html": [
       "<div>                            <div id=\"35de5068-ae49-49fb-b74e-7591ab3ca6f2\" class=\"plotly-graph-div\" style=\"height:525px; width:100%;\"></div>            <script type=\"text/javascript\">                require([\"plotly\"], function(Plotly) {                    window.PLOTLYENV=window.PLOTLYENV || {};                                    if (document.getElementById(\"35de5068-ae49-49fb-b74e-7591ab3ca6f2\")) {                    Plotly.newPlot(                        \"35de5068-ae49-49fb-b74e-7591ab3ca6f2\",                        [{\"mode\":\"lines\",\"x\":[0.0379179915866741,0.0384706786501827,0.0390218370105104,0.0395710945000259,0.0401180789510977,0.0406624181960947,0.0412037400673853,0.0417416723973383,0.0422758430183222,0.0428058797627059,0.0435890662878789,0.044108531818182,0.0446092869318184,0.0451144151515154,0.0456174267045457,0.0461129367424245,0.0466011166666669,0.0470988109848487,0.0475922592803032,0.0480800467803032,0.0485666795454548,0.0490561865530305,0.0495456893939396,0.0500296776515154,0.0505131484848487,0.0509872295454548,0.0514498628787881,0.0519121530303033,0.0523840738636366,0.0528434106060608,0.0533003939393942,0.0537421428030306,0.0541826778409093,0.0546264437500002,0.0550707907196972,0.0555065668560608,0.0559416136363639,0.0563773562500003,0.0568076918560609,0.0572343922348488,0.05766401969697,0.0580873020833336,0.058506766666667,0.0589145212121215,0.0593273899621215,0.0597405020833337,0.0601516087121215,0.0605615185606064,0.0609624079545458,0.061361779166667,0.0617641437500003,0.0621725914772731,0.062576772727273,0.06298261344697,0.0633811467803034,0.0637740439393943,0.0641645376893943,0.0645437918560609,0.0649296723484852,0.0653105017045458,0.0656803850378791,0.0660463035984852,0.0664137939393943,0.0667729522727276,0.0671228473484852,0.0674729958333336,0.0678234039772731,0.0681635094696973,0.0685017310606064,0.0688440327651519,0.0691651443181822,0.0694741166666671,0.0697823613636367,0.070088657386364,0.0703787227272731,0.0706622301136367,0.0709345784090913,0.0711986755681822,0.0714473939393943,0.0716896030303034,0.0719281160984852,0.0721655306818185,0.0723933655303034,0.0726201748106064,0.0728479089015155,0.0730702477272731,0.0732721208333337,0.0734677558712125,0.0736472522727277,0.0738025710227276,0.0739530032196974,0.0740932045454549,0.0742370181818186,0.0743618314393943,0.0744775401515156,0.0745816863636368,0.0746827965909095,0.074783857386364,0.0748825924242428,0.0749732238636368,0.0750573183712125,0.0751376681818186,0.0752188395833337,0.0753017704545459,0.0753777765151519,0.0754382183712125,0.0754885581439398,0.0755314679924247,0.0755723446969701,0.0756038064393943,0.0756297070075762,0.0756555628787883,0.075675094886364,0.0756814128787883,0.0756822367424246,0.0756813179924247,0.0756661227272731,0.0756419691287882,0.0756117772727276,0.0755818496212125,0.0755537380681822,0.0755271225378792,0.0754881130681822,0.0754456785984852,0.0754028643939398,0.0753530662878791,0.0753041869318185,0.0752414102272731,0.0751707412878792,0.0751016375000004,0.075028945075758,0.0749432155303034,0.0748457744318186,0.074746676136364,0.0746466928030307,0.0745353657196974,0.0744210314393943,0.0743117035984853,0.0742088964015155,0.0741030128787883,0.0739843329545458,0.0738548549242428,0.073695463636364,0.0735472083333337,0.073396682575758,0.0732506500000003,0.0730963170454549,0.072945029166667,0.072799891856061,0.0726505660984852,0.0724912113636367,0.0723326079545458,0.0721636125000003,0.0719858785984852,0.0717898846590913,0.0715908723484852,0.0713922534090913,0.0711823670454549,0.0709433803030307,0.0708105490702458,0.0705358021311124,0.0702507401399336,0.0699575201919585,0.0696582993824365,0.0693552348066166,0.069050483559748,0.0687462027370798,0.0684445494338613,0.0681476807453416],\"y\":[0.0759555816487859,0.0754548382834556,0.0749562647448661,0.0744591810544729,0.0739629072337318,0.0734667633040984,0.0729700692870282,0.0724721452039771,0.0719723110764005,0.0714698869257542,0.0707087340909095,0.070187260416667,0.0696642630681822,0.0691397992424246,0.0686189467803034,0.0680830403409095,0.0675475032196973,0.0670095168560609,0.0664720844696973,0.0659273151515155,0.0653727214015155,0.0648144043560609,0.0642558899621215,0.0636896776515155,0.0631215285984852,0.0625560899621215,0.0619933130681821,0.0614258638257579,0.0608610856060609,0.0602905611742427,0.0597159475378791,0.0591423191287882,0.058574372916667,0.0579978761363639,0.0574153115530306,0.0568365473484851,0.0562551003787881,0.0556701301136367,0.0550790537878791,0.0544846926136366,0.053885913257576,0.0532875297348488,0.0526836844696972,0.0520873041666669,0.0514889121212124,0.0508903384469699,0.0502926409090912,0.0496940952651518,0.0490954392045457,0.0484911988636366,0.0478944375000002,0.0472931676136366,0.0466920803030306,0.046082619507576,0.0454641967803033,0.0448392518939396,0.0442130820075759,0.0435931946969699,0.0429592589015154,0.0423256215909093,0.0416882073863638,0.0410515054924244,0.0404014808712123,0.0397477511363638,0.0390984164772729,0.0384384399621214,0.0377805681818183,0.0371241666666668,0.0364584865530304,0.0357883998106062,0.0351108560606062,0.0344302208333335,0.0337362840909092,0.0330384390151517,0.0323376081439395,0.031635828409091,0.0309246212121213,0.0302032623106062,0.0294872545454547,0.0287602316287879,0.0280389541666667,0.0273022342803031,0.0265689068181819,0.0258299772727274,0.0250884839015152,0.0243274893939395,0.0235638145833333,0.0227998638257576,0.0220317935606061,0.0212687696969698,0.0205017628787879,0.0197312482954545,0.0189564,0.0181853123106061,0.0174070804924243,0.0166185049242425,0.0158352761363637,0.0150451960227273,0.0142451261363636,0.01344123125,0.0126252282196969,0.0118038539772727,0.0109711575757576,0.0101315837121212,0.0092745236742424,0.0084323664772727,0.0075827071969696,0.006726674810606,0.0058768844696969,0.0050203380681818,0.0041666535984848,0.0033100325757575,0.0024559147727272,0.0015987041666667,0.0007472170454545,-0.0001117160984848,-0.0009882602272727,-0.0018556196969697,-0.0027264350378787,-0.0035968022727272,-0.0044572356060606,-0.0053197964015151,-0.0061916488636363,-0.0070632941287879,-0.0079361539772727,-0.0088084053030303,-0.0096875183712121,-0.0105656583333333,-0.0114517554924242,-0.0123514931818182,-0.0132593181818182,-0.0141637969696969,-0.0150773446969697,-0.0159925503787878,-0.0169210107954546,-0.0178593375000001,-0.0187950765151515,-0.0197327670454546,-0.0206689503787879,-0.0215953295454546,-0.0225315005681819,-0.0234639982954546,-0.0243983725378789,-0.0253198280303031,-0.0262416869318183,-0.0271648054924243,-0.0280786308712122,-0.0289871994318183,-0.0298952071969698,-0.0307920884469698,-0.0316883234848486,-0.0325807089015153,-0.0334684323863638,-0.0343587375000002,-0.0352543454545456,-0.0361602185606062,-0.0370590000000002,-0.0379577013257578,-0.0388577183712122,-0.039311646968444,-0.0402183428292306,-0.0411223060702791,-0.0420221156817875,-0.042916350653954,-0.0438035899769767,-0.0446824126410538,-0.0455513976363834,-0.0464091239531635,-0.0472541705815922],\"z\":[0.0021674339356295,0.0029469069660316,0.0037281119696474,0.0045111969332771,0.0052963098437211,0.0060835986877796,0.0068732114522529,0.0076652961239415,0.0084600006896455,0.0092574731361651,0.0104598604166666,0.0112664823863636,0.0120734850378788,0.0128889609848485,0.0137059221590909,0.0145239134469697,0.0153420431818181,0.0161647035984849,0.0169960734848485,0.0178287433712121,0.0186536178030303,0.0194805708333333,0.0203043727272728,0.0211330392045455,0.0219641865530304,0.0227870475378789,0.023616787689394,0.0244542670454546,0.0252797833333334,0.0261017884469698,0.026924212878788,0.0277466422348486,0.0285646125000001,0.0293822426136365,0.0302010890151516,0.0310147393939395,0.0318303210227274,0.0326450041666668,0.0334483642045456,0.034250900568182,0.0350516310606062,0.0358491000000001,0.0366429922348486,0.0374368939393941,0.0382314509469699,0.0390259731060608,0.0398131854166668,0.0405891890151517,0.0413670107954547,0.0421437774621214,0.0429225526515153,0.0436937590909093,0.0444650500000002,0.0452295274621214,0.0459951678030305,0.0467577130681821,0.0475142123106063,0.0482670642045457,0.0490220094696972,0.0497645240530305,0.0505073348484851,0.0512455191287881,0.0519869909090912,0.0527211064393942,0.0534494221590912,0.054179391477273,0.0549085524621215,0.0556313691287882,0.05634032594697,0.0570394020833336,0.0577270340909094,0.0584044785984851,0.0590764172348488,0.0597449513257578,0.0603998958333336,0.0610405191287882,0.0616743475378791,0.0622949522727276,0.0629026748106064,0.0635066835227276,0.0641068994318185,0.064707572916667,0.0652997520833336,0.0658927109848488,0.0664802282196973,0.0670566424242428,0.0676211583333337,0.0681842570075761,0.0687459356060609,0.0692998109848488,0.0698488467803034,0.070399113636364,0.0709431708333337,0.0714743363636367,0.0719967880681822,0.0725136892045459,0.073018673106061,0.0735218933712125,0.0740219562500004,0.0745218859848489,0.0750099768939397,0.0754920208333337,0.0759679876893943,0.0764378522727277,0.0769049151515156,0.0773675153409095,0.077830764015152,0.0782868712121216,0.0787303683712126,0.0791739096590913,0.0796136946969701,0.0800405892045459,0.080459120075758,0.0808823876893943,0.081302635606061,0.0817206964015156,0.0821411009469701,0.0825612441287883,0.0829807922348489,0.0833971276515156,0.0838136293560611,0.0842223994318186,0.0846319571969702,0.0850360740530307,0.0854275024621216,0.0858174768939399,0.0861944047348489,0.0865615869318186,0.0869250369318186,0.0872782869318186,0.0876264666666671,0.0879708176136368,0.0883168590909096,0.0886598816287884,0.0890036049242428,0.0893430501893944,0.0896800897727277,0.0899891064393944,0.090301198484849,0.090612207765152,0.090927207765152,0.0912416907196975,0.091554189204546,0.0918627746212127,0.0921685810606065,0.0924673393939399,0.0927707329545459,0.0930748450757581,0.093368704545455,0.0936624558712126,0.0939486587121217,0.0942278613636369,0.094503201515152,0.0947731600378793,0.095029470265152,0.0952705206439399,0.0954927785984853,0.0957264151515157,0.0959567748106066,0.0960700782377939,0.0962933522149945,0.0965122816817676,0.0967269858290808,0.0969375838479014,0.0971441949291969,0.0973469382639345,0.097545933043082,0.0977412984576065,0.0979331536984754],\"type\":\"scatter3d\"}],                        {\"template\":{\"data\":{\"histogram2dcontour\":[{\"type\":\"histogram2dcontour\",\"colorbar\":{\"outlinewidth\":0,\"ticks\":\"\"},\"colorscale\":[[0.0,\"#0d0887\"],[0.1111111111111111,\"#46039f\"],[0.2222222222222222,\"#7201a8\"],[0.3333333333333333,\"#9c179e\"],[0.4444444444444444,\"#bd3786\"],[0.5555555555555556,\"#d8576b\"],[0.6666666666666666,\"#ed7953\"],[0.7777777777777778,\"#fb9f3a\"],[0.8888888888888888,\"#fdca26\"],[1.0,\"#f0f921\"]]}],\"choropleth\":[{\"type\":\"choropleth\",\"colorbar\":{\"outlinewidth\":0,\"ticks\":\"\"}}],\"histogram2d\":[{\"type\":\"histogram2d\",\"colorbar\":{\"outlinewidth\":0,\"ticks\":\"\"},\"colorscale\":[[0.0,\"#0d0887\"],[0.1111111111111111,\"#46039f\"],[0.2222222222222222,\"#7201a8\"],[0.3333333333333333,\"#9c179e\"],[0.4444444444444444,\"#bd3786\"],[0.5555555555555556,\"#d8576b\"],[0.6666666666666666,\"#ed7953\"],[0.7777777777777778,\"#fb9f3a\"],[0.8888888888888888,\"#fdca26\"],[1.0,\"#f0f921\"]]}],\"heatmap\":[{\"type\":\"heatmap\",\"colorbar\":{\"outlinewidth\":0,\"ticks\":\"\"},\"colorscale\":[[0.0,\"#0d0887\"],[0.1111111111111111,\"#46039f\"],[0.2222222222222222,\"#7201a8\"],[0.3333333333333333,\"#9c179e\"],[0.4444444444444444,\"#bd3786\"],[0.5555555555555556,\"#d8576b\"],[0.6666666666666666,\"#ed7953\"],[0.7777777777777778,\"#fb9f3a\"],[0.8888888888888888,\"#fdca26\"],[1.0,\"#f0f921\"]]}],\"heatmapgl\":[{\"type\":\"heatmapgl\",\"colorbar\":{\"outlinewidth\":0,\"ticks\":\"\"},\"colorscale\":[[0.0,\"#0d0887\"],[0.1111111111111111,\"#46039f\"],[0.2222222222222222,\"#7201a8\"],[0.3333333333333333,\"#9c179e\"],[0.4444444444444444,\"#bd3786\"],[0.5555555555555556,\"#d8576b\"],[0.6666666666666666,\"#ed7953\"],[0.7777777777777778,\"#fb9f3a\"],[0.8888888888888888,\"#fdca26\"],[1.0,\"#f0f921\"]]}],\"contourcarpet\":[{\"type\":\"contourcarpet\",\"colorbar\":{\"outlinewidth\":0,\"ticks\":\"\"}}],\"contour\":[{\"type\":\"contour\",\"colorbar\":{\"outlinewidth\":0,\"ticks\":\"\"},\"colorscale\":[[0.0,\"#0d0887\"],[0.1111111111111111,\"#46039f\"],[0.2222222222222222,\"#7201a8\"],[0.3333333333333333,\"#9c179e\"],[0.4444444444444444,\"#bd3786\"],[0.5555555555555556,\"#d8576b\"],[0.6666666666666666,\"#ed7953\"],[0.7777777777777778,\"#fb9f3a\"],[0.8888888888888888,\"#fdca26\"],[1.0,\"#f0f921\"]]}],\"surface\":[{\"type\":\"surface\",\"colorbar\":{\"outlinewidth\":0,\"ticks\":\"\"},\"colorscale\":[[0.0,\"#0d0887\"],[0.1111111111111111,\"#46039f\"],[0.2222222222222222,\"#7201a8\"],[0.3333333333333333,\"#9c179e\"],[0.4444444444444444,\"#bd3786\"],[0.5555555555555556,\"#d8576b\"],[0.6666666666666666,\"#ed7953\"],[0.7777777777777778,\"#fb9f3a\"],[0.8888888888888888,\"#fdca26\"],[1.0,\"#f0f921\"]]}],\"mesh3d\":[{\"type\":\"mesh3d\",\"colorbar\":{\"outlinewidth\":0,\"ticks\":\"\"}}],\"scatter\":[{\"fillpattern\":{\"fillmode\":\"overlay\",\"size\":10,\"solidity\":0.2},\"type\":\"scatter\"}],\"parcoords\":[{\"type\":\"parcoords\",\"line\":{\"colorbar\":{\"outlinewidth\":0,\"ticks\":\"\"}}}],\"scatterpolargl\":[{\"type\":\"scatterpolargl\",\"marker\":{\"colorbar\":{\"outlinewidth\":0,\"ticks\":\"\"}}}],\"bar\":[{\"error_x\":{\"color\":\"#2a3f5f\"},\"error_y\":{\"color\":\"#2a3f5f\"},\"marker\":{\"line\":{\"color\":\"#E5ECF6\",\"width\":0.5},\"pattern\":{\"fillmode\":\"overlay\",\"size\":10,\"solidity\":0.2}},\"type\":\"bar\"}],\"scattergeo\":[{\"type\":\"scattergeo\",\"marker\":{\"colorbar\":{\"outlinewidth\":0,\"ticks\":\"\"}}}],\"scatterpolar\":[{\"type\":\"scatterpolar\",\"marker\":{\"colorbar\":{\"outlinewidth\":0,\"ticks\":\"\"}}}],\"histogram\":[{\"marker\":{\"pattern\":{\"fillmode\":\"overlay\",\"size\":10,\"solidity\":0.2}},\"type\":\"histogram\"}],\"scattergl\":[{\"type\":\"scattergl\",\"marker\":{\"colorbar\":{\"outlinewidth\":0,\"ticks\":\"\"}}}],\"scatter3d\":[{\"type\":\"scatter3d\",\"line\":{\"colorbar\":{\"outlinewidth\":0,\"ticks\":\"\"}},\"marker\":{\"colorbar\":{\"outlinewidth\":0,\"ticks\":\"\"}}}],\"scattermapbox\":[{\"type\":\"scattermapbox\",\"marker\":{\"colorbar\":{\"outlinewidth\":0,\"ticks\":\"\"}}}],\"scatterternary\":[{\"type\":\"scatterternary\",\"marker\":{\"colorbar\":{\"outlinewidth\":0,\"ticks\":\"\"}}}],\"scattercarpet\":[{\"type\":\"scattercarpet\",\"marker\":{\"colorbar\":{\"outlinewidth\":0,\"ticks\":\"\"}}}],\"carpet\":[{\"aaxis\":{\"endlinecolor\":\"#2a3f5f\",\"gridcolor\":\"white\",\"linecolor\":\"white\",\"minorgridcolor\":\"white\",\"startlinecolor\":\"#2a3f5f\"},\"baxis\":{\"endlinecolor\":\"#2a3f5f\",\"gridcolor\":\"white\",\"linecolor\":\"white\",\"minorgridcolor\":\"white\",\"startlinecolor\":\"#2a3f5f\"},\"type\":\"carpet\"}],\"table\":[{\"cells\":{\"fill\":{\"color\":\"#EBF0F8\"},\"line\":{\"color\":\"white\"}},\"header\":{\"fill\":{\"color\":\"#C8D4E3\"},\"line\":{\"color\":\"white\"}},\"type\":\"table\"}],\"barpolar\":[{\"marker\":{\"line\":{\"color\":\"#E5ECF6\",\"width\":0.5},\"pattern\":{\"fillmode\":\"overlay\",\"size\":10,\"solidity\":0.2}},\"type\":\"barpolar\"}],\"pie\":[{\"automargin\":true,\"type\":\"pie\"}]},\"layout\":{\"autotypenumbers\":\"strict\",\"colorway\":[\"#636efa\",\"#EF553B\",\"#00cc96\",\"#ab63fa\",\"#FFA15A\",\"#19d3f3\",\"#FF6692\",\"#B6E880\",\"#FF97FF\",\"#FECB52\"],\"font\":{\"color\":\"#2a3f5f\"},\"hovermode\":\"closest\",\"hoverlabel\":{\"align\":\"left\"},\"paper_bgcolor\":\"white\",\"plot_bgcolor\":\"#E5ECF6\",\"polar\":{\"bgcolor\":\"#E5ECF6\",\"angularaxis\":{\"gridcolor\":\"white\",\"linecolor\":\"white\",\"ticks\":\"\"},\"radialaxis\":{\"gridcolor\":\"white\",\"linecolor\":\"white\",\"ticks\":\"\"}},\"ternary\":{\"bgcolor\":\"#E5ECF6\",\"aaxis\":{\"gridcolor\":\"white\",\"linecolor\":\"white\",\"ticks\":\"\"},\"baxis\":{\"gridcolor\":\"white\",\"linecolor\":\"white\",\"ticks\":\"\"},\"caxis\":{\"gridcolor\":\"white\",\"linecolor\":\"white\",\"ticks\":\"\"}},\"coloraxis\":{\"colorbar\":{\"outlinewidth\":0,\"ticks\":\"\"}},\"colorscale\":{\"sequential\":[[0.0,\"#0d0887\"],[0.1111111111111111,\"#46039f\"],[0.2222222222222222,\"#7201a8\"],[0.3333333333333333,\"#9c179e\"],[0.4444444444444444,\"#bd3786\"],[0.5555555555555556,\"#d8576b\"],[0.6666666666666666,\"#ed7953\"],[0.7777777777777778,\"#fb9f3a\"],[0.8888888888888888,\"#fdca26\"],[1.0,\"#f0f921\"]],\"sequentialminus\":[[0.0,\"#0d0887\"],[0.1111111111111111,\"#46039f\"],[0.2222222222222222,\"#7201a8\"],[0.3333333333333333,\"#9c179e\"],[0.4444444444444444,\"#bd3786\"],[0.5555555555555556,\"#d8576b\"],[0.6666666666666666,\"#ed7953\"],[0.7777777777777778,\"#fb9f3a\"],[0.8888888888888888,\"#fdca26\"],[1.0,\"#f0f921\"]],\"diverging\":[[0,\"#8e0152\"],[0.1,\"#c51b7d\"],[0.2,\"#de77ae\"],[0.3,\"#f1b6da\"],[0.4,\"#fde0ef\"],[0.5,\"#f7f7f7\"],[0.6,\"#e6f5d0\"],[0.7,\"#b8e186\"],[0.8,\"#7fbc41\"],[0.9,\"#4d9221\"],[1,\"#276419\"]]},\"xaxis\":{\"gridcolor\":\"white\",\"linecolor\":\"white\",\"ticks\":\"\",\"title\":{\"standoff\":15},\"zerolinecolor\":\"white\",\"automargin\":true,\"zerolinewidth\":2},\"yaxis\":{\"gridcolor\":\"white\",\"linecolor\":\"white\",\"ticks\":\"\",\"title\":{\"standoff\":15},\"zerolinecolor\":\"white\",\"automargin\":true,\"zerolinewidth\":2},\"scene\":{\"xaxis\":{\"backgroundcolor\":\"#E5ECF6\",\"gridcolor\":\"white\",\"linecolor\":\"white\",\"showbackground\":true,\"ticks\":\"\",\"zerolinecolor\":\"white\",\"gridwidth\":2},\"yaxis\":{\"backgroundcolor\":\"#E5ECF6\",\"gridcolor\":\"white\",\"linecolor\":\"white\",\"showbackground\":true,\"ticks\":\"\",\"zerolinecolor\":\"white\",\"gridwidth\":2},\"zaxis\":{\"backgroundcolor\":\"#E5ECF6\",\"gridcolor\":\"white\",\"linecolor\":\"white\",\"showbackground\":true,\"ticks\":\"\",\"zerolinecolor\":\"white\",\"gridwidth\":2}},\"shapedefaults\":{\"line\":{\"color\":\"#2a3f5f\"}},\"annotationdefaults\":{\"arrowcolor\":\"#2a3f5f\",\"arrowhead\":0,\"arrowwidth\":1},\"geo\":{\"bgcolor\":\"white\",\"landcolor\":\"#E5ECF6\",\"subunitcolor\":\"white\",\"showland\":true,\"showlakes\":true,\"lakecolor\":\"white\"},\"title\":{\"x\":0.05},\"mapbox\":{\"style\":\"light\"}}}},                        {\"responsive\": true}                    ).then(function(){\n",
       "                            \n",
       "var gd = document.getElementById('35de5068-ae49-49fb-b74e-7591ab3ca6f2');\n",
       "var x = new MutationObserver(function (mutations, observer) {{\n",
       "        var display = window.getComputedStyle(gd).display;\n",
       "        if (!display || display === 'none') {{\n",
       "            console.log([gd, 'removed!']);\n",
       "            Plotly.purge(gd);\n",
       "            observer.disconnect();\n",
       "        }}\n",
       "}});\n",
       "\n",
       "// Listen for the removal of the full notebook cells\n",
       "var notebookContainer = gd.closest('#notebook-container');\n",
       "if (notebookContainer) {{\n",
       "    x.observe(notebookContainer, {childList: true});\n",
       "}}\n",
       "\n",
       "// Listen for the clearing of the current output cell\n",
       "var outputEl = gd.closest('.output');\n",
       "if (outputEl) {{\n",
       "    x.observe(outputEl, {childList: true});\n",
       "}}\n",
       "\n",
       "                        })                };                });            </script>        </div>"
      ]
     },
     "metadata": {},
     "output_type": "display_data"
    }
   ],
   "source": [
    "from plotly.subplots import make_subplots\n",
    "fig = go.Figure()\n",
    "\n",
    "k_chaser = k_cr\n",
    "k_chasee = k_ce\n",
    "com_chaser = chaser_com\n",
    "com_chasee = chasee_com\n",
    "color_min = np.min([k_chaser, k_chasee])\n",
    "color_max = np.max([k_chaser, k_chasee])\n",
    "\n",
    "\n",
    "# # Create the subplot figure\n",
    "# fig = make_subplots(\n",
    "#     rows=1, cols=2,\n",
    "#     specs=[[{'type': 'scatter3d'}, {'type': 'xy'}]\n",
    "# #           ,[{'type': 'scatter3d'}, {'type': 'xy'}]\n",
    "#           ]\n",
    "# )\n",
    "\n",
    "#Chasee\n",
    "# Add 3D scatter plot\n",
    "fig.add_trace(go.Scatter3d(\n",
    "    x = com_chasee[:,0]\n",
    "    , y = com_chasee[:,1]\n",
    "    , z = com_chasee[:,2]\n",
    "    , mode = 'lines'\n",
    "#     , marker = dict(size=4\n",
    "#                     ,color=k_chasee\n",
    "#                     ,colorscale = 'jet'\n",
    "#                     ,cmin = color_min\n",
    "#                     ,cmax = color_max\n",
    "#                     ,colorbar=dict(title='k value')# Add colorbar with title\n",
    "#                     )\n",
    ")\n",
    "#     ,row=1, col=1\n",
    ")\n",
    "\n",
    "# # Add 2D line plot\n",
    "# fig.add_trace(\n",
    "#     go.Scatter(x=np.arange(len(k_chasee)), y=k_chasee, mode='lines'),\n",
    "#     row=1, col=2\n",
    "# )\n",
    "\n",
    "# # Chaser\n",
    "# # Add 3D scatter plot\n",
    "# fig.add_trace(go.Scatter3d(\n",
    "#     x = com_chaser[:,0]\n",
    "#     , y = com_chaser[:,1]\n",
    "#     , z = com_chaser[:,2]\n",
    "#     , mode = 'markers'\n",
    "#     , marker = dict(size=4\n",
    "#                     ,color=k_chaser\n",
    "#                     ,colorscale = 'jet'\n",
    "#                     ,cmin = color_min\n",
    "#                     ,cmax = color_max\n",
    "#                     ,colorbar=dict(title='k value')  # Add colorbar with title\n",
    "#                     ))\n",
    "#     ,row=2, col=1\n",
    "# )\n",
    "\n",
    "# # Add 2D line plot\n",
    "# fig.add_trace(\n",
    "#     go.Scatter(x=np.arange(len(k_chaser)), y=k_chaser, mode='lines'),\n",
    "#     row=2, col=2\n",
    "# )  \n",
    "\n",
    "fig.show()"
   ]
  },
  {
   "cell_type": "code",
   "execution_count": 70,
   "id": "ef4eff88",
   "metadata": {},
   "outputs": [
    {
     "data": {
      "text/plain": [
       "(169, 169, 169)"
      ]
     },
     "execution_count": 70,
     "metadata": {},
     "output_type": "execute_result"
    }
   ],
   "source": [
    "len(com_chasee[:,0]), len(com_chasee[:,1]), len(com_chasee[:,2])"
   ]
  },
  {
   "cell_type": "code",
   "execution_count": null,
   "id": "d753270e",
   "metadata": {},
   "outputs": [],
   "source": []
  },
  {
   "cell_type": "code",
   "execution_count": null,
   "id": "380e282d",
   "metadata": {},
   "outputs": [],
   "source": []
  },
  {
   "cell_type": "code",
   "execution_count": null,
   "id": "f670615a",
   "metadata": {},
   "outputs": [],
   "source": []
  },
  {
   "cell_type": "code",
   "execution_count": null,
   "id": "c14fff8e",
   "metadata": {},
   "outputs": [],
   "source": []
  },
  {
   "cell_type": "code",
   "execution_count": null,
   "id": "c9bc634a",
   "metadata": {},
   "outputs": [],
   "source": []
  },
  {
   "cell_type": "code",
   "execution_count": null,
   "id": "8f8327ea",
   "metadata": {},
   "outputs": [],
   "source": []
  },
  {
   "cell_type": "code",
   "execution_count": null,
   "id": "6f97e443",
   "metadata": {},
   "outputs": [],
   "source": []
  },
  {
   "cell_type": "code",
   "execution_count": null,
   "id": "865ec83f",
   "metadata": {},
   "outputs": [],
   "source": []
  },
  {
   "cell_type": "code",
   "execution_count": null,
   "id": "256f711f",
   "metadata": {},
   "outputs": [],
   "source": []
  },
  {
   "cell_type": "code",
   "execution_count": null,
   "id": "cff5cf18",
   "metadata": {},
   "outputs": [],
   "source": []
  },
  {
   "cell_type": "code",
   "execution_count": null,
   "id": "525008f5",
   "metadata": {},
   "outputs": [],
   "source": []
  },
  {
   "cell_type": "code",
   "execution_count": null,
   "id": "9d44cecb",
   "metadata": {},
   "outputs": [],
   "source": []
  },
  {
   "cell_type": "code",
   "execution_count": null,
   "id": "4dc92187",
   "metadata": {},
   "outputs": [],
   "source": []
  },
  {
   "cell_type": "code",
   "execution_count": null,
   "id": "0c40fa18",
   "metadata": {},
   "outputs": [],
   "source": []
  },
  {
   "cell_type": "code",
   "execution_count": null,
   "id": "145714e7",
   "metadata": {},
   "outputs": [],
   "source": []
  },
  {
   "cell_type": "code",
   "execution_count": null,
   "id": "6302f142",
   "metadata": {},
   "outputs": [],
   "source": []
  },
  {
   "cell_type": "code",
   "execution_count": 24,
   "id": "1e2e1966",
   "metadata": {},
   "outputs": [
    {
     "data": {
      "application/vnd.plotly.v1+json": {
       "config": {
        "plotlyServerURL": "https://plot.ly"
       },
       "data": [
        {
         "marker": {
          "colorbar": {
           "title": {
            "text": "k value"
           }
          },
          "size": 4
         },
         "mode": "markers",
         "type": "scatter3d",
         "x": [
          0.09233387172233055,
          0.09238247132827625,
          0.09238996243309852,
          0.09235800333204386,
          0.0922882523203587,
          0.0921823676932895,
          0.0920420077460827,
          0.09186883077398479,
          0.09166449507224221,
          0.0914306589361014,
          0.09116898066080885,
          0.09088111854161099,
          0.09056873087375429,
          0.0902334759524852,
          0.08987701207305017,
          0.08930628971399625,
          0.08890333540234677,
          0.08848491211405775,
          0.08805306406389218,
          0.08760901226719378,
          0.0871543731283963,
          0.08669122327994062,
          0.08622187570774537,
          0.08574830161631292,
          0.0852729450437529,
          0.08479049070718127,
          0.08430824431048552,
          0.08382893187419463,
          0.08335379752261521,
          0.08288384298515074,
          0.08242008129637404,
          0.08196443333497996,
          0.08151891090397351,
          0.08108470908050724,
          0.08066288826949539,
          0.08025436135090937,
          0.07986020519209754,
          0.07948079531765556,
          0.07911639029009197,
          0.07876741048252976,
          0.07843402967582995,
          0.07811648713896578,
          0.07781552744000914,
          0.07753236200393805,
          0.07726660550531624,
          0.07701896861327927,
          0.0767898627462947,
          0.07657900533363572,
          0.07638606434975959,
          0.07621215368223051,
          0.07605834161246759,
          0.07592524618772632,
          0.07581314155493075,
          0.07572280245383331,
          0.07565401588938861,
          0.07560661047838688,
          0.0755799360562075,
          0.07557351206933823,
          0.07558700710747066,
          0.07562036225120713,
          0.07567322148597952,
          0.07574480072316159,
          0.07583346612038158,
          0.07593731891347716,
          0.07605455415956243,
          0.07618392825414946,
          0.07632309085920393,
          0.07647042379738876,
          0.07662462367132342,
          0.07678388840059155,
          0.07694661842578768,
          0.07711140894336584,
          0.0772767056425423,
          0.07744040948981809,
          0.07760100150056447,
          0.07775801329300057,
          0.07791039545699541,
          0.0780575147402577,
          0.07819865268275467,
          0.07833241226312872,
          0.07845780723087258,
          0.07857371303934794,
          0.07867938596966956,
          0.07877355880440644,
          0.07885643041624185,
          0.07892799332102912,
          0.07898851430321428,
          0.07903857808783782,
          0.07907920203293896,
          0.07911097275639849,
          0.07913497736619622,
          0.07915205979614581,
          0.07916325112004327,
          0.079169793077269,
          0.07917313154144476,
          0.07917345536157976,
          0.07917196730777154,
          0.07916955229428568,
          0.07916656858271409,
          0.07916341862443992,
          0.07916021998418694,
          0.0791571913717089,
          0.07915404139534088,
          0.07915091419148026,
          0.07914701079067535,
          0.07914035125617017,
          0.07912993337552215,
          0.07911363823736606,
          0.07908931514462222,
          0.07905607344502297,
          0.07901253192454473,
          0.07895713020659796,
          0.07888899865711885,
          0.07880776880246176,
          0.07871251598163351,
          0.0786026831909899,
          0.07847847600666057,
          0.07833963404833572,
          0.0781868328091582,
          0.07802108213587966,
          0.07784304370023978,
          0.0776537749232681,
          0.07745430373655442,
          0.07724548346265188,
          0.07702856077414574,
          0.0768052717322339,
          0.07657697471142592,
          0.0763455649062734,
          0.07611342148593722,
          0.0758821948585867,
          0.07565371782606847,
          0.0754295637614547,
          0.07520996656334356,
          0.07499452990420194,
          0.07478390749564369,
          0.07457842468521517,
          0.07437751048396726,
          0.07418140527216735,
          0.07399012568773482,
          0.0738025222067757,
          0.07361755504125891,
          0.07343460835742845,
          0.07324923996367506,
          0.07306193582351792,
          0.0728659717451189,
          0.07266853687683043,
          0.07246917650237311,
          0.07226822762757386,
          0.0720653112904973,
          0.07185995278251847,
          0.0716518021632758,
          0.07143991884474266,
          0.07122344348757799,
          0.07100190513212874,
          0.0708842521485278,
          0.07064040919298731,
          0.07038406049468389,
          0.07011385834363662,
          0.06982845502986457,
          0.06952650284338681,
          0.06920665407422241,
          0.06886756101239047,
          0.06850787594791005,
          0.06812625117080023,
          0.06772133897108008,
          0.0672917916387687,
          0.06683626146388512,
          0.06635340073644846,
          0.06584186174647777
         ],
         "y": [
          0.07505433378405077,
          0.07526289983683973,
          0.07548152528976848,
          0.07570906874771766,
          0.07594438881556789,
          0.07618634409819984,
          0.07643379320049414,
          0.07668559472733141,
          0.07694060728359234,
          0.07719768947415755,
          0.07745569990390767,
          0.07771349717772337,
          0.07796993990048526,
          0.07822388667707401,
          0.07847419611237025,
          0.07883856184950418,
          0.0790745291286493,
          0.07930436597968535,
          0.07952663425696897,
          0.07973918493363541,
          0.0799400849426453,
          0.08012777107628574,
          0.08030026890205205,
          0.08045534882889066,
          0.08059177759435666,
          0.08071433749023225,
          0.08081608435386017,
          0.08089637474131453,
          0.08095474934557421,
          0.08098969672754118,
          0.08100024673227604,
          0.0809860396952343,
          0.08094688062081265,
          0.08088194634676638,
          0.08079126092219419,
          0.08067458688560905,
          0.0805315893421499,
          0.08036124626648533,
          0.08016338201480276,
          0.07993748832559487,
          0.07968413641102506,
          0.07940329185094322,
          0.07909457607920521,
          0.07875775240910579,
          0.07839354311861439,
          0.07800260278641406,
          0.0775852256205168,
          0.07714177878627032,
          0.07667256306175396,
          0.07617979745273408,
          0.07566496674106948,
          0.0751290981818585,
          0.07457330634127073,
          0.07399936289383602,
          0.07340791114287216,
          0.0727997501246261,
          0.0721755581857902,
          0.07153589993130056,
          0.07088260485541617,
          0.0702178084684438,
          0.06954232321331158,
          0.06885667118518998,
          0.06816180879785402,
          0.06745840941406073,
          0.06674720990060873,
          0.06602789924889065,
          0.06530110326979167,
          0.06456806168256055,
          0.0638302356625389,
          0.06308783931877202,
          0.06234094735338718,
          0.061590210544717354,
          0.06083568086165628,
          0.06007794998989461,
          0.059316911577337136,
          0.05855225592202567,
          0.05778463544456696,
          0.05701499011887702,
          0.05624397706549163,
          0.055470756851873866,
          0.054695126529904214,
          0.0539167965936133,
          0.05313518389580657,
          0.0523492116828145,
          0.051558392327134384,
          0.05076173938332691,
          0.049959204202092156,
          0.04915088086309393,
          0.048336123615520574,
          0.04751413284847513,
          0.04668431514584901,
          0.04584639467443567,
          0.044999850024814485,
          0.044144451276420985,
          0.043280141682053776,
          0.042407822353937245,
          0.04152680547881045,
          0.04063723076425419,
          0.03973876366794232,
          0.03883175611230789,
          0.03791602756007237,
          0.036990996259595524,
          0.03605629830162579,
          0.03511186743197788,
          0.03415632737211588,
          0.03319008044431388,
          0.03221300645879747,
          0.031224686083476196,
          0.03022354536005901,
          0.029209352954164148,
          0.028181754392543494,
          0.027140117886143032,
          0.02608374955458529,
          0.02501181781507808,
          0.023923712587636283,
          0.02281950713046977,
          0.02169928372125208,
          0.020563407901404634,
          0.01941218175755827,
          0.018245323461511906,
          0.017063263962433538,
          0.01586689396192626,
          0.014656788681090587,
          0.013434594088287588,
          0.01220161561392345,
          0.010959654592337652,
          0.009710108092405323,
          0.008454101994596916,
          0.007193493051271397,
          0.0059295641979502794,
          0.004663105392189027,
          0.0033943203841990104,
          0.002124643570667532,
          0.0008547753185453448,
          -0.0004138402147591987,
          -0.001681283367999148,
          -0.00294799313155261,
          -0.0042144658598399064,
          -0.00548082436933492,
          -0.006747491726317084,
          -0.008014653195388336,
          -0.00928352808001864,
          -0.010555091998045298,
          -0.011829509593767003,
          -0.013135677196340206,
          -0.014435068376393774,
          -0.01572913026627715,
          -0.0170192471705987,
          -0.018306955528749915,
          -0.019593299336665305,
          -0.020878767977518607,
          -0.022163944835188774,
          -0.023448888942169524,
          -0.024734354226612524,
          -0.025377963153509868,
          -0.026666203913960913,
          -0.027956083135690743,
          -0.02924793032158126,
          -0.030542074974514347,
          -0.031838846597371906,
          -0.033138574693035834,
          -0.03444158876438802,
          -0.035748218314310354,
          -0.03705879284568474,
          -0.03837364186139306,
          -0.03969309486431723,
          -0.04101748135733912,
          -0.04234713084334063,
          -0.04368237282520365
         ],
         "z": [
          -0.03263522952619292,
          -0.032308749184402574,
          -0.03197261292894819,
          -0.03162672530764572,
          -0.031270990868311165,
          -0.030905314158760487,
          -0.03052959972680967,
          -0.03014375212027469,
          -0.02974767588697153,
          -0.02934127557471616,
          -0.028924455731324565,
          -0.02849712090461272,
          -0.0280591756423966,
          -0.02761052449249219,
          -0.02715107200271546,
          -0.02644322215056197,
          -0.025956975744670006,
          -0.02545870374440316,
          -0.02494869514733232,
          -0.024427280328203092,
          -0.023894317968985276,
          -0.023349938272532633,
          -0.022794416463970676,
          -0.022228067126264815,
          -0.021651256904338525,
          -0.02105292671498687,
          -0.02044119197730596,
          -0.019816244929653098,
          -0.019178359344603386,
          -0.0185284726929868,
          -0.01786668807929973,
          -0.017193673500278502,
          -0.016511045945151348,
          -0.01581946922783874,
          -0.015119238611420666,
          -0.01441132574531544,
          -0.013696699859771967,
          -0.012976468954401313,
          -0.01225110586596958,
          -0.01152112190657938,
          -0.010786175577820266,
          -0.010046628334643535,
          -0.00930300655011298,
          -0.008555332661280479,
          -0.007803964038191349,
          -0.007049047352458484,
          -0.006290591664341284,
          -0.005528378197713534,
          -0.004762221287075369,
          -0.003991331385577154,
          -0.003215603033642659,
          -0.002435006007000716,
          -0.0016487936824015215,
          -0.0008572349504108864,
          -6.052101773877346e-05,
          0.0007411629111708222,
          0.0015479091556327095,
          0.002360177242035207,
          0.003177861845407062,
          0.004001185476486236,
          0.004829373189047087,
          0.0056620185868166036,
          0.006499319563040868,
          0.007341124813480507,
          0.00818696664705056,
          0.0090363185279691,
          0.009889208210776507,
          0.010745486448694165,
          0.011604944042672434,
          0.012467472461993982,
          0.013332064465934032,
          0.014198178612266198,
          0.015064490735211588,
          0.015930758067166727,
          0.016796801468605762,
          0.01766241343318739,
          0.01852755059215145,
          0.019391865869435997,
          0.02025576058796614,
          0.02111883929932637,
          0.021981318513383766,
          0.022843559664966543,
          0.023705187108021507,
          0.024566333151844203,
          0.025427022991916223,
          0.02628785307870766,
          0.027149650314951212,
          0.028012178483283506,
          0.028875838283701175,
          0.029739932274840227,
          0.03060412561421892,
          0.031468104189367706,
          0.03233205435085985,
          0.03319512326843964,
          0.03405709100175774,
          0.03491849336681454,
          0.03577897324878151,
          0.03663860826522663,
          0.03749722394641067,
          0.038354665100741335,
          0.039210673662784745,
          0.04006451790876011,
          0.04091735594849054,
          0.041768597058939316,
          0.0426190256660906,
          0.04346870574430012,
          0.044317419185731705,
          0.04516499682879175,
          0.04601032185965281,
          0.04685368973269119,
          0.04769413886862361,
          0.048531249673251904,
          0.04936396219531967,
          0.05019194608533587,
          0.0510159677363606,
          0.05183486434193926,
          0.05264792549719998,
          0.05345493170259938,
          0.054255443363178356,
          0.0550490145175513,
          0.05583625787971645,
          0.05661819021767473,
          0.05739499762547199,
          0.058168282375243664,
          0.05893875203116392,
          0.05970708151971571,
          0.06047431576848124,
          0.06124165920061224,
          0.06201047765650204,
          0.06278088887196298,
          0.06355450356580428,
          0.06433250428698087,
          0.06511590183940237,
          0.06590591257195108,
          0.06670173751982547,
          0.06750399113454404,
          0.06831265045826393,
          0.069127449188479,
          0.06994874285701422,
          0.0707758483619097,
          0.07160878754502152,
          0.07244715215465013,
          0.07328781243619904,
          0.07413228204473243,
          0.07499872696543408,
          0.07586191115142923,
          0.0767228264635652,
          0.07758250833650643,
          0.07844165254445869,
          0.07930146032075383,
          0.080162454072274,
          0.08102455786772594,
          0.08188782466510815,
          0.08275161095651129,
          0.0831800200715142,
          0.08403301953181858,
          0.0848800666891946,
          0.08572012881164229,
          0.08655217316716164,
          0.08737516702375273,
          0.08818807764941551,
          0.08898987231215005,
          0.08977951827995634,
          0.09055598282083442,
          0.0913182332027843,
          0.09206523669380598,
          0.09279596056189951,
          0.0935093720750649,
          0.09420443850130217
         ]
        },
        {
         "marker": {
          "color": [
           2728.3603131109153,
           2780.674506572762,
           2545.905858013326,
           2357.555475316756,
           2203.496446545166,
           2075.495026623772,
           1967.7637375236804,
           1876.1149862367197,
           1797.443222873552,
           1729.3958828123157,
           1670.1574068849607,
           1618.3034497037916,
           1572.7000221457356,
           1532.4321906852672,
           1496.7526900801101,
           1465.04424176601,
           1436.7914879131968,
           1411.559789481664,
           1388.9790018970828,
           1368.7309129880014,
           1350.5394117622327,
           1334.1627192048413,
           1319.3871947449659,
           1306.0223606753705,
           1293.8968787233307,
           1279.2158847260373,
           1264.9894349357166,
           1254.8366233753463,
           1245.8356660882953,
           1237.7731378351596,
           1230.4638813411223,
           1223.755719269062,
           1217.4925046882033,
           1211.51178749562,
           1205.6748395916188,
           1199.8722586837614,
           1194.0214653920777,
           1188.051485159557,
           1181.8948550818088,
           1168.017856964487,
           1152.6051878432406,
           1142.731087442214,
           1132.455823929949,
           1121.8082999240278,
           1110.8255836706717,
           1099.5483310355896,
           1088.038529020828,
           1076.3753990289356,
           1064.6601041172546,
           1052.743242974612,
           1040.6203035536237,
           1028.5182935762546,
           1016.5027337379961,
           1004.6452020266015,
           993.0112226362248,
           981.6640735943645,
           970.6841314629513,
           960.1446253064336,
           950.0920915047649,
           940.5705583802004,
           931.6257780747717,
           923.2755798049352,
           915.5241327068896,
           908.3680462840579,
           901.7850762760463,
           895.7475957432322,
           890.2371580310241,
           885.2268102762165,
           880.6791770571269,
           876.5623396710522,
           872.845636774944,
           869.4907324866933,
           866.4513051410833,
           863.68504425823,
           861.1596907824805,
           858.8465550482216,
           856.7182162904983,
           854.7492426356205,
           852.9232014124306,
           851.2147679237704,
           849.5780018613066,
           847.9650921219451,
           846.343423639916,
           844.6959393327251,
           842.9986502056735,
           841.2245302437761,
           839.3455270813583,
           837.3378844605821,
           835.1951712582628,
           832.8959213294796,
           830.4031017007298,
           827.6968112786875,
           824.769394127531,
           821.6153059533474,
           818.2356394816042,
           814.6393684339245,
           810.8386189586739,
           806.8467559335918,
           802.6695841627134,
           798.3025160701737,
           793.7504918414945,
           789.0406389565971,
           784.1980140858993,
           779.2366774521096,
           774.1802045711321,
           769.0627228912246,
           763.9123589819592,
           758.7516421664913,
           753.5905450494678,
           748.4371147983272,
           743.3116886399497,
           738.2397344599536,
           733.2408665172435,
           728.3281771983981,
           723.5164774847378,
           718.8239665440974,
           714.2580856195233,
           709.827753755029,
           705.7820559029965,
           701.9904518628539,
           698.1273788687062,
           694.2584946507188,
           690.440441108939,
           686.7233633220072,
           683.1453232806664,
           679.7308442672145,
           676.489548349151,
           673.428421232458,
           665.8024271478424,
           659.4555757987023,
           658.8642740132168,
           658.3426734311886,
           657.8925608991835,
           657.512573284371,
           657.204800039666,
           656.9706708985809,
           656.8084889787935,
           656.7132096720476,
           656.6697132002998,
           656.6674772369053,
           656.7042123053651,
           656.7747379043924,
           656.8733064708973,
           657.088106750532,
           657.5689446990021,
           658.2070099337144,
           658.8219613409372,
           659.3894367442203,
           659.8849222255325,
           660.2837960869581,
           660.5613912775584,
           660.6930763025271,
           660.6543544077689,
           660.4209805524717,
           659.9690953487953,
           659.2753747675407,
           658.3171939905241,
           657.0728033461596,
           655.5215138093023,
           653.6438890973077,
           651.4219409714602,
           648.8393239779999,
           645.8815255582073,
           642.5360472442115,
           638.7925725563641,
           634.6431172459583,
           630.0821576958892,
           625.1067336078145
          ],
          "colorbar": {
           "title": {
            "text": "k value"
           }
          },
          "colorscale": [
           [
            0,
            "rgb(0,0,131)"
           ],
           [
            0.2,
            "rgb(0,60,170)"
           ],
           [
            0.4,
            "rgb(5,255,255)"
           ],
           [
            0.6,
            "rgb(255,255,0)"
           ],
           [
            0.8,
            "rgb(250,0,0)"
           ],
           [
            1,
            "rgb(128,0,0)"
           ]
          ],
          "size": 4
         },
         "mode": "markers",
         "type": "scatter3d",
         "x": [
          0.09233387172233055,
          0.09238247132827625,
          0.09238996243309852,
          0.09235800333204386,
          0.0922882523203587,
          0.0921823676932895,
          0.0920420077460827,
          0.09186883077398479,
          0.09166449507224221,
          0.0914306589361014,
          0.09116898066080885,
          0.09088111854161099,
          0.09056873087375429,
          0.0902334759524852,
          0.08987701207305017,
          0.08930628971399625,
          0.08890333540234677,
          0.08848491211405775,
          0.08805306406389218,
          0.08760901226719378,
          0.0871543731283963,
          0.08669122327994062,
          0.08622187570774537,
          0.08574830161631292,
          0.0852729450437529,
          0.08479049070718127,
          0.08430824431048552,
          0.08382893187419463,
          0.08335379752261521,
          0.08288384298515074,
          0.08242008129637404,
          0.08196443333497996,
          0.08151891090397351,
          0.08108470908050724,
          0.08066288826949539,
          0.08025436135090937,
          0.07986020519209754,
          0.07948079531765556,
          0.07911639029009197,
          0.07876741048252976,
          0.07843402967582995,
          0.07811648713896578,
          0.07781552744000914,
          0.07753236200393805,
          0.07726660550531624,
          0.07701896861327927,
          0.0767898627462947,
          0.07657900533363572,
          0.07638606434975959,
          0.07621215368223051,
          0.07605834161246759,
          0.07592524618772632,
          0.07581314155493075,
          0.07572280245383331,
          0.07565401588938861,
          0.07560661047838688,
          0.0755799360562075,
          0.07557351206933823,
          0.07558700710747066,
          0.07562036225120713,
          0.07567322148597952,
          0.07574480072316159,
          0.07583346612038158,
          0.07593731891347716,
          0.07605455415956243,
          0.07618392825414946,
          0.07632309085920393,
          0.07647042379738876,
          0.07662462367132342,
          0.07678388840059155,
          0.07694661842578768,
          0.07711140894336584,
          0.0772767056425423,
          0.07744040948981809,
          0.07760100150056447,
          0.07775801329300057,
          0.07791039545699541,
          0.0780575147402577,
          0.07819865268275467,
          0.07833241226312872,
          0.07845780723087258,
          0.07857371303934794,
          0.07867938596966956,
          0.07877355880440644,
          0.07885643041624185,
          0.07892799332102912,
          0.07898851430321428,
          0.07903857808783782,
          0.07907920203293896,
          0.07911097275639849,
          0.07913497736619622,
          0.07915205979614581,
          0.07916325112004327,
          0.079169793077269,
          0.07917313154144476,
          0.07917345536157976,
          0.07917196730777154,
          0.07916955229428568,
          0.07916656858271409,
          0.07916341862443992,
          0.07916021998418694,
          0.0791571913717089,
          0.07915404139534088,
          0.07915091419148026,
          0.07914701079067535,
          0.07914035125617017,
          0.07912993337552215,
          0.07911363823736606,
          0.07908931514462222,
          0.07905607344502297,
          0.07901253192454473,
          0.07895713020659796,
          0.07888899865711885,
          0.07880776880246176,
          0.07871251598163351,
          0.0786026831909899,
          0.07847847600666057,
          0.07833963404833572,
          0.0781868328091582,
          0.07802108213587966,
          0.07784304370023978,
          0.0776537749232681,
          0.07745430373655442,
          0.07724548346265188,
          0.07702856077414574,
          0.0768052717322339,
          0.07657697471142592,
          0.0763455649062734,
          0.07611342148593722,
          0.0758821948585867,
          0.07565371782606847,
          0.0754295637614547,
          0.07520996656334356,
          0.07499452990420194,
          0.07478390749564369,
          0.07457842468521517,
          0.07437751048396726,
          0.07418140527216735,
          0.07399012568773482,
          0.0738025222067757,
          0.07361755504125891,
          0.07343460835742845,
          0.07324923996367506,
          0.07306193582351792,
          0.0728659717451189,
          0.07266853687683043,
          0.07246917650237311,
          0.07226822762757386,
          0.0720653112904973,
          0.07185995278251847,
          0.0716518021632758,
          0.07143991884474266,
          0.07122344348757799,
          0.07100190513212874,
          0.0708842521485278,
          0.07064040919298731,
          0.07038406049468389,
          0.07011385834363662,
          0.06982845502986457,
          0.06952650284338681,
          0.06920665407422241,
          0.06886756101239047,
          0.06850787594791005,
          0.06812625117080023,
          0.06772133897108008,
          0.0672917916387687,
          0.06683626146388512,
          0.06635340073644846,
          0.06584186174647777
         ],
         "y": [
          0.07505433378405077,
          0.07526289983683973,
          0.07548152528976848,
          0.07570906874771766,
          0.07594438881556789,
          0.07618634409819984,
          0.07643379320049414,
          0.07668559472733141,
          0.07694060728359234,
          0.07719768947415755,
          0.07745569990390767,
          0.07771349717772337,
          0.07796993990048526,
          0.07822388667707401,
          0.07847419611237025,
          0.07883856184950418,
          0.0790745291286493,
          0.07930436597968535,
          0.07952663425696897,
          0.07973918493363541,
          0.0799400849426453,
          0.08012777107628574,
          0.08030026890205205,
          0.08045534882889066,
          0.08059177759435666,
          0.08071433749023225,
          0.08081608435386017,
          0.08089637474131453,
          0.08095474934557421,
          0.08098969672754118,
          0.08100024673227604,
          0.0809860396952343,
          0.08094688062081265,
          0.08088194634676638,
          0.08079126092219419,
          0.08067458688560905,
          0.0805315893421499,
          0.08036124626648533,
          0.08016338201480276,
          0.07993748832559487,
          0.07968413641102506,
          0.07940329185094322,
          0.07909457607920521,
          0.07875775240910579,
          0.07839354311861439,
          0.07800260278641406,
          0.0775852256205168,
          0.07714177878627032,
          0.07667256306175396,
          0.07617979745273408,
          0.07566496674106948,
          0.0751290981818585,
          0.07457330634127073,
          0.07399936289383602,
          0.07340791114287216,
          0.0727997501246261,
          0.0721755581857902,
          0.07153589993130056,
          0.07088260485541617,
          0.0702178084684438,
          0.06954232321331158,
          0.06885667118518998,
          0.06816180879785402,
          0.06745840941406073,
          0.06674720990060873,
          0.06602789924889065,
          0.06530110326979167,
          0.06456806168256055,
          0.0638302356625389,
          0.06308783931877202,
          0.06234094735338718,
          0.061590210544717354,
          0.06083568086165628,
          0.06007794998989461,
          0.059316911577337136,
          0.05855225592202567,
          0.05778463544456696,
          0.05701499011887702,
          0.05624397706549163,
          0.055470756851873866,
          0.054695126529904214,
          0.0539167965936133,
          0.05313518389580657,
          0.0523492116828145,
          0.051558392327134384,
          0.05076173938332691,
          0.049959204202092156,
          0.04915088086309393,
          0.048336123615520574,
          0.04751413284847513,
          0.04668431514584901,
          0.04584639467443567,
          0.044999850024814485,
          0.044144451276420985,
          0.043280141682053776,
          0.042407822353937245,
          0.04152680547881045,
          0.04063723076425419,
          0.03973876366794232,
          0.03883175611230789,
          0.03791602756007237,
          0.036990996259595524,
          0.03605629830162579,
          0.03511186743197788,
          0.03415632737211588,
          0.03319008044431388,
          0.03221300645879747,
          0.031224686083476196,
          0.03022354536005901,
          0.029209352954164148,
          0.028181754392543494,
          0.027140117886143032,
          0.02608374955458529,
          0.02501181781507808,
          0.023923712587636283,
          0.02281950713046977,
          0.02169928372125208,
          0.020563407901404634,
          0.01941218175755827,
          0.018245323461511906,
          0.017063263962433538,
          0.01586689396192626,
          0.014656788681090587,
          0.013434594088287588,
          0.01220161561392345,
          0.010959654592337652,
          0.009710108092405323,
          0.008454101994596916,
          0.007193493051271397,
          0.0059295641979502794,
          0.004663105392189027,
          0.0033943203841990104,
          0.002124643570667532,
          0.0008547753185453448,
          -0.0004138402147591987,
          -0.001681283367999148,
          -0.00294799313155261,
          -0.0042144658598399064,
          -0.00548082436933492,
          -0.006747491726317084,
          -0.008014653195388336,
          -0.00928352808001864,
          -0.010555091998045298,
          -0.011829509593767003,
          -0.013135677196340206,
          -0.014435068376393774,
          -0.01572913026627715,
          -0.0170192471705987,
          -0.018306955528749915,
          -0.019593299336665305,
          -0.020878767977518607,
          -0.022163944835188774,
          -0.023448888942169524,
          -0.024734354226612524,
          -0.025377963153509868,
          -0.026666203913960913,
          -0.027956083135690743,
          -0.02924793032158126,
          -0.030542074974514347,
          -0.031838846597371906,
          -0.033138574693035834,
          -0.03444158876438802,
          -0.035748218314310354,
          -0.03705879284568474,
          -0.03837364186139306,
          -0.03969309486431723,
          -0.04101748135733912,
          -0.04234713084334063,
          -0.04368237282520365
         ],
         "z": [
          -0.03263522952619292,
          -0.032308749184402574,
          -0.03197261292894819,
          -0.03162672530764572,
          -0.031270990868311165,
          -0.030905314158760487,
          -0.03052959972680967,
          -0.03014375212027469,
          -0.02974767588697153,
          -0.02934127557471616,
          -0.028924455731324565,
          -0.02849712090461272,
          -0.0280591756423966,
          -0.02761052449249219,
          -0.02715107200271546,
          -0.02644322215056197,
          -0.025956975744670006,
          -0.02545870374440316,
          -0.02494869514733232,
          -0.024427280328203092,
          -0.023894317968985276,
          -0.023349938272532633,
          -0.022794416463970676,
          -0.022228067126264815,
          -0.021651256904338525,
          -0.02105292671498687,
          -0.02044119197730596,
          -0.019816244929653098,
          -0.019178359344603386,
          -0.0185284726929868,
          -0.01786668807929973,
          -0.017193673500278502,
          -0.016511045945151348,
          -0.01581946922783874,
          -0.015119238611420666,
          -0.01441132574531544,
          -0.013696699859771967,
          -0.012976468954401313,
          -0.01225110586596958,
          -0.01152112190657938,
          -0.010786175577820266,
          -0.010046628334643535,
          -0.00930300655011298,
          -0.008555332661280479,
          -0.007803964038191349,
          -0.007049047352458484,
          -0.006290591664341284,
          -0.005528378197713534,
          -0.004762221287075369,
          -0.003991331385577154,
          -0.003215603033642659,
          -0.002435006007000716,
          -0.0016487936824015215,
          -0.0008572349504108864,
          -6.052101773877346e-05,
          0.0007411629111708222,
          0.0015479091556327095,
          0.002360177242035207,
          0.003177861845407062,
          0.004001185476486236,
          0.004829373189047087,
          0.0056620185868166036,
          0.006499319563040868,
          0.007341124813480507,
          0.00818696664705056,
          0.0090363185279691,
          0.009889208210776507,
          0.010745486448694165,
          0.011604944042672434,
          0.012467472461993982,
          0.013332064465934032,
          0.014198178612266198,
          0.015064490735211588,
          0.015930758067166727,
          0.016796801468605762,
          0.01766241343318739,
          0.01852755059215145,
          0.019391865869435997,
          0.02025576058796614,
          0.02111883929932637,
          0.021981318513383766,
          0.022843559664966543,
          0.023705187108021507,
          0.024566333151844203,
          0.025427022991916223,
          0.02628785307870766,
          0.027149650314951212,
          0.028012178483283506,
          0.028875838283701175,
          0.029739932274840227,
          0.03060412561421892,
          0.031468104189367706,
          0.03233205435085985,
          0.03319512326843964,
          0.03405709100175774,
          0.03491849336681454,
          0.03577897324878151,
          0.03663860826522663,
          0.03749722394641067,
          0.038354665100741335,
          0.039210673662784745,
          0.04006451790876011,
          0.04091735594849054,
          0.041768597058939316,
          0.0426190256660906,
          0.04346870574430012,
          0.044317419185731705,
          0.04516499682879175,
          0.04601032185965281,
          0.04685368973269119,
          0.04769413886862361,
          0.048531249673251904,
          0.04936396219531967,
          0.05019194608533587,
          0.0510159677363606,
          0.05183486434193926,
          0.05264792549719998,
          0.05345493170259938,
          0.054255443363178356,
          0.0550490145175513,
          0.05583625787971645,
          0.05661819021767473,
          0.05739499762547199,
          0.058168282375243664,
          0.05893875203116392,
          0.05970708151971571,
          0.06047431576848124,
          0.06124165920061224,
          0.06201047765650204,
          0.06278088887196298,
          0.06355450356580428,
          0.06433250428698087,
          0.06511590183940237,
          0.06590591257195108,
          0.06670173751982547,
          0.06750399113454404,
          0.06831265045826393,
          0.069127449188479,
          0.06994874285701422,
          0.0707758483619097,
          0.07160878754502152,
          0.07244715215465013,
          0.07328781243619904,
          0.07413228204473243,
          0.07499872696543408,
          0.07586191115142923,
          0.0767228264635652,
          0.07758250833650643,
          0.07844165254445869,
          0.07930146032075383,
          0.080162454072274,
          0.08102455786772594,
          0.08188782466510815,
          0.08275161095651129,
          0.0831800200715142,
          0.08403301953181858,
          0.0848800666891946,
          0.08572012881164229,
          0.08655217316716164,
          0.08737516702375273,
          0.08818807764941551,
          0.08898987231215005,
          0.08977951827995634,
          0.09055598282083442,
          0.0913182332027843,
          0.09206523669380598,
          0.09279596056189951,
          0.0935093720750649,
          0.09420443850130217
         ]
        },
        {
         "marker": {
          "color": [
           1279.2158847260373,
           1264.9894349357166,
           1254.8366233753463,
           1245.8356660882953,
           1237.7731378351596,
           1230.4638813411223,
           1223.755719269062,
           1217.4925046882033,
           1211.51178749562,
           1205.6748395916188,
           1199.8722586837614,
           1194.0214653920777,
           1188.051485159557,
           1181.8948550818088,
           1168.017856964487,
           1152.6051878432406,
           1142.731087442214,
           1132.455823929949,
           1121.8082999240278,
           1110.8255836706717,
           1099.5483310355896,
           1088.038529020828,
           1076.3753990289356,
           1064.6601041172546,
           1052.743242974612,
           1040.6203035536237,
           1028.5182935762546,
           1016.5027337379961,
           1004.6452020266015,
           993.0112226362248,
           981.6640735943645,
           970.6841314629513,
           960.1446253064336,
           950.0920915047649,
           940.5705583802004,
           931.6257780747717,
           923.2755798049352,
           915.5241327068896,
           908.3680462840579,
           901.7850762760463,
           895.7475957432322,
           890.2371580310241,
           885.2268102762165,
           880.6791770571269,
           876.5623396710522,
           872.845636774944,
           869.4907324866933,
           866.4513051410833,
           863.68504425823,
           861.1596907824805,
           858.8465550482216,
           856.7182162904983,
           854.7492426356205,
           852.9232014124306,
           851.2147679237704,
           849.5780018613066,
           847.9650921219451,
           846.343423639916,
           844.6959393327251,
           842.9986502056735,
           841.2245302437761,
           839.3455270813583,
           837.3378844605821,
           835.1951712582628,
           832.8959213294796,
           830.4031017007298,
           827.6968112786875,
           824.769394127531,
           821.6153059533474,
           818.2356394816042,
           814.6393684339245,
           810.8386189586739,
           806.8467559335918,
           802.6695841627134,
           798.3025160701737,
           793.7504918414945,
           789.0406389565971,
           784.1980140858993,
           779.2366774521096,
           774.1802045711321,
           769.0627228912246,
           763.9123589819592,
           758.7516421664913,
           753.5905450494678,
           748.4371147983272,
           743.3116886399497,
           738.2397344599536,
           733.2408665172435,
           728.3281771983981,
           723.5164774847378,
           718.8239665440974,
           714.2580856195233,
           709.827753755029,
           705.7820559029965,
           701.9904518628539,
           698.1273788687062,
           694.2584946507188,
           690.440441108939,
           686.7233633220072,
           683.1453232806664,
           679.7308442672145,
           676.489548349151,
           673.428421232458,
           665.8024271478424,
           659.4555757987023,
           658.8642740132168,
           658.3426734311886,
           657.8925608991835,
           657.512573284371,
           657.204800039666,
           656.9706708985809,
           656.8084889787935,
           656.7132096720476,
           656.6697132002998,
           656.6674772369053,
           656.7042123053651,
           656.7747379043924,
           656.8733064708973,
           657.088106750532,
           657.5689446990021,
           658.2070099337144,
           658.8219613409372,
           659.3894367442203,
           659.8849222255325,
           660.2837960869581,
           660.5613912775584,
           660.6930763025271,
           660.6543544077689,
           660.4209805524717,
           659.9690953487953,
           659.2753747675407,
           658.3171939905241,
           657.0728033461596,
           655.5215138093023,
           653.6438890973077,
           651.4219409714602,
           648.8393239779999,
           645.8815255582073,
           642.5360472442115,
           638.7925725563641,
           634.6431172459583,
           630.0821576958892,
           625.1067336078145
          ],
          "colorbar": {
           "title": {
            "text": "k value"
           }
          },
          "colorscale": [
           [
            0,
            "rgb(0,0,131)"
           ],
           [
            0.2,
            "rgb(0,60,170)"
           ],
           [
            0.4,
            "rgb(5,255,255)"
           ],
           [
            0.6,
            "rgb(255,255,0)"
           ],
           [
            0.8,
            "rgb(250,0,0)"
           ],
           [
            1,
            "rgb(128,0,0)"
           ]
          ],
          "size": 4
         },
         "mode": "markers",
         "type": "scatter3d",
         "x": [
          0.08479049070718127,
          0.08430824431048552,
          0.08382893187419463,
          0.08335379752261521,
          0.08288384298515074,
          0.08242008129637404,
          0.08196443333497996,
          0.08151891090397351,
          0.08108470908050724,
          0.08066288826949539,
          0.08025436135090937,
          0.07986020519209754,
          0.07948079531765556,
          0.07911639029009197,
          0.07876741048252976,
          0.07843402967582995,
          0.07811648713896578,
          0.07781552744000914,
          0.07753236200393805,
          0.07726660550531624,
          0.07701896861327927,
          0.0767898627462947,
          0.07657900533363572,
          0.07638606434975959,
          0.07621215368223051,
          0.07605834161246759,
          0.07592524618772632,
          0.07581314155493075,
          0.07572280245383331,
          0.07565401588938861,
          0.07560661047838688,
          0.0755799360562075,
          0.07557351206933823,
          0.07558700710747066,
          0.07562036225120713,
          0.07567322148597952,
          0.07574480072316159,
          0.07583346612038158,
          0.07593731891347716,
          0.07605455415956243,
          0.07618392825414946,
          0.07632309085920393,
          0.07647042379738876,
          0.07662462367132342,
          0.07678388840059155,
          0.07694661842578768,
          0.07711140894336584,
          0.0772767056425423,
          0.07744040948981809,
          0.07760100150056447,
          0.07775801329300057,
          0.07791039545699541,
          0.0780575147402577,
          0.07819865268275467,
          0.07833241226312872,
          0.07845780723087258,
          0.07857371303934794,
          0.07867938596966956,
          0.07877355880440644,
          0.07885643041624185,
          0.07892799332102912,
          0.07898851430321428,
          0.07903857808783782,
          0.07907920203293896,
          0.07911097275639849,
          0.07913497736619622,
          0.07915205979614581,
          0.07916325112004327,
          0.079169793077269,
          0.07917313154144476,
          0.07917345536157976,
          0.07917196730777154,
          0.07916955229428568,
          0.07916656858271409,
          0.07916341862443992,
          0.07916021998418694,
          0.0791571913717089,
          0.07915404139534088,
          0.07915091419148026,
          0.07914701079067535,
          0.07914035125617017,
          0.07912993337552215,
          0.07911363823736606,
          0.07908931514462222,
          0.07905607344502297,
          0.07901253192454473,
          0.07895713020659796,
          0.07888899865711885,
          0.07880776880246176,
          0.07871251598163351,
          0.0786026831909899,
          0.07847847600666057,
          0.07833963404833572,
          0.0781868328091582,
          0.07802108213587966,
          0.07784304370023978,
          0.0776537749232681,
          0.07745430373655442,
          0.07724548346265188,
          0.07702856077414574,
          0.0768052717322339,
          0.07657697471142592,
          0.0763455649062734,
          0.07611342148593722,
          0.0758821948585867,
          0.07565371782606847,
          0.0754295637614547,
          0.07520996656334356,
          0.07499452990420194,
          0.07478390749564369,
          0.07457842468521517,
          0.07437751048396726,
          0.07418140527216735,
          0.07399012568773482,
          0.0738025222067757,
          0.07361755504125891,
          0.07343460835742845,
          0.07324923996367506,
          0.07306193582351792,
          0.0728659717451189,
          0.07266853687683043,
          0.07246917650237311,
          0.07226822762757386,
          0.0720653112904973,
          0.07185995278251847,
          0.0716518021632758,
          0.07143991884474266,
          0.07122344348757799,
          0.07100190513212874,
          0.0708842521485278,
          0.07064040919298731,
          0.07038406049468389,
          0.07011385834363662,
          0.06982845502986457,
          0.06952650284338681,
          0.06920665407422241,
          0.06886756101239047,
          0.06850787594791005,
          0.06812625117080023,
          0.06772133897108008,
          0.0672917916387687,
          0.06683626146388512,
          0.06635340073644846,
          0.06584186174647777
         ],
         "y": [
          0.08071433749023225,
          0.08081608435386017,
          0.08089637474131453,
          0.08095474934557421,
          0.08098969672754118,
          0.08100024673227604,
          0.0809860396952343,
          0.08094688062081265,
          0.08088194634676638,
          0.08079126092219419,
          0.08067458688560905,
          0.0805315893421499,
          0.08036124626648533,
          0.08016338201480276,
          0.07993748832559487,
          0.07968413641102506,
          0.07940329185094322,
          0.07909457607920521,
          0.07875775240910579,
          0.07839354311861439,
          0.07800260278641406,
          0.0775852256205168,
          0.07714177878627032,
          0.07667256306175396,
          0.07617979745273408,
          0.07566496674106948,
          0.0751290981818585,
          0.07457330634127073,
          0.07399936289383602,
          0.07340791114287216,
          0.0727997501246261,
          0.0721755581857902,
          0.07153589993130056,
          0.07088260485541617,
          0.0702178084684438,
          0.06954232321331158,
          0.06885667118518998,
          0.06816180879785402,
          0.06745840941406073,
          0.06674720990060873,
          0.06602789924889065,
          0.06530110326979167,
          0.06456806168256055,
          0.0638302356625389,
          0.06308783931877202,
          0.06234094735338718,
          0.061590210544717354,
          0.06083568086165628,
          0.06007794998989461,
          0.059316911577337136,
          0.05855225592202567,
          0.05778463544456696,
          0.05701499011887702,
          0.05624397706549163,
          0.055470756851873866,
          0.054695126529904214,
          0.0539167965936133,
          0.05313518389580657,
          0.0523492116828145,
          0.051558392327134384,
          0.05076173938332691,
          0.049959204202092156,
          0.04915088086309393,
          0.048336123615520574,
          0.04751413284847513,
          0.04668431514584901,
          0.04584639467443567,
          0.044999850024814485,
          0.044144451276420985,
          0.043280141682053776,
          0.042407822353937245,
          0.04152680547881045,
          0.04063723076425419,
          0.03973876366794232,
          0.03883175611230789,
          0.03791602756007237,
          0.036990996259595524,
          0.03605629830162579,
          0.03511186743197788,
          0.03415632737211588,
          0.03319008044431388,
          0.03221300645879747,
          0.031224686083476196,
          0.03022354536005901,
          0.029209352954164148,
          0.028181754392543494,
          0.027140117886143032,
          0.02608374955458529,
          0.02501181781507808,
          0.023923712587636283,
          0.02281950713046977,
          0.02169928372125208,
          0.020563407901404634,
          0.01941218175755827,
          0.018245323461511906,
          0.017063263962433538,
          0.01586689396192626,
          0.014656788681090587,
          0.013434594088287588,
          0.01220161561392345,
          0.010959654592337652,
          0.009710108092405323,
          0.008454101994596916,
          0.007193493051271397,
          0.0059295641979502794,
          0.004663105392189027,
          0.0033943203841990104,
          0.002124643570667532,
          0.0008547753185453448,
          -0.0004138402147591987,
          -0.001681283367999148,
          -0.00294799313155261,
          -0.0042144658598399064,
          -0.00548082436933492,
          -0.006747491726317084,
          -0.008014653195388336,
          -0.00928352808001864,
          -0.010555091998045298,
          -0.011829509593767003,
          -0.013135677196340206,
          -0.014435068376393774,
          -0.01572913026627715,
          -0.0170192471705987,
          -0.018306955528749915,
          -0.019593299336665305,
          -0.020878767977518607,
          -0.022163944835188774,
          -0.023448888942169524,
          -0.024734354226612524,
          -0.025377963153509868,
          -0.026666203913960913,
          -0.027956083135690743,
          -0.02924793032158126,
          -0.030542074974514347,
          -0.031838846597371906,
          -0.033138574693035834,
          -0.03444158876438802,
          -0.035748218314310354,
          -0.03705879284568474,
          -0.03837364186139306,
          -0.03969309486431723,
          -0.04101748135733912,
          -0.04234713084334063,
          -0.04368237282520365
         ],
         "z": [
          -0.02105292671498687,
          -0.02044119197730596,
          -0.019816244929653098,
          -0.019178359344603386,
          -0.0185284726929868,
          -0.01786668807929973,
          -0.017193673500278502,
          -0.016511045945151348,
          -0.01581946922783874,
          -0.015119238611420666,
          -0.01441132574531544,
          -0.013696699859771967,
          -0.012976468954401313,
          -0.01225110586596958,
          -0.01152112190657938,
          -0.010786175577820266,
          -0.010046628334643535,
          -0.00930300655011298,
          -0.008555332661280479,
          -0.007803964038191349,
          -0.007049047352458484,
          -0.006290591664341284,
          -0.005528378197713534,
          -0.004762221287075369,
          -0.003991331385577154,
          -0.003215603033642659,
          -0.002435006007000716,
          -0.0016487936824015215,
          -0.0008572349504108864,
          -6.052101773877346e-05,
          0.0007411629111708222,
          0.0015479091556327095,
          0.002360177242035207,
          0.003177861845407062,
          0.004001185476486236,
          0.004829373189047087,
          0.0056620185868166036,
          0.006499319563040868,
          0.007341124813480507,
          0.00818696664705056,
          0.0090363185279691,
          0.009889208210776507,
          0.010745486448694165,
          0.011604944042672434,
          0.012467472461993982,
          0.013332064465934032,
          0.014198178612266198,
          0.015064490735211588,
          0.015930758067166727,
          0.016796801468605762,
          0.01766241343318739,
          0.01852755059215145,
          0.019391865869435997,
          0.02025576058796614,
          0.02111883929932637,
          0.021981318513383766,
          0.022843559664966543,
          0.023705187108021507,
          0.024566333151844203,
          0.025427022991916223,
          0.02628785307870766,
          0.027149650314951212,
          0.028012178483283506,
          0.028875838283701175,
          0.029739932274840227,
          0.03060412561421892,
          0.031468104189367706,
          0.03233205435085985,
          0.03319512326843964,
          0.03405709100175774,
          0.03491849336681454,
          0.03577897324878151,
          0.03663860826522663,
          0.03749722394641067,
          0.038354665100741335,
          0.039210673662784745,
          0.04006451790876011,
          0.04091735594849054,
          0.041768597058939316,
          0.0426190256660906,
          0.04346870574430012,
          0.044317419185731705,
          0.04516499682879175,
          0.04601032185965281,
          0.04685368973269119,
          0.04769413886862361,
          0.048531249673251904,
          0.04936396219531967,
          0.05019194608533587,
          0.0510159677363606,
          0.05183486434193926,
          0.05264792549719998,
          0.05345493170259938,
          0.054255443363178356,
          0.0550490145175513,
          0.05583625787971645,
          0.05661819021767473,
          0.05739499762547199,
          0.058168282375243664,
          0.05893875203116392,
          0.05970708151971571,
          0.06047431576848124,
          0.06124165920061224,
          0.06201047765650204,
          0.06278088887196298,
          0.06355450356580428,
          0.06433250428698087,
          0.06511590183940237,
          0.06590591257195108,
          0.06670173751982547,
          0.06750399113454404,
          0.06831265045826393,
          0.069127449188479,
          0.06994874285701422,
          0.0707758483619097,
          0.07160878754502152,
          0.07244715215465013,
          0.07328781243619904,
          0.07413228204473243,
          0.07499872696543408,
          0.07586191115142923,
          0.0767228264635652,
          0.07758250833650643,
          0.07844165254445869,
          0.07930146032075383,
          0.080162454072274,
          0.08102455786772594,
          0.08188782466510815,
          0.08275161095651129,
          0.0831800200715142,
          0.08403301953181858,
          0.0848800666891946,
          0.08572012881164229,
          0.08655217316716164,
          0.08737516702375273,
          0.08818807764941551,
          0.08898987231215005,
          0.08977951827995634,
          0.09055598282083442,
          0.0913182332027843,
          0.09206523669380598,
          0.09279596056189951,
          0.0935093720750649,
          0.09420443850130217
         ]
        }
       ],
       "layout": {
        "template": {
         "data": {
          "bar": [
           {
            "error_x": {
             "color": "#2a3f5f"
            },
            "error_y": {
             "color": "#2a3f5f"
            },
            "marker": {
             "line": {
              "color": "#E5ECF6",
              "width": 0.5
             },
             "pattern": {
              "fillmode": "overlay",
              "size": 10,
              "solidity": 0.2
             }
            },
            "type": "bar"
           }
          ],
          "barpolar": [
           {
            "marker": {
             "line": {
              "color": "#E5ECF6",
              "width": 0.5
             },
             "pattern": {
              "fillmode": "overlay",
              "size": 10,
              "solidity": 0.2
             }
            },
            "type": "barpolar"
           }
          ],
          "carpet": [
           {
            "aaxis": {
             "endlinecolor": "#2a3f5f",
             "gridcolor": "white",
             "linecolor": "white",
             "minorgridcolor": "white",
             "startlinecolor": "#2a3f5f"
            },
            "baxis": {
             "endlinecolor": "#2a3f5f",
             "gridcolor": "white",
             "linecolor": "white",
             "minorgridcolor": "white",
             "startlinecolor": "#2a3f5f"
            },
            "type": "carpet"
           }
          ],
          "choropleth": [
           {
            "colorbar": {
             "outlinewidth": 0,
             "ticks": ""
            },
            "type": "choropleth"
           }
          ],
          "contour": [
           {
            "colorbar": {
             "outlinewidth": 0,
             "ticks": ""
            },
            "colorscale": [
             [
              0,
              "#0d0887"
             ],
             [
              0.1111111111111111,
              "#46039f"
             ],
             [
              0.2222222222222222,
              "#7201a8"
             ],
             [
              0.3333333333333333,
              "#9c179e"
             ],
             [
              0.4444444444444444,
              "#bd3786"
             ],
             [
              0.5555555555555556,
              "#d8576b"
             ],
             [
              0.6666666666666666,
              "#ed7953"
             ],
             [
              0.7777777777777778,
              "#fb9f3a"
             ],
             [
              0.8888888888888888,
              "#fdca26"
             ],
             [
              1,
              "#f0f921"
             ]
            ],
            "type": "contour"
           }
          ],
          "contourcarpet": [
           {
            "colorbar": {
             "outlinewidth": 0,
             "ticks": ""
            },
            "type": "contourcarpet"
           }
          ],
          "heatmap": [
           {
            "colorbar": {
             "outlinewidth": 0,
             "ticks": ""
            },
            "colorscale": [
             [
              0,
              "#0d0887"
             ],
             [
              0.1111111111111111,
              "#46039f"
             ],
             [
              0.2222222222222222,
              "#7201a8"
             ],
             [
              0.3333333333333333,
              "#9c179e"
             ],
             [
              0.4444444444444444,
              "#bd3786"
             ],
             [
              0.5555555555555556,
              "#d8576b"
             ],
             [
              0.6666666666666666,
              "#ed7953"
             ],
             [
              0.7777777777777778,
              "#fb9f3a"
             ],
             [
              0.8888888888888888,
              "#fdca26"
             ],
             [
              1,
              "#f0f921"
             ]
            ],
            "type": "heatmap"
           }
          ],
          "heatmapgl": [
           {
            "colorbar": {
             "outlinewidth": 0,
             "ticks": ""
            },
            "colorscale": [
             [
              0,
              "#0d0887"
             ],
             [
              0.1111111111111111,
              "#46039f"
             ],
             [
              0.2222222222222222,
              "#7201a8"
             ],
             [
              0.3333333333333333,
              "#9c179e"
             ],
             [
              0.4444444444444444,
              "#bd3786"
             ],
             [
              0.5555555555555556,
              "#d8576b"
             ],
             [
              0.6666666666666666,
              "#ed7953"
             ],
             [
              0.7777777777777778,
              "#fb9f3a"
             ],
             [
              0.8888888888888888,
              "#fdca26"
             ],
             [
              1,
              "#f0f921"
             ]
            ],
            "type": "heatmapgl"
           }
          ],
          "histogram": [
           {
            "marker": {
             "pattern": {
              "fillmode": "overlay",
              "size": 10,
              "solidity": 0.2
             }
            },
            "type": "histogram"
           }
          ],
          "histogram2d": [
           {
            "colorbar": {
             "outlinewidth": 0,
             "ticks": ""
            },
            "colorscale": [
             [
              0,
              "#0d0887"
             ],
             [
              0.1111111111111111,
              "#46039f"
             ],
             [
              0.2222222222222222,
              "#7201a8"
             ],
             [
              0.3333333333333333,
              "#9c179e"
             ],
             [
              0.4444444444444444,
              "#bd3786"
             ],
             [
              0.5555555555555556,
              "#d8576b"
             ],
             [
              0.6666666666666666,
              "#ed7953"
             ],
             [
              0.7777777777777778,
              "#fb9f3a"
             ],
             [
              0.8888888888888888,
              "#fdca26"
             ],
             [
              1,
              "#f0f921"
             ]
            ],
            "type": "histogram2d"
           }
          ],
          "histogram2dcontour": [
           {
            "colorbar": {
             "outlinewidth": 0,
             "ticks": ""
            },
            "colorscale": [
             [
              0,
              "#0d0887"
             ],
             [
              0.1111111111111111,
              "#46039f"
             ],
             [
              0.2222222222222222,
              "#7201a8"
             ],
             [
              0.3333333333333333,
              "#9c179e"
             ],
             [
              0.4444444444444444,
              "#bd3786"
             ],
             [
              0.5555555555555556,
              "#d8576b"
             ],
             [
              0.6666666666666666,
              "#ed7953"
             ],
             [
              0.7777777777777778,
              "#fb9f3a"
             ],
             [
              0.8888888888888888,
              "#fdca26"
             ],
             [
              1,
              "#f0f921"
             ]
            ],
            "type": "histogram2dcontour"
           }
          ],
          "mesh3d": [
           {
            "colorbar": {
             "outlinewidth": 0,
             "ticks": ""
            },
            "type": "mesh3d"
           }
          ],
          "parcoords": [
           {
            "line": {
             "colorbar": {
              "outlinewidth": 0,
              "ticks": ""
             }
            },
            "type": "parcoords"
           }
          ],
          "pie": [
           {
            "automargin": true,
            "type": "pie"
           }
          ],
          "scatter": [
           {
            "fillpattern": {
             "fillmode": "overlay",
             "size": 10,
             "solidity": 0.2
            },
            "type": "scatter"
           }
          ],
          "scatter3d": [
           {
            "line": {
             "colorbar": {
              "outlinewidth": 0,
              "ticks": ""
             }
            },
            "marker": {
             "colorbar": {
              "outlinewidth": 0,
              "ticks": ""
             }
            },
            "type": "scatter3d"
           }
          ],
          "scattercarpet": [
           {
            "marker": {
             "colorbar": {
              "outlinewidth": 0,
              "ticks": ""
             }
            },
            "type": "scattercarpet"
           }
          ],
          "scattergeo": [
           {
            "marker": {
             "colorbar": {
              "outlinewidth": 0,
              "ticks": ""
             }
            },
            "type": "scattergeo"
           }
          ],
          "scattergl": [
           {
            "marker": {
             "colorbar": {
              "outlinewidth": 0,
              "ticks": ""
             }
            },
            "type": "scattergl"
           }
          ],
          "scattermapbox": [
           {
            "marker": {
             "colorbar": {
              "outlinewidth": 0,
              "ticks": ""
             }
            },
            "type": "scattermapbox"
           }
          ],
          "scatterpolar": [
           {
            "marker": {
             "colorbar": {
              "outlinewidth": 0,
              "ticks": ""
             }
            },
            "type": "scatterpolar"
           }
          ],
          "scatterpolargl": [
           {
            "marker": {
             "colorbar": {
              "outlinewidth": 0,
              "ticks": ""
             }
            },
            "type": "scatterpolargl"
           }
          ],
          "scatterternary": [
           {
            "marker": {
             "colorbar": {
              "outlinewidth": 0,
              "ticks": ""
             }
            },
            "type": "scatterternary"
           }
          ],
          "surface": [
           {
            "colorbar": {
             "outlinewidth": 0,
             "ticks": ""
            },
            "colorscale": [
             [
              0,
              "#0d0887"
             ],
             [
              0.1111111111111111,
              "#46039f"
             ],
             [
              0.2222222222222222,
              "#7201a8"
             ],
             [
              0.3333333333333333,
              "#9c179e"
             ],
             [
              0.4444444444444444,
              "#bd3786"
             ],
             [
              0.5555555555555556,
              "#d8576b"
             ],
             [
              0.6666666666666666,
              "#ed7953"
             ],
             [
              0.7777777777777778,
              "#fb9f3a"
             ],
             [
              0.8888888888888888,
              "#fdca26"
             ],
             [
              1,
              "#f0f921"
             ]
            ],
            "type": "surface"
           }
          ],
          "table": [
           {
            "cells": {
             "fill": {
              "color": "#EBF0F8"
             },
             "line": {
              "color": "white"
             }
            },
            "header": {
             "fill": {
              "color": "#C8D4E3"
             },
             "line": {
              "color": "white"
             }
            },
            "type": "table"
           }
          ]
         },
         "layout": {
          "annotationdefaults": {
           "arrowcolor": "#2a3f5f",
           "arrowhead": 0,
           "arrowwidth": 1
          },
          "autotypenumbers": "strict",
          "coloraxis": {
           "colorbar": {
            "outlinewidth": 0,
            "ticks": ""
           }
          },
          "colorscale": {
           "diverging": [
            [
             0,
             "#8e0152"
            ],
            [
             0.1,
             "#c51b7d"
            ],
            [
             0.2,
             "#de77ae"
            ],
            [
             0.3,
             "#f1b6da"
            ],
            [
             0.4,
             "#fde0ef"
            ],
            [
             0.5,
             "#f7f7f7"
            ],
            [
             0.6,
             "#e6f5d0"
            ],
            [
             0.7,
             "#b8e186"
            ],
            [
             0.8,
             "#7fbc41"
            ],
            [
             0.9,
             "#4d9221"
            ],
            [
             1,
             "#276419"
            ]
           ],
           "sequential": [
            [
             0,
             "#0d0887"
            ],
            [
             0.1111111111111111,
             "#46039f"
            ],
            [
             0.2222222222222222,
             "#7201a8"
            ],
            [
             0.3333333333333333,
             "#9c179e"
            ],
            [
             0.4444444444444444,
             "#bd3786"
            ],
            [
             0.5555555555555556,
             "#d8576b"
            ],
            [
             0.6666666666666666,
             "#ed7953"
            ],
            [
             0.7777777777777778,
             "#fb9f3a"
            ],
            [
             0.8888888888888888,
             "#fdca26"
            ],
            [
             1,
             "#f0f921"
            ]
           ],
           "sequentialminus": [
            [
             0,
             "#0d0887"
            ],
            [
             0.1111111111111111,
             "#46039f"
            ],
            [
             0.2222222222222222,
             "#7201a8"
            ],
            [
             0.3333333333333333,
             "#9c179e"
            ],
            [
             0.4444444444444444,
             "#bd3786"
            ],
            [
             0.5555555555555556,
             "#d8576b"
            ],
            [
             0.6666666666666666,
             "#ed7953"
            ],
            [
             0.7777777777777778,
             "#fb9f3a"
            ],
            [
             0.8888888888888888,
             "#fdca26"
            ],
            [
             1,
             "#f0f921"
            ]
           ]
          },
          "colorway": [
           "#636efa",
           "#EF553B",
           "#00cc96",
           "#ab63fa",
           "#FFA15A",
           "#19d3f3",
           "#FF6692",
           "#B6E880",
           "#FF97FF",
           "#FECB52"
          ],
          "font": {
           "color": "#2a3f5f"
          },
          "geo": {
           "bgcolor": "white",
           "lakecolor": "white",
           "landcolor": "#E5ECF6",
           "showlakes": true,
           "showland": true,
           "subunitcolor": "white"
          },
          "hoverlabel": {
           "align": "left"
          },
          "hovermode": "closest",
          "mapbox": {
           "style": "light"
          },
          "paper_bgcolor": "white",
          "plot_bgcolor": "#E5ECF6",
          "polar": {
           "angularaxis": {
            "gridcolor": "white",
            "linecolor": "white",
            "ticks": ""
           },
           "bgcolor": "#E5ECF6",
           "radialaxis": {
            "gridcolor": "white",
            "linecolor": "white",
            "ticks": ""
           }
          },
          "scene": {
           "xaxis": {
            "backgroundcolor": "#E5ECF6",
            "gridcolor": "white",
            "gridwidth": 2,
            "linecolor": "white",
            "showbackground": true,
            "ticks": "",
            "zerolinecolor": "white"
           },
           "yaxis": {
            "backgroundcolor": "#E5ECF6",
            "gridcolor": "white",
            "gridwidth": 2,
            "linecolor": "white",
            "showbackground": true,
            "ticks": "",
            "zerolinecolor": "white"
           },
           "zaxis": {
            "backgroundcolor": "#E5ECF6",
            "gridcolor": "white",
            "gridwidth": 2,
            "linecolor": "white",
            "showbackground": true,
            "ticks": "",
            "zerolinecolor": "white"
           }
          },
          "shapedefaults": {
           "line": {
            "color": "#2a3f5f"
           }
          },
          "ternary": {
           "aaxis": {
            "gridcolor": "white",
            "linecolor": "white",
            "ticks": ""
           },
           "baxis": {
            "gridcolor": "white",
            "linecolor": "white",
            "ticks": ""
           },
           "bgcolor": "#E5ECF6",
           "caxis": {
            "gridcolor": "white",
            "linecolor": "white",
            "ticks": ""
           }
          },
          "title": {
           "x": 0.05
          },
          "xaxis": {
           "automargin": true,
           "gridcolor": "white",
           "linecolor": "white",
           "ticks": "",
           "title": {
            "standoff": 15
           },
           "zerolinecolor": "white",
           "zerolinewidth": 2
          },
          "yaxis": {
           "automargin": true,
           "gridcolor": "white",
           "linecolor": "white",
           "ticks": "",
           "title": {
            "standoff": 15
           },
           "zerolinecolor": "white",
           "zerolinewidth": 2
          }
         }
        }
       }
      },
      "text/html": [
       "<div>                            <div id=\"69f06287-9c4b-4634-af5f-85af7de934c9\" class=\"plotly-graph-div\" style=\"height:525px; width:100%;\"></div>            <script type=\"text/javascript\">                require([\"plotly\"], function(Plotly) {                    window.PLOTLYENV=window.PLOTLYENV || {};                                    if (document.getElementById(\"69f06287-9c4b-4634-af5f-85af7de934c9\")) {                    Plotly.newPlot(                        \"69f06287-9c4b-4634-af5f-85af7de934c9\",                        [{\"marker\":{\"colorbar\":{\"title\":{\"text\":\"k value\"}},\"size\":4},\"mode\":\"markers\",\"x\":[0.09233387172233055,0.09238247132827625,0.09238996243309852,0.09235800333204386,0.0922882523203587,0.0921823676932895,0.0920420077460827,0.09186883077398479,0.09166449507224221,0.0914306589361014,0.09116898066080885,0.09088111854161099,0.09056873087375429,0.0902334759524852,0.08987701207305017,0.08930628971399625,0.08890333540234677,0.08848491211405775,0.08805306406389218,0.08760901226719378,0.0871543731283963,0.08669122327994062,0.08622187570774537,0.08574830161631292,0.0852729450437529,0.08479049070718127,0.08430824431048552,0.08382893187419463,0.08335379752261521,0.08288384298515074,0.08242008129637404,0.08196443333497996,0.08151891090397351,0.08108470908050724,0.08066288826949539,0.08025436135090937,0.07986020519209754,0.07948079531765556,0.07911639029009197,0.07876741048252976,0.07843402967582995,0.07811648713896578,0.07781552744000914,0.07753236200393805,0.07726660550531624,0.07701896861327927,0.0767898627462947,0.07657900533363572,0.07638606434975959,0.07621215368223051,0.07605834161246759,0.07592524618772632,0.07581314155493075,0.07572280245383331,0.07565401588938861,0.07560661047838688,0.0755799360562075,0.07557351206933823,0.07558700710747066,0.07562036225120713,0.07567322148597952,0.07574480072316159,0.07583346612038158,0.07593731891347716,0.07605455415956243,0.07618392825414946,0.07632309085920393,0.07647042379738876,0.07662462367132342,0.07678388840059155,0.07694661842578768,0.07711140894336584,0.0772767056425423,0.07744040948981809,0.07760100150056447,0.07775801329300057,0.07791039545699541,0.0780575147402577,0.07819865268275467,0.07833241226312872,0.07845780723087258,0.07857371303934794,0.07867938596966956,0.07877355880440644,0.07885643041624185,0.07892799332102912,0.07898851430321428,0.07903857808783782,0.07907920203293896,0.07911097275639849,0.07913497736619622,0.07915205979614581,0.07916325112004327,0.079169793077269,0.07917313154144476,0.07917345536157976,0.07917196730777154,0.07916955229428568,0.07916656858271409,0.07916341862443992,0.07916021998418694,0.0791571913717089,0.07915404139534088,0.07915091419148026,0.07914701079067535,0.07914035125617017,0.07912993337552215,0.07911363823736606,0.07908931514462222,0.07905607344502297,0.07901253192454473,0.07895713020659796,0.07888899865711885,0.07880776880246176,0.07871251598163351,0.0786026831909899,0.07847847600666057,0.07833963404833572,0.0781868328091582,0.07802108213587966,0.07784304370023978,0.0776537749232681,0.07745430373655442,0.07724548346265188,0.07702856077414574,0.0768052717322339,0.07657697471142592,0.0763455649062734,0.07611342148593722,0.0758821948585867,0.07565371782606847,0.0754295637614547,0.07520996656334356,0.07499452990420194,0.07478390749564369,0.07457842468521517,0.07437751048396726,0.07418140527216735,0.07399012568773482,0.0738025222067757,0.07361755504125891,0.07343460835742845,0.07324923996367506,0.07306193582351792,0.0728659717451189,0.07266853687683043,0.07246917650237311,0.07226822762757386,0.0720653112904973,0.07185995278251847,0.0716518021632758,0.07143991884474266,0.07122344348757799,0.07100190513212874,0.0708842521485278,0.07064040919298731,0.07038406049468389,0.07011385834363662,0.06982845502986457,0.06952650284338681,0.06920665407422241,0.06886756101239047,0.06850787594791005,0.06812625117080023,0.06772133897108008,0.0672917916387687,0.06683626146388512,0.06635340073644846,0.06584186174647777],\"y\":[0.07505433378405077,0.07526289983683973,0.07548152528976848,0.07570906874771766,0.07594438881556789,0.07618634409819984,0.07643379320049414,0.07668559472733141,0.07694060728359234,0.07719768947415755,0.07745569990390767,0.07771349717772337,0.07796993990048526,0.07822388667707401,0.07847419611237025,0.07883856184950418,0.0790745291286493,0.07930436597968535,0.07952663425696897,0.07973918493363541,0.0799400849426453,0.08012777107628574,0.08030026890205205,0.08045534882889066,0.08059177759435666,0.08071433749023225,0.08081608435386017,0.08089637474131453,0.08095474934557421,0.08098969672754118,0.08100024673227604,0.0809860396952343,0.08094688062081265,0.08088194634676638,0.08079126092219419,0.08067458688560905,0.0805315893421499,0.08036124626648533,0.08016338201480276,0.07993748832559487,0.07968413641102506,0.07940329185094322,0.07909457607920521,0.07875775240910579,0.07839354311861439,0.07800260278641406,0.0775852256205168,0.07714177878627032,0.07667256306175396,0.07617979745273408,0.07566496674106948,0.0751290981818585,0.07457330634127073,0.07399936289383602,0.07340791114287216,0.0727997501246261,0.0721755581857902,0.07153589993130056,0.07088260485541617,0.0702178084684438,0.06954232321331158,0.06885667118518998,0.06816180879785402,0.06745840941406073,0.06674720990060873,0.06602789924889065,0.06530110326979167,0.06456806168256055,0.0638302356625389,0.06308783931877202,0.06234094735338718,0.061590210544717354,0.06083568086165628,0.06007794998989461,0.059316911577337136,0.05855225592202567,0.05778463544456696,0.05701499011887702,0.05624397706549163,0.055470756851873866,0.054695126529904214,0.0539167965936133,0.05313518389580657,0.0523492116828145,0.051558392327134384,0.05076173938332691,0.049959204202092156,0.04915088086309393,0.048336123615520574,0.04751413284847513,0.04668431514584901,0.04584639467443567,0.044999850024814485,0.044144451276420985,0.043280141682053776,0.042407822353937245,0.04152680547881045,0.04063723076425419,0.03973876366794232,0.03883175611230789,0.03791602756007237,0.036990996259595524,0.03605629830162579,0.03511186743197788,0.03415632737211588,0.03319008044431388,0.03221300645879747,0.031224686083476196,0.03022354536005901,0.029209352954164148,0.028181754392543494,0.027140117886143032,0.02608374955458529,0.02501181781507808,0.023923712587636283,0.02281950713046977,0.02169928372125208,0.020563407901404634,0.01941218175755827,0.018245323461511906,0.017063263962433538,0.01586689396192626,0.014656788681090587,0.013434594088287588,0.01220161561392345,0.010959654592337652,0.009710108092405323,0.008454101994596916,0.007193493051271397,0.0059295641979502794,0.004663105392189027,0.0033943203841990104,0.002124643570667532,0.0008547753185453448,-0.0004138402147591987,-0.001681283367999148,-0.00294799313155261,-0.0042144658598399064,-0.00548082436933492,-0.006747491726317084,-0.008014653195388336,-0.00928352808001864,-0.010555091998045298,-0.011829509593767003,-0.013135677196340206,-0.014435068376393774,-0.01572913026627715,-0.0170192471705987,-0.018306955528749915,-0.019593299336665305,-0.020878767977518607,-0.022163944835188774,-0.023448888942169524,-0.024734354226612524,-0.025377963153509868,-0.026666203913960913,-0.027956083135690743,-0.02924793032158126,-0.030542074974514347,-0.031838846597371906,-0.033138574693035834,-0.03444158876438802,-0.035748218314310354,-0.03705879284568474,-0.03837364186139306,-0.03969309486431723,-0.04101748135733912,-0.04234713084334063,-0.04368237282520365],\"z\":[-0.03263522952619292,-0.032308749184402574,-0.03197261292894819,-0.03162672530764572,-0.031270990868311165,-0.030905314158760487,-0.03052959972680967,-0.03014375212027469,-0.02974767588697153,-0.02934127557471616,-0.028924455731324565,-0.02849712090461272,-0.0280591756423966,-0.02761052449249219,-0.02715107200271546,-0.02644322215056197,-0.025956975744670006,-0.02545870374440316,-0.02494869514733232,-0.024427280328203092,-0.023894317968985276,-0.023349938272532633,-0.022794416463970676,-0.022228067126264815,-0.021651256904338525,-0.02105292671498687,-0.02044119197730596,-0.019816244929653098,-0.019178359344603386,-0.0185284726929868,-0.01786668807929973,-0.017193673500278502,-0.016511045945151348,-0.01581946922783874,-0.015119238611420666,-0.01441132574531544,-0.013696699859771967,-0.012976468954401313,-0.01225110586596958,-0.01152112190657938,-0.010786175577820266,-0.010046628334643535,-0.00930300655011298,-0.008555332661280479,-0.007803964038191349,-0.007049047352458484,-0.006290591664341284,-0.005528378197713534,-0.004762221287075369,-0.003991331385577154,-0.003215603033642659,-0.002435006007000716,-0.0016487936824015215,-0.0008572349504108864,-6.052101773877346e-05,0.0007411629111708222,0.0015479091556327095,0.002360177242035207,0.003177861845407062,0.004001185476486236,0.004829373189047087,0.0056620185868166036,0.006499319563040868,0.007341124813480507,0.00818696664705056,0.0090363185279691,0.009889208210776507,0.010745486448694165,0.011604944042672434,0.012467472461993982,0.013332064465934032,0.014198178612266198,0.015064490735211588,0.015930758067166727,0.016796801468605762,0.01766241343318739,0.01852755059215145,0.019391865869435997,0.02025576058796614,0.02111883929932637,0.021981318513383766,0.022843559664966543,0.023705187108021507,0.024566333151844203,0.025427022991916223,0.02628785307870766,0.027149650314951212,0.028012178483283506,0.028875838283701175,0.029739932274840227,0.03060412561421892,0.031468104189367706,0.03233205435085985,0.03319512326843964,0.03405709100175774,0.03491849336681454,0.03577897324878151,0.03663860826522663,0.03749722394641067,0.038354665100741335,0.039210673662784745,0.04006451790876011,0.04091735594849054,0.041768597058939316,0.0426190256660906,0.04346870574430012,0.044317419185731705,0.04516499682879175,0.04601032185965281,0.04685368973269119,0.04769413886862361,0.048531249673251904,0.04936396219531967,0.05019194608533587,0.0510159677363606,0.05183486434193926,0.05264792549719998,0.05345493170259938,0.054255443363178356,0.0550490145175513,0.05583625787971645,0.05661819021767473,0.05739499762547199,0.058168282375243664,0.05893875203116392,0.05970708151971571,0.06047431576848124,0.06124165920061224,0.06201047765650204,0.06278088887196298,0.06355450356580428,0.06433250428698087,0.06511590183940237,0.06590591257195108,0.06670173751982547,0.06750399113454404,0.06831265045826393,0.069127449188479,0.06994874285701422,0.0707758483619097,0.07160878754502152,0.07244715215465013,0.07328781243619904,0.07413228204473243,0.07499872696543408,0.07586191115142923,0.0767228264635652,0.07758250833650643,0.07844165254445869,0.07930146032075383,0.080162454072274,0.08102455786772594,0.08188782466510815,0.08275161095651129,0.0831800200715142,0.08403301953181858,0.0848800666891946,0.08572012881164229,0.08655217316716164,0.08737516702375273,0.08818807764941551,0.08898987231215005,0.08977951827995634,0.09055598282083442,0.0913182332027843,0.09206523669380598,0.09279596056189951,0.0935093720750649,0.09420443850130217],\"type\":\"scatter3d\"},{\"marker\":{\"color\":[2728.3603131109153,2780.674506572762,2545.905858013326,2357.555475316756,2203.496446545166,2075.495026623772,1967.7637375236804,1876.1149862367197,1797.443222873552,1729.3958828123157,1670.1574068849607,1618.3034497037916,1572.7000221457356,1532.4321906852672,1496.7526900801101,1465.04424176601,1436.7914879131968,1411.559789481664,1388.9790018970828,1368.7309129880014,1350.5394117622327,1334.1627192048413,1319.3871947449659,1306.0223606753705,1293.8968787233307,1279.2158847260373,1264.9894349357166,1254.8366233753463,1245.8356660882953,1237.7731378351596,1230.4638813411223,1223.755719269062,1217.4925046882033,1211.51178749562,1205.6748395916188,1199.8722586837614,1194.0214653920777,1188.051485159557,1181.8948550818088,1168.017856964487,1152.6051878432406,1142.731087442214,1132.455823929949,1121.8082999240278,1110.8255836706717,1099.5483310355896,1088.038529020828,1076.3753990289356,1064.6601041172546,1052.743242974612,1040.6203035536237,1028.5182935762546,1016.5027337379961,1004.6452020266015,993.0112226362248,981.6640735943645,970.6841314629513,960.1446253064336,950.0920915047649,940.5705583802004,931.6257780747717,923.2755798049352,915.5241327068896,908.3680462840579,901.7850762760463,895.7475957432322,890.2371580310241,885.2268102762165,880.6791770571269,876.5623396710522,872.845636774944,869.4907324866933,866.4513051410833,863.68504425823,861.1596907824805,858.8465550482216,856.7182162904983,854.7492426356205,852.9232014124306,851.2147679237704,849.5780018613066,847.9650921219451,846.343423639916,844.6959393327251,842.9986502056735,841.2245302437761,839.3455270813583,837.3378844605821,835.1951712582628,832.8959213294796,830.4031017007298,827.6968112786875,824.769394127531,821.6153059533474,818.2356394816042,814.6393684339245,810.8386189586739,806.8467559335918,802.6695841627134,798.3025160701737,793.7504918414945,789.0406389565971,784.1980140858993,779.2366774521096,774.1802045711321,769.0627228912246,763.9123589819592,758.7516421664913,753.5905450494678,748.4371147983272,743.3116886399497,738.2397344599536,733.2408665172435,728.3281771983981,723.5164774847378,718.8239665440974,714.2580856195233,709.827753755029,705.7820559029965,701.9904518628539,698.1273788687062,694.2584946507188,690.440441108939,686.7233633220072,683.1453232806664,679.7308442672145,676.489548349151,673.428421232458,665.8024271478424,659.4555757987023,658.8642740132168,658.3426734311886,657.8925608991835,657.512573284371,657.204800039666,656.9706708985809,656.8084889787935,656.7132096720476,656.6697132002998,656.6674772369053,656.7042123053651,656.7747379043924,656.8733064708973,657.088106750532,657.5689446990021,658.2070099337144,658.8219613409372,659.3894367442203,659.8849222255325,660.2837960869581,660.5613912775584,660.6930763025271,660.6543544077689,660.4209805524717,659.9690953487953,659.2753747675407,658.3171939905241,657.0728033461596,655.5215138093023,653.6438890973077,651.4219409714602,648.8393239779999,645.8815255582073,642.5360472442115,638.7925725563641,634.6431172459583,630.0821576958892,625.1067336078145],\"colorbar\":{\"title\":{\"text\":\"k value\"}},\"colorscale\":[[0.0,\"rgb(0,0,131)\"],[0.2,\"rgb(0,60,170)\"],[0.4,\"rgb(5,255,255)\"],[0.6,\"rgb(255,255,0)\"],[0.8,\"rgb(250,0,0)\"],[1.0,\"rgb(128,0,0)\"]],\"size\":4},\"mode\":\"markers\",\"x\":[0.09233387172233055,0.09238247132827625,0.09238996243309852,0.09235800333204386,0.0922882523203587,0.0921823676932895,0.0920420077460827,0.09186883077398479,0.09166449507224221,0.0914306589361014,0.09116898066080885,0.09088111854161099,0.09056873087375429,0.0902334759524852,0.08987701207305017,0.08930628971399625,0.08890333540234677,0.08848491211405775,0.08805306406389218,0.08760901226719378,0.0871543731283963,0.08669122327994062,0.08622187570774537,0.08574830161631292,0.0852729450437529,0.08479049070718127,0.08430824431048552,0.08382893187419463,0.08335379752261521,0.08288384298515074,0.08242008129637404,0.08196443333497996,0.08151891090397351,0.08108470908050724,0.08066288826949539,0.08025436135090937,0.07986020519209754,0.07948079531765556,0.07911639029009197,0.07876741048252976,0.07843402967582995,0.07811648713896578,0.07781552744000914,0.07753236200393805,0.07726660550531624,0.07701896861327927,0.0767898627462947,0.07657900533363572,0.07638606434975959,0.07621215368223051,0.07605834161246759,0.07592524618772632,0.07581314155493075,0.07572280245383331,0.07565401588938861,0.07560661047838688,0.0755799360562075,0.07557351206933823,0.07558700710747066,0.07562036225120713,0.07567322148597952,0.07574480072316159,0.07583346612038158,0.07593731891347716,0.07605455415956243,0.07618392825414946,0.07632309085920393,0.07647042379738876,0.07662462367132342,0.07678388840059155,0.07694661842578768,0.07711140894336584,0.0772767056425423,0.07744040948981809,0.07760100150056447,0.07775801329300057,0.07791039545699541,0.0780575147402577,0.07819865268275467,0.07833241226312872,0.07845780723087258,0.07857371303934794,0.07867938596966956,0.07877355880440644,0.07885643041624185,0.07892799332102912,0.07898851430321428,0.07903857808783782,0.07907920203293896,0.07911097275639849,0.07913497736619622,0.07915205979614581,0.07916325112004327,0.079169793077269,0.07917313154144476,0.07917345536157976,0.07917196730777154,0.07916955229428568,0.07916656858271409,0.07916341862443992,0.07916021998418694,0.0791571913717089,0.07915404139534088,0.07915091419148026,0.07914701079067535,0.07914035125617017,0.07912993337552215,0.07911363823736606,0.07908931514462222,0.07905607344502297,0.07901253192454473,0.07895713020659796,0.07888899865711885,0.07880776880246176,0.07871251598163351,0.0786026831909899,0.07847847600666057,0.07833963404833572,0.0781868328091582,0.07802108213587966,0.07784304370023978,0.0776537749232681,0.07745430373655442,0.07724548346265188,0.07702856077414574,0.0768052717322339,0.07657697471142592,0.0763455649062734,0.07611342148593722,0.0758821948585867,0.07565371782606847,0.0754295637614547,0.07520996656334356,0.07499452990420194,0.07478390749564369,0.07457842468521517,0.07437751048396726,0.07418140527216735,0.07399012568773482,0.0738025222067757,0.07361755504125891,0.07343460835742845,0.07324923996367506,0.07306193582351792,0.0728659717451189,0.07266853687683043,0.07246917650237311,0.07226822762757386,0.0720653112904973,0.07185995278251847,0.0716518021632758,0.07143991884474266,0.07122344348757799,0.07100190513212874,0.0708842521485278,0.07064040919298731,0.07038406049468389,0.07011385834363662,0.06982845502986457,0.06952650284338681,0.06920665407422241,0.06886756101239047,0.06850787594791005,0.06812625117080023,0.06772133897108008,0.0672917916387687,0.06683626146388512,0.06635340073644846,0.06584186174647777],\"y\":[0.07505433378405077,0.07526289983683973,0.07548152528976848,0.07570906874771766,0.07594438881556789,0.07618634409819984,0.07643379320049414,0.07668559472733141,0.07694060728359234,0.07719768947415755,0.07745569990390767,0.07771349717772337,0.07796993990048526,0.07822388667707401,0.07847419611237025,0.07883856184950418,0.0790745291286493,0.07930436597968535,0.07952663425696897,0.07973918493363541,0.0799400849426453,0.08012777107628574,0.08030026890205205,0.08045534882889066,0.08059177759435666,0.08071433749023225,0.08081608435386017,0.08089637474131453,0.08095474934557421,0.08098969672754118,0.08100024673227604,0.0809860396952343,0.08094688062081265,0.08088194634676638,0.08079126092219419,0.08067458688560905,0.0805315893421499,0.08036124626648533,0.08016338201480276,0.07993748832559487,0.07968413641102506,0.07940329185094322,0.07909457607920521,0.07875775240910579,0.07839354311861439,0.07800260278641406,0.0775852256205168,0.07714177878627032,0.07667256306175396,0.07617979745273408,0.07566496674106948,0.0751290981818585,0.07457330634127073,0.07399936289383602,0.07340791114287216,0.0727997501246261,0.0721755581857902,0.07153589993130056,0.07088260485541617,0.0702178084684438,0.06954232321331158,0.06885667118518998,0.06816180879785402,0.06745840941406073,0.06674720990060873,0.06602789924889065,0.06530110326979167,0.06456806168256055,0.0638302356625389,0.06308783931877202,0.06234094735338718,0.061590210544717354,0.06083568086165628,0.06007794998989461,0.059316911577337136,0.05855225592202567,0.05778463544456696,0.05701499011887702,0.05624397706549163,0.055470756851873866,0.054695126529904214,0.0539167965936133,0.05313518389580657,0.0523492116828145,0.051558392327134384,0.05076173938332691,0.049959204202092156,0.04915088086309393,0.048336123615520574,0.04751413284847513,0.04668431514584901,0.04584639467443567,0.044999850024814485,0.044144451276420985,0.043280141682053776,0.042407822353937245,0.04152680547881045,0.04063723076425419,0.03973876366794232,0.03883175611230789,0.03791602756007237,0.036990996259595524,0.03605629830162579,0.03511186743197788,0.03415632737211588,0.03319008044431388,0.03221300645879747,0.031224686083476196,0.03022354536005901,0.029209352954164148,0.028181754392543494,0.027140117886143032,0.02608374955458529,0.02501181781507808,0.023923712587636283,0.02281950713046977,0.02169928372125208,0.020563407901404634,0.01941218175755827,0.018245323461511906,0.017063263962433538,0.01586689396192626,0.014656788681090587,0.013434594088287588,0.01220161561392345,0.010959654592337652,0.009710108092405323,0.008454101994596916,0.007193493051271397,0.0059295641979502794,0.004663105392189027,0.0033943203841990104,0.002124643570667532,0.0008547753185453448,-0.0004138402147591987,-0.001681283367999148,-0.00294799313155261,-0.0042144658598399064,-0.00548082436933492,-0.006747491726317084,-0.008014653195388336,-0.00928352808001864,-0.010555091998045298,-0.011829509593767003,-0.013135677196340206,-0.014435068376393774,-0.01572913026627715,-0.0170192471705987,-0.018306955528749915,-0.019593299336665305,-0.020878767977518607,-0.022163944835188774,-0.023448888942169524,-0.024734354226612524,-0.025377963153509868,-0.026666203913960913,-0.027956083135690743,-0.02924793032158126,-0.030542074974514347,-0.031838846597371906,-0.033138574693035834,-0.03444158876438802,-0.035748218314310354,-0.03705879284568474,-0.03837364186139306,-0.03969309486431723,-0.04101748135733912,-0.04234713084334063,-0.04368237282520365],\"z\":[-0.03263522952619292,-0.032308749184402574,-0.03197261292894819,-0.03162672530764572,-0.031270990868311165,-0.030905314158760487,-0.03052959972680967,-0.03014375212027469,-0.02974767588697153,-0.02934127557471616,-0.028924455731324565,-0.02849712090461272,-0.0280591756423966,-0.02761052449249219,-0.02715107200271546,-0.02644322215056197,-0.025956975744670006,-0.02545870374440316,-0.02494869514733232,-0.024427280328203092,-0.023894317968985276,-0.023349938272532633,-0.022794416463970676,-0.022228067126264815,-0.021651256904338525,-0.02105292671498687,-0.02044119197730596,-0.019816244929653098,-0.019178359344603386,-0.0185284726929868,-0.01786668807929973,-0.017193673500278502,-0.016511045945151348,-0.01581946922783874,-0.015119238611420666,-0.01441132574531544,-0.013696699859771967,-0.012976468954401313,-0.01225110586596958,-0.01152112190657938,-0.010786175577820266,-0.010046628334643535,-0.00930300655011298,-0.008555332661280479,-0.007803964038191349,-0.007049047352458484,-0.006290591664341284,-0.005528378197713534,-0.004762221287075369,-0.003991331385577154,-0.003215603033642659,-0.002435006007000716,-0.0016487936824015215,-0.0008572349504108864,-6.052101773877346e-05,0.0007411629111708222,0.0015479091556327095,0.002360177242035207,0.003177861845407062,0.004001185476486236,0.004829373189047087,0.0056620185868166036,0.006499319563040868,0.007341124813480507,0.00818696664705056,0.0090363185279691,0.009889208210776507,0.010745486448694165,0.011604944042672434,0.012467472461993982,0.013332064465934032,0.014198178612266198,0.015064490735211588,0.015930758067166727,0.016796801468605762,0.01766241343318739,0.01852755059215145,0.019391865869435997,0.02025576058796614,0.02111883929932637,0.021981318513383766,0.022843559664966543,0.023705187108021507,0.024566333151844203,0.025427022991916223,0.02628785307870766,0.027149650314951212,0.028012178483283506,0.028875838283701175,0.029739932274840227,0.03060412561421892,0.031468104189367706,0.03233205435085985,0.03319512326843964,0.03405709100175774,0.03491849336681454,0.03577897324878151,0.03663860826522663,0.03749722394641067,0.038354665100741335,0.039210673662784745,0.04006451790876011,0.04091735594849054,0.041768597058939316,0.0426190256660906,0.04346870574430012,0.044317419185731705,0.04516499682879175,0.04601032185965281,0.04685368973269119,0.04769413886862361,0.048531249673251904,0.04936396219531967,0.05019194608533587,0.0510159677363606,0.05183486434193926,0.05264792549719998,0.05345493170259938,0.054255443363178356,0.0550490145175513,0.05583625787971645,0.05661819021767473,0.05739499762547199,0.058168282375243664,0.05893875203116392,0.05970708151971571,0.06047431576848124,0.06124165920061224,0.06201047765650204,0.06278088887196298,0.06355450356580428,0.06433250428698087,0.06511590183940237,0.06590591257195108,0.06670173751982547,0.06750399113454404,0.06831265045826393,0.069127449188479,0.06994874285701422,0.0707758483619097,0.07160878754502152,0.07244715215465013,0.07328781243619904,0.07413228204473243,0.07499872696543408,0.07586191115142923,0.0767228264635652,0.07758250833650643,0.07844165254445869,0.07930146032075383,0.080162454072274,0.08102455786772594,0.08188782466510815,0.08275161095651129,0.0831800200715142,0.08403301953181858,0.0848800666891946,0.08572012881164229,0.08655217316716164,0.08737516702375273,0.08818807764941551,0.08898987231215005,0.08977951827995634,0.09055598282083442,0.0913182332027843,0.09206523669380598,0.09279596056189951,0.0935093720750649,0.09420443850130217],\"type\":\"scatter3d\"},{\"marker\":{\"color\":[1279.2158847260373,1264.9894349357166,1254.8366233753463,1245.8356660882953,1237.7731378351596,1230.4638813411223,1223.755719269062,1217.4925046882033,1211.51178749562,1205.6748395916188,1199.8722586837614,1194.0214653920777,1188.051485159557,1181.8948550818088,1168.017856964487,1152.6051878432406,1142.731087442214,1132.455823929949,1121.8082999240278,1110.8255836706717,1099.5483310355896,1088.038529020828,1076.3753990289356,1064.6601041172546,1052.743242974612,1040.6203035536237,1028.5182935762546,1016.5027337379961,1004.6452020266015,993.0112226362248,981.6640735943645,970.6841314629513,960.1446253064336,950.0920915047649,940.5705583802004,931.6257780747717,923.2755798049352,915.5241327068896,908.3680462840579,901.7850762760463,895.7475957432322,890.2371580310241,885.2268102762165,880.6791770571269,876.5623396710522,872.845636774944,869.4907324866933,866.4513051410833,863.68504425823,861.1596907824805,858.8465550482216,856.7182162904983,854.7492426356205,852.9232014124306,851.2147679237704,849.5780018613066,847.9650921219451,846.343423639916,844.6959393327251,842.9986502056735,841.2245302437761,839.3455270813583,837.3378844605821,835.1951712582628,832.8959213294796,830.4031017007298,827.6968112786875,824.769394127531,821.6153059533474,818.2356394816042,814.6393684339245,810.8386189586739,806.8467559335918,802.6695841627134,798.3025160701737,793.7504918414945,789.0406389565971,784.1980140858993,779.2366774521096,774.1802045711321,769.0627228912246,763.9123589819592,758.7516421664913,753.5905450494678,748.4371147983272,743.3116886399497,738.2397344599536,733.2408665172435,728.3281771983981,723.5164774847378,718.8239665440974,714.2580856195233,709.827753755029,705.7820559029965,701.9904518628539,698.1273788687062,694.2584946507188,690.440441108939,686.7233633220072,683.1453232806664,679.7308442672145,676.489548349151,673.428421232458,665.8024271478424,659.4555757987023,658.8642740132168,658.3426734311886,657.8925608991835,657.512573284371,657.204800039666,656.9706708985809,656.8084889787935,656.7132096720476,656.6697132002998,656.6674772369053,656.7042123053651,656.7747379043924,656.8733064708973,657.088106750532,657.5689446990021,658.2070099337144,658.8219613409372,659.3894367442203,659.8849222255325,660.2837960869581,660.5613912775584,660.6930763025271,660.6543544077689,660.4209805524717,659.9690953487953,659.2753747675407,658.3171939905241,657.0728033461596,655.5215138093023,653.6438890973077,651.4219409714602,648.8393239779999,645.8815255582073,642.5360472442115,638.7925725563641,634.6431172459583,630.0821576958892,625.1067336078145],\"colorbar\":{\"title\":{\"text\":\"k value\"}},\"colorscale\":[[0.0,\"rgb(0,0,131)\"],[0.2,\"rgb(0,60,170)\"],[0.4,\"rgb(5,255,255)\"],[0.6,\"rgb(255,255,0)\"],[0.8,\"rgb(250,0,0)\"],[1.0,\"rgb(128,0,0)\"]],\"size\":4},\"mode\":\"markers\",\"x\":[0.08479049070718127,0.08430824431048552,0.08382893187419463,0.08335379752261521,0.08288384298515074,0.08242008129637404,0.08196443333497996,0.08151891090397351,0.08108470908050724,0.08066288826949539,0.08025436135090937,0.07986020519209754,0.07948079531765556,0.07911639029009197,0.07876741048252976,0.07843402967582995,0.07811648713896578,0.07781552744000914,0.07753236200393805,0.07726660550531624,0.07701896861327927,0.0767898627462947,0.07657900533363572,0.07638606434975959,0.07621215368223051,0.07605834161246759,0.07592524618772632,0.07581314155493075,0.07572280245383331,0.07565401588938861,0.07560661047838688,0.0755799360562075,0.07557351206933823,0.07558700710747066,0.07562036225120713,0.07567322148597952,0.07574480072316159,0.07583346612038158,0.07593731891347716,0.07605455415956243,0.07618392825414946,0.07632309085920393,0.07647042379738876,0.07662462367132342,0.07678388840059155,0.07694661842578768,0.07711140894336584,0.0772767056425423,0.07744040948981809,0.07760100150056447,0.07775801329300057,0.07791039545699541,0.0780575147402577,0.07819865268275467,0.07833241226312872,0.07845780723087258,0.07857371303934794,0.07867938596966956,0.07877355880440644,0.07885643041624185,0.07892799332102912,0.07898851430321428,0.07903857808783782,0.07907920203293896,0.07911097275639849,0.07913497736619622,0.07915205979614581,0.07916325112004327,0.079169793077269,0.07917313154144476,0.07917345536157976,0.07917196730777154,0.07916955229428568,0.07916656858271409,0.07916341862443992,0.07916021998418694,0.0791571913717089,0.07915404139534088,0.07915091419148026,0.07914701079067535,0.07914035125617017,0.07912993337552215,0.07911363823736606,0.07908931514462222,0.07905607344502297,0.07901253192454473,0.07895713020659796,0.07888899865711885,0.07880776880246176,0.07871251598163351,0.0786026831909899,0.07847847600666057,0.07833963404833572,0.0781868328091582,0.07802108213587966,0.07784304370023978,0.0776537749232681,0.07745430373655442,0.07724548346265188,0.07702856077414574,0.0768052717322339,0.07657697471142592,0.0763455649062734,0.07611342148593722,0.0758821948585867,0.07565371782606847,0.0754295637614547,0.07520996656334356,0.07499452990420194,0.07478390749564369,0.07457842468521517,0.07437751048396726,0.07418140527216735,0.07399012568773482,0.0738025222067757,0.07361755504125891,0.07343460835742845,0.07324923996367506,0.07306193582351792,0.0728659717451189,0.07266853687683043,0.07246917650237311,0.07226822762757386,0.0720653112904973,0.07185995278251847,0.0716518021632758,0.07143991884474266,0.07122344348757799,0.07100190513212874,0.0708842521485278,0.07064040919298731,0.07038406049468389,0.07011385834363662,0.06982845502986457,0.06952650284338681,0.06920665407422241,0.06886756101239047,0.06850787594791005,0.06812625117080023,0.06772133897108008,0.0672917916387687,0.06683626146388512,0.06635340073644846,0.06584186174647777],\"y\":[0.08071433749023225,0.08081608435386017,0.08089637474131453,0.08095474934557421,0.08098969672754118,0.08100024673227604,0.0809860396952343,0.08094688062081265,0.08088194634676638,0.08079126092219419,0.08067458688560905,0.0805315893421499,0.08036124626648533,0.08016338201480276,0.07993748832559487,0.07968413641102506,0.07940329185094322,0.07909457607920521,0.07875775240910579,0.07839354311861439,0.07800260278641406,0.0775852256205168,0.07714177878627032,0.07667256306175396,0.07617979745273408,0.07566496674106948,0.0751290981818585,0.07457330634127073,0.07399936289383602,0.07340791114287216,0.0727997501246261,0.0721755581857902,0.07153589993130056,0.07088260485541617,0.0702178084684438,0.06954232321331158,0.06885667118518998,0.06816180879785402,0.06745840941406073,0.06674720990060873,0.06602789924889065,0.06530110326979167,0.06456806168256055,0.0638302356625389,0.06308783931877202,0.06234094735338718,0.061590210544717354,0.06083568086165628,0.06007794998989461,0.059316911577337136,0.05855225592202567,0.05778463544456696,0.05701499011887702,0.05624397706549163,0.055470756851873866,0.054695126529904214,0.0539167965936133,0.05313518389580657,0.0523492116828145,0.051558392327134384,0.05076173938332691,0.049959204202092156,0.04915088086309393,0.048336123615520574,0.04751413284847513,0.04668431514584901,0.04584639467443567,0.044999850024814485,0.044144451276420985,0.043280141682053776,0.042407822353937245,0.04152680547881045,0.04063723076425419,0.03973876366794232,0.03883175611230789,0.03791602756007237,0.036990996259595524,0.03605629830162579,0.03511186743197788,0.03415632737211588,0.03319008044431388,0.03221300645879747,0.031224686083476196,0.03022354536005901,0.029209352954164148,0.028181754392543494,0.027140117886143032,0.02608374955458529,0.02501181781507808,0.023923712587636283,0.02281950713046977,0.02169928372125208,0.020563407901404634,0.01941218175755827,0.018245323461511906,0.017063263962433538,0.01586689396192626,0.014656788681090587,0.013434594088287588,0.01220161561392345,0.010959654592337652,0.009710108092405323,0.008454101994596916,0.007193493051271397,0.0059295641979502794,0.004663105392189027,0.0033943203841990104,0.002124643570667532,0.0008547753185453448,-0.0004138402147591987,-0.001681283367999148,-0.00294799313155261,-0.0042144658598399064,-0.00548082436933492,-0.006747491726317084,-0.008014653195388336,-0.00928352808001864,-0.010555091998045298,-0.011829509593767003,-0.013135677196340206,-0.014435068376393774,-0.01572913026627715,-0.0170192471705987,-0.018306955528749915,-0.019593299336665305,-0.020878767977518607,-0.022163944835188774,-0.023448888942169524,-0.024734354226612524,-0.025377963153509868,-0.026666203913960913,-0.027956083135690743,-0.02924793032158126,-0.030542074974514347,-0.031838846597371906,-0.033138574693035834,-0.03444158876438802,-0.035748218314310354,-0.03705879284568474,-0.03837364186139306,-0.03969309486431723,-0.04101748135733912,-0.04234713084334063,-0.04368237282520365],\"z\":[-0.02105292671498687,-0.02044119197730596,-0.019816244929653098,-0.019178359344603386,-0.0185284726929868,-0.01786668807929973,-0.017193673500278502,-0.016511045945151348,-0.01581946922783874,-0.015119238611420666,-0.01441132574531544,-0.013696699859771967,-0.012976468954401313,-0.01225110586596958,-0.01152112190657938,-0.010786175577820266,-0.010046628334643535,-0.00930300655011298,-0.008555332661280479,-0.007803964038191349,-0.007049047352458484,-0.006290591664341284,-0.005528378197713534,-0.004762221287075369,-0.003991331385577154,-0.003215603033642659,-0.002435006007000716,-0.0016487936824015215,-0.0008572349504108864,-6.052101773877346e-05,0.0007411629111708222,0.0015479091556327095,0.002360177242035207,0.003177861845407062,0.004001185476486236,0.004829373189047087,0.0056620185868166036,0.006499319563040868,0.007341124813480507,0.00818696664705056,0.0090363185279691,0.009889208210776507,0.010745486448694165,0.011604944042672434,0.012467472461993982,0.013332064465934032,0.014198178612266198,0.015064490735211588,0.015930758067166727,0.016796801468605762,0.01766241343318739,0.01852755059215145,0.019391865869435997,0.02025576058796614,0.02111883929932637,0.021981318513383766,0.022843559664966543,0.023705187108021507,0.024566333151844203,0.025427022991916223,0.02628785307870766,0.027149650314951212,0.028012178483283506,0.028875838283701175,0.029739932274840227,0.03060412561421892,0.031468104189367706,0.03233205435085985,0.03319512326843964,0.03405709100175774,0.03491849336681454,0.03577897324878151,0.03663860826522663,0.03749722394641067,0.038354665100741335,0.039210673662784745,0.04006451790876011,0.04091735594849054,0.041768597058939316,0.0426190256660906,0.04346870574430012,0.044317419185731705,0.04516499682879175,0.04601032185965281,0.04685368973269119,0.04769413886862361,0.048531249673251904,0.04936396219531967,0.05019194608533587,0.0510159677363606,0.05183486434193926,0.05264792549719998,0.05345493170259938,0.054255443363178356,0.0550490145175513,0.05583625787971645,0.05661819021767473,0.05739499762547199,0.058168282375243664,0.05893875203116392,0.05970708151971571,0.06047431576848124,0.06124165920061224,0.06201047765650204,0.06278088887196298,0.06355450356580428,0.06433250428698087,0.06511590183940237,0.06590591257195108,0.06670173751982547,0.06750399113454404,0.06831265045826393,0.069127449188479,0.06994874285701422,0.0707758483619097,0.07160878754502152,0.07244715215465013,0.07328781243619904,0.07413228204473243,0.07499872696543408,0.07586191115142923,0.0767228264635652,0.07758250833650643,0.07844165254445869,0.07930146032075383,0.080162454072274,0.08102455786772594,0.08188782466510815,0.08275161095651129,0.0831800200715142,0.08403301953181858,0.0848800666891946,0.08572012881164229,0.08655217316716164,0.08737516702375273,0.08818807764941551,0.08898987231215005,0.08977951827995634,0.09055598282083442,0.0913182332027843,0.09206523669380598,0.09279596056189951,0.0935093720750649,0.09420443850130217],\"type\":\"scatter3d\"}],                        {\"template\":{\"data\":{\"histogram2dcontour\":[{\"type\":\"histogram2dcontour\",\"colorbar\":{\"outlinewidth\":0,\"ticks\":\"\"},\"colorscale\":[[0.0,\"#0d0887\"],[0.1111111111111111,\"#46039f\"],[0.2222222222222222,\"#7201a8\"],[0.3333333333333333,\"#9c179e\"],[0.4444444444444444,\"#bd3786\"],[0.5555555555555556,\"#d8576b\"],[0.6666666666666666,\"#ed7953\"],[0.7777777777777778,\"#fb9f3a\"],[0.8888888888888888,\"#fdca26\"],[1.0,\"#f0f921\"]]}],\"choropleth\":[{\"type\":\"choropleth\",\"colorbar\":{\"outlinewidth\":0,\"ticks\":\"\"}}],\"histogram2d\":[{\"type\":\"histogram2d\",\"colorbar\":{\"outlinewidth\":0,\"ticks\":\"\"},\"colorscale\":[[0.0,\"#0d0887\"],[0.1111111111111111,\"#46039f\"],[0.2222222222222222,\"#7201a8\"],[0.3333333333333333,\"#9c179e\"],[0.4444444444444444,\"#bd3786\"],[0.5555555555555556,\"#d8576b\"],[0.6666666666666666,\"#ed7953\"],[0.7777777777777778,\"#fb9f3a\"],[0.8888888888888888,\"#fdca26\"],[1.0,\"#f0f921\"]]}],\"heatmap\":[{\"type\":\"heatmap\",\"colorbar\":{\"outlinewidth\":0,\"ticks\":\"\"},\"colorscale\":[[0.0,\"#0d0887\"],[0.1111111111111111,\"#46039f\"],[0.2222222222222222,\"#7201a8\"],[0.3333333333333333,\"#9c179e\"],[0.4444444444444444,\"#bd3786\"],[0.5555555555555556,\"#d8576b\"],[0.6666666666666666,\"#ed7953\"],[0.7777777777777778,\"#fb9f3a\"],[0.8888888888888888,\"#fdca26\"],[1.0,\"#f0f921\"]]}],\"heatmapgl\":[{\"type\":\"heatmapgl\",\"colorbar\":{\"outlinewidth\":0,\"ticks\":\"\"},\"colorscale\":[[0.0,\"#0d0887\"],[0.1111111111111111,\"#46039f\"],[0.2222222222222222,\"#7201a8\"],[0.3333333333333333,\"#9c179e\"],[0.4444444444444444,\"#bd3786\"],[0.5555555555555556,\"#d8576b\"],[0.6666666666666666,\"#ed7953\"],[0.7777777777777778,\"#fb9f3a\"],[0.8888888888888888,\"#fdca26\"],[1.0,\"#f0f921\"]]}],\"contourcarpet\":[{\"type\":\"contourcarpet\",\"colorbar\":{\"outlinewidth\":0,\"ticks\":\"\"}}],\"contour\":[{\"type\":\"contour\",\"colorbar\":{\"outlinewidth\":0,\"ticks\":\"\"},\"colorscale\":[[0.0,\"#0d0887\"],[0.1111111111111111,\"#46039f\"],[0.2222222222222222,\"#7201a8\"],[0.3333333333333333,\"#9c179e\"],[0.4444444444444444,\"#bd3786\"],[0.5555555555555556,\"#d8576b\"],[0.6666666666666666,\"#ed7953\"],[0.7777777777777778,\"#fb9f3a\"],[0.8888888888888888,\"#fdca26\"],[1.0,\"#f0f921\"]]}],\"surface\":[{\"type\":\"surface\",\"colorbar\":{\"outlinewidth\":0,\"ticks\":\"\"},\"colorscale\":[[0.0,\"#0d0887\"],[0.1111111111111111,\"#46039f\"],[0.2222222222222222,\"#7201a8\"],[0.3333333333333333,\"#9c179e\"],[0.4444444444444444,\"#bd3786\"],[0.5555555555555556,\"#d8576b\"],[0.6666666666666666,\"#ed7953\"],[0.7777777777777778,\"#fb9f3a\"],[0.8888888888888888,\"#fdca26\"],[1.0,\"#f0f921\"]]}],\"mesh3d\":[{\"type\":\"mesh3d\",\"colorbar\":{\"outlinewidth\":0,\"ticks\":\"\"}}],\"scatter\":[{\"fillpattern\":{\"fillmode\":\"overlay\",\"size\":10,\"solidity\":0.2},\"type\":\"scatter\"}],\"parcoords\":[{\"type\":\"parcoords\",\"line\":{\"colorbar\":{\"outlinewidth\":0,\"ticks\":\"\"}}}],\"scatterpolargl\":[{\"type\":\"scatterpolargl\",\"marker\":{\"colorbar\":{\"outlinewidth\":0,\"ticks\":\"\"}}}],\"bar\":[{\"error_x\":{\"color\":\"#2a3f5f\"},\"error_y\":{\"color\":\"#2a3f5f\"},\"marker\":{\"line\":{\"color\":\"#E5ECF6\",\"width\":0.5},\"pattern\":{\"fillmode\":\"overlay\",\"size\":10,\"solidity\":0.2}},\"type\":\"bar\"}],\"scattergeo\":[{\"type\":\"scattergeo\",\"marker\":{\"colorbar\":{\"outlinewidth\":0,\"ticks\":\"\"}}}],\"scatterpolar\":[{\"type\":\"scatterpolar\",\"marker\":{\"colorbar\":{\"outlinewidth\":0,\"ticks\":\"\"}}}],\"histogram\":[{\"marker\":{\"pattern\":{\"fillmode\":\"overlay\",\"size\":10,\"solidity\":0.2}},\"type\":\"histogram\"}],\"scattergl\":[{\"type\":\"scattergl\",\"marker\":{\"colorbar\":{\"outlinewidth\":0,\"ticks\":\"\"}}}],\"scatter3d\":[{\"type\":\"scatter3d\",\"line\":{\"colorbar\":{\"outlinewidth\":0,\"ticks\":\"\"}},\"marker\":{\"colorbar\":{\"outlinewidth\":0,\"ticks\":\"\"}}}],\"scattermapbox\":[{\"type\":\"scattermapbox\",\"marker\":{\"colorbar\":{\"outlinewidth\":0,\"ticks\":\"\"}}}],\"scatterternary\":[{\"type\":\"scatterternary\",\"marker\":{\"colorbar\":{\"outlinewidth\":0,\"ticks\":\"\"}}}],\"scattercarpet\":[{\"type\":\"scattercarpet\",\"marker\":{\"colorbar\":{\"outlinewidth\":0,\"ticks\":\"\"}}}],\"carpet\":[{\"aaxis\":{\"endlinecolor\":\"#2a3f5f\",\"gridcolor\":\"white\",\"linecolor\":\"white\",\"minorgridcolor\":\"white\",\"startlinecolor\":\"#2a3f5f\"},\"baxis\":{\"endlinecolor\":\"#2a3f5f\",\"gridcolor\":\"white\",\"linecolor\":\"white\",\"minorgridcolor\":\"white\",\"startlinecolor\":\"#2a3f5f\"},\"type\":\"carpet\"}],\"table\":[{\"cells\":{\"fill\":{\"color\":\"#EBF0F8\"},\"line\":{\"color\":\"white\"}},\"header\":{\"fill\":{\"color\":\"#C8D4E3\"},\"line\":{\"color\":\"white\"}},\"type\":\"table\"}],\"barpolar\":[{\"marker\":{\"line\":{\"color\":\"#E5ECF6\",\"width\":0.5},\"pattern\":{\"fillmode\":\"overlay\",\"size\":10,\"solidity\":0.2}},\"type\":\"barpolar\"}],\"pie\":[{\"automargin\":true,\"type\":\"pie\"}]},\"layout\":{\"autotypenumbers\":\"strict\",\"colorway\":[\"#636efa\",\"#EF553B\",\"#00cc96\",\"#ab63fa\",\"#FFA15A\",\"#19d3f3\",\"#FF6692\",\"#B6E880\",\"#FF97FF\",\"#FECB52\"],\"font\":{\"color\":\"#2a3f5f\"},\"hovermode\":\"closest\",\"hoverlabel\":{\"align\":\"left\"},\"paper_bgcolor\":\"white\",\"plot_bgcolor\":\"#E5ECF6\",\"polar\":{\"bgcolor\":\"#E5ECF6\",\"angularaxis\":{\"gridcolor\":\"white\",\"linecolor\":\"white\",\"ticks\":\"\"},\"radialaxis\":{\"gridcolor\":\"white\",\"linecolor\":\"white\",\"ticks\":\"\"}},\"ternary\":{\"bgcolor\":\"#E5ECF6\",\"aaxis\":{\"gridcolor\":\"white\",\"linecolor\":\"white\",\"ticks\":\"\"},\"baxis\":{\"gridcolor\":\"white\",\"linecolor\":\"white\",\"ticks\":\"\"},\"caxis\":{\"gridcolor\":\"white\",\"linecolor\":\"white\",\"ticks\":\"\"}},\"coloraxis\":{\"colorbar\":{\"outlinewidth\":0,\"ticks\":\"\"}},\"colorscale\":{\"sequential\":[[0.0,\"#0d0887\"],[0.1111111111111111,\"#46039f\"],[0.2222222222222222,\"#7201a8\"],[0.3333333333333333,\"#9c179e\"],[0.4444444444444444,\"#bd3786\"],[0.5555555555555556,\"#d8576b\"],[0.6666666666666666,\"#ed7953\"],[0.7777777777777778,\"#fb9f3a\"],[0.8888888888888888,\"#fdca26\"],[1.0,\"#f0f921\"]],\"sequentialminus\":[[0.0,\"#0d0887\"],[0.1111111111111111,\"#46039f\"],[0.2222222222222222,\"#7201a8\"],[0.3333333333333333,\"#9c179e\"],[0.4444444444444444,\"#bd3786\"],[0.5555555555555556,\"#d8576b\"],[0.6666666666666666,\"#ed7953\"],[0.7777777777777778,\"#fb9f3a\"],[0.8888888888888888,\"#fdca26\"],[1.0,\"#f0f921\"]],\"diverging\":[[0,\"#8e0152\"],[0.1,\"#c51b7d\"],[0.2,\"#de77ae\"],[0.3,\"#f1b6da\"],[0.4,\"#fde0ef\"],[0.5,\"#f7f7f7\"],[0.6,\"#e6f5d0\"],[0.7,\"#b8e186\"],[0.8,\"#7fbc41\"],[0.9,\"#4d9221\"],[1,\"#276419\"]]},\"xaxis\":{\"gridcolor\":\"white\",\"linecolor\":\"white\",\"ticks\":\"\",\"title\":{\"standoff\":15},\"zerolinecolor\":\"white\",\"automargin\":true,\"zerolinewidth\":2},\"yaxis\":{\"gridcolor\":\"white\",\"linecolor\":\"white\",\"ticks\":\"\",\"title\":{\"standoff\":15},\"zerolinecolor\":\"white\",\"automargin\":true,\"zerolinewidth\":2},\"scene\":{\"xaxis\":{\"backgroundcolor\":\"#E5ECF6\",\"gridcolor\":\"white\",\"linecolor\":\"white\",\"showbackground\":true,\"ticks\":\"\",\"zerolinecolor\":\"white\",\"gridwidth\":2},\"yaxis\":{\"backgroundcolor\":\"#E5ECF6\",\"gridcolor\":\"white\",\"linecolor\":\"white\",\"showbackground\":true,\"ticks\":\"\",\"zerolinecolor\":\"white\",\"gridwidth\":2},\"zaxis\":{\"backgroundcolor\":\"#E5ECF6\",\"gridcolor\":\"white\",\"linecolor\":\"white\",\"showbackground\":true,\"ticks\":\"\",\"zerolinecolor\":\"white\",\"gridwidth\":2}},\"shapedefaults\":{\"line\":{\"color\":\"#2a3f5f\"}},\"annotationdefaults\":{\"arrowcolor\":\"#2a3f5f\",\"arrowhead\":0,\"arrowwidth\":1},\"geo\":{\"bgcolor\":\"white\",\"landcolor\":\"#E5ECF6\",\"subunitcolor\":\"white\",\"showland\":true,\"showlakes\":true,\"lakecolor\":\"white\"},\"title\":{\"x\":0.05},\"mapbox\":{\"style\":\"light\"}}}},                        {\"responsive\": true}                    ).then(function(){\n",
       "                            \n",
       "var gd = document.getElementById('69f06287-9c4b-4634-af5f-85af7de934c9');\n",
       "var x = new MutationObserver(function (mutations, observer) {{\n",
       "        var display = window.getComputedStyle(gd).display;\n",
       "        if (!display || display === 'none') {{\n",
       "            console.log([gd, 'removed!']);\n",
       "            Plotly.purge(gd);\n",
       "            observer.disconnect();\n",
       "        }}\n",
       "}});\n",
       "\n",
       "// Listen for the removal of the full notebook cells\n",
       "var notebookContainer = gd.closest('#notebook-container');\n",
       "if (notebookContainer) {{\n",
       "    x.observe(notebookContainer, {childList: true});\n",
       "}}\n",
       "\n",
       "// Listen for the clearing of the current output cell\n",
       "var outputEl = gd.closest('.output');\n",
       "if (outputEl) {{\n",
       "    x.observe(outputEl, {childList: true});\n",
       "}}\n",
       "\n",
       "                        })                };                });            </script>        </div>"
      ]
     },
     "metadata": {},
     "output_type": "display_data"
    }
   ],
   "source": [
    "f = go.Figure()\n",
    "com = chaser_com_smooth\n",
    "fig.add_trace(go.Scatter3d(x = com[25:,0]\n",
    "                 , y = com[25:,1]\n",
    "                 , z = com[25:,2]\n",
    "                 , mode = 'markers'\n",
    "                 , marker = dict(size=4\n",
    "                                 , color=k_cr[25:], colorscale = 'jet'\n",
    "                                       ,colorbar=dict(title='k value')  # Add colorbar with title\n",
    "                                       )))"
   ]
  },
  {
   "cell_type": "code",
   "execution_count": 25,
   "id": "629df60a",
   "metadata": {},
   "outputs": [
    {
     "data": {
      "image/png": "[encoded data removed]",
      "text/plain": [
       "<Figure size 640x480 with 1 Axes>"
      ]
     },
     "metadata": {},
     "output_type": "display_data"
    },
    {
     "data": {
      "image/png": "[encoded data removed]",
      "text/plain": [
       "<Figure size 640x480 with 1 Axes>"
      ]
     },
     "metadata": {},
     "output_type": "display_data"
    },
    {
     "data": {
      "text/plain": [
       "[<matplotlib.lines.Line2D at 0x1c58b9b06a0>]"
      ]
     },
     "execution_count": 25,
     "metadata": {},
     "output_type": "execute_result"
    },
    {
     "data": {
      "image/png": "[encoded data removed]",
      "text/plain": [
       "<Figure size 640x480 with 1 Axes>"
      ]
     },
     "metadata": {},
     "output_type": "display_data"
    }
   ],
   "source": [
    "import matplotlib.pyplot as plt\n",
    "plt.plot(t_cr[25:])\n",
    "plt.show()\n",
    "plt.plot(ds_cr[25:])\n",
    "plt.show()\n",
    "plt.plot(k_cr[25:], 'or')"
   ]
  },
  {
   "cell_type": "code",
   "execution_count": null,
   "id": "165e7b22",
   "metadata": {},
   "outputs": [],
   "source": []
  }
 ],
 "metadata": {
  "kernelspec": {
   "display_name": "Python 3 (ipykernel)",
   "language": "python",
   "name": "python3"
  },
  "language_info": {
   "codemirror_mode": {
    "name": "ipython",
    "version": 3
   },
   "file_extension": ".py",
   "mimetype": "text/x-python",
   "name": "python",
   "nbconvert_exporter": "python",
   "pygments_lexer": "ipython3",
   "version": "3.10.9"
  }
 },
 "nbformat": 4,
 "nbformat_minor": 5
}
