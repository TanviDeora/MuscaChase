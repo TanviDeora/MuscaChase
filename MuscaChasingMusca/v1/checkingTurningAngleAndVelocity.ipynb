{
 "cells": [
  {
   "cell_type": "code",
   "execution_count": 1,
   "id": "3ab00440",
   "metadata": {},
   "outputs": [],
   "source": [
    "import pandas as pd\n",
    "import numpy as np\n",
    "import pandas as pd\n",
    "import glob"
   ]
  },
  {
   "cell_type": "code",
   "execution_count": 2,
   "id": "57e96f5e",
   "metadata": {},
   "outputs": [],
   "source": [
    "import plotly.graph_objects as go\n",
    "from plotly.subplots import make_subplots\n",
    "\n",
    "from scipy import signal"
   ]
  },
  {
   "cell_type": "code",
   "execution_count": 4,
   "id": "c475236d",
   "metadata": {},
   "outputs": [
    {
     "data": {
      "text/plain": [
       "['./../../dataFolders/MuscaChasingMusca/Outputs/Sampled_1k/ChaseParameters_v1\\\\2023-04-19_Trial7_Set1_5k_ChaseErrorAngle_TurningAngle.csv',\n",
       " './../../dataFolders/MuscaChasingMusca/Outputs/Sampled_1k/ChaseParameters_v1\\\\2023-04-21_Trial6_1k_ChaseErrorAngle_TurningAngle.csv',\n",
       " './../../dataFolders/MuscaChasingMusca/Outputs/Sampled_1k/ChaseParameters_v1\\\\2023-04-21_Trial7_1k_ChaseErrorAngle_TurningAngle.csv',\n",
       " './../../dataFolders/MuscaChasingMusca/Outputs/Sampled_1k/ChaseParameters_v1\\\\2023-04-28_Trial4_5k_ChaseErrorAngle_TurningAngle.csv',\n",
       " './../../dataFolders/MuscaChasingMusca/Outputs/Sampled_1k/ChaseParameters_v1\\\\2023-04-28_Trial5_5k_ChaseErrorAngle_TurningAngle.csv',\n",
       " './../../dataFolders/MuscaChasingMusca/Outputs/Sampled_1k/ChaseParameters_v1\\\\2023-04-28_Trial8_1k_ChaseErrorAngle_TurningAngle.csv']"
      ]
     },
     "execution_count": 4,
     "metadata": {},
     "output_type": "execute_result"
    }
   ],
   "source": [
    "chase_param = glob.glob('./../../dataFolders/MuscaChasingMusca/Outputs/Sampled_1k/ChaseParameters_v1/*ChaseError*.csv')\n",
    "chase_param"
   ]
  },
  {
   "cell_type": "code",
   "execution_count": 5,
   "id": "2def06a2",
   "metadata": {},
   "outputs": [
    {
     "data": {
      "text/plain": [
       "['./../../dataFolders/MuscaChasingMusca/Outputs/Sampled_1k/COM\\\\2023-04-19_Trial7_Set1_5k_smoothened_interpol_COM.csv',\n",
       " './../../dataFolders/MuscaChasingMusca/Outputs/Sampled_1k/COM\\\\2023-04-21_Trial6_1k_smoothened_interpol_COM.csv',\n",
       " './../../dataFolders/MuscaChasingMusca/Outputs/Sampled_1k/COM\\\\2023-04-21_Trial7_1k_smoothened_interpol_COM.csv',\n",
       " './../../dataFolders/MuscaChasingMusca/Outputs/Sampled_1k/COM\\\\2023-04-28_Trial4_5k_smoothened_interpol_COM.csv',\n",
       " './../../dataFolders/MuscaChasingMusca/Outputs/Sampled_1k/COM\\\\2023-04-28_Trial5_5k_smoothened_interpol_COM.csv',\n",
       " './../../dataFolders/MuscaChasingMusca/Outputs/Sampled_1k/COM\\\\2023-04-28_Trial8_1k_smoothened_interpol_COM.csv']"
      ]
     },
     "execution_count": 5,
     "metadata": {},
     "output_type": "execute_result"
    }
   ],
   "source": [
    "raw_positions = glob.glob('./../../dataFolders/MuscaChasingMusca/Outputs/Sampled_1k/COM/*COM.csv')\n",
    "raw_positions"
   ]
  },
  {
   "cell_type": "code",
   "execution_count": 6,
   "id": "72a3530a",
   "metadata": {},
   "outputs": [],
   "source": [
    "framerate = 1000 # sampled at 100fps"
   ]
  },
  {
   "cell_type": "code",
   "execution_count": 9,
   "id": "cad678a1",
   "metadata": {},
   "outputs": [
    {
     "name": "stdout",
     "output_type": "stream",
     "text": [
      "firstname\n",
      "age\n"
     ]
    },
    {
     "name": "stderr",
     "output_type": "stream",
     "text": [
      "C:\\Users\\tanvi.deora\\AppData\\Local\\Temp\\ipykernel_17312\\2194079900.py:10: FutureWarning: iteritems is deprecated and will be removed in a future version. Use .items instead.\n",
      "  for x, y in df.iteritems():\n"
     ]
    }
   ],
   "source": [
    "import pandas as pd\n",
    "\n",
    "data = {\n",
    "  \"firstname\": [\"Sally\", \"Mary\", \"John\"],\n",
    "  \"age\": [50, 40, 30]\n",
    "}\n",
    "\n",
    "df = pd.DataFrame(data)\n",
    "\n",
    "for x, y in df.iteritems():\n",
    "  print(x)"
   ]
  },
  {
   "cell_type": "code",
   "execution_count": null,
   "id": "8df1d7de",
   "metadata": {},
   "outputs": [],
   "source": [
    "for chase in chase_param[0:1]:\n",
    "    chase_df = pd.read_csv(chase)\n",
    "    #     name = chase.split('\\\\')[1][:-53]\n",
    "    name = chase.split('\\\\')[1][:-33]\n",
    "\n",
    "    # speed_list = [speed for speed in speed_param if name  in speed]\n",
    "    # angular_speed_df = pd.read_csv([s for s in speed_list if \"Anglular\" in s][0])\n",
    "    # linear_speed_df = pd.read_csv([s for s in speed_list if 'Linear' in s][0])\n",
    "\n",
    "    com_df = pd.read_csv([com for com in raw_positions if name in com][0])\n",
    "\n",
    "    time_Axis = np.arange(len(chase_df))* 1e3/framerate # in milliseconds"
   ]
  }
 ],
 "metadata": {
  "kernelspec": {
   "display_name": "Python 3 (ipykernel)",
   "language": "python",
   "name": "python3"
  },
  "language_info": {
   "codemirror_mode": {
    "name": "ipython",
    "version": 3
   },
   "file_extension": ".py",
   "mimetype": "text/x-python",
   "name": "python",
   "nbconvert_exporter": "python",
   "pygments_lexer": "ipython3",
   "version": "3.10.9"
  }
 },
 "nbformat": 4,
 "nbformat_minor": 5
}
