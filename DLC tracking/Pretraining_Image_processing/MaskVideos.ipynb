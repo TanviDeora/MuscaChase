{
 "cells": [
  {
   "cell_type": "code",
   "execution_count": 1,
   "id": "a529f4d9",
   "metadata": {},
   "outputs": [],
   "source": [
    "import os\n",
    "import pandas as pd\n",
    "import glob\n",
    "import cv2"
   ]
  },
  {
   "cell_type": "code",
   "execution_count": 2,
   "id": "87848ca8",
   "metadata": {},
   "outputs": [
    {
     "data": {
      "text/html": [
       "<div>\n",
       "<style scoped>\n",
       "    .dataframe tbody tr th:only-of-type {\n",
       "        vertical-align: middle;\n",
       "    }\n",
       "\n",
       "    .dataframe tbody tr th {\n",
       "        vertical-align: top;\n",
       "    }\n",
       "\n",
       "    .dataframe thead th {\n",
       "        text-align: right;\n",
       "    }\n",
       "</style>\n",
       "<table border=\"1\" class=\"dataframe\">\n",
       "  <thead>\n",
       "    <tr style=\"text-align: right;\">\n",
       "      <th></th>\n",
       "      <th>Filename</th>\n",
       "      <th>Date of experiment</th>\n",
       "      <th>Framerate</th>\n",
       "      <th>No. of intact males in the box</th>\n",
       "      <th>No. of ablated males in the box</th>\n",
       "      <th>No. of females in the box</th>\n",
       "      <th>Marking on the ablated males</th>\n",
       "      <th>Marking on the females</th>\n",
       "      <th>Date of collection of flies</th>\n",
       "      <th>Cameras used</th>\n",
       "      <th>...</th>\n",
       "      <th>Digitizer</th>\n",
       "      <th>Digitization status</th>\n",
       "      <th>BodyMarked</th>\n",
       "      <th>start, stop on DLTdv</th>\n",
       "      <th>start frame number, cine video</th>\n",
       "      <th>end frame number, cine video</th>\n",
       "      <th>difference</th>\n",
       "      <th>DURATION OF CHASE</th>\n",
       "      <th>Caught?</th>\n",
       "      <th>Unnamed: 24</th>\n",
       "    </tr>\n",
       "  </thead>\n",
       "  <tbody>\n",
       "    <tr>\n",
       "      <th>81</th>\n",
       "      <td>2023-04-19_Trial1_Set1_5k_16024.cine</td>\n",
       "      <td>2023-04-19</td>\n",
       "      <td>5000</td>\n",
       "      <td>10</td>\n",
       "      <td>10</td>\n",
       "      <td>5</td>\n",
       "      <td>Horizontal Line</td>\n",
       "      <td>Dot</td>\n",
       "      <td>2023-04-19</td>\n",
       "      <td>16024_20654_20655</td>\n",
       "      <td>...</td>\n",
       "      <td>NaN</td>\n",
       "      <td>NaN</td>\n",
       "      <td>Yes, Tanvi</td>\n",
       "      <td>70, 786</td>\n",
       "      <td>already chasing when filming began</td>\n",
       "      <td>-10362.0</td>\n",
       "      <td>#VALUE!</td>\n",
       "      <td>#VALUE!</td>\n",
       "      <td>yes (II)</td>\n",
       "      <td>NaN</td>\n",
       "    </tr>\n",
       "  </tbody>\n",
       "</table>\n",
       "<p>1 rows × 25 columns</p>\n",
       "</div>"
      ],
      "text/plain": [
       "                                Filename Date of experiment Framerate  \\\n",
       "81  2023-04-19_Trial1_Set1_5k_16024.cine         2023-04-19      5000   \n",
       "\n",
       "   No. of intact males in the box No. of ablated males in the box  \\\n",
       "81                             10                              10   \n",
       "\n",
       "   No. of females in the box Marking on the ablated males  \\\n",
       "81                         5              Horizontal Line   \n",
       "\n",
       "   Marking on the females Date of collection of flies       Cameras used  ...  \\\n",
       "81                    Dot                  2023-04-19  16024_20654_20655  ...   \n",
       "\n",
       "   Digitizer Digitization status  BodyMarked start, stop on DLTdv  \\\n",
       "81       NaN                 NaN  Yes, Tanvi              70, 786   \n",
       "\n",
       "        start frame number, cine video end frame number, cine video  \\\n",
       "81  already chasing when filming began                     -10362.0   \n",
       "\n",
       "   difference DURATION OF CHASE   Caught? Unnamed: 24  \n",
       "81    #VALUE!           #VALUE!  yes (II)         NaN  \n",
       "\n",
       "[1 rows x 25 columns]"
      ]
     },
     "execution_count": 2,
     "metadata": {},
     "output_type": "execute_result"
    }
   ],
   "source": [
    "# information about the videos that are to be masked - use datasheet on Drive - csv file\n",
    "seq_info = r\"G:\\.shortcut-targets-by-id\\11AE4tEztgQ4SLqv4eoIUjjTJQvPkhRNy\\MuscaChase\\Musca-Musca_Chase_AnimalChart_experimentNotes.csv\"\n",
    "temp = pd.read_csv(seq_info)\n",
    "videos = temp[(temp.BodyMarked.notnull())]\n",
    "videos"
   ]
  },
  {
   "cell_type": "code",
   "execution_count": 31,
   "id": "4e15fcc9",
   "metadata": {},
   "outputs": [],
   "source": [
    "cam1_path = r\"D:\\Musca Chase\\2023-04-19_Musca chase_Highspeed\\2023-04-19_Trial1_Set1_5k_16024.avi\"\n",
    "cam2_path = r\"D:\\Musca Chase\\2023-04-19_Musca chase_Highspeed\\2023-04-19_Trial1_Set1_5k_20654.avi\"\n",
    "cam3_path = r\"D:\\Musca Chase\\2023-04-19_Musca chase_Highspeed\\2023-04-19_Trial1_Set1_5k_20655.avi\"\n",
    "camlist = [cam1_path, cam2_path, cam3_path]\n",
    "\n",
    "DLTxypoints_path = r\"G:\\.shortcut-targets-by-id\\11AE4tEztgQ4SLqv4eoIUjjTJQvPkhRNy\\MuscaChase\\MS_Analysis\\MuscaChasingMusca\\preprocessing_image\\\\2023_04_19-Trial1_Set1_5kxypts.csv\""
   ]
  },
  {
   "cell_type": "code",
   "execution_count": 4,
   "id": "c11f7606",
   "metadata": {},
   "outputs": [],
   "source": [
    "temp_dir = r\"../../../MuscaChase/dataFolders/MuscaChasingMusca/Preprocessing_Images/temp/\""
   ]
  },
  {
   "cell_type": "code",
   "execution_count": 19,
   "id": "4a07a2bc",
   "metadata": {},
   "outputs": [
    {
     "data": {
      "text/plain": [
       "-1"
      ]
     },
     "execution_count": 19,
     "metadata": {},
     "output_type": "execute_result"
    }
   ],
   "source": [
    "total_frames"
   ]
  },
  {
   "cell_type": "code",
   "execution_count": 32,
   "id": "ec939df8",
   "metadata": {},
   "outputs": [
    {
     "data": {
      "text/plain": [
       "-1"
      ]
     },
     "execution_count": 32,
     "metadata": {},
     "output_type": "execute_result"
    }
   ],
   "source": [
    "cap = cv2.VideoCapture(camlist[0])\n",
    "\n",
    "# Get video properties\n",
    "frame_width = int(cap.get(cv2.CAP_PROP_FRAME_WIDTH))\n",
    "frame_height = int(cap.get(cv2.CAP_PROP_FRAME_HEIGHT))\n",
    "fps = cap.get(cv2.CAP_PROP_FPS)\n",
    "total_frames = int(cap.get(cv2.CAP_PROP_FRAME_COUNT))\n",
    "total_frames"
   ]
  },
  {
   "cell_type": "code",
   "execution_count": 33,
   "id": "9c298bec",
   "metadata": {},
   "outputs": [
    {
     "data": {
      "text/plain": [
       "1280"
      ]
     },
     "execution_count": 33,
     "metadata": {},
     "output_type": "execute_result"
    }
   ],
   "source": [
    "frame_width"
   ]
  },
  {
   "cell_type": "code",
   "execution_count": 34,
   "id": "025475a8",
   "metadata": {},
   "outputs": [
    {
     "data": {
      "text/plain": [
       "True"
      ]
     },
     "execution_count": 34,
     "metadata": {},
     "output_type": "execute_result"
    }
   ],
   "source": [
    "cap.isOpened()"
   ]
  },
  {
   "cell_type": "code",
   "execution_count": null,
   "id": "22e490ce",
   "metadata": {},
   "outputs": [],
   "source": []
  },
  {
   "cell_type": "code",
   "execution_count": 12,
   "id": "1c8b68c5",
   "metadata": {},
   "outputs": [
    {
     "name": "stdout",
     "output_type": "stream",
     "text": [
      "oops\n"
     ]
    }
   ],
   "source": [
    "ii = 1\n",
    "for cam in camlist[0:1]:\n",
    "    # read the video\n",
    "    cap = cv2.VideoCapture(cam)\n",
    "\n",
    "    # Get video properties\n",
    "    frame_width = int(cap.get(cv2.CAP_PROP_FRAME_WIDTH))\n",
    "    frame_height = int(cap.get(cv2.CAP_PROP_FRAME_HEIGHT))\n",
    "    fps = cap.get(cv2.CAP_PROP_FPS)\n",
    "\n",
    "    #get the output video name\n",
    "    outfilename = cam.split(\"\\\\\")[-1][:-4]\n",
    "    # Define the codec and output video\n",
    "    out = cv2.VideoWriter(outfilename + '.mp4',\n",
    "                          cv2.VideoWriter_fourcc(*'mp4v'),\n",
    "                          fps,\n",
    "                          (frame_width, frame_height))\n",
    "    \n",
    "    # get the frame start and stop in the video\n",
    "    Frames = videos.loc[videos.Filename == [name for name in videos.Filename if cam.split(\"\\\\\")[-1][:-9] in name], 'start, stop on DLTdv']\n",
    "    start = int(Frames.values[0].split(',')[0])\n",
    "    stop = int(Frames.values[0].split(',')[1])\n",
    "    # Specify range\n",
    "    start_frame = start\n",
    "    end_frame = stop\n",
    "    \n",
    "    # get the coordinates for transparent rectangle\n",
    "    coords = pd.read_csv(DLTxypoints_path)\n",
    "    subset = coords.loc[start_frame:end_frame, :]\n",
    "    \n",
    "    cam_subset = subset.loc[:,[columns for columns in subset.columns if str(ii) in columns]] \n",
    "    chaser_x, chaser_y =  cam_subset.iloc[:, 0:2]\n",
    "    chasee_x, chasee_y = cam_subset.iloc[:, 2:4]\n",
    "    \n",
    "    # Set the starting point\n",
    "    cap.set(cv2.CAP_PROP_POS_FRAMES, start_frame)\n",
    "\n",
    "    current_frame = start_frame\n",
    "\n",
    "    while cap.isOpened() and current_frame < end_frame:\n",
    "        ret, frame = cap.read()\n",
    "        if not ret:\n",
    "            print('oops')\n",
    "            break\n",
    "        \n",
    "        #frame number\n",
    "        ff = 0\n",
    "        print(f'frame num {ff}')\n",
    "        \n",
    "        # Create black background\n",
    "        black_frame = np.zeros_like(frame)\n",
    "        \n",
    "#         # Parameters for transparent rectangle\n",
    "#         x, y = chaser_x[ff] - 100, chaser_y[ff] - 100    # Top-left corner of transparent area\n",
    "#         dt = 500            # Width and height of the transparent rectangle\n",
    "\n",
    "#         # Copy only the transparent rectangle from original frame\n",
    "#         black_frame[y:y+dt, x:x+dt] = frame[y:y+dt, x:x+dt]\n",
    "\n",
    "#         # Write the masked frame\n",
    "# #         out.write(black_frame)\n",
    "#         # Save frame as image\n",
    "#         frame_filename = os.path.join(temp_dir, f\"frame_{saved_frame_count:05d}.png\")\n",
    "#         cv2.imwrite(frame_filename, black_frame)\n",
    "#         ff+=1\n",
    "#     cap.release()\n",
    "#     out.release()\n",
    "#     cv2.destroyAllWindows()"
   ]
  },
  {
   "cell_type": "code",
   "execution_count": 14,
   "id": "5f21995e",
   "metadata": {},
   "outputs": [],
   "source": [
    "ret, frame = cap.read()"
   ]
  },
  {
   "cell_type": "code",
   "execution_count": 15,
   "id": "aeb52d78",
   "metadata": {},
   "outputs": [
    {
     "data": {
      "text/plain": [
       "False"
      ]
     },
     "execution_count": 15,
     "metadata": {},
     "output_type": "execute_result"
    }
   ],
   "source": [
    "ret"
   ]
  },
  {
   "cell_type": "code",
   "execution_count": 27,
   "id": "f6fb5a92",
   "metadata": {},
   "outputs": [
    {
     "name": "stdout",
     "output_type": "stream",
     "text": [
      "\n",
      "General configuration for OpenCV 4.6.0 =====================================\n",
      "  Version control:               unknown\n",
      "\n",
      "  Extra modules:\n",
      "    Location (extra):            C:/b/abs_d8ltn27ay8/croot/opencv-suite_1676452046667/work/opencv_contrib-4.6.0/modules\n",
      "    Version control (extra):     unknown\n",
      "\n",
      "  Platform:\n",
      "    Timestamp:                   2023-02-15T12:02:59Z\n",
      "    Host:                        Windows 10.0.17763 AMD64\n",
      "    CMake:                       3.22.1\n",
      "    CMake generator:             Ninja\n",
      "    CMake build tool:            C:/b/abs_d8ltn27ay8/croot/opencv-suite_1676452046667/_build_env/Library/bin/ninja.exe\n",
      "    MSVC:                        1916\n",
      "    Configuration:               Release\n",
      "\n",
      "  CPU/HW features:\n",
      "    Baseline:                    SSE SSE2 SSE3\n",
      "      requested:                 SSE3\n",
      "    Dispatched code generation:  SSE4_1 SSE4_2 FP16 AVX AVX2 AVX512_SKX\n",
      "      requested:                 SSE4_1 SSE4_2 AVX FP16 AVX2 AVX512_SKX\n",
      "      SSE4_1 (16 files):         + SSSE3 SSE4_1\n",
      "      SSE4_2 (1 files):          + SSSE3 SSE4_1 POPCNT SSE4_2\n",
      "      FP16 (0 files):            + SSSE3 SSE4_1 POPCNT SSE4_2 FP16 AVX\n",
      "      AVX (4 files):             + SSSE3 SSE4_1 POPCNT SSE4_2 AVX\n",
      "      AVX2 (31 files):           + SSSE3 SSE4_1 POPCNT SSE4_2 FP16 FMA3 AVX AVX2\n",
      "      AVX512_SKX (5 files):      + SSSE3 SSE4_1 POPCNT SSE4_2 FP16 FMA3 AVX AVX2 AVX_512F AVX512_COMMON AVX512_SKX\n",
      "\n",
      "  C/C++:\n",
      "    Built as dynamic libs?:      YES\n",
      "    C++ standard:                11\n",
      "    C++ Compiler:                C:/Program Files (x86)/Microsoft Visual Studio/2017/BuildTools/VC/Tools/MSVC/14.16.27023/bin/Hostx64/x64/cl.exe  (ver 19.16.27048.0)\n",
      "    C++ flags (Release):         /DWIN32 /D_WINDOWS /W4 /GR  /D _CRT_SECURE_NO_DEPRECATE /D _CRT_NONSTDC_NO_DEPRECATE /D _SCL_SECURE_NO_WARNINGS /Gy /bigobj /Oi  /fp:precise /FS     /EHa /wd4127 /wd4251 /wd4324 /wd4275 /wd4512 /wd4589  /MD /O2 /Ob2 /DNDEBUG \n",
      "    C++ flags (Debug):           /DWIN32 /D_WINDOWS /W4 /GR  /D _CRT_SECURE_NO_DEPRECATE /D _CRT_NONSTDC_NO_DEPRECATE /D _SCL_SECURE_NO_WARNINGS /Gy /bigobj /Oi  /fp:precise /FS     /EHa /wd4127 /wd4251 /wd4324 /wd4275 /wd4512 /wd4589  /MDd /Zi /Ob0 /Od /RTC1 \n",
      "    C Compiler:                  C:/Program Files (x86)/Microsoft Visual Studio/2017/BuildTools/VC/Tools/MSVC/14.16.27023/bin/Hostx64/x64/cl.exe\n",
      "    C flags (Release):           /DWIN32 /D_WINDOWS /W3  /D _CRT_SECURE_NO_DEPRECATE /D _CRT_NONSTDC_NO_DEPRECATE /D _SCL_SECURE_NO_WARNINGS /Gy /bigobj /Oi  /fp:precise /FS       /MD /O2 /Ob2 /DNDEBUG \n",
      "    C flags (Debug):             /DWIN32 /D_WINDOWS /W3  /D _CRT_SECURE_NO_DEPRECATE /D _CRT_NONSTDC_NO_DEPRECATE /D _SCL_SECURE_NO_WARNINGS /Gy /bigobj /Oi  /fp:precise /FS     /MDd /Zi /Ob0 /Od /RTC1 \n",
      "    Linker flags (Release):      /machine:x64  /INCREMENTAL:NO \n",
      "    Linker flags (Debug):        /machine:x64  /debug /INCREMENTAL \n",
      "    ccache:                      NO\n",
      "    Precompiled headers:         NO\n",
      "    Extra dependencies:\n",
      "    3rdparty dependencies:\n",
      "\n",
      "  OpenCV modules:\n",
      "    To be built:                 alphamat aruco barcode bgsegm calib3d ccalib core cvv datasets dnn dnn_objdetect dnn_superres dpm face features2d flann fuzzy gapi hdf hfs highgui img_hash imgcodecs imgproc intensity_transform line_descriptor mcc ml objdetect optflow phase_unwrapping photo plot python3 quality rapid reg rgbd saliency shape stereo stitching structured_light superres surface_matching text tracking video videoio videostab wechat_qrcode xfeatures2d ximgproc xobjdetect xphoto\n",
      "    Disabled:                    bioinspired world\n",
      "    Disabled by dependency:      -\n",
      "    Unavailable:                 cudaarithm cudabgsegm cudacodec cudafeatures2d cudafilters cudaimgproc cudalegacy cudaobjdetect cudaoptflow cudastereo cudawarping cudev freetype java julia matlab ovis python2 sfm ts viz\n",
      "    Applications:                apps\n",
      "    Documentation:               NO\n",
      "    Non-free algorithms:         NO\n",
      "\n",
      "  Windows RT support:            NO\n",
      "\n",
      "  GUI:                           QT5\n",
      "    QT:                          YES (ver 5.15.2 )\n",
      "      QT OpenGL support:         NO\n",
      "\n",
      "  Media I/O: \n",
      "    ZLib:                        C:/b/abs_d8ltn27ay8/croot/opencv-suite_1676452046667/_h_env/Library/lib/z.lib (ver 1.2.13)\n",
      "    JPEG:                        C:/b/abs_d8ltn27ay8/croot/opencv-suite_1676452046667/_h_env/Library/lib/jpeg.lib (ver 90)\n",
      "    WEBP:                        C:/b/abs_d8ltn27ay8/croot/opencv-suite_1676452046667/_h_env/Library/lib/libwebp.lib (ver encoder: 0x020f)\n",
      "    PNG:                         C:/b/abs_d8ltn27ay8/croot/opencv-suite_1676452046667/_h_env/Library/lib/libpng.lib (ver 1.6.37)\n",
      "    TIFF:                        C:/b/abs_d8ltn27ay8/croot/opencv-suite_1676452046667/_h_env/Library/lib/tiff.lib (ver 42 / 4.1.0)\n",
      "    OpenEXR:                     build (ver 2.3.0)\n",
      "    HDR:                         YES\n",
      "    SUNRASTER:                   YES\n",
      "    PXM:                         YES\n",
      "    PFM:                         YES\n",
      "\n",
      "  Video I/O:\n",
      "    GStreamer:                   YES (1.18.5)\n",
      "    DirectShow:                  YES\n",
      "    Media Foundation:            YES\n",
      "      DXVA:                      NO\n",
      "\n",
      "  Parallel framework:            Concurrency\n",
      "\n",
      "  Trace:                         YES (with Intel ITT)\n",
      "\n",
      "  Other third-party libraries:\n",
      "    Intel IPP:                   2020.0.0 Gold [2020.0.0]\n",
      "           at:                   C:/b/abs_d8ltn27ay8/croot/opencv-suite_1676452046667/work/build/3rdparty/ippicv/ippicv_win/icv\n",
      "    Intel IPP IW:                NO\n",
      "    Eigen:                       YES (ver 3.3.7)\n",
      "    Custom HAL:                  NO\n",
      "    Protobuf:                    C:/b/abs_d8ltn27ay8/croot/opencv-suite_1676452046667/_h_env/Library/lib/libprotobuf.lib (3.20.3)\n",
      "\n",
      "  Python 3:\n",
      "    Interpreter:                 C:/b/abs_d8ltn27ay8/croot/opencv-suite_1676452046667/_h_env/python.exe (ver 3.10.9)\n",
      "    Libraries:                   C:/b/abs_d8ltn27ay8/croot/opencv-suite_1676452046667/_h_env/libs/python310.lib (ver 3.10.9)\n",
      "    numpy:                       C:/b/abs_d8ltn27ay8/croot/opencv-suite_1676452046667/_h_env/lib/site-packages/numpy/core/include (ver 1.21.5)\n",
      "    install path:                C:\\b\\abs_d8ltn27ay8\\croot\\opencv-suite_1676452046667\\_h_env\\Lib\\site-packages\n",
      "\n",
      "  Python (for build):            C:\\b\\abs_d8ltn27ay8\\croot\\opencv-suite_1676452046667\\_h_env/python.exe\n",
      "\n",
      "  Install to:                    C:/b/abs_d8ltn27ay8/croot/opencv-suite_1676452046667/_h_env/Library\n",
      "-----------------------------------------------------------------\n",
      "\n",
      "\n"
     ]
    }
   ],
   "source": [
    "import cv2\n",
    "print(cv2.getBuildInformation())"
   ]
  },
  {
   "cell_type": "code",
   "execution_count": null,
   "id": "72841395",
   "metadata": {},
   "outputs": [],
   "source": []
  }
 ],
 "metadata": {
  "kernelspec": {
   "display_name": "Python 3 (ipykernel)",
   "language": "python",
   "name": "python3"
  },
  "language_info": {
   "codemirror_mode": {
    "name": "ipython",
    "version": 3
   },
   "file_extension": ".py",
   "mimetype": "text/x-python",
   "name": "python",
   "nbconvert_exporter": "python",
   "pygments_lexer": "ipython3",
   "version": "3.10.9"
  }
 },
 "nbformat": 4,
 "nbformat_minor": 5
}
