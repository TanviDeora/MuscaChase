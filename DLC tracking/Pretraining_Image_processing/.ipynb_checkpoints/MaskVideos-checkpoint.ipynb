{
 "cells": [
  {
   "cell_type": "code",
   "execution_count": 1,
   "id": "a529f4d9",
   "metadata": {},
   "outputs": [],
   "source": [
    "import os\n",
    "import pandas as pd\n",
    "import glob\n",
    "import cv2"
   ]
  },
  {
   "cell_type": "code",
   "execution_count": 2,
   "id": "87848ca8",
   "metadata": {},
   "outputs": [],
   "source": [
    "seq_info = r\"G:\\.shortcut-targets-by-id\\11AE4tEztgQ4SLqv4eoIUjjTJQvPkhRNy\\MuscaChase\\Musca-Musca_Chase_AnimalChart_experimentNotes.csv\""
   ]
  },
  {
   "cell_type": "code",
   "execution_count": 3,
   "id": "0023e600",
   "metadata": {},
   "outputs": [],
   "source": [
    "temp = pd.read_csv(seq_info)\n",
    "videos = temp[(temp.BodyMarked.notnull())]"
   ]
  },
  {
   "cell_type": "code",
   "execution_count": 4,
   "id": "c5e7df01",
   "metadata": {},
   "outputs": [
    {
     "data": {
      "text/html": [
       "<div>\n",
       "<style scoped>\n",
       "    .dataframe tbody tr th:only-of-type {\n",
       "        vertical-align: middle;\n",
       "    }\n",
       "\n",
       "    .dataframe tbody tr th {\n",
       "        vertical-align: top;\n",
       "    }\n",
       "\n",
       "    .dataframe thead th {\n",
       "        text-align: right;\n",
       "    }\n",
       "</style>\n",
       "<table border=\"1\" class=\"dataframe\">\n",
       "  <thead>\n",
       "    <tr style=\"text-align: right;\">\n",
       "      <th></th>\n",
       "      <th>Filename</th>\n",
       "      <th>Date of experiment</th>\n",
       "      <th>Framerate</th>\n",
       "      <th>No. of intact males in the box</th>\n",
       "      <th>No. of ablated males in the box</th>\n",
       "      <th>No. of females in the box</th>\n",
       "      <th>Marking on the ablated males</th>\n",
       "      <th>Marking on the females</th>\n",
       "      <th>Date of collection of flies</th>\n",
       "      <th>Cameras used</th>\n",
       "      <th>...</th>\n",
       "      <th>Digitizer</th>\n",
       "      <th>Digitization status</th>\n",
       "      <th>BodyMarked</th>\n",
       "      <th>start, stop on DLTdv</th>\n",
       "      <th>start frame number, cine video</th>\n",
       "      <th>end frame number, cine video</th>\n",
       "      <th>difference</th>\n",
       "      <th>DURATION OF CHASE</th>\n",
       "      <th>Caught?</th>\n",
       "      <th>Unnamed: 24</th>\n",
       "    </tr>\n",
       "  </thead>\n",
       "  <tbody>\n",
       "    <tr>\n",
       "      <th>81</th>\n",
       "      <td>2023-04-19_Trial1_Set1_5k_16024.cine</td>\n",
       "      <td>2023-04-19</td>\n",
       "      <td>5000</td>\n",
       "      <td>10</td>\n",
       "      <td>10</td>\n",
       "      <td>5</td>\n",
       "      <td>Horizontal Line</td>\n",
       "      <td>Dot</td>\n",
       "      <td>2023-04-19</td>\n",
       "      <td>16024_20654_20655</td>\n",
       "      <td>...</td>\n",
       "      <td>NaN</td>\n",
       "      <td>NaN</td>\n",
       "      <td>Yes, Tanvi</td>\n",
       "      <td>70, 786</td>\n",
       "      <td>already chasing when filming began</td>\n",
       "      <td>-10362.0</td>\n",
       "      <td>#VALUE!</td>\n",
       "      <td>#VALUE!</td>\n",
       "      <td>yes (II)</td>\n",
       "      <td>NaN</td>\n",
       "    </tr>\n",
       "  </tbody>\n",
       "</table>\n",
       "<p>1 rows × 25 columns</p>\n",
       "</div>"
      ],
      "text/plain": [
       "                                Filename Date of experiment Framerate  \\\n",
       "81  2023-04-19_Trial1_Set1_5k_16024.cine         2023-04-19      5000   \n",
       "\n",
       "   No. of intact males in the box No. of ablated males in the box  \\\n",
       "81                             10                              10   \n",
       "\n",
       "   No. of females in the box Marking on the ablated males  \\\n",
       "81                         5              Horizontal Line   \n",
       "\n",
       "   Marking on the females Date of collection of flies       Cameras used  ...  \\\n",
       "81                    Dot                  2023-04-19  16024_20654_20655  ...   \n",
       "\n",
       "   Digitizer Digitization status  BodyMarked start, stop on DLTdv  \\\n",
       "81       NaN                 NaN  Yes, Tanvi              70, 786   \n",
       "\n",
       "        start frame number, cine video end frame number, cine video  \\\n",
       "81  already chasing when filming began                     -10362.0   \n",
       "\n",
       "   difference DURATION OF CHASE   Caught? Unnamed: 24  \n",
       "81    #VALUE!           #VALUE!  yes (II)         NaN  \n",
       "\n",
       "[1 rows x 25 columns]"
      ]
     },
     "execution_count": 4,
     "metadata": {},
     "output_type": "execute_result"
    }
   ],
   "source": [
    "videos"
   ]
  },
  {
   "cell_type": "code",
   "execution_count": 59,
   "id": "4e15fcc9",
   "metadata": {},
   "outputs": [],
   "source": [
    "cam1_path = r\"D:\\Musca Chase\\2023-04-19_Musca chase_Highspeed\\2023-04-19_Trial1_Set1_5k_16024.avi\"\n",
    "cam2_path = r\"D:\\Musca Chase\\2023-04-19_Musca chase_Highspeed\\2023-04-19_Trial1_Set1_5k_20654.avi\"\n",
    "cam3_path = r\"D:\\Musca Chase\\2023-04-19_Musca chase_Highspeed\\2023-04-19_Trial1_Set1_5k_20655.avi\"\n",
    "\n",
    "DLTxypoints_path = r\"G:\\.shortcut-targets-by-id\\11AE4tEztgQ4SLqv4eoIUjjTJQvPkhRNy\\MuscaChase\\MS_Analysis\\MuscaChasingMusca\\preprocessing_image\\\\2023_04_19-Trial1_Set1_5kxypts.csv\""
   ]
  },
  {
   "cell_type": "code",
   "execution_count": 54,
   "id": "f0db989e",
   "metadata": {},
   "outputs": [],
   "source": [
    "ii = 0\n",
    "cam_path = cam1_path\n",
    "\n",
    "# get the frame start and stop in the video\n",
    "Frames = videos.loc[videos.Filename == [name for name in videos.Filename if cam_path.split(\"\\\\\")[-1][:-9] in name], 'start, stop on DLTdv']\n",
    "start = int(Frames.values[0].split(',')[0])\n",
    "stop = int(Frames.values[0].split(',')[1])"
   ]
  },
  {
   "cell_type": "code",
   "execution_count": 55,
   "id": "9e3d24ca",
   "metadata": {},
   "outputs": [
    {
     "data": {
      "text/plain": [
       "'2023-04-19_Trial1_Set1_5k_16024'"
      ]
     },
     "execution_count": 55,
     "metadata": {},
     "output_type": "execute_result"
    }
   ],
   "source": [
    "outfilename = cam_path.split(\"\\\\\")[-1][:-4]\n",
    "outfilename"
   ]
  },
  {
   "cell_type": "code",
   "execution_count": 56,
   "id": "ef6bcb21",
   "metadata": {},
   "outputs": [],
   "source": [
    "cap = cv2.VideoCapture(cam_path)\n",
    "\n",
    "# Get video properties\n",
    "frame_width = int(cap.get(cv2.CAP_PROP_FRAME_WIDTH))\n",
    "frame_height = int(cap.get(cv2.CAP_PROP_FRAME_HEIGHT))\n",
    "fps = cap.get(cv2.CAP_PROP_FPS)\n",
    "\n",
    "# Define the codec and output video\n",
    "out = cv2.VideoWriter(outfilename + '.mp4',\n",
    "                      cv2.VideoWriter_fourcc(*'mp4v'),\n",
    "                      fps,\n",
    "                      (frame_width, frame_height))"
   ]
  },
  {
   "cell_type": "code",
   "execution_count": 63,
   "id": "9acb58a8",
   "metadata": {},
   "outputs": [],
   "source": [
    "# Specify range\n",
    "start_frame = start\n",
    "end_frame = stop "
   ]
  },
  {
   "cell_type": "code",
   "execution_count": 70,
   "id": "50e76f59",
   "metadata": {},
   "outputs": [],
   "source": [
    "# get the coordinates for transparent rectangle\n",
    "coords = pd.read_csv(DLTxypoints_path)\n",
    "subset = coords.loc[start_frame:end_frame, :]"
   ]
  },
  {
   "cell_type": "code",
   "execution_count": 80,
   "id": "e0fd83fb",
   "metadata": {},
   "outputs": [
    {
     "ename": "TypeError",
     "evalue": "'Index' object is not callable",
     "output_type": "error",
     "traceback": [
      "\u001b[1;31m---------------------------------------------------------------------------\u001b[0m",
      "\u001b[1;31mTypeError\u001b[0m                                 Traceback (most recent call last)",
      "Cell \u001b[1;32mIn[80], line 2\u001b[0m\n\u001b[0;32m      1\u001b[0m ii \u001b[38;5;241m=\u001b[39m \u001b[38;5;241m3\u001b[39m\n\u001b[1;32m----> 2\u001b[0m subset\u001b[38;5;241m.\u001b[39mloc[:,[columns \u001b[38;5;28;01mfor\u001b[39;00m columns \u001b[38;5;129;01min\u001b[39;00m \u001b[43msubset\u001b[49m\u001b[38;5;241;43m.\u001b[39;49m\u001b[43mcolumns\u001b[49m\u001b[43m(\u001b[49m\u001b[43m)\u001b[49m \u001b[38;5;28;01mif\u001b[39;00m ii \u001b[38;5;129;01min\u001b[39;00m columns]]\n",
      "\u001b[1;31mTypeError\u001b[0m: 'Index' object is not callable"
     ]
    }
   ],
   "source": [
    "ii = 3\n",
    "subset.loc[:,[columns for columns in subset.columns if ii in columns]] "
   ]
  },
  {
   "cell_type": "code",
   "execution_count": null,
   "id": "ec54f6ed",
   "metadata": {},
   "outputs": [],
   "source": [
    "\n",
    "for cam in camlist[]:\n",
    "    \n",
    "    \n",
    "    chaser_x, chaser_y = "
   ]
  },
  {
   "cell_type": "code",
   "execution_count": null,
   "id": "560acdba",
   "metadata": {},
   "outputs": [],
   "source": [
    "# Parameters for transparent rectangle\n",
    "x, y = 100, 100    # Top-left corner of transparent area\n",
    "dt = 50            # Width and height of the transparent rectangle\n",
    "\n",
    "\n",
    " # Will read up to frame 199\n",
    "\n",
    "# Set the starting point\n",
    "cap.set(cv2.CAP_PROP_POS_FRAMES, start_frame)\n",
    "\n",
    "current_frame = start_frame\n",
    "\n",
    "while cap.isOpened() and current_frame < end_frame:\n",
    "    ret, frame = cap.read()\n",
    "    if not ret:\n",
    "        break"
   ]
  },
  {
   "cell_type": "code",
   "execution_count": 51,
   "id": "e84c7565",
   "metadata": {},
   "outputs": [
    {
     "data": {
      "text/plain": [
       "(70, 786)"
      ]
     },
     "execution_count": 51,
     "metadata": {},
     "output_type": "execute_result"
    }
   ],
   "source": [
    "while cap.isOpened():\n",
    "    ret, frame = cap.read()\n",
    "    if not ret:\n",
    "        break\n",
    "\n",
    "    # Create black background\n",
    "    black_frame = np.zeros_like(frame)\n",
    "\n",
    "    # Copy only the transparent rectangle from original frame\n",
    "    black_frame[y:y+dt, x:x+dt] = frame[y:y+dt, x:x+dt]\n",
    "\n",
    "    # Write the masked frame\n",
    "    out.write(black_frame)\n",
    "\n",
    "cap.release()\n",
    "out.release()\n",
    "cv2.destroyAllWindows()\n"
   ]
  }
 ],
 "metadata": {
  "kernelspec": {
   "display_name": "Python 3 (ipykernel)",
   "language": "python",
   "name": "python3"
  },
  "language_info": {
   "codemirror_mode": {
    "name": "ipython",
    "version": 3
   },
   "file_extension": ".py",
   "mimetype": "text/x-python",
   "name": "python",
   "nbconvert_exporter": "python",
   "pygments_lexer": "ipython3",
   "version": "3.10.9"
  }
 },
 "nbformat": 4,
 "nbformat_minor": 5
}
