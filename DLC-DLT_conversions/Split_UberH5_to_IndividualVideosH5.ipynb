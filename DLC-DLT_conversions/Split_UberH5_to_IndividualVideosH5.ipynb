{
 "cells": [
  {
   "cell_type": "code",
   "execution_count": 5,
   "id": "ab2be9eb",
   "metadata": {},
   "outputs": [],
   "source": [
    "import numpy as np\n",
    "import pandas as pd\n",
    "import cv2\n",
    "from pathlib import Path\n",
    "import re\n",
    "from deeplabcut.utils.auxiliaryfunctions import read_config"
   ]
  },
  {
   "cell_type": "code",
   "execution_count": 10,
   "id": "c82b93ff",
   "metadata": {},
   "outputs": [],
   "source": [
    "def extractEachVideoSeperately(h5file, config):\n",
    "    # INPUT:\n",
    "    # 1) config file\n",
    "    # 2) path to DLC h5 file which contains analysis for all videos\n",
    "    \n",
    "    cfg = read_config(config)\n",
    "    scorer = cfg['scorer']\n",
    "    bodyparts=cfg['bodyparts']\n",
    "    coords = ['x', 'y']\n",
    "    tracks=bodyparts\n",
    "\n",
    "    camdata = pd.read_hdf(h5file)\n",
    "\n",
    "    # Get unique values from the second level (by position)\n",
    "    unique_video_names = camdata.index.get_level_values(1).unique()\n",
    "\n",
    "    for val in unique_video_names:\n",
    "        subset = camdata[camdata.index.get_level_values(1) == val]\n",
    "        filename = f\"CollectedData_{val}.h5\"\n",
    "        subset.to_hdf(filename, key='camdata', mode='w')\n",
    "        print(f\"Saved {filename}\")"
   ]
  },
  {
   "cell_type": "code",
   "execution_count": 11,
   "id": "595338c5",
   "metadata": {},
   "outputs": [
    {
     "name": "stdout",
     "output_type": "stream",
     "text": [
      "Saved CollectedData_Trial1_180rpm_ablated_16024.h5\n",
      "Saved CollectedData_Trial1_180rpm_ablated_20655.h5\n",
      "Saved CollectedData_Trial1_200rpm_16024.h5\n",
      "Saved CollectedData_Trial1_200rpm_20655.h5\n",
      "Saved CollectedData_Trial7_400rpm_16024.h5\n",
      "Saved CollectedData_Trial7_400rpm_20655.h5\n"
     ]
    }
   ],
   "source": [
    "h5file = './CollectedData_Nishka.h5'\n",
    "config=Path('./config.yaml')\n",
    "extractEachVideoSeperately(h5file, config)"
   ]
  },
  {
   "cell_type": "code",
   "execution_count": null,
   "id": "b3988260",
   "metadata": {},
   "outputs": [],
   "source": []
  }
 ],
 "metadata": {
  "kernelspec": {
   "display_name": "Python [conda env:DEEPLABCUT] *",
   "language": "python",
   "name": "conda-env-DEEPLABCUT-py"
  },
  "language_info": {
   "codemirror_mode": {
    "name": "ipython",
    "version": 3
   },
   "file_extension": ".py",
   "mimetype": "text/x-python",
   "name": "python",
   "nbconvert_exporter": "python",
   "pygments_lexer": "ipython3",
   "version": "3.10.16"
  }
 },
 "nbformat": 4,
 "nbformat_minor": 5
}
